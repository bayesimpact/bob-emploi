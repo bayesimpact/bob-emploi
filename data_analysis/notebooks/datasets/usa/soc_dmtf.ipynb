{
 "cells": [
  {
   "cell_type": "markdown",
   "metadata": {},
   "source": [
    "# SOC Direct Match Title File\n",
    "\n",
    "Author: `pascal@bayesimpact.org`\n",
    "\n",
    "Date: 2020-06-19\n",
    "\n",
    "The US Bureau of Labor Statistics (BLS) is the maintainer of the [SOC](https://www.bls.gov/soc/), Standard Occupational Classification, which is the main job name classification taxonomy in the US (used by [O*net](./onet_overview.ipynb)). They also publish a specific file to match job titles to SOC as opposed as O*net where those are only there as alternate names. This notebook tries to make sense of this DMTFile in order to create a job suggest index.\n",
    "\n",
    "To build a job suggest index, we are looking for a list of job titles commonly employed to refer to a job (e.g. \"Farmer\" not \"Farmers, Ranchers and others\"). For each job title, we want to have a job group and its ID (here a SOC ID). If possible we'd also want to have a possible comparison between those job titles to promote the ones that are most used (e.g. when typing \"Data\" we would want \"Data Scientist\" to pop up before an obscure \"Naval Tactical Data System--Combat Information Center Watch Officer, General\").\n",
    "\n",
    "On their website the BLS publish the file as an XLS spreadsheet. You can download it in Bob with:\n",
    "\n",
    "```sh\n",
    "make data/usa/soc/DMTF.xlsx\n",
    "```\n",
    "\n",
    "Let's first import it and open it:"
   ]
  },
  {
   "cell_type": "code",
   "execution_count": 1,
   "metadata": {},
   "outputs": [
    {
     "data": {
      "text/html": [
       "<div>\n",
       "<style scoped>\n",
       "    .dataframe tbody tr th:only-of-type {\n",
       "        vertical-align: middle;\n",
       "    }\n",
       "\n",
       "    .dataframe tbody tr th {\n",
       "        vertical-align: top;\n",
       "    }\n",
       "\n",
       "    .dataframe thead th {\n",
       "        text-align: right;\n",
       "    }\n",
       "</style>\n",
       "<table border=\"1\" class=\"dataframe\">\n",
       "  <thead>\n",
       "    <tr style=\"text-align: right;\">\n",
       "      <th></th>\n",
       "      <th>U.S. Bureau of Labor Statistics</th>\n",
       "      <th>Unnamed: 1</th>\n",
       "      <th>Unnamed: 2</th>\n",
       "      <th>Unnamed: 3</th>\n",
       "    </tr>\n",
       "  </thead>\n",
       "  <tbody>\n",
       "    <tr>\n",
       "      <th>0</th>\n",
       "      <td>On behalf of the Office of Management and Budg...</td>\n",
       "      <td>NaN</td>\n",
       "      <td>NaN</td>\n",
       "      <td>NaN</td>\n",
       "    </tr>\n",
       "    <tr>\n",
       "      <th>1</th>\n",
       "      <td>NaN</td>\n",
       "      <td>NaN</td>\n",
       "      <td>NaN</td>\n",
       "      <td>NaN</td>\n",
       "    </tr>\n",
       "    <tr>\n",
       "      <th>2</th>\n",
       "      <td>November 2017 (Updated April 15, 2020)</td>\n",
       "      <td>NaN</td>\n",
       "      <td>NaN</td>\n",
       "      <td>NaN</td>\n",
       "    </tr>\n",
       "    <tr>\n",
       "      <th>3</th>\n",
       "      <td>NaN</td>\n",
       "      <td>NaN</td>\n",
       "      <td>NaN</td>\n",
       "      <td>NaN</td>\n",
       "    </tr>\n",
       "    <tr>\n",
       "      <th>4</th>\n",
       "      <td>***Questions should be emailed to soc@bls.gov***</td>\n",
       "      <td>NaN</td>\n",
       "      <td>NaN</td>\n",
       "      <td>NaN</td>\n",
       "    </tr>\n",
       "    <tr>\n",
       "      <th>5</th>\n",
       "      <td>NaN</td>\n",
       "      <td>NaN</td>\n",
       "      <td>NaN</td>\n",
       "      <td>NaN</td>\n",
       "    </tr>\n",
       "    <tr>\n",
       "      <th>6</th>\n",
       "      <td>2018 SOC Code</td>\n",
       "      <td>2018 SOC Title</td>\n",
       "      <td>2018 SOC Direct Match Title</td>\n",
       "      <td>Illustrative Example</td>\n",
       "    </tr>\n",
       "    <tr>\n",
       "      <th>7</th>\n",
       "      <td>11-1011</td>\n",
       "      <td>Chief Executives</td>\n",
       "      <td>Admiral</td>\n",
       "      <td>x</td>\n",
       "    </tr>\n",
       "    <tr>\n",
       "      <th>8</th>\n",
       "      <td>11-1011</td>\n",
       "      <td>Chief Executives</td>\n",
       "      <td>CEO</td>\n",
       "      <td>NaN</td>\n",
       "    </tr>\n",
       "    <tr>\n",
       "      <th>9</th>\n",
       "      <td>11-1011</td>\n",
       "      <td>Chief Executives</td>\n",
       "      <td>Chief Executive Officer</td>\n",
       "      <td>NaN</td>\n",
       "    </tr>\n",
       "  </tbody>\n",
       "</table>\n",
       "</div>"
      ],
      "text/plain": [
       "                     U.S. Bureau of Labor Statistics        Unnamed: 1  \\\n",
       "0  On behalf of the Office of Management and Budg...               NaN   \n",
       "1                                                NaN               NaN   \n",
       "2             November 2017 (Updated April 15, 2020)               NaN   \n",
       "3                                                NaN               NaN   \n",
       "4   ***Questions should be emailed to soc@bls.gov***               NaN   \n",
       "5                                                NaN               NaN   \n",
       "6                                      2018 SOC Code    2018 SOC Title   \n",
       "7                                            11-1011  Chief Executives   \n",
       "8                                            11-1011  Chief Executives   \n",
       "9                                            11-1011  Chief Executives   \n",
       "\n",
       "                    Unnamed: 2            Unnamed: 3  \n",
       "0                          NaN                   NaN  \n",
       "1                          NaN                   NaN  \n",
       "2                          NaN                   NaN  \n",
       "3                          NaN                   NaN  \n",
       "4                          NaN                   NaN  \n",
       "5                          NaN                   NaN  \n",
       "6  2018 SOC Direct Match Title  Illustrative Example  \n",
       "7                      Admiral                     x  \n",
       "8                          CEO                   NaN  \n",
       "9      Chief Executive Officer                   NaN  "
      ]
     },
     "execution_count": 1,
     "metadata": {},
     "output_type": "execute_result"
    }
   ],
   "source": [
    "from os import path\n",
    "\n",
    "import pandas as pd\n",
    "import seaborn as sns\n",
    "\n",
    "DATA_FOLDER = %env DATA_FOLDER\n",
    "sns.set()\n",
    "\n",
    "dmtf = pd.read_excel(path.join(DATA_FOLDER, 'usa/soc/DMTF.xlsx'))\n",
    "dmtf.head(10)"
   ]
  },
  {
   "cell_type": "markdown",
   "metadata": {},
   "source": [
    "Ooops, it looks like there are some documentation at the top, so we're going to skip the first rows:"
   ]
  },
  {
   "cell_type": "code",
   "execution_count": 2,
   "metadata": {},
   "outputs": [
    {
     "data": {
      "text/html": [
       "<div>\n",
       "<style scoped>\n",
       "    .dataframe tbody tr th:only-of-type {\n",
       "        vertical-align: middle;\n",
       "    }\n",
       "\n",
       "    .dataframe tbody tr th {\n",
       "        vertical-align: top;\n",
       "    }\n",
       "\n",
       "    .dataframe thead th {\n",
       "        text-align: right;\n",
       "    }\n",
       "</style>\n",
       "<table border=\"1\" class=\"dataframe\">\n",
       "  <thead>\n",
       "    <tr style=\"text-align: right;\">\n",
       "      <th></th>\n",
       "      <th>2018 SOC Code</th>\n",
       "      <th>2018 SOC Title</th>\n",
       "      <th>2018 SOC Direct Match Title</th>\n",
       "      <th>Illustrative Example</th>\n",
       "    </tr>\n",
       "  </thead>\n",
       "  <tbody>\n",
       "    <tr>\n",
       "      <th>0</th>\n",
       "      <td>11-1011</td>\n",
       "      <td>Chief Executives</td>\n",
       "      <td>Admiral</td>\n",
       "      <td>x</td>\n",
       "    </tr>\n",
       "    <tr>\n",
       "      <th>1</th>\n",
       "      <td>11-1011</td>\n",
       "      <td>Chief Executives</td>\n",
       "      <td>CEO</td>\n",
       "      <td>NaN</td>\n",
       "    </tr>\n",
       "    <tr>\n",
       "      <th>2</th>\n",
       "      <td>11-1011</td>\n",
       "      <td>Chief Executives</td>\n",
       "      <td>Chief Executive Officer</td>\n",
       "      <td>NaN</td>\n",
       "    </tr>\n",
       "    <tr>\n",
       "      <th>3</th>\n",
       "      <td>11-1011</td>\n",
       "      <td>Chief Executives</td>\n",
       "      <td>Chief Financial Officer</td>\n",
       "      <td>x</td>\n",
       "    </tr>\n",
       "    <tr>\n",
       "      <th>4</th>\n",
       "      <td>11-1011</td>\n",
       "      <td>Chief Executives</td>\n",
       "      <td>Chief Operating Officer</td>\n",
       "      <td>x</td>\n",
       "    </tr>\n",
       "  </tbody>\n",
       "</table>\n",
       "</div>"
      ],
      "text/plain": [
       "  2018 SOC Code    2018 SOC Title 2018 SOC Direct Match Title  \\\n",
       "0       11-1011  Chief Executives                     Admiral   \n",
       "1       11-1011  Chief Executives                         CEO   \n",
       "2       11-1011  Chief Executives     Chief Executive Officer   \n",
       "3       11-1011  Chief Executives     Chief Financial Officer   \n",
       "4       11-1011  Chief Executives     Chief Operating Officer   \n",
       "\n",
       "  Illustrative Example  \n",
       "0                    x  \n",
       "1                  NaN  \n",
       "2                  NaN  \n",
       "3                    x  \n",
       "4                    x  "
      ]
     },
     "execution_count": 2,
     "metadata": {},
     "output_type": "execute_result"
    }
   ],
   "source": [
    "dmtf = pd.read_excel(path.join(DATA_FOLDER, 'usa/soc/DMTF.xlsx'), skiprows=7)\n",
    "dmtf.head()"
   ]
  },
  {
   "cell_type": "markdown",
   "metadata": {},
   "source": [
    "Alright, much better!\n",
    "\n",
    "The format seems pretty obvious from there. We're going to check that the SOC code and title are always consistant:"
   ]
  },
  {
   "cell_type": "code",
   "execution_count": 3,
   "metadata": {},
   "outputs": [
    {
     "data": {
      "text/html": [
       "<div>\n",
       "<style scoped>\n",
       "    .dataframe tbody tr th:only-of-type {\n",
       "        vertical-align: middle;\n",
       "    }\n",
       "\n",
       "    .dataframe tbody tr th {\n",
       "        vertical-align: top;\n",
       "    }\n",
       "\n",
       "    .dataframe thead th {\n",
       "        text-align: right;\n",
       "    }\n",
       "</style>\n",
       "<table border=\"1\" class=\"dataframe\">\n",
       "  <thead>\n",
       "    <tr style=\"text-align: right;\">\n",
       "      <th></th>\n",
       "      <th>0</th>\n",
       "    </tr>\n",
       "  </thead>\n",
       "  <tbody>\n",
       "    <tr>\n",
       "      <th>1</th>\n",
       "      <td>864</td>\n",
       "    </tr>\n",
       "  </tbody>\n",
       "</table>\n",
       "</div>"
      ],
      "text/plain": [
       "     0\n",
       "1  864"
      ]
     },
     "execution_count": 3,
     "metadata": {},
     "output_type": "execute_result"
    }
   ],
   "source": [
    "dmtf.drop_duplicates(['2018 SOC Code', '2018 SOC Title'])\\\n",
    "    .groupby('2018 SOC Code').size().value_counts().to_frame()"
   ]
  },
  {
   "cell_type": "markdown",
   "metadata": {},
   "source": [
    "Good: there are 864 SOC codes, and for each of them there is only one title. Everything seems normal.\n",
    "\n",
    "Let's now check whether direct match titles are unique:"
   ]
  },
  {
   "cell_type": "code",
   "execution_count": 4,
   "metadata": {},
   "outputs": [
    {
     "data": {
      "text/html": [
       "<div>\n",
       "<style scoped>\n",
       "    .dataframe tbody tr th:only-of-type {\n",
       "        vertical-align: middle;\n",
       "    }\n",
       "\n",
       "    .dataframe tbody tr th {\n",
       "        vertical-align: top;\n",
       "    }\n",
       "\n",
       "    .dataframe thead th {\n",
       "        text-align: right;\n",
       "    }\n",
       "</style>\n",
       "<table border=\"1\" class=\"dataframe\">\n",
       "  <thead>\n",
       "    <tr style=\"text-align: right;\">\n",
       "      <th></th>\n",
       "      <th>0</th>\n",
       "    </tr>\n",
       "  </thead>\n",
       "  <tbody>\n",
       "    <tr>\n",
       "      <th>1</th>\n",
       "      <td>6520</td>\n",
       "    </tr>\n",
       "  </tbody>\n",
       "</table>\n",
       "</div>"
      ],
      "text/plain": [
       "      0\n",
       "1  6520"
      ]
     },
     "execution_count": 4,
     "metadata": {},
     "output_type": "execute_result"
    }
   ],
   "source": [
    "dmtf.groupby('2018 SOC Direct Match Title').size().value_counts().to_frame()"
   ]
  },
  {
   "cell_type": "markdown",
   "metadata": {},
   "source": [
    "Pretty neat: each title is uniquely matched to one SOC code.\n",
    "\n",
    "Finally let's look into those titles. We could print the number of titles per SOC code:"
   ]
  },
  {
   "cell_type": "code",
   "execution_count": 5,
   "metadata": {},
   "outputs": [
    {
     "data": {
      "image/png": "[encoded data removed]",
      "text/plain": [
       "<Figure size 720x360 with 1 Axes>"
      ]
     },
     "metadata": {
      "image/png": {
       "height": 305,
       "width": 618
      }
     },
     "output_type": "display_data"
    }
   ],
   "source": [
    "dmtf.groupby('2018 SOC Code').size().plot(kind='hist', figsize=(10, 5), bins=20);"
   ]
  },
  {
   "cell_type": "markdown",
   "metadata": {},
   "source": [
    "Most SOC code (job groups) have less than 10 different titles, however it seems that few of them have more than 100:"
   ]
  },
  {
   "cell_type": "code",
   "execution_count": 6,
   "metadata": {},
   "outputs": [
    {
     "data": {
      "text/html": [
       "<div>\n",
       "<style scoped>\n",
       "    .dataframe tbody tr th:only-of-type {\n",
       "        vertical-align: middle;\n",
       "    }\n",
       "\n",
       "    .dataframe tbody tr th {\n",
       "        vertical-align: top;\n",
       "    }\n",
       "\n",
       "    .dataframe thead th {\n",
       "        text-align: right;\n",
       "    }\n",
       "</style>\n",
       "<table border=\"1\" class=\"dataframe\">\n",
       "  <thead>\n",
       "    <tr style=\"text-align: right;\">\n",
       "      <th></th>\n",
       "      <th>0</th>\n",
       "    </tr>\n",
       "    <tr>\n",
       "      <th>2018 SOC Title</th>\n",
       "      <th></th>\n",
       "    </tr>\n",
       "  </thead>\n",
       "  <tbody>\n",
       "    <tr>\n",
       "      <th>Military Officer Special and Tactical Operations Leaders, All Other</th>\n",
       "      <td>108</td>\n",
       "    </tr>\n",
       "    <tr>\n",
       "      <th>Command and Control Center Officers</th>\n",
       "      <td>70</td>\n",
       "    </tr>\n",
       "    <tr>\n",
       "      <th>Military Enlisted Tactical Operations and Air/Weapons Specialists and Crew Members, All Other</th>\n",
       "      <td>63</td>\n",
       "    </tr>\n",
       "    <tr>\n",
       "      <th>Artillery and Missile Crew Members</th>\n",
       "      <td>53</td>\n",
       "    </tr>\n",
       "    <tr>\n",
       "      <th>Air Crew Members</th>\n",
       "      <td>51</td>\n",
       "    </tr>\n",
       "  </tbody>\n",
       "</table>\n",
       "</div>"
      ],
      "text/plain": [
       "                                                      0\n",
       "2018 SOC Title                                         \n",
       "Military Officer Special and Tactical Operation...  108\n",
       "Command and Control Center Officers                  70\n",
       "Military Enlisted Tactical Operations and Air/W...   63\n",
       "Artillery and Missile Crew Members                   53\n",
       "Air Crew Members                                     51"
      ]
     },
     "execution_count": 6,
     "metadata": {},
     "output_type": "execute_result"
    }
   ],
   "source": [
    "dmtf.groupby('2018 SOC Title').size().sort_values(ascending=False).to_frame().head()"
   ]
  },
  {
   "cell_type": "markdown",
   "metadata": {},
   "source": [
    "It seems military have a lot of titles, let's check the first SOC group:"
   ]
  },
  {
   "cell_type": "code",
   "execution_count": 7,
   "metadata": {},
   "outputs": [
    {
     "data": {
      "text/html": [
       "<div>\n",
       "<style scoped>\n",
       "    .dataframe tbody tr th:only-of-type {\n",
       "        vertical-align: middle;\n",
       "    }\n",
       "\n",
       "    .dataframe tbody tr th {\n",
       "        vertical-align: top;\n",
       "    }\n",
       "\n",
       "    .dataframe thead th {\n",
       "        text-align: right;\n",
       "    }\n",
       "</style>\n",
       "<table border=\"1\" class=\"dataframe\">\n",
       "  <thead>\n",
       "    <tr style=\"text-align: right;\">\n",
       "      <th></th>\n",
       "      <th>2018 SOC Code</th>\n",
       "      <th>2018 SOC Title</th>\n",
       "      <th>2018 SOC Direct Match Title</th>\n",
       "      <th>Illustrative Example</th>\n",
       "    </tr>\n",
       "  </thead>\n",
       "  <tbody>\n",
       "    <tr>\n",
       "      <th>6095</th>\n",
       "      <td>55-1019</td>\n",
       "      <td>Military Officer Special and Tactical Operatio...</td>\n",
       "      <td>Advanced Foreign Counterintelligence Officer (...</td>\n",
       "      <td>NaN</td>\n",
       "    </tr>\n",
       "    <tr>\n",
       "      <th>6096</th>\n",
       "      <td>55-1019</td>\n",
       "      <td>Military Officer Special and Tactical Operatio...</td>\n",
       "      <td>Advanced Military Source Operations Officer (A...</td>\n",
       "      <td>NaN</td>\n",
       "    </tr>\n",
       "    <tr>\n",
       "      <th>6097</th>\n",
       "      <td>55-1019</td>\n",
       "      <td>Military Officer Special and Tactical Operatio...</td>\n",
       "      <td>Air Antisubmarine Officer</td>\n",
       "      <td>NaN</td>\n",
       "    </tr>\n",
       "    <tr>\n",
       "      <th>6098</th>\n",
       "      <td>55-1019</td>\n",
       "      <td>Military Officer Special and Tactical Operatio...</td>\n",
       "      <td>Air Boatswain</td>\n",
       "      <td>NaN</td>\n",
       "    </tr>\n",
       "    <tr>\n",
       "      <th>6099</th>\n",
       "      <td>55-1019</td>\n",
       "      <td>Military Officer Special and Tactical Operatio...</td>\n",
       "      <td>Air Intelligence Officer</td>\n",
       "      <td>NaN</td>\n",
       "    </tr>\n",
       "    <tr>\n",
       "      <th>6100</th>\n",
       "      <td>55-1019</td>\n",
       "      <td>Military Officer Special and Tactical Operatio...</td>\n",
       "      <td>All Source Intelligence</td>\n",
       "      <td>NaN</td>\n",
       "    </tr>\n",
       "    <tr>\n",
       "      <th>6101</th>\n",
       "      <td>55-1019</td>\n",
       "      <td>Military Officer Special and Tactical Operatio...</td>\n",
       "      <td>All Source Intelligence Technician</td>\n",
       "      <td>NaN</td>\n",
       "    </tr>\n",
       "    <tr>\n",
       "      <th>6102</th>\n",
       "      <td>55-1019</td>\n",
       "      <td>Military Officer Special and Tactical Operatio...</td>\n",
       "      <td>Amphibious Operations Officer</td>\n",
       "      <td>NaN</td>\n",
       "    </tr>\n",
       "    <tr>\n",
       "      <th>6103</th>\n",
       "      <td>55-1019</td>\n",
       "      <td>Military Officer Special and Tactical Operatio...</td>\n",
       "      <td>Antisubmarine Warfare Intelligence Officer</td>\n",
       "      <td>NaN</td>\n",
       "    </tr>\n",
       "    <tr>\n",
       "      <th>6104</th>\n",
       "      <td>55-1019</td>\n",
       "      <td>Military Officer Special and Tactical Operatio...</td>\n",
       "      <td>Antisubmarine Weapons Officer</td>\n",
       "      <td>NaN</td>\n",
       "    </tr>\n",
       "  </tbody>\n",
       "</table>\n",
       "</div>"
      ],
      "text/plain": [
       "     2018 SOC Code                                     2018 SOC Title  \\\n",
       "6095       55-1019  Military Officer Special and Tactical Operatio...   \n",
       "6096       55-1019  Military Officer Special and Tactical Operatio...   \n",
       "6097       55-1019  Military Officer Special and Tactical Operatio...   \n",
       "6098       55-1019  Military Officer Special and Tactical Operatio...   \n",
       "6099       55-1019  Military Officer Special and Tactical Operatio...   \n",
       "6100       55-1019  Military Officer Special and Tactical Operatio...   \n",
       "6101       55-1019  Military Officer Special and Tactical Operatio...   \n",
       "6102       55-1019  Military Officer Special and Tactical Operatio...   \n",
       "6103       55-1019  Military Officer Special and Tactical Operatio...   \n",
       "6104       55-1019  Military Officer Special and Tactical Operatio...   \n",
       "\n",
       "                            2018 SOC Direct Match Title Illustrative Example  \n",
       "6095  Advanced Foreign Counterintelligence Officer (...                  NaN  \n",
       "6096  Advanced Military Source Operations Officer (A...                  NaN  \n",
       "6097                          Air Antisubmarine Officer                  NaN  \n",
       "6098                                      Air Boatswain                  NaN  \n",
       "6099                           Air Intelligence Officer                  NaN  \n",
       "6100                            All Source Intelligence                  NaN  \n",
       "6101                 All Source Intelligence Technician                  NaN  \n",
       "6102                      Amphibious Operations Officer                  NaN  \n",
       "6103         Antisubmarine Warfare Intelligence Officer                  NaN  \n",
       "6104                      Antisubmarine Weapons Officer                  NaN  "
      ]
     },
     "execution_count": 7,
     "metadata": {},
     "output_type": "execute_result"
    }
   ],
   "source": [
    "dmtf[dmtf['2018 SOC Title'] == 'Military Officer Special and Tactical Operations Leaders, All Other'].head(10)"
   ]
  },
  {
   "cell_type": "markdown",
   "metadata": {},
   "source": [
    "OK, it seems that the army really cares about title, or at least that they were able to promote many different titles into the SOC somehow.\n",
    "\n",
    "## Conclusion\n",
    "\n",
    "The Direct Match Title File of SOC gives a pretty easy way to create a job suggest that would encompass more than 6k job names (or job titles) and for each of them a SOC code. However it does not have any numerical information that would help prefer most common job titles over rarely used ones."
   ]
  }
 ],
 "metadata": {
  "kernelspec": {
   "display_name": "Python 3",
   "language": "python",
   "name": "python3"
  },
  "language_info": {
   "codemirror_mode": {
    "name": "ipython",
    "version": 3
   },
   "file_extension": ".py",
   "mimetype": "text/x-python",
   "name": "python",
   "nbconvert_exporter": "python",
   "pygments_lexer": "ipython3",
   "version": "3.7.6"
  }
 },
 "nbformat": 4,
 "nbformat_minor": 4
}
