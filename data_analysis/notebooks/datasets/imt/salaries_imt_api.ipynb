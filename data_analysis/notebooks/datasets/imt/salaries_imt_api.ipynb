{
 "cells": [
  {
   "cell_type": "markdown",
   "metadata": {},
   "source": [
    "Author: Marie Laure, marielaure@bayesimpact.org\n",
    "\n",
    "# IMT Salaries from API\n",
    "\n",
    "The IMT dataset provides regional statistics about different jobs. The salary information is collected annually by the French National Institute of Statistics and Economic Studies (INSEE). Job groups are described using the PCS (Classification of Professions and Socioprofessional Categories) classification.  Previously, we retrieved IMT data by scraping the IMT website. As an exploratory step, we are interested in the sanity of the API based data and identifying putative additional information provided only by the API.\n",
    "\n",
    "A crosswalk between PCS and ROME/FAP can be found in  `data/crosswalks/passage_pcs_fap2009_romev3.csv`.\n",
    "\n",
    "The dataset can be obtained with the following command, note that it may take some time to download:  \n",
    "`docker-compose run --rm data-analysis-prepare make data/imt/salaries.csv`\n",
    "\n",
    "## Data Sanity\n",
    "\n",
    "Loading and General View First let's load the dataset:"
   ]
  },
  {
   "cell_type": "code",
   "execution_count": 1,
   "metadata": {},
   "outputs": [
    {
     "data": {
      "text/html": [
       "<div>\n",
       "<table border=\"1\" class=\"dataframe\">\n",
       "  <thead>\n",
       "    <tr style=\"text-align: right;\">\n",
       "      <th></th>\n",
       "      <th>AGE_GROUP_CODE</th>\n",
       "      <th>AGE_GROUP_NAME</th>\n",
       "      <th>AREA_CODE</th>\n",
       "      <th>AREA_NAME</th>\n",
       "      <th>AREA_TYPE_CODE</th>\n",
       "      <th>AREA_TYPE_NAME</th>\n",
       "      <th>MAXIMUM_SALARY</th>\n",
       "      <th>MINIMUM_SALARY</th>\n",
       "      <th>PCS_PROFESSION_CODE</th>\n",
       "      <th>PCS_PROFESSION_NAME</th>\n",
       "    </tr>\n",
       "  </thead>\n",
       "  <tbody>\n",
       "    <tr>\n",
       "      <th>0</th>\n",
       "      <td>1</td>\n",
       "      <td>Moins de 35 ans</td>\n",
       "      <td>04</td>\n",
       "      <td>ALPES-DE-HAUTE-PROVENCE</td>\n",
       "      <td>D</td>\n",
       "      <td>Département</td>\n",
       "      <td>3600</td>\n",
       "      <td>2300</td>\n",
       "      <td>463b</td>\n",
       "      <td>Techniciens commerciaux et technico-commerciau...</td>\n",
       "    </tr>\n",
       "    <tr>\n",
       "      <th>1</th>\n",
       "      <td>2</td>\n",
       "      <td>35 ans et plus</td>\n",
       "      <td>04</td>\n",
       "      <td>ALPES-DE-HAUTE-PROVENCE</td>\n",
       "      <td>D</td>\n",
       "      <td>Département</td>\n",
       "      <td>4500</td>\n",
       "      <td>2350</td>\n",
       "      <td>463b</td>\n",
       "      <td>Techniciens commerciaux et technico-commerciau...</td>\n",
       "    </tr>\n",
       "    <tr>\n",
       "      <th>2</th>\n",
       "      <td>1</td>\n",
       "      <td>Moins de 35 ans</td>\n",
       "      <td>04</td>\n",
       "      <td>ALPES-DE-HAUTE-PROVENCE</td>\n",
       "      <td>D</td>\n",
       "      <td>Département</td>\n",
       "      <td>3400</td>\n",
       "      <td>2100</td>\n",
       "      <td>463c</td>\n",
       "      <td>Techniciens commerciaux et technico-commerciau...</td>\n",
       "    </tr>\n",
       "    <tr>\n",
       "      <th>3</th>\n",
       "      <td>2</td>\n",
       "      <td>35 ans et plus</td>\n",
       "      <td>04</td>\n",
       "      <td>ALPES-DE-HAUTE-PROVENCE</td>\n",
       "      <td>D</td>\n",
       "      <td>Département</td>\n",
       "      <td>5800</td>\n",
       "      <td>1700</td>\n",
       "      <td>463c</td>\n",
       "      <td>Techniciens commerciaux et technico-commerciau...</td>\n",
       "    </tr>\n",
       "    <tr>\n",
       "      <th>4</th>\n",
       "      <td>1</td>\n",
       "      <td>Moins de 35 ans</td>\n",
       "      <td>04</td>\n",
       "      <td>ALPES-DE-HAUTE-PROVENCE</td>\n",
       "      <td>D</td>\n",
       "      <td>Département</td>\n",
       "      <td>-2</td>\n",
       "      <td>-2</td>\n",
       "      <td>463d</td>\n",
       "      <td>Techniciens commerciaux et technico-commerciau...</td>\n",
       "    </tr>\n",
       "  </tbody>\n",
       "</table>\n",
       "</div>"
      ],
      "text/plain": [
       "   AGE_GROUP_CODE   AGE_GROUP_NAME AREA_CODE                AREA_NAME  \\\n",
       "0               1  Moins de 35 ans        04  ALPES-DE-HAUTE-PROVENCE   \n",
       "1               2   35 ans et plus        04  ALPES-DE-HAUTE-PROVENCE   \n",
       "2               1  Moins de 35 ans        04  ALPES-DE-HAUTE-PROVENCE   \n",
       "3               2   35 ans et plus        04  ALPES-DE-HAUTE-PROVENCE   \n",
       "4               1  Moins de 35 ans        04  ALPES-DE-HAUTE-PROVENCE   \n",
       "\n",
       "  AREA_TYPE_CODE AREA_TYPE_NAME  MAXIMUM_SALARY  MINIMUM_SALARY  \\\n",
       "0              D    Département            3600            2300   \n",
       "1              D    Département            4500            2350   \n",
       "2              D    Département            3400            2100   \n",
       "3              D    Département            5800            1700   \n",
       "4              D    Département              -2              -2   \n",
       "\n",
       "  PCS_PROFESSION_CODE                                PCS_PROFESSION_NAME  \n",
       "0                463b  Techniciens commerciaux et technico-commerciau...  \n",
       "1                463b  Techniciens commerciaux et technico-commerciau...  \n",
       "2                463c  Techniciens commerciaux et technico-commerciau...  \n",
       "3                463c  Techniciens commerciaux et technico-commerciau...  \n",
       "4                463d  Techniciens commerciaux et technico-commerciau...  "
      ]
     },
     "execution_count": 1,
     "metadata": {},
     "output_type": "execute_result"
    }
   ],
   "source": [
    "import os\n",
    "from os import path\n",
    "\n",
    "import matplotlib\n",
    "import pandas as pd\n",
    "import seaborn as _\n",
    "\n",
    "DATA_FOLDER = os.getenv('DATA_FOLDER')\n",
    "\n",
    "salaries = pd.read_csv(path.join(DATA_FOLDER, 'imt/salaries.csv'), dtype={'AREA_CODE': 'str'})\n",
    "salaries.head()"
   ]
  },
  {
   "cell_type": "markdown",
   "metadata": {},
   "source": [
    "Nice! We have the basic useful columns area, job groups but also data on the salaries and the age of the recruitee (a proxy for experience I guess). According to the documentation 90% of the employees earn more than the `MINIMUM_SALARY`, while only 10% earn more than the `MAXIMUM_SALARY`.\n",
    "\n",
    "**Concerning the age groups, how many categories do we have and what are there?**"
   ]
  },
  {
   "cell_type": "code",
   "execution_count": 2,
   "metadata": {},
   "outputs": [
    {
     "data": {
      "text/plain": [
       "array(['Moins de 35 ans', '35 ans et plus'], dtype=object)"
      ]
     },
     "execution_count": 2,
     "metadata": {},
     "output_type": "execute_result"
    }
   ],
   "source": [
    "salaries.AGE_GROUP_NAME.unique()"
   ]
  },
  {
   "cell_type": "markdown",
   "metadata": {},
   "source": [
    "Only two… Maybe it is enough.\n",
    "\n",
    "**Let's do a basic check on the areas.**\n",
    "\n",
    "First what about the granularity?"
   ]
  },
  {
   "cell_type": "code",
   "execution_count": 3,
   "metadata": {},
   "outputs": [
    {
     "data": {
      "text/plain": [
       "array(['Département', 'Région', 'France entière'], dtype=object)"
      ]
     },
     "execution_count": 3,
     "metadata": {},
     "output_type": "execute_result"
    }
   ],
   "source": [
    "salaries.AREA_TYPE_NAME.unique()"
   ]
  },
  {
   "cell_type": "markdown",
   "metadata": {},
   "source": [
    "Ok! We have 3 different levels, whole country, regions and departments.\n",
    "\n",
    "Is everyone there?  Let's start by the departments!"
   ]
  },
  {
   "cell_type": "code",
   "execution_count": 4,
   "metadata": {},
   "outputs": [
    {
     "data": {
      "text/plain": [
       "100"
      ]
     },
     "execution_count": 4,
     "metadata": {},
     "output_type": "execute_result"
    }
   ],
   "source": [
    "salaries[salaries.AREA_TYPE_CODE == 'D'].AREA_CODE.sort_values().unique().size"
   ]
  },
  {
   "cell_type": "markdown",
   "metadata": {},
   "source": [
    "We could expect 101 (metropolitan departments) or 103 (metropolitan departments + overseas collectivities). Here Mayotte is missing.\n",
    "\n",
    "What about the regions?"
   ]
  },
  {
   "cell_type": "code",
   "execution_count": 5,
   "metadata": {},
   "outputs": [
    {
     "data": {
      "text/plain": [
       "17"
      ]
     },
     "execution_count": 5,
     "metadata": {},
     "output_type": "execute_result"
    }
   ],
   "source": [
    "salaries[salaries.AREA_TYPE_CODE == 'R'].AREA_CODE.sort_values().unique().size"
   ]
  },
  {
   "cell_type": "markdown",
   "metadata": {},
   "source": [
    "Oh… We expected 18! Again, Mayotte is missing.\n",
    "\n",
    "The first overview revealed some negative salaries. The documentation states that when they are not enough data, the value is -1 while when the data in unavailable it is marked as -2. \n",
    "**Let's have a basic description of the salaries**."
   ]
  },
  {
   "cell_type": "markdown",
   "metadata": {},
   "source": [
    "**How many missing or uninformative salary data do we have?  **\n",
    "We start with the minimum salary"
   ]
  },
  {
   "cell_type": "code",
   "execution_count": 6,
   "metadata": {},
   "outputs": [
    {
     "data": {
      "text/plain": [
       "13.08211288464703"
      ]
     },
     "execution_count": 6,
     "metadata": {},
     "output_type": "execute_result"
    }
   ],
   "source": [
    "len(salaries[salaries.MINIMUM_SALARY < 0]) / len(salaries) * 100"
   ]
  },
  {
   "cell_type": "markdown",
   "metadata": {},
   "source": [
    "Around 13% of the job groups for a given area (market) don't have salary data! That is a bit more than nothing!\n",
    "\n",
    "When salaries are lesser than 0, are the minimum salary and the maximum salaries always the same?"
   ]
  },
  {
   "cell_type": "code",
   "execution_count": 7,
   "metadata": {},
   "outputs": [
    {
     "data": {
      "text/plain": [
       "True"
      ]
     },
     "execution_count": 7,
     "metadata": {},
     "output_type": "execute_result"
    }
   ],
   "source": [
    "invalid_rows = salaries[(salaries.MAXIMUM_SALARY < 0) | (salaries.MINIMUM_SALARY < 0)]\n",
    "all(invalid_rows.MINIMUM_SALARY == invalid_rows.MAXIMUM_SALARY)"
   ]
  },
  {
   "cell_type": "markdown",
   "metadata": {},
   "source": [
    "Yeahh!! They are exactly the same… How convenient!\n",
    "\n",
    "**So let's get a basic overview of the salaries.**"
   ]
  },
  {
   "cell_type": "code",
   "execution_count": 8,
   "metadata": {},
   "outputs": [
    {
     "data": {
      "text/html": [
       "<div>\n",
       "<table border=\"1\" class=\"dataframe\">\n",
       "  <thead>\n",
       "    <tr style=\"text-align: right;\">\n",
       "      <th></th>\n",
       "      <th>MAXIMUM_SALARY</th>\n",
       "      <th>MINIMUM_SALARY</th>\n",
       "    </tr>\n",
       "  </thead>\n",
       "  <tbody>\n",
       "    <tr>\n",
       "      <th>count</th>\n",
       "      <td>84512.000000</td>\n",
       "      <td>84512.000000</td>\n",
       "    </tr>\n",
       "    <tr>\n",
       "      <th>mean</th>\n",
       "      <td>3979.875047</td>\n",
       "      <td>2068.592034</td>\n",
       "    </tr>\n",
       "    <tr>\n",
       "      <th>std</th>\n",
       "      <td>2086.121357</td>\n",
       "      <td>616.621855</td>\n",
       "    </tr>\n",
       "    <tr>\n",
       "      <th>min</th>\n",
       "      <td>1000.000000</td>\n",
       "      <td>700.000000</td>\n",
       "    </tr>\n",
       "    <tr>\n",
       "      <th>25%</th>\n",
       "      <td>2650.000000</td>\n",
       "      <td>1650.000000</td>\n",
       "    </tr>\n",
       "    <tr>\n",
       "      <th>50%</th>\n",
       "      <td>3300.000000</td>\n",
       "      <td>1850.000000</td>\n",
       "    </tr>\n",
       "    <tr>\n",
       "      <th>75%</th>\n",
       "      <td>4550.000000</td>\n",
       "      <td>2250.000000</td>\n",
       "    </tr>\n",
       "    <tr>\n",
       "      <th>max</th>\n",
       "      <td>41600.000000</td>\n",
       "      <td>6500.000000</td>\n",
       "    </tr>\n",
       "  </tbody>\n",
       "</table>\n",
       "</div>"
      ],
      "text/plain": [
       "       MAXIMUM_SALARY  MINIMUM_SALARY\n",
       "count    84512.000000    84512.000000\n",
       "mean      3979.875047     2068.592034\n",
       "std       2086.121357      616.621855\n",
       "min       1000.000000      700.000000\n",
       "25%       2650.000000     1650.000000\n",
       "50%       3300.000000     1850.000000\n",
       "75%       4550.000000     2250.000000\n",
       "max      41600.000000     6500.000000"
      ]
     },
     "execution_count": 8,
     "metadata": {},
     "output_type": "execute_result"
    }
   ],
   "source": [
    "valid_salaries = salaries[salaries.MAXIMUM_SALARY > 0]\n",
    "valid_salaries[['MAXIMUM_SALARY', 'MINIMUM_SALARY']].describe()"
   ]
  },
  {
   "cell_type": "markdown",
   "metadata": {},
   "source": [
    "Because the minimum `MINIMUM_SALARY` is lower than the french minimum wage ([~1400](https://www.service-public.fr/professionnels-entreprises/vosdroits/F23892)), we think that these data gather both full-time and part-time offers. It can be scary to deliver as such to our users…  \n",
    "Anyway, no weird or missing values here.\n",
    "\n",
    "It can be an overkill but we'll see if the maximum salary is always greater or equal to the minimum salary."
   ]
  },
  {
   "cell_type": "code",
   "execution_count": 9,
   "metadata": {},
   "outputs": [
    {
     "data": {
      "text/plain": [
       "True"
      ]
     },
     "execution_count": 9,
     "metadata": {},
     "output_type": "execute_result"
    }
   ],
   "source": [
    "all(salaries.MAXIMUM_SALARY >= salaries.MINIMUM_SALARY)"
   ]
  },
  {
   "cell_type": "markdown",
   "metadata": {},
   "source": [
    "Great!\n",
    "\n",
    "Last but not least. **Do we cover every job groups?**"
   ]
  },
  {
   "cell_type": "code",
   "execution_count": 10,
   "metadata": {},
   "outputs": [
    {
     "data": {
      "text/plain": [
       "412"
      ]
     },
     "execution_count": 10,
     "metadata": {},
     "output_type": "execute_result"
    }
   ],
   "source": [
    "salaries.PCS_PROFESSION_CODE.unique().size"
   ]
  },
  {
   "cell_type": "markdown",
   "metadata": {},
   "source": [
    "According to [INSEE](https://www.insee.fr/fr/metadonnees/pcs2003/categorieSocioprofessionnelleAgregee/1) documentation, we should expect around 500 job groups. ~85% of them are covered.\n",
    "\n",
    "But, then how many of these job groups have valid data?"
   ]
  },
  {
   "cell_type": "code",
   "execution_count": 11,
   "metadata": {},
   "outputs": [
    {
     "data": {
      "text/plain": [
       "412"
      ]
     },
     "execution_count": 11,
     "metadata": {},
     "output_type": "execute_result"
    }
   ],
   "source": [
    "valid_salaries.PCS_PROFESSION_CODE.unique().size"
   ]
  },
  {
   "cell_type": "markdown",
   "metadata": {},
   "source": [
    "Yeahh!! All of them!!\n",
    "\n",
    "Currently, in Bob, we are mostly using ROME classification. Then, we are interested in the number of ROME job groups covered by this dataset.  \n",
    "First, we need to download the mapping between PCS and ROME classifications."
   ]
  },
  {
   "cell_type": "code",
   "execution_count": 12,
   "metadata": {},
   "outputs": [
    {
     "data": {
      "text/html": [
       "<div>\n",
       "<table border=\"1\" class=\"dataframe\">\n",
       "  <thead>\n",
       "    <tr style=\"text-align: right;\">\n",
       "      <th></th>\n",
       "      <th>ROME</th>\n",
       "      <th>PCS</th>\n",
       "    </tr>\n",
       "  </thead>\n",
       "  <tbody>\n",
       "    <tr>\n",
       "      <th>0</th>\n",
       "      <td>A1101</td>\n",
       "      <td>691a</td>\n",
       "    </tr>\n",
       "    <tr>\n",
       "      <th>1</th>\n",
       "      <td>A1201</td>\n",
       "      <td>533b</td>\n",
       "    </tr>\n",
       "    <tr>\n",
       "      <th>2</th>\n",
       "      <td>A1201</td>\n",
       "      <td>691f</td>\n",
       "    </tr>\n",
       "    <tr>\n",
       "      <th>3</th>\n",
       "      <td>A1202</td>\n",
       "      <td>631a</td>\n",
       "    </tr>\n",
       "    <tr>\n",
       "      <th>4</th>\n",
       "      <td>A1203</td>\n",
       "      <td>631a</td>\n",
       "    </tr>\n",
       "  </tbody>\n",
       "</table>\n",
       "</div>"
      ],
      "text/plain": [
       "    ROME   PCS\n",
       "0  A1101  691a\n",
       "1  A1201  533b\n",
       "2  A1201  691f\n",
       "3  A1202  631a\n",
       "4  A1203  631a"
      ]
     },
     "execution_count": 12,
     "metadata": {},
     "output_type": "execute_result"
    }
   ],
   "source": [
    "pcs_to_rome = pd.read_csv(path.join(DATA_FOLDER, 'crosswalks/passage_pcs_romev3.csv'))\n",
    "pcs_to_rome.head()"
   ]
  },
  {
   "cell_type": "markdown",
   "metadata": {},
   "source": [
    "Quite concise, isn't it!\n",
    "\n"
   ]
  },
  {
   "cell_type": "code",
   "execution_count": 13,
   "metadata": {},
   "outputs": [
    {
     "data": {
      "text/plain": [
       "515"
      ]
     },
     "execution_count": 13,
     "metadata": {},
     "output_type": "execute_result"
    }
   ],
   "source": [
    "pcs_to_rome[pcs_to_rome['PCS'].isin(salaries.PCS_PROFESSION_CODE.unique())]\\\n",
    "    .ROME.unique().size"
   ]
  },
  {
   "cell_type": "markdown",
   "metadata": {},
   "source": [
    "Impressive! We have a ~97% coverage for ROME job groups.\n",
    "\n",
    "What about the granularity of this coverage?  \n",
    "Coverage at the regions level."
   ]
  },
  {
   "cell_type": "code",
   "execution_count": 14,
   "metadata": {},
   "outputs": [
    {
     "data": {
      "text/plain": [
       "515"
      ]
     },
     "execution_count": 14,
     "metadata": {},
     "output_type": "execute_result"
    }
   ],
   "source": [
    "region_professions = salaries[salaries.AREA_TYPE_CODE == 'R']\\\n",
    "    .PCS_PROFESSION_CODE.unique()\n",
    "pcs_to_rome[pcs_to_rome['PCS']\\\n",
    "    .isin(region_professions)]\\\n",
    "    .ROME.unique().size"
   ]
  },
  {
   "cell_type": "markdown",
   "metadata": {},
   "source": [
    "Exactly the same…\n",
    "\n",
    "Let's have a look at the ROME job groups coverage at the department level."
   ]
  },
  {
   "cell_type": "code",
   "execution_count": 15,
   "metadata": {},
   "outputs": [
    {
     "data": {
      "text/plain": [
       "515"
      ]
     },
     "execution_count": 15,
     "metadata": {},
     "output_type": "execute_result"
    }
   ],
   "source": [
    "department_professions = salaries[salaries.AREA_TYPE_CODE == 'D']\\\n",
    "    .PCS_PROFESSION_CODE.unique()\n",
    "pcs_to_rome[pcs_to_rome['PCS']\\\n",
    "    .isin(department_professions)]\\\n",
    "    .ROME.unique().size"
   ]
  },
  {
   "cell_type": "markdown",
   "metadata": {},
   "source": [
    "Again, no difference.\n",
    "\n",
    "Everything is going well so far!\n",
    "\n",
    "## Global Overview and Comparison with Scraped Data\n",
    "\n",
    "Actually, we have multiple source of data for salaries: the IMT and the FHS (more or less Pôle Emploi statistics history). The FHS dataset provides jobseekers salary expectancies. A [notebook](https://github.com/bayesimpact/bob-emploi-internal/blob/HEAD/data_analysis/notebooks/research/salaries/fhs_salaries.ipynb) has been written before to investigate the distribution of these expected salaries.\n",
    "\n",
    "An analysis of the IMT salary data [has been done before](https://github.com/bayesimpact/bob-emploi-internal/blob/HEAD/data_analysis/notebooks/research/salaries/rome_department_salary_exploration.ipynb).  \n",
    "The main conclusions of this notebook were:\n",
    "- for a given job group, the salary was quite consistent on the french territory (you'll earn the almost the same if you are a deliverer in Lyon or in Paris).\n",
    "- there is a high variation in salaries within a single department.  \n",
    "Does it still stands?\n",
    "\n",
    "**How variable are the salaries within departments?**"
   ]
  },
  {
   "cell_type": "code",
   "execution_count": 16,
   "metadata": {},
   "outputs": [],
   "source": [
    "salaries['mean_senior_salary'] = salaries[['MINIMUM_SALARY', 'MAXIMUM_SALARY']].sum(axis=1).div(2)\n",
    "valid_salaries = salaries[salaries.MAXIMUM_SALARY > 0]\n",
    "stats_within_departments = valid_salaries[valid_salaries.AREA_TYPE_CODE == 'D']\\\n",
    "    .groupby('AREA_NAME')\\\n",
    "    .mean_senior_salary.agg({'mean', 'std'})\\\n",
    "    .sort_values('mean', ascending=False)\n",
    "    \n",
    "stats_within_departments.plot(kind='box');"
   ]
  },
  {
   "cell_type": "markdown",
   "metadata": {},
   "source": [
    "Within a department, ~30% of the jobs propose a salary greater than 4200€ or lesser than 1800€.\n",
    "\n",
    "**How variable are the salaries within job groups?**"
   ]
  },
  {
   "cell_type": "code",
   "execution_count": 17,
   "metadata": {},
   "outputs": [],
   "source": [
    "stats_within_jobgroups = valid_salaries[valid_salaries.AREA_TYPE_CODE == 'D'].groupby('PCS_PROFESSION_CODE')\\\n",
    "    .mean_senior_salary.agg({'mean', 'std'})\\\n",
    "    .sort_values('std', ascending=False)\n",
    "\n",
    "stats_within_jobgroups.plot(kind='box');"
   ]
  },
  {
   "cell_type": "markdown",
   "metadata": {},
   "source": [
    "As expected, within a job group, the dispersion is lesser than within a department (standard deviation most of the time lesser than 1000€).\n",
    "\n",
    "**Still, why not looking at some examples of highly variable job goups?**"
   ]
  },
  {
   "cell_type": "code",
   "execution_count": 18,
   "metadata": {},
   "outputs": [
    {
     "data": {
      "text/html": [
       "\n",
       "        <style  type=\"text/css\" >\n",
       "        \n",
       "        \n",
       "            #T_25338eb8_a88d_11e7_989a_0242ac130003row0_col0 {\n",
       "            \n",
       "                width:  500px;\n",
       "            \n",
       "            }\n",
       "        \n",
       "            #T_25338eb8_a88d_11e7_989a_0242ac130003row1_col0 {\n",
       "            \n",
       "                width:  500px;\n",
       "            \n",
       "            }\n",
       "        \n",
       "            #T_25338eb8_a88d_11e7_989a_0242ac130003row2_col0 {\n",
       "            \n",
       "                width:  500px;\n",
       "            \n",
       "            }\n",
       "        \n",
       "            #T_25338eb8_a88d_11e7_989a_0242ac130003row3_col0 {\n",
       "            \n",
       "                width:  500px;\n",
       "            \n",
       "            }\n",
       "        \n",
       "            #T_25338eb8_a88d_11e7_989a_0242ac130003row4_col0 {\n",
       "            \n",
       "                width:  500px;\n",
       "            \n",
       "            }\n",
       "        \n",
       "        </style>\n",
       "\n",
       "        <table id=\"T_25338eb8_a88d_11e7_989a_0242ac130003\" None>\n",
       "        \n",
       "\n",
       "        <thead>\n",
       "            \n",
       "            <tr>\n",
       "                \n",
       "                \n",
       "                <th class=\"blank level0\" >\n",
       "                  \n",
       "                \n",
       "                \n",
       "                \n",
       "                <th class=\"col_heading level0 col0\" colspan=1>\n",
       "                  PCS_PROFESSION_NAME\n",
       "                \n",
       "                \n",
       "            </tr>\n",
       "            \n",
       "        </thead>\n",
       "        <tbody>\n",
       "            \n",
       "            <tr>\n",
       "                \n",
       "                \n",
       "                <th id=\"T_25338eb8_a88d_11e7_989a_0242ac130003\"\n",
       "                 class=\"row_heading level0 row0\" rowspan=1>\n",
       "                    0\n",
       "                \n",
       "                \n",
       "                \n",
       "                <td id=\"T_25338eb8_a88d_11e7_989a_0242ac130003row0_col0\"\n",
       "                 class=\"data row0 col0\" >\n",
       "                    Techniciens commerciaux et technico-commerciaux, représentants en biens d'équipement, en biens intermédiaires, commerce interindustriel (hors informatique)\n",
       "                \n",
       "                \n",
       "            </tr>\n",
       "            \n",
       "            <tr>\n",
       "                \n",
       "                \n",
       "                <th id=\"T_25338eb8_a88d_11e7_989a_0242ac130003\"\n",
       "                 class=\"row_heading level0 row1\" rowspan=1>\n",
       "                    1\n",
       "                \n",
       "                \n",
       "                \n",
       "                <td id=\"T_25338eb8_a88d_11e7_989a_0242ac130003row1_col0\"\n",
       "                 class=\"data row1 col0\" >\n",
       "                    Techniciens commerciaux et technico-commerciaux, représentants en biens d'équipement, en biens intermédiaires, commerce interindustriel (hors informatique)\n",
       "                \n",
       "                \n",
       "            </tr>\n",
       "            \n",
       "            <tr>\n",
       "                \n",
       "                \n",
       "                <th id=\"T_25338eb8_a88d_11e7_989a_0242ac130003\"\n",
       "                 class=\"row_heading level0 row2\" rowspan=1>\n",
       "                    2\n",
       "                \n",
       "                \n",
       "                \n",
       "                <td id=\"T_25338eb8_a88d_11e7_989a_0242ac130003row2_col0\"\n",
       "                 class=\"data row2 col0\" >\n",
       "                    Techniciens commerciaux et technico-commerciaux, représentants en biens de consommation auprès d'entreprises\n",
       "                \n",
       "                \n",
       "            </tr>\n",
       "            \n",
       "            <tr>\n",
       "                \n",
       "                \n",
       "                <th id=\"T_25338eb8_a88d_11e7_989a_0242ac130003\"\n",
       "                 class=\"row_heading level0 row3\" rowspan=1>\n",
       "                    3\n",
       "                \n",
       "                \n",
       "                \n",
       "                <td id=\"T_25338eb8_a88d_11e7_989a_0242ac130003row3_col0\"\n",
       "                 class=\"data row3 col0\" >\n",
       "                    Techniciens commerciaux et technico-commerciaux, représentants en biens de consommation auprès d'entreprises\n",
       "                \n",
       "                \n",
       "            </tr>\n",
       "            \n",
       "            <tr>\n",
       "                \n",
       "                \n",
       "                <th id=\"T_25338eb8_a88d_11e7_989a_0242ac130003\"\n",
       "                 class=\"row_heading level0 row4\" rowspan=1>\n",
       "                    5\n",
       "                \n",
       "                \n",
       "                \n",
       "                <td id=\"T_25338eb8_a88d_11e7_989a_0242ac130003row4_col0\"\n",
       "                 class=\"data row4 col0\" >\n",
       "                    Techniciens commerciaux et technico-commerciaux, représentants en services auprès d'entreprises ou de professionnels (hors banque, assurance, informatique)\n",
       "                \n",
       "                \n",
       "            </tr>\n",
       "            \n",
       "        </tbody>\n",
       "        </table>\n",
       "        "
      ],
      "text/plain": [
       "<pandas.formats.style.Styler at 0x7f74e39bc588>"
      ]
     },
     "execution_count": 18,
     "metadata": {},
     "output_type": "execute_result"
    }
   ],
   "source": [
    "valid_salaries[\n",
    "    (valid_salaries.AREA_TYPE_CODE == 'D') &\n",
    "    (valid_salaries.PCS_PROFESSION_CODE.isin(stats_within_jobgroups.index))]\\\n",
    "    .drop_duplicates().PCS_PROFESSION_NAME.to_frame().head(5)\\\n",
    "    .style.set_properties( **{'width': '500px'})"
   ]
  },
  {
   "cell_type": "markdown",
   "metadata": {},
   "source": [
    "Sales persons are the ones with the most highly variable salaries. That seems sensible!\n",
    "\n",
    "**What about the conformity of API data with scraped data?**  \n",
    "According to the [website](http://candidat.pole-emploi.fr/marche-du-travail/statistiques?codeMetier=38859&codeZoneGeographique=38&typeZoneGeographique=DEPARTEMENT) (on the 2nd of October 2017), a nurse in the Isère department, younger than 35 years old, could expect a salary between 1850€ and 4050€.\n",
    "Note that ROME code for nurse is \"J1502\" which corresponds to 6 PCS classifications (431a, 431b, 431c, 431d, 431f and 431g)."
   ]
  },
  {
   "cell_type": "code",
   "execution_count": 19,
   "metadata": {},
   "outputs": [
    {
     "data": {
      "text/html": [
       "<div>\n",
       "<table border=\"1\" class=\"dataframe\">\n",
       "  <thead>\n",
       "    <tr style=\"text-align: right;\">\n",
       "      <th></th>\n",
       "      <th>MAXIMUM_SALARY</th>\n",
       "      <th>MINIMUM_SALARY</th>\n",
       "      <th>PCS_PROFESSION_CODE</th>\n",
       "      <th>PCS_PROFESSION_NAME</th>\n",
       "    </tr>\n",
       "  </thead>\n",
       "  <tbody>\n",
       "    <tr>\n",
       "      <th>24574</th>\n",
       "      <td>3050</td>\n",
       "      <td>1850</td>\n",
       "      <td>431a</td>\n",
       "      <td>Cadres infirmiers et assimilés</td>\n",
       "    </tr>\n",
       "    <tr>\n",
       "      <th>24578</th>\n",
       "      <td>2950</td>\n",
       "      <td>1900</td>\n",
       "      <td>431c</td>\n",
       "      <td>Puéricultrices</td>\n",
       "    </tr>\n",
       "    <tr>\n",
       "      <th>24580</th>\n",
       "      <td>4050</td>\n",
       "      <td>2100</td>\n",
       "      <td>431d</td>\n",
       "      <td>Infirmiers spécialisés (autres qu'infirmiers p...</td>\n",
       "    </tr>\n",
       "    <tr>\n",
       "      <th>24584</th>\n",
       "      <td>2850</td>\n",
       "      <td>1950</td>\n",
       "      <td>431f</td>\n",
       "      <td>Infirmiers en soins généraux</td>\n",
       "    </tr>\n",
       "  </tbody>\n",
       "</table>\n",
       "</div>"
      ],
      "text/plain": [
       "       MAXIMUM_SALARY  MINIMUM_SALARY PCS_PROFESSION_CODE  \\\n",
       "24574            3050            1850                431a   \n",
       "24578            2950            1900                431c   \n",
       "24580            4050            2100                431d   \n",
       "24584            2850            1950                431f   \n",
       "\n",
       "                                     PCS_PROFESSION_NAME  \n",
       "24574                     Cadres infirmiers et assimilés  \n",
       "24578                                     Puéricultrices  \n",
       "24580  Infirmiers spécialisés (autres qu'infirmiers p...  \n",
       "24584                       Infirmiers en soins généraux  "
      ]
     },
     "execution_count": 19,
     "metadata": {},
     "output_type": "execute_result"
    }
   ],
   "source": [
    "nurse_pcs = ['431a', '431b', '431c', '431d', '431f', '431g']\n",
    "valid_salaries[(valid_salaries.AREA_NAME == \"ISERE\") \\\n",
    "    & (valid_salaries.PCS_PROFESSION_CODE.isin(nurse_pcs) \\\n",
    "    & (valid_salaries.AGE_GROUP_NAME == 'Moins de 35 ans'))] \\\n",
    "    [['MAXIMUM_SALARY', 'MINIMUM_SALARY', 'PCS_PROFESSION_CODE', 'PCS_PROFESSION_NAME']]"
   ]
  },
  {
   "cell_type": "markdown",
   "metadata": {},
   "source": [
    "Hummm.. So the website, seems to be using the minimum of the minimum salary and the maximum of the maximum salary. Smart!\n",
    "\n",
    "## Conclusion\n",
    "- The dataset is clean.\n",
    "- Missing and uninformative data are clearly documented.\n",
    "- We have now data at multiple granularity levels.\n",
    "- Global overview of the data confirms the observations done before."
   ]
  }
 ],
 "metadata": {
  "kernelspec": {
   "display_name": "Python 3",
   "language": "python",
   "name": "python3"
  },
  "language_info": {
   "codemirror_mode": {
    "name": "ipython",
    "version": 3
   },
   "file_extension": ".py",
   "mimetype": "text/x-python",
   "name": "python",
   "nbconvert_exporter": "python",
   "pygments_lexer": "ipython3",
   "version": "3.6.2"
  }
 },
 "nbformat": 4,
 "nbformat_minor": 2
}
