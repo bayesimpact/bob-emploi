{
 "cells": [
  {
   "cell_type": "markdown",
   "metadata": {},
   "source": [
    "Author: Marie Laure, marielaure@bayesimpact.org\n",
    "\n",
    "# IMT Employment Type from API\n",
    "\n",
    "The IMT dataset provides regional statistics about different jobs. Here we are interested in the employment types distribution. Employment types are categories of contract types (mostly based on contract duration and permanent vs temporary).\n",
    "Previously, we retrieved IMT data by scraping the IMT website. As an exploratory step, we are interested in the sanity of the API based data and identifying putative additional information provided only by the API.\n",
    "\n",
    "The dataset can be obtained with the following command, note that it may take some time to download:\n",
    "\n",
    "docker-compose run --rm data-analysis-prepare make data/imt/employment_type.csv\n",
    "\n",
    "## Data Sanity\n",
    "\n",
    "**Loading and General View First let's load the csv file:**"
   ]
  },
  {
   "cell_type": "code",
   "execution_count": 1,
   "metadata": {},
   "outputs": [
    {
     "data": {
      "text/html": [
       "<div>\n",
       "<table border=\"1\" class=\"dataframe\">\n",
       "  <thead>\n",
       "    <tr style=\"text-align: right;\">\n",
       "      <th></th>\n",
       "      <th>AREA_CODE</th>\n",
       "      <th>AREA_NAME</th>\n",
       "      <th>AREA_TYPE_CODE</th>\n",
       "      <th>AREA_TYPE_NAME</th>\n",
       "      <th>CONTRACT_TYPE_CODE</th>\n",
       "      <th>CONTRACT_TYPE_NAME</th>\n",
       "      <th>NB_OFFERS</th>\n",
       "      <th>OFFERS_PERCENT</th>\n",
       "      <th>ROME_PROFESSION_CARD_CODE</th>\n",
       "      <th>ROME_PROFESSION_CARD_NAME</th>\n",
       "    </tr>\n",
       "  </thead>\n",
       "  <tbody>\n",
       "    <tr>\n",
       "      <th>0</th>\n",
       "      <td>7327</td>\n",
       "      <td>CASTELSARRASIN</td>\n",
       "      <td>B</td>\n",
       "      <td>Bassin</td>\n",
       "      <td>4</td>\n",
       "      <td>Intérim</td>\n",
       "      <td>3</td>\n",
       "      <td>100.00</td>\n",
       "      <td>I1310</td>\n",
       "      <td>Maintenance mécanique industrielle</td>\n",
       "    </tr>\n",
       "    <tr>\n",
       "      <th>1</th>\n",
       "      <td>4203</td>\n",
       "      <td>SARRE-UNION SAVERNE</td>\n",
       "      <td>B</td>\n",
       "      <td>Bassin</td>\n",
       "      <td>3</td>\n",
       "      <td>CDD &gt; 3 mois</td>\n",
       "      <td>12</td>\n",
       "      <td>85.71</td>\n",
       "      <td>K2104</td>\n",
       "      <td>Éducation et surveillance au sein d'établissem...</td>\n",
       "    </tr>\n",
       "    <tr>\n",
       "      <th>2</th>\n",
       "      <td>4203</td>\n",
       "      <td>SARRE-UNION SAVERNE</td>\n",
       "      <td>B</td>\n",
       "      <td>Bassin</td>\n",
       "      <td>4</td>\n",
       "      <td>Intérim</td>\n",
       "      <td>7</td>\n",
       "      <td>70.00</td>\n",
       "      <td>H2102</td>\n",
       "      <td>Conduite d'équipement de production alimentaire</td>\n",
       "    </tr>\n",
       "    <tr>\n",
       "      <th>3</th>\n",
       "      <td>4204</td>\n",
       "      <td>STRASBOURG</td>\n",
       "      <td>B</td>\n",
       "      <td>Bassin</td>\n",
       "      <td>3</td>\n",
       "      <td>CDD &gt; 3 mois</td>\n",
       "      <td>3</td>\n",
       "      <td>60.00</td>\n",
       "      <td>K1102</td>\n",
       "      <td>Aide aux bénéficiaires d'une mesure de protect...</td>\n",
       "    </tr>\n",
       "    <tr>\n",
       "      <th>4</th>\n",
       "      <td>4204</td>\n",
       "      <td>STRASBOURG</td>\n",
       "      <td>B</td>\n",
       "      <td>Bassin</td>\n",
       "      <td>1</td>\n",
       "      <td>CDI</td>\n",
       "      <td>7</td>\n",
       "      <td>50.00</td>\n",
       "      <td>H2202</td>\n",
       "      <td>Conduite d'équipement de fabrication de l'ameu...</td>\n",
       "    </tr>\n",
       "  </tbody>\n",
       "</table>\n",
       "</div>"
      ],
      "text/plain": [
       "  AREA_CODE            AREA_NAME AREA_TYPE_CODE AREA_TYPE_NAME  \\\n",
       "0      7327       CASTELSARRASIN              B         Bassin   \n",
       "1      4203  SARRE-UNION SAVERNE              B         Bassin   \n",
       "2      4203  SARRE-UNION SAVERNE              B         Bassin   \n",
       "3      4204           STRASBOURG              B         Bassin   \n",
       "4      4204           STRASBOURG              B         Bassin   \n",
       "\n",
       "   CONTRACT_TYPE_CODE CONTRACT_TYPE_NAME  NB_OFFERS  OFFERS_PERCENT  \\\n",
       "0                   4            Intérim          3          100.00   \n",
       "1                   3       CDD > 3 mois         12           85.71   \n",
       "2                   4            Intérim          7           70.00   \n",
       "3                   3       CDD > 3 mois          3           60.00   \n",
       "4                   1                CDI          7           50.00   \n",
       "\n",
       "  ROME_PROFESSION_CARD_CODE                          ROME_PROFESSION_CARD_NAME  \n",
       "0                     I1310                 Maintenance mécanique industrielle  \n",
       "1                     K2104  Éducation et surveillance au sein d'établissem...  \n",
       "2                     H2102    Conduite d'équipement de production alimentaire  \n",
       "3                     K1102  Aide aux bénéficiaires d'une mesure de protect...  \n",
       "4                     H2202  Conduite d'équipement de fabrication de l'ameu...  "
      ]
     },
     "execution_count": 1,
     "metadata": {},
     "output_type": "execute_result"
    }
   ],
   "source": [
    "import os\n",
    "from os import path\n",
    "\n",
    "import matplotlib\n",
    "import pandas as pd\n",
    "import seaborn as _\n",
    "\n",
    "DATA_FOLDER = os.getenv('DATA_FOLDER')\n",
    "\n",
    "employment_types = pd.read_csv(path.join(DATA_FOLDER, 'imt/employment_type.csv'), dtype={'AREA_CODE': 'str'})\n",
    "employment_types.head()"
   ]
  },
  {
   "cell_type": "markdown",
   "metadata": {},
   "source": [
    "Done! So we have access to different area types, contract types for each area and a number and percentage of offers. [Documentation](https://www.emploi-store-dev.fr/portail-developpeur-cms/home/catalogue-des-api/documentation-des-api/api-infotravail-v1/api-infotravail-imt/types-contrats-utilises.html;JSESSIONID_JAHIA=58E556F7FE4784C2498242D3BA5C4F88) defines the number of offers as the number of offers with this contract type for a specific market (a given area and a particular job). Same idea for percentages. Note that data are updated annually.\n",
    "\n",
    "**How big is this dataset (how many rows)?**"
   ]
  },
  {
   "cell_type": "code",
   "execution_count": 2,
   "metadata": {},
   "outputs": [
    {
     "data": {
      "text/plain": [
       "417241"
      ]
     },
     "execution_count": 2,
     "metadata": {},
     "output_type": "execute_result"
    }
   ],
   "source": [
    "len(employment_types)"
   ]
  },
  {
   "cell_type": "markdown",
   "metadata": {},
   "source": [
    "Not that bad!\n",
    "\n",
    "**Any missing value?**"
   ]
  },
  {
   "cell_type": "code",
   "execution_count": 3,
   "metadata": {},
   "outputs": [
    {
     "data": {
      "text/html": [
       "<div>\n",
       "<table border=\"1\" class=\"dataframe\">\n",
       "  <thead>\n",
       "    <tr style=\"text-align: right;\">\n",
       "      <th></th>\n",
       "      <th>AREA_CODE</th>\n",
       "      <th>AREA_NAME</th>\n",
       "      <th>AREA_TYPE_CODE</th>\n",
       "      <th>AREA_TYPE_NAME</th>\n",
       "      <th>CONTRACT_TYPE_CODE</th>\n",
       "      <th>CONTRACT_TYPE_NAME</th>\n",
       "      <th>NB_OFFERS</th>\n",
       "      <th>OFFERS_PERCENT</th>\n",
       "      <th>ROME_PROFESSION_CARD_CODE</th>\n",
       "      <th>ROME_PROFESSION_CARD_NAME</th>\n",
       "    </tr>\n",
       "  </thead>\n",
       "  <tbody>\n",
       "    <tr>\n",
       "      <th>count</th>\n",
       "      <td>417241</td>\n",
       "      <td>417241</td>\n",
       "      <td>417241</td>\n",
       "      <td>417241</td>\n",
       "      <td>417241</td>\n",
       "      <td>417241</td>\n",
       "      <td>417241</td>\n",
       "      <td>417241</td>\n",
       "      <td>417241</td>\n",
       "      <td>417241</td>\n",
       "    </tr>\n",
       "    <tr>\n",
       "      <th>unique</th>\n",
       "      <td>1</td>\n",
       "      <td>1</td>\n",
       "      <td>1</td>\n",
       "      <td>1</td>\n",
       "      <td>1</td>\n",
       "      <td>1</td>\n",
       "      <td>1</td>\n",
       "      <td>1</td>\n",
       "      <td>1</td>\n",
       "      <td>1</td>\n",
       "    </tr>\n",
       "    <tr>\n",
       "      <th>top</th>\n",
       "      <td>False</td>\n",
       "      <td>False</td>\n",
       "      <td>False</td>\n",
       "      <td>False</td>\n",
       "      <td>False</td>\n",
       "      <td>False</td>\n",
       "      <td>False</td>\n",
       "      <td>False</td>\n",
       "      <td>False</td>\n",
       "      <td>False</td>\n",
       "    </tr>\n",
       "    <tr>\n",
       "      <th>freq</th>\n",
       "      <td>417241</td>\n",
       "      <td>417241</td>\n",
       "      <td>417241</td>\n",
       "      <td>417241</td>\n",
       "      <td>417241</td>\n",
       "      <td>417241</td>\n",
       "      <td>417241</td>\n",
       "      <td>417241</td>\n",
       "      <td>417241</td>\n",
       "      <td>417241</td>\n",
       "    </tr>\n",
       "  </tbody>\n",
       "</table>\n",
       "</div>"
      ],
      "text/plain": [
       "       AREA_CODE AREA_NAME AREA_TYPE_CODE AREA_TYPE_NAME CONTRACT_TYPE_CODE  \\\n",
       "count     417241    417241         417241         417241             417241   \n",
       "unique         1         1              1              1                  1   \n",
       "top        False     False          False          False              False   \n",
       "freq      417241    417241         417241         417241             417241   \n",
       "\n",
       "       CONTRACT_TYPE_NAME NB_OFFERS OFFERS_PERCENT ROME_PROFESSION_CARD_CODE  \\\n",
       "count              417241    417241         417241                    417241   \n",
       "unique                  1         1              1                         1   \n",
       "top                 False     False          False                     False   \n",
       "freq               417241    417241         417241                    417241   \n",
       "\n",
       "       ROME_PROFESSION_CARD_NAME  \n",
       "count                     417241  \n",
       "unique                         1  \n",
       "top                        False  \n",
       "freq                      417241  "
      ]
     },
     "execution_count": 3,
     "metadata": {},
     "output_type": "execute_result"
    }
   ],
   "source": [
    "employment_types.isnull().describe()"
   ]
  },
  {
   "cell_type": "markdown",
   "metadata": {},
   "source": [
    "Nope! Good Job Pôle Emploi!\n",
    "\n",
    "**How many types of contract do we have?**"
   ]
  },
  {
   "cell_type": "code",
   "execution_count": 4,
   "metadata": {},
   "outputs": [
    {
     "data": {
      "text/plain": [
       "array(['Intérim', 'CDD > 3 mois', 'CDI', 'CDD <= 3 mois', 'Autre'], dtype=object)"
      ]
     },
     "execution_count": 4,
     "metadata": {},
     "output_type": "execute_result"
    }
   ],
   "source": [
    "employment_types.CONTRACT_TYPE_NAME.unique()"
   ]
  },
  {
   "cell_type": "markdown",
   "metadata": {},
   "source": [
    "The expected types are here. Short-term, long-term, permanent... and even \"others\".\n",
    "\n",
    "**How many job groups?**"
   ]
  },
  {
   "cell_type": "code",
   "execution_count": 5,
   "metadata": {},
   "outputs": [
    {
     "data": {
      "text/plain": [
       "531"
      ]
     },
     "execution_count": 5,
     "metadata": {},
     "output_type": "execute_result"
    }
   ],
   "source": [
    "rome_list = employment_types.ROME_PROFESSION_CARD_CODE.unique()\n",
    "rome_list.size"
   ]
  },
  {
   "cell_type": "code",
   "execution_count": 6,
   "metadata": {},
   "outputs": [
    {
     "data": {
      "text/plain": [
       "False"
      ]
     },
     "execution_count": 6,
     "metadata": {},
     "output_type": "execute_result"
    }
   ],
   "source": [
    "'L1510' in rome_list"
   ]
  },
  {
   "cell_type": "markdown",
   "metadata": {},
   "source": [
    "Almost... The job group with ROME code L1510 (latest addition to the job groups) is not yet part of this team. Remember that this dataset is updated annually...\n",
    "\n",
    "How many area types do we have?"
   ]
  },
  {
   "cell_type": "code",
   "execution_count": 7,
   "metadata": {},
   "outputs": [
    {
     "data": {
      "text/plain": [
       "array(['Bassin', 'Département', 'Région', 'France entière'], dtype=object)"
      ]
     },
     "execution_count": 7,
     "metadata": {},
     "output_type": "execute_result"
    }
   ],
   "source": [
    "employment_types.AREA_TYPE_NAME.unique()"
   ]
  },
  {
   "cell_type": "markdown",
   "metadata": {},
   "source": [
    "We have four different area types. Good.\n",
    "\n",
    "**Let's see if every region is represented.**"
   ]
  },
  {
   "cell_type": "code",
   "execution_count": 8,
   "metadata": {},
   "outputs": [
    {
     "data": {
      "text/plain": [
       "18"
      ]
     },
     "execution_count": 8,
     "metadata": {},
     "output_type": "execute_result"
    }
   ],
   "source": [
    "employment_types[employment_types.AREA_TYPE_CODE == 'R'].AREA_CODE.unique().size"
   ]
  },
  {
   "cell_type": "markdown",
   "metadata": {},
   "source": [
    "Yes! In France, in Septempber 2017 there are [13 metropolitan regions and 5 overseas regions](https://en.wikipedia.org/wiki/Regions_of_France#cite_note-INSEE-1).\n",
    "\n",
    "**Same for the departments! Anyone missing??**"
   ]
  },
  {
   "cell_type": "code",
   "execution_count": 9,
   "metadata": {},
   "outputs": [
    {
     "data": {
      "text/plain": [
       "103"
      ]
     },
     "execution_count": 9,
     "metadata": {},
     "output_type": "execute_result"
    }
   ],
   "source": [
    "employment_types[employment_types.AREA_TYPE_CODE == 'D'].AREA_CODE.unique().size"
   ]
  },
  {
   "cell_type": "markdown",
   "metadata": {},
   "source": [
    "Hmm. We would expect [101](https://fr.wikipedia.org/wiki/Liste_des_d%C3%A9partements_fran%C3%A7ais).\n",
    "\n",
    "**Let's see which ones are not expected (but truly welcomed)…**"
   ]
  },
  {
   "cell_type": "code",
   "execution_count": 10,
   "metadata": {},
   "outputs": [
    {
     "data": {
      "text/plain": [
       "array(['01', '02', '03', '04', '05', '06', '07', '08', '09', '10', '11',\n",
       "       '12', '13', '14', '15', '16', '17', '18', '19', '21', '22', '23',\n",
       "       '24', '25', '26', '27', '28', '29', '2A', '2B', '30', '31', '32',\n",
       "       '33', '34', '35', '36', '37', '38', '39', '40', '41', '42', '43',\n",
       "       '44', '45', '46', '47', '48', '49', '50', '51', '52', '53', '54',\n",
       "       '55', '56', '57', '58', '59', '60', '61', '62', '63', '64', '65',\n",
       "       '66', '67', '68', '69', '70', '71', '72', '73', '74', '75', '76',\n",
       "       '77', '78', '79', '80', '81', '82', '83', '84', '85', '86', '87',\n",
       "       '88', '89', '90', '91', '92', '93', '94', '95', '971', '972', '973',\n",
       "       '974', '976', '977', '978'], dtype=object)"
      ]
     },
     "execution_count": 10,
     "metadata": {},
     "output_type": "execute_result"
    }
   ],
   "source": [
    "employment_types[employment_types.AREA_TYPE_CODE == 'D'].AREA_CODE.sort_values().unique()"
   ]
  },
  {
   "cell_type": "markdown",
   "metadata": {},
   "source": [
    "The overseas collectivities of Saint-Barthélémy et Saint-Martin are defined here as departments. So far so good.\n",
    "\n",
    "**Ok we have regions, departments, \"bassin\"... But how many areas in total are there?**"
   ]
  },
  {
   "cell_type": "code",
   "execution_count": 11,
   "metadata": {},
   "outputs": [
    {
     "data": {
      "text/plain": [
       "527"
      ]
     },
     "execution_count": 11,
     "metadata": {},
     "output_type": "execute_result"
    }
   ],
   "source": [
    "len(employment_types.groupby(['AREA_CODE', 'AREA_TYPE_CODE']))"
   ]
  },
  {
   "cell_type": "markdown",
   "metadata": {},
   "source": [
    "OK! So we would expect `527 * 5 * 531 = 1399185` lines. Thus leaving 981944 (~70%) missing lines.\n",
    "\n",
    "**Why are these lines missing?** Maybe uninformative rows (e.g. rows with zero offers) are missing (we've seen that before...). Let's get a brief description of the number and percentage of offers."
   ]
  },
  {
   "cell_type": "code",
   "execution_count": 12,
   "metadata": {},
   "outputs": [
    {
     "data": {
      "text/html": [
       "<div>\n",
       "<table border=\"1\" class=\"dataframe\">\n",
       "  <thead>\n",
       "    <tr style=\"text-align: right;\">\n",
       "      <th></th>\n",
       "      <th>NB_OFFERS</th>\n",
       "      <th>OFFERS_PERCENT</th>\n",
       "    </tr>\n",
       "  </thead>\n",
       "  <tbody>\n",
       "    <tr>\n",
       "      <th>count</th>\n",
       "      <td>417241.000000</td>\n",
       "      <td>417241.000000</td>\n",
       "    </tr>\n",
       "    <tr>\n",
       "      <th>mean</th>\n",
       "      <td>28.716363</td>\n",
       "      <td>39.683540</td>\n",
       "    </tr>\n",
       "    <tr>\n",
       "      <th>std</th>\n",
       "      <td>310.264395</td>\n",
       "      <td>30.839346</td>\n",
       "    </tr>\n",
       "    <tr>\n",
       "      <th>min</th>\n",
       "      <td>1.000000</td>\n",
       "      <td>0.010000</td>\n",
       "    </tr>\n",
       "    <tr>\n",
       "      <th>25%</th>\n",
       "      <td>1.000000</td>\n",
       "      <td>14.290000</td>\n",
       "    </tr>\n",
       "    <tr>\n",
       "      <th>50%</th>\n",
       "      <td>4.000000</td>\n",
       "      <td>33.330000</td>\n",
       "    </tr>\n",
       "    <tr>\n",
       "      <th>75%</th>\n",
       "      <td>12.000000</td>\n",
       "      <td>58.340000</td>\n",
       "    </tr>\n",
       "    <tr>\n",
       "      <th>max</th>\n",
       "      <td>50854.000000</td>\n",
       "      <td>100.000000</td>\n",
       "    </tr>\n",
       "  </tbody>\n",
       "</table>\n",
       "</div>"
      ],
      "text/plain": [
       "           NB_OFFERS  OFFERS_PERCENT\n",
       "count  417241.000000   417241.000000\n",
       "mean       28.716363       39.683540\n",
       "std       310.264395       30.839346\n",
       "min         1.000000        0.010000\n",
       "25%         1.000000       14.290000\n",
       "50%         4.000000       33.330000\n",
       "75%        12.000000       58.340000\n",
       "max     50854.000000      100.000000"
      ]
     },
     "execution_count": 12,
     "metadata": {},
     "output_type": "execute_result"
    }
   ],
   "source": [
    "employment_types[['NB_OFFERS', 'OFFERS_PERCENT']].describe()"
   ]
  },
  {
   "cell_type": "markdown",
   "metadata": {},
   "source": [
    "First thing first, there are no row with zero offers. The good news is that no percentage of offers is above 100. I don't know if you feel the same but the maximum number of offers seems crazy to me!\n",
    "\n",
    "Let's have a closer look at this one."
   ]
  },
  {
   "cell_type": "code",
   "execution_count": 13,
   "metadata": {},
   "outputs": [
    {
     "data": {
      "text/html": [
       "<div>\n",
       "<table border=\"1\" class=\"dataframe\">\n",
       "  <thead>\n",
       "    <tr style=\"text-align: right;\">\n",
       "      <th></th>\n",
       "      <th>AREA_NAME</th>\n",
       "      <th>CONTRACT_TYPE_NAME</th>\n",
       "      <th>NB_OFFERS</th>\n",
       "      <th>OFFERS_PERCENT</th>\n",
       "      <th>ROME_PROFESSION_CARD_NAME</th>\n",
       "    </tr>\n",
       "  </thead>\n",
       "  <tbody>\n",
       "    <tr>\n",
       "      <th>390100</th>\n",
       "      <td>FRANCE ENTIERE</td>\n",
       "      <td>CDI</td>\n",
       "      <td>50854</td>\n",
       "      <td>60.25</td>\n",
       "      <td>Assistance auprès d'enfants</td>\n",
       "    </tr>\n",
       "  </tbody>\n",
       "</table>\n",
       "</div>"
      ],
      "text/plain": [
       "             AREA_NAME CONTRACT_TYPE_NAME  NB_OFFERS  OFFERS_PERCENT  \\\n",
       "390100  FRANCE ENTIERE                CDI      50854           60.25   \n",
       "\n",
       "          ROME_PROFESSION_CARD_NAME  \n",
       "390100  Assistance auprès d'enfants  "
      ]
     },
     "execution_count": 13,
     "metadata": {},
     "output_type": "execute_result"
    }
   ],
   "source": [
    "employment_types[employment_types.NB_OFFERS == 50854]\\\n",
    "    [['AREA_NAME', 'CONTRACT_TYPE_NAME', 'NB_OFFERS', 'OFFERS_PERCENT', 'ROME_PROFESSION_CARD_NAME']]"
   ]
  },
  {
   "cell_type": "markdown",
   "metadata": {},
   "source": [
    "Seems legit. Nothing crazy here... Plenty of permanent position offers in children care on a national scope.\n",
    "\n",
    "**Maybe we should check that the sum of the percentages are close to 100%?**"
   ]
  },
  {
   "cell_type": "code",
   "execution_count": 14,
   "metadata": {
    "collapsed": true
   },
   "outputs": [],
   "source": [
    "def sum_percentages(job_contracts):\n",
    "    num_contracts = len(job_contracts) \n",
    "    sum = 0.0\n",
    "    for i in range(num_contracts):\n",
    "        sum += job_contracts.OFFERS_PERCENT.iloc[i]\n",
    "    if sum < 99.9 or sum > 100.1:\n",
    "        print('{} {}'.format(job_contracts.ROME_PROFESSION_CARD_NAME, sum))\n",
    "\n",
    "employment_types.groupby(['AREA_CODE', 'AREA_TYPE_CODE', 'ROME_PROFESSION_CARD_CODE']).apply(sum_percentages);"
   ]
  },
  {
   "cell_type": "markdown",
   "metadata": {},
   "source": [
    "Great!! Everything is as expected.\n",
    "\n",
    "## Conclusion\n",
    "\n",
    "This dataset is super clean.\n",
    "The most recent job group 'L1510' is not used here.\n",
    "To be present in the dataset a job has to have at least one offer with a specific employment type in an area. That leads to a lot of missing rows.\n",
    "\n",
    "## Overview and Comparison with Website Data\n",
    "\n",
    "The scraped data provide the percentage of offers at the department level for a specific job group. So, the main differences are the availability of other area levels and the raw number of offers. We'll see how consistent this is.\n",
    "\n",
    "**An additional explanation for the high number of missing rows could be the fact that employment types are super specific for a market (job group x area intersection).**"
   ]
  },
  {
   "cell_type": "code",
   "execution_count": 15,
   "metadata": {},
   "outputs": [
    {
     "data": {
      "image/png": "[encoded data removed]",
      "text/plain": [
       "<matplotlib.figure.Figure at 0x7f84c8b3f3c8>"
      ]
     },
     "metadata": {
      "image/png": {
       "height": 326,
       "width": 487
      }
     },
     "output_type": "display_data"
    }
   ],
   "source": [
    "employment_types.groupby(['AREA_CODE', 'AREA_TYPE_CODE', 'ROME_PROFESSION_CARD_CODE'])\\\n",
    "    .size()\\\n",
    "    .value_counts(normalize=True)\\\n",
    "    .sort_index()\\\n",
    "    .plot(kind='bar');"
   ]
  },
  {
   "cell_type": "markdown",
   "metadata": {},
   "source": [
    "Our hypothesis was not that bad. Only 5% of the markets have observations for the 5 employment types. Hopefully, we won't have too much of the \"Other\" category which does not mean a lot.\n",
    "\n",
    "**Out of curiosity, what are the jobs that need \"other\" contract types?**"
   ]
  },
  {
   "cell_type": "code",
   "execution_count": 16,
   "metadata": {},
   "outputs": [
    {
     "data": {
      "text/html": [
       "<div>\n",
       "<table border=\"1\" class=\"dataframe\">\n",
       "  <thead>\n",
       "    <tr style=\"text-align: right;\">\n",
       "      <th></th>\n",
       "      <th>AREA_NAME</th>\n",
       "      <th>AREA_TYPE_NAME</th>\n",
       "      <th>NB_OFFERS</th>\n",
       "      <th>OFFERS_PERCENT</th>\n",
       "      <th>ROME_PROFESSION_CARD_NAME</th>\n",
       "    </tr>\n",
       "  </thead>\n",
       "  <tbody>\n",
       "    <tr>\n",
       "      <th>367868</th>\n",
       "      <td>FRANCE ENTIERE</td>\n",
       "      <td>France entière</td>\n",
       "      <td>18942</td>\n",
       "      <td>37.26</td>\n",
       "      <td>Relation commerciale auprès de particuliers</td>\n",
       "    </tr>\n",
       "    <tr>\n",
       "      <th>388555</th>\n",
       "      <td>FRANCE ENTIERE</td>\n",
       "      <td>France entière</td>\n",
       "      <td>8743</td>\n",
       "      <td>43.81</td>\n",
       "      <td>Transaction immobilière</td>\n",
       "    </tr>\n",
       "    <tr>\n",
       "      <th>373351</th>\n",
       "      <td>FRANCE ENTIERE</td>\n",
       "      <td>France entière</td>\n",
       "      <td>6124</td>\n",
       "      <td>24.89</td>\n",
       "      <td>Entretien des espaces verts</td>\n",
       "    </tr>\n",
       "    <tr>\n",
       "      <th>404937</th>\n",
       "      <td>FRANCE ENTIERE</td>\n",
       "      <td>France entière</td>\n",
       "      <td>4601</td>\n",
       "      <td>11.40</td>\n",
       "      <td>Relation commerciale grands comptes et entrepr...</td>\n",
       "    </tr>\n",
       "    <tr>\n",
       "      <th>393752</th>\n",
       "      <td>FRANCE ENTIERE</td>\n",
       "      <td>France entière</td>\n",
       "      <td>3712</td>\n",
       "      <td>54.15</td>\n",
       "      <td>Direction de petite ou moyenne entreprise</td>\n",
       "    </tr>\n",
       "    <tr>\n",
       "      <th>384237</th>\n",
       "      <td>PAYS DE LA LOIRE</td>\n",
       "      <td>Région</td>\n",
       "      <td>2951</td>\n",
       "      <td>94.98</td>\n",
       "      <td>Direction de petite ou moyenne entreprise</td>\n",
       "    </tr>\n",
       "    <tr>\n",
       "      <th>16424</th>\n",
       "      <td>LE MANS</td>\n",
       "      <td>Bassin</td>\n",
       "      <td>2925</td>\n",
       "      <td>98.88</td>\n",
       "      <td>Direction de petite ou moyenne entreprise</td>\n",
       "    </tr>\n",
       "    <tr>\n",
       "      <th>271141</th>\n",
       "      <td>SARTHE</td>\n",
       "      <td>Département</td>\n",
       "      <td>2925</td>\n",
       "      <td>98.69</td>\n",
       "      <td>Direction de petite ou moyenne entreprise</td>\n",
       "    </tr>\n",
       "    <tr>\n",
       "      <th>370203</th>\n",
       "      <td>PAYS DE LA LOIRE</td>\n",
       "      <td>Région</td>\n",
       "      <td>2863</td>\n",
       "      <td>71.38</td>\n",
       "      <td>Entretien des espaces verts</td>\n",
       "    </tr>\n",
       "    <tr>\n",
       "      <th>394145</th>\n",
       "      <td>FRANCE ENTIERE</td>\n",
       "      <td>France entière</td>\n",
       "      <td>2707</td>\n",
       "      <td>10.95</td>\n",
       "      <td>Maintenance des bâtiments et des locaux</td>\n",
       "    </tr>\n",
       "  </tbody>\n",
       "</table>\n",
       "</div>"
      ],
      "text/plain": [
       "               AREA_NAME  AREA_TYPE_NAME  NB_OFFERS  OFFERS_PERCENT  \\\n",
       "367868    FRANCE ENTIERE  France entière      18942           37.26   \n",
       "388555    FRANCE ENTIERE  France entière       8743           43.81   \n",
       "373351    FRANCE ENTIERE  France entière       6124           24.89   \n",
       "404937    FRANCE ENTIERE  France entière       4601           11.40   \n",
       "393752    FRANCE ENTIERE  France entière       3712           54.15   \n",
       "384237  PAYS DE LA LOIRE          Région       2951           94.98   \n",
       "16424            LE MANS          Bassin       2925           98.88   \n",
       "271141            SARTHE     Département       2925           98.69   \n",
       "370203  PAYS DE LA LOIRE          Région       2863           71.38   \n",
       "394145    FRANCE ENTIERE  France entière       2707           10.95   \n",
       "\n",
       "                                ROME_PROFESSION_CARD_NAME  \n",
       "367868        Relation commerciale auprès de particuliers  \n",
       "388555                            Transaction immobilière  \n",
       "373351                        Entretien des espaces verts  \n",
       "404937  Relation commerciale grands comptes et entrepr...  \n",
       "393752          Direction de petite ou moyenne entreprise  \n",
       "384237          Direction de petite ou moyenne entreprise  \n",
       "16424           Direction de petite ou moyenne entreprise  \n",
       "271141          Direction de petite ou moyenne entreprise  \n",
       "370203                        Entretien des espaces verts  \n",
       "394145            Maintenance des bâtiments et des locaux  "
      ]
     },
     "execution_count": 16,
     "metadata": {},
     "output_type": "execute_result"
    }
   ],
   "source": [
    "employment_types[employment_types.CONTRACT_TYPE_CODE  == 99]\\\n",
    "    .sort_values('NB_OFFERS', ascending = False)\\\n",
    "    [['AREA_NAME', 'AREA_TYPE_NAME', 'NB_OFFERS', 'OFFERS_PERCENT', 'ROME_PROFESSION_CARD_NAME']]\\\n",
    "    .head(10)"
   ]
  },
  {
   "cell_type": "markdown",
   "metadata": {},
   "source": [
    "Ok that makes sense... We can find here entrepreneurs. As internships are not in our list of contract types, we can imagine that we would find them in this category.\n",
    "\n",
    "**Let's have a look to how many of each employment type we have.**"
   ]
  },
  {
   "cell_type": "code",
   "execution_count": 17,
   "metadata": {},
   "outputs": [
    {
     "data": {
      "image/png": "[encoded data removed]",
      "text/plain": [
       "<matplotlib.figure.Figure at 0x7f84c815aa58>"
      ]
     },
     "metadata": {
      "image/png": {
       "height": 388,
       "width": 487
      }
     },
     "output_type": "display_data"
    }
   ],
   "source": [
    "employment_types.CONTRACT_TYPE_NAME.value_counts(normalize=True)\\\n",
    "    .plot(kind='bar');"
   ]
  },
  {
   "cell_type": "markdown",
   "metadata": {},
   "source": [
    "Great the not-super-useful \"Other\" category is in a minority. Longer duration contracts are more often observed that shorter ones. Good for the future applicants!\n",
    "\n",
    "One of the main difference is that we have now access to the number of observations not only to the percentages.\n",
    "**So it may be interesting to know what part of these observations is based on very few observations.** We focus here on the markets that have only 1 employment type observed. Why those? First, because it is easier (we are lazy). But also because, these are the ones more prone to be covered only by few observations (when you have only 1 observation it represents 100% of the cases... Quick win!)."
   ]
  },
  {
   "cell_type": "code",
   "execution_count": 18,
   "metadata": {},
   "outputs": [
    {
     "data": {
      "text/plain": [
       "48090"
      ]
     },
     "execution_count": 18,
     "metadata": {},
     "output_type": "execute_result"
    },
    {
     "data": {
      "image/png": "[encoded data removed]",
      "text/plain": [
       "<matplotlib.figure.Figure at 0x7f84c8144978>"
      ]
     },
     "metadata": {
      "image/png": {
       "height": 329,
       "width": 473
      }
     },
     "output_type": "display_data"
    }
   ],
   "source": [
    "employment_types[employment_types.OFFERS_PERCENT == 100]\\\n",
    "    .NB_OFFERS.plot(kind='box', showfliers=False)\n",
    "len(employment_types[employment_types.OFFERS_PERCENT == 100])"
   ]
  },
  {
   "cell_type": "markdown",
   "metadata": {},
   "source": [
    "Half of the 48090 markets with 1 contract type observed 100% of the time, have only 1 offer observed for this contract. That is a lot. Thus, setting a minimum threshold of offers seems like a good idea.\n",
    "\n",
    "BTW, before dropping those rows, let's sum all of them to see what are the global numbers for the whole country. First let's check that we have the same totals for each area type:"
   ]
  },
  {
   "cell_type": "code",
   "execution_count": 19,
   "metadata": {},
   "outputs": [
    {
     "data": {
      "text/html": [
       "<div>\n",
       "<table border=\"1\" class=\"dataframe\">\n",
       "  <thead>\n",
       "    <tr style=\"text-align: right;\">\n",
       "      <th>AREA_TYPE_CODE</th>\n",
       "      <th>B</th>\n",
       "      <th>D</th>\n",
       "      <th>F</th>\n",
       "      <th>R</th>\n",
       "    </tr>\n",
       "    <tr>\n",
       "      <th>CONTRACT_TYPE_NAME</th>\n",
       "      <th></th>\n",
       "      <th></th>\n",
       "      <th></th>\n",
       "      <th></th>\n",
       "    </tr>\n",
       "  </thead>\n",
       "  <tbody>\n",
       "    <tr>\n",
       "      <th>Autre</th>\n",
       "      <td>92209</td>\n",
       "      <td>92209</td>\n",
       "      <td>92209</td>\n",
       "      <td>92209</td>\n",
       "    </tr>\n",
       "    <tr>\n",
       "      <th>CDD &lt;= 3 mois</th>\n",
       "      <td>563772</td>\n",
       "      <td>563772</td>\n",
       "      <td>563772</td>\n",
       "      <td>563772</td>\n",
       "    </tr>\n",
       "    <tr>\n",
       "      <th>CDD &gt; 3 mois</th>\n",
       "      <td>783015</td>\n",
       "      <td>783015</td>\n",
       "      <td>783015</td>\n",
       "      <td>783015</td>\n",
       "    </tr>\n",
       "    <tr>\n",
       "      <th>CDI</th>\n",
       "      <td>1144264</td>\n",
       "      <td>1144264</td>\n",
       "      <td>1144264</td>\n",
       "      <td>1144264</td>\n",
       "    </tr>\n",
       "    <tr>\n",
       "      <th>Intérim</th>\n",
       "      <td>412151</td>\n",
       "      <td>412151</td>\n",
       "      <td>412151</td>\n",
       "      <td>412151</td>\n",
       "    </tr>\n",
       "  </tbody>\n",
       "</table>\n",
       "</div>"
      ],
      "text/plain": [
       "AREA_TYPE_CODE            B        D        F        R\n",
       "CONTRACT_TYPE_NAME                                    \n",
       "Autre                 92209    92209    92209    92209\n",
       "CDD <= 3 mois        563772   563772   563772   563772\n",
       "CDD > 3 mois         783015   783015   783015   783015\n",
       "CDI                 1144264  1144264  1144264  1144264\n",
       "Intérim              412151   412151   412151   412151"
      ]
     },
     "execution_count": 19,
     "metadata": {},
     "output_type": "execute_result"
    }
   ],
   "source": [
    "employment_types\\\n",
    "    .groupby(['AREA_TYPE_CODE', 'CONTRACT_TYPE_NAME']).NB_OFFERS.sum()\\\n",
    "    .sort_values(ascending=False)\\\n",
    "    .to_frame('total_offers')\\\n",
    "    .reset_index()\\\n",
    "    .pivot(index='CONTRACT_TYPE_NAME', columns='AREA_TYPE_CODE', values='total_offers')"
   ]
  },
  {
   "cell_type": "markdown",
   "metadata": {},
   "source": [
    "Perfect, congrats Pôle emploi, no offers got lost in the count. So now let's plot the distribution as a ratio."
   ]
  },
  {
   "cell_type": "code",
   "execution_count": 20,
   "metadata": {},
   "outputs": [
    {
     "data": {
      "text/html": [
       "<div>\n",
       "<table border=\"1\" class=\"dataframe\">\n",
       "  <thead>\n",
       "    <tr style=\"text-align: right;\">\n",
       "      <th></th>\n",
       "      <th>ratio_offers</th>\n",
       "    </tr>\n",
       "    <tr>\n",
       "      <th>CONTRACT_TYPE_NAME</th>\n",
       "      <th></th>\n",
       "    </tr>\n",
       "  </thead>\n",
       "  <tbody>\n",
       "    <tr>\n",
       "      <th>CDI</th>\n",
       "      <td>0.382006</td>\n",
       "    </tr>\n",
       "    <tr>\n",
       "      <th>CDD &gt; 3 mois</th>\n",
       "      <td>0.261405</td>\n",
       "    </tr>\n",
       "    <tr>\n",
       "      <th>CDD &lt;= 3 mois</th>\n",
       "      <td>0.188212</td>\n",
       "    </tr>\n",
       "    <tr>\n",
       "      <th>Intérim</th>\n",
       "      <td>0.137594</td>\n",
       "    </tr>\n",
       "    <tr>\n",
       "      <th>Autre</th>\n",
       "      <td>0.030783</td>\n",
       "    </tr>\n",
       "  </tbody>\n",
       "</table>\n",
       "</div>"
      ],
      "text/plain": [
       "                    ratio_offers\n",
       "CONTRACT_TYPE_NAME              \n",
       "CDI                     0.382006\n",
       "CDD > 3 mois            0.261405\n",
       "CDD <= 3 mois           0.188212\n",
       "Intérim                 0.137594\n",
       "Autre                   0.030783"
      ]
     },
     "execution_count": 20,
     "metadata": {},
     "output_type": "execute_result"
    },
    {
     "data": {
      "image/png": "[encoded data removed]",
      "text/plain": [
       "<matplotlib.figure.Figure at 0x7f84c7c67898>"
      ]
     },
     "metadata": {
      "image/png": {
       "height": 286,
       "width": 345
      }
     },
     "output_type": "display_data"
    }
   ],
   "source": [
    "total_offers = employment_types[employment_types.AREA_TYPE_CODE == 'F']\\\n",
    "    .groupby('CONTRACT_TYPE_NAME').NB_OFFERS.sum()\\\n",
    "    .sort_values(ascending=False)\n",
    "total_offers.plot(kind='pie', figsize=(5, 5)).axis('off')\n",
    "total_offers.div(total_offers.sum()).to_frame('ratio_offers')"
   ]
  },
  {
   "cell_type": "markdown",
   "metadata": {},
   "source": [
    "Wow, that's pretty cool, 38% of job offers are for long term employment, and a majority (64%) are for more than 3 months. That's a good news for jobseekers.\n",
    "\n",
    "OK back to more precise area types… **What is the distribution of the number of offers at the bassin, department and region levels?**\n",
    "\n",
    "Bassins:"
   ]
  },
  {
   "cell_type": "code",
   "execution_count": 21,
   "metadata": {},
   "outputs": [
    {
     "data": {
      "text/html": [
       "<div>\n",
       "<table border=\"1\" class=\"dataframe\">\n",
       "  <thead>\n",
       "    <tr style=\"text-align: right;\">\n",
       "      <th></th>\n",
       "      <th>NB_OFFERS</th>\n",
       "    </tr>\n",
       "  </thead>\n",
       "  <tbody>\n",
       "    <tr>\n",
       "      <th>count</th>\n",
       "      <td>268770.000000</td>\n",
       "    </tr>\n",
       "    <tr>\n",
       "      <th>mean</th>\n",
       "      <td>11.144886</td>\n",
       "    </tr>\n",
       "    <tr>\n",
       "      <th>std</th>\n",
       "      <td>43.436658</td>\n",
       "    </tr>\n",
       "    <tr>\n",
       "      <th>min</th>\n",
       "      <td>1.000000</td>\n",
       "    </tr>\n",
       "    <tr>\n",
       "      <th>25%</th>\n",
       "      <td>1.000000</td>\n",
       "    </tr>\n",
       "    <tr>\n",
       "      <th>50%</th>\n",
       "      <td>3.000000</td>\n",
       "    </tr>\n",
       "    <tr>\n",
       "      <th>75%</th>\n",
       "      <td>8.000000</td>\n",
       "    </tr>\n",
       "    <tr>\n",
       "      <th>max</th>\n",
       "      <td>6141.000000</td>\n",
       "    </tr>\n",
       "  </tbody>\n",
       "</table>\n",
       "</div>"
      ],
      "text/plain": [
       "           NB_OFFERS\n",
       "count  268770.000000\n",
       "mean       11.144886\n",
       "std        43.436658\n",
       "min         1.000000\n",
       "25%         1.000000\n",
       "50%         3.000000\n",
       "75%         8.000000\n",
       "max      6141.000000"
      ]
     },
     "execution_count": 21,
     "metadata": {},
     "output_type": "execute_result"
    }
   ],
   "source": [
    "employment_types[employment_types.AREA_TYPE_CODE == 'B'].NB_OFFERS.describe().to_frame()"
   ]
  },
  {
   "cell_type": "markdown",
   "metadata": {},
   "source": [
    "Departments:"
   ]
  },
  {
   "cell_type": "code",
   "execution_count": 22,
   "metadata": {},
   "outputs": [
    {
     "data": {
      "text/html": [
       "<div>\n",
       "<table border=\"1\" class=\"dataframe\">\n",
       "  <thead>\n",
       "    <tr style=\"text-align: right;\">\n",
       "      <th></th>\n",
       "      <th>NB_OFFERS</th>\n",
       "    </tr>\n",
       "  </thead>\n",
       "  <tbody>\n",
       "    <tr>\n",
       "      <th>count</th>\n",
       "      <td>117806.000000</td>\n",
       "    </tr>\n",
       "    <tr>\n",
       "      <th>mean</th>\n",
       "      <td>25.426642</td>\n",
       "    </tr>\n",
       "    <tr>\n",
       "      <th>std</th>\n",
       "      <td>91.445260</td>\n",
       "    </tr>\n",
       "    <tr>\n",
       "      <th>min</th>\n",
       "      <td>1.000000</td>\n",
       "    </tr>\n",
       "    <tr>\n",
       "      <th>25%</th>\n",
       "      <td>2.000000</td>\n",
       "    </tr>\n",
       "    <tr>\n",
       "      <th>50%</th>\n",
       "      <td>5.000000</td>\n",
       "    </tr>\n",
       "    <tr>\n",
       "      <th>75%</th>\n",
       "      <td>18.000000</td>\n",
       "    </tr>\n",
       "    <tr>\n",
       "      <th>max</th>\n",
       "      <td>6846.000000</td>\n",
       "    </tr>\n",
       "  </tbody>\n",
       "</table>\n",
       "</div>"
      ],
      "text/plain": [
       "           NB_OFFERS\n",
       "count  117806.000000\n",
       "mean       25.426642\n",
       "std        91.445260\n",
       "min         1.000000\n",
       "25%         2.000000\n",
       "50%         5.000000\n",
       "75%        18.000000\n",
       "max      6846.000000"
      ]
     },
     "execution_count": 22,
     "metadata": {},
     "output_type": "execute_result"
    }
   ],
   "source": [
    "employment_types[employment_types.AREA_TYPE_CODE == 'D'].NB_OFFERS.describe().to_frame()"
   ]
  },
  {
   "cell_type": "markdown",
   "metadata": {},
   "source": [
    "Regions:"
   ]
  },
  {
   "cell_type": "code",
   "execution_count": 23,
   "metadata": {},
   "outputs": [
    {
     "data": {
      "text/html": [
       "<div>\n",
       "<table border=\"1\" class=\"dataframe\">\n",
       "  <thead>\n",
       "    <tr style=\"text-align: right;\">\n",
       "      <th></th>\n",
       "      <th>NB_OFFERS</th>\n",
       "    </tr>\n",
       "  </thead>\n",
       "  <tbody>\n",
       "    <tr>\n",
       "      <th>count</th>\n",
       "      <td>28177.000000</td>\n",
       "    </tr>\n",
       "    <tr>\n",
       "      <th>mean</th>\n",
       "      <td>106.306952</td>\n",
       "    </tr>\n",
       "    <tr>\n",
       "      <th>std</th>\n",
       "      <td>364.240528</td>\n",
       "    </tr>\n",
       "    <tr>\n",
       "      <th>min</th>\n",
       "      <td>1.000000</td>\n",
       "    </tr>\n",
       "    <tr>\n",
       "      <th>25%</th>\n",
       "      <td>3.000000</td>\n",
       "    </tr>\n",
       "    <tr>\n",
       "      <th>50%</th>\n",
       "      <td>13.000000</td>\n",
       "    </tr>\n",
       "    <tr>\n",
       "      <th>75%</th>\n",
       "      <td>61.000000</td>\n",
       "    </tr>\n",
       "    <tr>\n",
       "      <th>max</th>\n",
       "      <td>11512.000000</td>\n",
       "    </tr>\n",
       "  </tbody>\n",
       "</table>\n",
       "</div>"
      ],
      "text/plain": [
       "          NB_OFFERS\n",
       "count  28177.000000\n",
       "mean     106.306952\n",
       "std      364.240528\n",
       "min        1.000000\n",
       "25%        3.000000\n",
       "50%       13.000000\n",
       "75%       61.000000\n",
       "max    11512.000000"
      ]
     },
     "execution_count": 23,
     "metadata": {},
     "output_type": "execute_result"
    }
   ],
   "source": [
    "employment_types[employment_types.AREA_TYPE_CODE == 'R'].NB_OFFERS.describe().to_frame()"
   ]
  },
  {
   "cell_type": "markdown",
   "metadata": {},
   "source": [
    "Overall, there aren't that much observations for each contract type x area x job group. At the department and Bassin levels, most of the jobs has less than 20 offers in the area. Thus let's stay cautious when considering those data.\n",
    "\n",
    "**Let's not focus on a specific contract type and look at the number of offers for each job groups.**\n",
    "First the regions:"
   ]
  },
  {
   "cell_type": "code",
   "execution_count": 24,
   "metadata": {},
   "outputs": [
    {
     "data": {
      "text/html": [
       "<div>\n",
       "<table border=\"1\" class=\"dataframe\">\n",
       "  <thead>\n",
       "    <tr style=\"text-align: right;\">\n",
       "      <th></th>\n",
       "      <th>total_offers</th>\n",
       "    </tr>\n",
       "  </thead>\n",
       "  <tbody>\n",
       "    <tr>\n",
       "      <th>count</th>\n",
       "      <td>8170.000000</td>\n",
       "    </tr>\n",
       "    <tr>\n",
       "      <th>mean</th>\n",
       "      <td>366.635373</td>\n",
       "    </tr>\n",
       "    <tr>\n",
       "      <th>std</th>\n",
       "      <td>1011.461364</td>\n",
       "    </tr>\n",
       "    <tr>\n",
       "      <th>min</th>\n",
       "      <td>1.000000</td>\n",
       "    </tr>\n",
       "    <tr>\n",
       "      <th>25%</th>\n",
       "      <td>9.000000</td>\n",
       "    </tr>\n",
       "    <tr>\n",
       "      <th>50%</th>\n",
       "      <td>52.000000</td>\n",
       "    </tr>\n",
       "    <tr>\n",
       "      <th>75%</th>\n",
       "      <td>246.000000</td>\n",
       "    </tr>\n",
       "    <tr>\n",
       "      <th>max</th>\n",
       "      <td>17450.000000</td>\n",
       "    </tr>\n",
       "  </tbody>\n",
       "</table>\n",
       "</div>"
      ],
      "text/plain": [
       "       total_offers\n",
       "count   8170.000000\n",
       "mean     366.635373\n",
       "std     1011.461364\n",
       "min        1.000000\n",
       "25%        9.000000\n",
       "50%       52.000000\n",
       "75%      246.000000\n",
       "max    17450.000000"
      ]
     },
     "execution_count": 24,
     "metadata": {},
     "output_type": "execute_result"
    }
   ],
   "source": [
    "offers_sum = employment_types.groupby(['AREA_CODE', 'AREA_TYPE_CODE', 'ROME_PROFESSION_CARD_CODE'])\\\n",
    "    .NB_OFFERS.sum()\\\n",
    "    .to_frame('total_offers')\\\n",
    "    .reset_index()\n",
    "offers_sum[offers_sum.AREA_TYPE_CODE == 'R'].describe()"
   ]
  },
  {
   "cell_type": "markdown",
   "metadata": {},
   "source": [
    "Departments:"
   ]
  },
  {
   "cell_type": "code",
   "execution_count": 25,
   "metadata": {},
   "outputs": [
    {
     "data": {
      "text/html": [
       "<div>\n",
       "<table border=\"1\" class=\"dataframe\">\n",
       "  <thead>\n",
       "    <tr style=\"text-align: right;\">\n",
       "      <th></th>\n",
       "      <th>total_offers</th>\n",
       "    </tr>\n",
       "  </thead>\n",
       "  <tbody>\n",
       "    <tr>\n",
       "      <th>count</th>\n",
       "      <td>41262.000000</td>\n",
       "    </tr>\n",
       "    <tr>\n",
       "      <th>mean</th>\n",
       "      <td>72.594906</td>\n",
       "    </tr>\n",
       "    <tr>\n",
       "      <th>std</th>\n",
       "      <td>214.831126</td>\n",
       "    </tr>\n",
       "    <tr>\n",
       "      <th>min</th>\n",
       "      <td>1.000000</td>\n",
       "    </tr>\n",
       "    <tr>\n",
       "      <th>25%</th>\n",
       "      <td>4.000000</td>\n",
       "    </tr>\n",
       "    <tr>\n",
       "      <th>50%</th>\n",
       "      <td>14.000000</td>\n",
       "    </tr>\n",
       "    <tr>\n",
       "      <th>75%</th>\n",
       "      <td>55.000000</td>\n",
       "    </tr>\n",
       "    <tr>\n",
       "      <th>max</th>\n",
       "      <td>8322.000000</td>\n",
       "    </tr>\n",
       "  </tbody>\n",
       "</table>\n",
       "</div>"
      ],
      "text/plain": [
       "       total_offers\n",
       "count  41262.000000\n",
       "mean      72.594906\n",
       "std      214.831126\n",
       "min        1.000000\n",
       "25%        4.000000\n",
       "50%       14.000000\n",
       "75%       55.000000\n",
       "max     8322.000000"
      ]
     },
     "execution_count": 25,
     "metadata": {},
     "output_type": "execute_result"
    }
   ],
   "source": [
    "offers_sum[offers_sum.AREA_TYPE_CODE == 'D'].describe()"
   ]
  },
  {
   "cell_type": "markdown",
   "metadata": {},
   "source": [
    "And, Bassins:"
   ]
  },
  {
   "cell_type": "code",
   "execution_count": 26,
   "metadata": {},
   "outputs": [
    {
     "data": {
      "text/html": [
       "<div>\n",
       "<table border=\"1\" class=\"dataframe\">\n",
       "  <thead>\n",
       "    <tr style=\"text-align: right;\">\n",
       "      <th></th>\n",
       "      <th>total_offers</th>\n",
       "    </tr>\n",
       "  </thead>\n",
       "  <tbody>\n",
       "    <tr>\n",
       "      <th>count</th>\n",
       "      <td>115613.000000</td>\n",
       "    </tr>\n",
       "    <tr>\n",
       "      <th>mean</th>\n",
       "      <td>25.908946</td>\n",
       "    </tr>\n",
       "    <tr>\n",
       "      <th>std</th>\n",
       "      <td>87.729175</td>\n",
       "    </tr>\n",
       "    <tr>\n",
       "      <th>min</th>\n",
       "      <td>1.000000</td>\n",
       "    </tr>\n",
       "    <tr>\n",
       "      <th>25%</th>\n",
       "      <td>2.000000</td>\n",
       "    </tr>\n",
       "    <tr>\n",
       "      <th>50%</th>\n",
       "      <td>6.000000</td>\n",
       "    </tr>\n",
       "    <tr>\n",
       "      <th>75%</th>\n",
       "      <td>19.000000</td>\n",
       "    </tr>\n",
       "    <tr>\n",
       "      <th>max</th>\n",
       "      <td>6323.000000</td>\n",
       "    </tr>\n",
       "  </tbody>\n",
       "</table>\n",
       "</div>"
      ],
      "text/plain": [
       "        total_offers\n",
       "count  115613.000000\n",
       "mean       25.908946\n",
       "std        87.729175\n",
       "min         1.000000\n",
       "25%         2.000000\n",
       "50%         6.000000\n",
       "75%        19.000000\n",
       "max      6323.000000"
      ]
     },
     "execution_count": 26,
     "metadata": {},
     "output_type": "execute_result"
    }
   ],
   "source": [
    "offers_sum[offers_sum.AREA_TYPE_CODE == 'B'].describe()"
   ]
  },
  {
   "cell_type": "markdown",
   "metadata": {},
   "source": [
    "At the department level, most of the job groups have between 55 and 4 total offers (with information on contract types). This is a little bit more than twice what we saw when considering each contract type individually. Still, it is not huge.\n",
    "\n",
    "**Let's investigate how much data we would lost if using a threshold on the total number of offers.** Let's focus on department, as it is the granularity level we are actually using in Bob."
   ]
  },
  {
   "cell_type": "code",
   "execution_count": 27,
   "metadata": {},
   "outputs": [
    {
     "data": {
      "image/png": "[encoded data removed]",
      "text/plain": [
       "<matplotlib.figure.Figure at 0x7f84c7e0a208>"
      ]
     },
     "metadata": {
      "image/png": {
       "height": 344,
       "width": 487
      }
     },
     "output_type": "display_data"
    }
   ],
   "source": [
    "department_offers_sum = offers_sum[offers_sum.AREA_TYPE_CODE == 'D']\n",
    "department_offers_sum.sort_values('total_offers', ascending=False)\\\n",
    "    .reset_index(drop=True).reset_index().drop_duplicates('total_offers', keep='last')\\\n",
    "    .sort_values('total_offers')\\\n",
    "    .set_index('total_offers')['index'].div(len(department_offers_sum))\\\n",
    "    .plot(xlim=(0, 70));"
   ]
  },
  {
   "cell_type": "markdown",
   "metadata": {},
   "source": [
    "We'll lost almost 25% of the data with a threshold at 5 but we'll still have 50% of the data for departments with a threshold at 15.\n",
    "\n",
    "We've seen that most of the time, employers can propose more than one contract type for a market.\n",
    "**Can we find if some contract types are more often used alone or in combination (and which combinations)?**"
   ]
  },
  {
   "cell_type": "code",
   "execution_count": 28,
   "metadata": {},
   "outputs": [
    {
     "data": {
      "text/html": [
       "<div>\n",
       "<table border=\"1\" class=\"dataframe\">\n",
       "  <thead>\n",
       "    <tr style=\"text-align: right;\">\n",
       "      <th></th>\n",
       "      <th>CONTRACT_TYPE_NAME</th>\n",
       "    </tr>\n",
       "  </thead>\n",
       "  <tbody>\n",
       "    <tr>\n",
       "      <th>CDD &lt;= 3 mois, CDD &gt; 3 mois, CDI, Intérim</th>\n",
       "      <td>0.171474</td>\n",
       "    </tr>\n",
       "    <tr>\n",
       "      <th>CDI</th>\n",
       "      <td>0.124384</td>\n",
       "    </tr>\n",
       "    <tr>\n",
       "      <th>CDD &lt;= 3 mois, CDD &gt; 3 mois, CDI</th>\n",
       "      <td>0.112939</td>\n",
       "    </tr>\n",
       "    <tr>\n",
       "      <th>CDD &gt; 3 mois, CDI</th>\n",
       "      <td>0.089959</td>\n",
       "    </tr>\n",
       "    <tr>\n",
       "      <th>CDD &gt; 3 mois</th>\n",
       "      <td>0.085344</td>\n",
       "    </tr>\n",
       "  </tbody>\n",
       "</table>\n",
       "</div>"
      ],
      "text/plain": [
       "                                           CONTRACT_TYPE_NAME\n",
       "CDD <= 3 mois, CDD > 3 mois, CDI, Intérim            0.171474\n",
       "CDI                                                  0.124384\n",
       "CDD <= 3 mois, CDD > 3 mois, CDI                     0.112939\n",
       "CDD > 3 mois, CDI                                    0.089959\n",
       "CDD > 3 mois                                         0.085344"
      ]
     },
     "execution_count": 28,
     "metadata": {},
     "output_type": "execute_result"
    }
   ],
   "source": [
    "job_contracts = employment_types\\\n",
    "    .sort_values('CONTRACT_TYPE_NAME')\\\n",
    "    .groupby(['AREA_CODE', 'AREA_TYPE_CODE', 'ROME_PROFESSION_CARD_CODE'])\\\n",
    "    .CONTRACT_TYPE_NAME.apply(lambda t: ', '.join(t))\n",
    "job_contracts.value_counts().div(len(job_contracts)).to_frame().head()"
   ]
  },
  {
   "cell_type": "markdown",
   "metadata": {},
   "source": [
    "For 17% of the job groups, employers propose only the classical contract types. Offering only a long-term contract (CDI) is also quite common (12%). This is good news for Bob users as they mostly look for [these type of contracts](https://github.com/bayesimpact/bob-emploi-internal/blob/HEAD/data_analysis/notebooks/bob_emploi_usage/contract_types.ipynb).\n",
    "\n",
    "However, [previous work](https://github.com/bayesimpact/bob-emploi-internal/blob/HEAD/data_analysis/notebooks/research/contract_types/contract_recommendations.ipynb) done on how this data could trigger specific recommendations, suggests that user would benefit from looking also for long CDDs. As seen on the barplot above, long CDDs have been proposed almost 28% of the time.\n",
    "\n",
    "**Let's now compare scraped with API-retrieved data. What about 'Extraction solide' in the Alpes-Maritimes department?**"
   ]
  },
  {
   "cell_type": "code",
   "execution_count": 29,
   "metadata": {},
   "outputs": [
    {
     "data": {
      "text/html": [
       "<div>\n",
       "<table border=\"1\" class=\"dataframe\">\n",
       "  <thead>\n",
       "    <tr style=\"text-align: right;\">\n",
       "      <th></th>\n",
       "      <th>AREA_NAME</th>\n",
       "      <th>CONTRACT_TYPE_NAME</th>\n",
       "      <th>NB_OFFERS</th>\n",
       "      <th>OFFERS_PERCENT</th>\n",
       "      <th>ROME_PROFESSION_CARD_NAME</th>\n",
       "    </tr>\n",
       "  </thead>\n",
       "  <tbody>\n",
       "    <tr>\n",
       "      <th>345892</th>\n",
       "      <td>ALPES-MARITIMES</td>\n",
       "      <td>Intérim</td>\n",
       "      <td>1</td>\n",
       "      <td>100.0</td>\n",
       "      <td>Extraction solide</td>\n",
       "    </tr>\n",
       "  </tbody>\n",
       "</table>\n",
       "</div>"
      ],
      "text/plain": [
       "              AREA_NAME CONTRACT_TYPE_NAME  NB_OFFERS  OFFERS_PERCENT  \\\n",
       "345892  ALPES-MARITIMES            Intérim          1           100.0   \n",
       "\n",
       "       ROME_PROFESSION_CARD_NAME  \n",
       "345892         Extraction solide  "
      ]
     },
     "execution_count": 29,
     "metadata": {},
     "output_type": "execute_result"
    }
   ],
   "source": [
    "employment_types[(employment_types.AREA_CODE=='06') & (employment_types.ROME_PROFESSION_CARD_CODE == 'F1402')]\\\n",
    "    [['AREA_NAME', 'CONTRACT_TYPE_NAME', 'NB_OFFERS', 'OFFERS_PERCENT', 'ROME_PROFESSION_CARD_NAME']]"
   ]
  },
  {
   "cell_type": "markdown",
   "metadata": {},
   "source": [
    "Yihii! On the 26th of Sep 2017, the [website](http://candidat.pole-emploi.fr/marche-du-travail/statistiques?codeMetier=15020&codeZoneGeographique=06&typeZoneGeographique=DEPARTEMENT) displays the same info. Note that this is different from the [scraped data observations](https://github.com/bayesimpact/bob-emploi-internal/blob/HEAD/data_analysis/notebooks/research/contract_types/contract_recommendations.ipynb) where CDDs, Interim and CDI offers could be found for this job.\n",
    "\n",
    "## Conclusion\n",
    "\n",
    "For a selected use case, we have a perfect consistancy between API retrived data and data from the website.\n",
    "Overall only a low/medium number of offers have been observed per job groups.\n",
    "Most of the time, employers propose the four main contract types (CDI, CDDs and Interim). However, CDI (long term contracts) are also quite commonly proposed alone (12%).\n",
    "\n",
    "\n",
    "# General Conclusion\n",
    "\n",
    "- This dataset is ready to be used. \n",
    "- In addition to contract type percentages per job group and area, it also provides raw offers number. That could be useful to discard non informative data.\n",
    "- Moreover, we have now access to multiple granularity layer for areas.\n",
    "\n",
    "Next steps:\n",
    "- The multiple granularities lead to the question of the stability of these observation across different levels (e.g between the department and the \"Bassin\" levels).\n",
    "- It could be interesting to measure the changes between this updated dataset and the scraped data.\n",
    "- These data could be used to update the [contract recommandations](https://github.com/bayesimpact/bob-emploi-internal/blob/HEAD/data_analysis/notebooks/research/contract_types/contract_recommendations.ipynb) computed on the scraped data.\n",
    "- Finally, we definitely need to explore the contract type usage per department and per job."
   ]
  }
 ],
 "metadata": {
  "kernelspec": {
   "display_name": "Python 3",
   "language": "python",
   "name": "python3"
  },
  "language_info": {
   "codemirror_mode": {
    "name": "ipython",
    "version": 3
   },
   "file_extension": ".py",
   "mimetype": "text/x-python",
   "name": "python",
   "nbconvert_exporter": "python",
   "pygments_lexer": "ipython3",
   "version": "3.6.2"
  }
 },
 "nbformat": 4,
 "nbformat_minor": 2
}
