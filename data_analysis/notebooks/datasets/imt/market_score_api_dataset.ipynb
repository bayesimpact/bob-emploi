{
 "cells": [
  {
   "cell_type": "markdown",
   "metadata": {},
   "source": [
    "Author: Marie Laure, marielaure@bayesimpact.org\n",
    "\n",
    "# IMT Market Score from API\n",
    "\n",
    "The IMT dataset provides regional statistics about different jobs. Here we are interested in the market score (called by Pôle Emploi the tension ratio. It is a bit misleading as a big tension ratio means plenty of jobs...). It corresponds to a ratio of the average number of weekly open offers to the average number of weekly applications per 10 candidates. This value is provided among others (e.g. number of offers in the last week, number of application in the last week...) in the \"statitics on offers and demands\" subset of the IMT dataset.\n",
    "\n",
    "Previously, we retrieved IMT data by scraping the IMT website. As an exploratory step, we are interested in the sanity of the API based data and identifying putative additional information provided only by the API.\n",
    "\n",
    "The dataset can be retrieved with the following command (it takes ~15 minutes):\n",
    "\n",
    "docker-compose run --rm data-analysis-prepare make data/imt/market_score.csv\n",
    "\n",
    "## Data Sanity\n",
    "Loading and General View\n",
    "First let's load the csv file:"
   ]
  },
  {
   "cell_type": "code",
   "execution_count": 1,
   "metadata": {},
   "outputs": [
    {
     "data": {
      "text/html": [
       "<div>\n",
       "<table border=\"1\" class=\"dataframe\">\n",
       "  <thead>\n",
       "    <tr style=\"text-align: right;\">\n",
       "      <th></th>\n",
       "      <th>AREA_CODE</th>\n",
       "      <th>AREA_NAME</th>\n",
       "      <th>AREA_TYPE_CODE</th>\n",
       "      <th>AREA_TYPE_NAME</th>\n",
       "      <th>NB_APPLICATION_END_MONTH</th>\n",
       "      <th>NB_APPLICATION_LAST_WEEK</th>\n",
       "      <th>NB_OFFER_END_MONTH</th>\n",
       "      <th>NB_OFFER_LAST_WEEK</th>\n",
       "      <th>RICHER_CATCHMENT_AREA_CODE</th>\n",
       "      <th>RICHER_CATCHMENT_AREA_NAME</th>\n",
       "      <th>...</th>\n",
       "      <th>SEASONAL_FEB</th>\n",
       "      <th>SEASONAL_JAN</th>\n",
       "      <th>SEASONAL_JULY</th>\n",
       "      <th>SEASONAL_JUNE</th>\n",
       "      <th>SEASONAL_MAR</th>\n",
       "      <th>SEASONAL_MAY</th>\n",
       "      <th>SEASONAL_NOV</th>\n",
       "      <th>SEASONAL_OCT</th>\n",
       "      <th>SEASONAL_SEP</th>\n",
       "      <th>TENSION_RATIO</th>\n",
       "    </tr>\n",
       "  </thead>\n",
       "  <tbody>\n",
       "    <tr>\n",
       "      <th>0</th>\n",
       "      <td>95</td>\n",
       "      <td>VAL-D'OISE</td>\n",
       "      <td>D</td>\n",
       "      <td>Département</td>\n",
       "      <td>56</td>\n",
       "      <td>55</td>\n",
       "      <td>1</td>\n",
       "      <td>1</td>\n",
       "      <td>1101.0</td>\n",
       "      <td>TRIANGLE D OR</td>\n",
       "      <td>...</td>\n",
       "      <td>N</td>\n",
       "      <td>N</td>\n",
       "      <td>N</td>\n",
       "      <td>N</td>\n",
       "      <td>N</td>\n",
       "      <td>N</td>\n",
       "      <td>N</td>\n",
       "      <td>N</td>\n",
       "      <td>N</td>\n",
       "      <td>NaN</td>\n",
       "    </tr>\n",
       "    <tr>\n",
       "      <th>1</th>\n",
       "      <td>02</td>\n",
       "      <td>MARTINIQUE</td>\n",
       "      <td>R</td>\n",
       "      <td>Région</td>\n",
       "      <td>14</td>\n",
       "      <td>14</td>\n",
       "      <td>0</td>\n",
       "      <td>0</td>\n",
       "      <td>NaN</td>\n",
       "      <td>NaN</td>\n",
       "      <td>...</td>\n",
       "      <td>N</td>\n",
       "      <td>N</td>\n",
       "      <td>N</td>\n",
       "      <td>N</td>\n",
       "      <td>O</td>\n",
       "      <td>N</td>\n",
       "      <td>N</td>\n",
       "      <td>N</td>\n",
       "      <td>N</td>\n",
       "      <td>NaN</td>\n",
       "    </tr>\n",
       "    <tr>\n",
       "      <th>2</th>\n",
       "      <td>1101</td>\n",
       "      <td>TRIANGLE D OR</td>\n",
       "      <td>B</td>\n",
       "      <td>Bassin</td>\n",
       "      <td>235</td>\n",
       "      <td>237</td>\n",
       "      <td>80</td>\n",
       "      <td>78</td>\n",
       "      <td>NaN</td>\n",
       "      <td>NaN</td>\n",
       "      <td>...</td>\n",
       "      <td>N</td>\n",
       "      <td>N</td>\n",
       "      <td>N</td>\n",
       "      <td>O</td>\n",
       "      <td>N</td>\n",
       "      <td>O</td>\n",
       "      <td>N</td>\n",
       "      <td>N</td>\n",
       "      <td>N</td>\n",
       "      <td>35.0</td>\n",
       "    </tr>\n",
       "    <tr>\n",
       "      <th>3</th>\n",
       "      <td>1166</td>\n",
       "      <td>HAUTS DE SEINE CENTRE</td>\n",
       "      <td>B</td>\n",
       "      <td>Bassin</td>\n",
       "      <td>219</td>\n",
       "      <td>221</td>\n",
       "      <td>12</td>\n",
       "      <td>12</td>\n",
       "      <td>NaN</td>\n",
       "      <td>NaN</td>\n",
       "      <td>...</td>\n",
       "      <td>N</td>\n",
       "      <td>N</td>\n",
       "      <td>N</td>\n",
       "      <td>N</td>\n",
       "      <td>O</td>\n",
       "      <td>N</td>\n",
       "      <td>N</td>\n",
       "      <td>O</td>\n",
       "      <td>N</td>\n",
       "      <td>6.0</td>\n",
       "    </tr>\n",
       "    <tr>\n",
       "      <th>4</th>\n",
       "      <td>1189</td>\n",
       "      <td>VAL DE MARNE EST</td>\n",
       "      <td>B</td>\n",
       "      <td>Bassin</td>\n",
       "      <td>250</td>\n",
       "      <td>251</td>\n",
       "      <td>17</td>\n",
       "      <td>16</td>\n",
       "      <td>NaN</td>\n",
       "      <td>NaN</td>\n",
       "      <td>...</td>\n",
       "      <td>O</td>\n",
       "      <td>N</td>\n",
       "      <td>N</td>\n",
       "      <td>O</td>\n",
       "      <td>O</td>\n",
       "      <td>N</td>\n",
       "      <td>N</td>\n",
       "      <td>N</td>\n",
       "      <td>N</td>\n",
       "      <td>3.0</td>\n",
       "    </tr>\n",
       "  </tbody>\n",
       "</table>\n",
       "<p>5 rows × 26 columns</p>\n",
       "</div>"
      ],
      "text/plain": [
       "  AREA_CODE              AREA_NAME AREA_TYPE_CODE AREA_TYPE_NAME  \\\n",
       "0        95             VAL-D'OISE              D    Département   \n",
       "1        02             MARTINIQUE              R         Région   \n",
       "2      1101          TRIANGLE D OR              B         Bassin   \n",
       "3      1166  HAUTS DE SEINE CENTRE              B         Bassin   \n",
       "4      1189       VAL DE MARNE EST              B         Bassin   \n",
       "\n",
       "   NB_APPLICATION_END_MONTH  NB_APPLICATION_LAST_WEEK  NB_OFFER_END_MONTH  \\\n",
       "0                        56                        55                   1   \n",
       "1                        14                        14                   0   \n",
       "2                       235                       237                  80   \n",
       "3                       219                       221                  12   \n",
       "4                       250                       251                  17   \n",
       "\n",
       "   NB_OFFER_LAST_WEEK  RICHER_CATCHMENT_AREA_CODE RICHER_CATCHMENT_AREA_NAME  \\\n",
       "0                   1                      1101.0              TRIANGLE D OR   \n",
       "1                   0                         NaN                        NaN   \n",
       "2                  78                         NaN                        NaN   \n",
       "3                  12                         NaN                        NaN   \n",
       "4                  16                         NaN                        NaN   \n",
       "\n",
       "       ...      SEASONAL_FEB SEASONAL_JAN SEASONAL_JULY SEASONAL_JUNE  \\\n",
       "0      ...                 N            N             N             N   \n",
       "1      ...                 N            N             N             N   \n",
       "2      ...                 N            N             N             O   \n",
       "3      ...                 N            N             N             N   \n",
       "4      ...                 O            N             N             O   \n",
       "\n",
       "  SEASONAL_MAR SEASONAL_MAY SEASONAL_NOV SEASONAL_OCT SEASONAL_SEP  \\\n",
       "0            N            N            N            N            N   \n",
       "1            O            N            N            N            N   \n",
       "2            N            O            N            N            N   \n",
       "3            O            N            N            O            N   \n",
       "4            O            N            N            N            N   \n",
       "\n",
       "  TENSION_RATIO  \n",
       "0           NaN  \n",
       "1           NaN  \n",
       "2          35.0  \n",
       "3           6.0  \n",
       "4           3.0  \n",
       "\n",
       "[5 rows x 26 columns]"
      ]
     },
     "execution_count": 1,
     "metadata": {},
     "output_type": "execute_result"
    }
   ],
   "source": [
    "import os\n",
    "from os import path\n",
    "\n",
    "import pandas as pd\n",
    "import seaborn as _\n",
    "\n",
    "DATA_FOLDER = os.getenv('DATA_FOLDER')\n",
    "\n",
    "market_statistics = pd.read_csv(path.join(DATA_FOLDER, 'imt/market_score.csv'))\n",
    "market_statistics.head()"
   ]
  },
  {
   "cell_type": "markdown",
   "metadata": {},
   "source": [
    "Wow! Tons of columns! There is a lot of information on whether a job is seasonal, shows a peak in offers at a particular month or not. Seasonal is described as having twice as much offers than the monthly average (calculated over a year), and seeing this pattern on two subsequent years. Because we are not interested in the seasonality here, we'll remove at least the per month data (12 columns)."
   ]
  },
  {
   "cell_type": "code",
   "execution_count": 2,
   "metadata": {},
   "outputs": [
    {
     "data": {
      "text/html": [
       "<div>\n",
       "<table border=\"1\" class=\"dataframe\">\n",
       "  <thead>\n",
       "    <tr style=\"text-align: right;\">\n",
       "      <th></th>\n",
       "      <th>AREA_CODE</th>\n",
       "      <th>AREA_NAME</th>\n",
       "      <th>AREA_TYPE_CODE</th>\n",
       "      <th>AREA_TYPE_NAME</th>\n",
       "      <th>NB_APPLICATION_END_MONTH</th>\n",
       "      <th>NB_APPLICATION_LAST_WEEK</th>\n",
       "      <th>NB_OFFER_END_MONTH</th>\n",
       "      <th>NB_OFFER_LAST_WEEK</th>\n",
       "      <th>RICHER_CATCHMENT_AREA_CODE</th>\n",
       "      <th>RICHER_CATCHMENT_AREA_NAME</th>\n",
       "      <th>ROME_PROFESSION_CARD_CODE</th>\n",
       "      <th>ROME_PROFESSION_CARD_NAME</th>\n",
       "      <th>SEASONAL</th>\n",
       "      <th>TENSION_RATIO</th>\n",
       "    </tr>\n",
       "  </thead>\n",
       "  <tbody>\n",
       "    <tr>\n",
       "      <th>111588</th>\n",
       "      <td>000</td>\n",
       "      <td>FRANCE ENTIERE</td>\n",
       "      <td>F</td>\n",
       "      <td>France entière</td>\n",
       "      <td>4164</td>\n",
       "      <td>4180</td>\n",
       "      <td>518</td>\n",
       "      <td>483</td>\n",
       "      <td>2203.0</td>\n",
       "      <td>SANTERRE SOMME</td>\n",
       "      <td>A1101</td>\n",
       "      <td>Conduite d'engins agricoles et forestiers</td>\n",
       "      <td>N</td>\n",
       "      <td>5.0</td>\n",
       "    </tr>\n",
       "    <tr>\n",
       "      <th>38169</th>\n",
       "      <td>01</td>\n",
       "      <td>GUADELOUPE</td>\n",
       "      <td>R</td>\n",
       "      <td>Région</td>\n",
       "      <td>89</td>\n",
       "      <td>89</td>\n",
       "      <td>3</td>\n",
       "      <td>2</td>\n",
       "      <td>103.0</td>\n",
       "      <td>MARIE-GALANTE</td>\n",
       "      <td>A1101</td>\n",
       "      <td>Conduite d'engins agricoles et forestiers</td>\n",
       "      <td>O</td>\n",
       "      <td>NaN</td>\n",
       "    </tr>\n",
       "    <tr>\n",
       "      <th>69864</th>\n",
       "      <td>01</td>\n",
       "      <td>AIN</td>\n",
       "      <td>D</td>\n",
       "      <td>Département</td>\n",
       "      <td>8</td>\n",
       "      <td>8</td>\n",
       "      <td>2</td>\n",
       "      <td>1</td>\n",
       "      <td>8247.0</td>\n",
       "      <td>VILLEFRANCHE</td>\n",
       "      <td>A1101</td>\n",
       "      <td>Conduite d'engins agricoles et forestiers</td>\n",
       "      <td>O</td>\n",
       "      <td>NaN</td>\n",
       "    </tr>\n",
       "    <tr>\n",
       "      <th>194659</th>\n",
       "      <td>0101</td>\n",
       "      <td>SAINTE-ROSE</td>\n",
       "      <td>B</td>\n",
       "      <td>Bassin</td>\n",
       "      <td>13</td>\n",
       "      <td>13</td>\n",
       "      <td>0</td>\n",
       "      <td>0</td>\n",
       "      <td>NaN</td>\n",
       "      <td>NaN</td>\n",
       "      <td>A1101</td>\n",
       "      <td>Conduite d'engins agricoles et forestiers</td>\n",
       "      <td>N</td>\n",
       "      <td>NaN</td>\n",
       "    </tr>\n",
       "    <tr>\n",
       "      <th>244409</th>\n",
       "      <td>0102</td>\n",
       "      <td>BASSE-TERRE</td>\n",
       "      <td>B</td>\n",
       "      <td>Bassin</td>\n",
       "      <td>0</td>\n",
       "      <td>0</td>\n",
       "      <td>0</td>\n",
       "      <td>0</td>\n",
       "      <td>NaN</td>\n",
       "      <td>NaN</td>\n",
       "      <td>A1101</td>\n",
       "      <td>Conduite d'engins agricoles et forestiers</td>\n",
       "      <td>N</td>\n",
       "      <td>NaN</td>\n",
       "    </tr>\n",
       "  </tbody>\n",
       "</table>\n",
       "</div>"
      ],
      "text/plain": [
       "       AREA_CODE       AREA_NAME AREA_TYPE_CODE  AREA_TYPE_NAME  \\\n",
       "111588       000  FRANCE ENTIERE              F  France entière   \n",
       "38169         01      GUADELOUPE              R          Région   \n",
       "69864         01             AIN              D     Département   \n",
       "194659      0101     SAINTE-ROSE              B          Bassin   \n",
       "244409      0102     BASSE-TERRE              B          Bassin   \n",
       "\n",
       "        NB_APPLICATION_END_MONTH  NB_APPLICATION_LAST_WEEK  \\\n",
       "111588                      4164                      4180   \n",
       "38169                         89                        89   \n",
       "69864                          8                         8   \n",
       "194659                        13                        13   \n",
       "244409                         0                         0   \n",
       "\n",
       "        NB_OFFER_END_MONTH  NB_OFFER_LAST_WEEK  RICHER_CATCHMENT_AREA_CODE  \\\n",
       "111588                 518                 483                      2203.0   \n",
       "38169                    3                   2                       103.0   \n",
       "69864                    2                   1                      8247.0   \n",
       "194659                   0                   0                         NaN   \n",
       "244409                   0                   0                         NaN   \n",
       "\n",
       "       RICHER_CATCHMENT_AREA_NAME ROME_PROFESSION_CARD_CODE  \\\n",
       "111588             SANTERRE SOMME                     A1101   \n",
       "38169               MARIE-GALANTE                     A1101   \n",
       "69864                VILLEFRANCHE                     A1101   \n",
       "194659                        NaN                     A1101   \n",
       "244409                        NaN                     A1101   \n",
       "\n",
       "                        ROME_PROFESSION_CARD_NAME SEASONAL  TENSION_RATIO  \n",
       "111588  Conduite d'engins agricoles et forestiers        N            5.0  \n",
       "38169   Conduite d'engins agricoles et forestiers        O            NaN  \n",
       "69864   Conduite d'engins agricoles et forestiers        O            NaN  \n",
       "194659  Conduite d'engins agricoles et forestiers        N            NaN  \n",
       "244409  Conduite d'engins agricoles et forestiers        N            NaN  "
      ]
     },
     "execution_count": 2,
     "metadata": {},
     "output_type": "execute_result"
    }
   ],
   "source": [
    "to_remove = [name for name in market_statistics.columns if 'SEASONAL_' in name]\n",
    "market_statistics.drop(to_remove, axis=1, inplace=True)\n",
    "market_statistics.sort_values(['ROME_PROFESSION_CARD_CODE', 'AREA_CODE']).head()"
   ]
  },
  {
   "cell_type": "markdown",
   "metadata": {},
   "source": [
    "OK. Some values are missing for Market score, documentation states that the ratio is undefined when offers and demands are below 30.\n",
    "\n",
    "How many missing values do we have for tension ratio here?"
   ]
  },
  {
   "cell_type": "code",
   "execution_count": 3,
   "metadata": {},
   "outputs": [
    {
     "data": {
      "text/plain": [
       "count     247150\n",
       "unique         2\n",
       "top        False\n",
       "freq      215137\n",
       "Name: TENSION_RATIO, dtype: object"
      ]
     },
     "execution_count": 3,
     "metadata": {},
     "output_type": "execute_result"
    }
   ],
   "source": [
    "market_statistics.TENSION_RATIO.notnull().describe()"
   ]
  },
  {
   "cell_type": "markdown",
   "metadata": {},
   "source": [
    "Data is missing for 87% of the lines!\n",
    "\n",
    "Lines represents data for an Area x Rome job group. So how many lines should we expect? First, how many areas, area types and job groups do we have?"
   ]
  },
  {
   "cell_type": "code",
   "execution_count": 4,
   "metadata": {},
   "outputs": [
    {
     "data": {
      "text/html": [
       "<div>\n",
       "<table border=\"1\" class=\"dataframe\">\n",
       "  <thead>\n",
       "    <tr style=\"text-align: right;\">\n",
       "      <th></th>\n",
       "      <th>ROME_PROFESSION_CARD_CODE</th>\n",
       "      <th>AREA_CODE</th>\n",
       "      <th>AREA_TYPE_CODE</th>\n",
       "    </tr>\n",
       "  </thead>\n",
       "  <tbody>\n",
       "    <tr>\n",
       "      <th>count</th>\n",
       "      <td>247150</td>\n",
       "      <td>247150</td>\n",
       "      <td>247150</td>\n",
       "    </tr>\n",
       "    <tr>\n",
       "      <th>unique</th>\n",
       "      <td>532</td>\n",
       "      <td>509</td>\n",
       "      <td>4</td>\n",
       "    </tr>\n",
       "    <tr>\n",
       "      <th>top</th>\n",
       "      <td>D1212</td>\n",
       "      <td>44</td>\n",
       "      <td>B</td>\n",
       "    </tr>\n",
       "    <tr>\n",
       "      <th>freq</th>\n",
       "      <td>527</td>\n",
       "      <td>1064</td>\n",
       "      <td>182963</td>\n",
       "    </tr>\n",
       "  </tbody>\n",
       "</table>\n",
       "</div>"
      ],
      "text/plain": [
       "       ROME_PROFESSION_CARD_CODE AREA_CODE AREA_TYPE_CODE\n",
       "count                     247150    247150         247150\n",
       "unique                       532       509              4\n",
       "top                        D1212        44              B\n",
       "freq                         527      1064         182963"
      ]
     },
     "execution_count": 4,
     "metadata": {},
     "output_type": "execute_result"
    }
   ],
   "source": [
    "market_statistics[['ROME_PROFESSION_CARD_CODE', 'AREA_CODE', 'AREA_TYPE_CODE']].describe()"
   ]
  },
  {
   "cell_type": "markdown",
   "metadata": {},
   "source": [
    "Oh! Look at the job groups... even the [most recent ROME job groups](https://github.com/bayesimpact/bob-emploi-internal/blob/431a44c190ca7bf11d42e84922c4dbcde74fd802/data_analysis/notebooks/datasets/rome/update_from_v331_to_v332.ipynb) groups are here! Good job Pôle Emploi! There are 4 area types (consistent with the documentation) and 509 areas.\n",
    "\n",
    "Because some areas may be labelled with multiple area types, let's see how many area x area types we have here."
   ]
  },
  {
   "cell_type": "code",
   "execution_count": 5,
   "metadata": {},
   "outputs": [
    {
     "data": {
      "text/plain": [
       "513"
      ]
     },
     "execution_count": 5,
     "metadata": {},
     "output_type": "execute_result"
    }
   ],
   "source": [
    "pd.concat([market_statistics['AREA_TYPE_CODE'], market_statistics['AREA_CODE']]).nunique()"
   ]
  },
  {
   "cell_type": "markdown",
   "metadata": {},
   "source": [
    "A little bit more than the 509 unique area names. Thus, confirming the redundant area names describing more than one area types.\n",
    "\n",
    "With this in mind, we would expect `509 x 532 = 272916` lines if there were information on each job in each area. Hmmm... That's not the case and we have ~9.5% of the expected lines missing.\n",
    "\n",
    "For the remaining 32013 (~11.7% of the expected lines) lines with market score data, what is the distribution of these scores?"
   ]
  },
  {
   "cell_type": "code",
   "execution_count": 6,
   "metadata": {},
   "outputs": [
    {
     "data": {
      "text/plain": [
       "count    32013.000000\n",
       "mean         7.345547\n",
       "std         14.817923\n",
       "min          0.000000\n",
       "25%          3.000000\n",
       "50%          5.000000\n",
       "75%          8.000000\n",
       "max       1664.000000\n",
       "Name: TENSION_RATIO, dtype: float64"
      ]
     },
     "execution_count": 6,
     "metadata": {},
     "output_type": "execute_result"
    }
   ],
   "source": [
    "market_with_score = market_statistics[market_statistics.TENSION_RATIO.notnull()]\n",
    "market_with_score.TENSION_RATIO.describe()"
   ]
  },
  {
   "cell_type": "markdown",
   "metadata": {},
   "source": [
    "On the subset with market score information, the market score is usually between 3 and 8. Which is not super reassuring on a candidate point of view... we should remember that this corresponds to the number of offer per 10 candidates. At the end, most of the time we have less than 1 offer per candidate.\n",
    "\n",
    "However, in some markets (area/job) we can find extreme values (the max is at 1664 offers for 10 persons). How many of these extreme/unexpected values can we found, and to which jobs and areas do they correspond?"
   ]
  },
  {
   "cell_type": "code",
   "execution_count": 7,
   "metadata": {},
   "outputs": [
    {
     "data": {
      "text/html": [
       "<div>\n",
       "<table border=\"1\" class=\"dataframe\">\n",
       "  <thead>\n",
       "    <tr style=\"text-align: right;\">\n",
       "      <th></th>\n",
       "      <th>TENSION_RATIO</th>\n",
       "      <th>ROME_PROFESSION_CARD_NAME</th>\n",
       "      <th>AREA_NAME</th>\n",
       "      <th>SEASONAL</th>\n",
       "    </tr>\n",
       "  </thead>\n",
       "  <tbody>\n",
       "    <tr>\n",
       "      <th>236886</th>\n",
       "      <td>1664.0</td>\n",
       "      <td>Animation de vente</td>\n",
       "      <td>HAUTS DE SEINE SUD</td>\n",
       "      <td>O</td>\n",
       "    </tr>\n",
       "    <tr>\n",
       "      <th>73617</th>\n",
       "      <td>807.0</td>\n",
       "      <td>Animation de vente</td>\n",
       "      <td>HAUTS-DE-SEINE</td>\n",
       "      <td>O</td>\n",
       "    </tr>\n",
       "    <tr>\n",
       "      <th>235104</th>\n",
       "      <td>549.0</td>\n",
       "      <td>Maintenance d'aéronefs</td>\n",
       "      <td>PARIS</td>\n",
       "      <td>N</td>\n",
       "    </tr>\n",
       "    <tr>\n",
       "      <th>69305</th>\n",
       "      <td>383.0</td>\n",
       "      <td>Enseignement général du second degré</td>\n",
       "      <td>TRIANGLE D OR</td>\n",
       "      <td>N</td>\n",
       "    </tr>\n",
       "    <tr>\n",
       "      <th>3597</th>\n",
       "      <td>377.0</td>\n",
       "      <td>Boulangerie - viennoiserie</td>\n",
       "      <td>PAYS D ARLES</td>\n",
       "      <td>N</td>\n",
       "    </tr>\n",
       "  </tbody>\n",
       "</table>\n",
       "</div>"
      ],
      "text/plain": [
       "        TENSION_RATIO             ROME_PROFESSION_CARD_NAME  \\\n",
       "236886         1664.0                    Animation de vente   \n",
       "73617           807.0                    Animation de vente   \n",
       "235104          549.0                Maintenance d'aéronefs   \n",
       "69305           383.0  Enseignement général du second degré   \n",
       "3597            377.0            Boulangerie - viennoiserie   \n",
       "\n",
       "                 AREA_NAME SEASONAL  \n",
       "236886  HAUTS DE SEINE SUD        O  \n",
       "73617       HAUTS-DE-SEINE        O  \n",
       "235104               PARIS        N  \n",
       "69305        TRIANGLE D OR        N  \n",
       "3597          PAYS D ARLES        N  "
      ]
     },
     "execution_count": 7,
     "metadata": {},
     "output_type": "execute_result"
    },
    {
     "data": {
      "image/png": "[encoded data removed]",
      "text/plain": [
       "<matplotlib.figure.Figure at 0x7fa64cf7a898>"
      ]
     },
     "metadata": {
      "image/png": {
       "height": 329,
       "width": 484
      }
     },
     "output_type": "display_data"
    }
   ],
   "source": [
    "market_with_score[market_with_score.TENSION_RATIO > 50].TENSION_RATIO.hist();\n",
    "market_with_score[market_with_score.TENSION_RATIO > 50]\\\n",
    "    .sort_values('TENSION_RATIO', ascending=False)\\\n",
    "    [['TENSION_RATIO', 'ROME_PROFESSION_CARD_NAME', 'AREA_NAME', 'SEASONAL']].head()"
   ]
  },
  {
   "cell_type": "markdown",
   "metadata": {},
   "source": [
    "The 1664 offers for 10 persons observed above appears to be a real outlier. However, it corresponds to a seasonal job and may be linked to a specific place recruiting tons of people (mall, resort...). Note that it sounds like a great idea to apply to be a baker in Arles!\n",
    "\n",
    "We noticed that the `AREA_TYPE_NAME` variable can cover multiple values. Can we say more about this?"
   ]
  },
  {
   "cell_type": "code",
   "execution_count": 8,
   "metadata": {},
   "outputs": [
    {
     "data": {
      "text/plain": [
       "Bassin            182963\n",
       "Département        54366\n",
       "Région              9289\n",
       "France entière       532\n",
       "Name: AREA_TYPE_NAME, dtype: int64"
      ]
     },
     "execution_count": 8,
     "metadata": {},
     "output_type": "execute_result"
    }
   ],
   "source": [
    "market_statistics.AREA_TYPE_NAME.value_counts()"
   ]
  },
  {
   "cell_type": "markdown",
   "metadata": {},
   "source": [
    "This dataset have multiple granularity layers. We have information at the department (\"Département\") level, region level or whole country! \n",
    "\n",
    "For one job, can you have observations for multiple areas? Let's try for butchers in the \"Lyon\" area, the department is Rhône and the region Auvergne-Rhône-Alpes."
   ]
  },
  {
   "cell_type": "code",
   "execution_count": 9,
   "metadata": {},
   "outputs": [
    {
     "data": {
      "text/html": [
       "<div>\n",
       "<table border=\"1\" class=\"dataframe\">\n",
       "  <thead>\n",
       "    <tr style=\"text-align: right;\">\n",
       "      <th></th>\n",
       "      <th>AREA_TYPE_NAME</th>\n",
       "      <th>ROME_PROFESSION_CARD_NAME</th>\n",
       "      <th>AREA_NAME</th>\n",
       "      <th>TENSION_RATIO</th>\n",
       "    </tr>\n",
       "  </thead>\n",
       "  <tbody>\n",
       "    <tr>\n",
       "      <th>128326</th>\n",
       "      <td>Bassin</td>\n",
       "      <td>Boucherie</td>\n",
       "      <td>LYON CENTRE</td>\n",
       "      <td>10.0</td>\n",
       "    </tr>\n",
       "  </tbody>\n",
       "</table>\n",
       "</div>"
      ],
      "text/plain": [
       "       AREA_TYPE_NAME ROME_PROFESSION_CARD_NAME    AREA_NAME  TENSION_RATIO\n",
       "128326         Bassin                 Boucherie  LYON CENTRE           10.0"
      ]
     },
     "execution_count": 9,
     "metadata": {},
     "output_type": "execute_result"
    }
   ],
   "source": [
    "market_statistics[\n",
    "    (market_statistics.AREA_NAME == 'LYON CENTRE') &\\\n",
    "    (market_statistics.ROME_PROFESSION_CARD_NAME == 'Boucherie')]\\\n",
    "    [['AREA_TYPE_NAME', 'ROME_PROFESSION_CARD_NAME', 'AREA_NAME', 'TENSION_RATIO']]"
   ]
  },
  {
   "cell_type": "code",
   "execution_count": 10,
   "metadata": {},
   "outputs": [
    {
     "data": {
      "text/html": [
       "<div>\n",
       "<table border=\"1\" class=\"dataframe\">\n",
       "  <thead>\n",
       "    <tr style=\"text-align: right;\">\n",
       "      <th></th>\n",
       "      <th>AREA_TYPE_NAME</th>\n",
       "      <th>ROME_PROFESSION_CARD_NAME</th>\n",
       "      <th>AREA_NAME</th>\n",
       "      <th>TENSION_RATIO</th>\n",
       "    </tr>\n",
       "  </thead>\n",
       "  <tbody>\n",
       "    <tr>\n",
       "      <th>3265</th>\n",
       "      <td>Département</td>\n",
       "      <td>Boucherie</td>\n",
       "      <td>RHONE</td>\n",
       "      <td>6.0</td>\n",
       "    </tr>\n",
       "  </tbody>\n",
       "</table>\n",
       "</div>"
      ],
      "text/plain": [
       "     AREA_TYPE_NAME ROME_PROFESSION_CARD_NAME AREA_NAME  TENSION_RATIO\n",
       "3265    Département                 Boucherie     RHONE            6.0"
      ]
     },
     "execution_count": 10,
     "metadata": {},
     "output_type": "execute_result"
    }
   ],
   "source": [
    "market_statistics[\n",
    "    (market_statistics.AREA_NAME == 'RHONE') &\\\n",
    "    (market_statistics.ROME_PROFESSION_CARD_NAME == 'Boucherie')]\\\n",
    "    [['AREA_TYPE_NAME', 'ROME_PROFESSION_CARD_NAME', 'AREA_NAME', 'TENSION_RATIO']]"
   ]
  },
  {
   "cell_type": "code",
   "execution_count": 11,
   "metadata": {},
   "outputs": [
    {
     "data": {
      "text/html": [
       "<div>\n",
       "<table border=\"1\" class=\"dataframe\">\n",
       "  <thead>\n",
       "    <tr style=\"text-align: right;\">\n",
       "      <th></th>\n",
       "      <th>AREA_TYPE_NAME</th>\n",
       "      <th>ROME_PROFESSION_CARD_NAME</th>\n",
       "      <th>AREA_NAME</th>\n",
       "      <th>TENSION_RATIO</th>\n",
       "    </tr>\n",
       "  </thead>\n",
       "  <tbody>\n",
       "    <tr>\n",
       "      <th>236560</th>\n",
       "      <td>Région</td>\n",
       "      <td>Boucherie</td>\n",
       "      <td>AUVERGNE-RHONE-ALPES</td>\n",
       "      <td>6.0</td>\n",
       "    </tr>\n",
       "  </tbody>\n",
       "</table>\n",
       "</div>"
      ],
      "text/plain": [
       "       AREA_TYPE_NAME ROME_PROFESSION_CARD_NAME             AREA_NAME  \\\n",
       "236560         Région                 Boucherie  AUVERGNE-RHONE-ALPES   \n",
       "\n",
       "        TENSION_RATIO  \n",
       "236560            6.0  "
      ]
     },
     "execution_count": 11,
     "metadata": {},
     "output_type": "execute_result"
    }
   ],
   "source": [
    "market_statistics[\n",
    "    (market_statistics.AREA_NAME == 'AUVERGNE-RHONE-ALPES') &\\\n",
    "    (market_statistics.ROME_PROFESSION_CARD_NAME == 'Boucherie')]\\\n",
    "    [['AREA_TYPE_NAME', 'ROME_PROFESSION_CARD_NAME', 'AREA_NAME', 'TENSION_RATIO']]"
   ]
  },
  {
   "cell_type": "markdown",
   "metadata": {},
   "source": [
    "Good! We have info for all of these.\n",
    "\n",
    "Let's go a little bit more general. How many jobs do we have here?"
   ]
  },
  {
   "cell_type": "code",
   "execution_count": 12,
   "metadata": {},
   "outputs": [
    {
     "data": {
      "text/plain": [
       "532"
      ]
     },
     "execution_count": 12,
     "metadata": {},
     "output_type": "execute_result"
    }
   ],
   "source": [
    "market_statistics.ROME_PROFESSION_CARD_CODE.nunique()"
   ]
  },
  {
   "cell_type": "markdown",
   "metadata": {},
   "source": [
    "\n",
    "\n",
    "How many of these are represented in each area. If we have data for every job in every area, we expect to have 532 jobs in each area."
   ]
  },
  {
   "cell_type": "code",
   "execution_count": 13,
   "metadata": {},
   "outputs": [
    {
     "data": {
      "image/png": "[encoded data removed]",
      "text/plain": [
       "<matplotlib.figure.Figure at 0x7fa64cf97860>"
      ]
     },
     "metadata": {
      "image/png": {
       "height": 329,
       "width": 484
      }
     },
     "output_type": "display_data"
    }
   ],
   "source": [
    "area_romes = market_statistics.groupby(['AREA_TYPE_CODE', 'AREA_CODE']).ROME_PROFESSION_CARD_NAME.size()\n",
    "area_romes.hist();"
   ]
  },
  {
   "cell_type": "markdown",
   "metadata": {},
   "source": [
    "For some areas, we have missing jobs. They could be missing because some jobs have 0 offers, 0 applications etc... \n",
    "\n",
    "Can we find some of these zero values in the dataset?"
   ]
  },
  {
   "cell_type": "code",
   "execution_count": 14,
   "metadata": {},
   "outputs": [
    {
     "data": {
      "text/html": [
       "<div>\n",
       "<table border=\"1\" class=\"dataframe\">\n",
       "  <thead>\n",
       "    <tr style=\"text-align: right;\">\n",
       "      <th></th>\n",
       "      <th>AREA_CODE</th>\n",
       "      <th>AREA_NAME</th>\n",
       "      <th>AREA_TYPE_CODE</th>\n",
       "      <th>AREA_TYPE_NAME</th>\n",
       "      <th>NB_APPLICATION_END_MONTH</th>\n",
       "      <th>NB_APPLICATION_LAST_WEEK</th>\n",
       "      <th>NB_OFFER_END_MONTH</th>\n",
       "      <th>NB_OFFER_LAST_WEEK</th>\n",
       "      <th>RICHER_CATCHMENT_AREA_CODE</th>\n",
       "      <th>RICHER_CATCHMENT_AREA_NAME</th>\n",
       "      <th>ROME_PROFESSION_CARD_CODE</th>\n",
       "      <th>ROME_PROFESSION_CARD_NAME</th>\n",
       "      <th>SEASONAL</th>\n",
       "      <th>TENSION_RATIO</th>\n",
       "    </tr>\n",
       "  </thead>\n",
       "  <tbody>\n",
       "    <tr>\n",
       "      <th>121</th>\n",
       "      <td>2420</td>\n",
       "      <td>GIEN</td>\n",
       "      <td>B</td>\n",
       "      <td>Bassin</td>\n",
       "      <td>0</td>\n",
       "      <td>0</td>\n",
       "      <td>0</td>\n",
       "      <td>0</td>\n",
       "      <td>NaN</td>\n",
       "      <td>NaN</td>\n",
       "      <td>E1101</td>\n",
       "      <td>Animation de site multimédia</td>\n",
       "      <td>N</td>\n",
       "      <td>NaN</td>\n",
       "    </tr>\n",
       "    <tr>\n",
       "      <th>146</th>\n",
       "      <td>976</td>\n",
       "      <td>MAYOTTE</td>\n",
       "      <td>D</td>\n",
       "      <td>Département</td>\n",
       "      <td>0</td>\n",
       "      <td>0</td>\n",
       "      <td>0</td>\n",
       "      <td>0</td>\n",
       "      <td>NaN</td>\n",
       "      <td>NaN</td>\n",
       "      <td>E1101</td>\n",
       "      <td>Animation de site multimédia</td>\n",
       "      <td>N</td>\n",
       "      <td>NaN</td>\n",
       "    </tr>\n",
       "    <tr>\n",
       "      <th>280</th>\n",
       "      <td>2609</td>\n",
       "      <td>MACON</td>\n",
       "      <td>B</td>\n",
       "      <td>Bassin</td>\n",
       "      <td>0</td>\n",
       "      <td>0</td>\n",
       "      <td>0</td>\n",
       "      <td>0</td>\n",
       "      <td>NaN</td>\n",
       "      <td>NaN</td>\n",
       "      <td>D1105</td>\n",
       "      <td>Poissonnerie</td>\n",
       "      <td>O</td>\n",
       "      <td>NaN</td>\n",
       "    </tr>\n",
       "    <tr>\n",
       "      <th>294</th>\n",
       "      <td>5322</td>\n",
       "      <td>QUIMPER</td>\n",
       "      <td>B</td>\n",
       "      <td>Bassin</td>\n",
       "      <td>0</td>\n",
       "      <td>0</td>\n",
       "      <td>0</td>\n",
       "      <td>0</td>\n",
       "      <td>NaN</td>\n",
       "      <td>NaN</td>\n",
       "      <td>B1604</td>\n",
       "      <td>Réparation - montage en systèmes horlogers</td>\n",
       "      <td>N</td>\n",
       "      <td>NaN</td>\n",
       "    </tr>\n",
       "    <tr>\n",
       "      <th>295</th>\n",
       "      <td>5326</td>\n",
       "      <td>COMBOURG</td>\n",
       "      <td>B</td>\n",
       "      <td>Bassin</td>\n",
       "      <td>0</td>\n",
       "      <td>0</td>\n",
       "      <td>0</td>\n",
       "      <td>0</td>\n",
       "      <td>NaN</td>\n",
       "      <td>NaN</td>\n",
       "      <td>B1604</td>\n",
       "      <td>Réparation - montage en systèmes horlogers</td>\n",
       "      <td>N</td>\n",
       "      <td>NaN</td>\n",
       "    </tr>\n",
       "  </tbody>\n",
       "</table>\n",
       "</div>"
      ],
      "text/plain": [
       "    AREA_CODE AREA_NAME AREA_TYPE_CODE AREA_TYPE_NAME  \\\n",
       "121      2420      GIEN              B         Bassin   \n",
       "146       976   MAYOTTE              D    Département   \n",
       "280      2609     MACON              B         Bassin   \n",
       "294      5322   QUIMPER              B         Bassin   \n",
       "295      5326  COMBOURG              B         Bassin   \n",
       "\n",
       "     NB_APPLICATION_END_MONTH  NB_APPLICATION_LAST_WEEK  NB_OFFER_END_MONTH  \\\n",
       "121                         0                         0                   0   \n",
       "146                         0                         0                   0   \n",
       "280                         0                         0                   0   \n",
       "294                         0                         0                   0   \n",
       "295                         0                         0                   0   \n",
       "\n",
       "     NB_OFFER_LAST_WEEK  RICHER_CATCHMENT_AREA_CODE  \\\n",
       "121                   0                         NaN   \n",
       "146                   0                         NaN   \n",
       "280                   0                         NaN   \n",
       "294                   0                         NaN   \n",
       "295                   0                         NaN   \n",
       "\n",
       "    RICHER_CATCHMENT_AREA_NAME ROME_PROFESSION_CARD_CODE  \\\n",
       "121                        NaN                     E1101   \n",
       "146                        NaN                     E1101   \n",
       "280                        NaN                     D1105   \n",
       "294                        NaN                     B1604   \n",
       "295                        NaN                     B1604   \n",
       "\n",
       "                      ROME_PROFESSION_CARD_NAME SEASONAL  TENSION_RATIO  \n",
       "121                Animation de site multimédia        N            NaN  \n",
       "146                Animation de site multimédia        N            NaN  \n",
       "280                                Poissonnerie        O            NaN  \n",
       "294  Réparation - montage en systèmes horlogers        N            NaN  \n",
       "295  Réparation - montage en systèmes horlogers        N            NaN  "
      ]
     },
     "execution_count": 14,
     "metadata": {},
     "output_type": "execute_result"
    }
   ],
   "source": [
    "market_statistics[(market_statistics.NB_APPLICATION_END_MONTH == 0) &\\\n",
    "                  (market_statistics.NB_OFFER_END_MONTH == 0) &\\\n",
    "                  (market_statistics.NB_OFFER_LAST_WEEK == 0) &\\\n",
    "                  (market_statistics.NB_APPLICATION_LAST_WEEK  == 0)].head()"
   ]
  },
  {
   "cell_type": "markdown",
   "metadata": {
    "collapsed": true
   },
   "source": [
    "There are jobs with zeros and NA. So probably, the missing values and the zeros are different things. We couldn't find any information about this in the [documentation](https://www.emploi-store-dev.fr/portail-developpeur-cms/home/catalogue-des-api/documentation-des-api/api-infotravail-v1/api-infotravail-imt/statistiques-offres-demandes.html).\n",
    "\n",
    "Is there an area level (except whole country) for which we have info for all job groups?"
   ]
  },
  {
   "cell_type": "code",
   "execution_count": 15,
   "metadata": {},
   "outputs": [
    {
     "data": {
      "image/png": "[encoded data removed]",
      "text/plain": [
       "<matplotlib.figure.Figure at 0x7fa64be61cf8>"
      ]
     },
     "metadata": {
      "image/png": {
       "height": 329,
       "width": 478
      }
     },
     "output_type": "display_data"
    }
   ],
   "source": [
    "department_romes = market_statistics[market_statistics.AREA_TYPE_CODE == 'D'].\\\n",
    "    groupby('AREA_NAME').ROME_PROFESSION_CARD_NAME.size()\n",
    "department_romes.hist();"
   ]
  },
  {
   "cell_type": "markdown",
   "metadata": {},
   "source": [
    "Arf... Almost... A couple of departments have some jobs not represented.\n",
    "\n",
    "Let's see with the region."
   ]
  },
  {
   "cell_type": "code",
   "execution_count": 16,
   "metadata": {},
   "outputs": [
    {
     "data": {
      "image/png": "[encoded data removed]",
      "text/plain": [
       "<matplotlib.figure.Figure at 0x7fa64be9cba8>"
      ]
     },
     "metadata": {
      "image/png": {
       "height": 329,
       "width": 478
      }
     },
     "output_type": "display_data"
    }
   ],
   "source": [
    "region_romes = market_statistics[market_statistics.AREA_TYPE_CODE == 'R'].\\\n",
    "    groupby('AREA_NAME').ROME_PROFESSION_CARD_NAME.size()\n",
    "region_romes.hist();"
   ]
  },
  {
   "cell_type": "markdown",
   "metadata": {},
   "source": [
    "Nothing is perfect! But most of the regions have information for all jobs.\n",
    "\n",
    "Let's have a look to an area for which there is less jobs than expected (532)?\n",
    "First, what are the areas with less than 532 job groups?"
   ]
  },
  {
   "cell_type": "code",
   "execution_count": 17,
   "metadata": {},
   "outputs": [
    {
     "data": {
      "text/html": [
       "<div>\n",
       "<table border=\"1\" class=\"dataframe\">\n",
       "  <thead>\n",
       "    <tr style=\"text-align: right;\">\n",
       "      <th></th>\n",
       "      <th>AREA_TYPE_CODE</th>\n",
       "      <th>AREA_CODE</th>\n",
       "      <th>jobgroups</th>\n",
       "    </tr>\n",
       "  </thead>\n",
       "  <tbody>\n",
       "    <tr>\n",
       "      <th>505</th>\n",
       "      <td>D</td>\n",
       "      <td>976</td>\n",
       "      <td>416</td>\n",
       "    </tr>\n",
       "    <tr>\n",
       "      <th>503</th>\n",
       "      <td>D</td>\n",
       "      <td>973</td>\n",
       "      <td>473</td>\n",
       "    </tr>\n",
       "    <tr>\n",
       "      <th>433</th>\n",
       "      <td>D</td>\n",
       "      <td>2A</td>\n",
       "      <td>495</td>\n",
       "    </tr>\n",
       "    <tr>\n",
       "      <th>434</th>\n",
       "      <td>D</td>\n",
       "      <td>2B</td>\n",
       "      <td>495</td>\n",
       "    </tr>\n",
       "    <tr>\n",
       "      <th>502</th>\n",
       "      <td>D</td>\n",
       "      <td>972</td>\n",
       "      <td>503</td>\n",
       "    </tr>\n",
       "    <tr>\n",
       "      <th>507</th>\n",
       "      <td>D</td>\n",
       "      <td>978</td>\n",
       "      <td>510</td>\n",
       "    </tr>\n",
       "    <tr>\n",
       "      <th>506</th>\n",
       "      <td>D</td>\n",
       "      <td>977</td>\n",
       "      <td>510</td>\n",
       "    </tr>\n",
       "    <tr>\n",
       "      <th>501</th>\n",
       "      <td>D</td>\n",
       "      <td>971</td>\n",
       "      <td>510</td>\n",
       "    </tr>\n",
       "    <tr>\n",
       "      <th>504</th>\n",
       "      <td>D</td>\n",
       "      <td>974</td>\n",
       "      <td>518</td>\n",
       "    </tr>\n",
       "    <tr>\n",
       "      <th>475</th>\n",
       "      <td>D</td>\n",
       "      <td>70</td>\n",
       "      <td>529</td>\n",
       "    </tr>\n",
       "  </tbody>\n",
       "</table>\n",
       "</div>"
      ],
      "text/plain": [
       "    AREA_TYPE_CODE AREA_CODE  jobgroups\n",
       "505              D       976        416\n",
       "503              D       973        473\n",
       "433              D        2A        495\n",
       "434              D        2B        495\n",
       "502              D       972        503\n",
       "507              D       978        510\n",
       "506              D       977        510\n",
       "501              D       971        510\n",
       "504              D       974        518\n",
       "475              D        70        529"
      ]
     },
     "execution_count": 17,
     "metadata": {},
     "output_type": "execute_result"
    }
   ],
   "source": [
    "area_romes = area_romes.to_frame()\n",
    "area_romes = area_romes.reset_index(['AREA_TYPE_CODE', 'AREA_CODE'])\n",
    "area_romes.columns = [['AREA_TYPE_CODE', 'AREA_CODE', 'jobgroups']]\n",
    "department_romes = area_romes[area_romes.AREA_TYPE_CODE == 'D']\n",
    "department_romes.sort_values('jobgroups').head(10)"
   ]
  },
  {
   "cell_type": "markdown",
   "metadata": {},
   "source": [
    "Overseas territories (97X area codes) and Corsica (2X area codes) are the areas where there are the higher number of job groups missing.\n",
    "\n",
    "## Conclusion\n",
    "This dataset seems quite clean even if:\n",
    "- There are few information on market score\n",
    "- There are some areas with missing jobs. This seems not to be related with lines with zeros...\n",
    "However, there are multiple granularity layers that seems consistent between each others.\n",
    "\n",
    "## Comparison with Scraped Data\n",
    "\n",
    "Let's compare these data from the one that are now (2017/09/14) online.\n",
    "For a [Nurse in the department \"Yonne\"](http://candidat.pole-emploi.fr/marche-du-travail/informationssurunmetier?codeMetier=38859&codeZoneGeographique=89&typeZoneGeographique=DEPARTEMENT), there are no value."
   ]
  },
  {
   "cell_type": "code",
   "execution_count": 18,
   "metadata": {},
   "outputs": [
    {
     "data": {
      "text/html": [
       "<div>\n",
       "<table border=\"1\" class=\"dataframe\">\n",
       "  <thead>\n",
       "    <tr style=\"text-align: right;\">\n",
       "      <th></th>\n",
       "      <th>AREA_TYPE_NAME</th>\n",
       "      <th>ROME_PROFESSION_CARD_NAME</th>\n",
       "      <th>AREA_NAME</th>\n",
       "      <th>TENSION_RATIO</th>\n",
       "    </tr>\n",
       "  </thead>\n",
       "  <tbody>\n",
       "    <tr>\n",
       "      <th>84149</th>\n",
       "      <td>Département</td>\n",
       "      <td>Coordination de services médicaux ou paramédicaux</td>\n",
       "      <td>YONNE</td>\n",
       "      <td>NaN</td>\n",
       "    </tr>\n",
       "  </tbody>\n",
       "</table>\n",
       "</div>"
      ],
      "text/plain": [
       "      AREA_TYPE_NAME                          ROME_PROFESSION_CARD_NAME  \\\n",
       "84149    Département  Coordination de services médicaux ou paramédicaux   \n",
       "\n",
       "      AREA_NAME  TENSION_RATIO  \n",
       "84149     YONNE            NaN  "
      ]
     },
     "execution_count": 18,
     "metadata": {},
     "output_type": "execute_result"
    }
   ],
   "source": [
    "market_statistics[\n",
    "    (market_statistics.AREA_NAME == 'YONNE') &\\\n",
    "    (market_statistics.ROME_PROFESSION_CARD_CODE == 'J1502')]\\\n",
    "    [['AREA_TYPE_NAME', 'ROME_PROFESSION_CARD_NAME', 'AREA_NAME', 'TENSION_RATIO']]"
   ]
  },
  {
   "cell_type": "markdown",
   "metadata": {},
   "source": [
    "Same here!\n",
    "\n",
    "What about a plumber in the Cher department. The website announces [3 offers for 10 people](http://candidat.pole-emploi.fr/marche-du-travail/informationssurunmetier?codeMetier=17837&codeZoneGeographique=18&typeZoneGeographique=DEPARTEMENT)."
   ]
  },
  {
   "cell_type": "code",
   "execution_count": 19,
   "metadata": {},
   "outputs": [
    {
     "data": {
      "text/html": [
       "<div>\n",
       "<table border=\"1\" class=\"dataframe\">\n",
       "  <thead>\n",
       "    <tr style=\"text-align: right;\">\n",
       "      <th></th>\n",
       "      <th>AREA_TYPE_NAME</th>\n",
       "      <th>ROME_PROFESSION_CARD_NAME</th>\n",
       "      <th>AREA_NAME</th>\n",
       "      <th>TENSION_RATIO</th>\n",
       "    </tr>\n",
       "  </thead>\n",
       "  <tbody>\n",
       "    <tr>\n",
       "      <th>135082</th>\n",
       "      <td>Département</td>\n",
       "      <td>Installation d'équipements sanitaires et therm...</td>\n",
       "      <td>CHER</td>\n",
       "      <td>3.0</td>\n",
       "    </tr>\n",
       "  </tbody>\n",
       "</table>\n",
       "</div>"
      ],
      "text/plain": [
       "       AREA_TYPE_NAME                          ROME_PROFESSION_CARD_NAME  \\\n",
       "135082    Département  Installation d'équipements sanitaires et therm...   \n",
       "\n",
       "       AREA_NAME  TENSION_RATIO  \n",
       "135082      CHER            3.0  "
      ]
     },
     "execution_count": 19,
     "metadata": {},
     "output_type": "execute_result"
    }
   ],
   "source": [
    "market_statistics[\n",
    "    (market_statistics.AREA_NAME == 'CHER') &\\\n",
    "    (market_statistics.ROME_PROFESSION_CARD_CODE == 'F1603')]\\\n",
    "    [['AREA_TYPE_NAME', 'ROME_PROFESSION_CARD_NAME', 'AREA_NAME', 'TENSION_RATIO']]"
   ]
  },
  {
   "cell_type": "markdown",
   "metadata": {},
   "source": [
    "Same story here. Yippee! \n",
    "\n",
    "Let's have a look to the areas with missing jobs. As an example we'll look at the Haute-Saône department (code 70)."
   ]
  },
  {
   "cell_type": "code",
   "execution_count": 20,
   "metadata": {},
   "outputs": [
    {
     "data": {
      "text/plain": [
       "array([\"Conservation et reconstitution d'espèces animales\",\n",
       "       'Encadrement équipage de la pêche',\n",
       "       \"Films d'animation et effets spéciaux\"], dtype=object)"
      ]
     },
     "execution_count": 20,
     "metadata": {},
     "output_type": "execute_result"
    }
   ],
   "source": [
    "haute_saone_jobs = market_statistics[market_statistics.AREA_CODE == '70'].ROME_PROFESSION_CARD_NAME.unique()\n",
    "market_statistics[-market_statistics.ROME_PROFESSION_CARD_NAME.isin(haute_saone_jobs)].\\\n",
    "    ROME_PROFESSION_CARD_NAME.unique()"
   ]
  },
  {
   "cell_type": "markdown",
   "metadata": {},
   "source": [
    "Online, the \"Films d'animation et effets spéciaux\" values are specified as [insufficient data](http://candidat.pole-emploi.fr/marche-du-travail/statistiques?codeMetier=39030&codeZoneGeographique=70&typeZoneGeographique=DEPARTEMENT)."
   ]
  },
  {
   "cell_type": "markdown",
   "metadata": {},
   "source": [
    "### Conclusion\n",
    "Scraped data and data provided by the API are similar. \n",
    "A [previous overview](https://github.com/bayesimpact/bob-emploi-internal/blob/HEAD/data_analysis/notebooks/research/reorientation/average_market_stress.ipynb) of the scraped data observed a market score median of 4 jobs for 10 candidates. Here we observed it at 5 jobs per 10 candidates.\n",
    "\n",
    "## General Conclusion\n",
    "This dataset gives various information on job offers and demands at multiple area level (from very local to national). It covers all the 532 job groups. We noticed that some jobs are missing at certain area levels and that this seems different from zero information. We should go back to Pôle Emploi with this question.\n",
    "\n",
    "When focusing only on the market score we observed a majority of missing values probably due to the low average number of offers and demands.\n",
    "Nevertheless, as compared to the scraped data, we have now access to deeper and larger area types (\"Country\" and \"Bassin\" in addition to \"Department\" and \"Région\"). Furthermore, the data is clean enough to recommend to\n",
    "- Switch to the API data and drop the scraped data\n",
    "- Explore using the data at different levels\n"
   ]
  }
 ],
 "metadata": {
  "kernelspec": {
   "display_name": "Python 3",
   "language": "python",
   "name": "python3"
  },
  "language_info": {
   "codemirror_mode": {
    "name": "ipython",
    "version": 3
   },
   "file_extension": ".py",
   "mimetype": "text/x-python",
   "name": "python",
   "nbconvert_exporter": "python",
   "pygments_lexer": "ipython3",
   "version": "3.6.2"
  }
 },
 "nbformat": 4,
 "nbformat_minor": 2
}
