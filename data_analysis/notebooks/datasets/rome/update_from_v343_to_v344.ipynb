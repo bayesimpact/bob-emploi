{
 "cells": [
  {
   "cell_type": "markdown",
   "metadata": {},
   "source": [
    "Author: Pascal, pascal@bayesimpact.org\n",
    "\n",
    "Date: 2020-10-14\n",
    "\n",
    "# ROME update from v343 to v344\n",
    "\n",
    "In October 2020 a new version of the ROME was released. I want to investigate what changed and whether we need to do anything about it.\n",
    "\n",
    "You might not be able to reproduce this notebook, mostly because it requires to have the two versions of the ROME in your `data/rome/csv` folder which happens only just before we switch to v344. You will have to trust me on the results ;-)\n",
    "\n",
    "Skip the run test because it requires older versions of the ROME."
   ]
  },
  {
   "cell_type": "code",
   "execution_count": 1,
   "metadata": {},
   "outputs": [],
   "source": [
    "import collections\n",
    "import glob\n",
    "import os\n",
    "from os import path\n",
    "\n",
    "import matplotlib_venn\n",
    "import pandas as pd\n",
    "\n",
    "rome_path = path.join(os.getenv('DATA_FOLDER'), 'rome/csv')\n",
    "\n",
    "OLD_VERSION = '343'\n",
    "NEW_VERSION = '344'\n",
    "\n",
    "old_version_files = frozenset(glob.glob(rome_path + '/*{}*'.format(OLD_VERSION)))\n",
    "new_version_files = frozenset(glob.glob(rome_path + '/*{}*'.format(NEW_VERSION)))"
   ]
  },
  {
   "cell_type": "markdown",
   "metadata": {},
   "source": [
    "First let's check if there are new or deleted files (only matching by file names)."
   ]
  },
  {
   "cell_type": "code",
   "execution_count": 2,
   "metadata": {},
   "outputs": [
    {
     "name": "stdout",
     "output_type": "stream",
     "text": [
      "0 new files\n",
      "0 deleted files\n"
     ]
    }
   ],
   "source": [
    "new_files = new_version_files - frozenset(f.replace(OLD_VERSION, NEW_VERSION) for f in old_version_files)\n",
    "deleted_files = old_version_files - frozenset(f.replace(NEW_VERSION, OLD_VERSION) for f in new_version_files)\n",
    "\n",
    "print('{:d} new files'.format(len(new_files)))\n",
    "print('{:d} deleted files'.format(len(deleted_files)))"
   ]
  },
  {
   "cell_type": "markdown",
   "metadata": {},
   "source": [
    "Cool, no new nor deleted files.\n",
    "\n",
    "Now let's set up a dataset that, for each table, links both the old and the new file together."
   ]
  },
  {
   "cell_type": "code",
   "execution_count": 3,
   "metadata": {},
   "outputs": [],
   "source": [
    "# Load all ROME datasets for the two versions we compare.\n",
    "VersionedDataset = collections.namedtuple('VersionedDataset', ['basename', 'old', 'new'])\n",
    "def read_csv(filename):\n",
    "    try:\n",
    "        return pd.read_csv(filename)\n",
    "    except pd.errors.ParserError:\n",
    "        display(f'While parsing: {filename}')\n",
    "        raise\n",
    "\n",
    "rome_data = [VersionedDataset(\n",
    "        basename=path.basename(f),\n",
    "        old=read_csv(f.replace(NEW_VERSION, OLD_VERSION)),\n",
    "        new=read_csv(f))\n",
    "    for f in sorted(new_version_files)]\n",
    "\n",
    "def find_rome_dataset_by_name(data, partial_name):\n",
    "    for dataset in data:\n",
    "        if 'unix_{}_v{}_utf8.csv'.format(partial_name, NEW_VERSION) == dataset.basename:\n",
    "            return dataset\n",
    "    raise ValueError('No dataset named {}, the list is\\n{}'.format(partial_name, [d.basename for d in data]))"
   ]
  },
  {
   "cell_type": "markdown",
   "metadata": {},
   "source": [
    "Let's make sure the structure hasn't changed:"
   ]
  },
  {
   "cell_type": "code",
   "execution_count": 4,
   "metadata": {},
   "outputs": [],
   "source": [
    "for dataset in rome_data:\n",
    "    if set(dataset.old.columns) != set(dataset.new.columns):\n",
    "        print('Columns of {} have changed.'.format(dataset.basename))"
   ]
  },
  {
   "cell_type": "markdown",
   "metadata": {},
   "source": [
    "OK no columns have changed.\n",
    "\n",
    "Now let's see for each file if there are more or less rows."
   ]
  },
  {
   "cell_type": "code",
   "execution_count": 5,
   "metadata": {},
   "outputs": [
    {
     "name": "stdout",
     "output_type": "stream",
     "text": [
      "28/32273 values added in unix_coherence_item_v344_utf8.csv\n",
      "15/11752 values added in unix_cr_gd_dp_appellations_v344_utf8.csv\n",
      "14/13659 values added in unix_item_v344_utf8.csv\n",
      "43/43901 values added in unix_liens_rome_referentiels_v344_utf8.csv\n",
      "6/8983 values added in unix_referentiel_activite_riasec_v344_utf8.csv\n",
      "6/8983 values added in unix_referentiel_activite_v344_utf8.csv\n",
      "15/11096 values added in unix_referentiel_appellation_v344_utf8.csv\n",
      "1/4930 values added in unix_referentiel_competence_v344_utf8.csv\n",
      "2/5050 values added in unix_texte_v344_utf8.csv\n",
      "11/20 files with the same number of rows\n"
     ]
    }
   ],
   "source": [
    "same_row_count_files = 0\n",
    "for dataset in rome_data:\n",
    "    diff = len(dataset.new.index) - len(dataset.old.index)\n",
    "    if diff > 0:\n",
    "        print('{:d}/{:d} values added in {}'.format(\n",
    "            diff, len(dataset.new.index), dataset.basename))\n",
    "    elif diff < 0:\n",
    "        print('{:d}/{:d} values removed in {}'.format(\n",
    "            -diff, len(dataset.old.index), dataset.basename))\n",
    "    else:\n",
    "        same_row_count_files += 1\n",
    "print('{:d}/{:d} files with the same number of rows'.format(\n",
    "    same_row_count_files, len(rome_data)))"
   ]
  },
  {
   "cell_type": "markdown",
   "metadata": {},
   "source": [
    "There are some minor changes in many files, but based on my knowledge of ROME, none from the main files.\n",
    "\n",
    "The most interesting ones are in referentiel_appellation, item, competence, and liens_rome_referentiels, so let's see more precisely."
   ]
  },
  {
   "cell_type": "code",
   "execution_count": 6,
   "metadata": {},
   "outputs": [
    {
     "data": {
      "image/png": "[encoded data removed]",
      "text/plain": [
       "<Figure size 432x288 with 1 Axes>"
      ]
     },
     "metadata": {
      "image/png": {
       "height": 236,
       "width": 231
      }
     },
     "output_type": "display_data"
    }
   ],
   "source": [
    "jobs = find_rome_dataset_by_name(rome_data, 'referentiel_appellation')\n",
    "\n",
    "new_jobs = set(jobs.new.code_ogr) - set(jobs.old.code_ogr)\n",
    "obsolete_jobs = set(jobs.old.code_ogr) - set(jobs.new.code_ogr)\n",
    "stable_jobs = set(jobs.new.code_ogr) & set(jobs.old.code_ogr)\n",
    "\n",
    "matplotlib_venn.venn2((len(obsolete_jobs), len(new_jobs), len(stable_jobs)), (OLD_VERSION, NEW_VERSION));"
   ]
  },
  {
   "cell_type": "markdown",
   "metadata": {},
   "source": [
    "Alright, so the only change seems to be 15 new jobs added. Let's take a look (only showing interesting fields):"
   ]
  },
  {
   "cell_type": "code",
   "execution_count": 7,
   "metadata": {},
   "outputs": [
    {
     "data": {
      "text/html": [
       "<div>\n",
       "<style scoped>\n",
       "    .dataframe tbody tr th:only-of-type {\n",
       "        vertical-align: middle;\n",
       "    }\n",
       "\n",
       "    .dataframe tbody tr th {\n",
       "        vertical-align: top;\n",
       "    }\n",
       "\n",
       "    .dataframe thead th {\n",
       "        text-align: right;\n",
       "    }\n",
       "</style>\n",
       "<table border=\"1\" class=\"dataframe\">\n",
       "  <thead>\n",
       "    <tr style=\"text-align: right;\">\n",
       "      <th></th>\n",
       "      <th>code_ogr</th>\n",
       "      <th>libelle_appellation_long</th>\n",
       "      <th>code_rome</th>\n",
       "    </tr>\n",
       "  </thead>\n",
       "  <tbody>\n",
       "    <tr>\n",
       "      <th>11081</th>\n",
       "      <td>200100</td>\n",
       "      <td>Observateur / Observatrice des pêches</td>\n",
       "      <td>A1204</td>\n",
       "    </tr>\n",
       "    <tr>\n",
       "      <th>11082</th>\n",
       "      <td>200101</td>\n",
       "      <td>Murailler / Muraillère</td>\n",
       "      <td>F1703</td>\n",
       "    </tr>\n",
       "    <tr>\n",
       "      <th>11083</th>\n",
       "      <td>200102</td>\n",
       "      <td>Analyste vidéos de sports</td>\n",
       "      <td>G1204</td>\n",
       "    </tr>\n",
       "    <tr>\n",
       "      <th>11084</th>\n",
       "      <td>200103</td>\n",
       "      <td>Sushiman / Sushiwoman</td>\n",
       "      <td>G1602</td>\n",
       "    </tr>\n",
       "    <tr>\n",
       "      <th>11085</th>\n",
       "      <td>200104</td>\n",
       "      <td>Barista</td>\n",
       "      <td>G1801</td>\n",
       "    </tr>\n",
       "    <tr>\n",
       "      <th>11086</th>\n",
       "      <td>200105</td>\n",
       "      <td>Opérateur / Opératrice de production de granulés / pellets de bois</td>\n",
       "      <td>H2205</td>\n",
       "    </tr>\n",
       "    <tr>\n",
       "      <th>11087</th>\n",
       "      <td>200106</td>\n",
       "      <td>Agent / Agente d'entretien des piscines</td>\n",
       "      <td>I1203</td>\n",
       "    </tr>\n",
       "    <tr>\n",
       "      <th>11088</th>\n",
       "      <td>200107</td>\n",
       "      <td>Monteur / Monteuse sprinkler</td>\n",
       "      <td>I1304</td>\n",
       "    </tr>\n",
       "    <tr>\n",
       "      <th>11089</th>\n",
       "      <td>200108</td>\n",
       "      <td>Concepteur / Conceptrice pédagogique e-formation</td>\n",
       "      <td>K2111</td>\n",
       "    </tr>\n",
       "    <tr>\n",
       "      <th>11090</th>\n",
       "      <td>200109</td>\n",
       "      <td>Gestionnaire des aires d'accueil des gens du voyage</td>\n",
       "      <td>K2501</td>\n",
       "    </tr>\n",
       "    <tr>\n",
       "      <th>11091</th>\n",
       "      <td>200110</td>\n",
       "      <td>Fauconnier / Fauconnière</td>\n",
       "      <td>L1204</td>\n",
       "    </tr>\n",
       "    <tr>\n",
       "      <th>11092</th>\n",
       "      <td>200111</td>\n",
       "      <td>Responsable Qualité de Vie au Travail - QVT</td>\n",
       "      <td>M1502</td>\n",
       "    </tr>\n",
       "    <tr>\n",
       "      <th>11093</th>\n",
       "      <td>200112</td>\n",
       "      <td>Administrateur / Administratrice système et réseaux d'information et de communication</td>\n",
       "      <td>M1801</td>\n",
       "    </tr>\n",
       "    <tr>\n",
       "      <th>11094</th>\n",
       "      <td>200113</td>\n",
       "      <td>Administrateur / Administratrice de plateforme de service</td>\n",
       "      <td>M1801</td>\n",
       "    </tr>\n",
       "    <tr>\n",
       "      <th>11095</th>\n",
       "      <td>200114</td>\n",
       "      <td>Conducteur / Conductrice de voiture radar à conduite externalisée</td>\n",
       "      <td>N4105</td>\n",
       "    </tr>\n",
       "  </tbody>\n",
       "</table>\n",
       "</div>"
      ],
      "text/plain": [
       "       code_ogr  \\\n",
       "11081    200100   \n",
       "11082    200101   \n",
       "11083    200102   \n",
       "11084    200103   \n",
       "11085    200104   \n",
       "11086    200105   \n",
       "11087    200106   \n",
       "11088    200107   \n",
       "11089    200108   \n",
       "11090    200109   \n",
       "11091    200110   \n",
       "11092    200111   \n",
       "11093    200112   \n",
       "11094    200113   \n",
       "11095    200114   \n",
       "\n",
       "                                                                    libelle_appellation_long  \\\n",
       "11081                                                  Observateur / Observatrice des pêches   \n",
       "11082                                                                 Murailler / Muraillère   \n",
       "11083                                                              Analyste vidéos de sports   \n",
       "11084                                                                  Sushiman / Sushiwoman   \n",
       "11085                                                                                Barista   \n",
       "11086                     Opérateur / Opératrice de production de granulés / pellets de bois   \n",
       "11087                                                Agent / Agente d'entretien des piscines   \n",
       "11088                                                           Monteur / Monteuse sprinkler   \n",
       "11089                                       Concepteur / Conceptrice pédagogique e-formation   \n",
       "11090                                    Gestionnaire des aires d'accueil des gens du voyage   \n",
       "11091                                                               Fauconnier / Fauconnière   \n",
       "11092                                            Responsable Qualité de Vie au Travail - QVT   \n",
       "11093  Administrateur / Administratrice système et réseaux d'information et de communication   \n",
       "11094                              Administrateur / Administratrice de plateforme de service   \n",
       "11095                      Conducteur / Conductrice de voiture radar à conduite externalisée   \n",
       "\n",
       "      code_rome  \n",
       "11081     A1204  \n",
       "11082     F1703  \n",
       "11083     G1204  \n",
       "11084     G1602  \n",
       "11085     G1801  \n",
       "11086     H2205  \n",
       "11087     I1203  \n",
       "11088     I1304  \n",
       "11089     K2111  \n",
       "11090     K2501  \n",
       "11091     L1204  \n",
       "11092     M1502  \n",
       "11093     M1801  \n",
       "11094     M1801  \n",
       "11095     N4105  "
      ]
     },
     "execution_count": 7,
     "metadata": {},
     "output_type": "execute_result"
    }
   ],
   "source": [
    "pd.options.display.max_colwidth = 2000\n",
    "jobs.new[jobs.new.code_ogr.isin(new_jobs)][['code_ogr', 'libelle_appellation_long', 'code_rome']]"
   ]
  },
  {
   "cell_type": "markdown",
   "metadata": {},
   "source": [
    "Those are indeed new jobs. Some are related to COVID-19 sneaking in.\n",
    "\n",
    "OK, let's check at the changes in items:"
   ]
  },
  {
   "cell_type": "code",
   "execution_count": 8,
   "metadata": {},
   "outputs": [
    {
     "data": {
      "image/png": "[encoded data removed]",
      "text/plain": [
       "<Figure size 432x288 with 1 Axes>"
      ]
     },
     "metadata": {
      "image/png": {
       "height": 236,
       "width": 231
      }
     },
     "output_type": "display_data"
    }
   ],
   "source": [
    "items = find_rome_dataset_by_name(rome_data, 'item')\n",
    "\n",
    "new_items = set(items.new.code_ogr) - set(items.old.code_ogr)\n",
    "obsolete_items = set(items.old.code_ogr) - set(items.new.code_ogr)\n",
    "stable_items = set(items.new.code_ogr) & set(items.old.code_ogr)\n",
    "\n",
    "matplotlib_venn.venn2((len(obsolete_items), len(new_items), len(stable_items)), (OLD_VERSION, NEW_VERSION));"
   ]
  },
  {
   "cell_type": "markdown",
   "metadata": {},
   "source": [
    "As anticipated it is a very minor change (hard to see it visually): 9 new ones have been created. Let's have a look at them."
   ]
  },
  {
   "cell_type": "code",
   "execution_count": 9,
   "metadata": {},
   "outputs": [
    {
     "data": {
      "text/html": [
       "<div>\n",
       "<style scoped>\n",
       "    .dataframe tbody tr th:only-of-type {\n",
       "        vertical-align: middle;\n",
       "    }\n",
       "\n",
       "    .dataframe tbody tr th {\n",
       "        vertical-align: top;\n",
       "    }\n",
       "\n",
       "    .dataframe thead th {\n",
       "        text-align: right;\n",
       "    }\n",
       "</style>\n",
       "<table border=\"1\" class=\"dataframe\">\n",
       "  <thead>\n",
       "    <tr style=\"text-align: right;\">\n",
       "      <th></th>\n",
       "      <th>code_ogr</th>\n",
       "      <th>libelle</th>\n",
       "      <th>code_type_referentiel</th>\n",
       "      <th>code_ref_rubrique</th>\n",
       "      <th>code_tete_rgpmt</th>\n",
       "      <th>libelle_activite_impression</th>\n",
       "      <th>libelle_en_tete_regroupement</th>\n",
       "    </tr>\n",
       "  </thead>\n",
       "  <tbody>\n",
       "    <tr>\n",
       "      <th>7978</th>\n",
       "      <td>120755</td>\n",
       "      <td>Effectuer le dérushage de séquences vidéo</td>\n",
       "      <td>2</td>\n",
       "      <td>9</td>\n",
       "      <td>NaN</td>\n",
       "      <td>NaN</td>\n",
       "      <td>NaN</td>\n",
       "    </tr>\n",
       "    <tr>\n",
       "      <th>8012</th>\n",
       "      <td>120819</td>\n",
       "      <td>Établir un Document Unique d'Évaluation des Risques (DUER)</td>\n",
       "      <td>2</td>\n",
       "      <td>9</td>\n",
       "      <td>NaN</td>\n",
       "      <td>NaN</td>\n",
       "      <td>NaN</td>\n",
       "    </tr>\n",
       "    <tr>\n",
       "      <th>12889</th>\n",
       "      <td>200115</td>\n",
       "      <td>Collecter et enregistrer des données de capture de pêche</td>\n",
       "      <td>2</td>\n",
       "      <td>9</td>\n",
       "      <td>NaN</td>\n",
       "      <td>NaN</td>\n",
       "      <td>NaN</td>\n",
       "    </tr>\n",
       "    <tr>\n",
       "      <th>12890</th>\n",
       "      <td>200116</td>\n",
       "      <td>Analyser les vidéos de sport pour déterminer les objectifs sportifs</td>\n",
       "      <td>2</td>\n",
       "      <td>9</td>\n",
       "      <td>NaN</td>\n",
       "      <td>NaN</td>\n",
       "      <td>NaN</td>\n",
       "    </tr>\n",
       "    <tr>\n",
       "      <th>12891</th>\n",
       "      <td>200117</td>\n",
       "      <td>Assurer l'entretien et la maintenance de la piscine et vérifier la qualité de l'eau par des contrôles réguliers</td>\n",
       "      <td>2</td>\n",
       "      <td>9</td>\n",
       "      <td>NaN</td>\n",
       "      <td>NaN</td>\n",
       "      <td>NaN</td>\n",
       "    </tr>\n",
       "  </tbody>\n",
       "</table>\n",
       "</div>"
      ],
      "text/plain": [
       "       code_ogr  \\\n",
       "7978     120755   \n",
       "8012     120819   \n",
       "12889    200115   \n",
       "12890    200116   \n",
       "12891    200117   \n",
       "\n",
       "                                                                                                               libelle  \\\n",
       "7978                                                                         Effectuer le dérushage de séquences vidéo   \n",
       "8012                                                        Établir un Document Unique d'Évaluation des Risques (DUER)   \n",
       "12889                                                         Collecter et enregistrer des données de capture de pêche   \n",
       "12890                                              Analyser les vidéos de sport pour déterminer les objectifs sportifs   \n",
       "12891  Assurer l'entretien et la maintenance de la piscine et vérifier la qualité de l'eau par des contrôles réguliers   \n",
       "\n",
       "       code_type_referentiel  code_ref_rubrique  code_tete_rgpmt  \\\n",
       "7978                       2                  9              NaN   \n",
       "8012                       2                  9              NaN   \n",
       "12889                      2                  9              NaN   \n",
       "12890                      2                  9              NaN   \n",
       "12891                      2                  9              NaN   \n",
       "\n",
       "       libelle_activite_impression  libelle_en_tete_regroupement  \n",
       "7978                           NaN                           NaN  \n",
       "8012                           NaN                           NaN  \n",
       "12889                          NaN                           NaN  \n",
       "12890                          NaN                           NaN  \n",
       "12891                          NaN                           NaN  "
      ]
     },
     "execution_count": 9,
     "metadata": {},
     "output_type": "execute_result"
    }
   ],
   "source": [
    "items.new[items.new.code_ogr.isin(new_items)].head()"
   ]
  },
  {
   "cell_type": "markdown",
   "metadata": {},
   "source": [
    "The new ones seem legit to me and related to the new jobs.\n",
    "\n",
    "The changes in `liens_rome_referentiels` include changes for those items, so let's only check the changes not related to those."
   ]
  },
  {
   "cell_type": "code",
   "execution_count": 10,
   "metadata": {},
   "outputs": [
    {
     "data": {
      "text/plain": [
       "added    19\n",
       "Name: _diff, dtype: int64"
      ]
     },
     "execution_count": 10,
     "metadata": {},
     "output_type": "execute_result"
    }
   ],
   "source": [
    "links = find_rome_dataset_by_name(rome_data, 'liens_rome_referentiels')\n",
    "old_links_on_stable_items = links.old[links.old.code_ogr.isin(stable_items)]\n",
    "new_links_on_stable_items = links.new[links.new.code_ogr.isin(stable_items)]\n",
    "\n",
    "old = old_links_on_stable_items[['code_rome', 'code_ogr']]\n",
    "new = new_links_on_stable_items[['code_rome', 'code_ogr']]\n",
    "\n",
    "links_merged = old.merge(new, how='outer', indicator=True)\n",
    "links_merged['_diff'] = links_merged._merge.map({'left_only': 'removed', 'right_only': 'added'})\n",
    "links_merged._diff.value_counts()"
   ]
  },
  {
   "cell_type": "markdown",
   "metadata": {},
   "source": [
    "So in addition to the added items, there are few fixes. Let's have a look at them:"
   ]
  },
  {
   "cell_type": "code",
   "execution_count": 11,
   "metadata": {},
   "outputs": [
    {
     "data": {
      "text/html": [
       "<div>\n",
       "<style scoped>\n",
       "    .dataframe tbody tr th:only-of-type {\n",
       "        vertical-align: middle;\n",
       "    }\n",
       "\n",
       "    .dataframe tbody tr th {\n",
       "        vertical-align: top;\n",
       "    }\n",
       "\n",
       "    .dataframe thead th {\n",
       "        text-align: right;\n",
       "    }\n",
       "</style>\n",
       "<table border=\"1\" class=\"dataframe\">\n",
       "  <thead>\n",
       "    <tr style=\"text-align: right;\">\n",
       "      <th></th>\n",
       "      <th>code_rome</th>\n",
       "      <th>code_ogr</th>\n",
       "      <th>_merge</th>\n",
       "      <th>_diff</th>\n",
       "      <th>job_group_name</th>\n",
       "      <th>item_name</th>\n",
       "    </tr>\n",
       "  </thead>\n",
       "  <tbody>\n",
       "  </tbody>\n",
       "</table>\n",
       "</div>"
      ],
      "text/plain": [
       "Empty DataFrame\n",
       "Columns: [code_rome, code_ogr, _merge, _diff, job_group_name, item_name]\n",
       "Index: []"
      ]
     },
     "metadata": {},
     "output_type": "display_data"
    },
    {
     "data": {
      "text/html": [
       "<div>\n",
       "<style scoped>\n",
       "    .dataframe tbody tr th:only-of-type {\n",
       "        vertical-align: middle;\n",
       "    }\n",
       "\n",
       "    .dataframe tbody tr th {\n",
       "        vertical-align: top;\n",
       "    }\n",
       "\n",
       "    .dataframe thead th {\n",
       "        text-align: right;\n",
       "    }\n",
       "</style>\n",
       "<table border=\"1\" class=\"dataframe\">\n",
       "  <thead>\n",
       "    <tr style=\"text-align: right;\">\n",
       "      <th></th>\n",
       "      <th>code_rome</th>\n",
       "      <th>code_ogr</th>\n",
       "      <th>_merge</th>\n",
       "      <th>_diff</th>\n",
       "      <th>job_group_name</th>\n",
       "      <th>item_name</th>\n",
       "    </tr>\n",
       "  </thead>\n",
       "  <tbody>\n",
       "    <tr>\n",
       "      <th>32245</th>\n",
       "      <td>A1204</td>\n",
       "      <td>100246</td>\n",
       "      <td>right_only</td>\n",
       "      <td>added</td>\n",
       "      <td>Protection du patrimoine naturel</td>\n",
       "      <td>Règles de sécurité maritime</td>\n",
       "    </tr>\n",
       "    <tr>\n",
       "      <th>32246</th>\n",
       "      <td>A1204</td>\n",
       "      <td>100362</td>\n",
       "      <td>right_only</td>\n",
       "      <td>added</td>\n",
       "      <td>Protection du patrimoine naturel</td>\n",
       "      <td>Procédures d'échantillonnage</td>\n",
       "    </tr>\n",
       "    <tr>\n",
       "      <th>32247</th>\n",
       "      <td>I1203</td>\n",
       "      <td>103106</td>\n",
       "      <td>right_only</td>\n",
       "      <td>added</td>\n",
       "      <td>Maintenance des bâtiments et des locaux</td>\n",
       "      <td>Techniques de prélèvement et d'analyses</td>\n",
       "    </tr>\n",
       "    <tr>\n",
       "      <th>32248</th>\n",
       "      <td>I1203</td>\n",
       "      <td>104606</td>\n",
       "      <td>right_only</td>\n",
       "      <td>added</td>\n",
       "      <td>Maintenance des bâtiments et des locaux</td>\n",
       "      <td>Utilisation de matériel de contrôle et mesure</td>\n",
       "    </tr>\n",
       "    <tr>\n",
       "      <th>32249</th>\n",
       "      <td>I1304</td>\n",
       "      <td>105954</td>\n",
       "      <td>right_only</td>\n",
       "      <td>added</td>\n",
       "      <td>Installation et maintenance d'équipements industriels et d'exploitation</td>\n",
       "      <td>Réaliser une opération d'assemblage / montage / ajustage</td>\n",
       "    </tr>\n",
       "  </tbody>\n",
       "</table>\n",
       "</div>"
      ],
      "text/plain": [
       "      code_rome  code_ogr      _merge  _diff  \\\n",
       "32245     A1204    100246  right_only  added   \n",
       "32246     A1204    100362  right_only  added   \n",
       "32247     I1203    103106  right_only  added   \n",
       "32248     I1203    104606  right_only  added   \n",
       "32249     I1304    105954  right_only  added   \n",
       "\n",
       "                                                                job_group_name  \\\n",
       "32245                                         Protection du patrimoine naturel   \n",
       "32246                                         Protection du patrimoine naturel   \n",
       "32247                                  Maintenance des bâtiments et des locaux   \n",
       "32248                                  Maintenance des bâtiments et des locaux   \n",
       "32249  Installation et maintenance d'équipements industriels et d'exploitation   \n",
       "\n",
       "                                                      item_name  \n",
       "32245                               Règles de sécurité maritime  \n",
       "32246                              Procédures d'échantillonnage  \n",
       "32247                   Techniques de prélèvement et d'analyses  \n",
       "32248             Utilisation de matériel de contrôle et mesure  \n",
       "32249  Réaliser une opération d'assemblage / montage / ajustage  "
      ]
     },
     "execution_count": 11,
     "metadata": {},
     "output_type": "execute_result"
    }
   ],
   "source": [
    "job_group_names = find_rome_dataset_by_name(rome_data, 'referentiel_code_rome').new.set_index('code_rome').libelle_rome\n",
    "item_names = items.new.set_index('code_ogr').libelle.drop_duplicates()\n",
    "links_merged['job_group_name'] = links_merged.code_rome.map(job_group_names)\n",
    "links_merged['item_name'] = links_merged.code_ogr.map(item_names)\n",
    "display(links_merged[links_merged._diff == 'removed'].dropna().head(5))\n",
    "links_merged[links_merged._diff == 'added'].dropna().head(5)"
   ]
  },
  {
   "cell_type": "markdown",
   "metadata": {},
   "source": [
    "The added items are OK.\n",
    "\n",
    "That's all the changes we wanted to check (no change in `referentiel_code_rome`)."
   ]
  },
  {
   "cell_type": "markdown",
   "metadata": {},
   "source": [
    "# Conclusion\n",
    "\n",
    "The new version of ROME, v344, introduces very minor changes which reflect quite well what they wrote in their [changelog](http://www.pole-emploi.org/files/live/sites/peorg/files/documents/Statistiques-et-analyses/Open-data/ROME/ROME_AppropriationThematique.pdf).\n",
    "\n",
    "The transition should be transparent with a very small advantage over the old version."
   ]
  }
 ],
 "metadata": {
  "kernelspec": {
   "display_name": "Python 3",
   "language": "python",
   "name": "python3"
  },
  "language_info": {
   "codemirror_mode": {
    "name": "ipython",
    "version": 3
   },
   "file_extension": ".py",
   "mimetype": "text/x-python",
   "name": "python",
   "nbconvert_exporter": "python",
   "pygments_lexer": "ipython3",
   "version": "3.7.6"
  }
 },
 "nbformat": 4,
 "nbformat_minor": 1
}
