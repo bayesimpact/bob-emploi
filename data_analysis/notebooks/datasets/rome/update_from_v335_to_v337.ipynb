{
 "cells": [
  {
   "cell_type": "markdown",
   "metadata": {},
   "source": [
    "Author: Pascal, pascal@bayesimpact.org\n",
    "\n",
    "Date: 2018-12-18\n",
    "\n",
    "# ROME update from v335 to v337\n",
    "\n",
    "In December 2018 a new version of the ROME was released. I want to investigate what changed and whether we need to do anything about it.\n",
    "\n",
    "You might not be able to reproduce this notebook, mostly because it requires to have the two versions of the ROME in your `data/rome/csv` folder which happens only just before we switch to v335. You will have to trust me on the results ;-)\n",
    "\n",
    "Skip the run test because it requires older versions of the ROME."
   ]
  },
  {
   "cell_type": "code",
   "execution_count": 1,
   "metadata": {},
   "outputs": [],
   "source": [
    "import collections\n",
    "import glob\n",
    "import os\n",
    "from os import path\n",
    "\n",
    "import matplotlib_venn\n",
    "import pandas as pd\n",
    "\n",
    "rome_path = path.join(os.getenv('DATA_FOLDER'), 'rome/csv')\n",
    "\n",
    "OLD_VERSION = '335'\n",
    "NEW_VERSION = '337'\n",
    "\n",
    "old_version_files = frozenset(glob.glob(rome_path + '/*{}*'.format(OLD_VERSION)))\n",
    "new_version_files = frozenset(glob.glob(rome_path + '/*{}*'.format(NEW_VERSION)))"
   ]
  },
  {
   "cell_type": "markdown",
   "metadata": {},
   "source": [
    "First let's check if there are new or deleted files (only matching by file names)."
   ]
  },
  {
   "cell_type": "code",
   "execution_count": 2,
   "metadata": {},
   "outputs": [
    {
     "name": "stdout",
     "output_type": "stream",
     "text": [
      "0 new files\n",
      "0 deleted files\n"
     ]
    }
   ],
   "source": [
    "new_files = new_version_files - frozenset(f.replace(OLD_VERSION, NEW_VERSION) for f in old_version_files)\n",
    "deleted_files = old_version_files - frozenset(f.replace(NEW_VERSION, OLD_VERSION) for f in new_version_files)\n",
    "\n",
    "print('{:d} new files'.format(len(new_files)))\n",
    "print('{:d} deleted files'.format(len(deleted_files)))"
   ]
  },
  {
   "cell_type": "markdown",
   "metadata": {},
   "source": [
    "So we have the same set of files in both versions: good start.\n",
    "\n",
    "Now let's set up a dataset that, for each table, links both the old and the new file together."
   ]
  },
  {
   "cell_type": "code",
   "execution_count": 3,
   "metadata": {},
   "outputs": [],
   "source": [
    "# Load all ROME datasets for the two versions we compare.\n",
    "VersionedDataset = collections.namedtuple('VersionedDataset', ['basename', 'old', 'new'])\n",
    "rome_data = [VersionedDataset(\n",
    "        basename=path.basename(f),\n",
    "        old=pd.read_csv(f.replace(NEW_VERSION, OLD_VERSION)),\n",
    "        new=pd.read_csv(f))\n",
    "    for f in sorted(new_version_files)]\n",
    "\n",
    "def find_rome_dataset_by_name(data, partial_name):\n",
    "    for dataset in data:\n",
    "        if 'unix_{}_v{}_utf8.csv'.format(partial_name, NEW_VERSION) == dataset.basename:\n",
    "            return dataset\n",
    "    raise ValueError('No dataset named {}, the list is\\n{}'.format(partial_name, [d.basename for d in data]))"
   ]
  },
  {
   "cell_type": "markdown",
   "metadata": {},
   "source": [
    "Let's make sure the structure hasn't changed:"
   ]
  },
  {
   "cell_type": "code",
   "execution_count": 4,
   "metadata": {},
   "outputs": [],
   "source": [
    "for dataset in rome_data:\n",
    "    if set(dataset.old.columns) != set(dataset.new.columns):\n",
    "        print('Columns of {} have changed.'.format(dataset.basename))"
   ]
  },
  {
   "cell_type": "markdown",
   "metadata": {},
   "source": [
    "All files have the same columns as before: still good.\n",
    "\n",
    "Now let's see for each file if there are more or less rows."
   ]
  },
  {
   "cell_type": "code",
   "execution_count": 5,
   "metadata": {},
   "outputs": [
    {
     "name": "stdout",
     "output_type": "stream",
     "text": [
      "280/31099 values added in unix_coherence_item_v337_utf8.csv\n",
      "17/11709 values added in unix_cr_gd_dp_appellations_v337_utf8.csv\n",
      "9/2001 values added in unix_item_arborescence_v337_utf8.csv\n",
      "159/13515 values added in unix_item_v337_utf8.csv\n",
      "297/42684 values added in unix_liens_rome_referentiels_v337_utf8.csv\n",
      "4/7410 values added in unix_referentiel_activite_riasec_v337_utf8.csv\n",
      "174/9142 values removed in unix_referentiel_activite_v337_utf8.csv\n",
      "17/11053 values added in unix_referentiel_appellation_v337_utf8.csv\n",
      "76/4955 values removed in unix_referentiel_competence_v337_utf8.csv\n",
      "2/5042 values added in unix_texte_v337_utf8.csv\n",
      "11/21 files with the same number of rows\n"
     ]
    }
   ],
   "source": [
    "same_row_count_files = 0\n",
    "for dataset in rome_data:\n",
    "    diff = len(dataset.new.index) - len(dataset.old.index)\n",
    "    if diff > 0:\n",
    "        print('{:d}/{:d} values added in {}'.format(\n",
    "            diff, len(dataset.new.index), dataset.basename))\n",
    "    elif diff < 0:\n",
    "        print('{:d}/{:d} values removed in {}'.format(\n",
    "            -diff, len(dataset.old.index), dataset.basename))\n",
    "    else:\n",
    "        same_row_count_files += 1\n",
    "print('{:d}/{:d} files with the same number of rows'.format(\n",
    "    same_row_count_files, len(rome_data)))"
   ]
  },
  {
   "cell_type": "markdown",
   "metadata": {},
   "source": [
    "There are some minor changes in many files, but based on my knowledge of ROME, none from the main files.\n",
    "\n",
    "The most interesting ones are in referentiel_appellation, item, and liens_rome_referentiels, so let's see more precisely."
   ]
  },
  {
   "cell_type": "code",
   "execution_count": 6,
   "metadata": {},
   "outputs": [
    {
     "data": {
      "image/png": "[encoded data removed]",
      "text/plain": [
       "<Figure size 432x288 with 1 Axes>"
      ]
     },
     "metadata": {
      "image/png": {
       "height": 238,
       "width": 235
      }
     },
     "output_type": "display_data"
    }
   ],
   "source": [
    "jobs = find_rome_dataset_by_name(rome_data, 'referentiel_appellation')\n",
    "\n",
    "new_jobs = set(jobs.new.code_ogr) - set(jobs.old.code_ogr)\n",
    "obsolete_jobs = set(jobs.old.code_ogr) - set(jobs.new.code_ogr)\n",
    "stable_jobs = set(jobs.new.code_ogr) & set(jobs.old.code_ogr)\n",
    "\n",
    "matplotlib_venn.venn2((len(obsolete_jobs), len(new_jobs), len(stable_jobs)), (OLD_VERSION, NEW_VERSION));"
   ]
  },
  {
   "cell_type": "markdown",
   "metadata": {},
   "source": [
    "Alright, so the only change seems to be 17 new jobs added. Let's take a look (only showing interesting fields):"
   ]
  },
  {
   "cell_type": "code",
   "execution_count": 7,
   "metadata": {},
   "outputs": [
    {
     "data": {
      "text/html": [
       "<div>\n",
       "<style scoped>\n",
       "    .dataframe tbody tr th:only-of-type {\n",
       "        vertical-align: middle;\n",
       "    }\n",
       "\n",
       "    .dataframe tbody tr th {\n",
       "        vertical-align: top;\n",
       "    }\n",
       "\n",
       "    .dataframe thead th {\n",
       "        text-align: right;\n",
       "    }\n",
       "</style>\n",
       "<table border=\"1\" class=\"dataframe\">\n",
       "  <thead>\n",
       "    <tr style=\"text-align: right;\">\n",
       "      <th></th>\n",
       "      <th>code_ogr</th>\n",
       "      <th>libelle_appellation_long</th>\n",
       "      <th>code_rome</th>\n",
       "    </tr>\n",
       "  </thead>\n",
       "  <tbody>\n",
       "    <tr>\n",
       "      <th>3903</th>\n",
       "      <td>140943</td>\n",
       "      <td>Motion designer multimédia</td>\n",
       "      <td>E1205</td>\n",
       "    </tr>\n",
       "    <tr>\n",
       "      <th>3904</th>\n",
       "      <td>140944</td>\n",
       "      <td>Chef de chantier génie climatique</td>\n",
       "      <td>F1202</td>\n",
       "    </tr>\n",
       "    <tr>\n",
       "      <th>3905</th>\n",
       "      <td>140945</td>\n",
       "      <td>Facilitateur / Facilitatrice de FabLab - laboratoire de fabrication numérique</td>\n",
       "      <td>G1202</td>\n",
       "    </tr>\n",
       "    <tr>\n",
       "      <th>3906</th>\n",
       "      <td>140946</td>\n",
       "      <td>Technicien / Technicienne ERD en acoustique</td>\n",
       "      <td>H1210</td>\n",
       "    </tr>\n",
       "    <tr>\n",
       "      <th>3907</th>\n",
       "      <td>140947</td>\n",
       "      <td>Technicien / Technicienne en mesures acoustiques et contrôle du bruit</td>\n",
       "      <td>H1503</td>\n",
       "    </tr>\n",
       "    <tr>\n",
       "      <th>3908</th>\n",
       "      <td>140948</td>\n",
       "      <td>Accompagnant éducatif et social / Accompagnante éducative et sociale en structure collective</td>\n",
       "      <td>K1301</td>\n",
       "    </tr>\n",
       "    <tr>\n",
       "      <th>3909</th>\n",
       "      <td>140949</td>\n",
       "      <td>Accompagnant éducatif et social / Accompagnante éducative et sociale à domicile</td>\n",
       "      <td>K1302</td>\n",
       "    </tr>\n",
       "    <tr>\n",
       "      <th>3911</th>\n",
       "      <td>140950</td>\n",
       "      <td>Accompagnant éducatif et social / Accompagnante éducative et sociale en milieu scolaire</td>\n",
       "      <td>K2104</td>\n",
       "    </tr>\n",
       "    <tr>\n",
       "      <th>3912</th>\n",
       "      <td>140951</td>\n",
       "      <td>Motion designer - films d''animation</td>\n",
       "      <td>L1510</td>\n",
       "    </tr>\n",
       "    <tr>\n",
       "      <th>3913</th>\n",
       "      <td>140952</td>\n",
       "      <td>Développeur / Développeuse de logiciel de simulation optique et réalité virtuelle</td>\n",
       "      <td>M1805</td>\n",
       "    </tr>\n",
       "    <tr>\n",
       "      <th>3914</th>\n",
       "      <td>140953</td>\n",
       "      <td>Développeur / Développeuse logiciel de réalité augmentée</td>\n",
       "      <td>M1805</td>\n",
       "    </tr>\n",
       "    <tr>\n",
       "      <th>3915</th>\n",
       "      <td>140954</td>\n",
       "      <td>Chauffeur / Chauffeuse VTC</td>\n",
       "      <td>N4102</td>\n",
       "    </tr>\n",
       "    <tr>\n",
       "      <th>3916</th>\n",
       "      <td>140959</td>\n",
       "      <td>Polyéleveur / Polyéleveuse</td>\n",
       "      <td>A1416</td>\n",
       "    </tr>\n",
       "    <tr>\n",
       "      <th>3918</th>\n",
       "      <td>140960</td>\n",
       "      <td>Batteur / Batteuse de palplanches</td>\n",
       "      <td>F1701</td>\n",
       "    </tr>\n",
       "    <tr>\n",
       "      <th>3919</th>\n",
       "      <td>140961</td>\n",
       "      <td>Agent / Agente de traversée des écoles</td>\n",
       "      <td>K1707</td>\n",
       "    </tr>\n",
       "    <tr>\n",
       "      <th>3920</th>\n",
       "      <td>140962</td>\n",
       "      <td>Responsable développement / Business Developer</td>\n",
       "      <td>M1707</td>\n",
       "    </tr>\n",
       "    <tr>\n",
       "      <th>3921</th>\n",
       "      <td>140963</td>\n",
       "      <td>Annonceur / Annonceuse sentinelle ferroviaire</td>\n",
       "      <td>N4403</td>\n",
       "    </tr>\n",
       "  </tbody>\n",
       "</table>\n",
       "</div>"
      ],
      "text/plain": [
       "      code_ogr  \\\n",
       "3903    140943   \n",
       "3904    140944   \n",
       "3905    140945   \n",
       "3906    140946   \n",
       "3907    140947   \n",
       "3908    140948   \n",
       "3909    140949   \n",
       "3911    140950   \n",
       "3912    140951   \n",
       "3913    140952   \n",
       "3914    140953   \n",
       "3915    140954   \n",
       "3916    140959   \n",
       "3918    140960   \n",
       "3919    140961   \n",
       "3920    140962   \n",
       "3921    140963   \n",
       "\n",
       "                                                                          libelle_appellation_long  \\\n",
       "3903                                                                    Motion designer multimédia   \n",
       "3904                                                             Chef de chantier génie climatique   \n",
       "3905                 Facilitateur / Facilitatrice de FabLab - laboratoire de fabrication numérique   \n",
       "3906                                                   Technicien / Technicienne ERD en acoustique   \n",
       "3907                         Technicien / Technicienne en mesures acoustiques et contrôle du bruit   \n",
       "3908  Accompagnant éducatif et social / Accompagnante éducative et sociale en structure collective   \n",
       "3909               Accompagnant éducatif et social / Accompagnante éducative et sociale à domicile   \n",
       "3911       Accompagnant éducatif et social / Accompagnante éducative et sociale en milieu scolaire   \n",
       "3912                                                          Motion designer - films d''animation   \n",
       "3913             Développeur / Développeuse de logiciel de simulation optique et réalité virtuelle   \n",
       "3914                                      Développeur / Développeuse logiciel de réalité augmentée   \n",
       "3915                                                                    Chauffeur / Chauffeuse VTC   \n",
       "3916                                                                    Polyéleveur / Polyéleveuse   \n",
       "3918                                                             Batteur / Batteuse de palplanches   \n",
       "3919                                                        Agent / Agente de traversée des écoles   \n",
       "3920                                                Responsable développement / Business Developer   \n",
       "3921                                                 Annonceur / Annonceuse sentinelle ferroviaire   \n",
       "\n",
       "     code_rome  \n",
       "3903     E1205  \n",
       "3904     F1202  \n",
       "3905     G1202  \n",
       "3906     H1210  \n",
       "3907     H1503  \n",
       "3908     K1301  \n",
       "3909     K1302  \n",
       "3911     K2104  \n",
       "3912     L1510  \n",
       "3913     M1805  \n",
       "3914     M1805  \n",
       "3915     N4102  \n",
       "3916     A1416  \n",
       "3918     F1701  \n",
       "3919     K1707  \n",
       "3920     M1707  \n",
       "3921     N4403  "
      ]
     },
     "execution_count": 7,
     "metadata": {},
     "output_type": "execute_result"
    }
   ],
   "source": [
    "pd.options.display.max_colwidth = 2000\n",
    "jobs.new[jobs.new.code_ogr.isin(new_jobs)][['code_ogr', 'libelle_appellation_long', 'code_rome']]"
   ]
  },
  {
   "cell_type": "markdown",
   "metadata": {},
   "source": [
    "They mostly seem to be new jobs: Business Developer, VR-related jobs, global climate jobs.\n",
    "\n",
    "OK, let's check at the changes in items:"
   ]
  },
  {
   "cell_type": "code",
   "execution_count": 8,
   "metadata": {},
   "outputs": [
    {
     "data": {
      "image/png": "[encoded data removed]",
      "text/plain": [
       "<Figure size 432x288 with 1 Axes>"
      ]
     },
     "metadata": {
      "image/png": {
       "height": 238,
       "width": 235
      }
     },
     "output_type": "display_data"
    }
   ],
   "source": [
    "items = find_rome_dataset_by_name(rome_data, 'item')\n",
    "\n",
    "new_items = set(items.new.code_ogr) - set(items.old.code_ogr)\n",
    "obsolete_items = set(items.old.code_ogr) - set(items.new.code_ogr)\n",
    "stable_items = set(items.new.code_ogr) & set(items.old.code_ogr)\n",
    "\n",
    "matplotlib_venn.venn2((len(obsolete_items), len(new_items), len(stable_items)), (OLD_VERSION, NEW_VERSION));"
   ]
  },
  {
   "cell_type": "markdown",
   "metadata": {},
   "source": [
    "As anticipated it is a very minor change (hard to see it visually): there are no obsolete items but new ones have been created. Let's have a look at them."
   ]
  },
  {
   "cell_type": "code",
   "execution_count": 9,
   "metadata": {},
   "outputs": [
    {
     "data": {
      "text/html": [
       "<div>\n",
       "<style scoped>\n",
       "    .dataframe tbody tr th:only-of-type {\n",
       "        vertical-align: middle;\n",
       "    }\n",
       "\n",
       "    .dataframe tbody tr th {\n",
       "        vertical-align: top;\n",
       "    }\n",
       "\n",
       "    .dataframe thead th {\n",
       "        text-align: right;\n",
       "    }\n",
       "</style>\n",
       "<table border=\"1\" class=\"dataframe\">\n",
       "  <thead>\n",
       "    <tr style=\"text-align: right;\">\n",
       "      <th></th>\n",
       "      <th>code_ogr</th>\n",
       "      <th>libelle</th>\n",
       "      <th>code_type_referentiel</th>\n",
       "      <th>code_ref_rubrique</th>\n",
       "      <th>code_tete_rgpmt</th>\n",
       "      <th>libelle_activite_impression</th>\n",
       "      <th>libelle_en_tete_regroupement</th>\n",
       "    </tr>\n",
       "  </thead>\n",
       "  <tbody>\n",
       "    <tr>\n",
       "      <th>5934</th>\n",
       "      <td>115802</td>\n",
       "      <td>Mettre en place des outils d''aide à la surveillance, à la sécurité et à l''exploitation des équipements informatiques</td>\n",
       "      <td>2</td>\n",
       "      <td>9</td>\n",
       "      <td>NaN</td>\n",
       "      <td>NaN</td>\n",
       "      <td>NaN</td>\n",
       "    </tr>\n",
       "    <tr>\n",
       "      <th>5935</th>\n",
       "      <td>115817</td>\n",
       "      <td>Contrôler la gestion de la paie</td>\n",
       "      <td>2</td>\n",
       "      <td>9</td>\n",
       "      <td>NaN</td>\n",
       "      <td>NaN</td>\n",
       "      <td>NaN</td>\n",
       "    </tr>\n",
       "    <tr>\n",
       "      <th>5951</th>\n",
       "      <td>115911</td>\n",
       "      <td>Responsabilité Sociétale des Entreprises (RSE)</td>\n",
       "      <td>1</td>\n",
       "      <td>10</td>\n",
       "      <td>NaN</td>\n",
       "      <td>NaN</td>\n",
       "      <td>NaN</td>\n",
       "    </tr>\n",
       "    <tr>\n",
       "      <th>6074</th>\n",
       "      <td>116538</td>\n",
       "      <td>Techniques de réglage de lignes de conditionnement</td>\n",
       "      <td>1</td>\n",
       "      <td>10</td>\n",
       "      <td>NaN</td>\n",
       "      <td>NaN</td>\n",
       "      <td>NaN</td>\n",
       "    </tr>\n",
       "    <tr>\n",
       "      <th>6118</th>\n",
       "      <td>116639</td>\n",
       "      <td>Pharmacologie</td>\n",
       "      <td>1</td>\n",
       "      <td>7</td>\n",
       "      <td>NaN</td>\n",
       "      <td>NaN</td>\n",
       "      <td>NaN</td>\n",
       "    </tr>\n",
       "  </tbody>\n",
       "</table>\n",
       "</div>"
      ],
      "text/plain": [
       "      code_ogr  \\\n",
       "5934    115802   \n",
       "5935    115817   \n",
       "5951    115911   \n",
       "6074    116538   \n",
       "6118    116639   \n",
       "\n",
       "                                                                                                                     libelle  \\\n",
       "5934  Mettre en place des outils d''aide à la surveillance, à la sécurité et à l''exploitation des équipements informatiques   \n",
       "5935                                                                                         Contrôler la gestion de la paie   \n",
       "5951                                                                          Responsabilité Sociétale des Entreprises (RSE)   \n",
       "6074                                                                      Techniques de réglage de lignes de conditionnement   \n",
       "6118                                                                                                           Pharmacologie   \n",
       "\n",
       "      code_type_referentiel  code_ref_rubrique  code_tete_rgpmt  \\\n",
       "5934                      2                  9              NaN   \n",
       "5935                      2                  9              NaN   \n",
       "5951                      1                 10              NaN   \n",
       "6074                      1                 10              NaN   \n",
       "6118                      1                  7              NaN   \n",
       "\n",
       "      libelle_activite_impression  libelle_en_tete_regroupement  \n",
       "5934                          NaN                           NaN  \n",
       "5935                          NaN                           NaN  \n",
       "5951                          NaN                           NaN  \n",
       "6074                          NaN                           NaN  \n",
       "6118                          NaN                           NaN  "
      ]
     },
     "execution_count": 9,
     "metadata": {},
     "output_type": "execute_result"
    }
   ],
   "source": [
    "items.new[items.new.code_ogr.isin(new_items)].head()"
   ]
  },
  {
   "cell_type": "markdown",
   "metadata": {},
   "source": [
    "The new ones seem legit to me.\n",
    "\n",
    "The changes in `liens_rome_referentiels` include changes for those items, so let's only check the changes not related to those."
   ]
  },
  {
   "cell_type": "code",
   "execution_count": 10,
   "metadata": {},
   "outputs": [
    {
     "data": {
      "text/plain": [
       "added      33\n",
       "removed     2\n",
       "Name: _diff, dtype: int64"
      ]
     },
     "execution_count": 10,
     "metadata": {},
     "output_type": "execute_result"
    }
   ],
   "source": [
    "links = find_rome_dataset_by_name(rome_data, 'liens_rome_referentiels')\n",
    "old_links_on_stable_items = links.old[links.old.code_ogr.isin(stable_items)]\n",
    "new_links_on_stable_items = links.new[links.new.code_ogr.isin(stable_items)]\n",
    "\n",
    "old = old_links_on_stable_items[['code_rome', 'code_ogr']]\n",
    "new = new_links_on_stable_items[['code_rome', 'code_ogr']]\n",
    "\n",
    "links_merged = old.merge(new, how='outer', indicator=True)\n",
    "links_merged['_diff'] = links_merged._merge.map({'left_only': 'removed', 'right_only': 'added'})\n",
    "links_merged._diff.value_counts()"
   ]
  },
  {
   "cell_type": "markdown",
   "metadata": {},
   "source": [
    "So in addition to the added and removed items, there are few fixes. Let's have a look at them:"
   ]
  },
  {
   "cell_type": "code",
   "execution_count": 11,
   "metadata": {},
   "outputs": [
    {
     "data": {
      "text/html": [
       "<div>\n",
       "<style scoped>\n",
       "    .dataframe tbody tr th:only-of-type {\n",
       "        vertical-align: middle;\n",
       "    }\n",
       "\n",
       "    .dataframe tbody tr th {\n",
       "        vertical-align: top;\n",
       "    }\n",
       "\n",
       "    .dataframe thead th {\n",
       "        text-align: right;\n",
       "    }\n",
       "</style>\n",
       "<table border=\"1\" class=\"dataframe\">\n",
       "  <thead>\n",
       "    <tr style=\"text-align: right;\">\n",
       "      <th></th>\n",
       "      <th>code_rome</th>\n",
       "      <th>code_ogr</th>\n",
       "      <th>_merge</th>\n",
       "      <th>_diff</th>\n",
       "      <th>job_group_name</th>\n",
       "      <th>item_name</th>\n",
       "    </tr>\n",
       "  </thead>\n",
       "  <tbody>\n",
       "    <tr>\n",
       "      <th>15701</th>\n",
       "      <td>J1502</td>\n",
       "      <td>118117</td>\n",
       "      <td>left_only</td>\n",
       "      <td>removed</td>\n",
       "      <td>Coordination de services médicaux ou paramédicaux</td>\n",
       "      <td>Produits de puériculture</td>\n",
       "    </tr>\n",
       "    <tr>\n",
       "      <th>29277</th>\n",
       "      <td>A1503</td>\n",
       "      <td>122370</td>\n",
       "      <td>left_only</td>\n",
       "      <td>removed</td>\n",
       "      <td>Toilettage des animaux</td>\n",
       "      <td>Réaliser une Publicité sur le Lieu de Vente (PLV)</td>\n",
       "    </tr>\n",
       "  </tbody>\n",
       "</table>\n",
       "</div>"
      ],
      "text/plain": [
       "      code_rome  code_ogr     _merge    _diff  \\\n",
       "15701     J1502    118117  left_only  removed   \n",
       "29277     A1503    122370  left_only  removed   \n",
       "\n",
       "                                          job_group_name  \\\n",
       "15701  Coordination de services médicaux ou paramédicaux   \n",
       "29277                             Toilettage des animaux   \n",
       "\n",
       "                                               item_name  \n",
       "15701                           Produits de puériculture  \n",
       "29277  Réaliser une Publicité sur le Lieu de Vente (PLV)  "
      ]
     },
     "metadata": {},
     "output_type": "display_data"
    },
    {
     "data": {
      "text/html": [
       "<div>\n",
       "<style scoped>\n",
       "    .dataframe tbody tr th:only-of-type {\n",
       "        vertical-align: middle;\n",
       "    }\n",
       "\n",
       "    .dataframe tbody tr th {\n",
       "        vertical-align: top;\n",
       "    }\n",
       "\n",
       "    .dataframe thead th {\n",
       "        text-align: right;\n",
       "    }\n",
       "</style>\n",
       "<table border=\"1\" class=\"dataframe\">\n",
       "  <thead>\n",
       "    <tr style=\"text-align: right;\">\n",
       "      <th></th>\n",
       "      <th>code_rome</th>\n",
       "      <th>code_ogr</th>\n",
       "      <th>_merge</th>\n",
       "      <th>_diff</th>\n",
       "      <th>job_group_name</th>\n",
       "      <th>item_name</th>\n",
       "    </tr>\n",
       "  </thead>\n",
       "  <tbody>\n",
       "    <tr>\n",
       "      <th>30819</th>\n",
       "      <td>D1205</td>\n",
       "      <td>101175</td>\n",
       "      <td>right_only</td>\n",
       "      <td>added</td>\n",
       "      <td>Nettoyage d''articles textiles ou cuirs</td>\n",
       "      <td>Techniques de repassage</td>\n",
       "    </tr>\n",
       "    <tr>\n",
       "      <th>30820</th>\n",
       "      <td>A1203</td>\n",
       "      <td>101869</td>\n",
       "      <td>right_only</td>\n",
       "      <td>added</td>\n",
       "      <td>Aménagement et entretien des espaces verts</td>\n",
       "      <td>Réglementation phytosanitaire</td>\n",
       "    </tr>\n",
       "    <tr>\n",
       "      <th>30821</th>\n",
       "      <td>G1101</td>\n",
       "      <td>104283</td>\n",
       "      <td>right_only</td>\n",
       "      <td>added</td>\n",
       "      <td>Accueil touristique</td>\n",
       "      <td>Environnement culturel et touristique</td>\n",
       "    </tr>\n",
       "    <tr>\n",
       "      <th>30822</th>\n",
       "      <td>G1102</td>\n",
       "      <td>104283</td>\n",
       "      <td>right_only</td>\n",
       "      <td>added</td>\n",
       "      <td>Promotion du tourisme local</td>\n",
       "      <td>Environnement culturel et touristique</td>\n",
       "    </tr>\n",
       "    <tr>\n",
       "      <th>30823</th>\n",
       "      <td>G1201</td>\n",
       "      <td>104283</td>\n",
       "      <td>right_only</td>\n",
       "      <td>added</td>\n",
       "      <td>Accompagnement de voyages, d''activités culturelles ou sportives</td>\n",
       "      <td>Environnement culturel et touristique</td>\n",
       "    </tr>\n",
       "  </tbody>\n",
       "</table>\n",
       "</div>"
      ],
      "text/plain": [
       "      code_rome  code_ogr      _merge  _diff  \\\n",
       "30819     D1205    101175  right_only  added   \n",
       "30820     A1203    101869  right_only  added   \n",
       "30821     G1101    104283  right_only  added   \n",
       "30822     G1102    104283  right_only  added   \n",
       "30823     G1201    104283  right_only  added   \n",
       "\n",
       "                                                         job_group_name  \\\n",
       "30819                           Nettoyage d''articles textiles ou cuirs   \n",
       "30820                        Aménagement et entretien des espaces verts   \n",
       "30821                                               Accueil touristique   \n",
       "30822                                       Promotion du tourisme local   \n",
       "30823  Accompagnement de voyages, d''activités culturelles ou sportives   \n",
       "\n",
       "                                   item_name  \n",
       "30819                Techniques de repassage  \n",
       "30820          Réglementation phytosanitaire  \n",
       "30821  Environnement culturel et touristique  \n",
       "30822  Environnement culturel et touristique  \n",
       "30823  Environnement culturel et touristique  "
      ]
     },
     "execution_count": 11,
     "metadata": {},
     "output_type": "execute_result"
    }
   ],
   "source": [
    "job_group_names = find_rome_dataset_by_name(rome_data, 'referentiel_code_rome').new.set_index('code_rome').libelle_rome\n",
    "item_names = items.new.set_index('code_ogr').libelle.drop_duplicates()\n",
    "links_merged['job_group_name'] = links_merged.code_rome.map(job_group_names)\n",
    "links_merged['item_name'] = links_merged.code_ogr.map(item_names)\n",
    "display(links_merged[links_merged._diff == 'removed'].dropna().head(5))\n",
    "links_merged[links_merged._diff == 'added'].dropna().head(5)\n"
   ]
  },
  {
   "cell_type": "markdown",
   "metadata": {},
   "source": [
    "Those fixes make sense (not sure why they were not done before, but let's not complain: it is fixed now).\n",
    "\n",
    "That's all the changes we wanted to check (no change in `referentiel_code_rome`)."
   ]
  },
  {
   "cell_type": "markdown",
   "metadata": {},
   "source": [
    "# Conclusion\n",
    "\n",
    "The new version of ROME, v337, introduces very minor changes which reflect quite well what they wrote in their [changelog](http://www.pole-emploi.org/files/live/sites/peorg/files/documents/Statistiques-et-analyses/Open-data/ROME/ROME_AppropriationThematique.pdf). The transition should be transparent with a very small advantage over the old version."
   ]
  }
 ],
 "metadata": {
  "kernelspec": {
   "display_name": "Python 3",
   "language": "python",
   "name": "python3"
  },
  "language_info": {
   "codemirror_mode": {
    "name": "ipython",
    "version": 3
   },
   "file_extension": ".py",
   "mimetype": "text/x-python",
   "name": "python",
   "nbconvert_exporter": "python",
   "pygments_lexer": "ipython3",
   "version": "3.6.6"
  }
 },
 "nbformat": 4,
 "nbformat_minor": 1
}
