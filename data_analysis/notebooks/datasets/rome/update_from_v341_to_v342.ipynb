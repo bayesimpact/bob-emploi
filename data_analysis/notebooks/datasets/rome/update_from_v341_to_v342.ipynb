{
 "cells": [
  {
   "cell_type": "markdown",
   "metadata": {},
   "source": [
    "Author: Pascal, pascal@bayesimpact.org\n",
    "\n",
    "Date: 2019-12-18\n",
    "\n",
    "# ROME update from v341 to v342\n",
    "\n",
    "In December 2019 a new version of the ROME was released. I want to investigate what changed and whether we need to do anything about it.\n",
    "\n",
    "You might not be able to reproduce this notebook, mostly because it requires to have the two versions of the ROME in your `data/rome/csv` folder which happens only just before we switch to v341. You will have to trust me on the results ;-)\n",
    "\n",
    "Skip the run test because it requires older versions of the ROME."
   ]
  },
  {
   "cell_type": "code",
   "execution_count": 1,
   "metadata": {},
   "outputs": [],
   "source": [
    "import collections\n",
    "import glob\n",
    "import os\n",
    "from os import path\n",
    "\n",
    "import matplotlib_venn\n",
    "import pandas as pd\n",
    "\n",
    "rome_path = path.join(os.getenv('DATA_FOLDER'), 'rome/csv')\n",
    "\n",
    "OLD_VERSION = '341'\n",
    "NEW_VERSION = '342'\n",
    "\n",
    "old_version_files = frozenset(glob.glob(rome_path + '/*{}*'.format(OLD_VERSION)))\n",
    "new_version_files = frozenset(glob.glob(rome_path + '/*{}*'.format(NEW_VERSION)))"
   ]
  },
  {
   "cell_type": "markdown",
   "metadata": {},
   "source": [
    "First let's check if there are new or deleted files (only matching by file names)."
   ]
  },
  {
   "cell_type": "code",
   "execution_count": 2,
   "metadata": {},
   "outputs": [
    {
     "name": "stdout",
     "output_type": "stream",
     "text": [
      "0 new files\n",
      "0 deleted files\n"
     ]
    }
   ],
   "source": [
    "new_files = new_version_files - frozenset(f.replace(OLD_VERSION, NEW_VERSION) for f in old_version_files)\n",
    "deleted_files = old_version_files - frozenset(f.replace(NEW_VERSION, OLD_VERSION) for f in new_version_files)\n",
    "\n",
    "print('{:d} new files'.format(len(new_files)))\n",
    "print('{:d} deleted files'.format(len(deleted_files)))"
   ]
  },
  {
   "cell_type": "markdown",
   "metadata": {},
   "source": [
    "Cool, no new nor deleted files.\n",
    "\n",
    "Now let's set up a dataset that, for each table, links both the old and the new file together."
   ]
  },
  {
   "cell_type": "code",
   "execution_count": 3,
   "metadata": {},
   "outputs": [],
   "source": [
    "# Load all ROME datasets for the two versions we compare.\n",
    "VersionedDataset = collections.namedtuple('VersionedDataset', ['basename', 'old', 'new'])\n",
    "def read_csv(filename):\n",
    "    try:\n",
    "        return pd.read_csv(filename)\n",
    "    except pd.errors.ParserError:\n",
    "        display(f'While parsing: {filename}')\n",
    "        raise\n",
    "\n",
    "rome_data = [VersionedDataset(\n",
    "        basename=path.basename(f),\n",
    "        old=read_csv(f.replace(NEW_VERSION, OLD_VERSION)),\n",
    "        new=read_csv(f))\n",
    "    for f in sorted(new_version_files)]\n",
    "\n",
    "def find_rome_dataset_by_name(data, partial_name):\n",
    "    for dataset in data:\n",
    "        if 'unix_{}_v{}_utf8.csv'.format(partial_name, NEW_VERSION) == dataset.basename:\n",
    "            return dataset\n",
    "    raise ValueError('No dataset named {}, the list is\\n{}'.format(partial_name, [d.basename for d in data]))"
   ]
  },
  {
   "cell_type": "markdown",
   "metadata": {},
   "source": [
    "Let's make sure the structure hasn't changed:"
   ]
  },
  {
   "cell_type": "code",
   "execution_count": 4,
   "metadata": {},
   "outputs": [
    {
     "name": "stdout",
     "output_type": "stream",
     "text": [
      "Columns of unix_referentiel_appellation_v342_utf8.csv have changed.\n"
     ]
    }
   ],
   "source": [
    "for dataset in rome_data:\n",
    "    if set(dataset.old.columns) != set(dataset.new.columns):\n",
    "        print('Columns of {} have changed.'.format(dataset.basename))"
   ]
  },
  {
   "cell_type": "markdown",
   "metadata": {},
   "source": [
    "OK, let's check what's new in there:"
   ]
  },
  {
   "cell_type": "code",
   "execution_count": 5,
   "metadata": {},
   "outputs": [
    {
     "name": "stdout",
     "output_type": "stream",
     "text": [
      "New columns: {'lib_type_section_appellation'}\n",
      "Old columns: {'libelle_type_section_appellation'}\n"
     ]
    }
   ],
   "source": [
    "jobs = find_rome_dataset_by_name(rome_data, 'referentiel_appellation')\n",
    "print(f'New columns: {set(jobs.old.columns) - set(jobs.new.columns)}')\n",
    "print(f'Old columns: {set(jobs.new.columns) - set(jobs.old.columns)}')"
   ]
  },
  {
   "cell_type": "markdown",
   "metadata": {},
   "source": [
    "Ouch, it seems they have decided to rename one column, however the opposite change was done when going to v341, so they're just reverting back. Lucky us we never used it.\n",
    "\n",
    "Now let's see for each file if there are more or less rows."
   ]
  },
  {
   "cell_type": "code",
   "execution_count": 6,
   "metadata": {},
   "outputs": [
    {
     "name": "stdout",
     "output_type": "stream",
     "text": [
      "756/32179 values added in unix_coherence_item_v342_utf8.csv\n",
      "9/11727 values added in unix_cr_gd_dp_appellations_v342_utf8.csv\n",
      "62/13631 values added in unix_item_v342_utf8.csv\n",
      "765/43782 values added in unix_liens_rome_referentiels_v342_utf8.csv\n",
      "4/8975 values added in unix_referentiel_activite_riasec_v342_utf8.csv\n",
      "4/8975 values added in unix_referentiel_activite_v342_utf8.csv\n",
      "9/11071 values added in unix_referentiel_appellation_v342_utf8.csv\n",
      "43/4923 values added in unix_referentiel_competence_v342_utf8.csv\n",
      "2/766 values added in unix_referentiel_env_travail_v342_utf8.csv\n",
      "2/5045 values added in unix_texte_v342_utf8.csv\n",
      "10/20 files with the same number of rows\n"
     ]
    }
   ],
   "source": [
    "same_row_count_files = 0\n",
    "for dataset in rome_data:\n",
    "    diff = len(dataset.new.index) - len(dataset.old.index)\n",
    "    if diff > 0:\n",
    "        print('{:d}/{:d} values added in {}'.format(\n",
    "            diff, len(dataset.new.index), dataset.basename))\n",
    "    elif diff < 0:\n",
    "        print('{:d}/{:d} values removed in {}'.format(\n",
    "            -diff, len(dataset.old.index), dataset.basename))\n",
    "    else:\n",
    "        same_row_count_files += 1\n",
    "print('{:d}/{:d} files with the same number of rows'.format(\n",
    "    same_row_count_files, len(rome_data)))"
   ]
  },
  {
   "cell_type": "markdown",
   "metadata": {},
   "source": [
    "There are some minor changes in many files, but based on my knowledge of ROME, none from the main files.\n",
    "\n",
    "The most interesting ones are in referentiel_appellation, item, and liens_rome_referentiels, so let's see more precisely."
   ]
  },
  {
   "cell_type": "code",
   "execution_count": 7,
   "metadata": {},
   "outputs": [
    {
     "data": {
      "image/png": "[encoded data removed]",
      "text/plain": [
       "<Figure size 432x288 with 1 Axes>"
      ]
     },
     "metadata": {
      "image/png": {
       "height": 238,
       "width": 235
      }
     },
     "output_type": "display_data"
    }
   ],
   "source": [
    "jobs = find_rome_dataset_by_name(rome_data, 'referentiel_appellation')\n",
    "\n",
    "new_jobs = set(jobs.new.code_ogr) - set(jobs.old.code_ogr)\n",
    "obsolete_jobs = set(jobs.old.code_ogr) - set(jobs.new.code_ogr)\n",
    "stable_jobs = set(jobs.new.code_ogr) & set(jobs.old.code_ogr)\n",
    "\n",
    "matplotlib_venn.venn2((len(obsolete_jobs), len(new_jobs), len(stable_jobs)), (OLD_VERSION, NEW_VERSION));"
   ]
  },
  {
   "cell_type": "markdown",
   "metadata": {},
   "source": [
    "Alright, so the only change seems to be 9 new jobs added. Let's take a look (only showing interesting fields):"
   ]
  },
  {
   "cell_type": "code",
   "execution_count": 8,
   "metadata": {},
   "outputs": [
    {
     "data": {
      "text/html": [
       "<div>\n",
       "<style scoped>\n",
       "    .dataframe tbody tr th:only-of-type {\n",
       "        vertical-align: middle;\n",
       "    }\n",
       "\n",
       "    .dataframe tbody tr th {\n",
       "        vertical-align: top;\n",
       "    }\n",
       "\n",
       "    .dataframe thead th {\n",
       "        text-align: right;\n",
       "    }\n",
       "</style>\n",
       "<table border=\"1\" class=\"dataframe\">\n",
       "  <thead>\n",
       "    <tr style=\"text-align: right;\">\n",
       "      <th></th>\n",
       "      <th>code_ogr</th>\n",
       "      <th>libelle_appellation_long</th>\n",
       "      <th>code_rome</th>\n",
       "    </tr>\n",
       "  </thead>\n",
       "  <tbody>\n",
       "    <tr>\n",
       "      <th>11062</th>\n",
       "      <td>200020</td>\n",
       "      <td>Assistant / Assistante de régulation médicale</td>\n",
       "      <td>D1408</td>\n",
       "    </tr>\n",
       "    <tr>\n",
       "      <th>11063</th>\n",
       "      <td>200021</td>\n",
       "      <td>Chargé / Chargée d'affaires réglementaires en industrie de santé</td>\n",
       "      <td>H1502</td>\n",
       "    </tr>\n",
       "    <tr>\n",
       "      <th>11064</th>\n",
       "      <td>200022</td>\n",
       "      <td>Chargé / Chargée de matériovigilance</td>\n",
       "      <td>H1502</td>\n",
       "    </tr>\n",
       "    <tr>\n",
       "      <th>11065</th>\n",
       "      <td>200023</td>\n",
       "      <td>Infirmier / Infirmière en Pratique Avancée</td>\n",
       "      <td>J1506</td>\n",
       "    </tr>\n",
       "    <tr>\n",
       "      <th>11066</th>\n",
       "      <td>200024</td>\n",
       "      <td>Graphothérapeute</td>\n",
       "      <td>K1104</td>\n",
       "    </tr>\n",
       "    <tr>\n",
       "      <th>11067</th>\n",
       "      <td>200025</td>\n",
       "      <td>Directeur / Directrice de l'environnement de travail</td>\n",
       "      <td>M1205</td>\n",
       "    </tr>\n",
       "    <tr>\n",
       "      <th>11068</th>\n",
       "      <td>200026</td>\n",
       "      <td>Assistant/ Assistante de l'environnement de travail</td>\n",
       "      <td>M1605</td>\n",
       "    </tr>\n",
       "    <tr>\n",
       "      <th>11069</th>\n",
       "      <td>200027</td>\n",
       "      <td>Scrum Master</td>\n",
       "      <td>M1805</td>\n",
       "    </tr>\n",
       "    <tr>\n",
       "      <th>11070</th>\n",
       "      <td>200028</td>\n",
       "      <td>Product Owner</td>\n",
       "      <td>M1806</td>\n",
       "    </tr>\n",
       "  </tbody>\n",
       "</table>\n",
       "</div>"
      ],
      "text/plain": [
       "       code_ogr  \\\n",
       "11062    200020   \n",
       "11063    200021   \n",
       "11064    200022   \n",
       "11065    200023   \n",
       "11066    200024   \n",
       "11067    200025   \n",
       "11068    200026   \n",
       "11069    200027   \n",
       "11070    200028   \n",
       "\n",
       "                                               libelle_appellation_long  \\\n",
       "11062                     Assistant / Assistante de régulation médicale   \n",
       "11063  Chargé / Chargée d'affaires réglementaires en industrie de santé   \n",
       "11064                              Chargé / Chargée de matériovigilance   \n",
       "11065                        Infirmier / Infirmière en Pratique Avancée   \n",
       "11066                                                  Graphothérapeute   \n",
       "11067              Directeur / Directrice de l'environnement de travail   \n",
       "11068               Assistant/ Assistante de l'environnement de travail   \n",
       "11069                                                      Scrum Master   \n",
       "11070                                                     Product Owner   \n",
       "\n",
       "      code_rome  \n",
       "11062     D1408  \n",
       "11063     H1502  \n",
       "11064     H1502  \n",
       "11065     J1506  \n",
       "11066     K1104  \n",
       "11067     M1205  \n",
       "11068     M1605  \n",
       "11069     M1805  \n",
       "11070     M1806  "
      ]
     },
     "execution_count": 8,
     "metadata": {},
     "output_type": "execute_result"
    }
   ],
   "source": [
    "pd.options.display.max_colwidth = 2000\n",
    "jobs.new[jobs.new.code_ogr.isin(new_jobs)][['code_ogr', 'libelle_appellation_long', 'code_rome']]"
   ]
  },
  {
   "cell_type": "markdown",
   "metadata": {},
   "source": [
    "Those are indeed new jobs. Some are related to Agile sneaking in.\n",
    "\n",
    "OK, let's check at the changes in items:"
   ]
  },
  {
   "cell_type": "code",
   "execution_count": 9,
   "metadata": {},
   "outputs": [
    {
     "data": {
      "image/png": "[encoded data removed]",
      "text/plain": [
       "<Figure size 432x288 with 1 Axes>"
      ]
     },
     "metadata": {
      "image/png": {
       "height": 238,
       "width": 235
      }
     },
     "output_type": "display_data"
    }
   ],
   "source": [
    "items = find_rome_dataset_by_name(rome_data, 'item')\n",
    "\n",
    "new_items = set(items.new.code_ogr) - set(items.old.code_ogr)\n",
    "obsolete_items = set(items.old.code_ogr) - set(items.new.code_ogr)\n",
    "stable_items = set(items.new.code_ogr) & set(items.old.code_ogr)\n",
    "\n",
    "matplotlib_venn.venn2((len(obsolete_items), len(new_items), len(stable_items)), (OLD_VERSION, NEW_VERSION));"
   ]
  },
  {
   "cell_type": "markdown",
   "metadata": {},
   "source": [
    "As anticipated it is a very minor change (hard to see it visually): 59 new ones have been created. Let's have a look at them."
   ]
  },
  {
   "cell_type": "code",
   "execution_count": 10,
   "metadata": {},
   "outputs": [
    {
     "data": {
      "text/html": [
       "<div>\n",
       "<style scoped>\n",
       "    .dataframe tbody tr th:only-of-type {\n",
       "        vertical-align: middle;\n",
       "    }\n",
       "\n",
       "    .dataframe tbody tr th {\n",
       "        vertical-align: top;\n",
       "    }\n",
       "\n",
       "    .dataframe thead th {\n",
       "        text-align: right;\n",
       "    }\n",
       "</style>\n",
       "<table border=\"1\" class=\"dataframe\">\n",
       "  <thead>\n",
       "    <tr style=\"text-align: right;\">\n",
       "      <th></th>\n",
       "      <th>code_ogr</th>\n",
       "      <th>libelle</th>\n",
       "      <th>code_type_referentiel</th>\n",
       "      <th>code_ref_rubrique</th>\n",
       "      <th>code_tete_rgpmt</th>\n",
       "      <th>libelle_activite_impression</th>\n",
       "      <th>libelle_en_tete_regroupement</th>\n",
       "    </tr>\n",
       "  </thead>\n",
       "  <tbody>\n",
       "    <tr>\n",
       "      <th>5151</th>\n",
       "      <td>113277</td>\n",
       "      <td>Méthode AGILE</td>\n",
       "      <td>1</td>\n",
       "      <td>7</td>\n",
       "      <td>NaN</td>\n",
       "      <td>NaN</td>\n",
       "      <td>NaN</td>\n",
       "    </tr>\n",
       "    <tr>\n",
       "      <th>5961</th>\n",
       "      <td>115851</td>\n",
       "      <td>Réglementation thermique</td>\n",
       "      <td>1</td>\n",
       "      <td>7</td>\n",
       "      <td>NaN</td>\n",
       "      <td>NaN</td>\n",
       "      <td>NaN</td>\n",
       "    </tr>\n",
       "    <tr>\n",
       "      <th>5967</th>\n",
       "      <td>115869</td>\n",
       "      <td>Système KANBAN</td>\n",
       "      <td>1</td>\n",
       "      <td>10</td>\n",
       "      <td>NaN</td>\n",
       "      <td>NaN</td>\n",
       "      <td>NaN</td>\n",
       "    </tr>\n",
       "    <tr>\n",
       "      <th>7040</th>\n",
       "      <td>118748</td>\n",
       "      <td>Méthodologie Scrum</td>\n",
       "      <td>1</td>\n",
       "      <td>10</td>\n",
       "      <td>NaN</td>\n",
       "      <td>NaN</td>\n",
       "      <td>NaN</td>\n",
       "    </tr>\n",
       "    <tr>\n",
       "      <th>7175</th>\n",
       "      <td>119013</td>\n",
       "      <td>Réaliser la gestion administrative et financière d'un chantier</td>\n",
       "      <td>2</td>\n",
       "      <td>6</td>\n",
       "      <td>NaN</td>\n",
       "      <td>NaN</td>\n",
       "      <td>NaN</td>\n",
       "    </tr>\n",
       "  </tbody>\n",
       "</table>\n",
       "</div>"
      ],
      "text/plain": [
       "      code_ogr  \\\n",
       "5151    113277   \n",
       "5961    115851   \n",
       "5967    115869   \n",
       "7040    118748   \n",
       "7175    119013   \n",
       "\n",
       "                                                             libelle  \\\n",
       "5151                                                   Méthode AGILE   \n",
       "5961                                        Réglementation thermique   \n",
       "5967                                                  Système KANBAN   \n",
       "7040                                              Méthodologie Scrum   \n",
       "7175  Réaliser la gestion administrative et financière d'un chantier   \n",
       "\n",
       "      code_type_referentiel  code_ref_rubrique  code_tete_rgpmt  \\\n",
       "5151                      1                  7              NaN   \n",
       "5961                      1                  7              NaN   \n",
       "5967                      1                 10              NaN   \n",
       "7040                      1                 10              NaN   \n",
       "7175                      2                  6              NaN   \n",
       "\n",
       "      libelle_activite_impression  libelle_en_tete_regroupement  \n",
       "5151                          NaN                           NaN  \n",
       "5961                          NaN                           NaN  \n",
       "5967                          NaN                           NaN  \n",
       "7040                          NaN                           NaN  \n",
       "7175                          NaN                           NaN  "
      ]
     },
     "execution_count": 10,
     "metadata": {},
     "output_type": "execute_result"
    }
   ],
   "source": [
    "items.new[items.new.code_ogr.isin(new_items)].head()"
   ]
  },
  {
   "cell_type": "markdown",
   "metadata": {},
   "source": [
    "The new ones seem legit to me and related to the new jobs.\n",
    "\n",
    "The changes in `liens_rome_referentiels` include changes for those items, so let's only check the changes not related to those."
   ]
  },
  {
   "cell_type": "code",
   "execution_count": 11,
   "metadata": {},
   "outputs": [
    {
     "data": {
      "text/plain": [
       "added      47\n",
       "removed    28\n",
       "Name: _diff, dtype: int64"
      ]
     },
     "execution_count": 11,
     "metadata": {},
     "output_type": "execute_result"
    }
   ],
   "source": [
    "links = find_rome_dataset_by_name(rome_data, 'liens_rome_referentiels')\n",
    "old_links_on_stable_items = links.old[links.old.code_ogr.isin(stable_items)]\n",
    "new_links_on_stable_items = links.new[links.new.code_ogr.isin(stable_items)]\n",
    "\n",
    "old = old_links_on_stable_items[['code_rome', 'code_ogr']]\n",
    "new = new_links_on_stable_items[['code_rome', 'code_ogr']]\n",
    "\n",
    "links_merged = old.merge(new, how='outer', indicator=True)\n",
    "links_merged['_diff'] = links_merged._merge.map({'left_only': 'removed', 'right_only': 'added'})\n",
    "links_merged._diff.value_counts()"
   ]
  },
  {
   "cell_type": "markdown",
   "metadata": {},
   "source": [
    "So in addition to the added items, there are few fixes. Let's have a look at them:"
   ]
  },
  {
   "cell_type": "code",
   "execution_count": 12,
   "metadata": {},
   "outputs": [
    {
     "data": {
      "text/html": [
       "<div>\n",
       "<style scoped>\n",
       "    .dataframe tbody tr th:only-of-type {\n",
       "        vertical-align: middle;\n",
       "    }\n",
       "\n",
       "    .dataframe tbody tr th {\n",
       "        vertical-align: top;\n",
       "    }\n",
       "\n",
       "    .dataframe thead th {\n",
       "        text-align: right;\n",
       "    }\n",
       "</style>\n",
       "<table border=\"1\" class=\"dataframe\">\n",
       "  <thead>\n",
       "    <tr style=\"text-align: right;\">\n",
       "      <th></th>\n",
       "      <th>code_rome</th>\n",
       "      <th>code_ogr</th>\n",
       "      <th>_merge</th>\n",
       "      <th>_diff</th>\n",
       "      <th>job_group_name</th>\n",
       "      <th>item_name</th>\n",
       "    </tr>\n",
       "  </thead>\n",
       "  <tbody>\n",
       "    <tr>\n",
       "      <th>24509</th>\n",
       "      <td>K2110</td>\n",
       "      <td>120406</td>\n",
       "      <td>left_only</td>\n",
       "      <td>removed</td>\n",
       "      <td>Formation en conduite de véhicules</td>\n",
       "      <td>Engins de chantier (CACES R 372)</td>\n",
       "    </tr>\n",
       "    <tr>\n",
       "      <th>24510</th>\n",
       "      <td>K2110</td>\n",
       "      <td>120407</td>\n",
       "      <td>left_only</td>\n",
       "      <td>removed</td>\n",
       "      <td>Formation en conduite de véhicules</td>\n",
       "      <td>Chariots automoteurs de manutention à conducteur porté (CACES R 389)</td>\n",
       "    </tr>\n",
       "    <tr>\n",
       "      <th>24511</th>\n",
       "      <td>K2110</td>\n",
       "      <td>120408</td>\n",
       "      <td>left_only</td>\n",
       "      <td>removed</td>\n",
       "      <td>Formation en conduite de véhicules</td>\n",
       "      <td>Grues auxiliaires de chargement de véhicules (CACES R 390)</td>\n",
       "    </tr>\n",
       "    <tr>\n",
       "      <th>24518</th>\n",
       "      <td>K2110</td>\n",
       "      <td>121308</td>\n",
       "      <td>left_only</td>\n",
       "      <td>removed</td>\n",
       "      <td>Formation en conduite de véhicules</td>\n",
       "      <td>Ponts roulants (CACES R 318)</td>\n",
       "    </tr>\n",
       "    <tr>\n",
       "      <th>24519</th>\n",
       "      <td>K2110</td>\n",
       "      <td>121310</td>\n",
       "      <td>left_only</td>\n",
       "      <td>removed</td>\n",
       "      <td>Formation en conduite de véhicules</td>\n",
       "      <td>Grues mobiles (CACES R 383)</td>\n",
       "    </tr>\n",
       "  </tbody>\n",
       "</table>\n",
       "</div>"
      ],
      "text/plain": [
       "      code_rome  code_ogr     _merge    _diff  \\\n",
       "24509     K2110    120406  left_only  removed   \n",
       "24510     K2110    120407  left_only  removed   \n",
       "24511     K2110    120408  left_only  removed   \n",
       "24518     K2110    121308  left_only  removed   \n",
       "24519     K2110    121310  left_only  removed   \n",
       "\n",
       "                           job_group_name  \\\n",
       "24509  Formation en conduite de véhicules   \n",
       "24510  Formation en conduite de véhicules   \n",
       "24511  Formation en conduite de véhicules   \n",
       "24518  Formation en conduite de véhicules   \n",
       "24519  Formation en conduite de véhicules   \n",
       "\n",
       "                                                                  item_name  \n",
       "24509                                      Engins de chantier (CACES R 372)  \n",
       "24510  Chariots automoteurs de manutention à conducteur porté (CACES R 389)  \n",
       "24511            Grues auxiliaires de chargement de véhicules (CACES R 390)  \n",
       "24518                                          Ponts roulants (CACES R 318)  \n",
       "24519                                           Grues mobiles (CACES R 383)  "
      ]
     },
     "metadata": {},
     "output_type": "display_data"
    },
    {
     "data": {
      "text/html": [
       "<div>\n",
       "<style scoped>\n",
       "    .dataframe tbody tr th:only-of-type {\n",
       "        vertical-align: middle;\n",
       "    }\n",
       "\n",
       "    .dataframe tbody tr th {\n",
       "        vertical-align: top;\n",
       "    }\n",
       "\n",
       "    .dataframe thead th {\n",
       "        text-align: right;\n",
       "    }\n",
       "</style>\n",
       "<table border=\"1\" class=\"dataframe\">\n",
       "  <thead>\n",
       "    <tr style=\"text-align: right;\">\n",
       "      <th></th>\n",
       "      <th>code_rome</th>\n",
       "      <th>code_ogr</th>\n",
       "      <th>_merge</th>\n",
       "      <th>_diff</th>\n",
       "      <th>job_group_name</th>\n",
       "      <th>item_name</th>\n",
       "    </tr>\n",
       "  </thead>\n",
       "  <tbody>\n",
       "    <tr>\n",
       "      <th>31422</th>\n",
       "      <td>D1408</td>\n",
       "      <td>123009</td>\n",
       "      <td>right_only</td>\n",
       "      <td>added</td>\n",
       "      <td>Téléconseil et télévente</td>\n",
       "      <td>Nouvelles Technologies de l'information et de la Communication (NTIC)</td>\n",
       "    </tr>\n",
       "    <tr>\n",
       "      <th>31423</th>\n",
       "      <td>D1408</td>\n",
       "      <td>102694</td>\n",
       "      <td>right_only</td>\n",
       "      <td>added</td>\n",
       "      <td>Téléconseil et télévente</td>\n",
       "      <td>Renseigner les supports de suivi d'intervention et transmettre les informations au service concerné</td>\n",
       "    </tr>\n",
       "    <tr>\n",
       "      <th>31424</th>\n",
       "      <td>D1408</td>\n",
       "      <td>103885</td>\n",
       "      <td>right_only</td>\n",
       "      <td>added</td>\n",
       "      <td>Téléconseil et télévente</td>\n",
       "      <td>Gestes d'urgence et de secours</td>\n",
       "    </tr>\n",
       "    <tr>\n",
       "      <th>31425</th>\n",
       "      <td>D1408</td>\n",
       "      <td>107361</td>\n",
       "      <td>right_only</td>\n",
       "      <td>added</td>\n",
       "      <td>Téléconseil et télévente</td>\n",
       "      <td>Terminologie médicale</td>\n",
       "    </tr>\n",
       "    <tr>\n",
       "      <th>31426</th>\n",
       "      <td>F1201</td>\n",
       "      <td>117170</td>\n",
       "      <td>right_only</td>\n",
       "      <td>added</td>\n",
       "      <td>Conduite de travaux du BTP et de travaux paysagers</td>\n",
       "      <td>Coordonner les prestataires, fournisseurs, intervenants</td>\n",
       "    </tr>\n",
       "  </tbody>\n",
       "</table>\n",
       "</div>"
      ],
      "text/plain": [
       "      code_rome  code_ogr      _merge  _diff  \\\n",
       "31422     D1408    123009  right_only  added   \n",
       "31423     D1408    102694  right_only  added   \n",
       "31424     D1408    103885  right_only  added   \n",
       "31425     D1408    107361  right_only  added   \n",
       "31426     F1201    117170  right_only  added   \n",
       "\n",
       "                                           job_group_name  \\\n",
       "31422                            Téléconseil et télévente   \n",
       "31423                            Téléconseil et télévente   \n",
       "31424                            Téléconseil et télévente   \n",
       "31425                            Téléconseil et télévente   \n",
       "31426  Conduite de travaux du BTP et de travaux paysagers   \n",
       "\n",
       "                                                                                                 item_name  \n",
       "31422                                Nouvelles Technologies de l'information et de la Communication (NTIC)  \n",
       "31423  Renseigner les supports de suivi d'intervention et transmettre les informations au service concerné  \n",
       "31424                                                                       Gestes d'urgence et de secours  \n",
       "31425                                                                                Terminologie médicale  \n",
       "31426                                              Coordonner les prestataires, fournisseurs, intervenants  "
      ]
     },
     "execution_count": 12,
     "metadata": {},
     "output_type": "execute_result"
    }
   ],
   "source": [
    "job_group_names = find_rome_dataset_by_name(rome_data, 'referentiel_code_rome').new.set_index('code_rome').libelle_rome\n",
    "item_names = items.new.set_index('code_ogr').libelle.drop_duplicates()\n",
    "links_merged['job_group_name'] = links_merged.code_rome.map(job_group_names)\n",
    "links_merged['item_name'] = links_merged.code_ogr.map(item_names)\n",
    "display(links_merged[links_merged._diff == 'removed'].dropna().head(5))\n",
    "links_merged[links_merged._diff == 'added'].dropna().head(5)\n"
   ]
  },
  {
   "cell_type": "markdown",
   "metadata": {},
   "source": [
    "The added items are OK. Removing the CACES (physical security certifications) from the first one seems dodgy, let's check what this job group is about:"
   ]
  },
  {
   "cell_type": "code",
   "execution_count": 13,
   "metadata": {},
   "outputs": [
    {
     "data": {
      "text/html": [
       "<div>\n",
       "<style scoped>\n",
       "    .dataframe tbody tr th:only-of-type {\n",
       "        vertical-align: middle;\n",
       "    }\n",
       "\n",
       "    .dataframe tbody tr th {\n",
       "        vertical-align: top;\n",
       "    }\n",
       "\n",
       "    .dataframe thead th {\n",
       "        text-align: right;\n",
       "    }\n",
       "</style>\n",
       "<table border=\"1\" class=\"dataframe\">\n",
       "  <thead>\n",
       "    <tr style=\"text-align: right;\">\n",
       "      <th></th>\n",
       "      <th>code_ogr</th>\n",
       "      <th>libelle_appellation_long</th>\n",
       "      <th>libelle_appellation_court</th>\n",
       "      <th>code_rome</th>\n",
       "      <th>code_type_section_appellation</th>\n",
       "      <th>libelle_type_section_appellation</th>\n",
       "      <th>statut</th>\n",
       "    </tr>\n",
       "  </thead>\n",
       "  <tbody>\n",
       "    <tr>\n",
       "      <th>74</th>\n",
       "      <td>10275</td>\n",
       "      <td>Adjoint / Adjointe au responsable d'auto-école</td>\n",
       "      <td>Adjoint / Adjointe au responsable d'auto-école</td>\n",
       "      <td>K2110</td>\n",
       "      <td>1</td>\n",
       "      <td>PRINCIPALE</td>\n",
       "      <td>1</td>\n",
       "    </tr>\n",
       "    <tr>\n",
       "      <th>4583</th>\n",
       "      <td>14851</td>\n",
       "      <td>Enseignant / Enseignante de la conduite et de la sécurité routière</td>\n",
       "      <td>Enseignant(e) de la conduite et de la sécurité routière</td>\n",
       "      <td>K2110</td>\n",
       "      <td>1</td>\n",
       "      <td>PRINCIPALE</td>\n",
       "      <td>1</td>\n",
       "    </tr>\n",
       "    <tr>\n",
       "      <th>4856</th>\n",
       "      <td>15126</td>\n",
       "      <td>Formateur / Formatrice conduite d'engins de travaux publics</td>\n",
       "      <td>Formateur / Formatrice conduite d'engins de travaux publics</td>\n",
       "      <td>K2110</td>\n",
       "      <td>1</td>\n",
       "      <td>PRINCIPALE</td>\n",
       "      <td>1</td>\n",
       "    </tr>\n",
       "    <tr>\n",
       "      <th>4857</th>\n",
       "      <td>15127</td>\n",
       "      <td>Formateur / Formatrice conduite d'engins motorisés et de levage</td>\n",
       "      <td>Formateur(trice) conduite d'engins motorisés et de levage</td>\n",
       "      <td>K2110</td>\n",
       "      <td>1</td>\n",
       "      <td>PRINCIPALE</td>\n",
       "      <td>1</td>\n",
       "    </tr>\n",
       "    <tr>\n",
       "      <th>4862</th>\n",
       "      <td>15133</td>\n",
       "      <td>Formateur / Formatrice de conducteurs routiers</td>\n",
       "      <td>Formateur / Formatrice de conducteurs routiers</td>\n",
       "      <td>K2110</td>\n",
       "      <td>1</td>\n",
       "      <td>PRINCIPALE</td>\n",
       "      <td>1</td>\n",
       "    </tr>\n",
       "  </tbody>\n",
       "</table>\n",
       "</div>"
      ],
      "text/plain": [
       "      code_ogr  \\\n",
       "74       10275   \n",
       "4583     14851   \n",
       "4856     15126   \n",
       "4857     15127   \n",
       "4862     15133   \n",
       "\n",
       "                                                libelle_appellation_long  \\\n",
       "74                        Adjoint / Adjointe au responsable d'auto-école   \n",
       "4583  Enseignant / Enseignante de la conduite et de la sécurité routière   \n",
       "4856         Formateur / Formatrice conduite d'engins de travaux publics   \n",
       "4857     Formateur / Formatrice conduite d'engins motorisés et de levage   \n",
       "4862                      Formateur / Formatrice de conducteurs routiers   \n",
       "\n",
       "                                        libelle_appellation_court code_rome  \\\n",
       "74                 Adjoint / Adjointe au responsable d'auto-école     K2110   \n",
       "4583      Enseignant(e) de la conduite et de la sécurité routière     K2110   \n",
       "4856  Formateur / Formatrice conduite d'engins de travaux publics     K2110   \n",
       "4857    Formateur(trice) conduite d'engins motorisés et de levage     K2110   \n",
       "4862               Formateur / Formatrice de conducteurs routiers     K2110   \n",
       "\n",
       "      code_type_section_appellation libelle_type_section_appellation  statut  \n",
       "74                                1                       PRINCIPALE       1  \n",
       "4583                              1                       PRINCIPALE       1  \n",
       "4856                              1                       PRINCIPALE       1  \n",
       "4857                              1                       PRINCIPALE       1  \n",
       "4862                              1                       PRINCIPALE       1  "
      ]
     },
     "execution_count": 13,
     "metadata": {},
     "output_type": "execute_result"
    }
   ],
   "source": [
    "jobs.new[jobs.new.code_rome == 'K2110'].head()"
   ]
  },
  {
   "cell_type": "markdown",
   "metadata": {},
   "source": [
    "OK, so it's actually the job for the trainers that might not require the CACES for themselves.\n",
    "\n",
    "That's all the changes we wanted to check (no change in `referentiel_code_rome`)."
   ]
  },
  {
   "cell_type": "markdown",
   "metadata": {},
   "source": [
    "# Conclusion\n",
    "\n",
    "The new version of ROME, v342, introduces very minor changes which reflect quite well what they wrote in their [changelog](http://www.pole-emploi.org/files/live/sites/peorg/files/documents/Statistiques-et-analyses/Open-data/ROME/ROME_AppropriationThematique.pdf).\n",
    "\n",
    "Technically they were some format changes (that were discovered while preparing this notebook):\n",
    "* The CSV files were zipped under a `csv` folder, are now directly at the root of the zip (reverting a change introduced in v341)\n",
    "* The double quotes are now escaped.\n",
    "\n",
    "The transition should be transparent with a very small advantage over the old version."
   ]
  }
 ],
 "metadata": {
  "kernelspec": {
   "display_name": "Python 3",
   "language": "python",
   "name": "python3"
  },
  "language_info": {
   "codemirror_mode": {
    "name": "ipython",
    "version": 3
   },
   "file_extension": ".py",
   "mimetype": "text/x-python",
   "name": "python",
   "nbconvert_exporter": "python",
   "pygments_lexer": "ipython3",
   "version": "3.6.6"
  }
 },
 "nbformat": 4,
 "nbformat_minor": 1
}
