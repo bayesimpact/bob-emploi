{
 "cells": [
  {
   "cell_type": "markdown",
   "metadata": {},
   "source": [
    "Author: Pascal, pascal@bayesimpact.org\n",
    "\n",
    "Date: 2016-02-15\n",
    "\n",
    "# ROME update from v329 to v330\n",
    "\n",
    "In February 2017 I realized that they had released a new version of the ROME. I want to investigate what changed and whether we need to do anything about it.\n",
    "\n",
    "You might not be able to reproduce this notebook, mostly because it requires to have the two versions of the ROME in your `data/rome/csv` folder which happens only just before we switch to v330. You will have to trust me on the results ;-)"
   ]
  },
  {
   "cell_type": "code",
   "execution_count": 1,
   "metadata": {
    "collapsed": false
   },
   "outputs": [],
   "source": [
    "import collections\n",
    "import glob\n",
    "import os\n",
    "from os import path\n",
    "\n",
    "import matplotlib_venn\n",
    "import pandas\n",
    "\n",
    "rome_path = path.join(os.getenv('DATA_FOLDER'), 'rome/csv')\n",
    "\n",
    "OLD_VERSION = '329'\n",
    "NEW_VERSION = '330'\n",
    "\n",
    "old_version_files = frozenset(glob.glob(rome_path + '/*%s*' % OLD_VERSION))\n",
    "new_version_files = frozenset(glob.glob(rome_path + '/*%s*' % NEW_VERSION))"
   ]
  },
  {
   "cell_type": "markdown",
   "metadata": {},
   "source": [
    "First let's check if there are new or deleted files (only matching by file names)."
   ]
  },
  {
   "cell_type": "code",
   "execution_count": 2,
   "metadata": {
    "collapsed": false
   },
   "outputs": [
    {
     "name": "stdout",
     "output_type": "stream",
     "text": [
      "0 new files\n",
      "0 deleted files\n"
     ]
    }
   ],
   "source": [
    "new_files = new_version_files - frozenset(f.replace(OLD_VERSION, NEW_VERSION) for f in old_version_files)\n",
    "deleted_files = old_version_files - frozenset(f.replace(NEW_VERSION, OLD_VERSION) for f in new_version_files)\n",
    "\n",
    "print('%d new files' % len(new_files))\n",
    "print('%d deleted files' % len(deleted_files))"
   ]
  },
  {
   "cell_type": "markdown",
   "metadata": {},
   "source": [
    "So we have the same set of files: good start.\n",
    "\n",
    "Now let's set up a dataset that, for each table, links the old file and the new file."
   ]
  },
  {
   "cell_type": "code",
   "execution_count": 3,
   "metadata": {
    "collapsed": false
   },
   "outputs": [],
   "source": [
    "new_to_old = dict((f, f.replace(NEW_VERSION, OLD_VERSION)) for f in new_version_files)\n",
    "\n",
    "# Load all datasets.\n",
    "Dataset = collections.namedtuple('Dataset', ['basename', 'old', 'new'])\n",
    "data = [Dataset(\n",
    "        basename=path.basename(f),\n",
    "        old=pandas.read_csv(f.replace(NEW_VERSION, OLD_VERSION)),\n",
    "        new=pandas.read_csv(f))\n",
    "    for f in sorted(new_version_files)]\n",
    "\n",
    "def find_dataset_by_name(data, partial_name):\n",
    "    for dataset in data:\n",
    "        if partial_name in dataset.basename:\n",
    "            return dataset\n",
    "    raise ValueError('No dataset named %s, the list is\\n%s' % (partial_name, [dataset.basename for d in data]))"
   ]
  },
  {
   "cell_type": "markdown",
   "metadata": {},
   "source": [
    "Let's make sure the structure hasn't changed:"
   ]
  },
  {
   "cell_type": "code",
   "execution_count": 4,
   "metadata": {
    "collapsed": false
   },
   "outputs": [],
   "source": [
    "for dataset in data:\n",
    "    if set(dataset.old.columns) != set(dataset.new.columns):\n",
    "        print('Columns of %s have changed.' % dataset.basename)"
   ]
  },
  {
   "cell_type": "markdown",
   "metadata": {},
   "source": [
    "All files have the same columns as before: still good."
   ]
  },
  {
   "cell_type": "code",
   "execution_count": 5,
   "metadata": {
    "collapsed": false
   },
   "outputs": [
    {
     "name": "stdout",
     "output_type": "stream",
     "text": [
      "3600 values added in unix_coherence_item_v330_utf8.csv\n",
      "2 values added in unix_cr_gd_dp_appellations_v330_utf8.csv\n",
      "2529 values added in unix_item_arborescence_v330_utf8.csv\n",
      "-554 values removed in unix_item_v330_utf8.csv\n",
      "3602 values added in unix_liens_rome_referentiels_v330_utf8.csv\n",
      "-2452 values removed in unix_referentiel_activite_riasec_v330_utf8.csv\n",
      "-537 values removed in unix_referentiel_activite_v330_utf8.csv\n",
      "2 values added in unix_referentiel_appellation_v330_utf8.csv\n",
      "2403 values added in unix_referentiel_competence_v330_utf8.csv\n",
      "11 values added in unix_texte_v330_utf8.csv\n",
      "11/21 files with the same number of rows\n"
     ]
    }
   ],
   "source": [
    "untouched = 0\n",
    "for dataset in data:\n",
    "    diff = len(dataset.new.index) - len(dataset.old.index)\n",
    "    if diff > 0:\n",
    "        print('%d values added in %s' % (diff, dataset.basename))\n",
    "    elif diff < 0:\n",
    "        print('%d values removed in %s' % (diff, dataset.basename))\n",
    "    else:\n",
    "        untouched += 1\n",
    "print('%d/%d files with the same number of rows' % (untouched, len(data)))"
   ]
  },
  {
   "cell_type": "markdown",
   "metadata": {},
   "source": [
    "So we have minor additions in half of the files. At one point we cared about `referentiel_activite` and `referentiel_activite_riasec` but have no concrete application for now.\n",
    "\n",
    "The only interesting ones are `referentiel_appellation` and `referentiel_competence`, so let's see more precisely."
   ]
  },
  {
   "cell_type": "code",
   "execution_count": 6,
   "metadata": {
    "collapsed": false
   },
   "outputs": [
    {
     "data": {
      "text/html": [
       "<div>\n",
       "<table border=\"1\" class=\"dataframe\">\n",
       "  <thead>\n",
       "    <tr style=\"text-align: right;\">\n",
       "      <th></th>\n",
       "      <th>code_ogr</th>\n",
       "      <th>libelle_appellation_long</th>\n",
       "      <th>libelle_appellation_court</th>\n",
       "      <th>code_rome</th>\n",
       "      <th>code_type_section_appellation</th>\n",
       "      <th>libelle_type_section_appellation</th>\n",
       "      <th>statut</th>\n",
       "      <th>libelle_rome</th>\n",
       "    </tr>\n",
       "  </thead>\n",
       "  <tbody>\n",
       "    <tr>\n",
       "      <th>0</th>\n",
       "      <td>39045</td>\n",
       "      <td>Commissaire d''expositions</td>\n",
       "      <td>Commissaire d''expositions</td>\n",
       "      <td>K1602</td>\n",
       "      <td>1</td>\n",
       "      <td>PRINCIPALE</td>\n",
       "      <td>1</td>\n",
       "      <td>Gestion de patrimoine culturel</td>\n",
       "    </tr>\n",
       "    <tr>\n",
       "      <th>1</th>\n",
       "      <td>39046</td>\n",
       "      <td>Agent / Agente d''entretien en crèche - halte ...</td>\n",
       "      <td>Agent / Agente d''entretien en crèche - halte ...</td>\n",
       "      <td>K2204</td>\n",
       "      <td>1</td>\n",
       "      <td>PRINCIPALE</td>\n",
       "      <td>1</td>\n",
       "      <td>Nettoyage de locaux</td>\n",
       "    </tr>\n",
       "  </tbody>\n",
       "</table>\n",
       "</div>"
      ],
      "text/plain": [
       "   code_ogr                           libelle_appellation_long  \\\n",
       "0     39045                         Commissaire d''expositions   \n",
       "1     39046  Agent / Agente d''entretien en crèche - halte ...   \n",
       "\n",
       "                           libelle_appellation_court code_rome  \\\n",
       "0                         Commissaire d''expositions     K1602   \n",
       "1  Agent / Agente d''entretien en crèche - halte ...     K2204   \n",
       "\n",
       "   code_type_section_appellation libelle_type_section_appellation  statut  \\\n",
       "0                              1                       PRINCIPALE       1   \n",
       "1                              1                       PRINCIPALE       1   \n",
       "\n",
       "                     libelle_rome  \n",
       "0  Gestion de patrimoine culturel  \n",
       "1             Nettoyage de locaux  "
      ]
     },
     "execution_count": 6,
     "metadata": {},
     "output_type": "execute_result"
    }
   ],
   "source": [
    "jobs = find_dataset_by_name(data, 'referentiel_appellation')\n",
    "new_ogrs = set(jobs.new.code_ogr) - set(jobs.old.code_ogr)\n",
    "new_jobs = jobs.new[jobs.new.code_ogr.isin(new_ogrs)]\n",
    "\n",
    "job_groups = find_dataset_by_name(data, 'referentiel_code_rome_v')\n",
    "pandas.merge(new_jobs, job_groups.new[['code_rome', 'libelle_rome']], on='code_rome', how='left')"
   ]
  },
  {
   "cell_type": "markdown",
   "metadata": {},
   "source": [
    "The new entries look legitimate.\n",
    "\n",
    "Let's now check the `referentiel_competence`:"
   ]
  },
  {
   "cell_type": "code",
   "execution_count": 7,
   "metadata": {
    "collapsed": false
   },
   "outputs": [
    {
     "data": {
      "image/png": "[encoded data removed]",
      "text/plain": [
       "<matplotlib.figure.Figure at 0x7f4c88f5ccc0>"
      ]
     },
     "metadata": {},
     "output_type": "display_data"
    }
   ],
   "source": [
    "competences = find_dataset_by_name(data, 'referentiel_competence')\n",
    "new_ogrs = set(competences.new.code_ogr) - set(competences.old.code_ogr)\n",
    "obsolete_ogrs = set(competences.old.code_ogr) - set(competences.new.code_ogr)\n",
    "stable_ogrs = set(competences.new.code_ogr) & set(competences.old.code_ogr)\n",
    "\n",
    "_ = matplotlib_venn.venn2((len(obsolete_ogrs), len(new_ogrs), len(stable_ogrs)), (OLD_VERSION, NEW_VERSION))"
   ]
  },
  {
   "cell_type": "markdown",
   "metadata": {},
   "source": [
    "Wow! All OGR codes have changed. Let's see if it's only the codes or the values as well:"
   ]
  },
  {
   "cell_type": "code",
   "execution_count": 8,
   "metadata": {
    "collapsed": false
   },
   "outputs": [
    {
     "data": {
      "image/png": "[encoded data removed]",
      "text/plain": [
       "<matplotlib.figure.Figure at 0x7f4c8a0057f0>"
      ]
     },
     "metadata": {},
     "output_type": "display_data"
    }
   ],
   "source": [
    "new_names = set(competences.new.libelle_competence) - set(competences.old.libelle_competence)\n",
    "obsolete_names = set(competences.old.libelle_competence) - set(competences.new.libelle_competence)\n",
    "stable_names = set(competences.new.libelle_competence) & set(competences.old.libelle_competence)\n",
    "\n",
    "_ = matplotlib_venn.venn2((len(obsolete_names), len(new_names), len(stable_names)), (OLD_VERSION, NEW_VERSION))"
   ]
  },
  {
   "cell_type": "code",
   "execution_count": 9,
   "metadata": {
    "collapsed": false
   },
   "outputs": [
    {
     "name": "stdout",
     "output_type": "stream",
     "text": [
      "Some skills that got removed: Achevage-réglage, Acoustique, Adaptation du registre de langage, Administration de produits vétérinaires, Aiguisage des couteaux…\n",
      "Some skills that got added: Accastillage, Accessoires automobile, Accordage, Accrochage, Accueil en face à face…\n",
      "Some skills that stayed: Abrasion manuelle, Accidentologie, Accrochage manuel, Adaptation, composition d''oeuvres musicales, Addictologie…\n"
     ]
    }
   ],
   "source": [
    "print('Some skills that got removed: %s…' % ', '.join(sorted(obsolete_names)[:5]))\n",
    "print('Some skills that got added: %s…' % ', '.join(sorted(new_names)[:5]))\n",
    "print('Some skills that stayed: %s…' % ', '.join(sorted(stable_names)[:5]))"
   ]
  },
  {
   "cell_type": "markdown",
   "metadata": {},
   "source": [
    "OK, we will have to trust Pôle Emploi on that because the skills seem to have changed a lot. Most probably we should retry our notebooks on skills. The good thing is that our current version of Bob does not rely on skills nor skill IDs so we can just accept the change."
   ]
  },
  {
   "cell_type": "markdown",
   "metadata": {},
   "source": [
    "# Conclusion\n",
    "The new version of ROME, v330, introduces a major change in the skills description, but otherwise very few additions that we feel concerned about: mainly additions of few new rows in existing files. The transition should be transparent with a very small advantage on the new one."
   ]
  }
 ],
 "metadata": {
  "kernelspec": {
   "display_name": "Python 3",
   "language": "python",
   "name": "python3"
  },
  "language_info": {
   "codemirror_mode": {
    "name": "ipython",
    "version": 3
   },
   "file_extension": ".py",
   "mimetype": "text/x-python",
   "name": "python",
   "nbconvert_exporter": "python",
   "pygments_lexer": "ipython3",
   "version": "3.5.2"
  }
 },
 "nbformat": 4,
 "nbformat_minor": 0
}
