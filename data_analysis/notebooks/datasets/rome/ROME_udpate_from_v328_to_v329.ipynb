{
 "cells": [
  {
   "cell_type": "markdown",
   "metadata": {},
   "source": [
    "Author: Pascal, pascal@bayesimpact.org\n",
    "\n",
    "Date: 2016-06-22\n",
    "\n",
    "Skip the run test because the ROME version has to be updated to make it work in the exported repository. TODO: Update ROME and remove the `skiptest` flag.\n",
    "\n",
    "\n",
    "# ROME update from v328 to v329\n",
    "\n",
    "In June 2016 I realized that they had released a new version of the ROME. I want to investigate what changed and whether we need to do anything about it.\n",
    "\n",
    "You might not be able to reproduce this notebook, mostly because it requires to have the two versions of the ROME in your `data/rome/csv` folder which happens only just before we switch to v329. You'll have to trust me on the results ;-)"
   ]
  },
  {
   "cell_type": "code",
   "execution_count": 1,
   "metadata": {
    "collapsed": false
   },
   "outputs": [],
   "source": [
    "import collections\n",
    "import glob\n",
    "from os import path\n",
    "import pandas\n",
    "\n",
    "rome_path = '../../data/rome/csv'\n",
    "\n",
    "OLD_VERSION = '328'\n",
    "NEW_VERSION = '329'\n",
    "\n",
    "old_version_files = frozenset(glob.glob(rome_path + '/*%s*' % OLD_VERSION))\n",
    "new_version_files = frozenset(glob.glob(rome_path + '/*%s*' % NEW_VERSION))"
   ]
  },
  {
   "cell_type": "markdown",
   "metadata": {},
   "source": [
    "First let's check if there are new or deleted files (only matching by file names)."
   ]
  },
  {
   "cell_type": "code",
   "execution_count": 2,
   "metadata": {
    "collapsed": false
   },
   "outputs": [
    {
     "name": "stdout",
     "output_type": "stream",
     "text": [
      "0 new files\n",
      "0 deleted files\n"
     ]
    }
   ],
   "source": [
    "new_files = new_version_files - frozenset(f.replace(OLD_VERSION, NEW_VERSION) for f in old_version_files)\n",
    "deleted_files = old_version_files - frozenset(f.replace(NEW_VERSION, OLD_VERSION) for f in new_version_files)\n",
    "\n",
    "print('%d new files' % len(new_files))\n",
    "print('%d deleted files' % len(deleted_files))"
   ]
  },
  {
   "cell_type": "markdown",
   "metadata": {},
   "source": [
    "So we have the same set of files: good start.\n",
    "\n",
    "Now let's set up a dataset that, for each table, links the old file and the new file."
   ]
  },
  {
   "cell_type": "code",
   "execution_count": 3,
   "metadata": {
    "collapsed": false
   },
   "outputs": [],
   "source": [
    "new_to_old = dict((f, f.replace(NEW_VERSION, OLD_VERSION)) for f in new_version_files)\n",
    "\n",
    "# Load all datasets.\n",
    "Dataset = collections.namedtuple('Dataset', ['basename', 'old', 'new'])\n",
    "data = [Dataset(\n",
    "        basename=path.basename(f),\n",
    "        old=pandas.read_csv(f.replace(NEW_VERSION, OLD_VERSION)),\n",
    "        new=pandas.read_csv(f))\n",
    "    for f in sorted(new_version_files)]\n",
    "\n",
    "def find_dataset_by_name(data, partial_name):\n",
    "    for dataset in data:\n",
    "        if partial_name in dataset.basename:\n",
    "            return dataset\n",
    "    raise ValueError('No dataset named %s, the list is\\n%s' % (partial_name, [dataset.basename for d in data]))"
   ]
  },
  {
   "cell_type": "markdown",
   "metadata": {},
   "source": [
    "Let's make sure the structure hasn't changed:"
   ]
  },
  {
   "cell_type": "code",
   "execution_count": 4,
   "metadata": {
    "collapsed": false
   },
   "outputs": [],
   "source": [
    "for dataset in data:\n",
    "    if set(dataset.old.columns) != set(dataset.new.columns):\n",
    "        print('Columns of %s have changed.' % dataset.basename)"
   ]
  },
  {
   "cell_type": "markdown",
   "metadata": {},
   "source": [
    "All files have the same columns as before: still good."
   ]
  },
  {
   "cell_type": "code",
   "execution_count": 5,
   "metadata": {
    "collapsed": false
   },
   "outputs": [
    {
     "name": "stdout",
     "output_type": "stream",
     "text": [
      "17 values added in unix_coherence_item_v329_utf8.csv\n",
      "17 values added in unix_cr_gd_dp_appellations_v329_utf8.csv\n",
      "4 values added in unix_item_arborescence_v329_utf8.csv\n",
      "9 values added in unix_item_v329_utf8.csv\n",
      "34 values added in unix_liens_rome_referentiels_v329_utf8.csv\n",
      "7 values added in unix_referentiel_activite_riasec_v329_utf8.csv\n",
      "7 values added in unix_referentiel_activite_v329_utf8.csv\n",
      "17 values added in unix_referentiel_appellation_v329_utf8.csv\n",
      "2 values added in unix_referentiel_competence_v329_utf8.csv\n",
      "1 values added in unix_texte_v329_utf8.csv\n",
      "11/21 files with the same number of rows\n"
     ]
    }
   ],
   "source": [
    "untouched = 0\n",
    "for dataset in data:\n",
    "    diff = len(dataset.new.index) - len(dataset.old.index)\n",
    "    if diff > 0:\n",
    "        print('%d values added in %s' % (diff, dataset.basename))\n",
    "    elif diff < 0:\n",
    "        print('%d values removed in %s' % (diff, dataset.basename))\n",
    "    else:\n",
    "        untouched += 1\n",
    "print('%d/%d files with the same number of rows' % (untouched, len(data)))"
   ]
  },
  {
   "cell_type": "markdown",
   "metadata": {},
   "source": [
    "So we have minor additions in half of the files. At one point we cared about `referentiel_activite` and `referentiel_activite_riasec` but have no concrete application for now.\n",
    "\n",
    "The only interesting ones are `referentiel_appellation` and `referentiel_competence`, so let's see more precisely."
   ]
  },
  {
   "cell_type": "code",
   "execution_count": 6,
   "metadata": {
    "collapsed": false
   },
   "outputs": [
    {
     "data": {
      "text/html": [
       "<div>\n",
       "<table border=\"1\" class=\"dataframe\">\n",
       "  <thead>\n",
       "    <tr style=\"text-align: right;\">\n",
       "      <th></th>\n",
       "      <th>code_ogr</th>\n",
       "      <th>libelle_appellation_long</th>\n",
       "      <th>libelle_appellation_court</th>\n",
       "      <th>code_rome</th>\n",
       "      <th>code_type_section_appellation</th>\n",
       "      <th>libelle_type_section_appellation</th>\n",
       "      <th>statut</th>\n",
       "      <th>libelle_rome</th>\n",
       "    </tr>\n",
       "  </thead>\n",
       "  <tbody>\n",
       "    <tr>\n",
       "      <th>0</th>\n",
       "      <td>38992</td>\n",
       "      <td>Expert / Experte à distance sinistres et domma...</td>\n",
       "      <td>Expert(e) à distance sinistres et dommages en ...</td>\n",
       "      <td>C1107</td>\n",
       "      <td>1</td>\n",
       "      <td>PRINCIPALE</td>\n",
       "      <td>1</td>\n",
       "      <td>Indemnisations en assurances</td>\n",
       "    </tr>\n",
       "    <tr>\n",
       "      <th>1</th>\n",
       "      <td>38993</td>\n",
       "      <td>Assistant / Assistante de programmes immobiliers</td>\n",
       "      <td>Assistant / Assistante de programmes immobiliers</td>\n",
       "      <td>C1503</td>\n",
       "      <td>1</td>\n",
       "      <td>PRINCIPALE</td>\n",
       "      <td>1</td>\n",
       "      <td>Management de projet immobilier</td>\n",
       "    </tr>\n",
       "    <tr>\n",
       "      <th>2</th>\n",
       "      <td>38994</td>\n",
       "      <td>Assistant / Assistante en promotion immobilière</td>\n",
       "      <td>Assistant / Assistante en promotion immobilière</td>\n",
       "      <td>C1503</td>\n",
       "      <td>1</td>\n",
       "      <td>PRINCIPALE</td>\n",
       "      <td>1</td>\n",
       "      <td>Management de projet immobilier</td>\n",
       "    </tr>\n",
       "    <tr>\n",
       "      <th>3</th>\n",
       "      <td>38995</td>\n",
       "      <td>E-merchandiser</td>\n",
       "      <td>E-merchandiser</td>\n",
       "      <td>D1506</td>\n",
       "      <td>1</td>\n",
       "      <td>PRINCIPALE</td>\n",
       "      <td>1</td>\n",
       "      <td>Marchandisage</td>\n",
       "    </tr>\n",
       "    <tr>\n",
       "      <th>4</th>\n",
       "      <td>38996</td>\n",
       "      <td>Assistant / Assistante de rédaction</td>\n",
       "      <td>Assistant / Assistante de rédaction</td>\n",
       "      <td>E1106</td>\n",
       "      <td>1</td>\n",
       "      <td>PRINCIPALE</td>\n",
       "      <td>1</td>\n",
       "      <td>Journalisme et information média</td>\n",
       "    </tr>\n",
       "    <tr>\n",
       "      <th>5</th>\n",
       "      <td>38997</td>\n",
       "      <td>Chef de publicité online</td>\n",
       "      <td>Chef de publicité online</td>\n",
       "      <td>E1401</td>\n",
       "      <td>1</td>\n",
       "      <td>PRINCIPALE</td>\n",
       "      <td>1</td>\n",
       "      <td>Développement et promotion publicitaire</td>\n",
       "    </tr>\n",
       "    <tr>\n",
       "      <th>6</th>\n",
       "      <td>38998</td>\n",
       "      <td>Assistant  chargé / Assistante chargée d''affa...</td>\n",
       "      <td>Assistant  chargé / Assistante chargée d''affa...</td>\n",
       "      <td>F1106</td>\n",
       "      <td>1</td>\n",
       "      <td>PRINCIPALE</td>\n",
       "      <td>1</td>\n",
       "      <td>Ingénierie et études du BTP</td>\n",
       "    </tr>\n",
       "    <tr>\n",
       "      <th>7</th>\n",
       "      <td>38999</td>\n",
       "      <td>Assistant chargé / Assistante chargée d''affai...</td>\n",
       "      <td>Assistant(e) chargé(e) d''affaires BTPgénie cl...</td>\n",
       "      <td>F1106</td>\n",
       "      <td>1</td>\n",
       "      <td>PRINCIPALE</td>\n",
       "      <td>1</td>\n",
       "      <td>Ingénierie et études du BTP</td>\n",
       "    </tr>\n",
       "    <tr>\n",
       "      <th>8</th>\n",
       "      <td>39000</td>\n",
       "      <td>Conducteur / Conductrice de travaux en rénovat...</td>\n",
       "      <td>Conducteur / Conductrice de travaux rénovation...</td>\n",
       "      <td>F1201</td>\n",
       "      <td>1</td>\n",
       "      <td>PRINCIPALE</td>\n",
       "      <td>1</td>\n",
       "      <td>Conduite de travaux du BTP</td>\n",
       "    </tr>\n",
       "    <tr>\n",
       "      <th>9</th>\n",
       "      <td>39001</td>\n",
       "      <td>Installateur / Installatrice de chauffage bois</td>\n",
       "      <td>Installateur / Installatrice de chauffage bois</td>\n",
       "      <td>F1603</td>\n",
       "      <td>1</td>\n",
       "      <td>PRINCIPALE</td>\n",
       "      <td>1</td>\n",
       "      <td>Installation d''équipements sanitaires et ther...</td>\n",
       "    </tr>\n",
       "    <tr>\n",
       "      <th>10</th>\n",
       "      <td>39002</td>\n",
       "      <td>Infirmier coordinateur / Infirmière coordinatr...</td>\n",
       "      <td>Infirmier(ière) coordinateur(trcie) en établis...</td>\n",
       "      <td>J1506</td>\n",
       "      <td>1</td>\n",
       "      <td>PRINCIPALE</td>\n",
       "      <td>1</td>\n",
       "      <td>Soins infirmiers généralistes</td>\n",
       "    </tr>\n",
       "    <tr>\n",
       "      <th>11</th>\n",
       "      <td>39003</td>\n",
       "      <td>Acheteur / Acheteuse e-commerce</td>\n",
       "      <td>Acheteur / Acheteuse e-commerce</td>\n",
       "      <td>M1101</td>\n",
       "      <td>1</td>\n",
       "      <td>PRINCIPALE</td>\n",
       "      <td>1</td>\n",
       "      <td>Achats</td>\n",
       "    </tr>\n",
       "    <tr>\n",
       "      <th>12</th>\n",
       "      <td>39004</td>\n",
       "      <td>Analyse prix / pricing</td>\n",
       "      <td>Analyse prix / pricing</td>\n",
       "      <td>M1403</td>\n",
       "      <td>1</td>\n",
       "      <td>PRINCIPALE</td>\n",
       "      <td>1</td>\n",
       "      <td>Études et prospectives socio-économiques</td>\n",
       "    </tr>\n",
       "    <tr>\n",
       "      <th>13</th>\n",
       "      <td>39005</td>\n",
       "      <td>Responsable service clients online</td>\n",
       "      <td>Responsable service clients online</td>\n",
       "      <td>M1704</td>\n",
       "      <td>1</td>\n",
       "      <td>PRINCIPALE</td>\n",
       "      <td>1</td>\n",
       "      <td>Management relation clientèle</td>\n",
       "    </tr>\n",
       "    <tr>\n",
       "      <th>14</th>\n",
       "      <td>39006</td>\n",
       "      <td>Responsable acquisition online</td>\n",
       "      <td>Responsable acquisition online</td>\n",
       "      <td>M1705</td>\n",
       "      <td>1</td>\n",
       "      <td>PRINCIPALE</td>\n",
       "      <td>1</td>\n",
       "      <td>Marketing</td>\n",
       "    </tr>\n",
       "    <tr>\n",
       "      <th>15</th>\n",
       "      <td>39007</td>\n",
       "      <td>Chargé / Chargée d''acquisition online</td>\n",
       "      <td>Chargé / Chargée d''acquisition online</td>\n",
       "      <td>M1705</td>\n",
       "      <td>1</td>\n",
       "      <td>PRINCIPALE</td>\n",
       "      <td>1</td>\n",
       "      <td>Marketing</td>\n",
       "    </tr>\n",
       "    <tr>\n",
       "      <th>16</th>\n",
       "      <td>39008</td>\n",
       "      <td>Agent / Agente d''accompagnement aéroportuaire...</td>\n",
       "      <td>Agent(e) accompagnement aéroport. passagers mo...</td>\n",
       "      <td>N2201</td>\n",
       "      <td>1</td>\n",
       "      <td>PRINCIPALE</td>\n",
       "      <td>1</td>\n",
       "      <td>Personnel d''escale aéroportuaire</td>\n",
       "    </tr>\n",
       "  </tbody>\n",
       "</table>\n",
       "</div>"
      ],
      "text/plain": [
       "    code_ogr                           libelle_appellation_long  \\\n",
       "0      38992  Expert / Experte à distance sinistres et domma...   \n",
       "1      38993   Assistant / Assistante de programmes immobiliers   \n",
       "2      38994    Assistant / Assistante en promotion immobilière   \n",
       "3      38995                                     E-merchandiser   \n",
       "4      38996                Assistant / Assistante de rédaction   \n",
       "5      38997                           Chef de publicité online   \n",
       "6      38998  Assistant  chargé / Assistante chargée d''affa...   \n",
       "7      38999  Assistant chargé / Assistante chargée d''affai...   \n",
       "8      39000  Conducteur / Conductrice de travaux en rénovat...   \n",
       "9      39001     Installateur / Installatrice de chauffage bois   \n",
       "10     39002  Infirmier coordinateur / Infirmière coordinatr...   \n",
       "11     39003                    Acheteur / Acheteuse e-commerce   \n",
       "12     39004                             Analyse prix / pricing   \n",
       "13     39005                 Responsable service clients online   \n",
       "14     39006                     Responsable acquisition online   \n",
       "15     39007             Chargé / Chargée d''acquisition online   \n",
       "16     39008  Agent / Agente d''accompagnement aéroportuaire...   \n",
       "\n",
       "                            libelle_appellation_court code_rome  \\\n",
       "0   Expert(e) à distance sinistres et dommages en ...     C1107   \n",
       "1    Assistant / Assistante de programmes immobiliers     C1503   \n",
       "2     Assistant / Assistante en promotion immobilière     C1503   \n",
       "3                                      E-merchandiser     D1506   \n",
       "4                 Assistant / Assistante de rédaction     E1106   \n",
       "5                            Chef de publicité online     E1401   \n",
       "6   Assistant  chargé / Assistante chargée d''affa...     F1106   \n",
       "7   Assistant(e) chargé(e) d''affaires BTPgénie cl...     F1106   \n",
       "8   Conducteur / Conductrice de travaux rénovation...     F1201   \n",
       "9      Installateur / Installatrice de chauffage bois     F1603   \n",
       "10  Infirmier(ière) coordinateur(trcie) en établis...     J1506   \n",
       "11                    Acheteur / Acheteuse e-commerce     M1101   \n",
       "12                             Analyse prix / pricing     M1403   \n",
       "13                 Responsable service clients online     M1704   \n",
       "14                     Responsable acquisition online     M1705   \n",
       "15             Chargé / Chargée d''acquisition online     M1705   \n",
       "16  Agent(e) accompagnement aéroport. passagers mo...     N2201   \n",
       "\n",
       "    code_type_section_appellation libelle_type_section_appellation  statut  \\\n",
       "0                               1                       PRINCIPALE       1   \n",
       "1                               1                       PRINCIPALE       1   \n",
       "2                               1                       PRINCIPALE       1   \n",
       "3                               1                       PRINCIPALE       1   \n",
       "4                               1                       PRINCIPALE       1   \n",
       "5                               1                       PRINCIPALE       1   \n",
       "6                               1                       PRINCIPALE       1   \n",
       "7                               1                       PRINCIPALE       1   \n",
       "8                               1                       PRINCIPALE       1   \n",
       "9                               1                       PRINCIPALE       1   \n",
       "10                              1                       PRINCIPALE       1   \n",
       "11                              1                       PRINCIPALE       1   \n",
       "12                              1                       PRINCIPALE       1   \n",
       "13                              1                       PRINCIPALE       1   \n",
       "14                              1                       PRINCIPALE       1   \n",
       "15                              1                       PRINCIPALE       1   \n",
       "16                              1                       PRINCIPALE       1   \n",
       "\n",
       "                                         libelle_rome  \n",
       "0                        Indemnisations en assurances  \n",
       "1                     Management de projet immobilier  \n",
       "2                     Management de projet immobilier  \n",
       "3                                       Marchandisage  \n",
       "4                    Journalisme et information média  \n",
       "5             Développement et promotion publicitaire  \n",
       "6                         Ingénierie et études du BTP  \n",
       "7                         Ingénierie et études du BTP  \n",
       "8                          Conduite de travaux du BTP  \n",
       "9   Installation d''équipements sanitaires et ther...  \n",
       "10                      Soins infirmiers généralistes  \n",
       "11                                             Achats  \n",
       "12           Études et prospectives socio-économiques  \n",
       "13                      Management relation clientèle  \n",
       "14                                          Marketing  \n",
       "15                                          Marketing  \n",
       "16                  Personnel d''escale aéroportuaire  "
      ]
     },
     "execution_count": 6,
     "metadata": {},
     "output_type": "execute_result"
    }
   ],
   "source": [
    "jobs = find_dataset_by_name(data, 'referentiel_appellation')\n",
    "new_ogrs = set(jobs.new.code_ogr) - set(jobs.old.code_ogr)\n",
    "new_jobs = jobs.new[jobs.new.code_ogr.isin(new_ogrs)]\n",
    "\n",
    "job_groups = find_dataset_by_name(data, 'referentiel_code_rome_v')\n",
    "pandas.merge(new_jobs, job_groups.new[['code_rome', 'libelle_rome']], on='code_rome', how='left')"
   ]
  },
  {
   "cell_type": "markdown",
   "metadata": {},
   "source": [
    "The new entries look legitimate (including many jobs related to new technologies). However there's a typo in `Infirmier(ière) coordinateur(trcie) en établis...` where the shortened feminine version should be `(trice)` instead of `(trcie)`."
   ]
  },
  {
   "cell_type": "code",
   "execution_count": 7,
   "metadata": {
    "collapsed": false
   },
   "outputs": [
    {
     "data": {
      "text/html": [
       "<div>\n",
       "<table border=\"1\" class=\"dataframe\">\n",
       "  <thead>\n",
       "    <tr style=\"text-align: right;\">\n",
       "      <th></th>\n",
       "      <th>code_ogr</th>\n",
       "      <th>libelle_competence</th>\n",
       "      <th>code_type_competence</th>\n",
       "      <th>libelle_type_competence</th>\n",
       "      <th>statut</th>\n",
       "    </tr>\n",
       "  </thead>\n",
       "  <tbody>\n",
       "    <tr>\n",
       "      <th>1848</th>\n",
       "      <td>39009</td>\n",
       "      <td>Techniques de l''expertise à distance en assur...</td>\n",
       "      <td>1</td>\n",
       "      <td>SAVOIRS THEORIQUES ET PROCEDURAUX</td>\n",
       "      <td>1</td>\n",
       "    </tr>\n",
       "    <tr>\n",
       "      <th>2563</th>\n",
       "      <td>39010</td>\n",
       "      <td>Utilisation de logiciels immobiliers</td>\n",
       "      <td>2</td>\n",
       "      <td>SAVOIRS DE L''ACTION</td>\n",
       "      <td>1</td>\n",
       "    </tr>\n",
       "  </tbody>\n",
       "</table>\n",
       "</div>"
      ],
      "text/plain": [
       "      code_ogr                                 libelle_competence  \\\n",
       "1848     39009  Techniques de l''expertise à distance en assur...   \n",
       "2563     39010               Utilisation de logiciels immobiliers   \n",
       "\n",
       "      code_type_competence            libelle_type_competence  statut  \n",
       "1848                     1  SAVOIRS THEORIQUES ET PROCEDURAUX       1  \n",
       "2563                     2               SAVOIRS DE L''ACTION       1  "
      ]
     },
     "execution_count": 7,
     "metadata": {},
     "output_type": "execute_result"
    }
   ],
   "source": [
    "competences = find_dataset_by_name(data, 'referentiel_competence')\n",
    "new_ogrs = set(competences.new.code_ogr) - set(competences.old.code_ogr)\n",
    "competences.new[competences.new.code_ogr.isin(new_ogrs)]"
   ]
  },
  {
   "cell_type": "markdown",
   "metadata": {},
   "source": [
    "The new entries also look legitimate (including one related to new technologies)."
   ]
  },
  {
   "cell_type": "markdown",
   "metadata": {},
   "source": [
    "# Conclusion\n",
    "The new version of ROME, v329, doesn't introduce any major changes: mainly additions of few new rows in existing files. However it introduces a typo, so if we can patch it properly we should switch all our notebooks and scripts to use it, and the transition should be transparent with a very small advantage on the new one.\n",
    "\n",
    "This confirms the [Changelog](http://www.pole-emploi.org/front/common/tools/load_file.html?galleryId=53360) written by Pôle Emploi."
   ]
  }
 ],
 "metadata": {
  "kernelspec": {
   "display_name": "Python 3",
   "language": "python",
   "name": "python3"
  },
  "language_info": {
   "codemirror_mode": {
    "name": "ipython",
    "version": 3
   },
   "file_extension": ".py",
   "mimetype": "text/x-python",
   "name": "python",
   "nbconvert_exporter": "python",
   "pygments_lexer": "ipython3",
   "version": "3.5.2"
  }
 },
 "nbformat": 4,
 "nbformat_minor": 0
}
