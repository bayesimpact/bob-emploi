{
 "cells": [
  {
   "cell_type": "markdown",
   "metadata": {},
   "source": [
    "Author: Cyrille, cyrille@bayesimpact.org\n",
    "\n",
    "Date: 2018-04-09\n",
    "\n",
    "# ROME update from v333 to v334\n",
    "\n",
    "In March 2018 a new version of the ROME was released. I want to investigate what changed and whether we need to do anything about it.\n",
    "\n",
    "You might not be able to reproduce this notebook, mostly because it requires to have the two versions of the ROME in your `data/rome/csv` folder which happens only just before we switch to v334. You will have to trust me on the results ;-)\n",
    "\n",
    "Skip the run test because it requires older versions of the ROME."
   ]
  },
  {
   "cell_type": "code",
   "execution_count": 1,
   "metadata": {},
   "outputs": [],
   "source": [
    "import collections\n",
    "import glob\n",
    "import os\n",
    "from os import path\n",
    "\n",
    "import matplotlib_venn\n",
    "import pandas as pd\n",
    "\n",
    "rome_path = path.join(os.getenv('DATA_FOLDER'), 'rome/csv')\n",
    "\n",
    "OLD_VERSION = '333'\n",
    "NEW_VERSION = '334'\n",
    "\n",
    "old_version_files = frozenset(glob.glob(rome_path + '/*{}*'.format(OLD_VERSION)))\n",
    "new_version_files = frozenset(glob.glob(rome_path + '/*{}*'.format(NEW_VERSION)))"
   ]
  },
  {
   "cell_type": "markdown",
   "metadata": {},
   "source": [
    "First let's check if there are new or deleted files (only matching by file names)."
   ]
  },
  {
   "cell_type": "code",
   "execution_count": 2,
   "metadata": {},
   "outputs": [
    {
     "name": "stdout",
     "output_type": "stream",
     "text": [
      "0 new files\n",
      "0 deleted files\n"
     ]
    }
   ],
   "source": [
    "new_files = new_version_files - frozenset(f.replace(OLD_VERSION, NEW_VERSION) for f in old_version_files)\n",
    "deleted_files = old_version_files - frozenset(f.replace(NEW_VERSION, OLD_VERSION) for f in new_version_files)\n",
    "\n",
    "print('{:d} new files'.format(len(new_files)))\n",
    "print('{:d} deleted files'.format(len(deleted_files)))"
   ]
  },
  {
   "cell_type": "markdown",
   "metadata": {},
   "source": [
    "So we have the same set of files in both versions: good start.\n",
    "\n",
    "Now let's set up a dataset that, for each table, links both the old and the new file together."
   ]
  },
  {
   "cell_type": "code",
   "execution_count": 3,
   "metadata": {},
   "outputs": [],
   "source": [
    "# Load all ROME datasets for the two versions we compare.\n",
    "VersionedDataset = collections.namedtuple('VersionedDataset', ['basename', 'old', 'new'])\n",
    "rome_data = [VersionedDataset(\n",
    "        basename=path.basename(f),\n",
    "        old=pd.read_csv(f.replace(NEW_VERSION, OLD_VERSION)),\n",
    "        new=pd.read_csv(f))\n",
    "    for f in sorted(new_version_files)]\n",
    "\n",
    "def find_rome_dataset_by_name(data, partial_name):\n",
    "    for dataset in data:\n",
    "        if 'unix_{}_v{}_utf8.csv'.format(partial_name, NEW_VERSION) == dataset.basename:\n",
    "            return dataset\n",
    "    raise ValueError('No dataset named {}, the list is\\n{}'.format(partial_name, [d.basename for d in data]))"
   ]
  },
  {
   "cell_type": "markdown",
   "metadata": {},
   "source": [
    "Let's make sure the structure hasn't changed:"
   ]
  },
  {
   "cell_type": "code",
   "execution_count": 4,
   "metadata": {},
   "outputs": [],
   "source": [
    "for dataset in rome_data:\n",
    "    if set(dataset.old.columns) != set(dataset.new.columns):\n",
    "        print('Columns of {} have changed.'.format(dataset.basename))"
   ]
  },
  {
   "cell_type": "markdown",
   "metadata": {},
   "source": [
    "All files have the same columns as before: still good.\n",
    "\n",
    "Now let's see for each file if there are more or less rows."
   ]
  },
  {
   "cell_type": "code",
   "execution_count": 5,
   "metadata": {},
   "outputs": [
    {
     "name": "stdout",
     "output_type": "stream",
     "text": [
      "14/30720 values added in unix_coherence_item_v334_utf8.csv\n",
      "31/11677 values added in unix_cr_gd_dp_appellations_v334_utf8.csv\n",
      "15108/16308 values removed in unix_item_arborescence_v334_utf8.csv\n",
      "6/13387 values added in unix_item_v334_utf8.csv\n",
      "45/42273 values added in unix_liens_rome_referentiels_v334_utf8.csv\n",
      "31/11021 values added in unix_referentiel_appellation_v334_utf8.csv\n",
      "1/4948 values added in unix_referentiel_competence_v334_utf8.csv\n",
      "2/5039 values added in unix_texte_v334_utf8.csv\n",
      "13/21 files with the same number of rows\n"
     ]
    }
   ],
   "source": [
    "same_row_count_files = 0\n",
    "for dataset in rome_data:\n",
    "    diff = len(dataset.new.index) - len(dataset.old.index)\n",
    "    if diff > 0:\n",
    "        print('{:d}/{:d} values added in {}'.format(\n",
    "            diff, len(dataset.new.index), dataset.basename))\n",
    "    elif diff < 0:\n",
    "        print('{:d}/{:d} values removed in {}'.format(\n",
    "            -diff, len(dataset.old.index), dataset.basename))\n",
    "    else:\n",
    "        same_row_count_files += 1\n",
    "print('{:d}/{:d} files with the same number of rows'.format(\n",
    "    same_row_count_files, len(rome_data)))"
   ]
  },
  {
   "cell_type": "markdown",
   "metadata": {},
   "source": [
    "There are some minor changes in many files, except for the arborescence, which seems to have lost most of its content.\n",
    "\n",
    "## Climbing up the arborescence tree \n",
    "\n",
    "Let's look into `arborescence` more deeply, before looking at other files (a brief presentation of the tree structure in this dataset is done in [this notebook](../../research/jobbing/jobs_without_qualifications.ipynb)).\n",
    "It's describing a large tree of concepts grouped in 5 main subtrees defined by the code_type_referentiel field. In Bob we mainly use the branch Métiers accessibles sans diplôme et sans expérience of the subtree 7(code ROME)."
   ]
  },
  {
   "cell_type": "code",
   "execution_count": 6,
   "metadata": {},
   "outputs": [
    {
     "data": {
      "text/html": [
       "<div>\n",
       "<table border=\"1\" class=\"dataframe\">\n",
       "  <thead>\n",
       "    <tr style=\"text-align: right;\">\n",
       "      <th></th>\n",
       "      <th>code_type_referentiel</th>\n",
       "      <th>libelle_item_arbo</th>\n",
       "      <th>_merge</th>\n",
       "      <th>_diff</th>\n",
       "    </tr>\n",
       "  </thead>\n",
       "  <tbody>\n",
       "    <tr>\n",
       "      <th>0</th>\n",
       "      <td>10</td>\n",
       "      <td>Racine de l''arborescence d''item - environnem...</td>\n",
       "      <td>left_only</td>\n",
       "      <td>removed</td>\n",
       "    </tr>\n",
       "    <tr>\n",
       "      <th>1</th>\n",
       "      <td>6</td>\n",
       "      <td>Racine de l''arborescence principale</td>\n",
       "      <td>both</td>\n",
       "      <td>NaN</td>\n",
       "    </tr>\n",
       "    <tr>\n",
       "      <th>2</th>\n",
       "      <td>7</td>\n",
       "      <td>Racine de l''arborescence secondaire - code ROME</td>\n",
       "      <td>both</td>\n",
       "      <td>NaN</td>\n",
       "    </tr>\n",
       "    <tr>\n",
       "      <th>3</th>\n",
       "      <td>8</td>\n",
       "      <td>Racine de l''arborescence d''item - activite</td>\n",
       "      <td>left_only</td>\n",
       "      <td>removed</td>\n",
       "    </tr>\n",
       "    <tr>\n",
       "      <th>4</th>\n",
       "      <td>9</td>\n",
       "      <td>Racine de l''arborescence d''item - competence</td>\n",
       "      <td>left_only</td>\n",
       "      <td>removed</td>\n",
       "    </tr>\n",
       "  </tbody>\n",
       "</table>\n",
       "</div>"
      ],
      "text/plain": [
       "   code_type_referentiel                                  libelle_item_arbo  \\\n",
       "0                     10  Racine de l''arborescence d''item - environnem...   \n",
       "1                      6               Racine de l''arborescence principale   \n",
       "2                      7   Racine de l''arborescence secondaire - code ROME   \n",
       "3                      8       Racine de l''arborescence d''item - activite   \n",
       "4                      9     Racine de l''arborescence d''item - competence   \n",
       "\n",
       "      _merge    _diff  \n",
       "0  left_only  removed  \n",
       "1       both      NaN  \n",
       "2       both      NaN  \n",
       "3  left_only  removed  \n",
       "4  left_only  removed  "
      ]
     },
     "execution_count": 6,
     "metadata": {},
     "output_type": "execute_result"
    }
   ],
   "source": [
    "arborescence = find_rome_dataset_by_name(rome_data, 'item_arborescence')\n",
    "\n",
    "old_roots = arborescence.old[arborescence.old.libelle_type_noeud == 'RACINE']\n",
    "new_roots = arborescence.new[arborescence.new.libelle_type_noeud == 'RACINE']\n",
    "\n",
    "old = old_roots[['code_type_referentiel', 'libelle_item_arbo']]\n",
    "new = new_roots[['code_type_referentiel', 'libelle_item_arbo']]\n",
    "\n",
    "links_merged = old.merge(new, how='outer', indicator=True)\n",
    "links_merged['_diff'] = links_merged._merge.map({'left_only': 'removed', 'right_only': 'added'})\n",
    "links_merged.head()"
   ]
  },
  {
   "cell_type": "markdown",
   "metadata": {},
   "source": [
    "So three branches of the arborescence were trimmed, while the other two are kept. Subtrees for 'environnement de travail', 'activite' and 'competence' have been cut, while the principal subtree and the ROME subtree have been kept. According to \"Pôle emploi\", 'environnement de travail' was removed because it was done by hand and largely incomplete. The other two have been renamed 'savoir-faire' and 'savoirs', and moved outside the ROME (not sure where exactly, though)."
   ]
  },
  {
   "cell_type": "markdown",
   "metadata": {},
   "source": [
    "Let's see if there is much change in this file, once those subtrees are removed: "
   ]
  },
  {
   "cell_type": "code",
   "execution_count": 7,
   "metadata": {},
   "outputs": [
    {
     "name": "stdout",
     "output_type": "stream",
     "text": [
      "Titles removed: \"Sécurité et protection santé du BTP\"\n",
      "Titles added: \"Qualité Sécurité Environnement et protection santé du BTP\"\n"
     ]
    }
   ],
   "source": [
    "is_old_obsolete = arborescence.old.code_type_referentiel.isin(\n",
    "    links_merged.code_type_referentiel[links_merged._diff == 'removed'])\n",
    "old_arborescence_trimmed = arborescence.old[~is_old_obsolete]\n",
    "\n",
    "obsolete_arborescence_titles = set(\n",
    "    old_arborescence_trimmed.libelle_item_arbo) - set(\n",
    "    arborescence.new.libelle_item_arbo)\n",
    "new_arborescence_titles = set(\n",
    "    arborescence.new.libelle_item_arbo) - set(\n",
    "    old_arborescence_trimmed.libelle_item_arbo)\n",
    "\n",
    "print('Titles removed: \"{}\"'.format('\", \"'.join(obsolete_arborescence_titles)))\n",
    "print('Titles added: \"{}\"'.format('\", \"'.join(new_arborescence_titles)))\n",
    "\n"
   ]
  },
  {
   "cell_type": "markdown",
   "metadata": {},
   "source": [
    "Hmm... Only one obsolete and one new title, and they seem quite similar. Let's try and replace the old one with the new one, and compare the datasets."
   ]
  },
  {
   "cell_type": "code",
   "execution_count": 8,
   "metadata": {},
   "outputs": [
    {
     "data": {
      "text/html": [
       "<div>\n",
       "<table border=\"1\" class=\"dataframe\">\n",
       "  <thead>\n",
       "    <tr style=\"text-align: right;\">\n",
       "      <th></th>\n",
       "      <th>code_ogr</th>\n",
       "      <th>code_type_referentiel</th>\n",
       "      <th>code_pere</th>\n",
       "      <th>code_noeud</th>\n",
       "      <th>libelle_item_arbo</th>\n",
       "      <th>code_item_arbo_associe</th>\n",
       "      <th>code_type_noeud</th>\n",
       "      <th>libelle_type_noeud</th>\n",
       "      <th>statut</th>\n",
       "    </tr>\n",
       "  </thead>\n",
       "  <tbody>\n",
       "  </tbody>\n",
       "</table>\n",
       "</div>"
      ],
      "text/plain": [
       "Empty DataFrame\n",
       "Columns: [code_ogr, code_type_referentiel, code_pere, code_noeud, libelle_item_arbo, code_item_arbo_associe, code_type_noeud, libelle_type_noeud, statut]\n",
       "Index: []"
      ]
     },
     "execution_count": 8,
     "metadata": {},
     "output_type": "execute_result"
    }
   ],
   "source": [
    "arborescence.old.loc[~is_old_obsolete, 'libelle_item_arbo'] = old_arborescence_trimmed.libelle_item_arbo.str.replace(\n",
    "    'Sécurité et protection santé du BTP',\n",
    "    'Qualité Sécurité Environnement et protection santé du BTP')\n",
    "\n",
    "arborescence.old[arborescence.old.libelle_item_arbo == 'Sécurité et protection santé du BTP']"
   ]
  },
  {
   "cell_type": "code",
   "execution_count": 9,
   "metadata": {},
   "outputs": [
    {
     "data": {
      "text/plain": [
       "True"
      ]
     },
     "execution_count": 9,
     "metadata": {},
     "output_type": "execute_result"
    }
   ],
   "source": [
    "arborescence.old[~is_old_obsolete].reset_index(drop=True).to_json() == arborescence.new.reset_index(drop=True).to_json()"
   ]
  },
  {
   "cell_type": "markdown",
   "metadata": {},
   "source": [
    "Ok, so apart from changing a title, they are actually the same!\n",
    "\n",
    "So this dataset has seen a major change, but it is limited to dropping some branches\n",
    "and we weren't using them anyway, so this does not bother us too much.\n",
    "\n",
    "Let's take a look at the changes in the other datasets, especially those of interest to us.\n",
    "\n",
    "## Other changes\n",
    "\n",
    "The most interesting ones are in `referentiel_appellation`, `item`, and `liens_rome_referentiels`, so let's see more precisely."
   ]
  },
  {
   "cell_type": "code",
   "execution_count": 10,
   "metadata": {},
   "outputs": [
    {
     "data": {
      "image/png": "[encoded data removed]",
      "text/plain": [
       "<matplotlib.figure.Figure at 0x7fcaa118f358>"
      ]
     },
     "metadata": {
      "image/png": {
       "height": 238,
       "width": 235
      }
     },
     "output_type": "display_data"
    }
   ],
   "source": [
    "jobs = find_rome_dataset_by_name(rome_data, 'referentiel_appellation')\n",
    "\n",
    "new_jobs = set(jobs.new.code_ogr) - set(jobs.old.code_ogr)\n",
    "obsolete_jobs = set(jobs.old.code_ogr) - set(jobs.new.code_ogr)\n",
    "stable_jobs = set(jobs.new.code_ogr) & set(jobs.old.code_ogr)\n",
    "\n",
    "matplotlib_venn.venn2((len(obsolete_jobs), len(new_jobs), len(stable_jobs)), (OLD_VERSION, NEW_VERSION));"
   ]
  },
  {
   "cell_type": "markdown",
   "metadata": {},
   "source": [
    "Alright, so the only change seems to be 31 new jobs added. Let's take a look (only showing interesting fields):"
   ]
  },
  {
   "cell_type": "code",
   "execution_count": 11,
   "metadata": {},
   "outputs": [
    {
     "data": {
      "text/html": [
       "<div>\n",
       "<table border=\"1\" class=\"dataframe\">\n",
       "  <thead>\n",
       "    <tr style=\"text-align: right;\">\n",
       "      <th></th>\n",
       "      <th>code_ogr</th>\n",
       "      <th>libelle_appellation_long</th>\n",
       "      <th>code_rome</th>\n",
       "    </tr>\n",
       "  </thead>\n",
       "  <tbody>\n",
       "    <tr>\n",
       "      <th>3850</th>\n",
       "      <td>140877</td>\n",
       "      <td>Conducteur / Conductrice de tracteur enjambeur</td>\n",
       "      <td>A1101</td>\n",
       "    </tr>\n",
       "    <tr>\n",
       "      <th>3851</th>\n",
       "      <td>140878</td>\n",
       "      <td>Adjoint / Adjointe au responsable QSE - Qualit...</td>\n",
       "      <td>F1204</td>\n",
       "    </tr>\n",
       "    <tr>\n",
       "      <th>3852</th>\n",
       "      <td>140879</td>\n",
       "      <td>Animateur / Animatrice QSE - Qualité Sécurité ...</td>\n",
       "      <td>F1204</td>\n",
       "    </tr>\n",
       "    <tr>\n",
       "      <th>3854</th>\n",
       "      <td>140880</td>\n",
       "      <td>Chargé / Chargée de mission QSE - Qualité Sécu...</td>\n",
       "      <td>F1204</td>\n",
       "    </tr>\n",
       "    <tr>\n",
       "      <th>3855</th>\n",
       "      <td>140881</td>\n",
       "      <td>Ingénieur / Ingénieure HSE - Hygiène Sécurité ...</td>\n",
       "      <td>F1204</td>\n",
       "    </tr>\n",
       "    <tr>\n",
       "      <th>3856</th>\n",
       "      <td>140882</td>\n",
       "      <td>Ingénieur /Ingénieure QHSE - Qualité Hygiène S...</td>\n",
       "      <td>F1204</td>\n",
       "    </tr>\n",
       "    <tr>\n",
       "      <th>3857</th>\n",
       "      <td>140883</td>\n",
       "      <td>Responsable qualité sécurité développement dur...</td>\n",
       "      <td>F1204</td>\n",
       "    </tr>\n",
       "    <tr>\n",
       "      <th>3858</th>\n",
       "      <td>140884</td>\n",
       "      <td>Responsable HSE - Hygiène Sécurité Environneme...</td>\n",
       "      <td>F1204</td>\n",
       "    </tr>\n",
       "    <tr>\n",
       "      <th>3859</th>\n",
       "      <td>140885</td>\n",
       "      <td>Responsable QSE - Qualité Sécurité Environneme...</td>\n",
       "      <td>F1204</td>\n",
       "    </tr>\n",
       "    <tr>\n",
       "      <th>3860</th>\n",
       "      <td>140886</td>\n",
       "      <td>Technicien / Technicienne QSE - Qualité Sécuri...</td>\n",
       "      <td>F1204</td>\n",
       "    </tr>\n",
       "    <tr>\n",
       "      <th>3861</th>\n",
       "      <td>140887</td>\n",
       "      <td>Conducteur / Conductrice de raboteuse de chaussée</td>\n",
       "      <td>F1302</td>\n",
       "    </tr>\n",
       "    <tr>\n",
       "      <th>3862</th>\n",
       "      <td>140888</td>\n",
       "      <td>Moniteur / Monitrice de basketball</td>\n",
       "      <td>G1204</td>\n",
       "    </tr>\n",
       "    <tr>\n",
       "      <th>3863</th>\n",
       "      <td>140889</td>\n",
       "      <td>Moniteur / Monitrice d''équitation</td>\n",
       "      <td>G1204</td>\n",
       "    </tr>\n",
       "    <tr>\n",
       "      <th>3865</th>\n",
       "      <td>140890</td>\n",
       "      <td>Moniteur / Monitrice de fitness musculation</td>\n",
       "      <td>G1204</td>\n",
       "    </tr>\n",
       "    <tr>\n",
       "      <th>3866</th>\n",
       "      <td>140891</td>\n",
       "      <td>Moniteur / Monitrice de golf</td>\n",
       "      <td>G1204</td>\n",
       "    </tr>\n",
       "    <tr>\n",
       "      <th>3867</th>\n",
       "      <td>140892</td>\n",
       "      <td>Moniteur / Monitrice de gymnastique</td>\n",
       "      <td>G1204</td>\n",
       "    </tr>\n",
       "    <tr>\n",
       "      <th>3868</th>\n",
       "      <td>140893</td>\n",
       "      <td>Moniteur / Monitrice de handball</td>\n",
       "      <td>G1204</td>\n",
       "    </tr>\n",
       "    <tr>\n",
       "      <th>3869</th>\n",
       "      <td>140894</td>\n",
       "      <td>Moniteur / Monitrice de judo</td>\n",
       "      <td>G1204</td>\n",
       "    </tr>\n",
       "    <tr>\n",
       "      <th>3870</th>\n",
       "      <td>140895</td>\n",
       "      <td>Moniteur / Monitrice de karaté</td>\n",
       "      <td>G1204</td>\n",
       "    </tr>\n",
       "    <tr>\n",
       "      <th>3871</th>\n",
       "      <td>140896</td>\n",
       "      <td>Moniteur / Monitrice de natation</td>\n",
       "      <td>G1204</td>\n",
       "    </tr>\n",
       "    <tr>\n",
       "      <th>3872</th>\n",
       "      <td>140897</td>\n",
       "      <td>Moniteur / Monitrice de plongée</td>\n",
       "      <td>G1204</td>\n",
       "    </tr>\n",
       "    <tr>\n",
       "      <th>3873</th>\n",
       "      <td>140898</td>\n",
       "      <td>Moniteur / Monitrice de rugby</td>\n",
       "      <td>G1204</td>\n",
       "    </tr>\n",
       "    <tr>\n",
       "      <th>3874</th>\n",
       "      <td>140899</td>\n",
       "      <td>Moniteur / Monitrice de ski alpin</td>\n",
       "      <td>G1204</td>\n",
       "    </tr>\n",
       "    <tr>\n",
       "      <th>3876</th>\n",
       "      <td>140900</td>\n",
       "      <td>Moniteur / Monitrice de tennis</td>\n",
       "      <td>G1204</td>\n",
       "    </tr>\n",
       "    <tr>\n",
       "      <th>3877</th>\n",
       "      <td>140901</td>\n",
       "      <td>Moniteur / Monitrice de tennis de table</td>\n",
       "      <td>G1204</td>\n",
       "    </tr>\n",
       "    <tr>\n",
       "      <th>3878</th>\n",
       "      <td>140902</td>\n",
       "      <td>Moniteur / Monitrice de voile</td>\n",
       "      <td>G1204</td>\n",
       "    </tr>\n",
       "    <tr>\n",
       "      <th>3879</th>\n",
       "      <td>140903</td>\n",
       "      <td>Procurement manager</td>\n",
       "      <td>M1102</td>\n",
       "    </tr>\n",
       "    <tr>\n",
       "      <th>3880</th>\n",
       "      <td>140904</td>\n",
       "      <td>Télésecrétaire médical / médicale</td>\n",
       "      <td>M1609</td>\n",
       "    </tr>\n",
       "    <tr>\n",
       "      <th>3881</th>\n",
       "      <td>140905</td>\n",
       "      <td>Gestionnaire de contrats de vente - Contract m...</td>\n",
       "      <td>M1701</td>\n",
       "    </tr>\n",
       "    <tr>\n",
       "      <th>3882</th>\n",
       "      <td>140906</td>\n",
       "      <td>Gestionnaire de planning e-mailing</td>\n",
       "      <td>M1705</td>\n",
       "    </tr>\n",
       "    <tr>\n",
       "      <th>3883</th>\n",
       "      <td>140907</td>\n",
       "      <td>Pharmacien / Pharmacienne responsable BPDO - b...</td>\n",
       "      <td>J1202</td>\n",
       "    </tr>\n",
       "  </tbody>\n",
       "</table>\n",
       "</div>"
      ],
      "text/plain": [
       "      code_ogr                           libelle_appellation_long code_rome\n",
       "3850    140877     Conducteur / Conductrice de tracteur enjambeur     A1101\n",
       "3851    140878  Adjoint / Adjointe au responsable QSE - Qualit...     F1204\n",
       "3852    140879  Animateur / Animatrice QSE - Qualité Sécurité ...     F1204\n",
       "3854    140880  Chargé / Chargée de mission QSE - Qualité Sécu...     F1204\n",
       "3855    140881  Ingénieur / Ingénieure HSE - Hygiène Sécurité ...     F1204\n",
       "3856    140882  Ingénieur /Ingénieure QHSE - Qualité Hygiène S...     F1204\n",
       "3857    140883  Responsable qualité sécurité développement dur...     F1204\n",
       "3858    140884  Responsable HSE - Hygiène Sécurité Environneme...     F1204\n",
       "3859    140885  Responsable QSE - Qualité Sécurité Environneme...     F1204\n",
       "3860    140886  Technicien / Technicienne QSE - Qualité Sécuri...     F1204\n",
       "3861    140887  Conducteur / Conductrice de raboteuse de chaussée     F1302\n",
       "3862    140888                 Moniteur / Monitrice de basketball     G1204\n",
       "3863    140889                 Moniteur / Monitrice d''équitation     G1204\n",
       "3865    140890        Moniteur / Monitrice de fitness musculation     G1204\n",
       "3866    140891                       Moniteur / Monitrice de golf     G1204\n",
       "3867    140892                Moniteur / Monitrice de gymnastique     G1204\n",
       "3868    140893                   Moniteur / Monitrice de handball     G1204\n",
       "3869    140894                       Moniteur / Monitrice de judo     G1204\n",
       "3870    140895                     Moniteur / Monitrice de karaté     G1204\n",
       "3871    140896                   Moniteur / Monitrice de natation     G1204\n",
       "3872    140897                    Moniteur / Monitrice de plongée     G1204\n",
       "3873    140898                      Moniteur / Monitrice de rugby     G1204\n",
       "3874    140899                  Moniteur / Monitrice de ski alpin     G1204\n",
       "3876    140900                     Moniteur / Monitrice de tennis     G1204\n",
       "3877    140901            Moniteur / Monitrice de tennis de table     G1204\n",
       "3878    140902                      Moniteur / Monitrice de voile     G1204\n",
       "3879    140903                                Procurement manager     M1102\n",
       "3880    140904                  Télésecrétaire médical / médicale     M1609\n",
       "3881    140905  Gestionnaire de contrats de vente - Contract m...     M1701\n",
       "3882    140906                 Gestionnaire de planning e-mailing     M1705\n",
       "3883    140907  Pharmacien / Pharmacienne responsable BPDO - b...     J1202"
      ]
     },
     "execution_count": 11,
     "metadata": {},
     "output_type": "execute_result"
    }
   ],
   "source": [
    "jobs.new[jobs.new.code_ogr.isin(new_jobs)][['code_ogr', 'libelle_appellation_long', 'code_rome']]"
   ]
  },
  {
   "cell_type": "markdown",
   "metadata": {},
   "source": [
    "There seems to be a few different domain where new jobs were added, mainly construction security and sport instructors.\n",
    "\n",
    "OK, let's check at the changes in items:"
   ]
  },
  {
   "cell_type": "code",
   "execution_count": 12,
   "metadata": {},
   "outputs": [
    {
     "data": {
      "image/png": "[encoded data removed]",
      "text/plain": [
       "<matplotlib.figure.Figure at 0x7fca6b6ccef0>"
      ]
     },
     "metadata": {
      "image/png": {
       "height": 238,
       "width": 235
      }
     },
     "output_type": "display_data"
    }
   ],
   "source": [
    "items = find_rome_dataset_by_name(rome_data, 'item')\n",
    "\n",
    "new_items = set(items.new.code_ogr) - set(items.old.code_ogr)\n",
    "obsolete_items = set(items.old.code_ogr) - set(items.new.code_ogr)\n",
    "stable_items = set(items.new.code_ogr) & set(items.old.code_ogr)\n",
    "\n",
    "matplotlib_venn.venn2((len(obsolete_items), len(new_items), len(stable_items)), (OLD_VERSION, NEW_VERSION));"
   ]
  },
  {
   "cell_type": "markdown",
   "metadata": {},
   "source": [
    "As anticipated it is a very minor change (hard to see it visually): some items are now obsolete and new ones have been created. Let's have a look."
   ]
  },
  {
   "cell_type": "code",
   "execution_count": 13,
   "metadata": {},
   "outputs": [
    {
     "data": {
      "text/html": [
       "<div>\n",
       "<table border=\"1\" class=\"dataframe\">\n",
       "  <thead>\n",
       "    <tr style=\"text-align: right;\">\n",
       "      <th></th>\n",
       "      <th>code_ogr</th>\n",
       "      <th>libelle</th>\n",
       "      <th>code_type_referentiel</th>\n",
       "      <th>code_ref_rubrique</th>\n",
       "      <th>code_tete_rgpmt</th>\n",
       "      <th>libelle_activite_impression</th>\n",
       "      <th>libelle_en_tete_regroupement</th>\n",
       "    </tr>\n",
       "  </thead>\n",
       "  <tbody>\n",
       "    <tr>\n",
       "      <th>9721</th>\n",
       "      <td>123269</td>\n",
       "      <td>Organiser le planning d''un chantier</td>\n",
       "      <td>2</td>\n",
       "      <td>6</td>\n",
       "      <td>NaN</td>\n",
       "      <td>NaN</td>\n",
       "      <td>NaN</td>\n",
       "    </tr>\n",
       "    <tr>\n",
       "      <th>9925</th>\n",
       "      <td>123523</td>\n",
       "      <td>Conditionner un produit artisanal</td>\n",
       "      <td>2</td>\n",
       "      <td>9</td>\n",
       "      <td>NaN</td>\n",
       "      <td>NaN</td>\n",
       "      <td>NaN</td>\n",
       "    </tr>\n",
       "    <tr>\n",
       "      <th>11372</th>\n",
       "      <td>125052</td>\n",
       "      <td>Moteurs hors-bord</td>\n",
       "      <td>1</td>\n",
       "      <td>10</td>\n",
       "      <td>NaN</td>\n",
       "      <td>NaN</td>\n",
       "      <td>NaN</td>\n",
       "    </tr>\n",
       "    <tr>\n",
       "      <th>11374</th>\n",
       "      <td>125054</td>\n",
       "      <td>Moteurs in-bord</td>\n",
       "      <td>1</td>\n",
       "      <td>10</td>\n",
       "      <td>NaN</td>\n",
       "      <td>NaN</td>\n",
       "      <td>NaN</td>\n",
       "    </tr>\n",
       "    <tr>\n",
       "      <th>12441</th>\n",
       "      <td>126344</td>\n",
       "      <td>Capacité professionnelle à la conduite de taxis</td>\n",
       "      <td>1</td>\n",
       "      <td>10</td>\n",
       "      <td>NaN</td>\n",
       "      <td>NaN</td>\n",
       "      <td>NaN</td>\n",
       "    </tr>\n",
       "  </tbody>\n",
       "</table>\n",
       "</div>"
      ],
      "text/plain": [
       "       code_ogr                                          libelle  \\\n",
       "9721     123269             Organiser le planning d''un chantier   \n",
       "9925     123523                Conditionner un produit artisanal   \n",
       "11372    125052                                Moteurs hors-bord   \n",
       "11374    125054                                  Moteurs in-bord   \n",
       "12441    126344  Capacité professionnelle à la conduite de taxis   \n",
       "\n",
       "       code_type_referentiel  code_ref_rubrique  code_tete_rgpmt  \\\n",
       "9721                       2                  6              NaN   \n",
       "9925                       2                  9              NaN   \n",
       "11372                      1                 10              NaN   \n",
       "11374                      1                 10              NaN   \n",
       "12441                      1                 10              NaN   \n",
       "\n",
       "       libelle_activite_impression  libelle_en_tete_regroupement  \n",
       "9721                           NaN                           NaN  \n",
       "9925                           NaN                           NaN  \n",
       "11372                          NaN                           NaN  \n",
       "11374                          NaN                           NaN  \n",
       "12441                          NaN                           NaN  "
      ]
     },
     "execution_count": 13,
     "metadata": {},
     "output_type": "execute_result"
    }
   ],
   "source": [
    "items.old[items.old.code_ogr.isin(obsolete_items)].tail()"
   ]
  },
  {
   "cell_type": "code",
   "execution_count": 14,
   "metadata": {},
   "outputs": [
    {
     "data": {
      "text/html": [
       "<div>\n",
       "<table border=\"1\" class=\"dataframe\">\n",
       "  <thead>\n",
       "    <tr style=\"text-align: right;\">\n",
       "      <th></th>\n",
       "      <th>code_ogr</th>\n",
       "      <th>libelle</th>\n",
       "      <th>code_type_referentiel</th>\n",
       "      <th>code_ref_rubrique</th>\n",
       "      <th>code_tete_rgpmt</th>\n",
       "      <th>libelle_activite_impression</th>\n",
       "      <th>libelle_en_tete_regroupement</th>\n",
       "    </tr>\n",
       "  </thead>\n",
       "  <tbody>\n",
       "    <tr>\n",
       "      <th>3252</th>\n",
       "      <td>106636</td>\n",
       "      <td>Superviser un parc de véhicules et engins de t...</td>\n",
       "      <td>2</td>\n",
       "      <td>9</td>\n",
       "      <td>NaN</td>\n",
       "      <td>NaN</td>\n",
       "      <td>NaN</td>\n",
       "    </tr>\n",
       "    <tr>\n",
       "      <th>6531</th>\n",
       "      <td>117742</td>\n",
       "      <td>Indicateurs Qualité Sécurité Environnement (QSE)</td>\n",
       "      <td>1</td>\n",
       "      <td>7</td>\n",
       "      <td>NaN</td>\n",
       "      <td>NaN</td>\n",
       "      <td>NaN</td>\n",
       "    </tr>\n",
       "    <tr>\n",
       "      <th>7488</th>\n",
       "      <td>119783</td>\n",
       "      <td>Réaliser un suivi des carrières</td>\n",
       "      <td>2</td>\n",
       "      <td>9</td>\n",
       "      <td>NaN</td>\n",
       "      <td>NaN</td>\n",
       "      <td>NaN</td>\n",
       "    </tr>\n",
       "    <tr>\n",
       "      <th>7759</th>\n",
       "      <td>120445</td>\n",
       "      <td>Pratique de la randonnée</td>\n",
       "      <td>1</td>\n",
       "      <td>10</td>\n",
       "      <td>NaN</td>\n",
       "      <td>NaN</td>\n",
       "      <td>NaN</td>\n",
       "    </tr>\n",
       "    <tr>\n",
       "      <th>9817</th>\n",
       "      <td>123385</td>\n",
       "      <td>Gérer la location d''un patrimoine immobilier</td>\n",
       "      <td>2</td>\n",
       "      <td>9</td>\n",
       "      <td>NaN</td>\n",
       "      <td>NaN</td>\n",
       "      <td>NaN</td>\n",
       "    </tr>\n",
       "  </tbody>\n",
       "</table>\n",
       "</div>"
      ],
      "text/plain": [
       "      code_ogr                                            libelle  \\\n",
       "3252    106636  Superviser un parc de véhicules et engins de t...   \n",
       "6531    117742   Indicateurs Qualité Sécurité Environnement (QSE)   \n",
       "7488    119783                    Réaliser un suivi des carrières   \n",
       "7759    120445                           Pratique de la randonnée   \n",
       "9817    123385      Gérer la location d''un patrimoine immobilier   \n",
       "\n",
       "      code_type_referentiel  code_ref_rubrique  code_tete_rgpmt  \\\n",
       "3252                      2                  9              NaN   \n",
       "6531                      1                  7              NaN   \n",
       "7488                      2                  9              NaN   \n",
       "7759                      1                 10              NaN   \n",
       "9817                      2                  9              NaN   \n",
       "\n",
       "      libelle_activite_impression  libelle_en_tete_regroupement  \n",
       "3252                          NaN                           NaN  \n",
       "6531                          NaN                           NaN  \n",
       "7488                          NaN                           NaN  \n",
       "7759                          NaN                           NaN  \n",
       "9817                          NaN                           NaN  "
      ]
     },
     "execution_count": 14,
     "metadata": {},
     "output_type": "execute_result"
    }
   ],
   "source": [
    "items.new[items.new.code_ogr.isin(new_items)].head()"
   ]
  },
  {
   "cell_type": "markdown",
   "metadata": {},
   "source": [
    "Those entries look legitimate.\n",
    "\n",
    "The changes in `liens_rome_referentiels` include changes for those items, so let's only check the changes not related to those."
   ]
  },
  {
   "cell_type": "code",
   "execution_count": 15,
   "metadata": {},
   "outputs": [
    {
     "data": {
      "text/plain": [
       "added      167\n",
       "removed    149\n",
       "Name: _diff, dtype: int64"
      ]
     },
     "execution_count": 15,
     "metadata": {},
     "output_type": "execute_result"
    }
   ],
   "source": [
    "links = find_rome_dataset_by_name(rome_data, 'liens_rome_referentiels')\n",
    "old_links_on_stable_items = links.old[links.old.code_ogr.isin(stable_items)]\n",
    "new_links_on_stable_items = links.new[links.new.code_ogr.isin(stable_items)]\n",
    "\n",
    "old = old_links_on_stable_items[['code_rome', 'code_ogr']]\n",
    "new = new_links_on_stable_items[['code_rome', 'code_ogr']]\n",
    "\n",
    "links_merged = old.merge(new, how='outer', indicator=True)\n",
    "links_merged['_diff'] = links_merged._merge.map({'left_only': 'removed', 'right_only': 'added'})\n",
    "links_merged._diff.value_counts()"
   ]
  },
  {
   "cell_type": "markdown",
   "metadata": {},
   "source": [
    "So in addition to the added and removed items, there are 316 fixes. Let's have a look:"
   ]
  },
  {
   "cell_type": "code",
   "execution_count": 16,
   "metadata": {},
   "outputs": [
    {
     "data": {
      "text/html": [
       "<div>\n",
       "<table border=\"1\" class=\"dataframe\">\n",
       "  <thead>\n",
       "    <tr style=\"text-align: right;\">\n",
       "      <th></th>\n",
       "      <th>code_rome</th>\n",
       "      <th>code_ogr</th>\n",
       "      <th>_merge</th>\n",
       "      <th>_diff</th>\n",
       "      <th>job_group_name</th>\n",
       "      <th>item_name</th>\n",
       "    </tr>\n",
       "  </thead>\n",
       "  <tbody>\n",
       "    <tr>\n",
       "      <th>30692</th>\n",
       "      <td>C1502</td>\n",
       "      <td>102694</td>\n",
       "      <td>right_only</td>\n",
       "      <td>added</td>\n",
       "      <td>Gestion locative immobilière</td>\n",
       "      <td>Renseigner les supports de suivi d''interventi...</td>\n",
       "    </tr>\n",
       "    <tr>\n",
       "      <th>30693</th>\n",
       "      <td>B1301</td>\n",
       "      <td>121060</td>\n",
       "      <td>right_only</td>\n",
       "      <td>added</td>\n",
       "      <td>Décoration d''espaces de vente et d''exposition</td>\n",
       "      <td>Former du personnel à des procédures et techni...</td>\n",
       "    </tr>\n",
       "    <tr>\n",
       "      <th>30694</th>\n",
       "      <td>E1203</td>\n",
       "      <td>121060</td>\n",
       "      <td>right_only</td>\n",
       "      <td>added</td>\n",
       "      <td>Production en laboratoire photographique</td>\n",
       "      <td>Former du personnel à des procédures et techni...</td>\n",
       "    </tr>\n",
       "    <tr>\n",
       "      <th>30695</th>\n",
       "      <td>E1202</td>\n",
       "      <td>121060</td>\n",
       "      <td>right_only</td>\n",
       "      <td>added</td>\n",
       "      <td>Production en laboratoire cinématographique</td>\n",
       "      <td>Former du personnel à des procédures et techni...</td>\n",
       "    </tr>\n",
       "    <tr>\n",
       "      <th>30696</th>\n",
       "      <td>E1302</td>\n",
       "      <td>102694</td>\n",
       "      <td>right_only</td>\n",
       "      <td>added</td>\n",
       "      <td>Conduite de machines de façonnage routage</td>\n",
       "      <td>Renseigner les supports de suivi d''interventi...</td>\n",
       "    </tr>\n",
       "  </tbody>\n",
       "</table>\n",
       "</div>"
      ],
      "text/plain": [
       "      code_rome  code_ogr      _merge  _diff  \\\n",
       "30692     C1502    102694  right_only  added   \n",
       "30693     B1301    121060  right_only  added   \n",
       "30694     E1203    121060  right_only  added   \n",
       "30695     E1202    121060  right_only  added   \n",
       "30696     E1302    102694  right_only  added   \n",
       "\n",
       "                                        job_group_name  \\\n",
       "30692                     Gestion locative immobilière   \n",
       "30693  Décoration d''espaces de vente et d''exposition   \n",
       "30694         Production en laboratoire photographique   \n",
       "30695      Production en laboratoire cinématographique   \n",
       "30696        Conduite de machines de façonnage routage   \n",
       "\n",
       "                                               item_name  \n",
       "30692  Renseigner les supports de suivi d''interventi...  \n",
       "30693  Former du personnel à des procédures et techni...  \n",
       "30694  Former du personnel à des procédures et techni...  \n",
       "30695  Former du personnel à des procédures et techni...  \n",
       "30696  Renseigner les supports de suivi d''interventi...  "
      ]
     },
     "execution_count": 16,
     "metadata": {},
     "output_type": "execute_result"
    }
   ],
   "source": [
    "job_group_names = find_rome_dataset_by_name(rome_data, 'referentiel_code_rome').old.set_index('code_rome').libelle_rome\n",
    "item_names = items.new.set_index('code_ogr').libelle.drop_duplicates()\n",
    "links_merged['job_group_name'] = links_merged.code_rome.map(job_group_names)\n",
    "links_merged['item_name'] = links_merged.code_ogr.map(item_names)\n",
    "links_merged[links_merged._diff == 'added'].head()"
   ]
  },
  {
   "cell_type": "markdown",
   "metadata": {},
   "source": [
    "Those fixes make sense (not sure why they were not done before, but let's not complain: it is fixed now)."
   ]
  },
  {
   "cell_type": "code",
   "execution_count": 17,
   "metadata": {},
   "outputs": [
    {
     "data": {
      "text/html": [
       "<div>\n",
       "<table border=\"1\" class=\"dataframe\">\n",
       "  <thead>\n",
       "    <tr style=\"text-align: right;\">\n",
       "      <th></th>\n",
       "      <th>code_rome</th>\n",
       "      <th>code_ogr</th>\n",
       "      <th>_merge</th>\n",
       "      <th>_diff</th>\n",
       "      <th>job_group_name</th>\n",
       "      <th>item_name</th>\n",
       "    </tr>\n",
       "  </thead>\n",
       "  <tbody>\n",
       "    <tr>\n",
       "      <th>134</th>\n",
       "      <td>C1502</td>\n",
       "      <td>124083</td>\n",
       "      <td>left_only</td>\n",
       "      <td>removed</td>\n",
       "      <td>Gestion locative immobilière</td>\n",
       "      <td>Réaliser des actions de communication interne</td>\n",
       "    </tr>\n",
       "    <tr>\n",
       "      <th>231</th>\n",
       "      <td>C1501</td>\n",
       "      <td>119084</td>\n",
       "      <td>left_only</td>\n",
       "      <td>removed</td>\n",
       "      <td>Gérance immobilière</td>\n",
       "      <td>Coordonner et superviser la gestion du patrimoine mobilier et immobilier</td>\n",
       "    </tr>\n",
       "    <tr>\n",
       "      <th>1124</th>\n",
       "      <td>B1301</td>\n",
       "      <td>123036</td>\n",
       "      <td>left_only</td>\n",
       "      <td>removed</td>\n",
       "      <td>Décoration d''espaces de vente et d''exposition</td>\n",
       "      <td>Former un public</td>\n",
       "    </tr>\n",
       "    <tr>\n",
       "      <th>2113</th>\n",
       "      <td>E1203</td>\n",
       "      <td>123036</td>\n",
       "      <td>left_only</td>\n",
       "      <td>removed</td>\n",
       "      <td>Production en laboratoire photographique</td>\n",
       "      <td>Former un public</td>\n",
       "    </tr>\n",
       "    <tr>\n",
       "      <th>2115</th>\n",
       "      <td>E1203</td>\n",
       "      <td>123466</td>\n",
       "      <td>left_only</td>\n",
       "      <td>removed</td>\n",
       "      <td>Production en laboratoire photographique</td>\n",
       "      <td>Sensibiliser et former les personnels aux consignes de sécurité et de prévention</td>\n",
       "    </tr>\n",
       "  </tbody>\n",
       "</table>\n",
       "</div>"
      ],
      "text/plain": [
       "     code_rome  code_ogr     _merge    _diff  \\\n",
       "134      C1502    124083  left_only  removed   \n",
       "231      C1501    119084  left_only  removed   \n",
       "1124     B1301    123036  left_only  removed   \n",
       "2113     E1203    123036  left_only  removed   \n",
       "2115     E1203    123466  left_only  removed   \n",
       "\n",
       "                                       job_group_name  \\\n",
       "134                      Gestion locative immobilière   \n",
       "231                               Gérance immobilière   \n",
       "1124  Décoration d''espaces de vente et d''exposition   \n",
       "2113         Production en laboratoire photographique   \n",
       "2115         Production en laboratoire photographique   \n",
       "\n",
       "                                                                             item_name  \n",
       "134                                      Réaliser des actions de communication interne  \n",
       "231           Coordonner et superviser la gestion du patrimoine mobilier et immobilier  \n",
       "1124                                                                  Former un public  \n",
       "2113                                                                  Former un public  \n",
       "2115  Sensibiliser et former les personnels aux consignes de sécurité et de prévention  "
      ]
     },
     "execution_count": 17,
     "metadata": {},
     "output_type": "execute_result"
    }
   ],
   "source": [
    "links_merged[links_merged._diff == 'removed'].head()"
   ]
  },
  {
   "cell_type": "markdown",
   "metadata": {},
   "source": [
    "Seems alright here too, those skills are not really mandatory for those jobs."
   ]
  },
  {
   "cell_type": "markdown",
   "metadata": {},
   "source": [
    "# Conclusion\n",
    "\n",
    "The new version of ROME, v334, introduces very minor changes which reflect quite well what they wrote in their [changelog](http://www.pole-emploi.org/files/live/sites/peorg/files/documents/Statistiques-et-analyses/Open-data/ROME/ROME_AppropriationThematique.pdf). The transition should be transparent with a very small advantage over the old version.\n",
    "\n",
    "However, a whole part of the arborescence was dropped, without any explanation or apparent reason. It has no impact on Bob for now, since we don't use it much yet, but we should investigate the matter with Pole emploi, because we might need it more in the future."
   ]
  }
 ],
 "metadata": {
  "kernelspec": {
   "display_name": "Python 3",
   "language": "python",
   "name": "python3"
  },
  "language_info": {
   "codemirror_mode": {
    "name": "ipython",
    "version": 3
   },
   "file_extension": ".py",
   "mimetype": "text/x-python",
   "name": "python",
   "nbconvert_exporter": "python",
   "pygments_lexer": "ipython3",
   "version": "3.6.5"
  }
 },
 "nbformat": 4,
 "nbformat_minor": 1
}
