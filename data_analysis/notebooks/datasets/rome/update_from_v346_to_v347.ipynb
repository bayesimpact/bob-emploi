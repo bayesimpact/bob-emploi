{
 "cells": [
  {
   "cell_type": "markdown",
   "metadata": {},
   "source": [
    "Author: Émilie, emilie@bayesimpact.org\n",
    "\n",
    "Date: 2021-06-15\n",
    "\n",
    "# ROME update from v346 to v347\n",
    "\n",
    "In June 2021 a new version of the ROME was released. I want to investigate what changed and whether we need to do anything about it.\n",
    "\n",
    "You might not be able to reproduce this notebook, mostly because it requires to have the two versions of the ROME in your `data/rome/csv` folder which happens only just before we switch to v346. You will have to trust me on the results ;-)\n",
    "\n",
    "Skip the run test because it requires older versions of the ROME."
   ]
  },
  {
   "cell_type": "code",
   "execution_count": 1,
   "metadata": {},
   "outputs": [],
   "source": [
    "import collections\n",
    "import glob\n",
    "import os\n",
    "from os import path\n",
    "\n",
    "import matplotlib_venn\n",
    "import pandas as pd\n",
    "\n",
    "rome_path = path.join(os.getenv('DATA_FOLDER'), 'rome/csv')\n",
    "\n",
    "OLD_VERSION = '346'\n",
    "NEW_VERSION = '347'\n",
    "\n",
    "old_version_files = frozenset(glob.glob(rome_path + '/*{}*'.format(OLD_VERSION)))\n",
    "new_version_files = frozenset(glob.glob(rome_path + '/*{}*'.format(NEW_VERSION)))"
   ]
  },
  {
   "cell_type": "markdown",
   "metadata": {},
   "source": [
    "First let's check if there are new or deleted files (only matching by file names)."
   ]
  },
  {
   "cell_type": "code",
   "execution_count": 2,
   "metadata": {},
   "outputs": [
    {
     "name": "stdout",
     "output_type": "stream",
     "text": [
      "0 new files\n",
      "0 deleted files\n"
     ]
    }
   ],
   "source": [
    "new_files = new_version_files - frozenset(f.replace(OLD_VERSION, NEW_VERSION) for f in old_version_files)\n",
    "deleted_files = old_version_files - frozenset(f.replace(NEW_VERSION, OLD_VERSION) for f in new_version_files)\n",
    "\n",
    "print('{:d} new files'.format(len(new_files)))\n",
    "print('{:d} deleted files'.format(len(deleted_files)))"
   ]
  },
  {
   "cell_type": "markdown",
   "metadata": {},
   "source": [
    "Cool, no new nor deleted files.\n",
    "\n",
    "Now let's set up a dataset that, for each table, links both the old and the new file together."
   ]
  },
  {
   "cell_type": "code",
   "execution_count": 3,
   "metadata": {},
   "outputs": [],
   "source": [
    "# Load all ROME datasets for the two versions we compare.\n",
    "VersionedDataset = collections.namedtuple('VersionedDataset', ['basename', 'old', 'new'])\n",
    "def read_csv(filename):\n",
    "    try:\n",
    "        return pd.read_csv(filename)\n",
    "    except pd.errors.ParserError:\n",
    "        display(f'While parsing: {filename}')\n",
    "        raise\n",
    "\n",
    "rome_data = [VersionedDataset(\n",
    "        basename=path.basename(f),\n",
    "        old=read_csv(f.replace(NEW_VERSION, OLD_VERSION)),\n",
    "        new=read_csv(f))\n",
    "    for f in sorted(new_version_files)]\n",
    "\n",
    "def find_rome_dataset_by_name(data, partial_name):\n",
    "    for dataset in data:\n",
    "        if 'unix_{}_v{}_utf8.csv'.format(partial_name, NEW_VERSION) == dataset.basename:\n",
    "            return dataset\n",
    "    raise ValueError('No dataset named {}, the list is\\n{}'.format(partial_name, [d.basename for d in data]))"
   ]
  },
  {
   "cell_type": "markdown",
   "metadata": {},
   "source": [
    "Let's make sure the structure hasn't changed:"
   ]
  },
  {
   "cell_type": "code",
   "execution_count": 4,
   "metadata": {},
   "outputs": [],
   "source": [
    "for dataset in rome_data:\n",
    "    if set(dataset.old.columns) != set(dataset.new.columns):\n",
    "        print('Columns of {} have changed.'.format(dataset.basename))"
   ]
  },
  {
   "cell_type": "markdown",
   "metadata": {},
   "source": [
    "OK no columns have changed.\n",
    "\n",
    "Now let's see for each file if there are more or less rows."
   ]
  },
  {
   "cell_type": "code",
   "execution_count": 5,
   "metadata": {},
   "outputs": [
    {
     "name": "stdout",
     "output_type": "stream",
     "text": [
      "30/32321 values added in unix_coherence_item_v347_utf8.csv\n",
      "6/11774 values added in unix_cr_gd_dp_appellations_v347_utf8.csv\n",
      "8/13670 values added in unix_item_v347_utf8.csv\n",
      "36/43971 values added in unix_liens_rome_referentiels_v347_utf8.csv\n",
      "6/11118 values added in unix_referentiel_appellation_v347_utf8.csv\n",
      "4/5054 values added in unix_texte_v347_utf8.csv\n",
      "14/20 files with the same number of rows\n"
     ]
    }
   ],
   "source": [
    "same_row_count_files = 0\n",
    "for dataset in rome_data:\n",
    "    diff = len(dataset.new.index) - len(dataset.old.index)\n",
    "    if diff > 0:\n",
    "        print('{:d}/{:d} values added in {}'.format(\n",
    "            diff, len(dataset.new.index), dataset.basename))\n",
    "    elif diff < 0:\n",
    "        print('{:d}/{:d} values removed in {}'.format(\n",
    "            -diff, len(dataset.old.index), dataset.basename))\n",
    "    else:\n",
    "        same_row_count_files += 1\n",
    "print('{:d}/{:d} files with the same number of rows'.format(\n",
    "    same_row_count_files, len(rome_data)))"
   ]
  },
  {
   "cell_type": "markdown",
   "metadata": {},
   "source": [
    "There are some minor changes in many files, but based on my knowledge of ROME, none from the main files.\n",
    "\n",
    "The most interesting ones are in `referentiel_appellation` and `liens_rome_referentiels`, so let's see more precisely."
   ]
  },
  {
   "cell_type": "code",
   "execution_count": 6,
   "metadata": {},
   "outputs": [
    {
     "data": {
      "image/png": "[encoded data removed]",
      "text/plain": [
       "<Figure size 432x288 with 1 Axes>"
      ]
     },
     "metadata": {
      "image/png": {
       "height": 236,
       "width": 231
      }
     },
     "output_type": "display_data"
    }
   ],
   "source": [
    "jobs = find_rome_dataset_by_name(rome_data, 'referentiel_appellation')\n",
    "\n",
    "new_jobs = set(jobs.new.code_ogr) - set(jobs.old.code_ogr)\n",
    "obsolete_jobs = set(jobs.old.code_ogr) - set(jobs.new.code_ogr)\n",
    "stable_jobs = set(jobs.new.code_ogr) & set(jobs.old.code_ogr)\n",
    "\n",
    "matplotlib_venn.venn2((len(obsolete_jobs), len(new_jobs), len(stable_jobs)), (OLD_VERSION, NEW_VERSION));"
   ]
  },
  {
   "cell_type": "markdown",
   "metadata": {},
   "source": [
    "Alright, so the only change seems to be 6 new jobs added. Let's take a look (only showing interesting fields):"
   ]
  },
  {
   "cell_type": "code",
   "execution_count": 7,
   "metadata": {},
   "outputs": [
    {
     "data": {
      "text/html": [
       "<div>\n",
       "<style scoped>\n",
       "    .dataframe tbody tr th:only-of-type {\n",
       "        vertical-align: middle;\n",
       "    }\n",
       "\n",
       "    .dataframe tbody tr th {\n",
       "        vertical-align: top;\n",
       "    }\n",
       "\n",
       "    .dataframe thead th {\n",
       "        text-align: right;\n",
       "    }\n",
       "</style>\n",
       "<table border=\"1\" class=\"dataframe\">\n",
       "  <thead>\n",
       "    <tr style=\"text-align: right;\">\n",
       "      <th></th>\n",
       "      <th>code_ogr</th>\n",
       "      <th>libelle_appellation_long</th>\n",
       "      <th>code_rome</th>\n",
       "    </tr>\n",
       "  </thead>\n",
       "  <tbody>\n",
       "    <tr>\n",
       "      <th>11112</th>\n",
       "      <td>200200</td>\n",
       "      <td>Ostéopathe animalier / animalière</td>\n",
       "      <td>A1504</td>\n",
       "    </tr>\n",
       "    <tr>\n",
       "      <th>11113</th>\n",
       "      <td>200201</td>\n",
       "      <td>Assistant / Assistante galeriste</td>\n",
       "      <td>D1201</td>\n",
       "    </tr>\n",
       "    <tr>\n",
       "      <th>11114</th>\n",
       "      <td>200202</td>\n",
       "      <td>Socio-coiffeur / Socio-coiffeuse</td>\n",
       "      <td>D1202</td>\n",
       "    </tr>\n",
       "    <tr>\n",
       "      <th>11115</th>\n",
       "      <td>200203</td>\n",
       "      <td>Interface de communication</td>\n",
       "      <td>K1205</td>\n",
       "    </tr>\n",
       "    <tr>\n",
       "      <th>11116</th>\n",
       "      <td>200204</td>\n",
       "      <td>Catalogueur / Catalogueuse</td>\n",
       "      <td>K1601</td>\n",
       "    </tr>\n",
       "    <tr>\n",
       "      <th>11117</th>\n",
       "      <td>200220</td>\n",
       "      <td>Destination Wedding planner</td>\n",
       "      <td>E1107</td>\n",
       "    </tr>\n",
       "  </tbody>\n",
       "</table>\n",
       "</div>"
      ],
      "text/plain": [
       "       code_ogr           libelle_appellation_long code_rome\n",
       "11112    200200  Ostéopathe animalier / animalière     A1504\n",
       "11113    200201   Assistant / Assistante galeriste     D1201\n",
       "11114    200202   Socio-coiffeur / Socio-coiffeuse     D1202\n",
       "11115    200203         Interface de communication     K1205\n",
       "11116    200204         Catalogueur / Catalogueuse     K1601\n",
       "11117    200220        Destination Wedding planner     E1107"
      ]
     },
     "execution_count": 7,
     "metadata": {},
     "output_type": "execute_result"
    }
   ],
   "source": [
    "pd.options.display.max_colwidth = 2000\n",
    "jobs.new[jobs.new.code_ogr.isin(new_jobs)][['code_ogr', 'libelle_appellation_long', 'code_rome']]"
   ]
  },
  {
   "cell_type": "markdown",
   "metadata": {},
   "source": [
    "Those are indeed new jobs.\n",
    "\n",
    "OK, let's check at the changes in items:"
   ]
  },
  {
   "cell_type": "code",
   "execution_count": 8,
   "metadata": {},
   "outputs": [
    {
     "data": {
      "image/png": "[encoded data removed]",
      "text/plain": [
       "<Figure size 432x288 with 1 Axes>"
      ]
     },
     "metadata": {
      "image/png": {
       "height": 236,
       "width": 231
      }
     },
     "output_type": "display_data"
    }
   ],
   "source": [
    "items = find_rome_dataset_by_name(rome_data, 'item')\n",
    "\n",
    "new_items = set(items.new.code_ogr) - set(items.old.code_ogr)\n",
    "obsolete_items = set(items.old.code_ogr) - set(items.new.code_ogr)\n",
    "stable_items = set(items.new.code_ogr) & set(items.old.code_ogr)\n",
    "\n",
    "matplotlib_venn.venn2((len(obsolete_items), len(new_items), len(stable_items)), (OLD_VERSION, NEW_VERSION));"
   ]
  },
  {
   "cell_type": "markdown",
   "metadata": {},
   "source": [
    "No changes at all, so it's merely existing items that have been newly assigned to existing groups.\n",
    "\n",
    "The changes in `liens_rome_referentiels` might help reveal those changes:"
   ]
  },
  {
   "cell_type": "code",
   "execution_count": 9,
   "metadata": {},
   "outputs": [
    {
     "data": {
      "text/plain": [
       "added    36\n",
       "Name: _diff, dtype: int64"
      ]
     },
     "execution_count": 9,
     "metadata": {},
     "output_type": "execute_result"
    }
   ],
   "source": [
    "links = find_rome_dataset_by_name(rome_data, 'liens_rome_referentiels')\n",
    "\n",
    "old = links.old[['code_rome', 'code_ogr']]\n",
    "new = links.new[['code_rome', 'code_ogr']]\n",
    "\n",
    "links_merged = old.merge(new, how='outer', indicator=True)\n",
    "links_merged['_diff'] = links_merged._merge.map({'left_only': 'removed', 'right_only': 'added'})\n",
    "links_merged._diff.value_counts()"
   ]
  },
  {
   "cell_type": "markdown",
   "metadata": {},
   "source": [
    "So there are few fixes. Let's have a look at some of them:"
   ]
  },
  {
   "cell_type": "code",
   "execution_count": 10,
   "metadata": {},
   "outputs": [
    {
     "data": {
      "text/html": [
       "<div>\n",
       "<style scoped>\n",
       "    .dataframe tbody tr th:only-of-type {\n",
       "        vertical-align: middle;\n",
       "    }\n",
       "\n",
       "    .dataframe tbody tr th {\n",
       "        vertical-align: top;\n",
       "    }\n",
       "\n",
       "    .dataframe thead th {\n",
       "        text-align: right;\n",
       "    }\n",
       "</style>\n",
       "<table border=\"1\" class=\"dataframe\">\n",
       "  <thead>\n",
       "    <tr style=\"text-align: right;\">\n",
       "      <th></th>\n",
       "      <th>code_rome</th>\n",
       "      <th>code_ogr</th>\n",
       "      <th>_merge</th>\n",
       "      <th>_diff</th>\n",
       "      <th>job_group_name</th>\n",
       "      <th>item_name</th>\n",
       "    </tr>\n",
       "  </thead>\n",
       "  <tbody>\n",
       "  </tbody>\n",
       "</table>\n",
       "</div>"
      ],
      "text/plain": [
       "Empty DataFrame\n",
       "Columns: [code_rome, code_ogr, _merge, _diff, job_group_name, item_name]\n",
       "Index: []"
      ]
     },
     "metadata": {},
     "output_type": "display_data"
    },
    {
     "data": {
      "text/html": [
       "<div>\n",
       "<style scoped>\n",
       "    .dataframe tbody tr th:only-of-type {\n",
       "        vertical-align: middle;\n",
       "    }\n",
       "\n",
       "    .dataframe tbody tr th {\n",
       "        vertical-align: top;\n",
       "    }\n",
       "\n",
       "    .dataframe thead th {\n",
       "        text-align: right;\n",
       "    }\n",
       "</style>\n",
       "<table border=\"1\" class=\"dataframe\">\n",
       "  <thead>\n",
       "    <tr style=\"text-align: right;\">\n",
       "      <th></th>\n",
       "      <th>code_rome</th>\n",
       "      <th>code_ogr</th>\n",
       "      <th>_merge</th>\n",
       "      <th>_diff</th>\n",
       "      <th>job_group_name</th>\n",
       "      <th>item_name</th>\n",
       "    </tr>\n",
       "  </thead>\n",
       "  <tbody>\n",
       "    <tr>\n",
       "      <th>43936</th>\n",
       "      <td>A1504</td>\n",
       "      <td>107575</td>\n",
       "      <td>right_only</td>\n",
       "      <td>added</td>\n",
       "      <td>Santé animale</td>\n",
       "      <td>Détecter les symptômes périphériques, les contre-indications traumatiques, inflammatoires, infectieuses et adapter la prise en charge ou orienter vers les partenaires de soins</td>\n",
       "    </tr>\n",
       "    <tr>\n",
       "      <th>43937</th>\n",
       "      <td>A1504</td>\n",
       "      <td>107588</td>\n",
       "      <td>right_only</td>\n",
       "      <td>added</td>\n",
       "      <td>Santé animale</td>\n",
       "      <td>Proposer un traitement selon une orientation thérapeutique d'ostéopathie</td>\n",
       "    </tr>\n",
       "    <tr>\n",
       "      <th>43938</th>\n",
       "      <td>A1504</td>\n",
       "      <td>107498</td>\n",
       "      <td>right_only</td>\n",
       "      <td>added</td>\n",
       "      <td>Santé animale</td>\n",
       "      <td>Biomécanique</td>\n",
       "    </tr>\n",
       "    <tr>\n",
       "      <th>43939</th>\n",
       "      <td>A1504</td>\n",
       "      <td>107578</td>\n",
       "      <td>right_only</td>\n",
       "      <td>added</td>\n",
       "      <td>Santé animale</td>\n",
       "      <td>Identification des symptomatologies (fonctionnelles, mécaniques, tissulaires, circulatoires, ...)</td>\n",
       "    </tr>\n",
       "    <tr>\n",
       "      <th>43940</th>\n",
       "      <td>A1504</td>\n",
       "      <td>107580</td>\n",
       "      <td>right_only</td>\n",
       "      <td>added</td>\n",
       "      <td>Santé animale</td>\n",
       "      <td>Posturologie</td>\n",
       "    </tr>\n",
       "    <tr>\n",
       "      <th>43942</th>\n",
       "      <td>D1201</td>\n",
       "      <td>121611</td>\n",
       "      <td>right_only</td>\n",
       "      <td>added</td>\n",
       "      <td>Achat vente d'objets d'art, anciens ou d'occasion</td>\n",
       "      <td>Concevoir des documents, produits documentaires (catalogue, revue de presse, ...) et les mettre à disposition des acteurs concernés</td>\n",
       "    </tr>\n",
       "    <tr>\n",
       "      <th>43944</th>\n",
       "      <td>D1202</td>\n",
       "      <td>24050</td>\n",
       "      <td>right_only</td>\n",
       "      <td>added</td>\n",
       "      <td>Coiffure</td>\n",
       "      <td>Résidence de personnes âgées</td>\n",
       "    </tr>\n",
       "    <tr>\n",
       "      <th>43945</th>\n",
       "      <td>D1202</td>\n",
       "      <td>114147</td>\n",
       "      <td>right_only</td>\n",
       "      <td>added</td>\n",
       "      <td>Coiffure</td>\n",
       "      <td>Dispenser des soins esthétiques à des personnes fragilisées, souffrantes ou en réinsertion sociale</td>\n",
       "    </tr>\n",
       "    <tr>\n",
       "      <th>43946</th>\n",
       "      <td>D1202</td>\n",
       "      <td>102066</td>\n",
       "      <td>right_only</td>\n",
       "      <td>added</td>\n",
       "      <td>Coiffure</td>\n",
       "      <td>Techniques d'écoute et de la relation à la personne</td>\n",
       "    </tr>\n",
       "    <tr>\n",
       "      <th>43948</th>\n",
       "      <td>E1107</td>\n",
       "      <td>122611</td>\n",
       "      <td>right_only</td>\n",
       "      <td>added</td>\n",
       "      <td>Organisation d'évènementiel</td>\n",
       "      <td>Coordonner la logistique d'un évènement</td>\n",
       "    </tr>\n",
       "  </tbody>\n",
       "</table>\n",
       "</div>"
      ],
      "text/plain": [
       "      code_rome  code_ogr      _merge  _diff  \\\n",
       "43936     A1504    107575  right_only  added   \n",
       "43937     A1504    107588  right_only  added   \n",
       "43938     A1504    107498  right_only  added   \n",
       "43939     A1504    107578  right_only  added   \n",
       "43940     A1504    107580  right_only  added   \n",
       "43942     D1201    121611  right_only  added   \n",
       "43944     D1202     24050  right_only  added   \n",
       "43945     D1202    114147  right_only  added   \n",
       "43946     D1202    102066  right_only  added   \n",
       "43948     E1107    122611  right_only  added   \n",
       "\n",
       "                                          job_group_name  \\\n",
       "43936                                      Santé animale   \n",
       "43937                                      Santé animale   \n",
       "43938                                      Santé animale   \n",
       "43939                                      Santé animale   \n",
       "43940                                      Santé animale   \n",
       "43942  Achat vente d'objets d'art, anciens ou d'occasion   \n",
       "43944                                           Coiffure   \n",
       "43945                                           Coiffure   \n",
       "43946                                           Coiffure   \n",
       "43948                        Organisation d'évènementiel   \n",
       "\n",
       "                                                                                                                                                                             item_name  \n",
       "43936  Détecter les symptômes périphériques, les contre-indications traumatiques, inflammatoires, infectieuses et adapter la prise en charge ou orienter vers les partenaires de soins  \n",
       "43937                                                                                                         Proposer un traitement selon une orientation thérapeutique d'ostéopathie  \n",
       "43938                                                                                                                                                                     Biomécanique  \n",
       "43939                                                                                Identification des symptomatologies (fonctionnelles, mécaniques, tissulaires, circulatoires, ...)  \n",
       "43940                                                                                                                                                                     Posturologie  \n",
       "43942                                              Concevoir des documents, produits documentaires (catalogue, revue de presse, ...) et les mettre à disposition des acteurs concernés  \n",
       "43944                                                                                                                                                     Résidence de personnes âgées  \n",
       "43945                                                                               Dispenser des soins esthétiques à des personnes fragilisées, souffrantes ou en réinsertion sociale  \n",
       "43946                                                                                                                              Techniques d'écoute et de la relation à la personne  \n",
       "43948                                                                                                                                          Coordonner la logistique d'un évènement  "
      ]
     },
     "execution_count": 10,
     "metadata": {},
     "output_type": "execute_result"
    }
   ],
   "source": [
    "job_group_names = find_rome_dataset_by_name(rome_data, 'referentiel_code_rome').new.set_index('code_rome').libelle_rome\n",
    "item_names = items.new.set_index('code_ogr').libelle.drop_duplicates()\n",
    "links_merged['job_group_name'] = links_merged.code_rome.map(job_group_names)\n",
    "links_merged['item_name'] = links_merged.code_ogr.map(item_names)\n",
    "display(links_merged[links_merged._diff == 'removed'].dropna().head(5))\n",
    "links_merged[links_merged._diff == 'added'].dropna().head(10)"
   ]
  },
  {
   "cell_type": "markdown",
   "metadata": {},
   "source": [
    "The added items are OK.\n",
    "\n",
    "That's all the changes we wanted to check (no change in `referentiel_code_rome`)."
   ]
  },
  {
   "cell_type": "markdown",
   "metadata": {},
   "source": [
    "# Conclusion\n",
    "\n",
    "The new version of ROME, v347, introduces very minor changes which reflect quite well what they wrote in their [changelog](http://www.pole-emploi.org/files/live/sites/peorg/files/documents/Statistiques-et-analyses/Open-data/ROME/ROME_AppropriationThematique.pdf).\n",
    "\n",
    "We can also note that the covid-19 pandemic had an impact in this ROME update, as the \"Destination wedding planner\" and the \"socio-coiffeur·se\" have been created to be able to distinguish them. (The first ones are restructuring whereas the second ones were allowed to intervene during the crisis).\n",
    "\n",
    "\n",
    "The transition should be transparent with a very small advantage over the old version."
   ]
  }
 ],
 "metadata": {
  "kernelspec": {
   "display_name": "Python 3",
   "language": "python",
   "name": "python3"
  },
  "language_info": {
   "codemirror_mode": {
    "name": "ipython",
    "version": 3
   },
   "file_extension": ".py",
   "mimetype": "text/x-python",
   "name": "python",
   "nbconvert_exporter": "python",
   "pygments_lexer": "ipython3",
   "version": "3.9.4"
  }
 },
 "nbformat": 4,
 "nbformat_minor": 1
}
