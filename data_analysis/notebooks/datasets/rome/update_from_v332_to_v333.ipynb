{
 "cells": [
  {
   "cell_type": "markdown",
   "metadata": {},
   "source": [
    "Author: Pascal, pascal@bayesimpact.org\n",
    "\n",
    "Date: 2017-11-08\n",
    "\n",
    "# ROME update from v332 to v333\n",
    "\n",
    "In November 2017 a new version of the ROME was realeased. I want to investigate what changed and whether we need to do anything about it.\n",
    "\n",
    "You might not be able to reproduce this notebook, mostly because it requires to have the two versions of the ROME in your `data/rome/csv` folder which happens only just before we switch to v333. You will have to trust me on the results ;-)\n",
    "\n",
    "Skip the run test because it requires older versions of the ROME."
   ]
  },
  {
   "cell_type": "code",
   "execution_count": 1,
   "metadata": {
    "collapsed": true
   },
   "outputs": [],
   "source": [
    "import collections\n",
    "import glob\n",
    "import os\n",
    "from os import path\n",
    "\n",
    "import matplotlib_venn\n",
    "import pandas as pd\n",
    "\n",
    "rome_path = path.join(os.getenv('DATA_FOLDER'), 'rome/csv')\n",
    "\n",
    "OLD_VERSION = '332'\n",
    "NEW_VERSION = '333'\n",
    "\n",
    "old_version_files = frozenset(glob.glob(rome_path + '/*{}*'.format(OLD_VERSION)))\n",
    "new_version_files = frozenset(glob.glob(rome_path + '/*{}*'.format(NEW_VERSION)))"
   ]
  },
  {
   "cell_type": "markdown",
   "metadata": {},
   "source": [
    "First let's check if there are new or deleted files (only matching by file names)."
   ]
  },
  {
   "cell_type": "code",
   "execution_count": 2,
   "metadata": {},
   "outputs": [
    {
     "name": "stdout",
     "output_type": "stream",
     "text": [
      "0 new files\n",
      "0 deleted files\n"
     ]
    }
   ],
   "source": [
    "new_files = new_version_files - frozenset(f.replace(OLD_VERSION, NEW_VERSION) for f in old_version_files)\n",
    "deleted_files = old_version_files - frozenset(f.replace(NEW_VERSION, OLD_VERSION) for f in new_version_files)\n",
    "\n",
    "print('{:d} new files'.format(len(new_files)))\n",
    "print('{:d} deleted files'.format(len(deleted_files)))"
   ]
  },
  {
   "cell_type": "markdown",
   "metadata": {},
   "source": [
    "So we have the same set of files in both versions: good start.\n",
    "\n",
    "Now let's set up a dataset that, for each table, links both the old and the new file together."
   ]
  },
  {
   "cell_type": "code",
   "execution_count": 3,
   "metadata": {
    "collapsed": true
   },
   "outputs": [],
   "source": [
    "# Load all ROME datasets for the two versions we compare.\n",
    "VersionedDataset = collections.namedtuple('VersionedDataset', ['basename', 'old', 'new'])\n",
    "rome_data = [VersionedDataset(\n",
    "        basename=path.basename(f),\n",
    "        old=pd.read_csv(f.replace(NEW_VERSION, OLD_VERSION)),\n",
    "        new=pd.read_csv(f))\n",
    "    for f in sorted(new_version_files)]\n",
    "\n",
    "def find_rome_dataset_by_name(data, partial_name):\n",
    "    for dataset in data:\n",
    "        if 'unix_{}_v{}_utf8.csv'.format(partial_name, NEW_VERSION) == dataset.basename:\n",
    "            return dataset\n",
    "    raise ValueError('No dataset named {}, the list is\\n{}'.format(partial_name, [d.basename for d in data]))"
   ]
  },
  {
   "cell_type": "markdown",
   "metadata": {},
   "source": [
    "Let's make sure the structure hasn't changed:"
   ]
  },
  {
   "cell_type": "code",
   "execution_count": 4,
   "metadata": {
    "collapsed": true
   },
   "outputs": [],
   "source": [
    "for dataset in rome_data:\n",
    "    if set(dataset.old.columns) != set(dataset.new.columns):\n",
    "        print('Columns of {} have changed.'.format(dataset.basename))"
   ]
  },
  {
   "cell_type": "markdown",
   "metadata": {},
   "source": [
    "All files have the same columns as before: still good.\n",
    "\n",
    "Now let's see for each file if there are more or less rows."
   ]
  },
  {
   "cell_type": "code",
   "execution_count": 5,
   "metadata": {},
   "outputs": [
    {
     "name": "stdout",
     "output_type": "stream",
     "text": [
      "109/30706 values added in unix_coherence_item_v333_utf8.csv\n",
      "15/11646 values added in unix_cr_gd_dp_appellations_v333_utf8.csv\n",
      "133/16308 values added in unix_item_arborescence_v333_utf8.csv\n",
      "57/13381 values added in unix_item_v333_utf8.csv\n",
      "124/42228 values added in unix_liens_rome_referentiels_v333_utf8.csv\n",
      "34/7396 values added in unix_referentiel_activite_riasec_v333_utf8.csv\n",
      "54/9186 values removed in unix_referentiel_activite_v333_utf8.csv\n",
      "15/10990 values added in unix_referentiel_appellation_v333_utf8.csv\n",
      "33/4980 values removed in unix_referentiel_competence_v333_utf8.csv\n",
      "12/21 files with the same number of rows\n"
     ]
    }
   ],
   "source": [
    "same_row_count_files = 0\n",
    "for dataset in rome_data:\n",
    "    diff = len(dataset.new.index) - len(dataset.old.index)\n",
    "    if diff > 0:\n",
    "        print('{:d}/{:d} values added in {}'.format(diff, len(dataset.new.index), dataset.basename))\n",
    "    elif diff < 0:\n",
    "        print('{:d}/{:d} values removed in {}'.format(-diff, len(dataset.old.index), dataset.basename))\n",
    "    else:\n",
    "        same_row_count_files += 1\n",
    "print('{:d}/{:d} files with the same number of rows'.format(same_row_count_files, len(rome_data)))"
   ]
  },
  {
   "cell_type": "markdown",
   "metadata": {},
   "source": [
    "There are some minor changes in many files, but based on my knowledge of ROME, none from the main files.\n",
    "\n",
    "The most interesting ones are in `referentiel_appellation`, `item`, and `liens_rome_referentiels`, so let's see more precisely."
   ]
  },
  {
   "cell_type": "code",
   "execution_count": 6,
   "metadata": {},
   "outputs": [
    {
     "data": {
      "image/png": "[encoded data removed]",
      "text/plain": [
       "<matplotlib.figure.Figure at 0x7f199c544ef0>"
      ]
     },
     "metadata": {
      "image/png": {
       "height": 238,
       "width": 235
      }
     },
     "output_type": "display_data"
    }
   ],
   "source": [
    "jobs = find_rome_dataset_by_name(rome_data, 'referentiel_appellation')\n",
    "\n",
    "new_jobs = set(jobs.new.code_ogr) - set(jobs.old.code_ogr)\n",
    "obsolete_jobs = set(jobs.old.code_ogr) - set(jobs.new.code_ogr)\n",
    "stable_jobs = set(jobs.new.code_ogr) & set(jobs.old.code_ogr)\n",
    "\n",
    "matplotlib_venn.venn2((len(obsolete_jobs), len(new_jobs), len(stable_jobs)), (OLD_VERSION, NEW_VERSION));"
   ]
  },
  {
   "cell_type": "markdown",
   "metadata": {},
   "source": [
    "Alright, so the only change seems to be 15 new jobs added. Let's take a look (only showing interesting fields):"
   ]
  },
  {
   "cell_type": "code",
   "execution_count": 7,
   "metadata": {},
   "outputs": [
    {
     "data": {
      "text/html": [
       "<div>\n",
       "<table border=\"1\" class=\"dataframe\">\n",
       "  <thead>\n",
       "    <tr style=\"text-align: right;\">\n",
       "      <th></th>\n",
       "      <th>code_ogr</th>\n",
       "      <th>libelle_appellation_long</th>\n",
       "      <th>code_rome</th>\n",
       "    </tr>\n",
       "  </thead>\n",
       "  <tbody>\n",
       "    <tr>\n",
       "      <th>2421</th>\n",
       "      <td>126547</td>\n",
       "      <td>Game master jeux online</td>\n",
       "      <td>E1101</td>\n",
       "    </tr>\n",
       "    <tr>\n",
       "      <th>2422</th>\n",
       "      <td>126548</td>\n",
       "      <td>Producer chef de projet jeux vidéo</td>\n",
       "      <td>E1104</td>\n",
       "    </tr>\n",
       "    <tr>\n",
       "      <th>2423</th>\n",
       "      <td>126549</td>\n",
       "      <td>UX - user experience designer</td>\n",
       "      <td>E1205</td>\n",
       "    </tr>\n",
       "    <tr>\n",
       "      <th>2425</th>\n",
       "      <td>126550</td>\n",
       "      <td>UI - user interface designer</td>\n",
       "      <td>E1205</td>\n",
       "    </tr>\n",
       "    <tr>\n",
       "      <th>2426</th>\n",
       "      <td>126551</td>\n",
       "      <td>Musher guide de randonnée en traîneau</td>\n",
       "      <td>G1201</td>\n",
       "    </tr>\n",
       "    <tr>\n",
       "      <th>2427</th>\n",
       "      <td>126552</td>\n",
       "      <td>Entraîneur / Entraîneuse d''équipe sportive de football</td>\n",
       "      <td>G1204</td>\n",
       "    </tr>\n",
       "    <tr>\n",
       "      <th>2428</th>\n",
       "      <td>126553</td>\n",
       "      <td>Entraîneur / Entraîneuse de sportifs de haut niveau de football</td>\n",
       "      <td>G1204</td>\n",
       "    </tr>\n",
       "    <tr>\n",
       "      <th>2429</th>\n",
       "      <td>126554</td>\n",
       "      <td>Entraîneur sportif / Entraîneuse sportive de football</td>\n",
       "      <td>G1204</td>\n",
       "    </tr>\n",
       "    <tr>\n",
       "      <th>2430</th>\n",
       "      <td>126555</td>\n",
       "      <td>Technicien / Technicienne d''installation de systèmes d''irrigation</td>\n",
       "      <td>K2301</td>\n",
       "    </tr>\n",
       "    <tr>\n",
       "      <th>2431</th>\n",
       "      <td>126556</td>\n",
       "      <td>Technicien / Technicienne de maintenance de systèmes d''irrigation</td>\n",
       "      <td>K2301</td>\n",
       "    </tr>\n",
       "    <tr>\n",
       "      <th>2432</th>\n",
       "      <td>126557</td>\n",
       "      <td>Agent / Agente de sûreté ferroviaire</td>\n",
       "      <td>K2503</td>\n",
       "    </tr>\n",
       "    <tr>\n",
       "      <th>2433</th>\n",
       "      <td>126558</td>\n",
       "      <td>Chief digital officer - Responsable de la transformation digitale</td>\n",
       "      <td>M1402</td>\n",
       "    </tr>\n",
       "    <tr>\n",
       "      <th>2434</th>\n",
       "      <td>126559</td>\n",
       "      <td>Chef de produit web mobile</td>\n",
       "      <td>M1703</td>\n",
       "    </tr>\n",
       "    <tr>\n",
       "      <th>2436</th>\n",
       "      <td>126560</td>\n",
       "      <td>Chef de produit digital</td>\n",
       "      <td>M1703</td>\n",
       "    </tr>\n",
       "    <tr>\n",
       "      <th>2437</th>\n",
       "      <td>126562</td>\n",
       "      <td>Responsable e-CRM electronic Customer Relationship Management</td>\n",
       "      <td>M1704</td>\n",
       "    </tr>\n",
       "  </tbody>\n",
       "</table>\n",
       "</div>"
      ],
      "text/plain": [
       "      code_ogr  \\\n",
       "2421    126547   \n",
       "2422    126548   \n",
       "2423    126549   \n",
       "2425    126550   \n",
       "2426    126551   \n",
       "2427    126552   \n",
       "2428    126553   \n",
       "2429    126554   \n",
       "2430    126555   \n",
       "2431    126556   \n",
       "2432    126557   \n",
       "2433    126558   \n",
       "2434    126559   \n",
       "2436    126560   \n",
       "2437    126562   \n",
       "\n",
       "                                                 libelle_appellation_long  \\\n",
       "2421                                              Game master jeux online   \n",
       "2422                                   Producer chef de projet jeux vidéo   \n",
       "2423                                        UX - user experience designer   \n",
       "2425                                         UI - user interface designer   \n",
       "2426                                Musher guide de randonnée en traîneau   \n",
       "2427              Entraîneur / Entraîneuse d''équipe sportive de football   \n",
       "2428      Entraîneur / Entraîneuse de sportifs de haut niveau de football   \n",
       "2429                Entraîneur sportif / Entraîneuse sportive de football   \n",
       "2430  Technicien / Technicienne d''installation de systèmes d''irrigation   \n",
       "2431   Technicien / Technicienne de maintenance de systèmes d''irrigation   \n",
       "2432                                 Agent / Agente de sûreté ferroviaire   \n",
       "2433    Chief digital officer - Responsable de la transformation digitale   \n",
       "2434                                           Chef de produit web mobile   \n",
       "2436                                              Chef de produit digital   \n",
       "2437        Responsable e-CRM electronic Customer Relationship Management   \n",
       "\n",
       "     code_rome  \n",
       "2421     E1101  \n",
       "2422     E1104  \n",
       "2423     E1205  \n",
       "2425     E1205  \n",
       "2426     G1201  \n",
       "2427     G1204  \n",
       "2428     G1204  \n",
       "2429     G1204  \n",
       "2430     K2301  \n",
       "2431     K2301  \n",
       "2432     K2503  \n",
       "2433     M1402  \n",
       "2434     M1703  \n",
       "2436     M1703  \n",
       "2437     M1704  "
      ]
     },
     "execution_count": 7,
     "metadata": {},
     "output_type": "execute_result"
    }
   ],
   "source": [
    "pd.options.display.max_colwidth = 2000\n",
    "jobs.new[jobs.new.code_ogr.isin(new_jobs)][['code_ogr', 'libelle_appellation_long', 'code_rome']]"
   ]
  },
  {
   "cell_type": "markdown",
   "metadata": {},
   "source": [
    "They mostly seem related to the digital industry, e.g. we finally have a job for John, our UX Designer. But there are also few others.\n",
    "\n",
    "OK, let's check at the changes in items:"
   ]
  },
  {
   "cell_type": "code",
   "execution_count": 8,
   "metadata": {},
   "outputs": [
    {
     "data": {
      "image/png": "[encoded data removed]",
      "text/plain": [
       "<matplotlib.figure.Figure at 0x7f199c531cc0>"
      ]
     },
     "metadata": {
      "image/png": {
       "height": 238,
       "width": 235
      }
     },
     "output_type": "display_data"
    }
   ],
   "source": [
    "items = find_rome_dataset_by_name(rome_data, 'item')\n",
    "\n",
    "new_items = set(items.new.code_ogr) - set(items.old.code_ogr)\n",
    "obsolete_items = set(items.old.code_ogr) - set(items.new.code_ogr)\n",
    "stable_items = set(items.new.code_ogr) & set(items.old.code_ogr)\n",
    "\n",
    "matplotlib_venn.venn2((len(obsolete_items), len(new_items), len(stable_items)), (OLD_VERSION, NEW_VERSION));"
   ]
  },
  {
   "cell_type": "markdown",
   "metadata": {},
   "source": [
    "As anticipated it is a very minor change (hard to see it visually): some items are now obsolete and new ones have been created. Let's have a look."
   ]
  },
  {
   "cell_type": "code",
   "execution_count": 9,
   "metadata": {},
   "outputs": [
    {
     "data": {
      "text/html": [
       "<div>\n",
       "<table border=\"1\" class=\"dataframe\">\n",
       "  <thead>\n",
       "    <tr style=\"text-align: right;\">\n",
       "      <th></th>\n",
       "      <th>code_ogr</th>\n",
       "      <th>libelle</th>\n",
       "      <th>code_type_referentiel</th>\n",
       "      <th>code_ref_rubrique</th>\n",
       "      <th>code_tete_rgpmt</th>\n",
       "      <th>libelle_activite_impression</th>\n",
       "      <th>libelle_en_tete_regroupement</th>\n",
       "    </tr>\n",
       "  </thead>\n",
       "  <tbody>\n",
       "    <tr>\n",
       "      <th>8294</th>\n",
       "      <td>121553</td>\n",
       "      <td>Contractualiser une prestation avec un client</td>\n",
       "      <td>2</td>\n",
       "      <td>6</td>\n",
       "      <td>NaN</td>\n",
       "      <td>NaN</td>\n",
       "      <td>NaN</td>\n",
       "    </tr>\n",
       "    <tr>\n",
       "      <th>8295</th>\n",
       "      <td>121553</td>\n",
       "      <td>Contractualiser une prestation avec un client</td>\n",
       "      <td>2</td>\n",
       "      <td>9</td>\n",
       "      <td>NaN</td>\n",
       "      <td>NaN</td>\n",
       "      <td>NaN</td>\n",
       "    </tr>\n",
       "    <tr>\n",
       "      <th>8472</th>\n",
       "      <td>121772</td>\n",
       "      <td>Etablir les modalités d''une prestation avec le client</td>\n",
       "      <td>2</td>\n",
       "      <td>9</td>\n",
       "      <td>NaN</td>\n",
       "      <td>NaN</td>\n",
       "      <td>NaN</td>\n",
       "    </tr>\n",
       "    <tr>\n",
       "      <th>8751</th>\n",
       "      <td>122123</td>\n",
       "      <td>Poser des matériaux d''isolation</td>\n",
       "      <td>2</td>\n",
       "      <td>6</td>\n",
       "      <td>NaN</td>\n",
       "      <td>NaN</td>\n",
       "      <td>NaN</td>\n",
       "    </tr>\n",
       "    <tr>\n",
       "      <th>8752</th>\n",
       "      <td>122123</td>\n",
       "      <td>Poser des matériaux d''isolation</td>\n",
       "      <td>2</td>\n",
       "      <td>9</td>\n",
       "      <td>NaN</td>\n",
       "      <td>NaN</td>\n",
       "      <td>NaN</td>\n",
       "    </tr>\n",
       "  </tbody>\n",
       "</table>\n",
       "</div>"
      ],
      "text/plain": [
       "      code_ogr                                                 libelle  \\\n",
       "8294    121553           Contractualiser une prestation avec un client   \n",
       "8295    121553           Contractualiser une prestation avec un client   \n",
       "8472    121772  Etablir les modalités d''une prestation avec le client   \n",
       "8751    122123                        Poser des matériaux d''isolation   \n",
       "8752    122123                        Poser des matériaux d''isolation   \n",
       "\n",
       "      code_type_referentiel  code_ref_rubrique  code_tete_rgpmt  \\\n",
       "8294                      2                  6              NaN   \n",
       "8295                      2                  9              NaN   \n",
       "8472                      2                  9              NaN   \n",
       "8751                      2                  6              NaN   \n",
       "8752                      2                  9              NaN   \n",
       "\n",
       "      libelle_activite_impression  libelle_en_tete_regroupement  \n",
       "8294                          NaN                           NaN  \n",
       "8295                          NaN                           NaN  \n",
       "8472                          NaN                           NaN  \n",
       "8751                          NaN                           NaN  \n",
       "8752                          NaN                           NaN  "
      ]
     },
     "execution_count": 9,
     "metadata": {},
     "output_type": "execute_result"
    }
   ],
   "source": [
    "items.old[items.old.code_ogr.isin(obsolete_items)].tail()"
   ]
  },
  {
   "cell_type": "code",
   "execution_count": 10,
   "metadata": {},
   "outputs": [
    {
     "data": {
      "text/html": [
       "<div>\n",
       "<table border=\"1\" class=\"dataframe\">\n",
       "  <thead>\n",
       "    <tr style=\"text-align: right;\">\n",
       "      <th></th>\n",
       "      <th>code_ogr</th>\n",
       "      <th>libelle</th>\n",
       "      <th>code_type_referentiel</th>\n",
       "      <th>code_ref_rubrique</th>\n",
       "      <th>code_tete_rgpmt</th>\n",
       "      <th>libelle_activite_impression</th>\n",
       "      <th>libelle_en_tete_regroupement</th>\n",
       "    </tr>\n",
       "  </thead>\n",
       "  <tbody>\n",
       "    <tr>\n",
       "      <th>5916</th>\n",
       "      <td>115701</td>\n",
       "      <td>Mener une campagne d''e-mailing</td>\n",
       "      <td>2</td>\n",
       "      <td>9</td>\n",
       "      <td>NaN</td>\n",
       "      <td>NaN</td>\n",
       "      <td>NaN</td>\n",
       "    </tr>\n",
       "    <tr>\n",
       "      <th>5929</th>\n",
       "      <td>115832</td>\n",
       "      <td>Knowledge Management</td>\n",
       "      <td>1</td>\n",
       "      <td>10</td>\n",
       "      <td>NaN</td>\n",
       "      <td>NaN</td>\n",
       "      <td>NaN</td>\n",
       "    </tr>\n",
       "    <tr>\n",
       "      <th>5951</th>\n",
       "      <td>115923</td>\n",
       "      <td>Insights marketing</td>\n",
       "      <td>1</td>\n",
       "      <td>10</td>\n",
       "      <td>NaN</td>\n",
       "      <td>NaN</td>\n",
       "      <td>NaN</td>\n",
       "    </tr>\n",
       "    <tr>\n",
       "      <th>5952</th>\n",
       "      <td>115924</td>\n",
       "      <td>Management de l''économie numérique</td>\n",
       "      <td>1</td>\n",
       "      <td>10</td>\n",
       "      <td>NaN</td>\n",
       "      <td>NaN</td>\n",
       "      <td>NaN</td>\n",
       "    </tr>\n",
       "    <tr>\n",
       "      <th>6022</th>\n",
       "      <td>116279</td>\n",
       "      <td>Mettre en place des solutions de suivi (tracking) pour analyser le trafic d''un site et les comportements de navigation des visiteurs</td>\n",
       "      <td>2</td>\n",
       "      <td>9</td>\n",
       "      <td>NaN</td>\n",
       "      <td>NaN</td>\n",
       "      <td>NaN</td>\n",
       "    </tr>\n",
       "  </tbody>\n",
       "</table>\n",
       "</div>"
      ],
      "text/plain": [
       "      code_ogr  \\\n",
       "5916    115701   \n",
       "5929    115832   \n",
       "5951    115923   \n",
       "5952    115924   \n",
       "6022    116279   \n",
       "\n",
       "                                                                                                                                    libelle  \\\n",
       "5916                                                                                                        Mener une campagne d''e-mailing   \n",
       "5929                                                                                                                   Knowledge Management   \n",
       "5951                                                                                                                     Insights marketing   \n",
       "5952                                                                                                    Management de l''économie numérique   \n",
       "6022  Mettre en place des solutions de suivi (tracking) pour analyser le trafic d''un site et les comportements de navigation des visiteurs   \n",
       "\n",
       "      code_type_referentiel  code_ref_rubrique  code_tete_rgpmt  \\\n",
       "5916                      2                  9              NaN   \n",
       "5929                      1                 10              NaN   \n",
       "5951                      1                 10              NaN   \n",
       "5952                      1                 10              NaN   \n",
       "6022                      2                  9              NaN   \n",
       "\n",
       "      libelle_activite_impression  libelle_en_tete_regroupement  \n",
       "5916                          NaN                           NaN  \n",
       "5929                          NaN                           NaN  \n",
       "5951                          NaN                           NaN  \n",
       "5952                          NaN                           NaN  \n",
       "6022                          NaN                           NaN  "
      ]
     },
     "execution_count": 10,
     "metadata": {},
     "output_type": "execute_result"
    }
   ],
   "source": [
    "items.new[items.new.code_ogr.isin(new_items)].head()"
   ]
  },
  {
   "cell_type": "markdown",
   "metadata": {},
   "source": [
    "Those entries look legitimate.\n",
    "\n",
    "The changes in `liens_rome_referentiels` include changes for those items, so let's only check the changes not related to those."
   ]
  },
  {
   "cell_type": "code",
   "execution_count": 11,
   "metadata": {},
   "outputs": [
    {
     "data": {
      "text/plain": [
       "added    48\n",
       "Name: _diff, dtype: int64"
      ]
     },
     "execution_count": 11,
     "metadata": {},
     "output_type": "execute_result"
    }
   ],
   "source": [
    "links = find_rome_dataset_by_name(rome_data, 'liens_rome_referentiels')\n",
    "old_links_on_stable_items = links.old[links.old.code_ogr.isin(stable_items)]\n",
    "new_links_on_stable_items = links.new[links.new.code_ogr.isin(stable_items)]\n",
    "\n",
    "old = old_links_on_stable_items[['code_rome', 'code_ogr']]\n",
    "new = new_links_on_stable_items[['code_rome', 'code_ogr']]\n",
    "\n",
    "links_merged = old.merge(new, how='outer', indicator=True)\n",
    "links_merged['_diff'] = links_merged._merge.map({'left_only': 'removed', 'right_only': 'added'})\n",
    "links_merged._diff.value_counts()"
   ]
  },
  {
   "cell_type": "markdown",
   "metadata": {},
   "source": [
    "So in addition to the added and remove items, there are 48 fixes. Let's have a look:"
   ]
  },
  {
   "cell_type": "code",
   "execution_count": 12,
   "metadata": {},
   "outputs": [
    {
     "data": {
      "text/html": [
       "<div>\n",
       "<table border=\"1\" class=\"dataframe\">\n",
       "  <thead>\n",
       "    <tr style=\"text-align: right;\">\n",
       "      <th></th>\n",
       "      <th>code_rome</th>\n",
       "      <th>code_ogr</th>\n",
       "      <th>_merge</th>\n",
       "      <th>_diff</th>\n",
       "      <th>job_group_name</th>\n",
       "      <th>item_name</th>\n",
       "    </tr>\n",
       "  </thead>\n",
       "  <tbody>\n",
       "    <tr>\n",
       "      <th>30577</th>\n",
       "      <td>C1401</td>\n",
       "      <td>121910</td>\n",
       "      <td>right_only</td>\n",
       "      <td>added</td>\n",
       "      <td>Gestion en banque et assurance</td>\n",
       "      <td>Mener une action commerciale</td>\n",
       "    </tr>\n",
       "    <tr>\n",
       "      <th>30578</th>\n",
       "      <td>E1101</td>\n",
       "      <td>115743</td>\n",
       "      <td>right_only</td>\n",
       "      <td>added</td>\n",
       "      <td>Animation de site multimédia</td>\n",
       "      <td>E-commerce</td>\n",
       "    </tr>\n",
       "    <tr>\n",
       "      <th>30579</th>\n",
       "      <td>E1107</td>\n",
       "      <td>121431</td>\n",
       "      <td>right_only</td>\n",
       "      <td>added</td>\n",
       "      <td>Organisation d''évènementiel</td>\n",
       "      <td>Contractualiser une prestation</td>\n",
       "    </tr>\n",
       "    <tr>\n",
       "      <th>30580</th>\n",
       "      <td>E1104</td>\n",
       "      <td>104155</td>\n",
       "      <td>right_only</td>\n",
       "      <td>added</td>\n",
       "      <td>Conception de contenus multimédias</td>\n",
       "      <td>Gestion financière</td>\n",
       "    </tr>\n",
       "    <tr>\n",
       "      <th>30581</th>\n",
       "      <td>E1104</td>\n",
       "      <td>118319</td>\n",
       "      <td>right_only</td>\n",
       "      <td>added</td>\n",
       "      <td>Conception de contenus multimédias</td>\n",
       "      <td>Dispositifs de financement culturel</td>\n",
       "    </tr>\n",
       "    <tr>\n",
       "      <th>30582</th>\n",
       "      <td>E1104</td>\n",
       "      <td>119109</td>\n",
       "      <td>right_only</td>\n",
       "      <td>added</td>\n",
       "      <td>Conception de contenus multimédias</td>\n",
       "      <td>Définir les moyens humains, matériels et financiers d''un projet</td>\n",
       "    </tr>\n",
       "    <tr>\n",
       "      <th>30583</th>\n",
       "      <td>E1104</td>\n",
       "      <td>119659</td>\n",
       "      <td>right_only</td>\n",
       "      <td>added</td>\n",
       "      <td>Conception de contenus multimédias</td>\n",
       "      <td>Sélectionner un projet en cohérence avec une politique artistique</td>\n",
       "    </tr>\n",
       "    <tr>\n",
       "      <th>30584</th>\n",
       "      <td>E1104</td>\n",
       "      <td>121661</td>\n",
       "      <td>right_only</td>\n",
       "      <td>added</td>\n",
       "      <td>Conception de contenus multimédias</td>\n",
       "      <td>Négocier des partenariats</td>\n",
       "    </tr>\n",
       "    <tr>\n",
       "      <th>30585</th>\n",
       "      <td>E1104</td>\n",
       "      <td>124059</td>\n",
       "      <td>right_only</td>\n",
       "      <td>added</td>\n",
       "      <td>Conception de contenus multimédias</td>\n",
       "      <td>Établir un dossier de demande de financement</td>\n",
       "    </tr>\n",
       "    <tr>\n",
       "      <th>30586</th>\n",
       "      <td>E1104</td>\n",
       "      <td>124097</td>\n",
       "      <td>right_only</td>\n",
       "      <td>added</td>\n",
       "      <td>Conception de contenus multimédias</td>\n",
       "      <td>Promouvoir un projet</td>\n",
       "    </tr>\n",
       "  </tbody>\n",
       "</table>\n",
       "</div>"
      ],
      "text/plain": [
       "      code_rome  code_ogr      _merge  _diff  \\\n",
       "30577     C1401    121910  right_only  added   \n",
       "30578     E1101    115743  right_only  added   \n",
       "30579     E1107    121431  right_only  added   \n",
       "30580     E1104    104155  right_only  added   \n",
       "30581     E1104    118319  right_only  added   \n",
       "30582     E1104    119109  right_only  added   \n",
       "30583     E1104    119659  right_only  added   \n",
       "30584     E1104    121661  right_only  added   \n",
       "30585     E1104    124059  right_only  added   \n",
       "30586     E1104    124097  right_only  added   \n",
       "\n",
       "                           job_group_name  \\\n",
       "30577      Gestion en banque et assurance   \n",
       "30578        Animation de site multimédia   \n",
       "30579        Organisation d''évènementiel   \n",
       "30580  Conception de contenus multimédias   \n",
       "30581  Conception de contenus multimédias   \n",
       "30582  Conception de contenus multimédias   \n",
       "30583  Conception de contenus multimédias   \n",
       "30584  Conception de contenus multimédias   \n",
       "30585  Conception de contenus multimédias   \n",
       "30586  Conception de contenus multimédias   \n",
       "\n",
       "                                                               item_name  \n",
       "30577                                       Mener une action commerciale  \n",
       "30578                                                         E-commerce  \n",
       "30579                                     Contractualiser une prestation  \n",
       "30580                                                 Gestion financière  \n",
       "30581                                Dispositifs de financement culturel  \n",
       "30582   Définir les moyens humains, matériels et financiers d''un projet  \n",
       "30583  Sélectionner un projet en cohérence avec une politique artistique  \n",
       "30584                                          Négocier des partenariats  \n",
       "30585                       Établir un dossier de demande de financement  \n",
       "30586                                               Promouvoir un projet  "
      ]
     },
     "execution_count": 12,
     "metadata": {},
     "output_type": "execute_result"
    }
   ],
   "source": [
    "job_group_names = find_rome_dataset_by_name(rome_data, 'referentiel_code_rome').old.set_index('code_rome').libelle_rome\n",
    "item_names = items.new.set_index('code_ogr').libelle.drop_duplicates()\n",
    "links_merged['job_group_name'] = links_merged.code_rome.map(job_group_names)\n",
    "links_merged['item_name'] = links_merged.code_ogr.map(item_names)\n",
    "links_merged.dropna().head(10)"
   ]
  },
  {
   "cell_type": "markdown",
   "metadata": {},
   "source": [
    "Those fixes make sense (not sure why they were not done before, but let's not complain: it is fixed now)."
   ]
  },
  {
   "cell_type": "markdown",
   "metadata": {},
   "source": [
    "# Conclusion\n",
    "\n",
    "The new version of ROME, v333, introduces very minor changes which reflect quite well what they wrote in their [changelog](http://www.pole-emploi.org/front/common/tools/load_file.jspz?galleryId=75498&galleryTitle=ROME+Actualisation+du+23+octobre+2017). The transition should be transparent with a very small advantage over the old version."
   ]
  }
 ],
 "metadata": {
  "kernelspec": {
   "display_name": "Python 3",
   "language": "python",
   "name": "python3"
  },
  "language_info": {
   "codemirror_mode": {
    "name": "ipython",
    "version": 3
   },
   "file_extension": ".py",
   "mimetype": "text/x-python",
   "name": "python",
   "nbconvert_exporter": "python",
   "pygments_lexer": "ipython3",
   "version": "3.6.2"
  }
 },
 "nbformat": 4,
 "nbformat_minor": 1
}
