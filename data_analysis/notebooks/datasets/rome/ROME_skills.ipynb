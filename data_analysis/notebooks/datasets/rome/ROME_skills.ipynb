{
 "cells": [
  {
   "cell_type": "markdown",
   "metadata": {},
   "source": [
    "# ROME skills\n",
    "\n",
    "Author: Stephan <stephan@bayesimpact.org>\n",
    "\n",
    "Date: Jun 14, 2016\n",
    "\n",
    "We want to allow our users to build a profile of skills they have, in order to suggest suitable jobs to them. A PRD for this feature can be found at http://go/pe:profile-prd. \n",
    "\n",
    "We want to use the skills taxonomy from the ROME dataset because it allows us to extract a mapping from skills to jobs. The main questions we want to answer in this notebook are:\n",
    "\n",
    "* How many different skills do we have in total?\n",
    "* How many skills are common for a job?\n",
    "* Any other properties of the skills dataset?\n",
    "* Are some skills more unique to a job than others?\n",
    "* TODO: Are there jobs that have the exact same set of skills?"
   ]
  },
  {
   "cell_type": "code",
   "execution_count": 1,
   "metadata": {
    "collapsed": false
   },
   "outputs": [],
   "source": [
    "%matplotlib inline\n",
    "import os\n",
    "\n",
    "import pandas as pd\n",
    "import seaborn as _\n",
    "\n",
    "from bob_emploi.lib import read_data\n",
    "from bob_emploi.lib import plot_helpers\n",
    "\n",
    "data_folder = os.getenv('DATA_FOLDER')"
   ]
  },
  {
   "cell_type": "markdown",
   "metadata": {},
   "source": [
    "Before using the XML version of the data, I had a look at the CSV data. I saw that i could use `unix_coherence_item_v330_utf8` to establish a mapping between job_groups and skills, however I saw that the XML data contains this ordering of skills. I thought it could be quite useful, if that actually represents a ordering from more to less specific. That is why I used the XML version of the data in this case."
   ]
  },
  {
   "cell_type": "code",
   "execution_count": 2,
   "metadata": {
    "collapsed": false
   },
   "outputs": [],
   "source": [
    "fiche_dicts = read_data.load_fiches_from_xml(os.path.join(data_folder, 'rome/ficheMetierXml'))\n",
    "rome = [read_data.fiche_extractor(f) for f in fiche_dicts]\n",
    "skills_data = [dict(skill, code_rome=job['code_rome'], job_group_name=job['intitule'])\n",
    "               for job in rome\n",
    "               for skill in job['skills']]\n",
    "skills_raw = pd.DataFrame(skills_data)\n",
    "skills_raw.columns = ['skill_id', 'job_group_id', 'type', 'job_group_name', 'name', 'position', 'priorisation']"
   ]
  },
  {
   "cell_type": "markdown",
   "metadata": {},
   "source": [
    "## Overview of dataset structure"
   ]
  },
  {
   "cell_type": "markdown",
   "metadata": {},
   "source": [
    "A peek at the raw data."
   ]
  },
  {
   "cell_type": "code",
   "execution_count": 3,
   "metadata": {
    "collapsed": false
   },
   "outputs": [
    {
     "data": {
      "text/html": [
       "<div>\n",
       "<table border=\"1\" class=\"dataframe\">\n",
       "  <thead>\n",
       "    <tr style=\"text-align: right;\">\n",
       "      <th></th>\n",
       "      <th>skill_id</th>\n",
       "      <th>job_group_id</th>\n",
       "      <th>type</th>\n",
       "      <th>job_group_name</th>\n",
       "      <th>name</th>\n",
       "      <th>position</th>\n",
       "      <th>priorisation</th>\n",
       "    </tr>\n",
       "  </thead>\n",
       "  <tbody>\n",
       "    <tr>\n",
       "      <th>0</th>\n",
       "      <td>116765</td>\n",
       "      <td>A1101</td>\n",
       "      <td>1</td>\n",
       "      <td>Conduite d'engins agricoles et forestiers</td>\n",
       "      <td>Procédures de maintenance de matériel</td>\n",
       "      <td>1</td>\n",
       "      <td>1</td>\n",
       "    </tr>\n",
       "    <tr>\n",
       "      <th>1</th>\n",
       "      <td>116766</td>\n",
       "      <td>A1101</td>\n",
       "      <td>1</td>\n",
       "      <td>Conduite d'engins agricoles et forestiers</td>\n",
       "      <td>Procédures de maintenance de locaux</td>\n",
       "      <td>2</td>\n",
       "      <td>1</td>\n",
       "    </tr>\n",
       "    <tr>\n",
       "      <th>2</th>\n",
       "      <td>104547</td>\n",
       "      <td>A1101</td>\n",
       "      <td>1</td>\n",
       "      <td>Conduite d'engins agricoles et forestiers</td>\n",
       "      <td>Pneumatique</td>\n",
       "      <td>3</td>\n",
       "      <td>1</td>\n",
       "    </tr>\n",
       "    <tr>\n",
       "      <th>3</th>\n",
       "      <td>109995</td>\n",
       "      <td>A1101</td>\n",
       "      <td>1</td>\n",
       "      <td>Conduite d'engins agricoles et forestiers</td>\n",
       "      <td>Utilisation de système informatique (embarqué ...</td>\n",
       "      <td>4</td>\n",
       "      <td>1</td>\n",
       "    </tr>\n",
       "    <tr>\n",
       "      <th>4</th>\n",
       "      <td>100010</td>\n",
       "      <td>A1101</td>\n",
       "      <td>1</td>\n",
       "      <td>Conduite d'engins agricoles et forestiers</td>\n",
       "      <td>Utilisation d'engins forestiers</td>\n",
       "      <td>5</td>\n",
       "      <td>1</td>\n",
       "    </tr>\n",
       "  </tbody>\n",
       "</table>\n",
       "</div>"
      ],
      "text/plain": [
       "  skill_id job_group_id type                             job_group_name  \\\n",
       "0   116765        A1101    1  Conduite d'engins agricoles et forestiers   \n",
       "1   116766        A1101    1  Conduite d'engins agricoles et forestiers   \n",
       "2   104547        A1101    1  Conduite d'engins agricoles et forestiers   \n",
       "3   109995        A1101    1  Conduite d'engins agricoles et forestiers   \n",
       "4   100010        A1101    1  Conduite d'engins agricoles et forestiers   \n",
       "\n",
       "                                                name position priorisation  \n",
       "0              Procédures de maintenance de matériel        1            1  \n",
       "1                Procédures de maintenance de locaux        2            1  \n",
       "2                                        Pneumatique        3            1  \n",
       "3  Utilisation de système informatique (embarqué ...        4            1  \n",
       "4                    Utilisation d'engins forestiers        5            1  "
      ]
     },
     "execution_count": 3,
     "metadata": {},
     "output_type": "execute_result"
    }
   ],
   "source": [
    "skills_raw.head()"
   ]
  },
  {
   "cell_type": "code",
   "execution_count": 4,
   "metadata": {
    "collapsed": false
   },
   "outputs": [
    {
     "data": {
      "text/html": [
       "<div>\n",
       "<table border=\"1\" class=\"dataframe\">\n",
       "  <thead>\n",
       "    <tr style=\"text-align: right;\">\n",
       "      <th></th>\n",
       "      <th>count</th>\n",
       "      <th>unique</th>\n",
       "      <th>top</th>\n",
       "      <th>freq</th>\n",
       "    </tr>\n",
       "  </thead>\n",
       "  <tbody>\n",
       "    <tr>\n",
       "      <th>skill_id</th>\n",
       "      <td>5939</td>\n",
       "      <td>1888</td>\n",
       "      <td>118975</td>\n",
       "      <td>164</td>\n",
       "    </tr>\n",
       "    <tr>\n",
       "      <th>job_group_id</th>\n",
       "      <td>5939</td>\n",
       "      <td>531</td>\n",
       "      <td>K2107</td>\n",
       "      <td>66</td>\n",
       "    </tr>\n",
       "    <tr>\n",
       "      <th>type</th>\n",
       "      <td>5939</td>\n",
       "      <td>1</td>\n",
       "      <td>1</td>\n",
       "      <td>5939</td>\n",
       "    </tr>\n",
       "    <tr>\n",
       "      <th>job_group_name</th>\n",
       "      <td>5939</td>\n",
       "      <td>531</td>\n",
       "      <td>Enseignement général du second degré</td>\n",
       "      <td>66</td>\n",
       "    </tr>\n",
       "    <tr>\n",
       "      <th>name</th>\n",
       "      <td>5939</td>\n",
       "      <td>1887</td>\n",
       "      <td>Outils bureautiques</td>\n",
       "      <td>164</td>\n",
       "    </tr>\n",
       "    <tr>\n",
       "      <th>position</th>\n",
       "      <td>5939</td>\n",
       "      <td>66</td>\n",
       "      <td>1</td>\n",
       "      <td>557</td>\n",
       "    </tr>\n",
       "    <tr>\n",
       "      <th>priorisation</th>\n",
       "      <td>5939</td>\n",
       "      <td>1</td>\n",
       "      <td>1</td>\n",
       "      <td>5939</td>\n",
       "    </tr>\n",
       "  </tbody>\n",
       "</table>\n",
       "</div>"
      ],
      "text/plain": [
       "               count unique                                   top  freq\n",
       "skill_id        5939   1888                                118975   164\n",
       "job_group_id    5939    531                                 K2107    66\n",
       "type            5939      1                                     1  5939\n",
       "job_group_name  5939    531  Enseignement général du second degré    66\n",
       "name            5939   1887                   Outils bureautiques   164\n",
       "position        5939     66                                     1   557\n",
       "priorisation    5939      1                                     1  5939"
      ]
     },
     "execution_count": 4,
     "metadata": {},
     "output_type": "execute_result"
    }
   ],
   "source": [
    "skills_raw.describe().transpose()"
   ]
  },
  {
   "cell_type": "markdown",
   "metadata": {},
   "source": [
    "So we got 1741 different skills for the 531 different job groups in ROME. They are of two different types where one of them makes up about 70% of all skill occurrences (3964 / 5520). The most common skill is *Utilisation d'outils bureautiques...*. The `position` column suggests that they are ordered and the `priorisation` column does not contain any information.\n",
    "\n",
    "Let's clean up the data a little and look at the distribution of skill type on the deduplicated list of skills. With that I mean just investigating the list of 1741 unique skills, instead of skills being associated with jobs as in the table above."
   ]
  },
  {
   "cell_type": "code",
   "execution_count": 5,
   "metadata": {
    "collapsed": false
   },
   "outputs": [],
   "source": [
    "# Mapping extracted from data/rome/csv/unix_referentiel_competence_v330_utf8.csv\n",
    "COMPETENCE_TYPES = {\n",
    "    '1': 'theoretical_skill',\n",
    "    '2': 'action_skill'\n",
    "}\n",
    "\n",
    "skills = skills_raw.drop(['priorisation'], axis=1)\n",
    "skills['type'] = skills.type.map(COMPETENCE_TYPES)\n",
    "skills['position'] = skills.position.astype(int)"
   ]
  },
  {
   "cell_type": "code",
   "execution_count": 6,
   "metadata": {
    "collapsed": false
   },
   "outputs": [
    {
     "data": {
      "text/plain": [
       "theoretical_skill    1.0\n",
       "Name: type, dtype: float64"
      ]
     },
     "execution_count": 6,
     "metadata": {},
     "output_type": "execute_result"
    }
   ],
   "source": [
    "dedup_skills = skills.drop_duplicates(subset=['skill_id'])\n",
    "dedup_skills['type'].value_counts(normalize=True)"
   ]
  },
  {
   "cell_type": "markdown",
   "metadata": {},
   "source": [
    "The distribution of theoretical to action skills is present also in the deduplicated list of skills, not only in the skills associated to jobs.\n",
    "\n",
    "Just as a sanity check, make sure that each skill is only associated with one type."
   ]
  },
  {
   "cell_type": "code",
   "execution_count": 7,
   "metadata": {
    "collapsed": false
   },
   "outputs": [
    {
     "data": {
      "text/plain": [
       "1    1888\n",
       "Name: type, dtype: int64"
      ]
     },
     "execution_count": 7,
     "metadata": {},
     "output_type": "execute_result"
    }
   ],
   "source": [
    "skills.groupby('skill_id')['type'].nunique().value_counts()"
   ]
  },
  {
   "cell_type": "markdown",
   "metadata": {},
   "source": [
    "Good!"
   ]
  },
  {
   "cell_type": "markdown",
   "metadata": {},
   "source": [
    "## Ordering of skills\n",
    "\n",
    "Does that ordering actually play a role?\n",
    "\n",
    "Let's first check whether the position is unique per `job_group` or per `job_group` and `type`. From looking at the XML it looks like there are individual orderings per `type`, but I want to make sure."
   ]
  },
  {
   "cell_type": "code",
   "execution_count": 8,
   "metadata": {
    "collapsed": false
   },
   "outputs": [
    {
     "data": {
      "text/plain": [
       "37"
      ]
     },
     "execution_count": 8,
     "metadata": {},
     "output_type": "execute_result"
    }
   ],
   "source": [
    "skills.duplicated(subset=['job_group_id', 'type', 'position']).sum()"
   ]
  },
  {
   "cell_type": "code",
   "execution_count": 9,
   "metadata": {
    "collapsed": false
   },
   "outputs": [
    {
     "data": {
      "text/plain": [
       "37"
      ]
     },
     "execution_count": 9,
     "metadata": {},
     "output_type": "execute_result"
    }
   ],
   "source": [
    "skills.duplicated(subset=['job_group_id', 'position']).sum()"
   ]
  },
  {
   "cell_type": "markdown",
   "metadata": {},
   "source": [
    "Skills are ordered separately for the two types of skills."
   ]
  },
  {
   "cell_type": "markdown",
   "metadata": {},
   "source": [
    "#### are the skills higher up in the ordering maybe more specific to a certain job_group?"
   ]
  },
  {
   "cell_type": "code",
   "execution_count": 10,
   "metadata": {
    "collapsed": false
   },
   "outputs": [
    {
     "data": {
      "text/html": [
       "<div>\n",
       "<table border=\"1\" class=\"dataframe\">\n",
       "  <thead>\n",
       "    <tr style=\"text-align: right;\">\n",
       "      <th></th>\n",
       "      <th></th>\n",
       "      <th>first</th>\n",
       "      <th>last</th>\n",
       "    </tr>\n",
       "    <tr>\n",
       "      <th>job_group_name</th>\n",
       "      <th>type</th>\n",
       "      <th></th>\n",
       "      <th></th>\n",
       "    </tr>\n",
       "  </thead>\n",
       "  <tbody>\n",
       "    <tr>\n",
       "      <th>Abattage et découpe des viandes</th>\n",
       "      <th>theoretical_skill</th>\n",
       "      <td>Etourdissement d'un animal par électrocution/é...</td>\n",
       "      <td>Appréciation sensorielle</td>\n",
       "    </tr>\n",
       "    <tr>\n",
       "      <th>Accompagnement de voyages, d'activités culturelles ou sportives</th>\n",
       "      <th>theoretical_skill</th>\n",
       "      <td>Techniques d'animation de groupe</td>\n",
       "      <td>Techniques de communication</td>\n",
       "    </tr>\n",
       "    <tr>\n",
       "      <th>Accompagnement et médiation familiale</th>\n",
       "      <th>theoretical_skill</th>\n",
       "      <td>Techniques de médiation</td>\n",
       "      <td>Techniques de communication</td>\n",
       "    </tr>\n",
       "    <tr>\n",
       "      <th>Accompagnement médicosocial</th>\n",
       "      <th>theoretical_skill</th>\n",
       "      <td>Psychomotricité</td>\n",
       "      <td>Gestes d'urgence et de secours</td>\n",
       "    </tr>\n",
       "    <tr>\n",
       "      <th>Accueil et renseignements</th>\n",
       "      <th>theoretical_skill</th>\n",
       "      <td>Veille informationnelle</td>\n",
       "      <td>Modalités d'accueil</td>\n",
       "    </tr>\n",
       "    <tr>\n",
       "      <th>Accueil et services bancaires</th>\n",
       "      <th>theoretical_skill</th>\n",
       "      <td>Traitement des opérations sur titres</td>\n",
       "      <td>Procédures d'administration de compte bancaire</td>\n",
       "    </tr>\n",
       "    <tr>\n",
       "      <th>Accueil touristique</th>\n",
       "      <th>theoretical_skill</th>\n",
       "      <td>Méthode de classement et d'archivage</td>\n",
       "      <td>Principes de la relation client</td>\n",
       "    </tr>\n",
       "    <tr>\n",
       "      <th>Achat vente d'objets d'art, anciens ou d'occasion</th>\n",
       "      <th>theoretical_skill</th>\n",
       "      <td>Histoire de l'art</td>\n",
       "      <td>Procédures d'encaissement</td>\n",
       "    </tr>\n",
       "    <tr>\n",
       "      <th>Achats</th>\n",
       "      <th>theoretical_skill</th>\n",
       "      <td>Techniques commerciales</td>\n",
       "      <td>Procédures d'appels d'offres</td>\n",
       "    </tr>\n",
       "    <tr>\n",
       "      <th>Action sociale</th>\n",
       "      <th>theoretical_skill</th>\n",
       "      <td>Dispositifs d'aide sociale</td>\n",
       "      <td>Droit de la sécurité sociale</td>\n",
       "    </tr>\n",
       "    <tr>\n",
       "      <th>Administration de systèmes d'information</th>\n",
       "      <th>theoretical_skill</th>\n",
       "      <td>Réglementation sur la protection des données à...</td>\n",
       "      <td>Caractéristiques des logiciels d'interface (mi...</td>\n",
       "    </tr>\n",
       "    <tr>\n",
       "      <th>Administration des ventes</th>\n",
       "      <th>theoretical_skill</th>\n",
       "      <td>Analyse statistique</td>\n",
       "      <td>Organisation de la chaîne logistique</td>\n",
       "    </tr>\n",
       "    <tr>\n",
       "      <th>Affrètement transport</th>\n",
       "      <th>theoretical_skill</th>\n",
       "      <td>Techniques commerciales</td>\n",
       "      <td>Géographie des transports</td>\n",
       "    </tr>\n",
       "    <tr>\n",
       "      <th>Aide agricole de production fruitière ou viticole</th>\n",
       "      <th>theoretical_skill</th>\n",
       "      <td>Eclaircissage</td>\n",
       "      <td>Normes qualité</td>\n",
       "    </tr>\n",
       "    <tr>\n",
       "      <th>Aide agricole de production légumière ou végétale</th>\n",
       "      <th>theoretical_skill</th>\n",
       "      <td>Desherbage</td>\n",
       "      <td>Normes qualité</td>\n",
       "    </tr>\n",
       "    <tr>\n",
       "      <th>Aide aux bénéficiaires d'une mesure de protection juridique</th>\n",
       "      <th>theoretical_skill</th>\n",
       "      <td>Techniques de conduite d'entretien</td>\n",
       "      <td>Caractéristiques socio-culturelles des publics</td>\n",
       "    </tr>\n",
       "    <tr>\n",
       "      <th>Aide aux soins animaux</th>\n",
       "      <th>theoretical_skill</th>\n",
       "      <td>Techniques d'approche et de manipulation des a...</td>\n",
       "      <td>Pathologies animales</td>\n",
       "    </tr>\n",
       "    <tr>\n",
       "      <th>Aide d'élevage agricole et aquacole</th>\n",
       "      <th>theoretical_skill</th>\n",
       "      <td>Techniques d'approche et de manipulation des a...</td>\n",
       "      <td>Réglementation d'Appellation d'Origine Contrôl...</td>\n",
       "    </tr>\n",
       "    <tr>\n",
       "      <th>Aide en puériculture</th>\n",
       "      <th>theoretical_skill</th>\n",
       "      <td>Pathologies de l'enfant</td>\n",
       "      <td>Diététique</td>\n",
       "    </tr>\n",
       "    <tr>\n",
       "      <th>Aide et médiation judiciaire</th>\n",
       "      <th>theoretical_skill</th>\n",
       "      <td>Généalogie</td>\n",
       "      <td>Droit européen</td>\n",
       "    </tr>\n",
       "    <tr>\n",
       "      <th>Ajustement et montage de fabrication</th>\n",
       "      <th>theoretical_skill</th>\n",
       "      <td>Banc de contrôle</td>\n",
       "      <td>Utilisation d'outillages manuels</td>\n",
       "    </tr>\n",
       "    <tr>\n",
       "      <th>Analyse de crédits et risques bancaires</th>\n",
       "      <th>theoretical_skill</th>\n",
       "      <td>Techniques pédagogiques</td>\n",
       "      <td>Règles de traitement des opérations bancaires</td>\n",
       "    </tr>\n",
       "    <tr>\n",
       "      <th>Analyse de tendance</th>\n",
       "      <th>theoretical_skill</th>\n",
       "      <td>Veille commerciale</td>\n",
       "      <td>Méthodes d'enquête</td>\n",
       "    </tr>\n",
       "    <tr>\n",
       "      <th>Analyse et ingénierie financière</th>\n",
       "      <th>theoretical_skill</th>\n",
       "      <td>Veille informationnelle</td>\n",
       "      <td>Calculs financiers</td>\n",
       "    </tr>\n",
       "    <tr>\n",
       "      <th>Analyses médicales</th>\n",
       "      <th>theoretical_skill</th>\n",
       "      <td>Guide de Bonne Utilisation de l'Informatique (...</td>\n",
       "      <td>Validation biologique</td>\n",
       "    </tr>\n",
       "    <tr>\n",
       "      <th>Animation d'activités culturelles ou ludiques</th>\n",
       "      <th>theoretical_skill</th>\n",
       "      <td>Outils bureautiques</td>\n",
       "      <td>Techniques de communication</td>\n",
       "    </tr>\n",
       "    <tr>\n",
       "      <th>Animation de loisirs auprès d'enfants ou d'adolescents</th>\n",
       "      <th>theoretical_skill</th>\n",
       "      <td>Psychologie de l'enfant</td>\n",
       "      <td>Techniques d'éveil de l'enfant</td>\n",
       "    </tr>\n",
       "    <tr>\n",
       "      <th>Animation de site multimédia</th>\n",
       "      <th>theoretical_skill</th>\n",
       "      <td>Règles de diffusion et de communication de l'i...</td>\n",
       "      <td>Rédaction de contenu web</td>\n",
       "    </tr>\n",
       "    <tr>\n",
       "      <th>Animation de vente</th>\n",
       "      <th>theoretical_skill</th>\n",
       "      <td>Utilisation de micro</td>\n",
       "      <td>Techniques de vente</td>\n",
       "    </tr>\n",
       "    <tr>\n",
       "      <th>Animation musicale et scénique</th>\n",
       "      <th>theoretical_skill</th>\n",
       "      <td>Répertoire de musiques pop/rock</td>\n",
       "      <td>Caractéristiques des matériels d'éclairage</td>\n",
       "    </tr>\n",
       "    <tr>\n",
       "      <th>...</th>\n",
       "      <th>...</th>\n",
       "      <td>...</td>\n",
       "      <td>...</td>\n",
       "    </tr>\n",
       "    <tr>\n",
       "      <th>Transaction immobilière</th>\n",
       "      <th>theoretical_skill</th>\n",
       "      <td>Méthodes de transaction immobilière</td>\n",
       "      <td>Droit immobilier</td>\n",
       "    </tr>\n",
       "    <tr>\n",
       "      <th>Travaux d'étanchéité et d'isolation</th>\n",
       "      <th>theoretical_skill</th>\n",
       "      <td>Techniques de pose des revêtements souples</td>\n",
       "      <td>Collage à froid</td>\n",
       "    </tr>\n",
       "    <tr>\n",
       "      <th>Trésorerie et financement</th>\n",
       "      <th>theoretical_skill</th>\n",
       "      <td>Gestion de trésorerie</td>\n",
       "      <td>Comptabilité analytique</td>\n",
       "    </tr>\n",
       "    <tr>\n",
       "      <th>Téléconseil et télévente</th>\n",
       "      <th>theoretical_skill</th>\n",
       "      <td>Techniques de vente par téléphone</td>\n",
       "      <td>Argumentation commerciale</td>\n",
       "    </tr>\n",
       "    <tr>\n",
       "      <th>Vente de voyages</th>\n",
       "      <th>theoretical_skill</th>\n",
       "      <td>Techniques de prévention et de gestion de conf...</td>\n",
       "      <td>Géographie du tourisme</td>\n",
       "    </tr>\n",
       "    <tr>\n",
       "      <th>Vente de végétaux</th>\n",
       "      <th>theoretical_skill</th>\n",
       "      <td>Procédures d'encaissement</td>\n",
       "      <td>Typologie du client</td>\n",
       "    </tr>\n",
       "    <tr>\n",
       "      <th>Vente en alimentation</th>\n",
       "      <th>theoretical_skill</th>\n",
       "      <td>Utilisation d'engins de manutention non motori...</td>\n",
       "      <td>Utilisation d'appareils de lecture optique de ...</td>\n",
       "    </tr>\n",
       "    <tr>\n",
       "      <th>Vente en animalerie</th>\n",
       "      <th>theoretical_skill</th>\n",
       "      <td>Procédures d'encaissement</td>\n",
       "      <td>Procédures de prévention des risques sanitaires</td>\n",
       "    </tr>\n",
       "    <tr>\n",
       "      <th>Vente en articles de sport et loisirs</th>\n",
       "      <th>theoretical_skill</th>\n",
       "      <td>Procédures d'encaissement</td>\n",
       "      <td>Argumentation commerciale</td>\n",
       "    </tr>\n",
       "    <tr>\n",
       "      <th>Vente en décoration et équipement du foyer</th>\n",
       "      <th>theoretical_skill</th>\n",
       "      <td>Procédures d'encaissement</td>\n",
       "      <td>Gestes et postures de manutention</td>\n",
       "    </tr>\n",
       "    <tr>\n",
       "      <th>Vente en gros de matériel et équipement</th>\n",
       "      <th>theoretical_skill</th>\n",
       "      <td>Commande en gros</td>\n",
       "      <td>Techniques commerciales</td>\n",
       "    </tr>\n",
       "    <tr>\n",
       "      <th>Vente en gros de produits frais</th>\n",
       "      <th>theoretical_skill</th>\n",
       "      <td>Commande en gros</td>\n",
       "      <td>Normes rédactionnelles</td>\n",
       "    </tr>\n",
       "    <tr>\n",
       "      <th>Vente en habillement et accessoires de la personne</th>\n",
       "      <th>theoretical_skill</th>\n",
       "      <td>Procédures d'encaissement</td>\n",
       "      <td>Typologie du client</td>\n",
       "    </tr>\n",
       "    <tr>\n",
       "      <th>Éclairage spectacle</th>\n",
       "      <th>theoretical_skill</th>\n",
       "      <td>Procédures de maintenance de matériel d'éclairage</td>\n",
       "      <td>Utilisation d'outillages manuels</td>\n",
       "    </tr>\n",
       "    <tr>\n",
       "      <th>Éducation de jeunes enfants</th>\n",
       "      <th>theoretical_skill</th>\n",
       "      <td>Techniques d'écoute et de la relation à la per...</td>\n",
       "      <td>Règles d'hygiène et de sécurité</td>\n",
       "    </tr>\n",
       "    <tr>\n",
       "      <th>Éducation en activités sportives</th>\n",
       "      <th>theoretical_skill</th>\n",
       "      <td>Techniques d'animation de groupe</td>\n",
       "      <td>Gestion de projet</td>\n",
       "    </tr>\n",
       "    <tr>\n",
       "      <th>Éducation et surveillance au sein d'établissements d'enseignement</th>\n",
       "      <th>theoretical_skill</th>\n",
       "      <td>Règles de vie collective</td>\n",
       "      <td>Techniques de prévention et de gestion de conf...</td>\n",
       "    </tr>\n",
       "    <tr>\n",
       "      <th>Élaboration de plan média</th>\n",
       "      <th>theoretical_skill</th>\n",
       "      <td>Techniques de mesure d'audience</td>\n",
       "      <td>Gestion de projet</td>\n",
       "    </tr>\n",
       "    <tr>\n",
       "      <th>Électricité bâtiment</th>\n",
       "      <th>theoretical_skill</th>\n",
       "      <td>Electricité du domaine des Voix, Données, Imag...</td>\n",
       "      <td>Mécanique</td>\n",
       "    </tr>\n",
       "    <tr>\n",
       "      <th>Élevage bovin ou équin</th>\n",
       "      <th>theoretical_skill</th>\n",
       "      <td>Pathologies animales</td>\n",
       "      <td>Réglementation d'Appellation d'Origine Contrôl...</td>\n",
       "    </tr>\n",
       "    <tr>\n",
       "      <th>Élevage d'animaux sauvages ou de compagnie</th>\n",
       "      <th>theoretical_skill</th>\n",
       "      <td>Règles de sécurité</td>\n",
       "      <td>Engins agricoles</td>\n",
       "    </tr>\n",
       "    <tr>\n",
       "      <th>Élevage de lapins et volailles</th>\n",
       "      <th>theoretical_skill</th>\n",
       "      <td>Installations énergétiques</td>\n",
       "      <td>Réglementation d'Appellation d'Origine Contrôl...</td>\n",
       "    </tr>\n",
       "    <tr>\n",
       "      <th>Élevage ovin ou caprin</th>\n",
       "      <th>theoretical_skill</th>\n",
       "      <td>Biologie animale</td>\n",
       "      <td>Pathologies animales</td>\n",
       "    </tr>\n",
       "    <tr>\n",
       "      <th>Élevage porcin</th>\n",
       "      <th>theoretical_skill</th>\n",
       "      <td>Logiciel de calcul de ration alimentaire</td>\n",
       "      <td>Utilisation de matériel de nettoyage</td>\n",
       "    </tr>\n",
       "    <tr>\n",
       "      <th>Études - modèles en industrie des matériaux souples</th>\n",
       "      <th>theoretical_skill</th>\n",
       "      <td>Logiciels de modélisation et simulation</td>\n",
       "      <td>Procédures d'essayage</td>\n",
       "    </tr>\n",
       "    <tr>\n",
       "      <th>Études actuarielles en assurances</th>\n",
       "      <th>theoretical_skill</th>\n",
       "      <td>Finance</td>\n",
       "      <td>Droit des assurances</td>\n",
       "    </tr>\n",
       "    <tr>\n",
       "      <th>Études et développement de réseaux de télécoms</th>\n",
       "      <th>theoretical_skill</th>\n",
       "      <td>Protocoles et normes télécoms</td>\n",
       "      <td>Traitement du signal</td>\n",
       "    </tr>\n",
       "    <tr>\n",
       "      <th>Études et développement informatique</th>\n",
       "      <th>theoretical_skill</th>\n",
       "      <td>Technologies de l'accessibilité numérique</td>\n",
       "      <td>Programmation informatique</td>\n",
       "    </tr>\n",
       "    <tr>\n",
       "      <th>Études et prospectives socio-économiques</th>\n",
       "      <th>theoretical_skill</th>\n",
       "      <td>Econométrie</td>\n",
       "      <td>Logiciels de gestion de base de données</td>\n",
       "    </tr>\n",
       "    <tr>\n",
       "      <th>Études géologiques</th>\n",
       "      <th>theoretical_skill</th>\n",
       "      <td>Sondage de sol</td>\n",
       "      <td>Mécanique des fluides</td>\n",
       "    </tr>\n",
       "  </tbody>\n",
       "</table>\n",
       "<p>531 rows × 2 columns</p>\n",
       "</div>"
      ],
      "text/plain": [
       "                                                                                                                  first  \\\n",
       "job_group_name                                     type                                                                   \n",
       "Abattage et découpe des viandes                    theoretical_skill  Etourdissement d'un animal par électrocution/é...   \n",
       "Accompagnement de voyages, d'activités culturel... theoretical_skill                   Techniques d'animation de groupe   \n",
       "Accompagnement et médiation familiale              theoretical_skill                            Techniques de médiation   \n",
       "Accompagnement médicosocial                        theoretical_skill                                    Psychomotricité   \n",
       "Accueil et renseignements                          theoretical_skill                            Veille informationnelle   \n",
       "Accueil et services bancaires                      theoretical_skill               Traitement des opérations sur titres   \n",
       "Accueil touristique                                theoretical_skill               Méthode de classement et d'archivage   \n",
       "Achat vente d'objets d'art, anciens ou d'occasion  theoretical_skill                                  Histoire de l'art   \n",
       "Achats                                             theoretical_skill                            Techniques commerciales   \n",
       "Action sociale                                     theoretical_skill                         Dispositifs d'aide sociale   \n",
       "Administration de systèmes d'information           theoretical_skill  Réglementation sur la protection des données à...   \n",
       "Administration des ventes                          theoretical_skill                                Analyse statistique   \n",
       "Affrètement transport                              theoretical_skill                            Techniques commerciales   \n",
       "Aide agricole de production fruitière ou viticole  theoretical_skill                                      Eclaircissage   \n",
       "Aide agricole de production légumière ou végétale  theoretical_skill                                         Desherbage   \n",
       "Aide aux bénéficiaires d'une mesure de protecti... theoretical_skill                 Techniques de conduite d'entretien   \n",
       "Aide aux soins animaux                             theoretical_skill  Techniques d'approche et de manipulation des a...   \n",
       "Aide d'élevage agricole et aquacole                theoretical_skill  Techniques d'approche et de manipulation des a...   \n",
       "Aide en puériculture                               theoretical_skill                            Pathologies de l'enfant   \n",
       "Aide et médiation judiciaire                       theoretical_skill                                         Généalogie   \n",
       "Ajustement et montage de fabrication               theoretical_skill                                   Banc de contrôle   \n",
       "Analyse de crédits et risques bancaires            theoretical_skill                            Techniques pédagogiques   \n",
       "Analyse de tendance                                theoretical_skill                                 Veille commerciale   \n",
       "Analyse et ingénierie financière                   theoretical_skill                            Veille informationnelle   \n",
       "Analyses médicales                                 theoretical_skill  Guide de Bonne Utilisation de l'Informatique (...   \n",
       "Animation d'activités culturelles ou ludiques      theoretical_skill                                Outils bureautiques   \n",
       "Animation de loisirs auprès d'enfants ou d'adol... theoretical_skill                            Psychologie de l'enfant   \n",
       "Animation de site multimédia                       theoretical_skill  Règles de diffusion et de communication de l'i...   \n",
       "Animation de vente                                 theoretical_skill                               Utilisation de micro   \n",
       "Animation musicale et scénique                     theoretical_skill                    Répertoire de musiques pop/rock   \n",
       "...                                                                                                                 ...   \n",
       "Transaction immobilière                            theoretical_skill                Méthodes de transaction immobilière   \n",
       "Travaux d'étanchéité et d'isolation                theoretical_skill         Techniques de pose des revêtements souples   \n",
       "Trésorerie et financement                          theoretical_skill                              Gestion de trésorerie   \n",
       "Téléconseil et télévente                           theoretical_skill                  Techniques de vente par téléphone   \n",
       "Vente de voyages                                   theoretical_skill  Techniques de prévention et de gestion de conf...   \n",
       "Vente de végétaux                                  theoretical_skill                          Procédures d'encaissement   \n",
       "Vente en alimentation                              theoretical_skill  Utilisation d'engins de manutention non motori...   \n",
       "Vente en animalerie                                theoretical_skill                          Procédures d'encaissement   \n",
       "Vente en articles de sport et loisirs              theoretical_skill                          Procédures d'encaissement   \n",
       "Vente en décoration et équipement du foyer         theoretical_skill                          Procédures d'encaissement   \n",
       "Vente en gros de matériel et équipement            theoretical_skill                                   Commande en gros   \n",
       "Vente en gros de produits frais                    theoretical_skill                                   Commande en gros   \n",
       "Vente en habillement et accessoires de la personne theoretical_skill                          Procédures d'encaissement   \n",
       "Éclairage spectacle                                theoretical_skill  Procédures de maintenance de matériel d'éclairage   \n",
       "Éducation de jeunes enfants                        theoretical_skill  Techniques d'écoute et de la relation à la per...   \n",
       "Éducation en activités sportives                   theoretical_skill                   Techniques d'animation de groupe   \n",
       "Éducation et surveillance au sein d'établisseme... theoretical_skill                           Règles de vie collective   \n",
       "Élaboration de plan média                          theoretical_skill                    Techniques de mesure d'audience   \n",
       "Électricité bâtiment                               theoretical_skill  Electricité du domaine des Voix, Données, Imag...   \n",
       "Élevage bovin ou équin                             theoretical_skill                               Pathologies animales   \n",
       "Élevage d'animaux sauvages ou de compagnie         theoretical_skill                                 Règles de sécurité   \n",
       "Élevage de lapins et volailles                     theoretical_skill                         Installations énergétiques   \n",
       "Élevage ovin ou caprin                             theoretical_skill                                   Biologie animale   \n",
       "Élevage porcin                                     theoretical_skill           Logiciel de calcul de ration alimentaire   \n",
       "Études - modèles en industrie des matériaux sou... theoretical_skill            Logiciels de modélisation et simulation   \n",
       "Études actuarielles en assurances                  theoretical_skill                                            Finance   \n",
       "Études et développement de réseaux de télécoms     theoretical_skill                      Protocoles et normes télécoms   \n",
       "Études et développement informatique               theoretical_skill          Technologies de l'accessibilité numérique   \n",
       "Études et prospectives socio-économiques           theoretical_skill                                        Econométrie   \n",
       "Études géologiques                                 theoretical_skill                                     Sondage de sol   \n",
       "\n",
       "                                                                                                                   last  \n",
       "job_group_name                                     type                                                                  \n",
       "Abattage et découpe des viandes                    theoretical_skill                           Appréciation sensorielle  \n",
       "Accompagnement de voyages, d'activités culturel... theoretical_skill                        Techniques de communication  \n",
       "Accompagnement et médiation familiale              theoretical_skill                        Techniques de communication  \n",
       "Accompagnement médicosocial                        theoretical_skill                     Gestes d'urgence et de secours  \n",
       "Accueil et renseignements                          theoretical_skill                                Modalités d'accueil  \n",
       "Accueil et services bancaires                      theoretical_skill     Procédures d'administration de compte bancaire  \n",
       "Accueil touristique                                theoretical_skill                    Principes de la relation client  \n",
       "Achat vente d'objets d'art, anciens ou d'occasion  theoretical_skill                          Procédures d'encaissement  \n",
       "Achats                                             theoretical_skill                       Procédures d'appels d'offres  \n",
       "Action sociale                                     theoretical_skill                       Droit de la sécurité sociale  \n",
       "Administration de systèmes d'information           theoretical_skill  Caractéristiques des logiciels d'interface (mi...  \n",
       "Administration des ventes                          theoretical_skill               Organisation de la chaîne logistique  \n",
       "Affrètement transport                              theoretical_skill                          Géographie des transports  \n",
       "Aide agricole de production fruitière ou viticole  theoretical_skill                                     Normes qualité  \n",
       "Aide agricole de production légumière ou végétale  theoretical_skill                                     Normes qualité  \n",
       "Aide aux bénéficiaires d'une mesure de protecti... theoretical_skill     Caractéristiques socio-culturelles des publics  \n",
       "Aide aux soins animaux                             theoretical_skill                               Pathologies animales  \n",
       "Aide d'élevage agricole et aquacole                theoretical_skill  Réglementation d'Appellation d'Origine Contrôl...  \n",
       "Aide en puériculture                               theoretical_skill                                         Diététique  \n",
       "Aide et médiation judiciaire                       theoretical_skill                                     Droit européen  \n",
       "Ajustement et montage de fabrication               theoretical_skill                   Utilisation d'outillages manuels  \n",
       "Analyse de crédits et risques bancaires            theoretical_skill      Règles de traitement des opérations bancaires  \n",
       "Analyse de tendance                                theoretical_skill                                 Méthodes d'enquête  \n",
       "Analyse et ingénierie financière                   theoretical_skill                                 Calculs financiers  \n",
       "Analyses médicales                                 theoretical_skill                              Validation biologique  \n",
       "Animation d'activités culturelles ou ludiques      theoretical_skill                        Techniques de communication  \n",
       "Animation de loisirs auprès d'enfants ou d'adol... theoretical_skill                     Techniques d'éveil de l'enfant  \n",
       "Animation de site multimédia                       theoretical_skill                           Rédaction de contenu web  \n",
       "Animation de vente                                 theoretical_skill                                Techniques de vente  \n",
       "Animation musicale et scénique                     theoretical_skill         Caractéristiques des matériels d'éclairage  \n",
       "...                                                                                                                 ...  \n",
       "Transaction immobilière                            theoretical_skill                                   Droit immobilier  \n",
       "Travaux d'étanchéité et d'isolation                theoretical_skill                                    Collage à froid  \n",
       "Trésorerie et financement                          theoretical_skill                            Comptabilité analytique  \n",
       "Téléconseil et télévente                           theoretical_skill                          Argumentation commerciale  \n",
       "Vente de voyages                                   theoretical_skill                             Géographie du tourisme  \n",
       "Vente de végétaux                                  theoretical_skill                                Typologie du client  \n",
       "Vente en alimentation                              theoretical_skill  Utilisation d'appareils de lecture optique de ...  \n",
       "Vente en animalerie                                theoretical_skill    Procédures de prévention des risques sanitaires  \n",
       "Vente en articles de sport et loisirs              theoretical_skill                          Argumentation commerciale  \n",
       "Vente en décoration et équipement du foyer         theoretical_skill                  Gestes et postures de manutention  \n",
       "Vente en gros de matériel et équipement            theoretical_skill                            Techniques commerciales  \n",
       "Vente en gros de produits frais                    theoretical_skill                             Normes rédactionnelles  \n",
       "Vente en habillement et accessoires de la personne theoretical_skill                                Typologie du client  \n",
       "Éclairage spectacle                                theoretical_skill                   Utilisation d'outillages manuels  \n",
       "Éducation de jeunes enfants                        theoretical_skill                    Règles d'hygiène et de sécurité  \n",
       "Éducation en activités sportives                   theoretical_skill                                  Gestion de projet  \n",
       "Éducation et surveillance au sein d'établisseme... theoretical_skill  Techniques de prévention et de gestion de conf...  \n",
       "Élaboration de plan média                          theoretical_skill                                  Gestion de projet  \n",
       "Électricité bâtiment                               theoretical_skill                                          Mécanique  \n",
       "Élevage bovin ou équin                             theoretical_skill  Réglementation d'Appellation d'Origine Contrôl...  \n",
       "Élevage d'animaux sauvages ou de compagnie         theoretical_skill                                   Engins agricoles  \n",
       "Élevage de lapins et volailles                     theoretical_skill  Réglementation d'Appellation d'Origine Contrôl...  \n",
       "Élevage ovin ou caprin                             theoretical_skill                               Pathologies animales  \n",
       "Élevage porcin                                     theoretical_skill               Utilisation de matériel de nettoyage  \n",
       "Études - modèles en industrie des matériaux sou... theoretical_skill                              Procédures d'essayage  \n",
       "Études actuarielles en assurances                  theoretical_skill                               Droit des assurances  \n",
       "Études et développement de réseaux de télécoms     theoretical_skill                               Traitement du signal  \n",
       "Études et développement informatique               theoretical_skill                         Programmation informatique  \n",
       "Études et prospectives socio-économiques           theoretical_skill            Logiciels de gestion de base de données  \n",
       "Études géologiques                                 theoretical_skill                              Mécanique des fluides  \n",
       "\n",
       "[531 rows x 2 columns]"
      ]
     },
     "execution_count": 10,
     "metadata": {},
     "output_type": "execute_result"
    }
   ],
   "source": [
    "skills = skills.sort_values('position')\n",
    "first = skills.groupby(['job_group_name', 'type']).first().name\n",
    "last = skills.groupby(['job_group_name', 'type']).last().name\n",
    "pd.concat([first, last], axis=1, keys=['first', 'last'])"
   ]
  },
  {
   "cell_type": "markdown",
   "metadata": {},
   "source": [
    "Feedback I got from Pascal: I'm sorry but even if I read French quite fluently I cannot tell whether they are ordered, so I believe they are not.\n",
    "\"Éducation de jeunes enfants\" (young kinds education), has its first theoritical skill being \"Civil Law\" and its last \"Technics of listening and realtion to people\": I believe the last one is more correlated to the job group.\n",
    "\"Élevage ovin ou caprin\" (Breeding of sheep or goats) has its first action skill being \"Setup of birth cages\", and the last one \"welding\". I believe the first one is more correlated to the job group.\n",
    "\n",
    "TODO: \n",
    "\n",
    "However I feel that we can compute some interesting measure of it:\n",
    "1. assign a specificity score to each skill by computing some reverse function of its frequency among job groups (1 / # of job groups with this skill)\n",
    "2. normalize positions from 0 to 1 for each job group\n",
    "3. plot 1 & 2 and see if there's any kind of correlation\n",
    "Supposedly we should see very specific skills being closer to 0.\n",
    "\n",
    "To make it even closer to something useful, you can also weigh each job group with the number of persons in this job group, for instance using a proxy with the FHS."
   ]
  },
  {
   "cell_type": "markdown",
   "metadata": {},
   "source": [
    "## Skills per job\n",
    "\n",
    "How many different skills are usually associated to a job?"
   ]
  },
  {
   "cell_type": "code",
   "execution_count": 11,
   "metadata": {
    "collapsed": false
   },
   "outputs": [
    {
     "data": {
      "image/png": "[encoded data removed]",
      "text/plain": [
       "<matplotlib.figure.Figure at 0x7f83fc3ac908>"
      ]
     },
     "metadata": {},
     "output_type": "display_data"
    }
   ],
   "source": [
    "_ = skills.groupby('job_group_id').skill_id.nunique().hist()"
   ]
  },
  {
   "cell_type": "markdown",
   "metadata": {},
   "source": [
    "That's a neat distribution with a clear peak around 10. Florian asked in the PRD 'how many skills do we plan to collect per user'. With users having had several jobs in their past, I would expect a user to pick between 15-30 skills, as a very rough estimate. This of course also depends on the typical skill overlap between jobs and a probobably higher skill overlap between jobs in the same field.\n",
    "\n",
    "Also, as we saw in the summary statistics above, all 531 job groups in ROME have at least one skill associated with it.\n",
    "\n",
    "**Is there a difference between the number of theoretical and action skills?**"
   ]
  },
  {
   "cell_type": "code",
   "execution_count": 12,
   "metadata": {
    "collapsed": false,
    "scrolled": false
   },
   "outputs": [
    {
     "data": {
      "image/png": "[encoded data removed]",
      "text/plain": [
       "<matplotlib.figure.Figure at 0x7f83c7d4d0f0>"
      ]
     },
     "metadata": {},
     "output_type": "display_data"
    }
   ],
   "source": [
    "by_job_by_type = skills.groupby(['job_group_id', 'type'])\n",
    "unique_job_counts = by_job_by_type.skill_id.nunique().reset_index()\n",
    "_ = unique_job_counts.hist(by='type', normed=True, sharex=True, sharey=True)"
   ]
  },
  {
   "cell_type": "markdown",
   "metadata": {},
   "source": [
    "The theoretical skills resemble the above distribution, but many jobs seem to have only one or two action skills."
   ]
  },
  {
   "cell_type": "markdown",
   "metadata": {},
   "source": [
    "## Let's see how specific skills are to a job group.\n",
    "\n",
    "Because each skill only appears once per job_group, I can simply divide the skill frequency by number of job_groups."
   ]
  },
  {
   "cell_type": "code",
   "execution_count": 13,
   "metadata": {
    "collapsed": false
   },
   "outputs": [
    {
     "data": {
      "image/png": "[encoded data removed]",
      "text/plain": [
       "<matplotlib.figure.Figure at 0x7f83ca6acfd0>"
      ]
     },
     "metadata": {},
     "output_type": "display_data"
    }
   ],
   "source": [
    "skill_frequency = skills.name.value_counts() / skills.job_group_id.nunique()\n",
    "skill_frequency.index = pd.Series(range(len(skill_frequency))) / len(skill_frequency)\n",
    "_ = skill_frequency.plot(figsize=(8, 4))"
   ]
  },
  {
   "cell_type": "markdown",
   "metadata": {},
   "source": [
    "There seem to be a very few skills that are associated with lots of different jobs. Most of the skills seem to be very specific to a job. \n",
    "\n",
    "That means that we might have trouble suggesting totally new jobs for the skills a user imported from their old job, because there might be hardly any overlap between skills of his old job and a potential new job. Except of the few very common skills that probably don't provide much signal.\n",
    "\n",
    "**What are those very common skills?**"
   ]
  },
  {
   "cell_type": "code",
   "execution_count": 14,
   "metadata": {
    "collapsed": false
   },
   "outputs": [
    {
     "data": {
      "text/html": [
       "<div>\n",
       "<table border=\"1\" class=\"dataframe\">\n",
       "  <thead>\n",
       "    <tr style=\"text-align: right;\">\n",
       "      <th></th>\n",
       "      <th></th>\n",
       "      <th>skill_id</th>\n",
       "    </tr>\n",
       "    <tr>\n",
       "      <th>name</th>\n",
       "      <th>type</th>\n",
       "      <th></th>\n",
       "    </tr>\n",
       "  </thead>\n",
       "  <tbody>\n",
       "    <tr>\n",
       "      <th>Outils bureautiques</th>\n",
       "      <th>theoretical_skill</th>\n",
       "      <td>164</td>\n",
       "    </tr>\n",
       "    <tr>\n",
       "      <th>Normes qualité</th>\n",
       "      <th>theoretical_skill</th>\n",
       "      <td>84</td>\n",
       "    </tr>\n",
       "    <tr>\n",
       "      <th>Règles de sécurité</th>\n",
       "      <th>theoretical_skill</th>\n",
       "      <td>83</td>\n",
       "    </tr>\n",
       "    <tr>\n",
       "      <th>Lecture de plan, de schéma</th>\n",
       "      <th>theoretical_skill</th>\n",
       "      <td>68</td>\n",
       "    </tr>\n",
       "    <tr>\n",
       "      <th>Mécanique</th>\n",
       "      <th>theoretical_skill</th>\n",
       "      <td>57</td>\n",
       "    </tr>\n",
       "    <tr>\n",
       "      <th>Techniques de communication</th>\n",
       "      <th>theoretical_skill</th>\n",
       "      <td>53</td>\n",
       "    </tr>\n",
       "    <tr>\n",
       "      <th>Techniques commerciales</th>\n",
       "      <th>theoretical_skill</th>\n",
       "      <td>52</td>\n",
       "    </tr>\n",
       "    <tr>\n",
       "      <th>Electricité</th>\n",
       "      <th>theoretical_skill</th>\n",
       "      <td>50</td>\n",
       "    </tr>\n",
       "    <tr>\n",
       "      <th>Règles et consignes de sécurité</th>\n",
       "      <th>theoretical_skill</th>\n",
       "      <td>50</td>\n",
       "    </tr>\n",
       "    <tr>\n",
       "      <th>Gestes et postures de manutention</th>\n",
       "      <th>theoretical_skill</th>\n",
       "      <td>48</td>\n",
       "    </tr>\n",
       "  </tbody>\n",
       "</table>\n",
       "</div>"
      ],
      "text/plain": [
       "                                                     skill_id\n",
       "name                              type                       \n",
       "Outils bureautiques               theoretical_skill       164\n",
       "Normes qualité                    theoretical_skill        84\n",
       "Règles de sécurité                theoretical_skill        83\n",
       "Lecture de plan, de schéma        theoretical_skill        68\n",
       "Mécanique                         theoretical_skill        57\n",
       "Techniques de communication       theoretical_skill        53\n",
       "Techniques commerciales           theoretical_skill        52\n",
       "Electricité                       theoretical_skill        50\n",
       "Règles et consignes de sécurité   theoretical_skill        50\n",
       "Gestes et postures de manutention theoretical_skill        48"
      ]
     },
     "execution_count": 14,
     "metadata": {},
     "output_type": "execute_result"
    }
   ],
   "source": [
    "counts = skills.groupby(['name', 'type']).skill_id.count().to_frame()\n",
    "counts.sort_values('skill_id', ascending=False).head(10)"
   ]
  },
  {
   "cell_type": "markdown",
   "metadata": {},
   "source": [
    "Looks like very general soft skills."
   ]
  },
  {
   "cell_type": "markdown",
   "metadata": {},
   "source": [
    "## Skills spread over categories?\n",
    "\n",
    "Paul asked: check if a given skill is present across many different job categories (look at the first letter of ROME for example) -> possible there's a bias towards only reusing the exact same skill if the jobs belong in the same job category, which would defeat some of the purpose."
   ]
  },
  {
   "cell_type": "code",
   "execution_count": 15,
   "metadata": {
    "collapsed": false
   },
   "outputs": [
    {
     "data": {
      "image/png": "[encoded data removed]",
      "text/plain": [
       "<matplotlib.figure.Figure at 0x7f83ca7fe588>"
      ]
     },
     "metadata": {},
     "output_type": "display_data"
    }
   ],
   "source": [
    "skills['category'] = skills.job_group_id.str.slice(0, 1)\n",
    "_ = skills.groupby('name').category.nunique().hist(bins=14)"
   ]
  },
  {
   "cell_type": "code",
   "execution_count": 16,
   "metadata": {
    "collapsed": false
   },
   "outputs": [
    {
     "data": {
      "image/png": "[encoded data removed]",
      "text/plain": [
       "<matplotlib.figure.Figure at 0x7f83fc3ac898>"
      ]
     },
     "metadata": {},
     "output_type": "display_data"
    }
   ],
   "source": [
    "_ = skills.groupby(['name', 'type']).category.nunique().hist(bins=14)"
   ]
  },
  {
   "cell_type": "code",
   "execution_count": 17,
   "metadata": {
    "collapsed": false
   },
   "outputs": [
    {
     "data": {
      "image/png": "[encoded data removed]",
      "text/plain": [
       "<matplotlib.figure.Figure at 0x7f83c7ce6b38>"
      ]
     },
     "metadata": {},
     "output_type": "display_data"
    }
   ],
   "source": [
    "_ = skills.groupby(['name', 'type']).category.nunique().reset_index().hist(by='type', normed=True)"
   ]
  },
  {
   "cell_type": "markdown",
   "metadata": {},
   "source": [
    "Most skills are only used within the same ROME category. However theoretical skills are more spread over categories than practical skills are."
   ]
  },
  {
   "cell_type": "markdown",
   "metadata": {},
   "source": [
    "## Conclusion\n",
    "\n",
    "* We have a list of ~1700 skills that are divided into theoretical and action skills.\n",
    "* Theoretical skills are more common (~70%).\n",
    "* Skills are ordered within a job_group, we need to confirm that this ordering is related to specificity of a skill.\n",
    "* There are on average ~12 different skills assigned to a job.\n",
    "* Most skills are pretty specific to a job_group.\n",
    "* Most skills are specific to the ROME category."
   ]
  }
 ],
 "metadata": {
  "kernelspec": {
   "display_name": "Python 3",
   "language": "python",
   "name": "python3"
  },
  "language_info": {
   "codemirror_mode": {
    "name": "ipython",
    "version": 3
   },
   "file_extension": ".py",
   "mimetype": "text/x-python",
   "name": "python",
   "nbconvert_exporter": "python",
   "pygments_lexer": "ipython3",
   "version": "3.5.2"
  }
 },
 "nbformat": 4,
 "nbformat_minor": 0
}
