{
 "cells": [
  {
   "cell_type": "markdown",
   "metadata": {},
   "source": [
    "# ROME skills\n",
    "\n",
    "Author: Stephan <stephan@bayesimpact.org>\n",
    "\n",
    "Date: Jun 14, 2016\n",
    "\n",
    "We want to allow our users to build a profile of skills they have, in order to suggest suitable jobs to them. A PRD for this feature can be found at http://go/pe:profile-prd. \n",
    "\n",
    "We want to use the skills taxonomy from the ROME dataset because it allows us to extract a mapping from skills to jobs. The main questions we want to answer in this notebook are:\n",
    "\n",
    "* How many different skills do we have in total?\n",
    "* How many skills are common for a job?\n",
    "* Any other properties of the skills dataset?\n",
    "* Are some skills more unique to a job than others?\n",
    "* TODO: Are there jobs that have the exact same set of skills?"
   ]
  },
  {
   "cell_type": "code",
   "execution_count": 1,
   "metadata": {
    "collapsed": false
   },
   "outputs": [
    {
     "name": "stderr",
     "output_type": "stream",
     "text": [
      "/opt/conda/lib/python3.5/site-packages/matplotlib/font_manager.py:273: UserWarning: Matplotlib is building the font cache using fc-list. This may take a moment.\n",
      "  warnings.warn('Matplotlib is building the font cache using fc-list. This may take a moment.')\n",
      "/opt/conda/lib/python3.5/site-packages/matplotlib/font_manager.py:273: UserWarning: Matplotlib is building the font cache using fc-list. This may take a moment.\n",
      "  warnings.warn('Matplotlib is building the font cache using fc-list. This may take a moment.')\n"
     ]
    }
   ],
   "source": [
    "%matplotlib inline\n",
    "\n",
    "import pandas as pd\n",
    "import seaborn as _\n",
    "\n",
    "from bob_emploi.lib import read_data\n",
    "from bob_emploi.lib import plot_helpers"
   ]
  },
  {
   "cell_type": "markdown",
   "metadata": {},
   "source": [
    "Before using the XML version of the data, I had a look at the CSV data. I saw that i could use `unix_coherence_item_v329_utf8` to establish a mapping between job_groups and skills, however I saw that the XML data contains this ordering of skills. I thought it could be quite useful, if that actually represents a ordering from more to less specific. That is why I used the XML version of the data in this case."
   ]
  },
  {
   "cell_type": "code",
   "execution_count": 3,
   "metadata": {
    "collapsed": false
   },
   "outputs": [],
   "source": [
    "fiche_dicts = read_data.load_fiches_from_xml('../../data/ficheMetierXml')\n",
    "rome = [read_data.fiche_extractor(f) for f in fiche_dicts]\n",
    "skills_data = [dict(skill, code_rome=job['code_rome'], job_group_name=job['intitule'])\n",
    "               for job in rome\n",
    "               for skill in job['skills']]\n",
    "skills_raw = pd.DataFrame(skills_data)\n",
    "skills_raw.columns = ['skill_id', 'job_group_id', 'type', 'job_group_name', 'name', 'position', 'priorisation']"
   ]
  },
  {
   "cell_type": "markdown",
   "metadata": {},
   "source": [
    "## Overview of dataset structure"
   ]
  },
  {
   "cell_type": "markdown",
   "metadata": {},
   "source": [
    "A peek at the raw data."
   ]
  },
  {
   "cell_type": "code",
   "execution_count": 3,
   "metadata": {
    "collapsed": false
   },
   "outputs": [
    {
     "data": {
      "text/html": [
       "<div>\n",
       "<table border=\"1\" class=\"dataframe\">\n",
       "  <thead>\n",
       "    <tr style=\"text-align: right;\">\n",
       "      <th></th>\n",
       "      <th>skill_id</th>\n",
       "      <th>job_group_id</th>\n",
       "      <th>type</th>\n",
       "      <th>job_group_name</th>\n",
       "      <th>name</th>\n",
       "      <th>position</th>\n",
       "      <th>priorisation</th>\n",
       "    </tr>\n",
       "  </thead>\n",
       "  <tbody>\n",
       "    <tr>\n",
       "      <th>0</th>\n",
       "      <td>22757</td>\n",
       "      <td>A1101</td>\n",
       "      <td>1</td>\n",
       "      <td>Conduite d'engins agricoles et forestiers</td>\n",
       "      <td>Techniques culturales</td>\n",
       "      <td>1</td>\n",
       "      <td>1</td>\n",
       "    </tr>\n",
       "    <tr>\n",
       "      <th>1</th>\n",
       "      <td>21882</td>\n",
       "      <td>A1101</td>\n",
       "      <td>1</td>\n",
       "      <td>Conduite d'engins agricoles et forestiers</td>\n",
       "      <td>Eléments de base en mécanique générale</td>\n",
       "      <td>2</td>\n",
       "      <td>1</td>\n",
       "    </tr>\n",
       "    <tr>\n",
       "      <th>2</th>\n",
       "      <td>21875</td>\n",
       "      <td>A1101</td>\n",
       "      <td>1</td>\n",
       "      <td>Conduite d'engins agricoles et forestiers</td>\n",
       "      <td>Eléments de base en hydraulique</td>\n",
       "      <td>3</td>\n",
       "      <td>1</td>\n",
       "    </tr>\n",
       "    <tr>\n",
       "      <th>3</th>\n",
       "      <td>21905</td>\n",
       "      <td>A1101</td>\n",
       "      <td>1</td>\n",
       "      <td>Conduite d'engins agricoles et forestiers</td>\n",
       "      <td>Eléments de base en pneumatique</td>\n",
       "      <td>4</td>\n",
       "      <td>1</td>\n",
       "    </tr>\n",
       "    <tr>\n",
       "      <th>4</th>\n",
       "      <td>22230</td>\n",
       "      <td>A1101</td>\n",
       "      <td>1</td>\n",
       "      <td>Conduite d'engins agricoles et forestiers</td>\n",
       "      <td>Normes environnementales</td>\n",
       "      <td>5</td>\n",
       "      <td>1</td>\n",
       "    </tr>\n",
       "  </tbody>\n",
       "</table>\n",
       "</div>"
      ],
      "text/plain": [
       "  skill_id job_group_id type                             job_group_name  \\\n",
       "0    22757        A1101    1  Conduite d'engins agricoles et forestiers   \n",
       "1    21882        A1101    1  Conduite d'engins agricoles et forestiers   \n",
       "2    21875        A1101    1  Conduite d'engins agricoles et forestiers   \n",
       "3    21905        A1101    1  Conduite d'engins agricoles et forestiers   \n",
       "4    22230        A1101    1  Conduite d'engins agricoles et forestiers   \n",
       "\n",
       "                                     name position priorisation  \n",
       "0                   Techniques culturales        1            1  \n",
       "1  Eléments de base en mécanique générale        2            1  \n",
       "2         Eléments de base en hydraulique        3            1  \n",
       "3         Eléments de base en pneumatique        4            1  \n",
       "4                Normes environnementales        5            1  "
      ]
     },
     "execution_count": 3,
     "metadata": {},
     "output_type": "execute_result"
    }
   ],
   "source": [
    "skills_raw.head()"
   ]
  },
  {
   "cell_type": "code",
   "execution_count": 4,
   "metadata": {
    "collapsed": false
   },
   "outputs": [
    {
     "data": {
      "text/html": [
       "<div>\n",
       "<table border=\"1\" class=\"dataframe\">\n",
       "  <thead>\n",
       "    <tr style=\"text-align: right;\">\n",
       "      <th></th>\n",
       "      <th>count</th>\n",
       "      <th>unique</th>\n",
       "      <th>top</th>\n",
       "      <th>freq</th>\n",
       "    </tr>\n",
       "  </thead>\n",
       "  <tbody>\n",
       "    <tr>\n",
       "      <th>skill_id</th>\n",
       "      <td>5520</td>\n",
       "      <td>1741</td>\n",
       "      <td>21467</td>\n",
       "      <td>164</td>\n",
       "    </tr>\n",
       "    <tr>\n",
       "      <th>job_group_id</th>\n",
       "      <td>5520</td>\n",
       "      <td>531</td>\n",
       "      <td>I1306</td>\n",
       "      <td>22</td>\n",
       "    </tr>\n",
       "    <tr>\n",
       "      <th>type</th>\n",
       "      <td>5520</td>\n",
       "      <td>2</td>\n",
       "      <td>1</td>\n",
       "      <td>3964</td>\n",
       "    </tr>\n",
       "    <tr>\n",
       "      <th>job_group_name</th>\n",
       "      <td>5520</td>\n",
       "      <td>531</td>\n",
       "      <td>Installation et maintenance d'automatismes</td>\n",
       "      <td>22</td>\n",
       "    </tr>\n",
       "    <tr>\n",
       "      <th>name</th>\n",
       "      <td>5520</td>\n",
       "      <td>1741</td>\n",
       "      <td>Utilisation d'outils bureautiques (traitement ...</td>\n",
       "      <td>164</td>\n",
       "    </tr>\n",
       "    <tr>\n",
       "      <th>position</th>\n",
       "      <td>5520</td>\n",
       "      <td>17</td>\n",
       "      <td>1</td>\n",
       "      <td>1003</td>\n",
       "    </tr>\n",
       "    <tr>\n",
       "      <th>priorisation</th>\n",
       "      <td>5520</td>\n",
       "      <td>1</td>\n",
       "      <td>1</td>\n",
       "      <td>5520</td>\n",
       "    </tr>\n",
       "  </tbody>\n",
       "</table>\n",
       "</div>"
      ],
      "text/plain": [
       "               count unique  \\\n",
       "skill_id        5520   1741   \n",
       "job_group_id    5520    531   \n",
       "type            5520      2   \n",
       "job_group_name  5520    531   \n",
       "name            5520   1741   \n",
       "position        5520     17   \n",
       "priorisation    5520      1   \n",
       "\n",
       "                                                              top  freq  \n",
       "skill_id                                                    21467   164  \n",
       "job_group_id                                                I1306    22  \n",
       "type                                                            1  3964  \n",
       "job_group_name         Installation et maintenance d'automatismes    22  \n",
       "name            Utilisation d'outils bureautiques (traitement ...   164  \n",
       "position                                                        1  1003  \n",
       "priorisation                                                    1  5520  "
      ]
     },
     "execution_count": 4,
     "metadata": {},
     "output_type": "execute_result"
    }
   ],
   "source": [
    "skills_raw.describe().transpose()"
   ]
  },
  {
   "cell_type": "markdown",
   "metadata": {},
   "source": [
    "So we got 1741 different skills for the 531 different job groups in ROME. They are of two different types where one of them makes up about 70% of all skill occurrences (3964 / 5520). The most common skill is *Utilisation d'outils bureautiques...*. The `position` column suggests that they are ordered and the `priorisation` column does not contain any information.\n",
    "\n",
    "Let's clean up the data a little and look at the distribution of skill type on the deduplicated list of skills. With that I mean just investigating the list of 1741 unique skills, instead of skills being associated with jobs as in the table above."
   ]
  },
  {
   "cell_type": "code",
   "execution_count": 5,
   "metadata": {
    "collapsed": false
   },
   "outputs": [],
   "source": [
    "# Mapping extracted from data/rome/csv/unix_referentiel_competence_v329_utf8.csv\n",
    "COMPETENCE_TYPES = {\n",
    "    '1': 'theoretical_skill',\n",
    "    '2': 'action_skill'\n",
    "}\n",
    "\n",
    "skills = skills_raw.drop(['priorisation'], axis=1)\n",
    "skills['type'] = skills.type.map(COMPETENCE_TYPES)\n",
    "skills['position'] = skills.position.astype(int)"
   ]
  },
  {
   "cell_type": "code",
   "execution_count": 6,
   "metadata": {
    "collapsed": false
   },
   "outputs": [
    {
     "data": {
      "text/plain": [
       "theoretical_skill    0.722573\n",
       "action_skill         0.277427\n",
       "Name: type, dtype: float64"
      ]
     },
     "execution_count": 6,
     "metadata": {},
     "output_type": "execute_result"
    }
   ],
   "source": [
    "dedup_skills = skills.drop_duplicates(subset=['skill_id'])\n",
    "dedup_skills['type'].value_counts(normalize=True)"
   ]
  },
  {
   "cell_type": "markdown",
   "metadata": {},
   "source": [
    "The distribution of theoretical to action skills is present also in the deduplicated list of skills, not only in the skills associated to jobs.\n",
    "\n",
    "Just as a sanity check, make sure that each skill is only associated with one type."
   ]
  },
  {
   "cell_type": "code",
   "execution_count": 7,
   "metadata": {
    "collapsed": false
   },
   "outputs": [
    {
     "data": {
      "text/plain": [
       "1    1741\n",
       "Name: type, dtype: int64"
      ]
     },
     "execution_count": 7,
     "metadata": {},
     "output_type": "execute_result"
    }
   ],
   "source": [
    "skills.groupby('skill_id')['type'].nunique().value_counts()"
   ]
  },
  {
   "cell_type": "markdown",
   "metadata": {},
   "source": [
    "Good!"
   ]
  },
  {
   "cell_type": "markdown",
   "metadata": {},
   "source": [
    "## Ordering of skills\n",
    "\n",
    "Does that ordering actually play a role?\n",
    "\n",
    "Let's first check whether the position is unique per `job_group` or per `job_group` and `type`. From looking at the XML it looks like there are individual orderings per `type`, but I want to make sure."
   ]
  },
  {
   "cell_type": "code",
   "execution_count": 7,
   "metadata": {
    "collapsed": false
   },
   "outputs": [
    {
     "data": {
      "text/plain": [
       "0"
      ]
     },
     "execution_count": 7,
     "metadata": {},
     "output_type": "execute_result"
    }
   ],
   "source": [
    "skills.duplicated(subset=['job_group_id', 'type', 'position']).sum()"
   ]
  },
  {
   "cell_type": "code",
   "execution_count": 8,
   "metadata": {
    "collapsed": false
   },
   "outputs": [
    {
     "data": {
      "text/plain": [
       "1486"
      ]
     },
     "execution_count": 8,
     "metadata": {},
     "output_type": "execute_result"
    }
   ],
   "source": [
    "skills.duplicated(subset=['job_group_id', 'position']).sum()"
   ]
  },
  {
   "cell_type": "markdown",
   "metadata": {},
   "source": [
    "Skills are ordered separately for the two types of skills."
   ]
  },
  {
   "cell_type": "markdown",
   "metadata": {},
   "source": [
    "#### are the skills higher up in the ordering maybe more specific to a certain job_group?"
   ]
  },
  {
   "cell_type": "code",
   "execution_count": 9,
   "metadata": {
    "collapsed": false
   },
   "outputs": [
    {
     "data": {
      "text/html": [
       "<div>\n",
       "<table border=\"1\" class=\"dataframe\">\n",
       "  <thead>\n",
       "    <tr style=\"text-align: right;\">\n",
       "      <th></th>\n",
       "      <th></th>\n",
       "      <th>first</th>\n",
       "      <th>last</th>\n",
       "    </tr>\n",
       "    <tr>\n",
       "      <th>job_group_name</th>\n",
       "      <th>type</th>\n",
       "      <th></th>\n",
       "      <th></th>\n",
       "    </tr>\n",
       "  </thead>\n",
       "  <tbody>\n",
       "    <tr>\n",
       "      <th rowspan=\"2\" valign=\"top\">Abattage et découpe des viandes</th>\n",
       "      <th>action_skill</th>\n",
       "      <td>Aiguisage des couteaux</td>\n",
       "      <td>Appréciation sensorielle (visuelle, tactile, o...</td>\n",
       "    </tr>\n",
       "    <tr>\n",
       "      <th>theoretical_skill</th>\n",
       "      <td>Règles d'hygiène et de sécurité alimentaire Ha...</td>\n",
       "      <td>Techniques de découpe des viandes</td>\n",
       "    </tr>\n",
       "    <tr>\n",
       "      <th>Accompagnement de voyages, d'activités culturelles ou sportives</th>\n",
       "      <th>theoretical_skill</th>\n",
       "      <td>Règles de sécurité des biens et des personnes</td>\n",
       "      <td>Techniques commerciales</td>\n",
       "    </tr>\n",
       "    <tr>\n",
       "      <th>Accompagnement et médiation familiale</th>\n",
       "      <th>theoretical_skill</th>\n",
       "      <td>Droit civil</td>\n",
       "      <td>Techniques d'écoute et de la relation à la per...</td>\n",
       "    </tr>\n",
       "    <tr>\n",
       "      <th rowspan=\"2\" valign=\"top\">Accompagnement médicosocial</th>\n",
       "      <th>action_skill</th>\n",
       "      <td>Identification des signes et du degré de la do...</td>\n",
       "      <td>Identification des signes et du degré de la do...</td>\n",
       "    </tr>\n",
       "    <tr>\n",
       "      <th>theoretical_skill</th>\n",
       "      <td>Eléments de base en psychomotricité</td>\n",
       "      <td>Techniques d'écoute et de la relation à la per...</td>\n",
       "    </tr>\n",
       "    <tr>\n",
       "      <th rowspan=\"2\" valign=\"top\">Accueil et renseignements</th>\n",
       "      <th>action_skill</th>\n",
       "      <td>Veille documentaire</td>\n",
       "      <td>Utilisation de système d'information et de com...</td>\n",
       "    </tr>\n",
       "    <tr>\n",
       "      <th>theoretical_skill</th>\n",
       "      <td>Modalités d'accueil</td>\n",
       "      <td>Techniques de prévention et de gestion de conf...</td>\n",
       "    </tr>\n",
       "    <tr>\n",
       "      <th rowspan=\"2\" valign=\"top\">Accueil et services bancaires</th>\n",
       "      <th>action_skill</th>\n",
       "      <td>Rédaction de documents</td>\n",
       "      <td>Rédaction de documents</td>\n",
       "    </tr>\n",
       "    <tr>\n",
       "      <th>theoretical_skill</th>\n",
       "      <td>Modes de paiement</td>\n",
       "      <td>Procédures d'administration de compte bancaire</td>\n",
       "    </tr>\n",
       "    <tr>\n",
       "      <th rowspan=\"2\" valign=\"top\">Accueil touristique</th>\n",
       "      <th>action_skill</th>\n",
       "      <td>Veille documentaire</td>\n",
       "      <td>Utilisation de logiciels de réservation</td>\n",
       "    </tr>\n",
       "    <tr>\n",
       "      <th>theoretical_skill</th>\n",
       "      <td>Caractéristiques des produits touristiques</td>\n",
       "      <td>Principes de la relation client</td>\n",
       "    </tr>\n",
       "    <tr>\n",
       "      <th rowspan=\"2\" valign=\"top\">Achat vente d'objets d'art, anciens ou d'occasion</th>\n",
       "      <th>action_skill</th>\n",
       "      <td>Argumentation commerciale</td>\n",
       "      <td>Argumentation commerciale</td>\n",
       "    </tr>\n",
       "    <tr>\n",
       "      <th>theoretical_skill</th>\n",
       "      <td>Histoire de l'art et des styles</td>\n",
       "      <td>Techniques commerciales</td>\n",
       "    </tr>\n",
       "    <tr>\n",
       "      <th rowspan=\"2\" valign=\"top\">Achats</th>\n",
       "      <th>action_skill</th>\n",
       "      <td>Argumentation commerciale</td>\n",
       "      <td>Utilisation d'outils bureautiques (traitement ...</td>\n",
       "    </tr>\n",
       "    <tr>\n",
       "      <th>theoretical_skill</th>\n",
       "      <td>Code des marchés publics</td>\n",
       "      <td>Techniques commerciales</td>\n",
       "    </tr>\n",
       "    <tr>\n",
       "      <th>Action sociale</th>\n",
       "      <th>theoretical_skill</th>\n",
       "      <td>Caractéristiques socioculturelles des publics</td>\n",
       "      <td>Techniques d'écoute et de la relation à la per...</td>\n",
       "    </tr>\n",
       "    <tr>\n",
       "      <th rowspan=\"2\" valign=\"top\">Administration de systèmes d'information</th>\n",
       "      <th>action_skill</th>\n",
       "      <td>Rédaction de documents</td>\n",
       "      <td>Rédaction de documents</td>\n",
       "    </tr>\n",
       "    <tr>\n",
       "      <th>theoretical_skill</th>\n",
       "      <td>Algorithmique</td>\n",
       "      <td>Métrologie</td>\n",
       "    </tr>\n",
       "    <tr>\n",
       "      <th rowspan=\"2\" valign=\"top\">Administration des ventes</th>\n",
       "      <th>action_skill</th>\n",
       "      <td>Utilisation d'outils bureautiques (traitement ...</td>\n",
       "      <td>Utilisation d'outils bureautiques (traitement ...</td>\n",
       "    </tr>\n",
       "    <tr>\n",
       "      <th>theoretical_skill</th>\n",
       "      <td>Droit commercial</td>\n",
       "      <td>Analyse statistique</td>\n",
       "    </tr>\n",
       "    <tr>\n",
       "      <th rowspan=\"2\" valign=\"top\">Affrètement transport</th>\n",
       "      <th>action_skill</th>\n",
       "      <td>Utilisation d'outils bureautiques (traitement ...</td>\n",
       "      <td>Utilisation de logiciel d'Echange de Données I...</td>\n",
       "    </tr>\n",
       "    <tr>\n",
       "      <th>theoretical_skill</th>\n",
       "      <td>Réglementation du transport de marchandises</td>\n",
       "      <td>Techniques commerciales</td>\n",
       "    </tr>\n",
       "    <tr>\n",
       "      <th rowspan=\"2\" valign=\"top\">Aide agricole de production fruitière ou viticole</th>\n",
       "      <th>action_skill</th>\n",
       "      <td>Utilisation d'outils manuels agricoles</td>\n",
       "      <td>Eclaircissage</td>\n",
       "    </tr>\n",
       "    <tr>\n",
       "      <th>theoretical_skill</th>\n",
       "      <td>Règles d'hygiène et de sécurité</td>\n",
       "      <td>Gestes et postures de manutention</td>\n",
       "    </tr>\n",
       "    <tr>\n",
       "      <th rowspan=\"2\" valign=\"top\">Aide agricole de production légumière ou végétale</th>\n",
       "      <th>action_skill</th>\n",
       "      <td>Utilisation d'outils manuels agricoles</td>\n",
       "      <td>Utilisation d'outils manuels agricoles</td>\n",
       "    </tr>\n",
       "    <tr>\n",
       "      <th>theoretical_skill</th>\n",
       "      <td>Règles d'hygiène et de sécurité</td>\n",
       "      <td>Gestes et postures de manutention</td>\n",
       "    </tr>\n",
       "    <tr>\n",
       "      <th>Aide aux bénéficiaires d'une mesure de protection juridique</th>\n",
       "      <th>theoretical_skill</th>\n",
       "      <td>Droit civil</td>\n",
       "      <td>Techniques d'écoute et de la relation à la per...</td>\n",
       "    </tr>\n",
       "    <tr>\n",
       "      <th>Aide aux soins animaux</th>\n",
       "      <th>theoretical_skill</th>\n",
       "      <td>Biologie animale</td>\n",
       "      <td>Techniques d'approche et de manipulation des a...</td>\n",
       "    </tr>\n",
       "    <tr>\n",
       "      <th>Aide d'élevage agricole et aquacole</th>\n",
       "      <th>theoretical_skill</th>\n",
       "      <td>Règles d'hygiène et de sécurité</td>\n",
       "      <td>Techniques d'approche et de manipulation des a...</td>\n",
       "    </tr>\n",
       "    <tr>\n",
       "      <th>...</th>\n",
       "      <th>...</th>\n",
       "      <td>...</td>\n",
       "      <td>...</td>\n",
       "    </tr>\n",
       "    <tr>\n",
       "      <th rowspan=\"2\" valign=\"top\">Éducation de jeunes enfants</th>\n",
       "      <th>action_skill</th>\n",
       "      <td>Identification des signes et du degré de la do...</td>\n",
       "      <td>Identification des signes et du degré de la do...</td>\n",
       "    </tr>\n",
       "    <tr>\n",
       "      <th>theoretical_skill</th>\n",
       "      <td>Droit civil</td>\n",
       "      <td>Techniques d'écoute et de la relation à la per...</td>\n",
       "    </tr>\n",
       "    <tr>\n",
       "      <th>Éducation en activités sportives</th>\n",
       "      <th>theoretical_skill</th>\n",
       "      <td>Eléments de base en anatomie/physiologie</td>\n",
       "      <td>Techniques pédagogiques</td>\n",
       "    </tr>\n",
       "    <tr>\n",
       "      <th rowspan=\"2\" valign=\"top\">Éducation et surveillance au sein d'établissements d'enseignement</th>\n",
       "      <th>action_skill</th>\n",
       "      <td>Utilisation d'outils bureautiques (traitement ...</td>\n",
       "      <td>Utilisation d'outils bureautiques (traitement ...</td>\n",
       "    </tr>\n",
       "    <tr>\n",
       "      <th>theoretical_skill</th>\n",
       "      <td>Règles de vie collective</td>\n",
       "      <td>Techniques de médiation</td>\n",
       "    </tr>\n",
       "    <tr>\n",
       "      <th>Élaboration de plan média</th>\n",
       "      <th>theoretical_skill</th>\n",
       "      <td>Sociologie</td>\n",
       "      <td>Analyse statistique</td>\n",
       "    </tr>\n",
       "    <tr>\n",
       "      <th rowspan=\"2\" valign=\"top\">Électricité bâtiment</th>\n",
       "      <th>action_skill</th>\n",
       "      <td>Lecture de plan, de schéma</td>\n",
       "      <td>Utilisation d'appareils de mesure électrique (...</td>\n",
       "    </tr>\n",
       "    <tr>\n",
       "      <th>theoretical_skill</th>\n",
       "      <td>Electricité du domaine des VDI (Voix, Données,...</td>\n",
       "      <td>Techniques de soudure</td>\n",
       "    </tr>\n",
       "    <tr>\n",
       "      <th rowspan=\"2\" valign=\"top\">Élevage bovin ou équin</th>\n",
       "      <th>action_skill</th>\n",
       "      <td>Utilisation de matériel de contention</td>\n",
       "      <td>Utilisation d'outils bureautiques (traitement ...</td>\n",
       "    </tr>\n",
       "    <tr>\n",
       "      <th>theoretical_skill</th>\n",
       "      <td>Pathologies animales</td>\n",
       "      <td>Techniques d'approche et de manipulation des a...</td>\n",
       "    </tr>\n",
       "    <tr>\n",
       "      <th rowspan=\"2\" valign=\"top\">Élevage d'animaux sauvages ou de compagnie</th>\n",
       "      <th>action_skill</th>\n",
       "      <td>Utilisation d'engins agricoles</td>\n",
       "      <td>Utilisation de matériel de nettoyage</td>\n",
       "    </tr>\n",
       "    <tr>\n",
       "      <th>theoretical_skill</th>\n",
       "      <td>Ethologie des animaux d'espèces sauvages</td>\n",
       "      <td>Techniques de soudure</td>\n",
       "    </tr>\n",
       "    <tr>\n",
       "      <th rowspan=\"2\" valign=\"top\">Élevage de lapins et volailles</th>\n",
       "      <th>action_skill</th>\n",
       "      <td>Montage de case de mise bas</td>\n",
       "      <td>Utilisation d'engins agricoles</td>\n",
       "    </tr>\n",
       "    <tr>\n",
       "      <th>theoretical_skill</th>\n",
       "      <td>Pathologies animales</td>\n",
       "      <td>Techniques d'approche et de manipulation des a...</td>\n",
       "    </tr>\n",
       "    <tr>\n",
       "      <th rowspan=\"2\" valign=\"top\">Élevage ovin ou caprin</th>\n",
       "      <th>action_skill</th>\n",
       "      <td>Montage de case de mise bas</td>\n",
       "      <td>Soudage</td>\n",
       "    </tr>\n",
       "    <tr>\n",
       "      <th>theoretical_skill</th>\n",
       "      <td>Biologie animale</td>\n",
       "      <td>Techniques d'élevage</td>\n",
       "    </tr>\n",
       "    <tr>\n",
       "      <th rowspan=\"2\" valign=\"top\">Élevage porcin</th>\n",
       "      <th>action_skill</th>\n",
       "      <td>Utilisation de matériel de nettoyage</td>\n",
       "      <td>Utilisation de matériel de contention</td>\n",
       "    </tr>\n",
       "    <tr>\n",
       "      <th>theoretical_skill</th>\n",
       "      <td>Pathologies animales</td>\n",
       "      <td>Techniques d'approche et de manipulation des a...</td>\n",
       "    </tr>\n",
       "    <tr>\n",
       "      <th rowspan=\"2\" valign=\"top\">Études - modèles en industrie des matériaux souples</th>\n",
       "      <th>action_skill</th>\n",
       "      <td>Couture manuelle</td>\n",
       "      <td>Utilisation de logiciels de modélisation et si...</td>\n",
       "    </tr>\n",
       "    <tr>\n",
       "      <th>theoretical_skill</th>\n",
       "      <td>Techniques de prise de mesures (habillement)</td>\n",
       "      <td>Techniques d'assemblage/montage en habillement...</td>\n",
       "    </tr>\n",
       "    <tr>\n",
       "      <th rowspan=\"2\" valign=\"top\">Études actuarielles en assurances</th>\n",
       "      <th>action_skill</th>\n",
       "      <td>Utilisation de logiciels de statistiques</td>\n",
       "      <td>Utilisation de logiciels de modélisation et si...</td>\n",
       "    </tr>\n",
       "    <tr>\n",
       "      <th>theoretical_skill</th>\n",
       "      <td>Finance</td>\n",
       "      <td>Analyse statistique</td>\n",
       "    </tr>\n",
       "    <tr>\n",
       "      <th rowspan=\"2\" valign=\"top\">Études et développement de réseaux de télécoms</th>\n",
       "      <th>action_skill</th>\n",
       "      <td>Utilisation d'outil de supervision</td>\n",
       "      <td>Utilisation de logiciels de modélisation et si...</td>\n",
       "    </tr>\n",
       "    <tr>\n",
       "      <th>theoretical_skill</th>\n",
       "      <td>Protocoles et normes télécoms</td>\n",
       "      <td>Règles de sécurité Informatique et Télécoms</td>\n",
       "    </tr>\n",
       "    <tr>\n",
       "      <th rowspan=\"2\" valign=\"top\">Études et développement informatique</th>\n",
       "      <th>action_skill</th>\n",
       "      <td>Programmation informatique</td>\n",
       "      <td>Gestion de configuration</td>\n",
       "    </tr>\n",
       "    <tr>\n",
       "      <th>theoretical_skill</th>\n",
       "      <td>Modélisation informatique</td>\n",
       "      <td>Technologies de l'accessibilité numérique</td>\n",
       "    </tr>\n",
       "    <tr>\n",
       "      <th rowspan=\"2\" valign=\"top\">Études et prospectives socio-économiques</th>\n",
       "      <th>action_skill</th>\n",
       "      <td>Utilisation d'outils bureautiques (traitement ...</td>\n",
       "      <td>Utilisation de logiciels de gestion de base de...</td>\n",
       "    </tr>\n",
       "    <tr>\n",
       "      <th>theoretical_skill</th>\n",
       "      <td>Sciences économiques et sociales</td>\n",
       "      <td>Analyse statistique</td>\n",
       "    </tr>\n",
       "    <tr>\n",
       "      <th rowspan=\"2\" valign=\"top\">Études géologiques</th>\n",
       "      <th>action_skill</th>\n",
       "      <td>Utilisation de Système d'Information Géographi...</td>\n",
       "      <td>Utilisation d'outils bureautiques (traitement ...</td>\n",
       "    </tr>\n",
       "    <tr>\n",
       "      <th>theoretical_skill</th>\n",
       "      <td>Géophysique, géochimie</td>\n",
       "      <td>Analyse statistique</td>\n",
       "    </tr>\n",
       "  </tbody>\n",
       "</table>\n",
       "<p>1005 rows × 2 columns</p>\n",
       "</div>"
      ],
      "text/plain": [
       "                                                                                                                  first  \\\n",
       "job_group_name                                     type                                                                   \n",
       "Abattage et découpe des viandes                    action_skill                                  Aiguisage des couteaux   \n",
       "                                                   theoretical_skill  Règles d'hygiène et de sécurité alimentaire Ha...   \n",
       "Accompagnement de voyages, d'activités culturel... theoretical_skill      Règles de sécurité des biens et des personnes   \n",
       "Accompagnement et médiation familiale              theoretical_skill                                        Droit civil   \n",
       "Accompagnement médicosocial                        action_skill       Identification des signes et du degré de la do...   \n",
       "                                                   theoretical_skill                Eléments de base en psychomotricité   \n",
       "Accueil et renseignements                          action_skill                                     Veille documentaire   \n",
       "                                                   theoretical_skill                                Modalités d'accueil   \n",
       "Accueil et services bancaires                      action_skill                                  Rédaction de documents   \n",
       "                                                   theoretical_skill                                  Modes de paiement   \n",
       "Accueil touristique                                action_skill                                     Veille documentaire   \n",
       "                                                   theoretical_skill         Caractéristiques des produits touristiques   \n",
       "Achat vente d'objets d'art, anciens ou d'occasion  action_skill                               Argumentation commerciale   \n",
       "                                                   theoretical_skill                    Histoire de l'art et des styles   \n",
       "Achats                                             action_skill                               Argumentation commerciale   \n",
       "                                                   theoretical_skill                           Code des marchés publics   \n",
       "Action sociale                                     theoretical_skill      Caractéristiques socioculturelles des publics   \n",
       "Administration de systèmes d'information           action_skill                                  Rédaction de documents   \n",
       "                                                   theoretical_skill                                      Algorithmique   \n",
       "Administration des ventes                          action_skill       Utilisation d'outils bureautiques (traitement ...   \n",
       "                                                   theoretical_skill                                   Droit commercial   \n",
       "Affrètement transport                              action_skill       Utilisation d'outils bureautiques (traitement ...   \n",
       "                                                   theoretical_skill        Réglementation du transport de marchandises   \n",
       "Aide agricole de production fruitière ou viticole  action_skill                  Utilisation d'outils manuels agricoles   \n",
       "                                                   theoretical_skill                    Règles d'hygiène et de sécurité   \n",
       "Aide agricole de production légumière ou végétale  action_skill                  Utilisation d'outils manuels agricoles   \n",
       "                                                   theoretical_skill                    Règles d'hygiène et de sécurité   \n",
       "Aide aux bénéficiaires d'une mesure de protecti... theoretical_skill                                        Droit civil   \n",
       "Aide aux soins animaux                             theoretical_skill                                   Biologie animale   \n",
       "Aide d'élevage agricole et aquacole                theoretical_skill                    Règles d'hygiène et de sécurité   \n",
       "...                                                                                                                 ...   \n",
       "Éducation de jeunes enfants                        action_skill       Identification des signes et du degré de la do...   \n",
       "                                                   theoretical_skill                                        Droit civil   \n",
       "Éducation en activités sportives                   theoretical_skill           Eléments de base en anatomie/physiologie   \n",
       "Éducation et surveillance au sein d'établisseme... action_skill       Utilisation d'outils bureautiques (traitement ...   \n",
       "                                                   theoretical_skill                           Règles de vie collective   \n",
       "Élaboration de plan média                          theoretical_skill                                         Sociologie   \n",
       "Électricité bâtiment                               action_skill                              Lecture de plan, de schéma   \n",
       "                                                   theoretical_skill  Electricité du domaine des VDI (Voix, Données,...   \n",
       "Élevage bovin ou équin                             action_skill                   Utilisation de matériel de contention   \n",
       "                                                   theoretical_skill                               Pathologies animales   \n",
       "Élevage d'animaux sauvages ou de compagnie         action_skill                          Utilisation d'engins agricoles   \n",
       "                                                   theoretical_skill           Ethologie des animaux d'espèces sauvages   \n",
       "Élevage de lapins et volailles                     action_skill                             Montage de case de mise bas   \n",
       "                                                   theoretical_skill                               Pathologies animales   \n",
       "Élevage ovin ou caprin                             action_skill                             Montage de case de mise bas   \n",
       "                                                   theoretical_skill                                   Biologie animale   \n",
       "Élevage porcin                                     action_skill                    Utilisation de matériel de nettoyage   \n",
       "                                                   theoretical_skill                               Pathologies animales   \n",
       "Études - modèles en industrie des matériaux sou... action_skill                                        Couture manuelle   \n",
       "                                                   theoretical_skill       Techniques de prise de mesures (habillement)   \n",
       "Études actuarielles en assurances                  action_skill                Utilisation de logiciels de statistiques   \n",
       "                                                   theoretical_skill                                            Finance   \n",
       "Études et développement de réseaux de télécoms     action_skill                      Utilisation d'outil de supervision   \n",
       "                                                   theoretical_skill                      Protocoles et normes télécoms   \n",
       "Études et développement informatique               action_skill                              Programmation informatique   \n",
       "                                                   theoretical_skill                          Modélisation informatique   \n",
       "Études et prospectives socio-économiques           action_skill       Utilisation d'outils bureautiques (traitement ...   \n",
       "                                                   theoretical_skill                   Sciences économiques et sociales   \n",
       "Études géologiques                                 action_skill       Utilisation de Système d'Information Géographi...   \n",
       "                                                   theoretical_skill                             Géophysique, géochimie   \n",
       "\n",
       "                                                                                                                   last  \n",
       "job_group_name                                     type                                                                  \n",
       "Abattage et découpe des viandes                    action_skill       Appréciation sensorielle (visuelle, tactile, o...  \n",
       "                                                   theoretical_skill                  Techniques de découpe des viandes  \n",
       "Accompagnement de voyages, d'activités culturel... theoretical_skill                            Techniques commerciales  \n",
       "Accompagnement et médiation familiale              theoretical_skill  Techniques d'écoute et de la relation à la per...  \n",
       "Accompagnement médicosocial                        action_skill       Identification des signes et du degré de la do...  \n",
       "                                                   theoretical_skill  Techniques d'écoute et de la relation à la per...  \n",
       "Accueil et renseignements                          action_skill       Utilisation de système d'information et de com...  \n",
       "                                                   theoretical_skill  Techniques de prévention et de gestion de conf...  \n",
       "Accueil et services bancaires                      action_skill                                  Rédaction de documents  \n",
       "                                                   theoretical_skill     Procédures d'administration de compte bancaire  \n",
       "Accueil touristique                                action_skill                 Utilisation de logiciels de réservation  \n",
       "                                                   theoretical_skill                    Principes de la relation client  \n",
       "Achat vente d'objets d'art, anciens ou d'occasion  action_skill                               Argumentation commerciale  \n",
       "                                                   theoretical_skill                            Techniques commerciales  \n",
       "Achats                                             action_skill       Utilisation d'outils bureautiques (traitement ...  \n",
       "                                                   theoretical_skill                            Techniques commerciales  \n",
       "Action sociale                                     theoretical_skill  Techniques d'écoute et de la relation à la per...  \n",
       "Administration de systèmes d'information           action_skill                                  Rédaction de documents  \n",
       "                                                   theoretical_skill                                         Métrologie  \n",
       "Administration des ventes                          action_skill       Utilisation d'outils bureautiques (traitement ...  \n",
       "                                                   theoretical_skill                                Analyse statistique  \n",
       "Affrètement transport                              action_skill       Utilisation de logiciel d'Echange de Données I...  \n",
       "                                                   theoretical_skill                            Techniques commerciales  \n",
       "Aide agricole de production fruitière ou viticole  action_skill                                           Eclaircissage  \n",
       "                                                   theoretical_skill                  Gestes et postures de manutention  \n",
       "Aide agricole de production légumière ou végétale  action_skill                  Utilisation d'outils manuels agricoles  \n",
       "                                                   theoretical_skill                  Gestes et postures de manutention  \n",
       "Aide aux bénéficiaires d'une mesure de protecti... theoretical_skill  Techniques d'écoute et de la relation à la per...  \n",
       "Aide aux soins animaux                             theoretical_skill  Techniques d'approche et de manipulation des a...  \n",
       "Aide d'élevage agricole et aquacole                theoretical_skill  Techniques d'approche et de manipulation des a...  \n",
       "...                                                                                                                 ...  \n",
       "Éducation de jeunes enfants                        action_skill       Identification des signes et du degré de la do...  \n",
       "                                                   theoretical_skill  Techniques d'écoute et de la relation à la per...  \n",
       "Éducation en activités sportives                   theoretical_skill                            Techniques pédagogiques  \n",
       "Éducation et surveillance au sein d'établisseme... action_skill       Utilisation d'outils bureautiques (traitement ...  \n",
       "                                                   theoretical_skill                            Techniques de médiation  \n",
       "Élaboration de plan média                          theoretical_skill                                Analyse statistique  \n",
       "Électricité bâtiment                               action_skill       Utilisation d'appareils de mesure électrique (...  \n",
       "                                                   theoretical_skill                              Techniques de soudure  \n",
       "Élevage bovin ou équin                             action_skill       Utilisation d'outils bureautiques (traitement ...  \n",
       "                                                   theoretical_skill  Techniques d'approche et de manipulation des a...  \n",
       "Élevage d'animaux sauvages ou de compagnie         action_skill                    Utilisation de matériel de nettoyage  \n",
       "                                                   theoretical_skill                              Techniques de soudure  \n",
       "Élevage de lapins et volailles                     action_skill                          Utilisation d'engins agricoles  \n",
       "                                                   theoretical_skill  Techniques d'approche et de manipulation des a...  \n",
       "Élevage ovin ou caprin                             action_skill                                                 Soudage  \n",
       "                                                   theoretical_skill                               Techniques d'élevage  \n",
       "Élevage porcin                                     action_skill                   Utilisation de matériel de contention  \n",
       "                                                   theoretical_skill  Techniques d'approche et de manipulation des a...  \n",
       "Études - modèles en industrie des matériaux sou... action_skill       Utilisation de logiciels de modélisation et si...  \n",
       "                                                   theoretical_skill  Techniques d'assemblage/montage en habillement...  \n",
       "Études actuarielles en assurances                  action_skill       Utilisation de logiciels de modélisation et si...  \n",
       "                                                   theoretical_skill                                Analyse statistique  \n",
       "Études et développement de réseaux de télécoms     action_skill       Utilisation de logiciels de modélisation et si...  \n",
       "                                                   theoretical_skill        Règles de sécurité Informatique et Télécoms  \n",
       "Études et développement informatique               action_skill                                Gestion de configuration  \n",
       "                                                   theoretical_skill          Technologies de l'accessibilité numérique  \n",
       "Études et prospectives socio-économiques           action_skill       Utilisation de logiciels de gestion de base de...  \n",
       "                                                   theoretical_skill                                Analyse statistique  \n",
       "Études géologiques                                 action_skill       Utilisation d'outils bureautiques (traitement ...  \n",
       "                                                   theoretical_skill                                Analyse statistique  \n",
       "\n",
       "[1005 rows x 2 columns]"
      ]
     },
     "execution_count": 9,
     "metadata": {},
     "output_type": "execute_result"
    }
   ],
   "source": [
    "skills = skills.sort_values('position')\n",
    "first = skills.groupby(['job_group_name', 'type']).first().name\n",
    "last = skills.groupby(['job_group_name', 'type']).last().name\n",
    "pd.concat([first, last], axis=1, keys=['first', 'last'])"
   ]
  },
  {
   "cell_type": "markdown",
   "metadata": {},
   "source": [
    "Feedback I got from Pascal: I'm sorry but even if I read French quite fluently I cannot tell whether they are ordered, so I believe they are not.\n",
    "\"Éducation de jeunes enfants\" (young kinds education), has its first theoritical skill being \"Civil Law\" and its last \"Technics of listening and realtion to people\": I believe the last one is more correlated to the job group.\n",
    "\"Élevage ovin ou caprin\" (Breeding of sheep or goats) has its first action skill being \"Setup of birth cages\", and the last one \"welding\". I believe the first one is more correlated to the job group.\n",
    "\n",
    "TODO: \n",
    "\n",
    "However I feel that we can compute some interesting measure of it:\n",
    "1. assign a specificity score to each skill by computing some reverse function of its frequency among job groups (1 / # of job groups with this skill)\n",
    "2. normalize positions from 0 to 1 for each job group\n",
    "3. plot 1 & 2 and see if there's any kind of correlation\n",
    "Supposedly we should see very specific skills being closer to 0.\n",
    "\n",
    "To make it even closer to something useful, you can also weigh each job group with the number of persons in this job group, for instance using a proxy with the FHS."
   ]
  },
  {
   "cell_type": "markdown",
   "metadata": {},
   "source": [
    "## Skills per job\n",
    "\n",
    "How many different skills are usually associated to a job?"
   ]
  },
  {
   "cell_type": "code",
   "execution_count": 10,
   "metadata": {
    "collapsed": false
   },
   "outputs": [
    {
     "data": {
      "image/png": "[encoded data removed]",
      "text/plain": [
       "<matplotlib.figure.Figure at 0x7f0f07fb87b8>"
      ]
     },
     "metadata": {},
     "output_type": "display_data"
    }
   ],
   "source": [
    "_ = skills.groupby('job_group_id').skill_id.nunique().hist()"
   ]
  },
  {
   "cell_type": "markdown",
   "metadata": {},
   "source": [
    "That's a neat distribution with a clear peak around 10. Florian asked in the PRD 'how many skills do we plan to collect per user'. With users having had several jobs in their past, I would expect a user to pick between 15-30 skills, as a very rough estimate. This of course also depends on the typical skill overlap between jobs and a probobably higher skill overlap between jobs in the same field.\n",
    "\n",
    "Also, as we saw in the summary statistics above, all 531 job groups in ROME have at least one skill associated with it.\n",
    "\n",
    "**Is there a difference between the number of theoretical and action skills?**"
   ]
  },
  {
   "cell_type": "code",
   "execution_count": 11,
   "metadata": {
    "collapsed": false,
    "scrolled": false
   },
   "outputs": [
    {
     "data": {
      "image/png": "[encoded data removed]",
      "text/plain": [
       "<matplotlib.figure.Figure at 0x7f0f060dd9e8>"
      ]
     },
     "metadata": {},
     "output_type": "display_data"
    }
   ],
   "source": [
    "by_job_by_type = skills.groupby(['job_group_id', 'type'])\n",
    "unique_job_counts = by_job_by_type.skill_id.nunique().reset_index()\n",
    "_ = unique_job_counts.hist(by='type', normed=True, sharex=True, sharey=True)"
   ]
  },
  {
   "cell_type": "markdown",
   "metadata": {},
   "source": [
    "The theoretical skills resemble the above distribution, but many jobs seem to have only one or two action skills."
   ]
  },
  {
   "cell_type": "markdown",
   "metadata": {},
   "source": [
    "## Let's see how specific skills are to a job group.\n",
    "\n",
    "Because each skill only appears once per job_group, I can simply divide the skill frequency by number of job_groups."
   ]
  },
  {
   "cell_type": "code",
   "execution_count": 13,
   "metadata": {
    "collapsed": false
   },
   "outputs": [
    {
     "data": {
      "image/png": "[encoded data removed]",
      "text/plain": [
       "<matplotlib.figure.Figure at 0x7f0f035903c8>"
      ]
     },
     "metadata": {},
     "output_type": "display_data"
    }
   ],
   "source": [
    "skill_frequency = skills.name.value_counts() / skills.job_group_id.nunique()\n",
    "skill_frequency.index = pd.Series(range(len(skill_frequency))) / len(skill_frequency)\n",
    "_ = skill_frequency.plot(figsize=(8, 4))"
   ]
  },
  {
   "cell_type": "markdown",
   "metadata": {},
   "source": [
    "There seem to be a very few skills that are associated with lots of different jobs. Most of the skills seem to be very specific to a job. \n",
    "\n",
    "That means that we might have trouble suggesting totally new jobs for the skills a user imported from their old job, because there might be hardly any overlap between skills of his old job and a potential new job. Except of the few very common skills that probably don't provide much signal.\n",
    "\n",
    "**What are those very common skills?**"
   ]
  },
  {
   "cell_type": "code",
   "execution_count": 20,
   "metadata": {
    "collapsed": false
   },
   "outputs": [
    {
     "data": {
      "text/html": [
       "<div>\n",
       "<table border=\"1\" class=\"dataframe\">\n",
       "  <thead>\n",
       "    <tr style=\"text-align: right;\">\n",
       "      <th></th>\n",
       "      <th></th>\n",
       "      <th>skill_id</th>\n",
       "    </tr>\n",
       "    <tr>\n",
       "      <th>name</th>\n",
       "      <th>type</th>\n",
       "      <th></th>\n",
       "    </tr>\n",
       "  </thead>\n",
       "  <tbody>\n",
       "    <tr>\n",
       "      <th>Utilisation d'outils bureautiques (traitement de texte, tableur,...)</th>\n",
       "      <th>action_skill</th>\n",
       "      <td>164</td>\n",
       "    </tr>\n",
       "    <tr>\n",
       "      <th>Normes qualité</th>\n",
       "      <th>theoretical_skill</th>\n",
       "      <td>82</td>\n",
       "    </tr>\n",
       "    <tr>\n",
       "      <th>Règles de sécurité</th>\n",
       "      <th>theoretical_skill</th>\n",
       "      <td>79</td>\n",
       "    </tr>\n",
       "    <tr>\n",
       "      <th>Techniques commerciales</th>\n",
       "      <th>theoretical_skill</th>\n",
       "      <td>52</td>\n",
       "    </tr>\n",
       "    <tr>\n",
       "      <th>Techniques de communication</th>\n",
       "      <th>theoretical_skill</th>\n",
       "      <td>52</td>\n",
       "    </tr>\n",
       "    <tr>\n",
       "      <th>Règles et consignes de sécurité</th>\n",
       "      <th>theoretical_skill</th>\n",
       "      <td>50</td>\n",
       "    </tr>\n",
       "    <tr>\n",
       "      <th>Gestes et postures de manutention</th>\n",
       "      <th>theoretical_skill</th>\n",
       "      <td>47</td>\n",
       "    </tr>\n",
       "    <tr>\n",
       "      <th>Lecture de plan</th>\n",
       "      <th>action_skill</th>\n",
       "      <td>41</td>\n",
       "    </tr>\n",
       "    <tr>\n",
       "      <th>Eléments de base en mécanique générale</th>\n",
       "      <th>theoretical_skill</th>\n",
       "      <td>41</td>\n",
       "    </tr>\n",
       "    <tr>\n",
       "      <th>Conduite de projet</th>\n",
       "      <th>theoretical_skill</th>\n",
       "      <td>39</td>\n",
       "    </tr>\n",
       "  </tbody>\n",
       "</table>\n",
       "</div>"
      ],
      "text/plain": [
       "                                                                      skill_id\n",
       "name                                               type                       \n",
       "Utilisation d'outils bureautiques (traitement d... action_skill            164\n",
       "Normes qualité                                     theoretical_skill        82\n",
       "Règles de sécurité                                 theoretical_skill        79\n",
       "Techniques commerciales                            theoretical_skill        52\n",
       "Techniques de communication                        theoretical_skill        52\n",
       "Règles et consignes de sécurité                    theoretical_skill        50\n",
       "Gestes et postures de manutention                  theoretical_skill        47\n",
       "Lecture de plan                                    action_skill             41\n",
       "Eléments de base en mécanique générale             theoretical_skill        41\n",
       "Conduite de projet                                 theoretical_skill        39"
      ]
     },
     "execution_count": 20,
     "metadata": {},
     "output_type": "execute_result"
    }
   ],
   "source": [
    "counts = skills.groupby(['name', 'type']).skill_id.count().to_frame()\n",
    "counts.sort_values('skill_id', ascending=False).head(10)"
   ]
  },
  {
   "cell_type": "markdown",
   "metadata": {},
   "source": [
    "Looks like very general soft skills."
   ]
  },
  {
   "cell_type": "markdown",
   "metadata": {},
   "source": [
    "## Skills spread over categories?\n",
    "\n",
    "Paul asked: check if a given skill is present across many different job categories (look at the first letter of ROME for example) -> possible there's a bias towards only reusing the exact same skill if the jobs belong in the same job category, which would defeat some of the purpose."
   ]
  },
  {
   "cell_type": "code",
   "execution_count": 15,
   "metadata": {
    "collapsed": false
   },
   "outputs": [
    {
     "data": {
      "image/png": "[encoded data removed]",
      "text/plain": [
       "<matplotlib.figure.Figure at 0x7f0f03582d30>"
      ]
     },
     "metadata": {},
     "output_type": "display_data"
    }
   ],
   "source": [
    "skills['category'] = skills.job_group_id.str.slice(0, 1)\n",
    "_ = skills.groupby('name').category.nunique().hist(bins=14)"
   ]
  },
  {
   "cell_type": "code",
   "execution_count": 28,
   "metadata": {
    "collapsed": false
   },
   "outputs": [
    {
     "data": {
      "image/png": "[encoded data removed]",
      "text/plain": [
       "<matplotlib.figure.Figure at 0x7f2ed2946198>"
      ]
     },
     "metadata": {},
     "output_type": "display_data"
    }
   ],
   "source": [
    "_ = skills.groupby(['name', 'type']).category.nunique().hist(bins=14)"
   ]
  },
  {
   "cell_type": "code",
   "execution_count": 36,
   "metadata": {
    "collapsed": false
   },
   "outputs": [
    {
     "data": {
      "image/png": "[encoded data removed]",
      "text/plain": [
       "<matplotlib.figure.Figure at 0x7f2ec9b1af60>"
      ]
     },
     "metadata": {},
     "output_type": "display_data"
    }
   ],
   "source": [
    "_ = skills.groupby(['name', 'type']).category.nunique().reset_index().hist(by='type', normed=True)"
   ]
  },
  {
   "cell_type": "markdown",
   "metadata": {},
   "source": [
    "Most skills are only used within the same ROME category. However theoretical skills are more spread over categories than practical skills are."
   ]
  },
  {
   "cell_type": "markdown",
   "metadata": {},
   "source": [
    "## Conclusion\n",
    "\n",
    "* We have a list of ~1700 skills that are divided into theoretical and action skills.\n",
    "* Theoretical skills are more common (~70%).\n",
    "* Skills are ordered within a job_group, we need to confirm that this ordering is related to specificity of a skill.\n",
    "* There are on average ~12 different skills assigned to a job.\n",
    "* Most skills are pretty specific to a job_group.\n",
    "* Most skills are specific to the ROME category."
   ]
  }
 ],
 "metadata": {
  "kernelspec": {
   "display_name": "Python 3",
   "language": "python",
   "name": "python3"
  },
  "language_info": {
   "codemirror_mode": {
    "name": "ipython",
    "version": 3
   },
   "file_extension": ".py",
   "mimetype": "text/x-python",
   "name": "python",
   "nbconvert_exporter": "python",
   "pygments_lexer": "ipython3",
   "version": "3.5.1"
  },
  "widgets": {
   "state": {},
   "version": "1.1.1"
  }
 },
 "nbformat": 4,
 "nbformat_minor": 0
}
