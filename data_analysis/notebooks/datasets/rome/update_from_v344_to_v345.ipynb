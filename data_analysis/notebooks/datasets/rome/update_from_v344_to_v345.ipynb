{
 "cells": [
  {
   "cell_type": "markdown",
   "metadata": {},
   "source": [
    "Author: Pascal, pascal@bayesimpact.org\n",
    "\n",
    "Date: 2021-01-12\n",
    "\n",
    "# ROME update from v344 to v345\n",
    "\n",
    "In January 2021 a new version of the ROME was released. I want to investigate what changed and whether we need to do anything about it.\n",
    "\n",
    "You might not be able to reproduce this notebook, mostly because it requires to have the two versions of the ROME in your `data/rome/csv` folder which happens only just before we switch to v345. You will have to trust me on the results ;-)\n",
    "\n",
    "Skip the run test because it requires older versions of the ROME."
   ]
  },
  {
   "cell_type": "code",
   "execution_count": 1,
   "metadata": {},
   "outputs": [],
   "source": [
    "import collections\n",
    "import glob\n",
    "import os\n",
    "from os import path\n",
    "\n",
    "import matplotlib_venn\n",
    "import pandas as pd\n",
    "\n",
    "rome_path = path.join(os.getenv('DATA_FOLDER'), 'rome/csv')\n",
    "\n",
    "OLD_VERSION = '344'\n",
    "NEW_VERSION = '345'\n",
    "\n",
    "old_version_files = frozenset(glob.glob(rome_path + '/*{}*'.format(OLD_VERSION)))\n",
    "new_version_files = frozenset(glob.glob(rome_path + '/*{}*'.format(NEW_VERSION)))"
   ]
  },
  {
   "cell_type": "markdown",
   "metadata": {},
   "source": [
    "First let's check if there are new or deleted files (only matching by file names)."
   ]
  },
  {
   "cell_type": "code",
   "execution_count": 2,
   "metadata": {},
   "outputs": [
    {
     "name": "stdout",
     "output_type": "stream",
     "text": [
      "0 new files\n",
      "0 deleted files\n"
     ]
    }
   ],
   "source": [
    "new_files = new_version_files - frozenset(f.replace(OLD_VERSION, NEW_VERSION) for f in old_version_files)\n",
    "deleted_files = old_version_files - frozenset(f.replace(NEW_VERSION, OLD_VERSION) for f in new_version_files)\n",
    "\n",
    "print('{:d} new files'.format(len(new_files)))\n",
    "print('{:d} deleted files'.format(len(deleted_files)))"
   ]
  },
  {
   "cell_type": "markdown",
   "metadata": {},
   "source": [
    "Cool, no new nor deleted files.\n",
    "\n",
    "Now let's set up a dataset that, for each table, links both the old and the new file together."
   ]
  },
  {
   "cell_type": "code",
   "execution_count": 3,
   "metadata": {},
   "outputs": [],
   "source": [
    "# Load all ROME datasets for the two versions we compare.\n",
    "VersionedDataset = collections.namedtuple('VersionedDataset', ['basename', 'old', 'new'])\n",
    "def read_csv(filename):\n",
    "    try:\n",
    "        return pd.read_csv(filename)\n",
    "    except pd.errors.ParserError:\n",
    "        display(f'While parsing: {filename}')\n",
    "        raise\n",
    "\n",
    "rome_data = [VersionedDataset(\n",
    "        basename=path.basename(f),\n",
    "        old=read_csv(f.replace(NEW_VERSION, OLD_VERSION)),\n",
    "        new=read_csv(f))\n",
    "    for f in sorted(new_version_files)]\n",
    "\n",
    "def find_rome_dataset_by_name(data, partial_name):\n",
    "    for dataset in data:\n",
    "        if 'unix_{}_v{}_utf8.csv'.format(partial_name, NEW_VERSION) == dataset.basename:\n",
    "            return dataset\n",
    "    raise ValueError('No dataset named {}, the list is\\n{}'.format(partial_name, [d.basename for d in data]))"
   ]
  },
  {
   "cell_type": "markdown",
   "metadata": {},
   "source": [
    "Let's make sure the structure hasn't changed:"
   ]
  },
  {
   "cell_type": "code",
   "execution_count": 4,
   "metadata": {},
   "outputs": [],
   "source": [
    "for dataset in rome_data:\n",
    "    if set(dataset.old.columns) != set(dataset.new.columns):\n",
    "        print('Columns of {} have changed.'.format(dataset.basename))"
   ]
  },
  {
   "cell_type": "markdown",
   "metadata": {},
   "source": [
    "OK no columns have changed.\n",
    "\n",
    "Now let's see for each file if there are more or less rows."
   ]
  },
  {
   "cell_type": "code",
   "execution_count": 5,
   "metadata": {},
   "outputs": [
    {
     "name": "stdout",
     "output_type": "stream",
     "text": [
      "9/32282 values added in unix_coherence_item_v345_utf8.csv\n",
      "13/11765 values added in unix_cr_gd_dp_appellations_v345_utf8.csv\n",
      "1/13660 values added in unix_item_v345_utf8.csv\n",
      "22/43923 values added in unix_liens_rome_referentiels_v345_utf8.csv\n",
      "13/11109 values added in unix_referentiel_appellation_v345_utf8.csv\n",
      "15/20 files with the same number of rows\n"
     ]
    }
   ],
   "source": [
    "same_row_count_files = 0\n",
    "for dataset in rome_data:\n",
    "    diff = len(dataset.new.index) - len(dataset.old.index)\n",
    "    if diff > 0:\n",
    "        print('{:d}/{:d} values added in {}'.format(\n",
    "            diff, len(dataset.new.index), dataset.basename))\n",
    "    elif diff < 0:\n",
    "        print('{:d}/{:d} values removed in {}'.format(\n",
    "            -diff, len(dataset.old.index), dataset.basename))\n",
    "    else:\n",
    "        same_row_count_files += 1\n",
    "print('{:d}/{:d} files with the same number of rows'.format(\n",
    "    same_row_count_files, len(rome_data)))"
   ]
  },
  {
   "cell_type": "markdown",
   "metadata": {},
   "source": [
    "There are some minor changes in many files, but based on my knowledge of ROME, none from the main files.\n",
    "\n",
    "The most interesting ones are in referentiel_appellation and liens_rome_referentiels, so let's see more precisely."
   ]
  },
  {
   "cell_type": "code",
   "execution_count": 6,
   "metadata": {},
   "outputs": [
    {
     "data": {
      "image/png": "[encoded data removed]",
      "text/plain": [
       "<Figure size 432x288 with 1 Axes>"
      ]
     },
     "metadata": {
      "image/png": {
       "height": 236,
       "width": 231
      }
     },
     "output_type": "display_data"
    }
   ],
   "source": [
    "jobs = find_rome_dataset_by_name(rome_data, 'referentiel_appellation')\n",
    "\n",
    "new_jobs = set(jobs.new.code_ogr) - set(jobs.old.code_ogr)\n",
    "obsolete_jobs = set(jobs.old.code_ogr) - set(jobs.new.code_ogr)\n",
    "stable_jobs = set(jobs.new.code_ogr) & set(jobs.old.code_ogr)\n",
    "\n",
    "matplotlib_venn.venn2((len(obsolete_jobs), len(new_jobs), len(stable_jobs)), (OLD_VERSION, NEW_VERSION));"
   ]
  },
  {
   "cell_type": "markdown",
   "metadata": {},
   "source": [
    "Alright, so the only change seems to be 13 new jobs added. Let's take a look (only showing interesting fields):"
   ]
  },
  {
   "cell_type": "code",
   "execution_count": 7,
   "metadata": {},
   "outputs": [
    {
     "data": {
      "text/html": [
       "<div>\n",
       "<style scoped>\n",
       "    .dataframe tbody tr th:only-of-type {\n",
       "        vertical-align: middle;\n",
       "    }\n",
       "\n",
       "    .dataframe tbody tr th {\n",
       "        vertical-align: top;\n",
       "    }\n",
       "\n",
       "    .dataframe thead th {\n",
       "        text-align: right;\n",
       "    }\n",
       "</style>\n",
       "<table border=\"1\" class=\"dataframe\">\n",
       "  <thead>\n",
       "    <tr style=\"text-align: right;\">\n",
       "      <th></th>\n",
       "      <th>code_ogr</th>\n",
       "      <th>libelle_appellation_long</th>\n",
       "      <th>code_rome</th>\n",
       "    </tr>\n",
       "  </thead>\n",
       "  <tbody>\n",
       "    <tr>\n",
       "      <th>11096</th>\n",
       "      <td>200140</td>\n",
       "      <td>Conseiller / Conseillère en gestion des droits</td>\n",
       "      <td>C1109</td>\n",
       "    </tr>\n",
       "    <tr>\n",
       "      <th>11097</th>\n",
       "      <td>200141</td>\n",
       "      <td>Family office</td>\n",
       "      <td>C1205</td>\n",
       "    </tr>\n",
       "    <tr>\n",
       "      <th>11098</th>\n",
       "      <td>200142</td>\n",
       "      <td>Architecte du patrimoine</td>\n",
       "      <td>F1101</td>\n",
       "    </tr>\n",
       "    <tr>\n",
       "      <th>11099</th>\n",
       "      <td>200143</td>\n",
       "      <td>Bid manager</td>\n",
       "      <td>H1102</td>\n",
       "    </tr>\n",
       "    <tr>\n",
       "      <th>11100</th>\n",
       "      <td>200144</td>\n",
       "      <td>Chargé / Chargée de pharmacovigilance</td>\n",
       "      <td>H1502</td>\n",
       "    </tr>\n",
       "    <tr>\n",
       "      <th>11101</th>\n",
       "      <td>200145</td>\n",
       "      <td>Assistant médical / Assistante médicale</td>\n",
       "      <td>J1303</td>\n",
       "    </tr>\n",
       "    <tr>\n",
       "      <th>11102</th>\n",
       "      <td>200146</td>\n",
       "      <td>Talent manager</td>\n",
       "      <td>M1502</td>\n",
       "    </tr>\n",
       "    <tr>\n",
       "      <th>11103</th>\n",
       "      <td>200147</td>\n",
       "      <td>Product manager</td>\n",
       "      <td>M1703</td>\n",
       "    </tr>\n",
       "    <tr>\n",
       "      <th>11104</th>\n",
       "      <td>200148</td>\n",
       "      <td>Chief Technical Officer - CTO</td>\n",
       "      <td>M1802</td>\n",
       "    </tr>\n",
       "    <tr>\n",
       "      <th>11105</th>\n",
       "      <td>200149</td>\n",
       "      <td>Project Manager</td>\n",
       "      <td>M1803</td>\n",
       "    </tr>\n",
       "    <tr>\n",
       "      <th>11106</th>\n",
       "      <td>200150</td>\n",
       "      <td>Développeur / Développeuse front-end</td>\n",
       "      <td>M1805</td>\n",
       "    </tr>\n",
       "    <tr>\n",
       "      <th>11107</th>\n",
       "      <td>200151</td>\n",
       "      <td>Développeur / Développeuse back-end</td>\n",
       "      <td>M1805</td>\n",
       "    </tr>\n",
       "    <tr>\n",
       "      <th>11108</th>\n",
       "      <td>200152</td>\n",
       "      <td>Project Management Officer - PMO</td>\n",
       "      <td>M1806</td>\n",
       "    </tr>\n",
       "  </tbody>\n",
       "</table>\n",
       "</div>"
      ],
      "text/plain": [
       "       code_ogr                        libelle_appellation_long code_rome\n",
       "11096    200140  Conseiller / Conseillère en gestion des droits     C1109\n",
       "11097    200141                                   Family office     C1205\n",
       "11098    200142                        Architecte du patrimoine     F1101\n",
       "11099    200143                                     Bid manager     H1102\n",
       "11100    200144           Chargé / Chargée de pharmacovigilance     H1502\n",
       "11101    200145         Assistant médical / Assistante médicale     J1303\n",
       "11102    200146                                  Talent manager     M1502\n",
       "11103    200147                                 Product manager     M1703\n",
       "11104    200148                   Chief Technical Officer - CTO     M1802\n",
       "11105    200149                                 Project Manager     M1803\n",
       "11106    200150            Développeur / Développeuse front-end     M1805\n",
       "11107    200151             Développeur / Développeuse back-end     M1805\n",
       "11108    200152                Project Management Officer - PMO     M1806"
      ]
     },
     "execution_count": 7,
     "metadata": {},
     "output_type": "execute_result"
    }
   ],
   "source": [
    "pd.options.display.max_colwidth = 2000\n",
    "jobs.new[jobs.new.code_ogr.isin(new_jobs)][['code_ogr', 'libelle_appellation_long', 'code_rome']]"
   ]
  },
  {
   "cell_type": "markdown",
   "metadata": {},
   "source": [
    "Those are indeed new jobs. Some are related to COVID-19 and we finally have my (Pascal) job in there.\n",
    "\n",
    "OK, let's check at the changes in items:"
   ]
  },
  {
   "cell_type": "code",
   "execution_count": 8,
   "metadata": {},
   "outputs": [
    {
     "data": {
      "image/png": "[encoded data removed]",
      "text/plain": [
       "<Figure size 432x288 with 1 Axes>"
      ]
     },
     "metadata": {
      "image/png": {
       "height": 236,
       "width": 231
      }
     },
     "output_type": "display_data"
    }
   ],
   "source": [
    "items = find_rome_dataset_by_name(rome_data, 'item')\n",
    "\n",
    "new_items = set(items.new.code_ogr) - set(items.old.code_ogr)\n",
    "obsolete_items = set(items.old.code_ogr) - set(items.new.code_ogr)\n",
    "stable_items = set(items.new.code_ogr) & set(items.old.code_ogr)\n",
    "\n",
    "matplotlib_venn.venn2((len(obsolete_items), len(new_items), len(stable_items)), (OLD_VERSION, NEW_VERSION));"
   ]
  },
  {
   "cell_type": "markdown",
   "metadata": {},
   "source": [
    "No changes at all, so it's merely existing items that have been newly assigned to existing groups.\n",
    "\n",
    "The changes in `liens_rome_referentiels` might help reveal those changes:"
   ]
  },
  {
   "cell_type": "code",
   "execution_count": 9,
   "metadata": {},
   "outputs": [
    {
     "data": {
      "text/plain": [
       "added    22\n",
       "Name: _diff, dtype: int64"
      ]
     },
     "execution_count": 9,
     "metadata": {},
     "output_type": "execute_result"
    }
   ],
   "source": [
    "links = find_rome_dataset_by_name(rome_data, 'liens_rome_referentiels')\n",
    "\n",
    "old = links.old[['code_rome', 'code_ogr']]\n",
    "new = links.new[['code_rome', 'code_ogr']]\n",
    "\n",
    "links_merged = old.merge(new, how='outer', indicator=True)\n",
    "links_merged['_diff'] = links_merged._merge.map({'left_only': 'removed', 'right_only': 'added'})\n",
    "links_merged._diff.value_counts()"
   ]
  },
  {
   "cell_type": "markdown",
   "metadata": {},
   "source": [
    "So there are few fixes. Let's have a look at some of them:"
   ]
  },
  {
   "cell_type": "code",
   "execution_count": 10,
   "metadata": {},
   "outputs": [
    {
     "data": {
      "text/html": [
       "<div>\n",
       "<style scoped>\n",
       "    .dataframe tbody tr th:only-of-type {\n",
       "        vertical-align: middle;\n",
       "    }\n",
       "\n",
       "    .dataframe tbody tr th {\n",
       "        vertical-align: top;\n",
       "    }\n",
       "\n",
       "    .dataframe thead th {\n",
       "        text-align: right;\n",
       "    }\n",
       "</style>\n",
       "<table border=\"1\" class=\"dataframe\">\n",
       "  <thead>\n",
       "    <tr style=\"text-align: right;\">\n",
       "      <th></th>\n",
       "      <th>code_rome</th>\n",
       "      <th>code_ogr</th>\n",
       "      <th>_merge</th>\n",
       "      <th>_diff</th>\n",
       "      <th>job_group_name</th>\n",
       "      <th>item_name</th>\n",
       "    </tr>\n",
       "  </thead>\n",
       "  <tbody>\n",
       "  </tbody>\n",
       "</table>\n",
       "</div>"
      ],
      "text/plain": [
       "Empty DataFrame\n",
       "Columns: [code_rome, code_ogr, _merge, _diff, job_group_name, item_name]\n",
       "Index: []"
      ]
     },
     "metadata": {},
     "output_type": "display_data"
    },
    {
     "data": {
      "text/html": [
       "<div>\n",
       "<style scoped>\n",
       "    .dataframe tbody tr th:only-of-type {\n",
       "        vertical-align: middle;\n",
       "    }\n",
       "\n",
       "    .dataframe tbody tr th {\n",
       "        vertical-align: top;\n",
       "    }\n",
       "\n",
       "    .dataframe thead th {\n",
       "        text-align: right;\n",
       "    }\n",
       "</style>\n",
       "<table border=\"1\" class=\"dataframe\">\n",
       "  <thead>\n",
       "    <tr style=\"text-align: right;\">\n",
       "      <th></th>\n",
       "      <th>code_rome</th>\n",
       "      <th>code_ogr</th>\n",
       "      <th>_merge</th>\n",
       "      <th>_diff</th>\n",
       "      <th>job_group_name</th>\n",
       "      <th>item_name</th>\n",
       "    </tr>\n",
       "  </thead>\n",
       "  <tbody>\n",
       "    <tr>\n",
       "      <th>43907</th>\n",
       "      <td>J1303</td>\n",
       "      <td>23750</td>\n",
       "      <td>right_only</td>\n",
       "      <td>added</td>\n",
       "      <td>Assistance médico-technique</td>\n",
       "      <td>Cabinet médical</td>\n",
       "    </tr>\n",
       "    <tr>\n",
       "      <th>43910</th>\n",
       "      <td>M1703</td>\n",
       "      <td>118732</td>\n",
       "      <td>right_only</td>\n",
       "      <td>added</td>\n",
       "      <td>Management et gestion de produit</td>\n",
       "      <td>Réaliser une veille documentaire (collecte, analyse etc.)</td>\n",
       "    </tr>\n",
       "    <tr>\n",
       "      <th>43913</th>\n",
       "      <td>M1803</td>\n",
       "      <td>113277</td>\n",
       "      <td>right_only</td>\n",
       "      <td>added</td>\n",
       "      <td>Direction des systèmes d'information</td>\n",
       "      <td>Méthode AGILE</td>\n",
       "    </tr>\n",
       "    <tr>\n",
       "      <th>43914</th>\n",
       "      <td>M1803</td>\n",
       "      <td>120879</td>\n",
       "      <td>right_only</td>\n",
       "      <td>added</td>\n",
       "      <td>Direction des systèmes d'information</td>\n",
       "      <td>Système LEAN</td>\n",
       "    </tr>\n",
       "    <tr>\n",
       "      <th>43915</th>\n",
       "      <td>M1803</td>\n",
       "      <td>121639</td>\n",
       "      <td>right_only</td>\n",
       "      <td>added</td>\n",
       "      <td>Direction des systèmes d'information</td>\n",
       "      <td>Élaborer une cartographie des risques</td>\n",
       "    </tr>\n",
       "    <tr>\n",
       "      <th>43916</th>\n",
       "      <td>M1803</td>\n",
       "      <td>119313</td>\n",
       "      <td>right_only</td>\n",
       "      <td>added</td>\n",
       "      <td>Direction des systèmes d'information</td>\n",
       "      <td>Conduite d'opérations de gestion de crise</td>\n",
       "    </tr>\n",
       "    <tr>\n",
       "      <th>43920</th>\n",
       "      <td>M1806</td>\n",
       "      <td>120563</td>\n",
       "      <td>right_only</td>\n",
       "      <td>added</td>\n",
       "      <td>Conseil et maîtrise d'ouvrage en systèmes d'information</td>\n",
       "      <td>Réaliser un reporting</td>\n",
       "    </tr>\n",
       "    <tr>\n",
       "      <th>43921</th>\n",
       "      <td>M1806</td>\n",
       "      <td>122886</td>\n",
       "      <td>right_only</td>\n",
       "      <td>added</td>\n",
       "      <td>Conseil et maîtrise d'ouvrage en systèmes d'information</td>\n",
       "      <td>Suivre l'avancement d'un projet</td>\n",
       "    </tr>\n",
       "    <tr>\n",
       "      <th>43922</th>\n",
       "      <td>M1806</td>\n",
       "      <td>118867</td>\n",
       "      <td>right_only</td>\n",
       "      <td>added</td>\n",
       "      <td>Conseil et maîtrise d'ouvrage en systèmes d'information</td>\n",
       "      <td>Conduite du changement</td>\n",
       "    </tr>\n",
       "  </tbody>\n",
       "</table>\n",
       "</div>"
      ],
      "text/plain": [
       "      code_rome  code_ogr      _merge  _diff  \\\n",
       "43907     J1303     23750  right_only  added   \n",
       "43910     M1703    118732  right_only  added   \n",
       "43913     M1803    113277  right_only  added   \n",
       "43914     M1803    120879  right_only  added   \n",
       "43915     M1803    121639  right_only  added   \n",
       "43916     M1803    119313  right_only  added   \n",
       "43920     M1806    120563  right_only  added   \n",
       "43921     M1806    122886  right_only  added   \n",
       "43922     M1806    118867  right_only  added   \n",
       "\n",
       "                                                job_group_name  \\\n",
       "43907                              Assistance médico-technique   \n",
       "43910                         Management et gestion de produit   \n",
       "43913                     Direction des systèmes d'information   \n",
       "43914                     Direction des systèmes d'information   \n",
       "43915                     Direction des systèmes d'information   \n",
       "43916                     Direction des systèmes d'information   \n",
       "43920  Conseil et maîtrise d'ouvrage en systèmes d'information   \n",
       "43921  Conseil et maîtrise d'ouvrage en systèmes d'information   \n",
       "43922  Conseil et maîtrise d'ouvrage en systèmes d'information   \n",
       "\n",
       "                                                       item_name  \n",
       "43907                                            Cabinet médical  \n",
       "43910  Réaliser une veille documentaire (collecte, analyse etc.)  \n",
       "43913                                              Méthode AGILE  \n",
       "43914                                               Système LEAN  \n",
       "43915                      Élaborer une cartographie des risques  \n",
       "43916                  Conduite d'opérations de gestion de crise  \n",
       "43920                                      Réaliser un reporting  \n",
       "43921                            Suivre l'avancement d'un projet  \n",
       "43922                                     Conduite du changement  "
      ]
     },
     "execution_count": 10,
     "metadata": {},
     "output_type": "execute_result"
    }
   ],
   "source": [
    "job_group_names = find_rome_dataset_by_name(rome_data, 'referentiel_code_rome').new.set_index('code_rome').libelle_rome\n",
    "item_names = items.new.set_index('code_ogr').libelle.drop_duplicates()\n",
    "links_merged['job_group_name'] = links_merged.code_rome.map(job_group_names)\n",
    "links_merged['item_name'] = links_merged.code_ogr.map(item_names)\n",
    "display(links_merged[links_merged._diff == 'removed'].dropna().head(5))\n",
    "links_merged[links_merged._diff == 'added'].dropna().head(10)"
   ]
  },
  {
   "cell_type": "markdown",
   "metadata": {},
   "source": [
    "The added items are OK (not sure why they weren't in there before).\n",
    "\n",
    "That's all the changes we wanted to check (no change in `referentiel_code_rome`)."
   ]
  },
  {
   "cell_type": "markdown",
   "metadata": {},
   "source": [
    "# Conclusion\n",
    "\n",
    "The new version of ROME, v345, introduces very minor changes which reflect quite well what they wrote in their [changelog](http://www.pole-emploi.org/files/live/sites/peorg/files/documents/Statistiques-et-analyses/Open-data/ROME/ROME_AppropriationThematique.pdf).\n",
    "\n",
    "The transition should be transparent with a very small advantage over the old version."
   ]
  }
 ],
 "metadata": {
  "kernelspec": {
   "display_name": "Python 3",
   "language": "python",
   "name": "python3"
  },
  "language_info": {
   "codemirror_mode": {
    "name": "ipython",
    "version": 3
   },
   "file_extension": ".py",
   "mimetype": "text/x-python",
   "name": "python",
   "nbconvert_exporter": "python",
   "pygments_lexer": "ipython3",
   "version": "3.8.6"
  }
 },
 "nbformat": 4,
 "nbformat_minor": 1
}
