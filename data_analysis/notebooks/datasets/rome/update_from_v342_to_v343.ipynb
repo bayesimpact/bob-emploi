{
 "cells": [
  {
   "cell_type": "markdown",
   "metadata": {},
   "source": [
    "Author: Pascal, pascal@bayesimpact.org\n",
    "\n",
    "Date: 2020-06-24\n",
    "\n",
    "# ROME update from v342 to v343\n",
    "\n",
    "In March 2020 a new version of the ROME was released. I want to investigate what changed and whether we need to do anything about it.\n",
    "\n",
    "You might not be able to reproduce this notebook, mostly because it requires to have the two versions of the ROME in your `data/rome/csv` folder which happens only just before we switch to v343. You will have to trust me on the results ;-)\n",
    "\n",
    "Skip the run test because it requires older versions of the ROME."
   ]
  },
  {
   "cell_type": "code",
   "execution_count": 1,
   "metadata": {},
   "outputs": [],
   "source": [
    "import collections\n",
    "import glob\n",
    "import os\n",
    "from os import path\n",
    "\n",
    "import matplotlib_venn\n",
    "import pandas as pd\n",
    "\n",
    "rome_path = path.join(os.getenv('DATA_FOLDER'), 'rome/csv')\n",
    "\n",
    "OLD_VERSION = '342'\n",
    "NEW_VERSION = '343'\n",
    "\n",
    "old_version_files = frozenset(glob.glob(rome_path + '/*{}*'.format(OLD_VERSION)))\n",
    "new_version_files = frozenset(glob.glob(rome_path + '/*{}*'.format(NEW_VERSION)))"
   ]
  },
  {
   "cell_type": "markdown",
   "metadata": {},
   "source": [
    "First let's check if there are new or deleted files (only matching by file names)."
   ]
  },
  {
   "cell_type": "code",
   "execution_count": 2,
   "metadata": {},
   "outputs": [
    {
     "name": "stdout",
     "output_type": "stream",
     "text": [
      "0 new files\n",
      "0 deleted files\n"
     ]
    }
   ],
   "source": [
    "new_files = new_version_files - frozenset(f.replace(OLD_VERSION, NEW_VERSION) for f in old_version_files)\n",
    "deleted_files = old_version_files - frozenset(f.replace(NEW_VERSION, OLD_VERSION) for f in new_version_files)\n",
    "\n",
    "print('{:d} new files'.format(len(new_files)))\n",
    "print('{:d} deleted files'.format(len(deleted_files)))"
   ]
  },
  {
   "cell_type": "markdown",
   "metadata": {},
   "source": [
    "Cool, no new nor deleted files.\n",
    "\n",
    "Now let's set up a dataset that, for each table, links both the old and the new file together."
   ]
  },
  {
   "cell_type": "code",
   "execution_count": 3,
   "metadata": {},
   "outputs": [],
   "source": [
    "# Load all ROME datasets for the two versions we compare.\n",
    "VersionedDataset = collections.namedtuple('VersionedDataset', ['basename', 'old', 'new'])\n",
    "def read_csv(filename):\n",
    "    try:\n",
    "        return pd.read_csv(filename)\n",
    "    except pd.errors.ParserError:\n",
    "        display(f'While parsing: {filename}')\n",
    "        raise\n",
    "\n",
    "rome_data = [VersionedDataset(\n",
    "        basename=path.basename(f),\n",
    "        old=read_csv(f.replace(NEW_VERSION, OLD_VERSION)),\n",
    "        new=read_csv(f))\n",
    "    for f in sorted(new_version_files)]\n",
    "\n",
    "def find_rome_dataset_by_name(data, partial_name):\n",
    "    for dataset in data:\n",
    "        if 'unix_{}_v{}_utf8.csv'.format(partial_name, NEW_VERSION) == dataset.basename:\n",
    "            return dataset\n",
    "    raise ValueError('No dataset named {}, the list is\\n{}'.format(partial_name, [d.basename for d in data]))"
   ]
  },
  {
   "cell_type": "markdown",
   "metadata": {},
   "source": [
    "Let's make sure the structure hasn't changed:"
   ]
  },
  {
   "cell_type": "code",
   "execution_count": 4,
   "metadata": {},
   "outputs": [],
   "source": [
    "for dataset in rome_data:\n",
    "    if set(dataset.old.columns) != set(dataset.new.columns):\n",
    "        print('Columns of {} have changed.'.format(dataset.basename))"
   ]
  },
  {
   "cell_type": "markdown",
   "metadata": {},
   "source": [
    "OK, let's check what's new in there:"
   ]
  },
  {
   "cell_type": "code",
   "execution_count": 5,
   "metadata": {},
   "outputs": [
    {
     "name": "stdout",
     "output_type": "stream",
     "text": [
      "New columns: set()\n",
      "Old columns: set()\n"
     ]
    }
   ],
   "source": [
    "jobs = find_rome_dataset_by_name(rome_data, 'referentiel_appellation')\n",
    "print(f'New columns: {set(jobs.old.columns) - set(jobs.new.columns)}')\n",
    "print(f'Old columns: {set(jobs.new.columns) - set(jobs.old.columns)}')"
   ]
  },
  {
   "cell_type": "markdown",
   "metadata": {},
   "source": [
    "Ouch, it seems they have decided to rename one column, however the opposite change was done when going to v341, so they're just reverting back. Lucky us we never used it.\n",
    "\n",
    "Now let's see for each file if there are more or less rows."
   ]
  },
  {
   "cell_type": "code",
   "execution_count": 6,
   "metadata": {},
   "outputs": [
    {
     "name": "stdout",
     "output_type": "stream",
     "text": [
      "66/32245 values added in unix_coherence_item_v343_utf8.csv\n",
      "10/11737 values added in unix_cr_gd_dp_appellations_v343_utf8.csv\n",
      "14/13645 values added in unix_item_v343_utf8.csv\n",
      "76/43858 values added in unix_liens_rome_referentiels_v343_utf8.csv\n",
      "2/8977 values added in unix_referentiel_activite_riasec_v343_utf8.csv\n",
      "2/8977 values added in unix_referentiel_activite_v343_utf8.csv\n",
      "10/11081 values added in unix_referentiel_appellation_v343_utf8.csv\n",
      "6/4929 values added in unix_referentiel_competence_v343_utf8.csv\n",
      "3/5048 values added in unix_texte_v343_utf8.csv\n",
      "11/20 files with the same number of rows\n"
     ]
    }
   ],
   "source": [
    "same_row_count_files = 0\n",
    "for dataset in rome_data:\n",
    "    diff = len(dataset.new.index) - len(dataset.old.index)\n",
    "    if diff > 0:\n",
    "        print('{:d}/{:d} values added in {}'.format(\n",
    "            diff, len(dataset.new.index), dataset.basename))\n",
    "    elif diff < 0:\n",
    "        print('{:d}/{:d} values removed in {}'.format(\n",
    "            -diff, len(dataset.old.index), dataset.basename))\n",
    "    else:\n",
    "        same_row_count_files += 1\n",
    "print('{:d}/{:d} files with the same number of rows'.format(\n",
    "    same_row_count_files, len(rome_data)))"
   ]
  },
  {
   "cell_type": "markdown",
   "metadata": {},
   "source": [
    "There are some minor changes in many files, but based on my knowledge of ROME, none from the main files.\n",
    "\n",
    "The most interesting ones are in referentiel_appellation, item, and liens_rome_referentiels, so let's see more precisely."
   ]
  },
  {
   "cell_type": "code",
   "execution_count": 7,
   "metadata": {},
   "outputs": [
    {
     "data": {
      "image/png": "[encoded data removed]",
      "text/plain": [
       "<Figure size 432x288 with 1 Axes>"
      ]
     },
     "metadata": {
      "image/png": {
       "height": 236,
       "width": 231
      }
     },
     "output_type": "display_data"
    }
   ],
   "source": [
    "jobs = find_rome_dataset_by_name(rome_data, 'referentiel_appellation')\n",
    "\n",
    "new_jobs = set(jobs.new.code_ogr) - set(jobs.old.code_ogr)\n",
    "obsolete_jobs = set(jobs.old.code_ogr) - set(jobs.new.code_ogr)\n",
    "stable_jobs = set(jobs.new.code_ogr) & set(jobs.old.code_ogr)\n",
    "\n",
    "matplotlib_venn.venn2((len(obsolete_jobs), len(new_jobs), len(stable_jobs)), (OLD_VERSION, NEW_VERSION));"
   ]
  },
  {
   "cell_type": "markdown",
   "metadata": {},
   "source": [
    "Alright, so the only change seems to be 10 new jobs added. Let's take a look (only showing interesting fields):"
   ]
  },
  {
   "cell_type": "code",
   "execution_count": 8,
   "metadata": {},
   "outputs": [
    {
     "data": {
      "text/html": [
       "<div>\n",
       "<style scoped>\n",
       "    .dataframe tbody tr th:only-of-type {\n",
       "        vertical-align: middle;\n",
       "    }\n",
       "\n",
       "    .dataframe tbody tr th {\n",
       "        vertical-align: top;\n",
       "    }\n",
       "\n",
       "    .dataframe thead th {\n",
       "        text-align: right;\n",
       "    }\n",
       "</style>\n",
       "<table border=\"1\" class=\"dataframe\">\n",
       "  <thead>\n",
       "    <tr style=\"text-align: right;\">\n",
       "      <th></th>\n",
       "      <th>code_ogr</th>\n",
       "      <th>libelle_appellation_long</th>\n",
       "      <th>code_rome</th>\n",
       "    </tr>\n",
       "  </thead>\n",
       "  <tbody>\n",
       "    <tr>\n",
       "      <th>11071</th>\n",
       "      <td>200080</td>\n",
       "      <td>Ouvrier / Ouvrière de génie écologique</td>\n",
       "      <td>A1202</td>\n",
       "    </tr>\n",
       "    <tr>\n",
       "      <th>11072</th>\n",
       "      <td>200081</td>\n",
       "      <td>Ingénieur / Ingénieure écologue</td>\n",
       "      <td>A1303</td>\n",
       "    </tr>\n",
       "    <tr>\n",
       "      <th>11073</th>\n",
       "      <td>200082</td>\n",
       "      <td>Ingénieur / Ingénieure méthanisation</td>\n",
       "      <td>A1303</td>\n",
       "    </tr>\n",
       "    <tr>\n",
       "      <th>11074</th>\n",
       "      <td>200083</td>\n",
       "      <td>Technicien / Technicienne de génie écologique</td>\n",
       "      <td>A1301</td>\n",
       "    </tr>\n",
       "    <tr>\n",
       "      <th>11075</th>\n",
       "      <td>200084</td>\n",
       "      <td>Sertisseur / Sertisseuse en industrie alimentaire</td>\n",
       "      <td>H3301</td>\n",
       "    </tr>\n",
       "    <tr>\n",
       "      <th>11076</th>\n",
       "      <td>200085</td>\n",
       "      <td>Responsable de site méthanisation</td>\n",
       "      <td>K2306</td>\n",
       "    </tr>\n",
       "    <tr>\n",
       "      <th>11077</th>\n",
       "      <td>200086</td>\n",
       "      <td>Technicien / Technicienne d'exploitation méthanisation</td>\n",
       "      <td>K2306</td>\n",
       "    </tr>\n",
       "    <tr>\n",
       "      <th>11078</th>\n",
       "      <td>200087</td>\n",
       "      <td>Télépilote de drone professionnel</td>\n",
       "      <td>N2204</td>\n",
       "    </tr>\n",
       "    <tr>\n",
       "      <th>11079</th>\n",
       "      <td>200088</td>\n",
       "      <td>Instructeur / Instructrice télépilote de drone professionnel</td>\n",
       "      <td>N2204</td>\n",
       "    </tr>\n",
       "    <tr>\n",
       "      <th>11080</th>\n",
       "      <td>200089</td>\n",
       "      <td>Agent / Agente AFIS - Aerodrone Flight Information Service</td>\n",
       "      <td>N2204</td>\n",
       "    </tr>\n",
       "  </tbody>\n",
       "</table>\n",
       "</div>"
      ],
      "text/plain": [
       "       code_ogr                                      libelle_appellation_long  \\\n",
       "11071    200080                        Ouvrier / Ouvrière de génie écologique   \n",
       "11072    200081                               Ingénieur / Ingénieure écologue   \n",
       "11073    200082                          Ingénieur / Ingénieure méthanisation   \n",
       "11074    200083                 Technicien / Technicienne de génie écologique   \n",
       "11075    200084             Sertisseur / Sertisseuse en industrie alimentaire   \n",
       "11076    200085                             Responsable de site méthanisation   \n",
       "11077    200086        Technicien / Technicienne d'exploitation méthanisation   \n",
       "11078    200087                             Télépilote de drone professionnel   \n",
       "11079    200088  Instructeur / Instructrice télépilote de drone professionnel   \n",
       "11080    200089    Agent / Agente AFIS - Aerodrone Flight Information Service   \n",
       "\n",
       "      code_rome  \n",
       "11071     A1202  \n",
       "11072     A1303  \n",
       "11073     A1303  \n",
       "11074     A1301  \n",
       "11075     H3301  \n",
       "11076     K2306  \n",
       "11077     K2306  \n",
       "11078     N2204  \n",
       "11079     N2204  \n",
       "11080     N2204  "
      ]
     },
     "execution_count": 8,
     "metadata": {},
     "output_type": "execute_result"
    }
   ],
   "source": [
    "pd.options.display.max_colwidth = 2000\n",
    "jobs.new[jobs.new.code_ogr.isin(new_jobs)][['code_ogr', 'libelle_appellation_long', 'code_rome']]"
   ]
  },
  {
   "cell_type": "markdown",
   "metadata": {},
   "source": [
    "Those are indeed new jobs. Some are related to ecology sneaking in.\n",
    "\n",
    "OK, let's check at the changes in items:"
   ]
  },
  {
   "cell_type": "code",
   "execution_count": 9,
   "metadata": {},
   "outputs": [
    {
     "data": {
      "image/png": "[encoded data removed]",
      "text/plain": [
       "<Figure size 432x288 with 1 Axes>"
      ]
     },
     "metadata": {
      "image/png": {
       "height": 236,
       "width": 231
      }
     },
     "output_type": "display_data"
    }
   ],
   "source": [
    "items = find_rome_dataset_by_name(rome_data, 'item')\n",
    "\n",
    "new_items = set(items.new.code_ogr) - set(items.old.code_ogr)\n",
    "obsolete_items = set(items.old.code_ogr) - set(items.new.code_ogr)\n",
    "stable_items = set(items.new.code_ogr) & set(items.old.code_ogr)\n",
    "\n",
    "matplotlib_venn.venn2((len(obsolete_items), len(new_items), len(stable_items)), (OLD_VERSION, NEW_VERSION));"
   ]
  },
  {
   "cell_type": "markdown",
   "metadata": {},
   "source": [
    "As anticipated it is a very minor change (hard to see it visually): 9 new ones have been created. Let's have a look at them."
   ]
  },
  {
   "cell_type": "code",
   "execution_count": 10,
   "metadata": {},
   "outputs": [
    {
     "data": {
      "text/html": [
       "<div>\n",
       "<style scoped>\n",
       "    .dataframe tbody tr th:only-of-type {\n",
       "        vertical-align: middle;\n",
       "    }\n",
       "\n",
       "    .dataframe tbody tr th {\n",
       "        vertical-align: top;\n",
       "    }\n",
       "\n",
       "    .dataframe thead th {\n",
       "        text-align: right;\n",
       "    }\n",
       "</style>\n",
       "<table border=\"1\" class=\"dataframe\">\n",
       "  <thead>\n",
       "    <tr style=\"text-align: right;\">\n",
       "      <th></th>\n",
       "      <th>code_ogr</th>\n",
       "      <th>libelle</th>\n",
       "      <th>code_type_referentiel</th>\n",
       "      <th>code_ref_rubrique</th>\n",
       "      <th>code_tete_rgpmt</th>\n",
       "      <th>libelle_activite_impression</th>\n",
       "      <th>libelle_en_tete_regroupement</th>\n",
       "    </tr>\n",
       "  </thead>\n",
       "  <tbody>\n",
       "    <tr>\n",
       "      <th>12873</th>\n",
       "      <td>200090</td>\n",
       "      <td>Piloter un drone dans le cadre de captation de données, transport de charges, ...</td>\n",
       "      <td>2</td>\n",
       "      <td>9</td>\n",
       "      <td>NaN</td>\n",
       "      <td>NaN</td>\n",
       "      <td>NaN</td>\n",
       "    </tr>\n",
       "    <tr>\n",
       "      <th>12874</th>\n",
       "      <td>200091</td>\n",
       "      <td>Former au pilotage d'un drone</td>\n",
       "      <td>2</td>\n",
       "      <td>9</td>\n",
       "      <td>NaN</td>\n",
       "      <td>NaN</td>\n",
       "      <td>NaN</td>\n",
       "    </tr>\n",
       "    <tr>\n",
       "      <th>12875</th>\n",
       "      <td>200092</td>\n",
       "      <td>Assurer le suivi des intrants (déchets organiques) et des sortants (biogaz, digestats)</td>\n",
       "      <td>2</td>\n",
       "      <td>9</td>\n",
       "      <td>NaN</td>\n",
       "      <td>NaN</td>\n",
       "      <td>NaN</td>\n",
       "    </tr>\n",
       "    <tr>\n",
       "      <th>12876</th>\n",
       "      <td>200093</td>\n",
       "      <td>Habilitation au pilotage de drone professionnel</td>\n",
       "      <td>1</td>\n",
       "      <td>10</td>\n",
       "      <td>NaN</td>\n",
       "      <td>NaN</td>\n",
       "      <td>NaN</td>\n",
       "    </tr>\n",
       "    <tr>\n",
       "      <th>12877</th>\n",
       "      <td>200094</td>\n",
       "      <td>Scénario de vol S1</td>\n",
       "      <td>1</td>\n",
       "      <td>10</td>\n",
       "      <td>NaN</td>\n",
       "      <td>NaN</td>\n",
       "      <td>NaN</td>\n",
       "    </tr>\n",
       "  </tbody>\n",
       "</table>\n",
       "</div>"
      ],
      "text/plain": [
       "       code_ogr  \\\n",
       "12873    200090   \n",
       "12874    200091   \n",
       "12875    200092   \n",
       "12876    200093   \n",
       "12877    200094   \n",
       "\n",
       "                                                                                      libelle  \\\n",
       "12873       Piloter un drone dans le cadre de captation de données, transport de charges, ...   \n",
       "12874                                                           Former au pilotage d'un drone   \n",
       "12875  Assurer le suivi des intrants (déchets organiques) et des sortants (biogaz, digestats)   \n",
       "12876                                         Habilitation au pilotage de drone professionnel   \n",
       "12877                                                                      Scénario de vol S1   \n",
       "\n",
       "       code_type_referentiel  code_ref_rubrique  code_tete_rgpmt  \\\n",
       "12873                      2                  9              NaN   \n",
       "12874                      2                  9              NaN   \n",
       "12875                      2                  9              NaN   \n",
       "12876                      1                 10              NaN   \n",
       "12877                      1                 10              NaN   \n",
       "\n",
       "       libelle_activite_impression  libelle_en_tete_regroupement  \n",
       "12873                          NaN                           NaN  \n",
       "12874                          NaN                           NaN  \n",
       "12875                          NaN                           NaN  \n",
       "12876                          NaN                           NaN  \n",
       "12877                          NaN                           NaN  "
      ]
     },
     "execution_count": 10,
     "metadata": {},
     "output_type": "execute_result"
    }
   ],
   "source": [
    "items.new[items.new.code_ogr.isin(new_items)].head()"
   ]
  },
  {
   "cell_type": "markdown",
   "metadata": {},
   "source": [
    "The new ones seem legit to me and related to the new jobs.\n",
    "\n",
    "The changes in `liens_rome_referentiels` include changes for those items, so let's only check the changes not related to those."
   ]
  },
  {
   "cell_type": "code",
   "execution_count": 11,
   "metadata": {},
   "outputs": [
    {
     "data": {
      "text/plain": [
       "added    43\n",
       "Name: _diff, dtype: int64"
      ]
     },
     "execution_count": 11,
     "metadata": {},
     "output_type": "execute_result"
    }
   ],
   "source": [
    "links = find_rome_dataset_by_name(rome_data, 'liens_rome_referentiels')\n",
    "old_links_on_stable_items = links.old[links.old.code_ogr.isin(stable_items)]\n",
    "new_links_on_stable_items = links.new[links.new.code_ogr.isin(stable_items)]\n",
    "\n",
    "old = old_links_on_stable_items[['code_rome', 'code_ogr']]\n",
    "new = new_links_on_stable_items[['code_rome', 'code_ogr']]\n",
    "\n",
    "links_merged = old.merge(new, how='outer', indicator=True)\n",
    "links_merged['_diff'] = links_merged._merge.map({'left_only': 'removed', 'right_only': 'added'})\n",
    "links_merged._diff.value_counts()"
   ]
  },
  {
   "cell_type": "markdown",
   "metadata": {},
   "source": [
    "So in addition to the added items, there are few fixes. Let's have a look at them:"
   ]
  },
  {
   "cell_type": "code",
   "execution_count": 12,
   "metadata": {},
   "outputs": [
    {
     "data": {
      "text/html": [
       "<div>\n",
       "<style scoped>\n",
       "    .dataframe tbody tr th:only-of-type {\n",
       "        vertical-align: middle;\n",
       "    }\n",
       "\n",
       "    .dataframe tbody tr th {\n",
       "        vertical-align: top;\n",
       "    }\n",
       "\n",
       "    .dataframe thead th {\n",
       "        text-align: right;\n",
       "    }\n",
       "</style>\n",
       "<table border=\"1\" class=\"dataframe\">\n",
       "  <thead>\n",
       "    <tr style=\"text-align: right;\">\n",
       "      <th></th>\n",
       "      <th>code_rome</th>\n",
       "      <th>code_ogr</th>\n",
       "      <th>_merge</th>\n",
       "      <th>_diff</th>\n",
       "      <th>job_group_name</th>\n",
       "      <th>item_name</th>\n",
       "    </tr>\n",
       "  </thead>\n",
       "  <tbody>\n",
       "  </tbody>\n",
       "</table>\n",
       "</div>"
      ],
      "text/plain": [
       "Empty DataFrame\n",
       "Columns: [code_rome, code_ogr, _merge, _diff, job_group_name, item_name]\n",
       "Index: []"
      ]
     },
     "metadata": {},
     "output_type": "display_data"
    },
    {
     "data": {
      "text/html": [
       "<div>\n",
       "<style scoped>\n",
       "    .dataframe tbody tr th:only-of-type {\n",
       "        vertical-align: middle;\n",
       "    }\n",
       "\n",
       "    .dataframe tbody tr th {\n",
       "        vertical-align: top;\n",
       "    }\n",
       "\n",
       "    .dataframe thead th {\n",
       "        text-align: right;\n",
       "    }\n",
       "</style>\n",
       "<table border=\"1\" class=\"dataframe\">\n",
       "  <thead>\n",
       "    <tr style=\"text-align: right;\">\n",
       "      <th></th>\n",
       "      <th>code_rome</th>\n",
       "      <th>code_ogr</th>\n",
       "      <th>_merge</th>\n",
       "      <th>_diff</th>\n",
       "      <th>job_group_name</th>\n",
       "      <th>item_name</th>\n",
       "    </tr>\n",
       "  </thead>\n",
       "  <tbody>\n",
       "    <tr>\n",
       "      <th>32179</th>\n",
       "      <td>A1301</td>\n",
       "      <td>122168</td>\n",
       "      <td>right_only</td>\n",
       "      <td>added</td>\n",
       "      <td>Conseil et assistance technique en agriculture et environnement naturel</td>\n",
       "      <td>Coordonner les opérations de réaménagement et de réhabilitation d'un site</td>\n",
       "    </tr>\n",
       "    <tr>\n",
       "      <th>32180</th>\n",
       "      <td>A1303</td>\n",
       "      <td>101425</td>\n",
       "      <td>right_only</td>\n",
       "      <td>added</td>\n",
       "      <td>Ingénierie en agriculture et environnement naturel</td>\n",
       "      <td>Réglementation des Installations Classées pour la Protection de l'Environnement - ICPE</td>\n",
       "    </tr>\n",
       "    <tr>\n",
       "      <th>32181</th>\n",
       "      <td>A1303</td>\n",
       "      <td>104585</td>\n",
       "      <td>right_only</td>\n",
       "      <td>added</td>\n",
       "      <td>Ingénierie en agriculture et environnement naturel</td>\n",
       "      <td>Biologie</td>\n",
       "    </tr>\n",
       "    <tr>\n",
       "      <th>32182</th>\n",
       "      <td>A1303</td>\n",
       "      <td>119432</td>\n",
       "      <td>right_only</td>\n",
       "      <td>added</td>\n",
       "      <td>Ingénierie en agriculture et environnement naturel</td>\n",
       "      <td>Système d'Information Géographique (SIG)</td>\n",
       "    </tr>\n",
       "    <tr>\n",
       "      <th>32183</th>\n",
       "      <td>E1106</td>\n",
       "      <td>102644</td>\n",
       "      <td>right_only</td>\n",
       "      <td>added</td>\n",
       "      <td>Journalisme et information média</td>\n",
       "      <td>Caractéristiques des matériels de prise de vues</td>\n",
       "    </tr>\n",
       "  </tbody>\n",
       "</table>\n",
       "</div>"
      ],
      "text/plain": [
       "      code_rome  code_ogr      _merge  _diff  \\\n",
       "32179     A1301    122168  right_only  added   \n",
       "32180     A1303    101425  right_only  added   \n",
       "32181     A1303    104585  right_only  added   \n",
       "32182     A1303    119432  right_only  added   \n",
       "32183     E1106    102644  right_only  added   \n",
       "\n",
       "                                                                job_group_name  \\\n",
       "32179  Conseil et assistance technique en agriculture et environnement naturel   \n",
       "32180                       Ingénierie en agriculture et environnement naturel   \n",
       "32181                       Ingénierie en agriculture et environnement naturel   \n",
       "32182                       Ingénierie en agriculture et environnement naturel   \n",
       "32183                                         Journalisme et information média   \n",
       "\n",
       "                                                                                    item_name  \n",
       "32179               Coordonner les opérations de réaménagement et de réhabilitation d'un site  \n",
       "32180  Réglementation des Installations Classées pour la Protection de l'Environnement - ICPE  \n",
       "32181                                                                                Biologie  \n",
       "32182                                                Système d'Information Géographique (SIG)  \n",
       "32183                                         Caractéristiques des matériels de prise de vues  "
      ]
     },
     "execution_count": 12,
     "metadata": {},
     "output_type": "execute_result"
    }
   ],
   "source": [
    "job_group_names = find_rome_dataset_by_name(rome_data, 'referentiel_code_rome').new.set_index('code_rome').libelle_rome\n",
    "item_names = items.new.set_index('code_ogr').libelle.drop_duplicates()\n",
    "links_merged['job_group_name'] = links_merged.code_rome.map(job_group_names)\n",
    "links_merged['item_name'] = links_merged.code_ogr.map(item_names)\n",
    "display(links_merged[links_merged._diff == 'removed'].dropna().head(5))\n",
    "links_merged[links_merged._diff == 'added'].dropna().head(5)\n"
   ]
  },
  {
   "cell_type": "markdown",
   "metadata": {},
   "source": [
    "The added items are OK.\n",
    "\n",
    "That's all the changes we wanted to check (no change in `referentiel_code_rome`)."
   ]
  },
  {
   "cell_type": "markdown",
   "metadata": {},
   "source": [
    "# Conclusion\n",
    "\n",
    "The new version of ROME, v343, introduces very minor changes which reflect quite well what they wrote in their [changelog](http://www.pole-emploi.org/files/live/sites/peorg/files/documents/Statistiques-et-analyses/Open-data/ROME/ROME_AppropriationThematique.pdf).\n",
    "\n",
    "The transition should be transparent with a very small advantage over the old version."
   ]
  }
 ],
 "metadata": {
  "kernelspec": {
   "display_name": "Python 3",
   "language": "python",
   "name": "python3"
  },
  "language_info": {
   "codemirror_mode": {
    "name": "ipython",
    "version": 3
   },
   "file_extension": ".py",
   "mimetype": "text/x-python",
   "name": "python",
   "nbconvert_exporter": "python",
   "pygments_lexer": "ipython3",
   "version": "3.7.6"
  }
 },
 "nbformat": 4,
 "nbformat_minor": 1
}
