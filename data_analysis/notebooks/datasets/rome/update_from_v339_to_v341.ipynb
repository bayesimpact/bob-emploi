{
 "cells": [
  {
   "cell_type": "markdown",
   "metadata": {},
   "source": [
    "Author: Pascal, pascal@bayesimpact.org\n",
    "\n",
    "Date: 2019-10-23\n",
    "\n",
    "# ROME update from v339 to v341\n",
    "\n",
    "In October 2019 a new version of the ROME was released. I want to investigate what changed and whether we need to do anything about it.\n",
    "\n",
    "You might not be able to reproduce this notebook, mostly because it requires to have the two versions of the ROME in your `data/rome/csv` folder which happens only just before we switch to v341. You will have to trust me on the results ;-)\n",
    "\n",
    "Skip the run test because it requires older versions of the ROME."
   ]
  },
  {
   "cell_type": "code",
   "execution_count": 1,
   "metadata": {},
   "outputs": [],
   "source": [
    "import collections\n",
    "import glob\n",
    "import os\n",
    "from os import path\n",
    "\n",
    "import matplotlib_venn\n",
    "import pandas as pd\n",
    "\n",
    "rome_path = path.join(os.getenv('DATA_FOLDER'), 'rome/csv')\n",
    "\n",
    "OLD_VERSION = '339'\n",
    "NEW_VERSION = '341'\n",
    "\n",
    "old_version_files = frozenset(glob.glob(rome_path + '/*{}*'.format(OLD_VERSION)))\n",
    "new_version_files = frozenset(glob.glob(rome_path + '/*{}*'.format(NEW_VERSION)))"
   ]
  },
  {
   "cell_type": "markdown",
   "metadata": {},
   "source": [
    "First let's check if there are new or deleted files (only matching by file names)."
   ]
  },
  {
   "cell_type": "code",
   "execution_count": 2,
   "metadata": {},
   "outputs": [
    {
     "name": "stdout",
     "output_type": "stream",
     "text": [
      "0 new files\n",
      "1 deleted files\n"
     ]
    }
   ],
   "source": [
    "new_files = new_version_files - frozenset(f.replace(OLD_VERSION, NEW_VERSION) for f in old_version_files)\n",
    "deleted_files = old_version_files - frozenset(f.replace(NEW_VERSION, OLD_VERSION) for f in new_version_files)\n",
    "\n",
    "print('{:d} new files'.format(len(new_files)))\n",
    "print('{:d} deleted files'.format(len(deleted_files)))"
   ]
  },
  {
   "cell_type": "markdown",
   "metadata": {},
   "source": [
    "Let's find this deleted file:"
   ]
  },
  {
   "cell_type": "code",
   "execution_count": 3,
   "metadata": {},
   "outputs": [
    {
     "data": {
      "text/plain": [
       "['/home/jovyan/data/rome/csv/unix_en_tete_regroupement_v339_utf8.csv']"
      ]
     },
     "execution_count": 3,
     "metadata": {},
     "output_type": "execute_result"
    }
   ],
   "source": [
    "list(deleted_files)"
   ]
  },
  {
   "cell_type": "markdown",
   "metadata": {},
   "source": [
    "OK, not too bad: this is a file we've never used. We'll still check its content to make sure:\n"
   ]
  },
  {
   "cell_type": "code",
   "execution_count": 4,
   "metadata": {},
   "outputs": [
    {
     "data": {
      "text/html": [
       "<div>\n",
       "<style scoped>\n",
       "    .dataframe tbody tr th:only-of-type {\n",
       "        vertical-align: middle;\n",
       "    }\n",
       "\n",
       "    .dataframe tbody tr th {\n",
       "        vertical-align: top;\n",
       "    }\n",
       "\n",
       "    .dataframe thead th {\n",
       "        text-align: right;\n",
       "    }\n",
       "</style>\n",
       "<table border=\"1\" class=\"dataframe\">\n",
       "  <thead>\n",
       "    <tr style=\"text-align: right;\">\n",
       "      <th></th>\n",
       "      <th>code_tete_rgpmt</th>\n",
       "      <th>libelle_en_tete_regroupement</th>\n",
       "    </tr>\n",
       "  </thead>\n",
       "  <tbody>\n",
       "    <tr>\n",
       "      <th>0</th>\n",
       "      <td>0</td>\n",
       "      <td>Accueillir des passagers lors de :</td>\n",
       "    </tr>\n",
       "    <tr>\n",
       "      <th>1</th>\n",
       "      <td>1</td>\n",
       "      <td>Actionner et manoeuvrer des équipements :</td>\n",
       "    </tr>\n",
       "    <tr>\n",
       "      <th>2</th>\n",
       "      <td>2</td>\n",
       "      <td>Adapter ou fabriquer des accessoires de costum...</td>\n",
       "    </tr>\n",
       "    <tr>\n",
       "      <th>3</th>\n",
       "      <td>3</td>\n",
       "      <td>Adapter un écrit :</td>\n",
       "    </tr>\n",
       "    <tr>\n",
       "      <th>4</th>\n",
       "      <td>4</td>\n",
       "      <td>Administrer un système :</td>\n",
       "    </tr>\n",
       "  </tbody>\n",
       "</table>\n",
       "</div>"
      ],
      "text/plain": [
       "   code_tete_rgpmt                       libelle_en_tete_regroupement\n",
       "0                0                 Accueillir des passagers lors de :\n",
       "1                1          Actionner et manoeuvrer des équipements :\n",
       "2                2  Adapter ou fabriquer des accessoires de costum...\n",
       "3                3                                 Adapter un écrit :\n",
       "4                4                           Administrer un système :"
      ]
     },
     "metadata": {},
     "output_type": "display_data"
    },
    {
     "name": "stdout",
     "output_type": "stream",
     "text": [
      "606 rows\n"
     ]
    }
   ],
   "source": [
    "en_tete_regroupement = pd.read_csv(list(deleted_files)[0])\n",
    "\n",
    "display(en_tete_regroupement.head())\n",
    "print(f'{len(en_tete_regroupement)} rows')"
   ]
  },
  {
   "cell_type": "markdown",
   "metadata": {},
   "source": [
    "It looks like a header for some kinds of activities. Not that big a deal.\n",
    "\n",
    "Now let's set up a dataset that, for each table, links both the old and the new file together."
   ]
  },
  {
   "cell_type": "code",
   "execution_count": 5,
   "metadata": {},
   "outputs": [],
   "source": [
    "# Load all ROME datasets for the two versions we compare.\n",
    "VersionedDataset = collections.namedtuple('VersionedDataset', ['basename', 'old', 'new'])\n",
    "def read_csv(filename):\n",
    "    try:\n",
    "        return pd.read_csv(filename)\n",
    "    except pd.errors.ParserError:\n",
    "        display(f'While parsing: {filename}')\n",
    "        raise\n",
    "\n",
    "rome_data = [VersionedDataset(\n",
    "        basename=path.basename(f),\n",
    "        old=read_csv(f.replace(NEW_VERSION, OLD_VERSION)),\n",
    "        new=read_csv(f))\n",
    "    for f in sorted(new_version_files)]\n",
    "\n",
    "def find_rome_dataset_by_name(data, partial_name):\n",
    "    for dataset in data:\n",
    "        if 'unix_{}_v{}_utf8.csv'.format(partial_name, NEW_VERSION) == dataset.basename:\n",
    "            return dataset\n",
    "    raise ValueError('No dataset named {}, the list is\\n{}'.format(partial_name, [d.basename for d in data]))"
   ]
  },
  {
   "cell_type": "markdown",
   "metadata": {},
   "source": [
    "Let's make sure the structure hasn't changed:"
   ]
  },
  {
   "cell_type": "code",
   "execution_count": 6,
   "metadata": {},
   "outputs": [
    {
     "name": "stdout",
     "output_type": "stream",
     "text": [
      "Columns of unix_referentiel_appellation_v341_utf8.csv have changed.\n"
     ]
    }
   ],
   "source": [
    "for dataset in rome_data:\n",
    "    if set(dataset.old.columns) != set(dataset.new.columns):\n",
    "        print('Columns of {} have changed.'.format(dataset.basename))"
   ]
  },
  {
   "cell_type": "markdown",
   "metadata": {},
   "source": [
    "OK, let's check what's new in there:"
   ]
  },
  {
   "cell_type": "code",
   "execution_count": 7,
   "metadata": {},
   "outputs": [
    {
     "name": "stdout",
     "output_type": "stream",
     "text": [
      "New columns: {'libelle_type_section_appellation'}\n",
      "Old columns: {'lib_type_section_appellation'}\n"
     ]
    }
   ],
   "source": [
    "jobs = find_rome_dataset_by_name(rome_data, 'referentiel_appellation')\n",
    "print(f'New columns: {set(jobs.old.columns) - set(jobs.new.columns)}')\n",
    "print(f'Old columns: {set(jobs.new.columns) - set(jobs.old.columns)}')"
   ]
  },
  {
   "cell_type": "markdown",
   "metadata": {},
   "source": [
    "Ouch, it seems they have decided to rename one column. Lucky us we never used it.\n",
    "\n",
    "Now let's see for each file if there are more or less rows."
   ]
  },
  {
   "cell_type": "code",
   "execution_count": 8,
   "metadata": {},
   "outputs": [
    {
     "name": "stdout",
     "output_type": "stream",
     "text": [
      "130/31423 values added in unix_coherence_item_v341_utf8.csv\n",
      "1/11718 values added in unix_cr_gd_dp_appellations_v341_utf8.csv\n",
      "859/2043 values removed in unix_item_arborescence_v341_utf8.csv\n",
      "36/13569 values added in unix_item_v341_utf8.csv\n",
      "131/43017 values added in unix_liens_rome_referentiels_v341_utf8.csv\n",
      "1509/8971 values added in unix_referentiel_activite_riasec_v341_utf8.csv\n",
      "1/11062 values added in unix_referentiel_appellation_v341_utf8.csv\n",
      "13/20 files with the same number of rows\n"
     ]
    }
   ],
   "source": [
    "same_row_count_files = 0\n",
    "for dataset in rome_data:\n",
    "    diff = len(dataset.new.index) - len(dataset.old.index)\n",
    "    if diff > 0:\n",
    "        print('{:d}/{:d} values added in {}'.format(\n",
    "            diff, len(dataset.new.index), dataset.basename))\n",
    "    elif diff < 0:\n",
    "        print('{:d}/{:d} values removed in {}'.format(\n",
    "            -diff, len(dataset.old.index), dataset.basename))\n",
    "    else:\n",
    "        same_row_count_files += 1\n",
    "print('{:d}/{:d} files with the same number of rows'.format(\n",
    "    same_row_count_files, len(rome_data)))"
   ]
  },
  {
   "cell_type": "markdown",
   "metadata": {},
   "source": [
    "There are some minor changes in many files, but based on my knowledge of ROME, none from the main files.\n",
    "\n",
    "The most interesting ones are in referentiel_appellation, item, and liens_rome_referentiels, so let's see more precisely."
   ]
  },
  {
   "cell_type": "code",
   "execution_count": 9,
   "metadata": {},
   "outputs": [
    {
     "data": {
      "image/png": "[encoded data removed]",
      "text/plain": [
       "<Figure size 432x288 with 1 Axes>"
      ]
     },
     "metadata": {
      "image/png": {
       "height": 238,
       "width": 235
      }
     },
     "output_type": "display_data"
    }
   ],
   "source": [
    "jobs = find_rome_dataset_by_name(rome_data, 'referentiel_appellation')\n",
    "\n",
    "new_jobs = set(jobs.new.code_ogr) - set(jobs.old.code_ogr)\n",
    "obsolete_jobs = set(jobs.old.code_ogr) - set(jobs.new.code_ogr)\n",
    "stable_jobs = set(jobs.new.code_ogr) & set(jobs.old.code_ogr)\n",
    "\n",
    "matplotlib_venn.venn2((len(obsolete_jobs), len(new_jobs), len(stable_jobs)), (OLD_VERSION, NEW_VERSION));"
   ]
  },
  {
   "cell_type": "markdown",
   "metadata": {},
   "source": [
    "Alright, so the only change seems to be 1 new job added. Let's take a look (only showing interesting fields):"
   ]
  },
  {
   "cell_type": "code",
   "execution_count": 10,
   "metadata": {},
   "outputs": [
    {
     "data": {
      "text/html": [
       "<div>\n",
       "<style scoped>\n",
       "    .dataframe tbody tr th:only-of-type {\n",
       "        vertical-align: middle;\n",
       "    }\n",
       "\n",
       "    .dataframe tbody tr th {\n",
       "        vertical-align: top;\n",
       "    }\n",
       "\n",
       "    .dataframe thead th {\n",
       "        text-align: right;\n",
       "    }\n",
       "</style>\n",
       "<table border=\"1\" class=\"dataframe\">\n",
       "  <thead>\n",
       "    <tr style=\"text-align: right;\">\n",
       "      <th></th>\n",
       "      <th>code_ogr</th>\n",
       "      <th>libelle_appellation_long</th>\n",
       "      <th>code_rome</th>\n",
       "    </tr>\n",
       "  </thead>\n",
       "  <tbody>\n",
       "    <tr>\n",
       "      <th>11061</th>\n",
       "      <td>200000</td>\n",
       "      <td>Coordinateur / Coordinatrice BIM</td>\n",
       "      <td>F1106</td>\n",
       "    </tr>\n",
       "  </tbody>\n",
       "</table>\n",
       "</div>"
      ],
      "text/plain": [
       "       code_ogr          libelle_appellation_long code_rome\n",
       "11061    200000  Coordinateur / Coordinatrice BIM     F1106"
      ]
     },
     "execution_count": 10,
     "metadata": {},
     "output_type": "execute_result"
    }
   ],
   "source": [
    "pd.options.display.max_colwidth = 2000\n",
    "jobs.new[jobs.new.code_ogr.isin(new_jobs)][['code_ogr', 'libelle_appellation_long', 'code_rome']]"
   ]
  },
  {
   "cell_type": "markdown",
   "metadata": {},
   "source": [
    "That's indeed a new job related to digitalization of the construction industry.\n",
    "\n",
    "OK, let's check at the changes in items:"
   ]
  },
  {
   "cell_type": "code",
   "execution_count": 11,
   "metadata": {},
   "outputs": [
    {
     "data": {
      "image/png": "[encoded data removed]",
      "text/plain": [
       "<Figure size 432x288 with 1 Axes>"
      ]
     },
     "metadata": {
      "image/png": {
       "height": 238,
       "width": 235
      }
     },
     "output_type": "display_data"
    }
   ],
   "source": [
    "items = find_rome_dataset_by_name(rome_data, 'item')\n",
    "\n",
    "new_items = set(items.new.code_ogr) - set(items.old.code_ogr)\n",
    "obsolete_items = set(items.old.code_ogr) - set(items.new.code_ogr)\n",
    "stable_items = set(items.new.code_ogr) & set(items.old.code_ogr)\n",
    "\n",
    "matplotlib_venn.venn2((len(obsolete_items), len(new_items), len(stable_items)), (OLD_VERSION, NEW_VERSION));"
   ]
  },
  {
   "cell_type": "markdown",
   "metadata": {},
   "source": [
    "As anticipated it is a very minor change (hard to see it visually): there are 17 new ones have been created. Let's have a look at them."
   ]
  },
  {
   "cell_type": "code",
   "execution_count": 12,
   "metadata": {},
   "outputs": [
    {
     "data": {
      "text/html": [
       "<div>\n",
       "<style scoped>\n",
       "    .dataframe tbody tr th:only-of-type {\n",
       "        vertical-align: middle;\n",
       "    }\n",
       "\n",
       "    .dataframe tbody tr th {\n",
       "        vertical-align: top;\n",
       "    }\n",
       "\n",
       "    .dataframe thead th {\n",
       "        text-align: right;\n",
       "    }\n",
       "</style>\n",
       "<table border=\"1\" class=\"dataframe\">\n",
       "  <thead>\n",
       "    <tr style=\"text-align: right;\">\n",
       "      <th></th>\n",
       "      <th>code_ogr</th>\n",
       "      <th>libelle</th>\n",
       "      <th>code_type_referentiel</th>\n",
       "      <th>code_ref_rubrique</th>\n",
       "      <th>code_tete_rgpmt</th>\n",
       "      <th>libelle_activite_impression</th>\n",
       "      <th>libelle_en_tete_regroupement</th>\n",
       "    </tr>\n",
       "  </thead>\n",
       "  <tbody>\n",
       "    <tr>\n",
       "      <th>5954</th>\n",
       "      <td>115833</td>\n",
       "      <td>Utilisation d'applications clientes réseau</td>\n",
       "      <td>1</td>\n",
       "      <td>7</td>\n",
       "      <td>NaN</td>\n",
       "      <td>NaN</td>\n",
       "      <td>NaN</td>\n",
       "    </tr>\n",
       "    <tr>\n",
       "      <th>6220</th>\n",
       "      <td>116809</td>\n",
       "      <td>Connaissance des bases des DTU (Document Technique Unifié)</td>\n",
       "      <td>1</td>\n",
       "      <td>7</td>\n",
       "      <td>NaN</td>\n",
       "      <td>NaN</td>\n",
       "      <td>NaN</td>\n",
       "    </tr>\n",
       "    <tr>\n",
       "      <th>6294</th>\n",
       "      <td>117113</td>\n",
       "      <td>Organiser et planifier la visite de biens immobiliers</td>\n",
       "      <td>2</td>\n",
       "      <td>6</td>\n",
       "      <td>NaN</td>\n",
       "      <td>NaN</td>\n",
       "      <td>NaN</td>\n",
       "    </tr>\n",
       "    <tr>\n",
       "      <th>6558</th>\n",
       "      <td>117755</td>\n",
       "      <td>Dispositif TRACFIN (Traitement du renseignement et action contre les circuits financiers clandestins)</td>\n",
       "      <td>1</td>\n",
       "      <td>7</td>\n",
       "      <td>NaN</td>\n",
       "      <td>NaN</td>\n",
       "      <td>NaN</td>\n",
       "    </tr>\n",
       "    <tr>\n",
       "      <th>6559</th>\n",
       "      <td>117755</td>\n",
       "      <td>Dispositif TRACFIN (Traitement du renseignement et action contre les circuits financiers clandestins)</td>\n",
       "      <td>1</td>\n",
       "      <td>10</td>\n",
       "      <td>NaN</td>\n",
       "      <td>NaN</td>\n",
       "      <td>NaN</td>\n",
       "    </tr>\n",
       "  </tbody>\n",
       "</table>\n",
       "</div>"
      ],
      "text/plain": [
       "      code_ogr  \\\n",
       "5954    115833   \n",
       "6220    116809   \n",
       "6294    117113   \n",
       "6558    117755   \n",
       "6559    117755   \n",
       "\n",
       "                                                                                                    libelle  \\\n",
       "5954                                                             Utilisation d'applications clientes réseau   \n",
       "6220                                             Connaissance des bases des DTU (Document Technique Unifié)   \n",
       "6294                                                  Organiser et planifier la visite de biens immobiliers   \n",
       "6558  Dispositif TRACFIN (Traitement du renseignement et action contre les circuits financiers clandestins)   \n",
       "6559  Dispositif TRACFIN (Traitement du renseignement et action contre les circuits financiers clandestins)   \n",
       "\n",
       "      code_type_referentiel  code_ref_rubrique  code_tete_rgpmt  \\\n",
       "5954                      1                  7              NaN   \n",
       "6220                      1                  7              NaN   \n",
       "6294                      2                  6              NaN   \n",
       "6558                      1                  7              NaN   \n",
       "6559                      1                 10              NaN   \n",
       "\n",
       "      libelle_activite_impression  libelle_en_tete_regroupement  \n",
       "5954                          NaN                           NaN  \n",
       "6220                          NaN                           NaN  \n",
       "6294                          NaN                           NaN  \n",
       "6558                          NaN                           NaN  \n",
       "6559                          NaN                           NaN  "
      ]
     },
     "execution_count": 12,
     "metadata": {},
     "output_type": "execute_result"
    }
   ],
   "source": [
    "items.new[items.new.code_ogr.isin(new_items)].head()"
   ]
  },
  {
   "cell_type": "markdown",
   "metadata": {},
   "source": [
    "The new ones seem legit to me.\n",
    "\n",
    "The changes in `liens_rome_referentiels` include changes for those items, so let's only check the changes not related to those."
   ]
  },
  {
   "cell_type": "code",
   "execution_count": 13,
   "metadata": {},
   "outputs": [
    {
     "data": {
      "text/plain": [
       "added    94\n",
       "Name: _diff, dtype: int64"
      ]
     },
     "execution_count": 13,
     "metadata": {},
     "output_type": "execute_result"
    }
   ],
   "source": [
    "links = find_rome_dataset_by_name(rome_data, 'liens_rome_referentiels')\n",
    "old_links_on_stable_items = links.old[links.old.code_ogr.isin(stable_items)]\n",
    "new_links_on_stable_items = links.new[links.new.code_ogr.isin(stable_items)]\n",
    "\n",
    "old = old_links_on_stable_items[['code_rome', 'code_ogr']]\n",
    "new = new_links_on_stable_items[['code_rome', 'code_ogr']]\n",
    "\n",
    "links_merged = old.merge(new, how='outer', indicator=True)\n",
    "links_merged['_diff'] = links_merged._merge.map({'left_only': 'removed', 'right_only': 'added'})\n",
    "links_merged._diff.value_counts()"
   ]
  },
  {
   "cell_type": "markdown",
   "metadata": {},
   "source": [
    "So in addition to the added items, there are few fixes. Let's have a look at them:"
   ]
  },
  {
   "cell_type": "code",
   "execution_count": 14,
   "metadata": {},
   "outputs": [
    {
     "data": {
      "text/html": [
       "<div>\n",
       "<style scoped>\n",
       "    .dataframe tbody tr th:only-of-type {\n",
       "        vertical-align: middle;\n",
       "    }\n",
       "\n",
       "    .dataframe tbody tr th {\n",
       "        vertical-align: top;\n",
       "    }\n",
       "\n",
       "    .dataframe thead th {\n",
       "        text-align: right;\n",
       "    }\n",
       "</style>\n",
       "<table border=\"1\" class=\"dataframe\">\n",
       "  <thead>\n",
       "    <tr style=\"text-align: right;\">\n",
       "      <th></th>\n",
       "      <th>code_rome</th>\n",
       "      <th>code_ogr</th>\n",
       "      <th>_merge</th>\n",
       "      <th>_diff</th>\n",
       "      <th>job_group_name</th>\n",
       "      <th>item_name</th>\n",
       "    </tr>\n",
       "  </thead>\n",
       "  <tbody>\n",
       "  </tbody>\n",
       "</table>\n",
       "</div>"
      ],
      "text/plain": [
       "Empty DataFrame\n",
       "Columns: [code_rome, code_ogr, _merge, _diff, job_group_name, item_name]\n",
       "Index: []"
      ]
     },
     "metadata": {},
     "output_type": "display_data"
    },
    {
     "data": {
      "text/html": [
       "<div>\n",
       "<style scoped>\n",
       "    .dataframe tbody tr th:only-of-type {\n",
       "        vertical-align: middle;\n",
       "    }\n",
       "\n",
       "    .dataframe tbody tr th {\n",
       "        vertical-align: top;\n",
       "    }\n",
       "\n",
       "    .dataframe thead th {\n",
       "        text-align: right;\n",
       "    }\n",
       "</style>\n",
       "<table border=\"1\" class=\"dataframe\">\n",
       "  <thead>\n",
       "    <tr style=\"text-align: right;\">\n",
       "      <th></th>\n",
       "      <th>code_rome</th>\n",
       "      <th>code_ogr</th>\n",
       "      <th>_merge</th>\n",
       "      <th>_diff</th>\n",
       "      <th>job_group_name</th>\n",
       "      <th>item_name</th>\n",
       "    </tr>\n",
       "  </thead>\n",
       "  <tbody>\n",
       "    <tr>\n",
       "      <th>31293</th>\n",
       "      <td>B1604</td>\n",
       "      <td>119242</td>\n",
       "      <td>right_only</td>\n",
       "      <td>added</td>\n",
       "      <td>Réparation - montage en systèmes horlogers</td>\n",
       "      <td>Organiser un poste de travail</td>\n",
       "    </tr>\n",
       "    <tr>\n",
       "      <th>31294</th>\n",
       "      <td>B1604</td>\n",
       "      <td>106189</td>\n",
       "      <td>right_only</td>\n",
       "      <td>added</td>\n",
       "      <td>Réparation - montage en systèmes horlogers</td>\n",
       "      <td>Utilisation d'appareil optique</td>\n",
       "    </tr>\n",
       "    <tr>\n",
       "      <th>31295</th>\n",
       "      <td>B1604</td>\n",
       "      <td>118331</td>\n",
       "      <td>right_only</td>\n",
       "      <td>added</td>\n",
       "      <td>Réparation - montage en systèmes horlogers</td>\n",
       "      <td>Utilisation d'outillages manuels</td>\n",
       "    </tr>\n",
       "    <tr>\n",
       "      <th>31296</th>\n",
       "      <td>B1604</td>\n",
       "      <td>120299</td>\n",
       "      <td>right_only</td>\n",
       "      <td>added</td>\n",
       "      <td>Réparation - montage en systèmes horlogers</td>\n",
       "      <td>Veille informationnelle</td>\n",
       "    </tr>\n",
       "    <tr>\n",
       "      <th>31297</th>\n",
       "      <td>B1604</td>\n",
       "      <td>117476</td>\n",
       "      <td>right_only</td>\n",
       "      <td>added</td>\n",
       "      <td>Réparation - montage en systèmes horlogers</td>\n",
       "      <td>Trier et évacuer des déchets</td>\n",
       "    </tr>\n",
       "  </tbody>\n",
       "</table>\n",
       "</div>"
      ],
      "text/plain": [
       "      code_rome  code_ogr      _merge  _diff  \\\n",
       "31293     B1604    119242  right_only  added   \n",
       "31294     B1604    106189  right_only  added   \n",
       "31295     B1604    118331  right_only  added   \n",
       "31296     B1604    120299  right_only  added   \n",
       "31297     B1604    117476  right_only  added   \n",
       "\n",
       "                                   job_group_name  \\\n",
       "31293  Réparation - montage en systèmes horlogers   \n",
       "31294  Réparation - montage en systèmes horlogers   \n",
       "31295  Réparation - montage en systèmes horlogers   \n",
       "31296  Réparation - montage en systèmes horlogers   \n",
       "31297  Réparation - montage en systèmes horlogers   \n",
       "\n",
       "                              item_name  \n",
       "31293     Organiser un poste de travail  \n",
       "31294    Utilisation d'appareil optique  \n",
       "31295  Utilisation d'outillages manuels  \n",
       "31296           Veille informationnelle  \n",
       "31297      Trier et évacuer des déchets  "
      ]
     },
     "execution_count": 14,
     "metadata": {},
     "output_type": "execute_result"
    }
   ],
   "source": [
    "job_group_names = find_rome_dataset_by_name(rome_data, 'referentiel_code_rome').new.set_index('code_rome').libelle_rome\n",
    "item_names = items.new.set_index('code_ogr').libelle.drop_duplicates()\n",
    "links_merged['job_group_name'] = links_merged.code_rome.map(job_group_names)\n",
    "links_merged['item_name'] = links_merged.code_ogr.map(item_names)\n",
    "display(links_merged[links_merged._diff == 'removed'].dropna().head(5))\n",
    "links_merged[links_merged._diff == 'added'].dropna().head(5)\n"
   ]
  },
  {
   "cell_type": "markdown",
   "metadata": {},
   "source": [
    "Those fixes make sense (not sure why they were not done before, but let's not complain: it is fixed now).\n",
    "\n",
    "That's all the changes we wanted to check (no change in `referentiel_code_rome`)."
   ]
  },
  {
   "cell_type": "markdown",
   "metadata": {},
   "source": [
    "# Conclusion\n",
    "\n",
    "The new version of ROME, v341, introduces very minor changes which reflect quite well what they wrote in their [changelog](http://www.pole-emploi.org/files/live/sites/peorg/files/documents/Statistiques-et-analyses/Open-data/ROME/ROME_AppropriationThematique.pdf).\n",
    "\n",
    "Technically they were some format changes (some of them were discovered while preparing this notebook):\n",
    "* The CSV files are now zipped under a `csv` folder.\n",
    "* The double quotes that are not escaped (they weren't before either) are now problematic because they contain text with spaces and commas which throws off the CSV parser.\n",
    "* The file `en_tete_regroupement` containing phrasing headers that we've never used has been removed\n",
    "\n",
    "The transition should be transparent with a very small advantage over the old version."
   ]
  }
 ],
 "metadata": {
  "kernelspec": {
   "display_name": "Python 3",
   "language": "python",
   "name": "python3"
  },
  "language_info": {
   "codemirror_mode": {
    "name": "ipython",
    "version": 3
   },
   "file_extension": ".py",
   "mimetype": "text/x-python",
   "name": "python",
   "nbconvert_exporter": "python",
   "pygments_lexer": "ipython3",
   "version": "3.6.6"
  }
 },
 "nbformat": 4,
 "nbformat_minor": 1
}
