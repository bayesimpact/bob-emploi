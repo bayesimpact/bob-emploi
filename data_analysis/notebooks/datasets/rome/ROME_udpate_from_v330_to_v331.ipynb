{
 "cells": [
  {
   "cell_type": "markdown",
   "metadata": {},
   "source": [
    "Author: Pascal, pascal@bayesimpact.org\n",
    "\n",
    "Date: 2016-03-27\n",
    "\n",
    "# ROME update from v330 to v331\n",
    "\n",
    "In March 2017 a new version of the ROME was realeased. I want to investigate what changed and whether we need to do anything about it.\n",
    "\n",
    "You might not be able to reproduce this notebook, mostly because it requires to have the two versions of the ROME in your `data/rome/csv` folder which happens only just before we switch to v330. You will have to trust me on the results ;-)"
   ]
  },
  {
   "cell_type": "code",
   "execution_count": 1,
   "metadata": {
    "collapsed": false
   },
   "outputs": [],
   "source": [
    "import collections\n",
    "import glob\n",
    "import os\n",
    "from os import path\n",
    "\n",
    "import matplotlib_venn\n",
    "import pandas\n",
    "\n",
    "rome_path = path.join(os.getenv('DATA_FOLDER'), 'rome/csv')\n",
    "\n",
    "OLD_VERSION = '330'\n",
    "NEW_VERSION = '331'\n",
    "\n",
    "old_version_files = frozenset(glob.glob(rome_path + '/*%s*' % OLD_VERSION))\n",
    "new_version_files = frozenset(glob.glob(rome_path + '/*%s*' % NEW_VERSION))"
   ]
  },
  {
   "cell_type": "markdown",
   "metadata": {},
   "source": [
    "First let's check if there are new or deleted files (only matching by file names)."
   ]
  },
  {
   "cell_type": "code",
   "execution_count": 2,
   "metadata": {
    "collapsed": false
   },
   "outputs": [
    {
     "name": "stdout",
     "output_type": "stream",
     "text": [
      "0 new files\n",
      "0 deleted files\n"
     ]
    }
   ],
   "source": [
    "new_files = new_version_files - frozenset(f.replace(OLD_VERSION, NEW_VERSION) for f in old_version_files)\n",
    "deleted_files = old_version_files - frozenset(f.replace(NEW_VERSION, OLD_VERSION) for f in new_version_files)\n",
    "\n",
    "print('%d new files' % len(new_files))\n",
    "print('%d deleted files' % len(deleted_files))"
   ]
  },
  {
   "cell_type": "markdown",
   "metadata": {},
   "source": [
    "So we have the same set of files: good start.\n",
    "\n",
    "Now let's set up a dataset that, for each table, links the old file and the new file."
   ]
  },
  {
   "cell_type": "code",
   "execution_count": 3,
   "metadata": {
    "collapsed": false
   },
   "outputs": [],
   "source": [
    "new_to_old = dict((f, f.replace(NEW_VERSION, OLD_VERSION)) for f in new_version_files)\n",
    "\n",
    "# Load all datasets.\n",
    "Dataset = collections.namedtuple('Dataset', ['basename', 'old', 'new'])\n",
    "data = [Dataset(\n",
    "        basename=path.basename(f),\n",
    "        old=pandas.read_csv(f.replace(NEW_VERSION, OLD_VERSION)),\n",
    "        new=pandas.read_csv(f))\n",
    "    for f in sorted(new_version_files)]\n",
    "\n",
    "def find_dataset_by_name(data, partial_name):\n",
    "    for dataset in data:\n",
    "        if 'unix_%s_v%s_utf8.csv' % (partial_name, NEW_VERSION) == dataset.basename:\n",
    "            return dataset\n",
    "    raise ValueError('No dataset named %s, the list is\\n%s' % (partial_name, [dataset.basename for d in data]))"
   ]
  },
  {
   "cell_type": "markdown",
   "metadata": {},
   "source": [
    "Let's make sure the structure hasn't changed:"
   ]
  },
  {
   "cell_type": "code",
   "execution_count": 4,
   "metadata": {
    "collapsed": false
   },
   "outputs": [],
   "source": [
    "for dataset in data:\n",
    "    if set(dataset.old.columns) != set(dataset.new.columns):\n",
    "        print('Columns of %s have changed.' % dataset.basename)"
   ]
  },
  {
   "cell_type": "markdown",
   "metadata": {},
   "source": [
    "All files have the same columns as before: still good."
   ]
  },
  {
   "cell_type": "code",
   "execution_count": 5,
   "metadata": {
    "collapsed": false
   },
   "outputs": [
    {
     "name": "stdout",
     "output_type": "stream",
     "text": [
      "219 values added in unix_coherence_item_v331_utf8.csv\n",
      "79 values added in unix_item_v331_utf8.csv\n",
      "219 values added in unix_liens_rome_referentiels_v331_utf8.csv\n",
      "86 values added in unix_referentiel_activite_riasec_v331_utf8.csv\n",
      "-22 values removed in unix_referentiel_activite_v331_utf8.csv\n",
      "16/21 files with the same number of rows\n"
     ]
    }
   ],
   "source": [
    "untouched = 0\n",
    "for dataset in data:\n",
    "    diff = len(dataset.new.index) - len(dataset.old.index)\n",
    "    if diff > 0:\n",
    "        print('%d values added in %s' % (diff, dataset.basename))\n",
    "    elif diff < 0:\n",
    "        print('%d values removed in %s' % (diff, dataset.basename))\n",
    "    else:\n",
    "        untouched += 1\n",
    "print('%d/%d files with the same number of rows' % (untouched, len(data)))"
   ]
  },
  {
   "cell_type": "markdown",
   "metadata": {},
   "source": [
    "So we have minor changes in 5 files. At one point we cared about `referentiel_activite` and `referentiel_activite_riasec` but have no concrete application for now.\n",
    "\n",
    "The only interesting ones are in `item` and `liens_rome_referentiels`, so let's see more precisely."
   ]
  },
  {
   "cell_type": "code",
   "execution_count": 6,
   "metadata": {
    "collapsed": false
   },
   "outputs": [
    {
     "data": {
      "image/png": "[encoded data removed]",
      "text/plain": [
       "<matplotlib.figure.Figure at 0x7f205059d860>"
      ]
     },
     "metadata": {},
     "output_type": "display_data"
    }
   ],
   "source": [
    "items = find_dataset_by_name(data, 'item')\n",
    "\n",
    "new_items = set(items.new.code_ogr) - set(items.old.code_ogr)\n",
    "obsolete_items = set(items.old.code_ogr) - set(items.new.code_ogr)\n",
    "stable_items = set(items.new.code_ogr) & set(items.old.code_ogr)\n",
    "\n",
    "_ = matplotlib_venn.venn2((len(obsolete_items), len(new_items), len(stable_items)), (OLD_VERSION, NEW_VERSION))"
   ]
  },
  {
   "cell_type": "markdown",
   "metadata": {},
   "source": [
    "As anticipated it is a very minor change: some items are now obsolete and new ones have been created. Let's have a look."
   ]
  },
  {
   "cell_type": "code",
   "execution_count": 7,
   "metadata": {
    "collapsed": false
   },
   "outputs": [
    {
     "data": {
      "text/html": [
       "<div>\n",
       "<table border=\"1\" class=\"dataframe\">\n",
       "  <thead>\n",
       "    <tr style=\"text-align: right;\">\n",
       "      <th></th>\n",
       "      <th>code_ogr</th>\n",
       "      <th>libelle</th>\n",
       "      <th>code_type_referentiel</th>\n",
       "      <th>code_ref_rubrique</th>\n",
       "      <th>code_tete_rgpmt</th>\n",
       "      <th>libelle_activite_impression</th>\n",
       "      <th>libelle_en_tete_regroupement</th>\n",
       "    </tr>\n",
       "  </thead>\n",
       "  <tbody>\n",
       "    <tr>\n",
       "      <th>11732</th>\n",
       "      <td>125599</td>\n",
       "      <td>Techniques de gravure</td>\n",
       "      <td>1</td>\n",
       "      <td>7</td>\n",
       "      <td>NaN</td>\n",
       "      <td>NaN</td>\n",
       "      <td>NaN</td>\n",
       "    </tr>\n",
       "    <tr>\n",
       "      <th>11838</th>\n",
       "      <td>125719</td>\n",
       "      <td>Dératisation</td>\n",
       "      <td>1</td>\n",
       "      <td>7</td>\n",
       "      <td>NaN</td>\n",
       "      <td>NaN</td>\n",
       "      <td>NaN</td>\n",
       "    </tr>\n",
       "    <tr>\n",
       "      <th>11871</th>\n",
       "      <td>125757</td>\n",
       "      <td>Concevoir les objets et matériels nécessaires ...</td>\n",
       "      <td>2</td>\n",
       "      <td>6</td>\n",
       "      <td>NaN</td>\n",
       "      <td>NaN</td>\n",
       "      <td>NaN</td>\n",
       "    </tr>\n",
       "    <tr>\n",
       "      <th>11893</th>\n",
       "      <td>125784</td>\n",
       "      <td>Stérilisation</td>\n",
       "      <td>1</td>\n",
       "      <td>10</td>\n",
       "      <td>NaN</td>\n",
       "      <td>NaN</td>\n",
       "      <td>NaN</td>\n",
       "    </tr>\n",
       "    <tr>\n",
       "      <th>11894</th>\n",
       "      <td>125784</td>\n",
       "      <td>Stérilisation</td>\n",
       "      <td>1</td>\n",
       "      <td>7</td>\n",
       "      <td>NaN</td>\n",
       "      <td>NaN</td>\n",
       "      <td>NaN</td>\n",
       "    </tr>\n",
       "  </tbody>\n",
       "</table>\n",
       "</div>"
      ],
      "text/plain": [
       "       code_ogr                                            libelle  \\\n",
       "11732    125599                              Techniques de gravure   \n",
       "11838    125719                                       Dératisation   \n",
       "11871    125757  Concevoir les objets et matériels nécessaires ...   \n",
       "11893    125784                                      Stérilisation   \n",
       "11894    125784                                      Stérilisation   \n",
       "\n",
       "       code_type_referentiel  code_ref_rubrique  code_tete_rgpmt  \\\n",
       "11732                      1                  7              NaN   \n",
       "11838                      1                  7              NaN   \n",
       "11871                      2                  6              NaN   \n",
       "11893                      1                 10              NaN   \n",
       "11894                      1                  7              NaN   \n",
       "\n",
       "       libelle_activite_impression  libelle_en_tete_regroupement  \n",
       "11732                          NaN                           NaN  \n",
       "11838                          NaN                           NaN  \n",
       "11871                          NaN                           NaN  \n",
       "11893                          NaN                           NaN  \n",
       "11894                          NaN                           NaN  "
      ]
     },
     "execution_count": 7,
     "metadata": {},
     "output_type": "execute_result"
    }
   ],
   "source": [
    "items.old[items.old.code_ogr.isin(obsolete_items)].tail()"
   ]
  },
  {
   "cell_type": "code",
   "execution_count": 8,
   "metadata": {
    "collapsed": false
   },
   "outputs": [
    {
     "data": {
      "text/html": [
       "<div>\n",
       "<table border=\"1\" class=\"dataframe\">\n",
       "  <thead>\n",
       "    <tr style=\"text-align: right;\">\n",
       "      <th></th>\n",
       "      <th>code_ogr</th>\n",
       "      <th>libelle</th>\n",
       "      <th>code_type_referentiel</th>\n",
       "      <th>code_ref_rubrique</th>\n",
       "      <th>code_tete_rgpmt</th>\n",
       "      <th>libelle_activite_impression</th>\n",
       "      <th>libelle_en_tete_regroupement</th>\n",
       "    </tr>\n",
       "  </thead>\n",
       "  <tbody>\n",
       "    <tr>\n",
       "      <th>5123</th>\n",
       "      <td>113235</td>\n",
       "      <td>Langage informatique Apache</td>\n",
       "      <td>1</td>\n",
       "      <td>10</td>\n",
       "      <td>NaN</td>\n",
       "      <td>NaN</td>\n",
       "      <td>NaN</td>\n",
       "    </tr>\n",
       "    <tr>\n",
       "      <th>5124</th>\n",
       "      <td>113236</td>\n",
       "      <td>Langage informatique CSS</td>\n",
       "      <td>1</td>\n",
       "      <td>10</td>\n",
       "      <td>NaN</td>\n",
       "      <td>NaN</td>\n",
       "      <td>NaN</td>\n",
       "    </tr>\n",
       "    <tr>\n",
       "      <th>5128</th>\n",
       "      <td>113250</td>\n",
       "      <td>Système d''exploitation informatique Apache To...</td>\n",
       "      <td>1</td>\n",
       "      <td>10</td>\n",
       "      <td>NaN</td>\n",
       "      <td>NaN</td>\n",
       "      <td>NaN</td>\n",
       "    </tr>\n",
       "    <tr>\n",
       "      <th>5130</th>\n",
       "      <td>113268</td>\n",
       "      <td>Système d''exploitation informatique VirtualBox</td>\n",
       "      <td>1</td>\n",
       "      <td>10</td>\n",
       "      <td>NaN</td>\n",
       "      <td>NaN</td>\n",
       "      <td>NaN</td>\n",
       "    </tr>\n",
       "    <tr>\n",
       "      <th>5132</th>\n",
       "      <td>113281</td>\n",
       "      <td>Langage informatique Script Shell</td>\n",
       "      <td>1</td>\n",
       "      <td>10</td>\n",
       "      <td>NaN</td>\n",
       "      <td>NaN</td>\n",
       "      <td>NaN</td>\n",
       "    </tr>\n",
       "  </tbody>\n",
       "</table>\n",
       "</div>"
      ],
      "text/plain": [
       "      code_ogr                                            libelle  \\\n",
       "5123    113235                        Langage informatique Apache   \n",
       "5124    113236                           Langage informatique CSS   \n",
       "5128    113250  Système d''exploitation informatique Apache To...   \n",
       "5130    113268    Système d''exploitation informatique VirtualBox   \n",
       "5132    113281                  Langage informatique Script Shell   \n",
       "\n",
       "      code_type_referentiel  code_ref_rubrique  code_tete_rgpmt  \\\n",
       "5123                      1                 10              NaN   \n",
       "5124                      1                 10              NaN   \n",
       "5128                      1                 10              NaN   \n",
       "5130                      1                 10              NaN   \n",
       "5132                      1                 10              NaN   \n",
       "\n",
       "      libelle_activite_impression  libelle_en_tete_regroupement  \n",
       "5123                          NaN                           NaN  \n",
       "5124                          NaN                           NaN  \n",
       "5128                          NaN                           NaN  \n",
       "5130                          NaN                           NaN  \n",
       "5132                          NaN                           NaN  "
      ]
     },
     "execution_count": 8,
     "metadata": {},
     "output_type": "execute_result"
    }
   ],
   "source": [
    "items.new[items.new.code_ogr.isin(new_items)].head()"
   ]
  },
  {
   "cell_type": "markdown",
   "metadata": {},
   "source": [
    "Those entries look legitimate.\n",
    "\n",
    "The changes in `liens_rome_referentiels` include changes for those items, so let's only check the changes not related to those."
   ]
  },
  {
   "cell_type": "code",
   "execution_count": 9,
   "metadata": {
    "collapsed": false
   },
   "outputs": [
    {
     "data": {
      "text/plain": [
       "added      49\n",
       "removed     3\n",
       "Name: _diff, dtype: int64"
      ]
     },
     "execution_count": 9,
     "metadata": {},
     "output_type": "execute_result"
    }
   ],
   "source": [
    "links = find_dataset_by_name(data, 'liens_rome_referentiels')\n",
    "old_links_on_stable_items = links.old[links.old.code_ogr.isin(stable_items)]\n",
    "new_links_on_stable_items = links.new[links.new.code_ogr.isin(stable_items)]\n",
    "\n",
    "old = old_links_on_stable_items[['code_rome', 'code_ogr']]\n",
    "new = new_links_on_stable_items[['code_rome', 'code_ogr']]\n",
    "\n",
    "links_merged = old.merge(new, how='outer', indicator=True)\n",
    "links_merged['_diff'] = links_merged._merge.map({'left_only': 'removed', 'right_only': 'added'})\n",
    "links_merged._diff.value_counts()"
   ]
  },
  {
   "cell_type": "markdown",
   "metadata": {},
   "source": [
    "So in addition to the added and remove items, there are 52 fixes. Let's have a look:"
   ]
  },
  {
   "cell_type": "code",
   "execution_count": 10,
   "metadata": {
    "collapsed": false
   },
   "outputs": [
    {
     "data": {
      "text/html": [
       "<div>\n",
       "<table border=\"1\" class=\"dataframe\">\n",
       "  <thead>\n",
       "    <tr style=\"text-align: right;\">\n",
       "      <th></th>\n",
       "      <th>code_rome</th>\n",
       "      <th>code_ogr</th>\n",
       "      <th>_merge</th>\n",
       "      <th>_diff</th>\n",
       "      <th>job_group_name</th>\n",
       "      <th>item_name</th>\n",
       "    </tr>\n",
       "  </thead>\n",
       "  <tbody>\n",
       "    <tr>\n",
       "      <th>1542</th>\n",
       "      <td>D1403</td>\n",
       "      <td>121251.0</td>\n",
       "      <td>left_only</td>\n",
       "      <td>removed</td>\n",
       "      <td>Relation commerciale auprès de particuliers</td>\n",
       "      <td>Analyser un plan isométrique</td>\n",
       "    </tr>\n",
       "    <tr>\n",
       "      <th>24575</th>\n",
       "      <td>N1103</td>\n",
       "      <td>126446.0</td>\n",
       "      <td>left_only</td>\n",
       "      <td>removed</td>\n",
       "      <td>Magasinage et préparation de commandes</td>\n",
       "      <td>Effectuer le service de plats à table selon de...</td>\n",
       "    </tr>\n",
       "    <tr>\n",
       "      <th>30158</th>\n",
       "      <td>D1214</td>\n",
       "      <td>118367.0</td>\n",
       "      <td>left_only</td>\n",
       "      <td>removed</td>\n",
       "      <td>Vente en habillement et accessoires de la pers...</td>\n",
       "      <td>Articles de bijouterie / joaillerie</td>\n",
       "    </tr>\n",
       "    <tr>\n",
       "      <th>30281</th>\n",
       "      <td>D1202</td>\n",
       "      <td>123058.0</td>\n",
       "      <td>right_only</td>\n",
       "      <td>added</td>\n",
       "      <td>Coiffure</td>\n",
       "      <td>Techniques de séchage</td>\n",
       "    </tr>\n",
       "    <tr>\n",
       "      <th>30282</th>\n",
       "      <td>E1103</td>\n",
       "      <td>116902.0</td>\n",
       "      <td>right_only</td>\n",
       "      <td>added</td>\n",
       "      <td>Communication</td>\n",
       "      <td>Stratégies de communication interne</td>\n",
       "    </tr>\n",
       "    <tr>\n",
       "      <th>30283</th>\n",
       "      <td>E1103</td>\n",
       "      <td>116903.0</td>\n",
       "      <td>right_only</td>\n",
       "      <td>added</td>\n",
       "      <td>Communication</td>\n",
       "      <td>Stratégies de communication externe</td>\n",
       "    </tr>\n",
       "    <tr>\n",
       "      <th>30284</th>\n",
       "      <td>E1103</td>\n",
       "      <td>117426.0</td>\n",
       "      <td>right_only</td>\n",
       "      <td>added</td>\n",
       "      <td>Communication</td>\n",
       "      <td>Communication interne</td>\n",
       "    </tr>\n",
       "    <tr>\n",
       "      <th>30285</th>\n",
       "      <td>E1103</td>\n",
       "      <td>117427.0</td>\n",
       "      <td>right_only</td>\n",
       "      <td>added</td>\n",
       "      <td>Communication</td>\n",
       "      <td>Communication externe</td>\n",
       "    </tr>\n",
       "    <tr>\n",
       "      <th>30286</th>\n",
       "      <td>D1403</td>\n",
       "      <td>102065.0</td>\n",
       "      <td>right_only</td>\n",
       "      <td>added</td>\n",
       "      <td>Relation commerciale auprès de particuliers</td>\n",
       "      <td>Diététique</td>\n",
       "    </tr>\n",
       "    <tr>\n",
       "      <th>30287</th>\n",
       "      <td>B1303</td>\n",
       "      <td>117952.0</td>\n",
       "      <td>right_only</td>\n",
       "      <td>added</td>\n",
       "      <td>Gravure - ciselure</td>\n",
       "      <td>Techniques de gravure</td>\n",
       "    </tr>\n",
       "  </tbody>\n",
       "</table>\n",
       "</div>"
      ],
      "text/plain": [
       "      code_rome  code_ogr      _merge    _diff  \\\n",
       "1542      D1403  121251.0   left_only  removed   \n",
       "24575     N1103  126446.0   left_only  removed   \n",
       "30158     D1214  118367.0   left_only  removed   \n",
       "30281     D1202  123058.0  right_only    added   \n",
       "30282     E1103  116902.0  right_only    added   \n",
       "30283     E1103  116903.0  right_only    added   \n",
       "30284     E1103  117426.0  right_only    added   \n",
       "30285     E1103  117427.0  right_only    added   \n",
       "30286     D1403  102065.0  right_only    added   \n",
       "30287     B1303  117952.0  right_only    added   \n",
       "\n",
       "                                          job_group_name  \\\n",
       "1542         Relation commerciale auprès de particuliers   \n",
       "24575             Magasinage et préparation de commandes   \n",
       "30158  Vente en habillement et accessoires de la pers...   \n",
       "30281                                           Coiffure   \n",
       "30282                                      Communication   \n",
       "30283                                      Communication   \n",
       "30284                                      Communication   \n",
       "30285                                      Communication   \n",
       "30286        Relation commerciale auprès de particuliers   \n",
       "30287                                 Gravure - ciselure   \n",
       "\n",
       "                                               item_name  \n",
       "1542                        Analyser un plan isométrique  \n",
       "24575  Effectuer le service de plats à table selon de...  \n",
       "30158                Articles de bijouterie / joaillerie  \n",
       "30281                              Techniques de séchage  \n",
       "30282                Stratégies de communication interne  \n",
       "30283                Stratégies de communication externe  \n",
       "30284                              Communication interne  \n",
       "30285                              Communication externe  \n",
       "30286                                         Diététique  \n",
       "30287                              Techniques de gravure  "
      ]
     },
     "execution_count": 10,
     "metadata": {},
     "output_type": "execute_result"
    }
   ],
   "source": [
    "job_group_names = find_dataset_by_name(data, 'referentiel_code_rome').old.set_index('code_rome').libelle_rome\n",
    "item_names = items.new.set_index('code_ogr').libelle.drop_duplicates()\n",
    "links_merged['job_group_name'] = links_merged.code_rome.map(job_group_names)\n",
    "links_merged['item_name'] = links_merged.code_ogr.map(item_names)\n",
    "links_merged.dropna().head(10)"
   ]
  },
  {
   "cell_type": "markdown",
   "metadata": {},
   "source": [
    "Those fixes make sense (not sure why they were not done before, but let's not complain: it is fixed now)."
   ]
  },
  {
   "cell_type": "markdown",
   "metadata": {},
   "source": [
    "# Conclusion\n",
    "The new version of ROME, v333, introduces very minor changes which reflect quite well what they wrote in their [changelog](http://www.pole-emploi.org/front/common/tools/load_file.jspz?galleryId=53360&galleryTitle=ROME+Actualisation+du+20+mars+2017). The transition should be transparent with a very small advantage on the new one."
   ]
  }
 ],
 "metadata": {
  "kernelspec": {
   "display_name": "Python 3",
   "language": "python",
   "name": "python3"
  },
  "language_info": {
   "codemirror_mode": {
    "name": "ipython",
    "version": 3
   },
   "file_extension": ".py",
   "mimetype": "text/x-python",
   "name": "python",
   "nbconvert_exporter": "python",
   "pygments_lexer": "ipython3",
   "version": "3.5.2"
  }
 },
 "nbformat": 4,
 "nbformat_minor": 0
}
