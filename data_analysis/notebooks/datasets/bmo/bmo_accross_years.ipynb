{
 "cells": [
  {
   "cell_type": "markdown",
   "metadata": {},
   "source": [
    "Author: Pascal, `pascal@bayesimpact.org`\n",
    "\n",
    "Updated: `2018-06-14`\n",
    "\n",
    "# BMO across Years\n",
    "\n",
    "BMO means \"Besoin en Main d'Oeuvre\" and analyzes the working force needed (it is done by calling employers all over France). It's done once per year. See the [official website](http://bmo.pole-emploi.org/) for more details.\n",
    "\n",
    "In Bob Emploi we want to display BMO data useful for the user. One way we want to show some context is to give the values for several years. Before doing that we want to make sure that no user would get surprised by the data for their specific case."
   ]
  },
  {
   "cell_type": "code",
   "execution_count": 1,
   "metadata": {},
   "outputs": [
    {
     "data": {
      "text/plain": [
       "[2014, 2015, 2016, 2017, 2018]"
      ]
     },
     "execution_count": 1,
     "metadata": {},
     "output_type": "execute_result"
    }
   ],
   "source": [
    "import glob\n",
    "import os\n",
    "from os import path\n",
    "import re\n",
    "\n",
    "import pandas\n",
    "import seaborn as sns\n",
    "sns.set()\n",
    "\n",
    "bmo_file_names = glob.glob(path.join(os.getenv('DATA_FOLDER'), 'bmo/bmo_*'))\n",
    "bmo_df_dict = {}\n",
    "for bmo_file_name in sorted(bmo_file_names):\n",
    "    df = pandas.read_csv(bmo_file_name, dtype={'DEPARTEMENT_CODE': str})\n",
    "    year = int(re.search(r'\\d+', bmo_file_name).group())\n",
    "    df['year'] = year\n",
    "    bmo_df_dict[year] = df\n",
    "    \n",
    "sorted(bmo_df_dict.keys())"
   ]
  },
  {
   "cell_type": "markdown",
   "metadata": {},
   "source": [
    "Check that all the CSV files have the same structure."
   ]
  },
  {
   "cell_type": "code",
   "execution_count": 2,
   "metadata": {},
   "outputs": [
    {
     "name": "stdout",
     "output_type": "stream",
     "text": [
      "Columns removed in 2015:\n",
      "['ROME_PROFESSION_CARD_CODE', 'ROME_PROFESSION_CARD_NAME']\n",
      "Columns added in 2015:\n",
      "['FAP_CODE', 'FAP_NAME']\n",
      "Columns removed in 2016:\n",
      "['ROME_PROFESSION_CARD_CODE', 'ROME_PROFESSION_CARD_NAME']\n",
      "Columns added in 2016:\n",
      "['FAP_CODE', 'FAP_NAME']\n",
      "Columns removed in 2017:\n",
      "['ROME_PROFESSION_CARD_CODE', 'ROME_PROFESSION_CARD_NAME']\n",
      "Columns added in 2017:\n",
      "['FAP_CODE', 'FAP_NAME']\n",
      "Columns removed in 2018:\n",
      "['ROME_PROFESSION_CARD_CODE', 'ROME_PROFESSION_CARD_NAME']\n",
      "Columns added in 2018:\n",
      "['FAP_CODE', 'FAP_NAME']\n"
     ]
    }
   ],
   "source": [
    "def assert_all_the_same(dataframes, select_data_func, name='Values'):\n",
    "    first = None\n",
    "    for key, df in sorted(dataframes.items(), key=lambda kv: kv[0]):\n",
    "        if first is None:\n",
    "            first = select_data_func(df)\n",
    "            continue\n",
    "        other = select_data_func(df)\n",
    "        if first - other:\n",
    "            print('{} removed in {}:\\n{}'.format(name, key, sorted(first - other)))\n",
    "        if other - first:\n",
    "            print('{} added in {}:\\n{}'.format(name, key, sorted(other - first)))\n",
    "\n",
    "assert_all_the_same(bmo_df_dict, lambda df: set(df.columns), name='Columns')"
   ]
  },
  {
   "cell_type": "markdown",
   "metadata": {},
   "source": [
    "Hmm, this is fishy, why would the BMO be by ROME? Let's check the values:"
   ]
  },
  {
   "cell_type": "code",
   "execution_count": 3,
   "metadata": {},
   "outputs": [
    {
     "data": {
      "text/plain": [
       "array(['A0Z40', 'A0Z41', 'Q2Z90', 'V2Z91', 'R4Z93', 'D2Z41', 'A0Z42',\n",
       "       'A1Z40', 'U1Z81', 'A0Z43', 'V2Z90', 'B6Z70', 'A1Z41', 'D1Z40',\n",
       "       'L1Z60', 'A1Z42', 'A2Z90', 'A3Z40', 'B2Z40', 'A2Z70', 'A3Z41',\n",
       "       'A3Z90', 'B0Z20', 'B0Z21', 'B2Z43', 'B2Z44', 'D2Z42', 'B1Z40',\n",
       "       'V2Z93', 'E1Z42', 'W0Z80', 'Q2Z91', 'B2Z41', 'B2Z42', 'B4Z41',\n",
       "       'B3Z20', 'B6Z72', 'M2Z92', 'B4Z44', 'B6Z71', 'B4Z43', 'G1Z80',\n",
       "       'B7Z91', 'B4Z42', 'B5Z40', 'C0Z20', 'D0Z20', 'B6Z73', 'D4Z41',\n",
       "       'D6Z70', 'G0B40', 'U0Z80', 'D2Z40', 'B7Z90', 'C2Z70', 'D3Z20',\n",
       "       'C1Z40', 'H0Z91', 'J3Z43', 'D1Z41', 'C2Z71', 'C2Z80', 'E1Z41',\n",
       "       'E0Z20', 'D6Z80', 'E0Z22', 'E0Z23', 'E0Z24', 'E0Z21', 'E1Z43',\n",
       "       'G0A40', 'D6Z71', 'L2Z60', 'D4Z40', 'F3Z41', 'E1Z40', 'E2Z80',\n",
       "       'F0Z20', 'E1Z46', 'E1Z47', 'F4Z20', 'G0A41', 'E2Z70', 'F1Z41',\n",
       "       'F4Z41', 'F1Z40', 'F5Z70', 'F2Z20', 'E1Z44', 'G0A42', 'G0B41',\n",
       "       'H0Z92', 'G0A43', 'G1Z70', 'M0Z60', 'L2Z61', 'L5Z90', 'L3Z80',\n",
       "       'H0Z90', 'J0Z20', 'G1Z71', 'J1Z40', 'J3Z40', 'J3Z42', 'R2Z83',\n",
       "       'J3Z44', 'K0Z20', 'J3Z41', 'J4Z40', 'L0Z60', 'J1Z80', 'M2Z90',\n",
       "       'J5Z80', 'J5Z60', 'N0Z90', 'Q0Z60', 'J6Z90', 'J6Z91', 'J5Z62',\n",
       "       'J6Z92', 'M1Z80', 'J5Z61', 'R0Z61', 'J4Z60', 'L4Z80', 'J4Z80',\n",
       "       'K0Z40', 'R1Z60', 'L5Z92', 'M1Z81', 'L4Z81', 'L6Z90', 'Q1Z80',\n",
       "       'R0Z60', 'L5Z91', 'Q1Z81', 'R4Z90', 'S3Z90', 'T2B60', 'T3Z61',\n",
       "       'R1Z61', 'M2Z91', 'N0Z91', 'S2Z81', 'P3Z90', 'R4Z92', 'T0Z60',\n",
       "       'R1Z62', 'R1Z67', 'R4Z91', 'S0Z40', 'U0Z81', 'R3Z80', 'R2Z80',\n",
       "       'S0Z20', 'R1Z66', 'R1Z63', 'S1Z20', 'T4Z61', 'S0Z42', 'R3Z82',\n",
       "       'T2A60', 'T3Z60', 'S1Z40', 'S0Z41', 'U0Z90', 'V3Z70', 'U1Z80',\n",
       "       'S1Z80', 'S2Z60', 'S2Z61', 'S2Z80', 'T4Z60', 'T6Z61', 'T1Z60',\n",
       "       'U0Z91', 'T4Z62', 'U1Z91', 'V0Z60', 'V3Z71', 'V3Z90', 'U1Z82',\n",
       "       'V4Z80', 'U0Z92', 'U1Z92', 'U1Z93', 'V2Z92', 'V3Z80', 'V1Z80',\n",
       "       'V4Z83', 'V1Z81', 'W0Z92', 'V5Z81', 'V5Z82', 'V5Z84', 'V4Z85',\n",
       "       'W1Z80', 'W0Z90', 'W0Z91'], dtype=object)"
      ]
     },
     "execution_count": 3,
     "metadata": {},
     "output_type": "execute_result"
    }
   ],
   "source": [
    "bmo_df_dict[2014].ROME_PROFESSION_CARD_CODE.unique()"
   ]
  },
  {
   "cell_type": "markdown",
   "metadata": {},
   "source": [
    "OK, those are actually the FAP code, so we only need some columns renaming."
   ]
  },
  {
   "cell_type": "code",
   "execution_count": 4,
   "metadata": {},
   "outputs": [],
   "source": [
    "for df in bmo_df_dict.values():\n",
    "    df.rename(columns={\n",
    "            'ROME_PROFESSION_CARD_CODE': 'FAP_CODE',\n",
    "            'ROME_PROFESSION_CARD_NAME': 'FAP_NAME',\n",
    "        }, inplace=True)\n",
    "assert_all_the_same(bmo_df_dict, lambda df: set(df.columns), name='Columns')"
   ]
  },
  {
   "cell_type": "markdown",
   "metadata": {},
   "source": [
    "Let's check the column types:"
   ]
  },
  {
   "cell_type": "code",
   "execution_count": 5,
   "metadata": {},
   "outputs": [
    {
     "name": "stdout",
     "output_type": "stream",
     "text": [
      "Column Type for NB_DIFF_RECRUT_PROJECTS removed in 2015:\n",
      "[dtype('O')]\n",
      "Column Type for NB_DIFF_RECRUT_PROJECTS added in 2015:\n",
      "[dtype('float64')]\n",
      "Column Type for NB_DIFF_RECRUT_PROJECTS removed in 2016:\n",
      "[dtype('O')]\n",
      "Column Type for NB_DIFF_RECRUT_PROJECTS added in 2016:\n",
      "[dtype('float64')]\n",
      "Column Type for NB_RECRUT_PROJECTS removed in 2015:\n",
      "[dtype('O')]\n",
      "Column Type for NB_RECRUT_PROJECTS added in 2015:\n",
      "[dtype('float64')]\n",
      "Column Type for NB_RECRUT_PROJECTS removed in 2016:\n",
      "[dtype('O')]\n",
      "Column Type for NB_RECRUT_PROJECTS added in 2016:\n",
      "[dtype('float64')]\n",
      "Column Type for NB_SEASON_RECRUT_PROJECTS removed in 2015:\n",
      "[dtype('O')]\n",
      "Column Type for NB_SEASON_RECRUT_PROJECTS added in 2015:\n",
      "[dtype('float64')]\n",
      "Column Type for NB_SEASON_RECRUT_PROJECTS removed in 2016:\n",
      "[dtype('O')]\n",
      "Column Type for NB_SEASON_RECRUT_PROJECTS added in 2016:\n",
      "[dtype('float64')]\n"
     ]
    }
   ],
   "source": [
    "for column in bmo_df_dict[2017].columns:\n",
    "    assert_all_the_same(\n",
    "        bmo_df_dict,\n",
    "        lambda df: set([df.dtypes[column]]),\n",
    "        name='Column Type for {}'.format(column))"
   ]
  },
  {
   "cell_type": "markdown",
   "metadata": {},
   "source": [
    "Ouch, those numbers should all be floats not objects. Let's check some values:"
   ]
  },
  {
   "cell_type": "code",
   "execution_count": 6,
   "metadata": {},
   "outputs": [
    {
     "data": {
      "text/plain": [
       "0    39,27177888\n",
       "1    97,19287631\n",
       "2             85\n",
       "3    152,0641712\n",
       "4    170,6651188\n",
       "Name: NB_RECRUT_PROJECTS, dtype: object"
      ]
     },
     "execution_count": 6,
     "metadata": {},
     "output_type": "execute_result"
    }
   ],
   "source": [
    "bmo_df_dict[2014].NB_RECRUT_PROJECTS.head()"
   ]
  },
  {
   "cell_type": "code",
   "execution_count": 7,
   "metadata": {},
   "outputs": [
    {
     "data": {
      "text/plain": [
       "0     39.271779\n",
       "1     97.192876\n",
       "2     85.000000\n",
       "3    152.064171\n",
       "4    170.665119\n",
       "Name: NB_RECRUT_PROJECTS, dtype: float64"
      ]
     },
     "execution_count": 7,
     "metadata": {},
     "output_type": "execute_result"
    }
   ],
   "source": [
    "for field in ('NB_RECRUT_PROJECTS', 'NB_DIFF_RECRUT_PROJECTS', 'NB_SEASON_RECRUT_PROJECTS'):\n",
    "    for bmo_df in bmo_df_dict.values():\n",
    "        bmo_df[field] = bmo_df[field].astype(str)\\\n",
    "            .str.replace(',', '.')\\\n",
    "            .str.replace(' ', '')\\\n",
    "            .replace('-', '0')\\\n",
    "            .replace('*', '0')\\\n",
    "            .astype(float)\n",
    "bmo_df_dict[2014].NB_RECRUT_PROJECTS.head()"
   ]
  },
  {
   "cell_type": "markdown",
   "metadata": {},
   "source": [
    "After this cleanup, let's check again if the column types are consistant."
   ]
  },
  {
   "cell_type": "code",
   "execution_count": 8,
   "metadata": {},
   "outputs": [],
   "source": [
    "for column in bmo_df_dict[2017].columns:\n",
    "    assert_all_the_same(\n",
    "        bmo_df_dict,\n",
    "        lambda df: set([df.dtypes[column]]),\n",
    "        name='Column Type for {}'.format(column))"
   ]
  },
  {
   "cell_type": "markdown",
   "metadata": {},
   "source": [
    "Cool, now column types are the same for each year.\n",
    "\n",
    "Let's check if we have the same values in key fields, and do some point checks that were known to fail in previous versions:"
   ]
  },
  {
   "cell_type": "code",
   "execution_count": 9,
   "metadata": {},
   "outputs": [
    {
     "name": "stdout",
     "output_type": "stream",
     "text": [
      "FAP Codes added in 2018:\n",
      "['V5Z00']\n",
      "Departement Codes removed in 2015:\n",
      "['1', '2', '3', '4', '5', '6', '7', '8', '9']\n",
      "Departement Codes added in 2015:\n",
      "['01', '02', '03', '04', '05', '06', '07', '08', '09']\n",
      "Departement Codes removed in 2017:\n",
      "['1', '2', '3', '4', '5', '6', '7', '8', '9']\n",
      "Departement Codes added in 2017:\n",
      "['01', '02', '03', '04', '05', '06', '07', '08', '09']\n",
      "Département 01 is missing.\n"
     ]
    }
   ],
   "source": [
    "assert_all_the_same(bmo_df_dict, lambda df: set(df.FAP_CODE.tolist()), name='FAP Codes')\n",
    "assert_all_the_same(bmo_df_dict, lambda df: set(df.DEPARTEMENT_CODE.tolist()), name='Departement Codes')\n",
    "\n",
    "fap_codes = set(bmo_df_dict[2016].FAP_CODE.tolist())\n",
    "if 'A0Z40' not in fap_codes:\n",
    "    print('FAP A0Z40 is missing.')\n",
    "\n",
    "departement_codes = set(bmo_df_dict[2016].DEPARTEMENT_CODE.tolist())\n",
    "if '2A' not in departement_codes:\n",
    "    print('Département 2A is missing.')\n",
    "if '01' not in departement_codes:\n",
    "    print('Département 01 is missing.')"
   ]
  },
  {
   "cell_type": "markdown",
   "metadata": {},
   "source": [
    "So it seems that some départements are not correctly set. And there's a new FAP code in 2018."
   ]
  },
  {
   "cell_type": "code",
   "execution_count": 10,
   "metadata": {},
   "outputs": [],
   "source": [
    "for _, df in bmo_df_dict.items():\n",
    "    df['DEPARTEMENT_CODE'] = df.DEPARTEMENT_CODE.str.pad(2, fillchar='0')\n",
    "assert_all_the_same(bmo_df_dict, lambda df: set(df['DEPARTEMENT_CODE'].tolist()), name='Departement Codes')\n",
    "departement_codes = set(bmo_df_dict[2016].DEPARTEMENT_CODE.tolist())\n",
    "assert('2A' in departement_codes)\n",
    "assert('01' in departement_codes)"
   ]
  },
  {
   "cell_type": "markdown",
   "metadata": {},
   "source": [
    "OK, we've fixed the départements.\n",
    "\n",
    "What about the extra FAP code?"
   ]
  },
  {
   "cell_type": "code",
   "execution_count": 11,
   "metadata": {},
   "outputs": [
    {
     "data": {
      "text/html": [
       "<div>\n",
       "<style scoped>\n",
       "    .dataframe tbody tr th:only-of-type {\n",
       "        vertical-align: middle;\n",
       "    }\n",
       "\n",
       "    .dataframe tbody tr th {\n",
       "        vertical-align: top;\n",
       "    }\n",
       "\n",
       "    .dataframe thead th {\n",
       "        text-align: right;\n",
       "    }\n",
       "</style>\n",
       "<table border=\"1\" class=\"dataframe\">\n",
       "  <thead>\n",
       "    <tr style=\"text-align: right;\">\n",
       "      <th></th>\n",
       "      <th>NB_RECRUT_PROJECTS</th>\n",
       "      <th>name</th>\n",
       "    </tr>\n",
       "    <tr>\n",
       "      <th>FAP_CODE</th>\n",
       "      <th></th>\n",
       "      <th></th>\n",
       "    </tr>\n",
       "  </thead>\n",
       "  <tbody>\n",
       "    <tr>\n",
       "      <th>V5Z00</th>\n",
       "      <td>27.0</td>\n",
       "      <td>Exploitants d'équipements sportifs et culturels</td>\n",
       "    </tr>\n",
       "    <tr>\n",
       "      <th>V5Z81</th>\n",
       "      <td>85313.0</td>\n",
       "      <td>Professionnels de l'animation socioculturelle ...</td>\n",
       "    </tr>\n",
       "    <tr>\n",
       "      <th>V5Z82</th>\n",
       "      <td>22926.0</td>\n",
       "      <td>Sportifs et animateurs sportifs</td>\n",
       "    </tr>\n",
       "    <tr>\n",
       "      <th>V5Z84</th>\n",
       "      <td>13202.0</td>\n",
       "      <td>Surveillants d'établissements scolaires (surve...</td>\n",
       "    </tr>\n",
       "  </tbody>\n",
       "</table>\n",
       "</div>"
      ],
      "text/plain": [
       "          NB_RECRUT_PROJECTS  \\\n",
       "FAP_CODE                       \n",
       "V5Z00                   27.0   \n",
       "V5Z81                85313.0   \n",
       "V5Z82                22926.0   \n",
       "V5Z84                13202.0   \n",
       "\n",
       "                                                       name  \n",
       "FAP_CODE                                                     \n",
       "V5Z00       Exploitants d'équipements sportifs et culturels  \n",
       "V5Z81     Professionnels de l'animation socioculturelle ...  \n",
       "V5Z82                       Sportifs et animateurs sportifs  \n",
       "V5Z84     Surveillants d'établissements scolaires (surve...  "
      ]
     },
     "execution_count": 11,
     "metadata": {},
     "output_type": "execute_result"
    }
   ],
   "source": [
    "bmo_2018 = bmo_df_dict[2018]\n",
    "v5z_counts = bmo_2018[bmo_2018.FAP_CODE.str.startswith('V5')]\\\n",
    "    .groupby('FAP_CODE').NB_RECRUT_PROJECTS.sum().to_frame()\n",
    "v5z_counts['name'] = bmo_2018[['FAP_CODE', 'FAP_NAME']]\\\n",
    "    .drop_duplicates().set_index('FAP_CODE').FAP_NAME\n",
    "v5z_counts"
   ]
  },
  {
   "cell_type": "markdown",
   "metadata": {
    "collapsed": true
   },
   "source": [
    "Hmm OK, this does not seem to be a bug, just a type of job that is rare as there's very few hiring planned for that type of job for the whole France.\n",
    "\n",
    "All seems good now: the Data Frame have the same columns, and the same set of values in the important columns.\n",
    "\n",
    "Let's compare global stats."
   ]
  },
  {
   "cell_type": "code",
   "execution_count": 12,
   "metadata": {},
   "outputs": [],
   "source": [
    "bmo_df = pandas.concat(bmo_df_dict[year] for year in sorted(bmo_df_dict.keys()))"
   ]
  },
  {
   "cell_type": "code",
   "execution_count": 13,
   "metadata": {},
   "outputs": [
    {
     "data": {
      "text/html": [
       "<div>\n",
       "<style scoped>\n",
       "    .dataframe tbody tr th:only-of-type {\n",
       "        vertical-align: middle;\n",
       "    }\n",
       "\n",
       "    .dataframe tbody tr th {\n",
       "        vertical-align: top;\n",
       "    }\n",
       "\n",
       "    .dataframe thead th {\n",
       "        text-align: right;\n",
       "    }\n",
       "</style>\n",
       "<table border=\"1\" class=\"dataframe\">\n",
       "  <thead>\n",
       "    <tr style=\"text-align: right;\">\n",
       "      <th></th>\n",
       "      <th>CATCHMENT_AREA_CODE</th>\n",
       "      <th>CATCHMENT_AREA_NAME</th>\n",
       "      <th>DEPARTEMENT_CODE</th>\n",
       "      <th>DEPARTEMENT_NAME</th>\n",
       "      <th>FAP_CODE</th>\n",
       "      <th>FAP_NAME</th>\n",
       "      <th>NB_DIFF_RECRUT_PROJECTS</th>\n",
       "      <th>NB_RECRUT_PROJECTS</th>\n",
       "      <th>NB_SEASON_RECRUT_PROJECTS</th>\n",
       "      <th>PROFESSION_FAMILY_CODE</th>\n",
       "      <th>PROFESSION_FAMILY_NAME</th>\n",
       "      <th>REGION_CODE</th>\n",
       "      <th>REGION_LIB</th>\n",
       "    </tr>\n",
       "    <tr>\n",
       "      <th>year</th>\n",
       "      <th></th>\n",
       "      <th></th>\n",
       "      <th></th>\n",
       "      <th></th>\n",
       "      <th></th>\n",
       "      <th></th>\n",
       "      <th></th>\n",
       "      <th></th>\n",
       "      <th></th>\n",
       "      <th></th>\n",
       "      <th></th>\n",
       "      <th></th>\n",
       "      <th></th>\n",
       "    </tr>\n",
       "  </thead>\n",
       "  <tbody>\n",
       "    <tr>\n",
       "      <th>2014</th>\n",
       "      <td>39095</td>\n",
       "      <td>39095</td>\n",
       "      <td>39095</td>\n",
       "      <td>39095</td>\n",
       "      <td>39095</td>\n",
       "      <td>39095</td>\n",
       "      <td>39095</td>\n",
       "      <td>39095</td>\n",
       "      <td>39095</td>\n",
       "      <td>39095</td>\n",
       "      <td>39095</td>\n",
       "      <td>39095</td>\n",
       "      <td>39095</td>\n",
       "    </tr>\n",
       "    <tr>\n",
       "      <th>2015</th>\n",
       "      <td>38732</td>\n",
       "      <td>38732</td>\n",
       "      <td>38732</td>\n",
       "      <td>38732</td>\n",
       "      <td>38732</td>\n",
       "      <td>38732</td>\n",
       "      <td>38732</td>\n",
       "      <td>38732</td>\n",
       "      <td>38732</td>\n",
       "      <td>38732</td>\n",
       "      <td>38732</td>\n",
       "      <td>38732</td>\n",
       "      <td>38732</td>\n",
       "    </tr>\n",
       "    <tr>\n",
       "      <th>2016</th>\n",
       "      <td>39501</td>\n",
       "      <td>39501</td>\n",
       "      <td>39501</td>\n",
       "      <td>39500</td>\n",
       "      <td>39501</td>\n",
       "      <td>39501</td>\n",
       "      <td>39501</td>\n",
       "      <td>39501</td>\n",
       "      <td>39501</td>\n",
       "      <td>39501</td>\n",
       "      <td>39501</td>\n",
       "      <td>39501</td>\n",
       "      <td>39501</td>\n",
       "    </tr>\n",
       "    <tr>\n",
       "      <th>2017</th>\n",
       "      <td>42429</td>\n",
       "      <td>42429</td>\n",
       "      <td>42429</td>\n",
       "      <td>42428</td>\n",
       "      <td>42429</td>\n",
       "      <td>42429</td>\n",
       "      <td>42429</td>\n",
       "      <td>42429</td>\n",
       "      <td>42429</td>\n",
       "      <td>42429</td>\n",
       "      <td>42429</td>\n",
       "      <td>42429</td>\n",
       "      <td>42429</td>\n",
       "    </tr>\n",
       "    <tr>\n",
       "      <th>2018</th>\n",
       "      <td>45182</td>\n",
       "      <td>45182</td>\n",
       "      <td>45182</td>\n",
       "      <td>45181</td>\n",
       "      <td>45182</td>\n",
       "      <td>45182</td>\n",
       "      <td>45182</td>\n",
       "      <td>45182</td>\n",
       "      <td>45182</td>\n",
       "      <td>45182</td>\n",
       "      <td>45182</td>\n",
       "      <td>45182</td>\n",
       "      <td>45182</td>\n",
       "    </tr>\n",
       "  </tbody>\n",
       "</table>\n",
       "</div>"
      ],
      "text/plain": [
       "      CATCHMENT_AREA_CODE  CATCHMENT_AREA_NAME  DEPARTEMENT_CODE  \\\n",
       "year                                                               \n",
       "2014                39095                39095             39095   \n",
       "2015                38732                38732             38732   \n",
       "2016                39501                39501             39501   \n",
       "2017                42429                42429             42429   \n",
       "2018                45182                45182             45182   \n",
       "\n",
       "      DEPARTEMENT_NAME  FAP_CODE  FAP_NAME  NB_DIFF_RECRUT_PROJECTS  \\\n",
       "year                                                                  \n",
       "2014             39095     39095     39095                    39095   \n",
       "2015             38732     38732     38732                    38732   \n",
       "2016             39500     39501     39501                    39501   \n",
       "2017             42428     42429     42429                    42429   \n",
       "2018             45181     45182     45182                    45182   \n",
       "\n",
       "      NB_RECRUT_PROJECTS  NB_SEASON_RECRUT_PROJECTS  PROFESSION_FAMILY_CODE  \\\n",
       "year                                                                          \n",
       "2014               39095                      39095                   39095   \n",
       "2015               38732                      38732                   38732   \n",
       "2016               39501                      39501                   39501   \n",
       "2017               42429                      42429                   42429   \n",
       "2018               45182                      45182                   45182   \n",
       "\n",
       "      PROFESSION_FAMILY_NAME  REGION_CODE  REGION_LIB  \n",
       "year                                                   \n",
       "2014                   39095        39095       39095  \n",
       "2015                   38732        38732       38732  \n",
       "2016                   39501        39501       39501  \n",
       "2017                   42429        42429       42429  \n",
       "2018                   45182        45182       45182  "
      ]
     },
     "execution_count": 13,
     "metadata": {},
     "output_type": "execute_result"
    }
   ],
   "source": [
    "bmo_df.groupby(['year']).count()"
   ]
  },
  {
   "cell_type": "code",
   "execution_count": 14,
   "metadata": {},
   "outputs": [
    {
     "data": {
      "text/html": [
       "<div>\n",
       "<style scoped>\n",
       "    .dataframe tbody tr th:only-of-type {\n",
       "        vertical-align: middle;\n",
       "    }\n",
       "\n",
       "    .dataframe tbody tr th {\n",
       "        vertical-align: top;\n",
       "    }\n",
       "\n",
       "    .dataframe thead th {\n",
       "        text-align: right;\n",
       "    }\n",
       "</style>\n",
       "<table border=\"1\" class=\"dataframe\">\n",
       "  <thead>\n",
       "    <tr style=\"text-align: right;\">\n",
       "      <th></th>\n",
       "      <th>CATCHMENT_AREA_CODE</th>\n",
       "      <th>NB_DIFF_RECRUT_PROJECTS</th>\n",
       "      <th>NB_RECRUT_PROJECTS</th>\n",
       "      <th>NB_SEASON_RECRUT_PROJECTS</th>\n",
       "      <th>REGION_CODE</th>\n",
       "    </tr>\n",
       "    <tr>\n",
       "      <th>year</th>\n",
       "      <th></th>\n",
       "      <th></th>\n",
       "      <th></th>\n",
       "      <th></th>\n",
       "      <th></th>\n",
       "    </tr>\n",
       "  </thead>\n",
       "  <tbody>\n",
       "    <tr>\n",
       "      <th>2014</th>\n",
       "      <td>198679531</td>\n",
       "      <td>5.899533e+05</td>\n",
       "      <td>1.700541e+06</td>\n",
       "      <td>667037.379418</td>\n",
       "      <td>1981300</td>\n",
       "    </tr>\n",
       "    <tr>\n",
       "      <th>2015</th>\n",
       "      <td>194959082</td>\n",
       "      <td>5.632995e+05</td>\n",
       "      <td>1.739277e+06</td>\n",
       "      <td>683418.511234</td>\n",
       "      <td>1944091</td>\n",
       "    </tr>\n",
       "    <tr>\n",
       "      <th>2016</th>\n",
       "      <td>198859068</td>\n",
       "      <td>5.915074e+05</td>\n",
       "      <td>1.827271e+06</td>\n",
       "      <td>741914.580000</td>\n",
       "      <td>1982872</td>\n",
       "    </tr>\n",
       "    <tr>\n",
       "      <th>2017</th>\n",
       "      <td>212328291</td>\n",
       "      <td>7.407540e+05</td>\n",
       "      <td>1.976268e+06</td>\n",
       "      <td>775679.000000</td>\n",
       "      <td>2194196</td>\n",
       "    </tr>\n",
       "    <tr>\n",
       "      <th>2018</th>\n",
       "      <td>237433992</td>\n",
       "      <td>1.016211e+06</td>\n",
       "      <td>2.318471e+06</td>\n",
       "      <td>800877.000000</td>\n",
       "      <td>2364854</td>\n",
       "    </tr>\n",
       "  </tbody>\n",
       "</table>\n",
       "</div>"
      ],
      "text/plain": [
       "      CATCHMENT_AREA_CODE  NB_DIFF_RECRUT_PROJECTS  NB_RECRUT_PROJECTS  \\\n",
       "year                                                                     \n",
       "2014            198679531             5.899533e+05        1.700541e+06   \n",
       "2015            194959082             5.632995e+05        1.739277e+06   \n",
       "2016            198859068             5.915074e+05        1.827271e+06   \n",
       "2017            212328291             7.407540e+05        1.976268e+06   \n",
       "2018            237433992             1.016211e+06        2.318471e+06   \n",
       "\n",
       "      NB_SEASON_RECRUT_PROJECTS  REGION_CODE  \n",
       "year                                          \n",
       "2014              667037.379418      1981300  \n",
       "2015              683418.511234      1944091  \n",
       "2016              741914.580000      1982872  \n",
       "2017              775679.000000      2194196  \n",
       "2018              800877.000000      2364854  "
      ]
     },
     "execution_count": 14,
     "metadata": {},
     "output_type": "execute_result"
    }
   ],
   "source": [
    "bmo_df.groupby(['year']).sum()"
   ]
  },
  {
   "cell_type": "markdown",
   "metadata": {},
   "source": [
    "In early 2017 when BMO 2017 was released, it had the same values as BMO 2016. Obviously this is not the case for BMO 2018, so we can use the data.\n",
    "\n",
    "## Evolutions\n",
    "\n",
    "Let's get an idea on how the BMO is evolving locally. Here are some basic questions:\n",
    "* Which are the top 5 département with more hiring than last year (in %)?\n",
    "* Which are the top 5 job families with more hiring than last year (in %)?\n",
    "\n",
    "Let's try merging the data per local market. First let's check if we can merge on the \"bassin d'emploi\" level:"
   ]
  },
  {
   "cell_type": "code",
   "execution_count": 15,
   "metadata": {},
   "outputs": [
    {
     "name": "stdout",
     "output_type": "stream",
     "text": [
      "Catchment Area Codes removed in 2015:\n",
      "[9317, 9318]\n",
      "Catchment Area Codes added in 2015:\n",
      "[105, 106, 107, 108, 109, 110, 111, 112, 2316, 4317, 7329, 9326, 9331, 9332]\n",
      "Catchment Area Codes removed in 2016:\n",
      "[9309, 9310, 9317, 9318]\n",
      "Catchment Area Codes added in 2016:\n",
      "[105, 106, 107, 108, 109, 110, 111, 112, 2316, 4317, 7329, 9326, 9329, 9331, 9332, 9333]\n",
      "Catchment Area Codes removed in 2017:\n",
      "[1101, 1102, 1103, 1113, 1114, 1135, 1136, 1144, 1145, 1160, 1165, 1166, 1176, 1177, 1178, 1187, 1189, 1194, 1195, 9309, 9310, 9317, 9318]\n",
      "Catchment Area Codes added in 2017:\n",
      "[105, 106, 107, 108, 109, 110, 111, 112, 1107, 1108, 1109, 1115, 1116, 1117, 1118, 1119, 1124, 1125, 1126, 1127, 1128, 1129, 1137, 1138, 1139, 1146, 1147, 1148, 1149, 1150, 1151, 1152, 2316, 4317, 7329, 9119, 9120, 9326, 9329, 9331, 9332, 9333]\n",
      "Catchment Area Codes removed in 2018:\n",
      "[1101, 1102, 1103, 1113, 1114, 1135, 1136, 1144, 1145, 1160, 1165, 1166, 1176, 1177, 1178, 1187, 1189, 1194, 1195, 2102, 2104, 2107, 2108, 2111, 2112, 2113, 2114, 2115, 2116, 2117, 2118, 2119, 2120, 2121, 2201, 2202, 2203, 2204, 2205, 2206, 2207, 2208, 2210, 2211, 2212, 2213, 2214, 2301, 2302, 2303, 2304, 2305, 2306, 2307, 2308, 2309, 2310, 2311, 2312, 2313, 2314, 2501, 2502, 2503, 2504, 2505, 2506, 2507, 2508, 2509, 2510, 2511, 2512, 2601, 2602, 2603, 2604, 2605, 2606, 2607, 2608, 2609, 2610, 2611, 2612, 2613, 2614, 2615, 2616, 2618, 3101, 3102, 3103, 3104, 3105, 3106, 3107, 3108, 3109, 3110, 3111, 3112, 3113, 3114, 3115, 4101, 4102, 4103, 4104, 4105, 4106, 4107, 4108, 4109, 4110, 4111, 4112, 4113, 4114, 4115, 4116, 4201, 4202, 4203, 4204, 4205, 4207, 4209, 4210, 4211, 4212, 4213, 4214, 4301, 4302, 4303, 4308, 4309, 4310, 4311, 4312, 4313, 4315, 4316, 5401, 5402, 5403, 5404, 5406, 5408, 5409, 5410, 5411, 5412, 5413, 5414, 5415, 5418, 5419, 5420, 5421, 5422, 5423, 7201, 7202, 7203, 7204, 7205, 7206, 7207, 7208, 7209, 7210, 7211, 7212, 7213, 7214, 7215, 7216, 7301, 7304, 7305, 7306, 7307, 7308, 7310, 7311, 7312, 7313, 7314, 7315, 7317, 7318, 7319, 7320, 7321, 7322, 7323, 7325, 7326, 7327, 7328, 7401, 7402, 7403, 7404, 7405, 7406, 7407, 7408, 7409, 8201, 8202, 8203, 8204, 8205, 8206, 8207, 8208, 8209, 8210, 8211, 8212, 8213, 8214, 8215, 8216, 8217, 8219, 8220, 8221, 8226, 8227, 8228, 8230, 8231, 8232, 8235, 8236, 8240, 8241, 8242, 8243, 8244, 8245, 8246, 8247, 8248, 8249, 8301, 8302, 8303, 8304, 8305, 8307, 8308, 8309, 8310, 8311, 8312, 8313, 8314, 8315, 9101, 9102, 9103, 9104, 9105, 9106, 9107, 9108, 9109, 9110, 9111, 9112, 9113, 9114, 9115, 9116, 9117, 9118, 9309, 9310, 9317, 9318]\n",
      "Catchment Area Codes added in 2018:\n",
      "[105, 1107, 1108, 1109, 1115, 1116, 1117, 1118, 1119, 1124, 1125, 1126, 1127, 1128, 1129, 1137, 1138, 1139, 1146, 1147, 1148, 1149, 1150, 1151, 1152, 2701, 2702, 2703, 2704, 2705, 2706, 2707, 2708, 2709, 2710, 2711, 2712, 2713, 2714, 2715, 2716, 2718, 2719, 2720, 2721, 2726, 2727, 2728, 2729, 2730, 2731, 2733, 2734, 2735, 2801, 2802, 2803, 2804, 2805, 2806, 2807, 2808, 2809, 2810, 2811, 2812, 2813, 2814, 2816, 2817, 2818, 2819, 2820, 2821, 2822, 2823, 2824, 2825, 2826, 2827, 2828, 3201, 3202, 3203, 3204, 3205, 3206, 3207, 3208, 3210, 3211, 3212, 3213, 3214, 3216, 3217, 3218, 3219, 3220, 3221, 3222, 3223, 3224, 3225, 3226, 3227, 3228, 3229, 3230, 4402, 4404, 4407, 4408, 4411, 4412, 4413, 4414, 4415, 4416, 4417, 4418, 4419, 4420, 4421, 4422, 4423, 4424, 4425, 4426, 4427, 4428, 4429, 4430, 4431, 4432, 4433, 4434, 4435, 4436, 4437, 4438, 4439, 4440, 4441, 4442, 4444, 4446, 4447, 4448, 4449, 4450, 4451, 7501, 7502, 7503, 7504, 7506, 7508, 7509, 7510, 7511, 7512, 7513, 7514, 7515, 7518, 7519, 7520, 7521, 7522, 7523, 7524, 7525, 7526, 7527, 7528, 7529, 7530, 7531, 7532, 7533, 7534, 7535, 7536, 7537, 7538, 7539, 7540, 7541, 7542, 7543, 7544, 7545, 7546, 7547, 7548, 7601, 7604, 7605, 7606, 7607, 7608, 7610, 7611, 7612, 7613, 7614, 7615, 7617, 7618, 7619, 7620, 7621, 7622, 7623, 7625, 7626, 7627, 7628, 7629, 7630, 7631, 7632, 7633, 7634, 7635, 7636, 7637, 7638, 7639, 7640, 7641, 7642, 7643, 7644, 7645, 7646, 7647, 7648, 7649, 8401, 8402, 8403, 8404, 8405, 8406, 8407, 8408, 8409, 8410, 8411, 8412, 8413, 8414, 8415, 8416, 8417, 8419, 8420, 8421, 8426, 8427, 8428, 8430, 8431, 8432, 8435, 8436, 8437, 8438, 8439, 8440, 8441, 8442, 8443, 8444, 8445, 8446, 8447, 8448, 8449, 8450, 8451, 8453, 8454, 8455, 8456, 8457, 8458, 8459, 8460, 8461, 9326, 9329, 9331, 9332, 9333]\n"
     ]
    }
   ],
   "source": [
    "assert_all_the_same(bmo_df_dict, lambda df: set(df.CATCHMENT_AREA_CODE.tolist()), name='Catchment Area Codes')"
   ]
  },
  {
   "cell_type": "markdown",
   "metadata": {},
   "source": [
    "Ooops no, it looks like the subdivision of départements has changed between the years, therefore we are going to first aggregate data at the départements level:"
   ]
  },
  {
   "cell_type": "code",
   "execution_count": 16,
   "metadata": {},
   "outputs": [
    {
     "data": {
      "text/html": [
       "<div>\n",
       "<style scoped>\n",
       "    .dataframe tbody tr th:only-of-type {\n",
       "        vertical-align: middle;\n",
       "    }\n",
       "\n",
       "    .dataframe tbody tr th {\n",
       "        vertical-align: top;\n",
       "    }\n",
       "\n",
       "    .dataframe thead th {\n",
       "        text-align: right;\n",
       "    }\n",
       "</style>\n",
       "<table border=\"1\" class=\"dataframe\">\n",
       "  <thead>\n",
       "    <tr style=\"text-align: right;\">\n",
       "      <th></th>\n",
       "      <th>FAP_CODE</th>\n",
       "      <th>DEPARTEMENT_NAME</th>\n",
       "      <th>FAP_NAME</th>\n",
       "      <th>DEPARTEMENT_CODE</th>\n",
       "      <th>REGION_LIB</th>\n",
       "      <th>PROFESSION_FAMILY_NAME</th>\n",
       "      <th>REGION_CODE</th>\n",
       "      <th>year</th>\n",
       "      <th>PROFESSION_FAMILY_CODE</th>\n",
       "      <th>NB_DIFF_RECRUT_PROJECTS</th>\n",
       "      <th>NB_RECRUT_PROJECTS</th>\n",
       "      <th>NB_SEASON_RECRUT_PROJECTS</th>\n",
       "    </tr>\n",
       "  </thead>\n",
       "  <tbody>\n",
       "    <tr>\n",
       "      <th>0</th>\n",
       "      <td>A0Z40</td>\n",
       "      <td>AIN</td>\n",
       "      <td>Agriculteurs salariés (dont ouvriers agricoles...</td>\n",
       "      <td>01</td>\n",
       "      <td>RHONE-ALPES</td>\n",
       "      <td>Autres métiers</td>\n",
       "      <td>82</td>\n",
       "      <td>2014</td>\n",
       "      <td>Z</td>\n",
       "      <td>77.014690</td>\n",
       "      <td>181.432673</td>\n",
       "      <td>98.742183</td>\n",
       "    </tr>\n",
       "    <tr>\n",
       "      <th>1</th>\n",
       "      <td>A0Z40</td>\n",
       "      <td>AIN</td>\n",
       "      <td>Agriculteurs salariés, ouvriers agricoles</td>\n",
       "      <td>01</td>\n",
       "      <td>AUVERGNE-RHONE-ALPES</td>\n",
       "      <td>Autres métiers</td>\n",
       "      <td>84</td>\n",
       "      <td>2017</td>\n",
       "      <td>Z</td>\n",
       "      <td>90.000000</td>\n",
       "      <td>233.000000</td>\n",
       "      <td>158.000000</td>\n",
       "    </tr>\n",
       "    <tr>\n",
       "      <th>2</th>\n",
       "      <td>A0Z40</td>\n",
       "      <td>AIN</td>\n",
       "      <td>Agriculteurs salariés, ouvriers agricoles</td>\n",
       "      <td>01</td>\n",
       "      <td>AUVERGNE-RHONE-ALPES</td>\n",
       "      <td>Autres métiers</td>\n",
       "      <td>84</td>\n",
       "      <td>2018</td>\n",
       "      <td>Z</td>\n",
       "      <td>180.000000</td>\n",
       "      <td>230.000000</td>\n",
       "      <td>88.000000</td>\n",
       "    </tr>\n",
       "    <tr>\n",
       "      <th>3</th>\n",
       "      <td>A0Z40</td>\n",
       "      <td>AIN</td>\n",
       "      <td>Agriculteurs salariés, ouvriers agricoles</td>\n",
       "      <td>01</td>\n",
       "      <td>RHONE-ALPES</td>\n",
       "      <td>Autres métiers</td>\n",
       "      <td>82</td>\n",
       "      <td>2015</td>\n",
       "      <td>Z</td>\n",
       "      <td>91.974097</td>\n",
       "      <td>165.643586</td>\n",
       "      <td>142.851832</td>\n",
       "    </tr>\n",
       "    <tr>\n",
       "      <th>4</th>\n",
       "      <td>A0Z40</td>\n",
       "      <td>AIN</td>\n",
       "      <td>Agriculteurs salariés, ouvriers agricoles</td>\n",
       "      <td>01</td>\n",
       "      <td>RHONE-ALPES</td>\n",
       "      <td>Autres métiers</td>\n",
       "      <td>82</td>\n",
       "      <td>2016</td>\n",
       "      <td>Z</td>\n",
       "      <td>23.990000</td>\n",
       "      <td>105.960000</td>\n",
       "      <td>68.530000</td>\n",
       "    </tr>\n",
       "  </tbody>\n",
       "</table>\n",
       "</div>"
      ],
      "text/plain": [
       "  FAP_CODE DEPARTEMENT_NAME  \\\n",
       "0    A0Z40              AIN   \n",
       "1    A0Z40              AIN   \n",
       "2    A0Z40              AIN   \n",
       "3    A0Z40              AIN   \n",
       "4    A0Z40              AIN   \n",
       "\n",
       "                                            FAP_NAME DEPARTEMENT_CODE  \\\n",
       "0  Agriculteurs salariés (dont ouvriers agricoles...               01   \n",
       "1          Agriculteurs salariés, ouvriers agricoles               01   \n",
       "2          Agriculteurs salariés, ouvriers agricoles               01   \n",
       "3          Agriculteurs salariés, ouvriers agricoles               01   \n",
       "4          Agriculteurs salariés, ouvriers agricoles               01   \n",
       "\n",
       "             REGION_LIB PROFESSION_FAMILY_NAME  REGION_CODE  year  \\\n",
       "0           RHONE-ALPES         Autres métiers           82  2014   \n",
       "1  AUVERGNE-RHONE-ALPES         Autres métiers           84  2017   \n",
       "2  AUVERGNE-RHONE-ALPES         Autres métiers           84  2018   \n",
       "3           RHONE-ALPES         Autres métiers           82  2015   \n",
       "4           RHONE-ALPES         Autres métiers           82  2016   \n",
       "\n",
       "  PROFESSION_FAMILY_CODE  NB_DIFF_RECRUT_PROJECTS  NB_RECRUT_PROJECTS  \\\n",
       "0                      Z                77.014690          181.432673   \n",
       "1                      Z                90.000000          233.000000   \n",
       "2                      Z               180.000000          230.000000   \n",
       "3                      Z                91.974097          165.643586   \n",
       "4                      Z                23.990000          105.960000   \n",
       "\n",
       "   NB_SEASON_RECRUT_PROJECTS  \n",
       "0                  98.742183  \n",
       "1                 158.000000  \n",
       "2                  88.000000  \n",
       "3                 142.851832  \n",
       "4                  68.530000  "
      ]
     },
     "execution_count": 16,
     "metadata": {},
     "output_type": "execute_result"
    }
   ],
   "source": [
    "number_columns = ['NB_DIFF_RECRUT_PROJECTS', 'NB_RECRUT_PROJECTS', 'NB_SEASON_RECRUT_PROJECTS']\n",
    "columns = list(set(bmo_df.columns) - set(number_columns) - {'CATCHMENT_AREA_CODE', 'CATCHMENT_AREA_NAME'})\n",
    "bmo_df_by_departement = bmo_df.groupby(columns).sum()[number_columns].reset_index()\n",
    "bmo_df_by_departement.head()"
   ]
  },
  {
   "cell_type": "markdown",
   "metadata": {},
   "source": [
    "OK, now we can merge data per local market:"
   ]
  },
  {
   "cell_type": "code",
   "execution_count": 17,
   "metadata": {},
   "outputs": [],
   "source": [
    "bmo_evolution = bmo_df_by_departement[bmo_df_by_departement.year == 2018]\\\n",
    "    .merge(\n",
    "        bmo_df_by_departement[bmo_df_by_departement.year == 2017],\n",
    "        on=['DEPARTEMENT_CODE', 'FAP_CODE'], how='outer', suffixes=['_2018', '_2017'])\\\n",
    "    .merge(\n",
    "        bmo_df_by_departement[bmo_df_by_departement.year == 2016],\n",
    "        on=['DEPARTEMENT_CODE', 'FAP_CODE'], how='outer', suffixes=['', '_2016'])\\\n",
    "    .merge(\n",
    "        bmo_df_by_departement[bmo_df_by_departement.year == 2015],\n",
    "        on=['DEPARTEMENT_CODE', 'FAP_CODE'], how='outer', suffixes=['', '_2015'])\\\n",
    "    .merge(\n",
    "        bmo_df_by_departement[bmo_df_by_departement.year == 2014],\n",
    "        on=['DEPARTEMENT_CODE', 'FAP_CODE'], how='outer', suffixes=['', '_2014'])"
   ]
  },
  {
   "cell_type": "markdown",
   "metadata": {},
   "source": [
    "### Evolution by Département\n",
    "\n",
    "Show the distribution of hiring growth and volumes for départements: we do not expect to see any specific patterns, but this is a good way to have a glance to all départements at once."
   ]
  },
  {
   "cell_type": "code",
   "execution_count": 18,
   "metadata": {},
   "outputs": [
    {
     "data": {
      "image/png": "[encoded data removed]",
      "text/plain": [
       "<matplotlib.figure.Figure at 0x7f936cfdbda0>"
      ]
     },
     "metadata": {
      "image/png": {
       "height": 262,
       "width": 391
      }
     },
     "output_type": "display_data"
    }
   ],
   "source": [
    "bmo_per_departement = bmo_evolution.groupby(['DEPARTEMENT_CODE', 'DEPARTEMENT_NAME']).sum()\n",
    "bmo_per_departement['evolution_2018'] = bmo_per_departement.NB_RECRUT_PROJECTS_2018.div(bmo_per_departement.NB_RECRUT_PROJECTS_2017)\n",
    "bmo_per_departement['percent_evolution_2018'] = (bmo_per_departement.evolution_2018 - 1) * 100\n",
    "bmo_per_departement.plot(kind='scatter', x='NB_RECRUT_PROJECTS_2018', y='percent_evolution_2018');\n"
   ]
  },
  {
   "cell_type": "markdown",
   "metadata": {},
   "source": [
    "There are few outliers. Let's first check the départements with the most hiring to understand all the outliers on the right:"
   ]
  },
  {
   "cell_type": "code",
   "execution_count": 19,
   "metadata": {},
   "outputs": [
    {
     "data": {
      "text/html": [
       "<div>\n",
       "<style scoped>\n",
       "    .dataframe tbody tr th:only-of-type {\n",
       "        vertical-align: middle;\n",
       "    }\n",
       "\n",
       "    .dataframe tbody tr th {\n",
       "        vertical-align: top;\n",
       "    }\n",
       "\n",
       "    .dataframe thead th {\n",
       "        text-align: right;\n",
       "    }\n",
       "</style>\n",
       "<table border=\"1\" class=\"dataframe\">\n",
       "  <thead>\n",
       "    <tr style=\"text-align: right;\">\n",
       "      <th></th>\n",
       "      <th></th>\n",
       "      <th>percent_evolution_2018</th>\n",
       "      <th>NB_RECRUT_PROJECTS_2018</th>\n",
       "    </tr>\n",
       "    <tr>\n",
       "      <th>DEPARTEMENT_CODE</th>\n",
       "      <th>DEPARTEMENT_NAME</th>\n",
       "      <th></th>\n",
       "      <th></th>\n",
       "    </tr>\n",
       "  </thead>\n",
       "  <tbody>\n",
       "    <tr>\n",
       "      <th>75</th>\n",
       "      <th>PARIS</th>\n",
       "      <td>18.584912</td>\n",
       "      <td>142226.0</td>\n",
       "    </tr>\n",
       "    <tr>\n",
       "      <th>13</th>\n",
       "      <th>BOUCHES-DU-RHÔNE</th>\n",
       "      <td>8.437169</td>\n",
       "      <td>84067.0</td>\n",
       "    </tr>\n",
       "    <tr>\n",
       "      <th>69</th>\n",
       "      <th>RHÔNE</th>\n",
       "      <td>21.853762</td>\n",
       "      <td>81759.0</td>\n",
       "    </tr>\n",
       "    <tr>\n",
       "      <th>59</th>\n",
       "      <th>NORD</th>\n",
       "      <td>31.803262</td>\n",
       "      <td>79509.0</td>\n",
       "    </tr>\n",
       "    <tr>\n",
       "      <th>92</th>\n",
       "      <th>HAUTS-DE-SEINE</th>\n",
       "      <td>16.964538</td>\n",
       "      <td>78599.0</td>\n",
       "    </tr>\n",
       "    <tr>\n",
       "      <th>35</th>\n",
       "      <th>ILLE-ET-VILAINE</th>\n",
       "      <td>20.221163</td>\n",
       "      <td>67622.0</td>\n",
       "    </tr>\n",
       "    <tr>\n",
       "      <th>33</th>\n",
       "      <th>GIRONDE</th>\n",
       "      <td>17.143167</td>\n",
       "      <td>64861.0</td>\n",
       "    </tr>\n",
       "    <tr>\n",
       "      <th>06</th>\n",
       "      <th>ALPES-MARITIMES</th>\n",
       "      <td>23.105891</td>\n",
       "      <td>54920.0</td>\n",
       "    </tr>\n",
       "  </tbody>\n",
       "</table>\n",
       "</div>"
      ],
      "text/plain": [
       "                                   percent_evolution_2018  \\\n",
       "DEPARTEMENT_CODE DEPARTEMENT_NAME                           \n",
       "75               PARIS                          18.584912   \n",
       "13               BOUCHES-DU-RHÔNE                8.437169   \n",
       "69               RHÔNE                          21.853762   \n",
       "59               NORD                           31.803262   \n",
       "92               HAUTS-DE-SEINE                 16.964538   \n",
       "35               ILLE-ET-VILAINE                20.221163   \n",
       "33               GIRONDE                        17.143167   \n",
       "06               ALPES-MARITIMES                23.105891   \n",
       "\n",
       "                                   NB_RECRUT_PROJECTS_2018  \n",
       "DEPARTEMENT_CODE DEPARTEMENT_NAME                           \n",
       "75               PARIS                            142226.0  \n",
       "13               BOUCHES-DU-RHÔNE                  84067.0  \n",
       "69               RHÔNE                             81759.0  \n",
       "59               NORD                              79509.0  \n",
       "92               HAUTS-DE-SEINE                    78599.0  \n",
       "35               ILLE-ET-VILAINE                   67622.0  \n",
       "33               GIRONDE                           64861.0  \n",
       "06               ALPES-MARITIMES                   54920.0  "
      ]
     },
     "execution_count": 19,
     "metadata": {},
     "output_type": "execute_result"
    }
   ],
   "source": [
    "dimensions_2018 = ['percent_evolution_2018', 'NB_RECRUT_PROJECTS_2018']\n",
    "bmo_per_departement.sort_values('NB_RECRUT_PROJECTS_2018', ascending=False)[dimensions_2018].head(8)"
   ]
  },
  {
   "cell_type": "markdown",
   "metadata": {},
   "source": [
    "Obviously Paris is way bigger than the rest but still has a very strong evolution (+18.6%). The other ones are all in large cities and metropolitan areas which correlates the [France Stratégie report](http://www.strategie.gouv.fr/publications/dynamique-de-lemploi-metropoles-territoires-avoisinants).\n",
    "\n",
    "Now let's check the extreme changes:"
   ]
  },
  {
   "cell_type": "code",
   "execution_count": 20,
   "metadata": {},
   "outputs": [
    {
     "data": {
      "text/html": [
       "<div>\n",
       "<style scoped>\n",
       "    .dataframe tbody tr th:only-of-type {\n",
       "        vertical-align: middle;\n",
       "    }\n",
       "\n",
       "    .dataframe tbody tr th {\n",
       "        vertical-align: top;\n",
       "    }\n",
       "\n",
       "    .dataframe thead th {\n",
       "        text-align: right;\n",
       "    }\n",
       "</style>\n",
       "<table border=\"1\" class=\"dataframe\">\n",
       "  <thead>\n",
       "    <tr style=\"text-align: right;\">\n",
       "      <th></th>\n",
       "      <th></th>\n",
       "      <th>percent_evolution_2018</th>\n",
       "      <th>NB_RECRUT_PROJECTS_2018</th>\n",
       "    </tr>\n",
       "    <tr>\n",
       "      <th>DEPARTEMENT_CODE</th>\n",
       "      <th>DEPARTEMENT_NAME</th>\n",
       "      <th></th>\n",
       "      <th></th>\n",
       "    </tr>\n",
       "  </thead>\n",
       "  <tbody>\n",
       "    <tr>\n",
       "      <th>53</th>\n",
       "      <th>MAYENNE</th>\n",
       "      <td>40.795328</td>\n",
       "      <td>10126.0</td>\n",
       "    </tr>\n",
       "    <tr>\n",
       "      <th>50</th>\n",
       "      <th>MANCHE</th>\n",
       "      <td>36.272615</td>\n",
       "      <td>15516.0</td>\n",
       "    </tr>\n",
       "    <tr>\n",
       "      <th>16</th>\n",
       "      <th>CHARENTE</th>\n",
       "      <td>36.081144</td>\n",
       "      <td>11605.0</td>\n",
       "    </tr>\n",
       "    <tr>\n",
       "      <th>23</th>\n",
       "      <th>CREUSE</th>\n",
       "      <td>35.079459</td>\n",
       "      <td>2295.0</td>\n",
       "    </tr>\n",
       "    <tr>\n",
       "      <th>52</th>\n",
       "      <th>HAUTE-MARNE</th>\n",
       "      <td>34.768101</td>\n",
       "      <td>4039.0</td>\n",
       "    </tr>\n",
       "  </tbody>\n",
       "</table>\n",
       "</div>"
      ],
      "text/plain": [
       "                                   percent_evolution_2018  \\\n",
       "DEPARTEMENT_CODE DEPARTEMENT_NAME                           \n",
       "53               MAYENNE                        40.795328   \n",
       "50               MANCHE                         36.272615   \n",
       "16               CHARENTE                       36.081144   \n",
       "23               CREUSE                         35.079459   \n",
       "52               HAUTE-MARNE                    34.768101   \n",
       "\n",
       "                                   NB_RECRUT_PROJECTS_2018  \n",
       "DEPARTEMENT_CODE DEPARTEMENT_NAME                           \n",
       "53               MAYENNE                           10126.0  \n",
       "50               MANCHE                            15516.0  \n",
       "16               CHARENTE                          11605.0  \n",
       "23               CREUSE                             2295.0  \n",
       "52               HAUTE-MARNE                        4039.0  "
      ]
     },
     "metadata": {},
     "output_type": "display_data"
    },
    {
     "data": {
      "text/html": [
       "<div>\n",
       "<style scoped>\n",
       "    .dataframe tbody tr th:only-of-type {\n",
       "        vertical-align: middle;\n",
       "    }\n",
       "\n",
       "    .dataframe tbody tr th {\n",
       "        vertical-align: top;\n",
       "    }\n",
       "\n",
       "    .dataframe thead th {\n",
       "        text-align: right;\n",
       "    }\n",
       "</style>\n",
       "<table border=\"1\" class=\"dataframe\">\n",
       "  <thead>\n",
       "    <tr style=\"text-align: right;\">\n",
       "      <th></th>\n",
       "      <th></th>\n",
       "      <th>percent_evolution_2018</th>\n",
       "      <th>NB_RECRUT_PROJECTS_2018</th>\n",
       "    </tr>\n",
       "    <tr>\n",
       "      <th>DEPARTEMENT_CODE</th>\n",
       "      <th>DEPARTEMENT_NAME</th>\n",
       "      <th></th>\n",
       "      <th></th>\n",
       "    </tr>\n",
       "  </thead>\n",
       "  <tbody>\n",
       "    <tr>\n",
       "      <th>89</th>\n",
       "      <th>YONNE</th>\n",
       "      <td>-1.332149</td>\n",
       "      <td>7777.0</td>\n",
       "    </tr>\n",
       "    <tr>\n",
       "      <th>58</th>\n",
       "      <th>NIÈVRE</th>\n",
       "      <td>-8.207527</td>\n",
       "      <td>4317.0</td>\n",
       "    </tr>\n",
       "    <tr>\n",
       "      <th>39</th>\n",
       "      <th>JURA</th>\n",
       "      <td>-8.415435</td>\n",
       "      <td>6693.0</td>\n",
       "    </tr>\n",
       "    <tr>\n",
       "      <th>973</th>\n",
       "      <th>MARTINIQUE</th>\n",
       "      <td>-10.297857</td>\n",
       "      <td>4939.0</td>\n",
       "    </tr>\n",
       "    <tr>\n",
       "      <th>971</th>\n",
       "      <th>GUADELOUPE</th>\n",
       "      <td>-12.550710</td>\n",
       "      <td>10347.0</td>\n",
       "    </tr>\n",
       "  </tbody>\n",
       "</table>\n",
       "</div>"
      ],
      "text/plain": [
       "                                   percent_evolution_2018  \\\n",
       "DEPARTEMENT_CODE DEPARTEMENT_NAME                           \n",
       "89               YONNE                          -1.332149   \n",
       "58               NIÈVRE                         -8.207527   \n",
       "39               JURA                           -8.415435   \n",
       "973              MARTINIQUE                    -10.297857   \n",
       "971              GUADELOUPE                    -12.550710   \n",
       "\n",
       "                                   NB_RECRUT_PROJECTS_2018  \n",
       "DEPARTEMENT_CODE DEPARTEMENT_NAME                           \n",
       "89               YONNE                              7777.0  \n",
       "58               NIÈVRE                             4317.0  \n",
       "39               JURA                               6693.0  \n",
       "973              MARTINIQUE                         4939.0  \n",
       "971              GUADELOUPE                        10347.0  "
      ]
     },
     "execution_count": 20,
     "metadata": {},
     "output_type": "execute_result"
    }
   ],
   "source": [
    "extreme_changes_2018 = bmo_per_departement.sort_values('percent_evolution_2018', ascending=False)\\\n",
    "    [dimensions_2018]\n",
    "display(extreme_changes_2018.head())\n",
    "extreme_changes_2018.tail()"
   ]
  },
  {
   "cell_type": "markdown",
   "metadata": {},
   "source": [
    "Nice, a lot of départements ~1h30 train away from Paris are growing a lot (although they might have had a bad year in 2017). On the bottom, we find some DOM départements again. This is a bit depressing to see that the situation that is not good is getting even worse. :-(\n",
    "\n",
    "### Evolution by Job Family\n",
    "\n",
    "Show the distribution of hiring growth and volumes for job families:"
   ]
  },
  {
   "cell_type": "code",
   "execution_count": 21,
   "metadata": {},
   "outputs": [
    {
     "data": {
      "image/png": "[encoded data removed]",
      "text/plain": [
       "<matplotlib.figure.Figure at 0x7f936cc3eda0>"
      ]
     },
     "metadata": {
      "image/png": {
       "height": 262,
       "width": 391
      }
     },
     "output_type": "display_data"
    }
   ],
   "source": [
    "bmo_per_fap = bmo_evolution.groupby(['FAP_CODE', 'FAP_NAME']).sum()\n",
    "bmo_per_fap['evolution_2018'] = bmo_per_fap.NB_RECRUT_PROJECTS_2018.div(bmo_per_fap.NB_RECRUT_PROJECTS_2017)\n",
    "bmo_per_fap['percent_evolution_2018'] = (bmo_per_fap.evolution_2018 - 1) * 100\n",
    "bmo_per_fap.plot(kind='scatter', x='NB_RECRUT_PROJECTS_2018', y='percent_evolution_2018');"
   ]
  },
  {
   "cell_type": "markdown",
   "metadata": {},
   "source": [
    "A first conclusion is that only job families with few hiring have huge evolutions. However let's look at the job family that got +150%."
   ]
  },
  {
   "cell_type": "code",
   "execution_count": 22,
   "metadata": {},
   "outputs": [
    {
     "data": {
      "text/html": [
       "<div>\n",
       "<style scoped>\n",
       "    .dataframe tbody tr th:only-of-type {\n",
       "        vertical-align: middle;\n",
       "    }\n",
       "\n",
       "    .dataframe tbody tr th {\n",
       "        vertical-align: top;\n",
       "    }\n",
       "\n",
       "    .dataframe thead th {\n",
       "        text-align: right;\n",
       "    }\n",
       "</style>\n",
       "<table border=\"1\" class=\"dataframe\">\n",
       "  <thead>\n",
       "    <tr style=\"text-align: right;\">\n",
       "      <th></th>\n",
       "      <th></th>\n",
       "      <th>percent_evolution_2018</th>\n",
       "      <th>NB_RECRUT_PROJECTS_2018</th>\n",
       "    </tr>\n",
       "    <tr>\n",
       "      <th>FAP_CODE</th>\n",
       "      <th>FAP_NAME</th>\n",
       "      <th></th>\n",
       "      <th></th>\n",
       "    </tr>\n",
       "  </thead>\n",
       "  <tbody>\n",
       "    <tr>\n",
       "      <th>G0A42</th>\n",
       "      <th>Mainteniciens en biens électrodomestiques</th>\n",
       "      <td>152.103560</td>\n",
       "      <td>779.0</td>\n",
       "    </tr>\n",
       "    <tr>\n",
       "      <th>E0Z22</th>\n",
       "      <th>Ouvriers non qualifiés en métallurgie, verre, céramique et matériaux de construction</th>\n",
       "      <td>99.802176</td>\n",
       "      <td>2020.0</td>\n",
       "    </tr>\n",
       "    <tr>\n",
       "      <th>D0Z20</th>\n",
       "      <th>Ouvriers non qualifiés travaillant par enlèvement ou formage de métal</th>\n",
       "      <td>83.943834</td>\n",
       "      <td>9039.0</td>\n",
       "    </tr>\n",
       "    <tr>\n",
       "      <th>J6Z91</th>\n",
       "      <th>Personnels navigants de l'aviation (techniques et commerciaux)</th>\n",
       "      <td>78.534031</td>\n",
       "      <td>341.0</td>\n",
       "    </tr>\n",
       "    <tr>\n",
       "      <th>C2Z71</th>\n",
       "      <th>Dessinateurs en électricité et en électronique</th>\n",
       "      <td>74.693878</td>\n",
       "      <td>428.0</td>\n",
       "    </tr>\n",
       "  </tbody>\n",
       "</table>\n",
       "</div>"
      ],
      "text/plain": [
       "                                                             percent_evolution_2018  \\\n",
       "FAP_CODE FAP_NAME                                                                     \n",
       "G0A42    Mainteniciens en biens électrodomestiques                       152.103560   \n",
       "E0Z22    Ouvriers non qualifiés en métallurgie, verre, c...               99.802176   \n",
       "D0Z20    Ouvriers non qualifiés travaillant par enlèveme...               83.943834   \n",
       "J6Z91    Personnels navigants de l'aviation (techniques ...               78.534031   \n",
       "C2Z71    Dessinateurs en électricité et en électronique                   74.693878   \n",
       "\n",
       "                                                             NB_RECRUT_PROJECTS_2018  \n",
       "FAP_CODE FAP_NAME                                                                     \n",
       "G0A42    Mainteniciens en biens électrodomestiques                             779.0  \n",
       "E0Z22    Ouvriers non qualifiés en métallurgie, verre, c...                   2020.0  \n",
       "D0Z20    Ouvriers non qualifiés travaillant par enlèveme...                   9039.0  \n",
       "J6Z91    Personnels navigants de l'aviation (techniques ...                    341.0  \n",
       "C2Z71    Dessinateurs en électricité et en électronique                        428.0  "
      ]
     },
     "execution_count": 22,
     "metadata": {},
     "output_type": "execute_result"
    }
   ],
   "source": [
    "bmo_per_fap.sort_values('percent_evolution_2018', ascending=False)[dimensions_2018].head()"
   ]
  },
  {
   "cell_type": "markdown",
   "metadata": {},
   "source": [
    "So \"domotics\" is a real hype in 2018…\n",
    "\n",
    "Let's check the distribution again only focusing on job families with more than 20k hires in the year:"
   ]
  },
  {
   "cell_type": "code",
   "execution_count": 23,
   "metadata": {},
   "outputs": [
    {
     "data": {
      "image/png": "[encoded data removed]",
      "text/plain": [
       "<matplotlib.figure.Figure at 0x7f936cb9d978>"
      ]
     },
     "metadata": {
      "image/png": {
       "height": 262,
       "width": 383
      }
     },
     "output_type": "display_data"
    }
   ],
   "source": [
    "bmo_per_large_fap = bmo_per_fap[bmo_per_fap.NB_RECRUT_PROJECTS_2018 >= 20000]\n",
    "bmo_per_large_fap.plot(kind='scatter', x='NB_RECRUT_PROJECTS_2018', y='percent_evolution_2018');"
   ]
  },
  {
   "cell_type": "markdown",
   "metadata": {},
   "source": [
    "That looks reasonnable, let's check top growth:"
   ]
  },
  {
   "cell_type": "code",
   "execution_count": 24,
   "metadata": {},
   "outputs": [
    {
     "data": {
      "text/html": [
       "<div>\n",
       "<style scoped>\n",
       "    .dataframe tbody tr th:only-of-type {\n",
       "        vertical-align: middle;\n",
       "    }\n",
       "\n",
       "    .dataframe tbody tr th {\n",
       "        vertical-align: top;\n",
       "    }\n",
       "\n",
       "    .dataframe thead th {\n",
       "        text-align: right;\n",
       "    }\n",
       "</style>\n",
       "<table border=\"1\" class=\"dataframe\">\n",
       "  <thead>\n",
       "    <tr style=\"text-align: right;\">\n",
       "      <th></th>\n",
       "      <th></th>\n",
       "      <th>percent_evolution_2018</th>\n",
       "      <th>NB_RECRUT_PROJECTS_2018</th>\n",
       "    </tr>\n",
       "    <tr>\n",
       "      <th>FAP_CODE</th>\n",
       "      <th>FAP_NAME</th>\n",
       "      <th></th>\n",
       "      <th></th>\n",
       "    </tr>\n",
       "  </thead>\n",
       "  <tbody>\n",
       "    <tr>\n",
       "      <th>J3Z43</th>\n",
       "      <th>Conducteurs routiers et grands routiers</th>\n",
       "      <td>51.811831</td>\n",
       "      <td>30206.0</td>\n",
       "    </tr>\n",
       "    <tr>\n",
       "      <th>R0Z60</th>\n",
       "      <th>Employés de libre-service</th>\n",
       "      <td>47.105533</td>\n",
       "      <td>58726.0</td>\n",
       "    </tr>\n",
       "    <tr>\n",
       "      <th>B3Z20</th>\n",
       "      <th>Ouvriers non qualifiés du second oeuvre du bâtiment</th>\n",
       "      <td>32.519596</td>\n",
       "      <td>22148.0</td>\n",
       "    </tr>\n",
       "    <tr>\n",
       "      <th>J3Z42</th>\n",
       "      <th>Conducteurs et livreurs sur courte distance</th>\n",
       "      <td>27.501587</td>\n",
       "      <td>30135.0</td>\n",
       "    </tr>\n",
       "    <tr>\n",
       "      <th>M2Z90</th>\n",
       "      <th>Ingénieurs et cadres d'études, R et D en informatique, chefs de projets informatiques</th>\n",
       "      <td>27.233455</td>\n",
       "      <td>42412.0</td>\n",
       "    </tr>\n",
       "  </tbody>\n",
       "</table>\n",
       "</div>"
      ],
      "text/plain": [
       "                                                             percent_evolution_2018  \\\n",
       "FAP_CODE FAP_NAME                                                                     \n",
       "J3Z43    Conducteurs routiers et grands routiers                          51.811831   \n",
       "R0Z60    Employés de libre-service                                        47.105533   \n",
       "B3Z20    Ouvriers non qualifiés du second oeuvre du bâti...               32.519596   \n",
       "J3Z42    Conducteurs et livreurs sur courte distance                      27.501587   \n",
       "M2Z90    Ingénieurs et cadres d'études, R et D en inform...               27.233455   \n",
       "\n",
       "                                                             NB_RECRUT_PROJECTS_2018  \n",
       "FAP_CODE FAP_NAME                                                                     \n",
       "J3Z43    Conducteurs routiers et grands routiers                             30206.0  \n",
       "R0Z60    Employés de libre-service                                           58726.0  \n",
       "B3Z20    Ouvriers non qualifiés du second oeuvre du bâti...                  22148.0  \n",
       "J3Z42    Conducteurs et livreurs sur courte distance                         30135.0  \n",
       "M2Z90    Ingénieurs et cadres d'études, R et D en inform...                  42412.0  "
      ]
     },
     "execution_count": 24,
     "metadata": {},
     "output_type": "execute_result"
    }
   ],
   "source": [
    "bmo_per_large_fap.sort_values('percent_evolution_2018', ascending=False)[dimensions_2018].head()"
   ]
  },
  {
   "cell_type": "markdown",
   "metadata": {},
   "source": [
    "It looks like drivers are not a things of the past yet…\n",
    "\n",
    "## Conclusion\n",
    "\n",
    "So BMO 2018 data looks pretty good and after a quick clean-up we were able to compare it with the previous years (2014, 2015, 2016 & 2017).\n",
    "\n",
    "Some high level insights can be deduced from comparing these datasets. For instance, hiring is in really good shape in Paris, and in main metropolitan areas. Also hiring is going really well for transportation drivers as well as, ironically, self-service shops.\n",
    "\n",
    "Possible next steps:\n",
    "* compare 2017 -> 2018 evolution with the evolution from 2016 -> 2017.\n",
    "* go more local and understand at the \"bassin d'emploi\" level the local dynamics. E.g. find where a local decrease is compensated by a local increase next door so that we could advise our users to commute a bit more.\n",
    "* compare flux and stock: the BMO is mixing new hires and replacements, but if we had a dataset with the number of currently employed persons we could distinguish local markets that are booming, and the ones that are becoming less stable (more hiring, but more firing as well)."
   ]
  }
 ],
 "metadata": {
  "kernelspec": {
   "display_name": "Python 3",
   "language": "python",
   "name": "python3"
  },
  "language_info": {
   "codemirror_mode": {
    "name": "ipython",
    "version": 3
   },
   "file_extension": ".py",
   "mimetype": "text/x-python",
   "name": "python",
   "nbconvert_exporter": "python",
   "pygments_lexer": "ipython3",
   "version": "3.6.5"
  }
 },
 "nbformat": 4,
 "nbformat_minor": 1
}
