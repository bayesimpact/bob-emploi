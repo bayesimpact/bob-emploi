{
 "cells": [
  {
   "cell_type": "markdown",
   "metadata": {},
   "source": [
    "Author: Pascal, `pascal@bayesimpact.org`\n",
    "\n",
    "Updated: `2018-02-11`\n",
    "\n",
    "# BMO across Years\n",
    "\n",
    "BMO means \"Besoin en Main d'Oeuvre\" and analyzes the working force needed (it is done by calling employers all over France). It's done once per year. See the [official website](http://bmo.pole-emploi.org/) for more details.\n",
    "\n",
    "In Bob Emploi we want to display BMO data useful for the user. One way we want to show some context is to give the values for several years. Before doing that we want to make sure that no user would get surprised by the data for their specific case."
   ]
  },
  {
   "cell_type": "code",
   "execution_count": 1,
   "metadata": {},
   "outputs": [
    {
     "data": {
      "text/plain": [
       "[2014, 2015, 2016, 2017]"
      ]
     },
     "execution_count": 1,
     "metadata": {},
     "output_type": "execute_result"
    }
   ],
   "source": [
    "import glob\n",
    "import os\n",
    "from os import path\n",
    "import re\n",
    "\n",
    "import pandas\n",
    "import seaborn as _\n",
    "\n",
    "bmo_file_names = glob.glob(path.join(os.getenv('DATA_FOLDER'), 'bmo/bmo_*'))\n",
    "bmo_df_dict = {}\n",
    "for bmo_file_name in sorted(bmo_file_names):\n",
    "    df = pandas.read_csv(bmo_file_name, dtype={'DEPARTEMENT_CODE': str})\n",
    "    year = int(re.search(r'\\d+', bmo_file_name).group())\n",
    "    df['year'] = year\n",
    "    bmo_df_dict[year] = df\n",
    "    \n",
    "sorted(bmo_df_dict.keys())"
   ]
  },
  {
   "cell_type": "markdown",
   "metadata": {},
   "source": [
    "Check that all the CSV files have the same structure."
   ]
  },
  {
   "cell_type": "code",
   "execution_count": 2,
   "metadata": {},
   "outputs": [
    {
     "name": "stdout",
     "output_type": "stream",
     "text": [
      "Columns removed in 2015:\n",
      "['ROME_PROFESSION_CARD_CODE', 'ROME_PROFESSION_CARD_NAME']\n",
      "Columns added in 2015:\n",
      "['FAP_CODE', 'FAP_NAME']\n",
      "Columns removed in 2016:\n",
      "['ROME_PROFESSION_CARD_CODE', 'ROME_PROFESSION_CARD_NAME']\n",
      "Columns added in 2016:\n",
      "['FAP_CODE', 'FAP_NAME']\n",
      "Columns removed in 2017:\n",
      "['ROME_PROFESSION_CARD_CODE', 'ROME_PROFESSION_CARD_NAME']\n",
      "Columns added in 2017:\n",
      "['FAP_CODE', 'FAP_NAME']\n"
     ]
    }
   ],
   "source": [
    "def assert_all_the_same(dataframes, select_data_func, name='Values'):\n",
    "    first = None\n",
    "    for key, df in sorted(dataframes.items(), key=lambda kv: kv[0]):\n",
    "        if first is None:\n",
    "            first = select_data_func(df)\n",
    "            continue\n",
    "        other = select_data_func(df)\n",
    "        if first - other:\n",
    "            print('{} removed in {}:\\n{}'.format(name, key, sorted(first - other)))\n",
    "        if other - first:\n",
    "            print('{} added in {}:\\n{}'.format(name, key, sorted(other - first)))\n",
    "\n",
    "assert_all_the_same(bmo_df_dict, lambda df: set(df.columns), name='Columns')"
   ]
  },
  {
   "cell_type": "markdown",
   "metadata": {},
   "source": [
    "Hmm, this is fishy, why would the BMO be by ROME? Let's check the values:"
   ]
  },
  {
   "cell_type": "code",
   "execution_count": 3,
   "metadata": {},
   "outputs": [
    {
     "data": {
      "text/plain": [
       "array(['A0Z40', 'A0Z41', 'Q2Z90', 'V2Z91', 'R4Z93', 'D2Z41', 'A0Z42',\n",
       "       'A1Z40', 'U1Z81', 'A0Z43', 'V2Z90', 'B6Z70', 'A1Z41', 'D1Z40',\n",
       "       'L1Z60', 'A1Z42', 'A2Z90', 'A3Z40', 'B2Z40', 'A2Z70', 'A3Z41',\n",
       "       'A3Z90', 'B0Z20', 'B0Z21', 'B2Z43', 'B2Z44', 'D2Z42', 'B1Z40',\n",
       "       'V2Z93', 'E1Z42', 'W0Z80', 'Q2Z91', 'B2Z41', 'B2Z42', 'B4Z41',\n",
       "       'B3Z20', 'B6Z72', 'M2Z92', 'B4Z44', 'B6Z71', 'B4Z43', 'G1Z80',\n",
       "       'B7Z91', 'B4Z42', 'B5Z40', 'C0Z20', 'D0Z20', 'B6Z73', 'D4Z41',\n",
       "       'D6Z70', 'G0B40', 'U0Z80', 'D2Z40', 'B7Z90', 'C2Z70', 'D3Z20',\n",
       "       'C1Z40', 'H0Z91', 'J3Z43', 'D1Z41', 'C2Z71', 'C2Z80', 'E1Z41',\n",
       "       'E0Z20', 'D6Z80', 'E0Z22', 'E0Z23', 'E0Z24', 'E0Z21', 'E1Z43',\n",
       "       'G0A40', 'D6Z71', 'L2Z60', 'D4Z40', 'F3Z41', 'E1Z40', 'E2Z80',\n",
       "       'F0Z20', 'E1Z46', 'E1Z47', 'F4Z20', 'G0A41', 'E2Z70', 'F1Z41',\n",
       "       'F4Z41', 'F1Z40', 'F5Z70', 'F2Z20', 'E1Z44', 'G0A42', 'G0B41',\n",
       "       'H0Z92', 'G0A43', 'G1Z70', 'M0Z60', 'L2Z61', 'L5Z90', 'L3Z80',\n",
       "       'H0Z90', 'J0Z20', 'G1Z71', 'J1Z40', 'J3Z40', 'J3Z42', 'R2Z83',\n",
       "       'J3Z44', 'K0Z20', 'J3Z41', 'J4Z40', 'L0Z60', 'J1Z80', 'M2Z90',\n",
       "       'J5Z80', 'J5Z60', 'N0Z90', 'Q0Z60', 'J6Z90', 'J6Z91', 'J5Z62',\n",
       "       'J6Z92', 'M1Z80', 'J5Z61', 'R0Z61', 'J4Z60', 'L4Z80', 'J4Z80',\n",
       "       'K0Z40', 'R1Z60', 'L5Z92', 'M1Z81', 'L4Z81', 'L6Z90', 'Q1Z80',\n",
       "       'R0Z60', 'L5Z91', 'Q1Z81', 'R4Z90', 'S3Z90', 'T2B60', 'T3Z61',\n",
       "       'R1Z61', 'M2Z91', 'N0Z91', 'S2Z81', 'P3Z90', 'R4Z92', 'T0Z60',\n",
       "       'R1Z62', 'R1Z67', 'R4Z91', 'S0Z40', 'U0Z81', 'R3Z80', 'R2Z80',\n",
       "       'S0Z20', 'R1Z66', 'R1Z63', 'S1Z20', 'T4Z61', 'S0Z42', 'R3Z82',\n",
       "       'T2A60', 'T3Z60', 'S1Z40', 'S0Z41', 'U0Z90', 'V3Z70', 'U1Z80',\n",
       "       'S1Z80', 'S2Z60', 'S2Z61', 'S2Z80', 'T4Z60', 'T6Z61', 'T1Z60',\n",
       "       'U0Z91', 'T4Z62', 'U1Z91', 'V0Z60', 'V3Z71', 'V3Z90', 'U1Z82',\n",
       "       'V4Z80', 'U0Z92', 'U1Z92', 'U1Z93', 'V2Z92', 'V3Z80', 'V1Z80',\n",
       "       'V4Z83', 'V1Z81', 'W0Z92', 'V5Z81', 'V5Z82', 'V5Z84', 'V4Z85',\n",
       "       'W1Z80', 'W0Z90', 'W0Z91'], dtype=object)"
      ]
     },
     "execution_count": 3,
     "metadata": {},
     "output_type": "execute_result"
    }
   ],
   "source": [
    "bmo_df_dict[2014].ROME_PROFESSION_CARD_CODE.unique()"
   ]
  },
  {
   "cell_type": "markdown",
   "metadata": {},
   "source": [
    "OK, those are actually the FAP code, so we only need some columns renaming."
   ]
  },
  {
   "cell_type": "code",
   "execution_count": 4,
   "metadata": {},
   "outputs": [],
   "source": [
    "for df in bmo_df_dict.values():\n",
    "    df.rename(columns={\n",
    "            'ROME_PROFESSION_CARD_CODE': 'FAP_CODE',\n",
    "            'ROME_PROFESSION_CARD_NAME': 'FAP_NAME',\n",
    "        }, inplace=True)\n",
    "assert_all_the_same(bmo_df_dict, lambda df: set(df.columns), name='Columns')"
   ]
  },
  {
   "cell_type": "markdown",
   "metadata": {},
   "source": [
    "Let's check the column types:"
   ]
  },
  {
   "cell_type": "code",
   "execution_count": 5,
   "metadata": {},
   "outputs": [
    {
     "name": "stdout",
     "output_type": "stream",
     "text": [
      "Column Type for NB_DIFF_RECRUT_PROJECTS removed in 2015:\n",
      "[dtype('O')]\n",
      "Column Type for NB_DIFF_RECRUT_PROJECTS added in 2015:\n",
      "[dtype('float64')]\n",
      "Column Type for NB_DIFF_RECRUT_PROJECTS removed in 2016:\n",
      "[dtype('O')]\n",
      "Column Type for NB_DIFF_RECRUT_PROJECTS added in 2016:\n",
      "[dtype('float64')]\n",
      "Column Type for NB_RECRUT_PROJECTS removed in 2015:\n",
      "[dtype('O')]\n",
      "Column Type for NB_RECRUT_PROJECTS added in 2015:\n",
      "[dtype('float64')]\n",
      "Column Type for NB_RECRUT_PROJECTS removed in 2016:\n",
      "[dtype('O')]\n",
      "Column Type for NB_RECRUT_PROJECTS added in 2016:\n",
      "[dtype('float64')]\n",
      "Column Type for NB_SEASON_RECRUT_PROJECTS removed in 2015:\n",
      "[dtype('O')]\n",
      "Column Type for NB_SEASON_RECRUT_PROJECTS added in 2015:\n",
      "[dtype('float64')]\n",
      "Column Type for NB_SEASON_RECRUT_PROJECTS removed in 2016:\n",
      "[dtype('O')]\n",
      "Column Type for NB_SEASON_RECRUT_PROJECTS added in 2016:\n",
      "[dtype('float64')]\n"
     ]
    }
   ],
   "source": [
    "for column in bmo_df_dict[2017].columns:\n",
    "    assert_all_the_same(\n",
    "        bmo_df_dict,\n",
    "        lambda df: set([df.dtypes[column]]),\n",
    "        name='Column Type for {}'.format(column))"
   ]
  },
  {
   "cell_type": "markdown",
   "metadata": {},
   "source": [
    "Ouch, those numbers should all be floats not objects. Let's check some values:"
   ]
  },
  {
   "cell_type": "code",
   "execution_count": 6,
   "metadata": {},
   "outputs": [
    {
     "data": {
      "text/plain": [
       "0    39,27177888\n",
       "1    97,19287631\n",
       "2             85\n",
       "3    152,0641712\n",
       "4    170,6651188\n",
       "Name: NB_RECRUT_PROJECTS, dtype: object"
      ]
     },
     "execution_count": 6,
     "metadata": {},
     "output_type": "execute_result"
    }
   ],
   "source": [
    "bmo_df_dict[2014].NB_RECRUT_PROJECTS.head()"
   ]
  },
  {
   "cell_type": "code",
   "execution_count": 7,
   "metadata": {},
   "outputs": [
    {
     "data": {
      "text/plain": [
       "0     39.271779\n",
       "1     97.192876\n",
       "2     85.000000\n",
       "3    152.064171\n",
       "4    170.665119\n",
       "Name: NB_RECRUT_PROJECTS, dtype: float64"
      ]
     },
     "execution_count": 7,
     "metadata": {},
     "output_type": "execute_result"
    }
   ],
   "source": [
    "for field in ('NB_RECRUT_PROJECTS', 'NB_DIFF_RECRUT_PROJECTS', 'NB_SEASON_RECRUT_PROJECTS'):\n",
    "    for bmo_df in bmo_df_dict.values():\n",
    "        bmo_df[field] = bmo_df[field].astype(str)\\\n",
    "            .str.replace(',', '.')\\\n",
    "            .str.replace(' ', '')\\\n",
    "            .replace('-', '0')\\\n",
    "            .astype(float)\n",
    "bmo_df_dict[2014].NB_RECRUT_PROJECTS.head()"
   ]
  },
  {
   "cell_type": "markdown",
   "metadata": {},
   "source": [
    "After this cleanup, let's check again if the column types are consistant."
   ]
  },
  {
   "cell_type": "code",
   "execution_count": 8,
   "metadata": {},
   "outputs": [],
   "source": [
    "for column in bmo_df_dict[2017].columns:\n",
    "    assert_all_the_same(\n",
    "        bmo_df_dict,\n",
    "        lambda df: set([df.dtypes[column]]),\n",
    "        name='Column Type for {}'.format(column))"
   ]
  },
  {
   "cell_type": "markdown",
   "metadata": {},
   "source": [
    "Cool, now column types are the same for each year.\n",
    "\n",
    "Let's check if we have the same values in key fields, and do some point checks that were known to fail in previous versions:"
   ]
  },
  {
   "cell_type": "code",
   "execution_count": 9,
   "metadata": {},
   "outputs": [
    {
     "name": "stdout",
     "output_type": "stream",
     "text": [
      "Departement Codes removed in 2015:\n",
      "['1', '2', '3', '4', '5', '6', '7', '8', '9']\n",
      "Departement Codes added in 2015:\n",
      "['01', '02', '03', '04', '05', '06', '07', '08', '09']\n",
      "Departement Codes removed in 2017:\n",
      "['1', '2', '3', '4', '5', '6', '7', '8', '9']\n",
      "Departement Codes added in 2017:\n",
      "['01', '02', '03', '04', '05', '06', '07', '08', '09']\n",
      "Département 01 is missing.\n"
     ]
    }
   ],
   "source": [
    "assert_all_the_same(bmo_df_dict, lambda df: set(df.FAP_CODE.tolist()), name='FAP Codes')\n",
    "assert_all_the_same(bmo_df_dict, lambda df: set(df.DEPARTEMENT_CODE.tolist()), name='Departement Codes')\n",
    "\n",
    "fap_codes = set(bmo_df_dict[2016].FAP_CODE.tolist())\n",
    "if 'A0Z40' not in fap_codes:\n",
    "    print('FAP A0Z40 is missing.')\n",
    "\n",
    "departement_codes = set(bmo_df_dict[2016].DEPARTEMENT_CODE.tolist())\n",
    "if '2A' not in departement_codes:\n",
    "    print('Département 2A is missing.')\n",
    "if '01' not in departement_codes:\n",
    "    print('Département 01 is missing.')"
   ]
  },
  {
   "cell_type": "markdown",
   "metadata": {},
   "source": [
    "So it seems that some départements are not correctly set."
   ]
  },
  {
   "cell_type": "code",
   "execution_count": 10,
   "metadata": {},
   "outputs": [],
   "source": [
    "for _, df in bmo_df_dict.items():\n",
    "    df['DEPARTEMENT_CODE'] = df.DEPARTEMENT_CODE.str.pad(2, fillchar='0')\n",
    "assert_all_the_same(bmo_df_dict, lambda df: set(df['DEPARTEMENT_CODE'].tolist()), name='Departement Codes')\n",
    "departement_codes = set(bmo_df_dict[2016].DEPARTEMENT_CODE.tolist())\n",
    "assert('2A' in departement_codes)\n",
    "assert('01' in departement_codes)"
   ]
  },
  {
   "cell_type": "markdown",
   "metadata": {
    "collapsed": true
   },
   "source": [
    "All seems good now: the Data Frame have the same columns, and the same set of values in the important columns.\n",
    "\n",
    "Let's compare global stats."
   ]
  },
  {
   "cell_type": "code",
   "execution_count": 11,
   "metadata": {},
   "outputs": [],
   "source": [
    "bmo_df = pandas.concat(bmo_df_dict[year] for year in sorted(bmo_df_dict.keys()))"
   ]
  },
  {
   "cell_type": "code",
   "execution_count": 12,
   "metadata": {},
   "outputs": [
    {
     "data": {
      "text/html": [
       "<div>\n",
       "<table border=\"1\" class=\"dataframe\">\n",
       "  <thead>\n",
       "    <tr style=\"text-align: right;\">\n",
       "      <th></th>\n",
       "      <th>CATCHMENT_AREA_CODE</th>\n",
       "      <th>CATCHMENT_AREA_NAME</th>\n",
       "      <th>DEPARTEMENT_CODE</th>\n",
       "      <th>DEPARTEMENT_NAME</th>\n",
       "      <th>FAP_CODE</th>\n",
       "      <th>FAP_NAME</th>\n",
       "      <th>NB_DIFF_RECRUT_PROJECTS</th>\n",
       "      <th>NB_RECRUT_PROJECTS</th>\n",
       "      <th>NB_SEASON_RECRUT_PROJECTS</th>\n",
       "      <th>PROFESSION_FAMILY_CODE</th>\n",
       "      <th>PROFESSION_FAMILY_NAME</th>\n",
       "      <th>REGION_CODE</th>\n",
       "      <th>REGION_LIB</th>\n",
       "    </tr>\n",
       "    <tr>\n",
       "      <th>year</th>\n",
       "      <th></th>\n",
       "      <th></th>\n",
       "      <th></th>\n",
       "      <th></th>\n",
       "      <th></th>\n",
       "      <th></th>\n",
       "      <th></th>\n",
       "      <th></th>\n",
       "      <th></th>\n",
       "      <th></th>\n",
       "      <th></th>\n",
       "      <th></th>\n",
       "      <th></th>\n",
       "    </tr>\n",
       "  </thead>\n",
       "  <tbody>\n",
       "    <tr>\n",
       "      <th>2014</th>\n",
       "      <td>39095</td>\n",
       "      <td>39095</td>\n",
       "      <td>39095</td>\n",
       "      <td>39095</td>\n",
       "      <td>39095</td>\n",
       "      <td>39095</td>\n",
       "      <td>39095</td>\n",
       "      <td>39095</td>\n",
       "      <td>39095</td>\n",
       "      <td>39095</td>\n",
       "      <td>39095</td>\n",
       "      <td>39095</td>\n",
       "      <td>39095</td>\n",
       "    </tr>\n",
       "    <tr>\n",
       "      <th>2015</th>\n",
       "      <td>38732</td>\n",
       "      <td>38732</td>\n",
       "      <td>38732</td>\n",
       "      <td>38732</td>\n",
       "      <td>38732</td>\n",
       "      <td>38732</td>\n",
       "      <td>38732</td>\n",
       "      <td>38732</td>\n",
       "      <td>38732</td>\n",
       "      <td>38732</td>\n",
       "      <td>38732</td>\n",
       "      <td>38732</td>\n",
       "      <td>38732</td>\n",
       "    </tr>\n",
       "    <tr>\n",
       "      <th>2016</th>\n",
       "      <td>39501</td>\n",
       "      <td>39501</td>\n",
       "      <td>39501</td>\n",
       "      <td>39500</td>\n",
       "      <td>39501</td>\n",
       "      <td>39501</td>\n",
       "      <td>39501</td>\n",
       "      <td>39501</td>\n",
       "      <td>39501</td>\n",
       "      <td>39501</td>\n",
       "      <td>39501</td>\n",
       "      <td>39501</td>\n",
       "      <td>39501</td>\n",
       "    </tr>\n",
       "    <tr>\n",
       "      <th>2017</th>\n",
       "      <td>42429</td>\n",
       "      <td>42429</td>\n",
       "      <td>42429</td>\n",
       "      <td>42428</td>\n",
       "      <td>42429</td>\n",
       "      <td>42429</td>\n",
       "      <td>42429</td>\n",
       "      <td>42429</td>\n",
       "      <td>42429</td>\n",
       "      <td>42429</td>\n",
       "      <td>42429</td>\n",
       "      <td>42429</td>\n",
       "      <td>42429</td>\n",
       "    </tr>\n",
       "  </tbody>\n",
       "</table>\n",
       "</div>"
      ],
      "text/plain": [
       "      CATCHMENT_AREA_CODE  CATCHMENT_AREA_NAME  DEPARTEMENT_CODE  \\\n",
       "year                                                               \n",
       "2014                39095                39095             39095   \n",
       "2015                38732                38732             38732   \n",
       "2016                39501                39501             39501   \n",
       "2017                42429                42429             42429   \n",
       "\n",
       "      DEPARTEMENT_NAME  FAP_CODE  FAP_NAME  NB_DIFF_RECRUT_PROJECTS  \\\n",
       "year                                                                  \n",
       "2014             39095     39095     39095                    39095   \n",
       "2015             38732     38732     38732                    38732   \n",
       "2016             39500     39501     39501                    39501   \n",
       "2017             42428     42429     42429                    42429   \n",
       "\n",
       "      NB_RECRUT_PROJECTS  NB_SEASON_RECRUT_PROJECTS  PROFESSION_FAMILY_CODE  \\\n",
       "year                                                                          \n",
       "2014               39095                      39095                   39095   \n",
       "2015               38732                      38732                   38732   \n",
       "2016               39501                      39501                   39501   \n",
       "2017               42429                      42429                   42429   \n",
       "\n",
       "      PROFESSION_FAMILY_NAME  REGION_CODE  REGION_LIB  \n",
       "year                                                   \n",
       "2014                   39095        39095       39095  \n",
       "2015                   38732        38732       38732  \n",
       "2016                   39501        39501       39501  \n",
       "2017                   42429        42429       42429  "
      ]
     },
     "execution_count": 12,
     "metadata": {},
     "output_type": "execute_result"
    }
   ],
   "source": [
    "bmo_df.groupby(['year']).count()"
   ]
  },
  {
   "cell_type": "code",
   "execution_count": 13,
   "metadata": {},
   "outputs": [
    {
     "data": {
      "text/html": [
       "<div>\n",
       "<table border=\"1\" class=\"dataframe\">\n",
       "  <thead>\n",
       "    <tr style=\"text-align: right;\">\n",
       "      <th></th>\n",
       "      <th>CATCHMENT_AREA_CODE</th>\n",
       "      <th>NB_DIFF_RECRUT_PROJECTS</th>\n",
       "      <th>NB_RECRUT_PROJECTS</th>\n",
       "      <th>NB_SEASON_RECRUT_PROJECTS</th>\n",
       "      <th>REGION_CODE</th>\n",
       "    </tr>\n",
       "    <tr>\n",
       "      <th>year</th>\n",
       "      <th></th>\n",
       "      <th></th>\n",
       "      <th></th>\n",
       "      <th></th>\n",
       "      <th></th>\n",
       "    </tr>\n",
       "  </thead>\n",
       "  <tbody>\n",
       "    <tr>\n",
       "      <th>2014</th>\n",
       "      <td>198679531</td>\n",
       "      <td>589953.269450</td>\n",
       "      <td>1.700541e+06</td>\n",
       "      <td>667037.379418</td>\n",
       "      <td>1981300</td>\n",
       "    </tr>\n",
       "    <tr>\n",
       "      <th>2015</th>\n",
       "      <td>194959082</td>\n",
       "      <td>563299.461139</td>\n",
       "      <td>1.739277e+06</td>\n",
       "      <td>683418.511234</td>\n",
       "      <td>1944091</td>\n",
       "    </tr>\n",
       "    <tr>\n",
       "      <th>2016</th>\n",
       "      <td>198859068</td>\n",
       "      <td>591507.400000</td>\n",
       "      <td>1.827271e+06</td>\n",
       "      <td>741914.580000</td>\n",
       "      <td>1982872</td>\n",
       "    </tr>\n",
       "    <tr>\n",
       "      <th>2017</th>\n",
       "      <td>212328291</td>\n",
       "      <td>740754.000000</td>\n",
       "      <td>1.976268e+06</td>\n",
       "      <td>775679.000000</td>\n",
       "      <td>2194196</td>\n",
       "    </tr>\n",
       "  </tbody>\n",
       "</table>\n",
       "</div>"
      ],
      "text/plain": [
       "      CATCHMENT_AREA_CODE  NB_DIFF_RECRUT_PROJECTS  NB_RECRUT_PROJECTS  \\\n",
       "year                                                                     \n",
       "2014            198679531            589953.269450        1.700541e+06   \n",
       "2015            194959082            563299.461139        1.739277e+06   \n",
       "2016            198859068            591507.400000        1.827271e+06   \n",
       "2017            212328291            740754.000000        1.976268e+06   \n",
       "\n",
       "      NB_SEASON_RECRUT_PROJECTS  REGION_CODE  \n",
       "year                                          \n",
       "2014              667037.379418      1981300  \n",
       "2015              683418.511234      1944091  \n",
       "2016              741914.580000      1982872  \n",
       "2017              775679.000000      2194196  "
      ]
     },
     "execution_count": 13,
     "metadata": {},
     "output_type": "execute_result"
    }
   ],
   "source": [
    "bmo_df.groupby(['year']).sum()"
   ]
  },
  {
   "cell_type": "markdown",
   "metadata": {},
   "source": [
    "In early 2017 when BMO 2017 was released, it had the same values as BMO 2016. Obviously this has changed now, so we can now use the data.\n",
    "\n",
    "## Evolutions\n",
    "\n",
    "Let's get an idea on how the BMO is evolving locally. Here are some basic questions:\n",
    "* Which are the top 5 département with more hiring than last year (in %)?\n",
    "* Which are the top 5 job families with more hiring than last year (in %)?\n",
    "\n",
    "Let's try merging the data per local market. First let's check if we can merge on the \"bassin d'emploi\" level:"
   ]
  },
  {
   "cell_type": "code",
   "execution_count": 14,
   "metadata": {},
   "outputs": [
    {
     "name": "stdout",
     "output_type": "stream",
     "text": [
      "Catchment Area Codes removed in 2015:\n",
      "[9317, 9318]\n",
      "Catchment Area Codes added in 2015:\n",
      "[105, 106, 107, 108, 109, 110, 111, 112, 2316, 4317, 7329, 9326, 9331, 9332]\n",
      "Catchment Area Codes removed in 2016:\n",
      "[9309, 9310, 9317, 9318]\n",
      "Catchment Area Codes added in 2016:\n",
      "[105, 106, 107, 108, 109, 110, 111, 112, 2316, 4317, 7329, 9326, 9329, 9331, 9332, 9333]\n",
      "Catchment Area Codes removed in 2017:\n",
      "[1101, 1102, 1103, 1113, 1114, 1135, 1136, 1144, 1145, 1160, 1165, 1166, 1176, 1177, 1178, 1187, 1189, 1194, 1195, 9309, 9310, 9317, 9318]\n",
      "Catchment Area Codes added in 2017:\n",
      "[105, 106, 107, 108, 109, 110, 111, 112, 1107, 1108, 1109, 1115, 1116, 1117, 1118, 1119, 1124, 1125, 1126, 1127, 1128, 1129, 1137, 1138, 1139, 1146, 1147, 1148, 1149, 1150, 1151, 1152, 2316, 4317, 7329, 9119, 9120, 9326, 9329, 9331, 9332, 9333]\n"
     ]
    }
   ],
   "source": [
    "assert_all_the_same(bmo_df_dict, lambda df: set(df.CATCHMENT_AREA_CODE.tolist()), name='Catchment Area Codes')"
   ]
  },
  {
   "cell_type": "markdown",
   "metadata": {},
   "source": [
    "Ooops no, it looks like the subdivision of départements has changed between the years, therefore we are going to first aggregate data at the départements level:"
   ]
  },
  {
   "cell_type": "code",
   "execution_count": 15,
   "metadata": {},
   "outputs": [
    {
     "data": {
      "text/html": [
       "<div>\n",
       "<table border=\"1\" class=\"dataframe\">\n",
       "  <thead>\n",
       "    <tr style=\"text-align: right;\">\n",
       "      <th></th>\n",
       "      <th>REGION_LIB</th>\n",
       "      <th>year</th>\n",
       "      <th>FAP_CODE</th>\n",
       "      <th>DEPARTEMENT_NAME</th>\n",
       "      <th>DEPARTEMENT_CODE</th>\n",
       "      <th>REGION_CODE</th>\n",
       "      <th>FAP_NAME</th>\n",
       "      <th>PROFESSION_FAMILY_CODE</th>\n",
       "      <th>PROFESSION_FAMILY_NAME</th>\n",
       "      <th>NB_DIFF_RECRUT_PROJECTS</th>\n",
       "      <th>NB_RECRUT_PROJECTS</th>\n",
       "      <th>NB_SEASON_RECRUT_PROJECTS</th>\n",
       "    </tr>\n",
       "  </thead>\n",
       "  <tbody>\n",
       "    <tr>\n",
       "      <th>0</th>\n",
       "      <td>ALSACE</td>\n",
       "      <td>2014</td>\n",
       "      <td>A0Z40</td>\n",
       "      <td>BAS-RHIN</td>\n",
       "      <td>67</td>\n",
       "      <td>42</td>\n",
       "      <td>Agriculteurs salariés (dont ouvriers agricoles...</td>\n",
       "      <td>Z</td>\n",
       "      <td>Autres métiers</td>\n",
       "      <td>142.806975</td>\n",
       "      <td>1011.194444</td>\n",
       "      <td>789.710943</td>\n",
       "    </tr>\n",
       "    <tr>\n",
       "      <th>1</th>\n",
       "      <td>ALSACE</td>\n",
       "      <td>2014</td>\n",
       "      <td>A0Z40</td>\n",
       "      <td>HAUT-RHIN</td>\n",
       "      <td>68</td>\n",
       "      <td>42</td>\n",
       "      <td>Agriculteurs salariés (dont ouvriers agricoles...</td>\n",
       "      <td>Z</td>\n",
       "      <td>Autres métiers</td>\n",
       "      <td>8.002828</td>\n",
       "      <td>196.928246</td>\n",
       "      <td>165.181621</td>\n",
       "    </tr>\n",
       "    <tr>\n",
       "      <th>2</th>\n",
       "      <td>ALSACE</td>\n",
       "      <td>2014</td>\n",
       "      <td>A0Z41</td>\n",
       "      <td>BAS-RHIN</td>\n",
       "      <td>67</td>\n",
       "      <td>42</td>\n",
       "      <td>Éleveurs salariés (dont soigneurs)</td>\n",
       "      <td>Z</td>\n",
       "      <td>Autres métiers</td>\n",
       "      <td>7.974414</td>\n",
       "      <td>49.117383</td>\n",
       "      <td>17.567773</td>\n",
       "    </tr>\n",
       "    <tr>\n",
       "      <th>3</th>\n",
       "      <td>ALSACE</td>\n",
       "      <td>2014</td>\n",
       "      <td>A0Z41</td>\n",
       "      <td>HAUT-RHIN</td>\n",
       "      <td>68</td>\n",
       "      <td>42</td>\n",
       "      <td>Éleveurs salariés (dont soigneurs)</td>\n",
       "      <td>Z</td>\n",
       "      <td>Autres métiers</td>\n",
       "      <td>0.000000</td>\n",
       "      <td>14.862626</td>\n",
       "      <td>7.431313</td>\n",
       "    </tr>\n",
       "    <tr>\n",
       "      <th>4</th>\n",
       "      <td>ALSACE</td>\n",
       "      <td>2014</td>\n",
       "      <td>A0Z42</td>\n",
       "      <td>BAS-RHIN</td>\n",
       "      <td>67</td>\n",
       "      <td>42</td>\n",
       "      <td>Bûcherons, sylviculteurs salariés et agents fo...</td>\n",
       "      <td>Z</td>\n",
       "      <td>Autres métiers</td>\n",
       "      <td>1.015395</td>\n",
       "      <td>13.236659</td>\n",
       "      <td>12.221264</td>\n",
       "    </tr>\n",
       "  </tbody>\n",
       "</table>\n",
       "</div>"
      ],
      "text/plain": [
       "  REGION_LIB  year FAP_CODE DEPARTEMENT_NAME DEPARTEMENT_CODE  REGION_CODE  \\\n",
       "0     ALSACE  2014    A0Z40         BAS-RHIN               67           42   \n",
       "1     ALSACE  2014    A0Z40        HAUT-RHIN               68           42   \n",
       "2     ALSACE  2014    A0Z41         BAS-RHIN               67           42   \n",
       "3     ALSACE  2014    A0Z41        HAUT-RHIN               68           42   \n",
       "4     ALSACE  2014    A0Z42         BAS-RHIN               67           42   \n",
       "\n",
       "                                            FAP_NAME PROFESSION_FAMILY_CODE  \\\n",
       "0  Agriculteurs salariés (dont ouvriers agricoles...                      Z   \n",
       "1  Agriculteurs salariés (dont ouvriers agricoles...                      Z   \n",
       "2                 Éleveurs salariés (dont soigneurs)                      Z   \n",
       "3                 Éleveurs salariés (dont soigneurs)                      Z   \n",
       "4  Bûcherons, sylviculteurs salariés et agents fo...                      Z   \n",
       "\n",
       "  PROFESSION_FAMILY_NAME  NB_DIFF_RECRUT_PROJECTS  NB_RECRUT_PROJECTS  \\\n",
       "0         Autres métiers               142.806975         1011.194444   \n",
       "1         Autres métiers                 8.002828          196.928246   \n",
       "2         Autres métiers                 7.974414           49.117383   \n",
       "3         Autres métiers                 0.000000           14.862626   \n",
       "4         Autres métiers                 1.015395           13.236659   \n",
       "\n",
       "   NB_SEASON_RECRUT_PROJECTS  \n",
       "0                 789.710943  \n",
       "1                 165.181621  \n",
       "2                  17.567773  \n",
       "3                   7.431313  \n",
       "4                  12.221264  "
      ]
     },
     "execution_count": 15,
     "metadata": {},
     "output_type": "execute_result"
    }
   ],
   "source": [
    "number_columns = ['NB_DIFF_RECRUT_PROJECTS', 'NB_RECRUT_PROJECTS', 'NB_SEASON_RECRUT_PROJECTS']\n",
    "columns = list(set(bmo_df.columns) - set(number_columns) - {'CATCHMENT_AREA_CODE', 'CATCHMENT_AREA_NAME'})\n",
    "bmo_df_by_departement = bmo_df.groupby(columns).sum()[number_columns].reset_index()\n",
    "bmo_df_by_departement.head()"
   ]
  },
  {
   "cell_type": "markdown",
   "metadata": {},
   "source": [
    "OK, now we can merge data per local market:"
   ]
  },
  {
   "cell_type": "code",
   "execution_count": 16,
   "metadata": {},
   "outputs": [],
   "source": [
    "bmo_evolution = bmo_df_by_departement[bmo_df_by_departement.year == 2017]\\\n",
    "    .merge(\n",
    "        bmo_df_by_departement[bmo_df_by_departement.year == 2016],\n",
    "        on=['DEPARTEMENT_CODE', 'FAP_CODE'], how='outer', suffixes=['_2017', '_2016'])\\\n",
    "    .merge(\n",
    "        bmo_df_by_departement[bmo_df_by_departement.year == 2015],\n",
    "        on=['DEPARTEMENT_CODE', 'FAP_CODE'], how='outer', suffixes=['', '_2015'])\\\n",
    "    .merge(\n",
    "        bmo_df_by_departement[bmo_df_by_departement.year == 2014],\n",
    "        on=['DEPARTEMENT_CODE', 'FAP_CODE'], how='outer', suffixes=['', '_2014'])"
   ]
  },
  {
   "cell_type": "markdown",
   "metadata": {},
   "source": [
    "### Evolution by Département\n",
    "\n",
    "Show the distribution of hiring growth and volumes for départements: we do not expect to see any specific patterns, but this is a good way to have a glance to all départements at once."
   ]
  },
  {
   "cell_type": "code",
   "execution_count": 17,
   "metadata": {},
   "outputs": [
    {
     "data": {
      "image/png": "[encoded data removed]",
      "text/plain": [
       "<matplotlib.figure.Figure at 0x7f9cc5020d30>"
      ]
     },
     "metadata": {
      "image/png": {
       "height": 262,
       "width": 389
      }
     },
     "output_type": "display_data"
    }
   ],
   "source": [
    "bmo_per_departement = bmo_evolution.groupby(['DEPARTEMENT_CODE', 'DEPARTEMENT_NAME']).sum()\n",
    "bmo_per_departement['evolution_2017'] = bmo_per_departement.NB_RECRUT_PROJECTS_2017.div(bmo_per_departement.NB_RECRUT_PROJECTS_2016)\n",
    "bmo_per_departement['percent_evolution_2017'] = (bmo_per_departement.evolution_2017 - 1) * 100\n",
    "bmo_per_departement.plot(kind='scatter', x='NB_RECRUT_PROJECTS_2017', y='percent_evolution_2017');"
   ]
  },
  {
   "cell_type": "markdown",
   "metadata": {},
   "source": [
    "There are few outliers. Let's first check the départements with the most hiring to understand all the outliers on the right:"
   ]
  },
  {
   "cell_type": "code",
   "execution_count": 18,
   "metadata": {},
   "outputs": [
    {
     "data": {
      "text/html": [
       "<div>\n",
       "<table border=\"1\" class=\"dataframe\">\n",
       "  <thead>\n",
       "    <tr style=\"text-align: right;\">\n",
       "      <th></th>\n",
       "      <th></th>\n",
       "      <th>percent_evolution_2017</th>\n",
       "      <th>NB_RECRUT_PROJECTS_2017</th>\n",
       "    </tr>\n",
       "    <tr>\n",
       "      <th>DEPARTEMENT_CODE</th>\n",
       "      <th>DEPARTEMENT_NAME</th>\n",
       "      <th></th>\n",
       "      <th></th>\n",
       "    </tr>\n",
       "  </thead>\n",
       "  <tbody>\n",
       "    <tr>\n",
       "      <th>75</th>\n",
       "      <th>PARIS</th>\n",
       "      <td>7.740427</td>\n",
       "      <td>119867.0</td>\n",
       "    </tr>\n",
       "    <tr>\n",
       "      <th>13</th>\n",
       "      <th>BOUCHES-DU-RHÔNE</th>\n",
       "      <td>17.453258</td>\n",
       "      <td>77382.0</td>\n",
       "    </tr>\n",
       "    <tr>\n",
       "      <th>92</th>\n",
       "      <th>HAUTS-DE-SEINE</th>\n",
       "      <td>10.890171</td>\n",
       "      <td>67121.0</td>\n",
       "    </tr>\n",
       "    <tr>\n",
       "      <th>69</th>\n",
       "      <th>RHÔNE</th>\n",
       "      <td>5.104801</td>\n",
       "      <td>67022.0</td>\n",
       "    </tr>\n",
       "    <tr>\n",
       "      <th>59</th>\n",
       "      <th>NORD</th>\n",
       "      <td>10.735937</td>\n",
       "      <td>60314.0</td>\n",
       "    </tr>\n",
       "    <tr>\n",
       "      <th>33</th>\n",
       "      <th>GIRONDE</th>\n",
       "      <td>3.386186</td>\n",
       "      <td>55431.0</td>\n",
       "    </tr>\n",
       "    <tr>\n",
       "      <th>35</th>\n",
       "      <th>ILLE-ET-VILAINE</th>\n",
       "      <td>87.054160</td>\n",
       "      <td>54959.0</td>\n",
       "    </tr>\n",
       "    <tr>\n",
       "      <th>06</th>\n",
       "      <th>ALPES-MARITIMES</th>\n",
       "      <td>8.392574</td>\n",
       "      <td>44495.0</td>\n",
       "    </tr>\n",
       "  </tbody>\n",
       "</table>\n",
       "</div>"
      ],
      "text/plain": [
       "                                   percent_evolution_2017  \\\n",
       "DEPARTEMENT_CODE DEPARTEMENT_NAME                           \n",
       "75               PARIS                           7.740427   \n",
       "13               BOUCHES-DU-RHÔNE               17.453258   \n",
       "92               HAUTS-DE-SEINE                 10.890171   \n",
       "69               RHÔNE                           5.104801   \n",
       "59               NORD                           10.735937   \n",
       "33               GIRONDE                         3.386186   \n",
       "35               ILLE-ET-VILAINE                87.054160   \n",
       "06               ALPES-MARITIMES                 8.392574   \n",
       "\n",
       "                                   NB_RECRUT_PROJECTS_2017  \n",
       "DEPARTEMENT_CODE DEPARTEMENT_NAME                           \n",
       "75               PARIS                            119867.0  \n",
       "13               BOUCHES-DU-RHÔNE                  77382.0  \n",
       "92               HAUTS-DE-SEINE                    67121.0  \n",
       "69               RHÔNE                             67022.0  \n",
       "59               NORD                              60314.0  \n",
       "33               GIRONDE                           55431.0  \n",
       "35               ILLE-ET-VILAINE                   54959.0  \n",
       "06               ALPES-MARITIMES                   44495.0  "
      ]
     },
     "execution_count": 18,
     "metadata": {},
     "output_type": "execute_result"
    }
   ],
   "source": [
    "dimensions_2017 = ['percent_evolution_2017', 'NB_RECRUT_PROJECTS_2017']\n",
    "bmo_per_departement.sort_values('NB_RECRUT_PROJECTS_2017', ascending=False)[dimensions_2017].head(8)"
   ]
  },
  {
   "cell_type": "markdown",
   "metadata": {},
   "source": [
    "Obviously Paris is way bigger than the rest but still has a strong evolution (+7.7%). Then not fare, there is Hauts-de-Seine (just outside Paris, especially with \\\"La Défense\\\" district) which is big and still growing (+10.9%).\n",
    "\n",
    "Marseille (Bouches-du-Rhône) that had a bad year in 2016 (see previous version of this notebook) is back in the game, and Rennes (Îlle-et-Vilaine) is having an exceptional year (+87.1%).\n",
    "\n",
    "Now let's check the extreme changes:"
   ]
  },
  {
   "cell_type": "code",
   "execution_count": 19,
   "metadata": {},
   "outputs": [
    {
     "data": {
      "text/html": [
       "<div>\n",
       "<table border=\"1\" class=\"dataframe\">\n",
       "  <thead>\n",
       "    <tr style=\"text-align: right;\">\n",
       "      <th></th>\n",
       "      <th></th>\n",
       "      <th>percent_evolution_2017</th>\n",
       "      <th>NB_RECRUT_PROJECTS_2017</th>\n",
       "    </tr>\n",
       "    <tr>\n",
       "      <th>DEPARTEMENT_CODE</th>\n",
       "      <th>DEPARTEMENT_NAME</th>\n",
       "      <th></th>\n",
       "      <th></th>\n",
       "    </tr>\n",
       "  </thead>\n",
       "  <tbody>\n",
       "    <tr>\n",
       "      <th>35</th>\n",
       "      <th>ILLE-ET-VILAINE</th>\n",
       "      <td>87.054160</td>\n",
       "      <td>54959.0</td>\n",
       "    </tr>\n",
       "    <tr>\n",
       "      <th>76</th>\n",
       "      <th>SEINE-MARITIME</th>\n",
       "      <td>39.893995</td>\n",
       "      <td>26122.0</td>\n",
       "    </tr>\n",
       "    <tr>\n",
       "      <th>23</th>\n",
       "      <th>CREUSE</th>\n",
       "      <td>38.626125</td>\n",
       "      <td>1634.0</td>\n",
       "    </tr>\n",
       "    <tr>\n",
       "      <th>61</th>\n",
       "      <th>ORNE</th>\n",
       "      <td>37.842427</td>\n",
       "      <td>6169.0</td>\n",
       "    </tr>\n",
       "    <tr>\n",
       "      <th>78</th>\n",
       "      <th>YVELINES</th>\n",
       "      <td>36.586902</td>\n",
       "      <td>41211.0</td>\n",
       "    </tr>\n",
       "  </tbody>\n",
       "</table>\n",
       "</div>"
      ],
      "text/plain": [
       "                                   percent_evolution_2017  \\\n",
       "DEPARTEMENT_CODE DEPARTEMENT_NAME                           \n",
       "35               ILLE-ET-VILAINE                87.054160   \n",
       "76               SEINE-MARITIME                 39.893995   \n",
       "23               CREUSE                         38.626125   \n",
       "61               ORNE                           37.842427   \n",
       "78               YVELINES                       36.586902   \n",
       "\n",
       "                                   NB_RECRUT_PROJECTS_2017  \n",
       "DEPARTEMENT_CODE DEPARTEMENT_NAME                           \n",
       "35               ILLE-ET-VILAINE                   54959.0  \n",
       "76               SEINE-MARITIME                    26122.0  \n",
       "23               CREUSE                             1634.0  \n",
       "61               ORNE                               6169.0  \n",
       "78               YVELINES                          41211.0  "
      ]
     },
     "execution_count": 19,
     "metadata": {},
     "output_type": "execute_result"
    }
   ],
   "source": [
    "bmo_per_departement['absolute_percent_evolution_2017'] = bmo_per_departement.percent_evolution_2017.abs()\n",
    "bmo_per_departement.sort_values('absolute_percent_evolution_2017', ascending=False)[dimensions_2017].head()"
   ]
  },
  {
   "cell_type": "markdown",
   "metadata": {},
   "source": [
    "Weirdly Guadeloupe & Guyane (two oversee départements) have opposite but very strong changes. We could investigate a bit more if needed.\n",
    "\n",
    "### Evolution by Job Family\n",
    "\n",
    "Show the distribution of hiring growth and volumes for job families:"
   ]
  },
  {
   "cell_type": "code",
   "execution_count": 20,
   "metadata": {},
   "outputs": [
    {
     "data": {
      "image/png": "[encoded data removed]",
      "text/plain": [
       "<matplotlib.figure.Figure at 0x7f9cc5020b38>"
      ]
     },
     "metadata": {
      "image/png": {
       "height": 262,
       "width": 387
      }
     },
     "output_type": "display_data"
    }
   ],
   "source": [
    "bmo_per_fap = bmo_evolution.groupby(['FAP_CODE', 'FAP_NAME']).sum()\n",
    "bmo_per_fap['evolution_2017'] = bmo_per_fap.NB_RECRUT_PROJECTS_2017.div(bmo_per_fap.NB_RECRUT_PROJECTS_2016)\n",
    "bmo_per_fap['percent_evolution_2017'] = (bmo_per_fap.evolution_2017 - 1) * 100\n",
    "bmo_per_fap.plot(kind='scatter', x='NB_RECRUT_PROJECTS_2017', y='percent_evolution_2017');"
   ]
  },
  {
   "cell_type": "markdown",
   "metadata": {},
   "source": [
    "A first conclusion is that only job families with few hiring have huge evolutions. However let's look at the job family that almost got +800%."
   ]
  },
  {
   "cell_type": "code",
   "execution_count": 21,
   "metadata": {},
   "outputs": [
    {
     "data": {
      "text/html": [
       "<div>\n",
       "<table border=\"1\" class=\"dataframe\">\n",
       "  <thead>\n",
       "    <tr style=\"text-align: right;\">\n",
       "      <th></th>\n",
       "      <th></th>\n",
       "      <th>percent_evolution_2017</th>\n",
       "      <th>NB_RECRUT_PROJECTS_2017</th>\n",
       "    </tr>\n",
       "    <tr>\n",
       "      <th>FAP_CODE</th>\n",
       "      <th>FAP_NAME</th>\n",
       "      <th></th>\n",
       "      <th></th>\n",
       "    </tr>\n",
       "  </thead>\n",
       "  <tbody>\n",
       "    <tr>\n",
       "      <th>W0Z91</th>\n",
       "      <th>Directeurs d'établissement scolaire et inspecteurs</th>\n",
       "      <td>794.819466</td>\n",
       "      <td>57.0</td>\n",
       "    </tr>\n",
       "    <tr>\n",
       "      <th>J4Z60</th>\n",
       "      <th>Contrôleurs des transports (personnels roulants)</th>\n",
       "      <td>401.039021</td>\n",
       "      <td>217.0</td>\n",
       "    </tr>\n",
       "    <tr>\n",
       "      <th>B6Z70</th>\n",
       "      <th>Géomètres</th>\n",
       "      <td>136.104475</td>\n",
       "      <td>593.0</td>\n",
       "    </tr>\n",
       "    <tr>\n",
       "      <th>E1Z40</th>\n",
       "      <th>Pilotes d'installations lourdes des industries de transformation</th>\n",
       "      <td>94.972704</td>\n",
       "      <td>325.0</td>\n",
       "    </tr>\n",
       "    <tr>\n",
       "      <th>C2Z80</th>\n",
       "      <th>Agents de maîtrise et assimilés en fabrication de matériel électrique, électronique</th>\n",
       "      <td>90.325139</td>\n",
       "      <td>72.0</td>\n",
       "    </tr>\n",
       "  </tbody>\n",
       "</table>\n",
       "</div>"
      ],
      "text/plain": [
       "                                                             percent_evolution_2017  \\\n",
       "FAP_CODE FAP_NAME                                                                     \n",
       "W0Z91    Directeurs d'établissement scolaire et inspecteurs              794.819466   \n",
       "J4Z60    Contrôleurs des transports (personnels roulants)                401.039021   \n",
       "B6Z70    Géomètres                                                       136.104475   \n",
       "E1Z40    Pilotes d'installations lourdes des industries ...               94.972704   \n",
       "C2Z80    Agents de maîtrise et assimilés en fabrication ...               90.325139   \n",
       "\n",
       "                                                             NB_RECRUT_PROJECTS_2017  \n",
       "FAP_CODE FAP_NAME                                                                     \n",
       "W0Z91    Directeurs d'établissement scolaire et inspecteurs                     57.0  \n",
       "J4Z60    Contrôleurs des transports (personnels roulants)                      217.0  \n",
       "B6Z70    Géomètres                                                             593.0  \n",
       "E1Z40    Pilotes d'installations lourdes des industries ...                    325.0  \n",
       "C2Z80    Agents de maîtrise et assimilés en fabrication ...                     72.0  "
      ]
     },
     "execution_count": 21,
     "metadata": {},
     "output_type": "execute_result"
    }
   ],
   "source": [
    "bmo_per_fap.sort_values('percent_evolution_2017', ascending=False)[dimensions_2017].head()"
   ]
  },
  {
   "cell_type": "markdown",
   "metadata": {},
   "source": [
    "So \"school director\" is a real hype in 2017…\n",
    "\n",
    "Let's check the distribution again only focusing on job families with more than 20k hires in the year:"
   ]
  },
  {
   "cell_type": "code",
   "execution_count": 22,
   "metadata": {},
   "outputs": [
    {
     "data": {
      "image/png": "[encoded data removed]",
      "text/plain": [
       "<matplotlib.figure.Figure at 0x7f9cc57bbe10>"
      ]
     },
     "metadata": {
      "image/png": {
       "height": 262,
       "width": 382
      }
     },
     "output_type": "display_data"
    }
   ],
   "source": [
    "bmo_per_large_fap = bmo_per_fap[bmo_per_fap.NB_RECRUT_PROJECTS_2017 >= 20000]\n",
    "bmo_per_large_fap.plot(kind='scatter', x='NB_RECRUT_PROJECTS_2017', y='percent_evolution_2017');"
   ]
  },
  {
   "cell_type": "markdown",
   "metadata": {},
   "source": [
    "That looks reasonnable, let's check top growth:"
   ]
  },
  {
   "cell_type": "code",
   "execution_count": 23,
   "metadata": {},
   "outputs": [
    {
     "data": {
      "text/html": [
       "<div>\n",
       "<table border=\"1\" class=\"dataframe\">\n",
       "  <thead>\n",
       "    <tr style=\"text-align: right;\">\n",
       "      <th></th>\n",
       "      <th></th>\n",
       "      <th>percent_evolution_2017</th>\n",
       "      <th>NB_RECRUT_PROJECTS_2017</th>\n",
       "    </tr>\n",
       "    <tr>\n",
       "      <th>FAP_CODE</th>\n",
       "      <th>FAP_NAME</th>\n",
       "      <th></th>\n",
       "      <th></th>\n",
       "    </tr>\n",
       "  </thead>\n",
       "  <tbody>\n",
       "    <tr>\n",
       "      <th>T1Z60</th>\n",
       "      <th>Employés de maison et personnels de ménage</th>\n",
       "      <td>20.148962</td>\n",
       "      <td>26646.0</td>\n",
       "    </tr>\n",
       "    <tr>\n",
       "      <th>T2A60</th>\n",
       "      <th>Aides à domicile, aides ménagères, travailleuses familiales</th>\n",
       "      <td>14.201398</td>\n",
       "      <td>60965.0</td>\n",
       "    </tr>\n",
       "    <tr>\n",
       "      <th>R2Z80</th>\n",
       "      <th>Commerciaux (techniciens commerciaux en entreprise)</th>\n",
       "      <td>12.512885</td>\n",
       "      <td>29417.0</td>\n",
       "    </tr>\n",
       "    <tr>\n",
       "      <th>R1Z60</th>\n",
       "      <th>Vendeurs en produits alimentaires</th>\n",
       "      <td>12.392717</td>\n",
       "      <td>22122.0</td>\n",
       "    </tr>\n",
       "    <tr>\n",
       "      <th>V0Z60</th>\n",
       "      <th>Aides-soignants (aides médico-psychologiques, auxiliaires de puériculture, assistants médicaux)</th>\n",
       "      <td>11.521797</td>\n",
       "      <td>51670.0</td>\n",
       "    </tr>\n",
       "  </tbody>\n",
       "</table>\n",
       "</div>"
      ],
      "text/plain": [
       "                                                             percent_evolution_2017  \\\n",
       "FAP_CODE FAP_NAME                                                                     \n",
       "T1Z60    Employés de maison et personnels de ménage                       20.148962   \n",
       "T2A60    Aides à domicile, aides ménagères, travailleuse...               14.201398   \n",
       "R2Z80    Commerciaux (techniciens commerciaux en entrepr...               12.512885   \n",
       "R1Z60    Vendeurs en produits alimentaires                                12.392717   \n",
       "V0Z60    Aides-soignants (aides médico-psychologiques, a...               11.521797   \n",
       "\n",
       "                                                             NB_RECRUT_PROJECTS_2017  \n",
       "FAP_CODE FAP_NAME                                                                     \n",
       "T1Z60    Employés de maison et personnels de ménage                          26646.0  \n",
       "T2A60    Aides à domicile, aides ménagères, travailleuse...                  60965.0  \n",
       "R2Z80    Commerciaux (techniciens commerciaux en entrepr...                  29417.0  \n",
       "R1Z60    Vendeurs en produits alimentaires                                   22122.0  \n",
       "V0Z60    Aides-soignants (aides médico-psychologiques, a...                  51670.0  "
      ]
     },
     "execution_count": 23,
     "metadata": {},
     "output_type": "execute_result"
    }
   ],
   "source": [
    "bmo_per_large_fap.sort_values('percent_evolution_2017', ascending=False)[dimensions_2017].head()"
   ]
  },
  {
   "cell_type": "markdown",
   "metadata": {},
   "source": [
    "It looks like clean Sales are pretty trendy…\n",
    "\n",
    "## Conclusion\n",
    "\n",
    "So BMO 2017 data looks pretty good and after a quick clean-up we were able to compare it with the previous years (2014, 2015 & 2016).\n",
    "\n",
    "Some high level insights can be deduced from comparing these datasets. For instance, hiring is booming in Rennes and in really good shape in Paris, and in Paris' western suburbs. Also hiring is going really well for cleaning personnel as well as Sales and Caregivers.\n",
    "\n",
    "Possible next steps:\n",
    "* compare 2016 -> 2017 evolution with the evolution from 2015 -> 2016.\n",
    "* go more local and understand at the \"bassin d'emploi\" level the local dynamics. E.g. find where a local decrease is compensated by a local increase next door so that we could advise our users to commute a bit more.\n",
    "* compare flux and stock: the BMO is mixing new hires and replacements, but if we had a dataset with the number of currently employed persons we could distinguish local markets that are booming, and the ones that are becoming less stable (more hiring, but more firing as well)."
   ]
  }
 ],
 "metadata": {
  "kernelspec": {
   "display_name": "Python 3",
   "language": "python",
   "name": "python3"
  },
  "language_info": {
   "codemirror_mode": {
    "name": "ipython",
    "version": 3
   },
   "file_extension": ".py",
   "mimetype": "text/x-python",
   "name": "python",
   "nbconvert_exporter": "python",
   "pygments_lexer": "ipython3",
   "version": "3.6.3"
  }
 },
 "nbformat": 4,
 "nbformat_minor": 1
}
