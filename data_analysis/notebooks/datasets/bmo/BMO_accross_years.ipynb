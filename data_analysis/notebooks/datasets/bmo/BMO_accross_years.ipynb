{
 "cells": [
  {
   "cell_type": "markdown",
   "metadata": {},
   "source": [
    "Author: Pascal, pascal@bayesimpact.org\n",
    "\n",
    "# BMO across Years\n",
    "\n",
    "BMO means \"Besoin en Main d'Oeuvre\" and analyzes the working force needed (it is done by calling employers all over France). It's done once per year. See the [official website](http://bmo.pole-emploi.org/) for more details.\n",
    "\n",
    "In Bob Emploi we want to display BMO data useful for the user. One way we want to show some context is to give the values several years. Before doing that we want to make sure that no user would get surprised by the data for their value."
   ]
  },
  {
   "cell_type": "code",
   "execution_count": 1,
   "metadata": {
    "collapsed": false
   },
   "outputs": [
    {
     "data": {
      "text/plain": [
       "[2014, 2015, 2016]"
      ]
     },
     "execution_count": 1,
     "metadata": {},
     "output_type": "execute_result"
    }
   ],
   "source": [
    "import glob\n",
    "import pandas\n",
    "import re\n",
    "import seaborn as _\n",
    "\n",
    "bmo_file_names = glob.glob('../../../data/bmo/bmo_*')\n",
    "bmo_df_dict = {}\n",
    "for bmo_file_name in sorted(bmo_file_names):\n",
    "    df = pandas.read_csv(bmo_file_name, dtype={'DEPARTEMENT_CODE': str})\n",
    "    year = int(re.search(r'\\d+', bmo_file_name).group())\n",
    "    df['year'] = year\n",
    "    bmo_df_dict[year] = df\n",
    "    \n",
    "sorted(bmo_df_dict.keys())"
   ]
  },
  {
   "cell_type": "markdown",
   "metadata": {},
   "source": [
    "Check that the CSV have the same structure."
   ]
  },
  {
   "cell_type": "code",
   "execution_count": 2,
   "metadata": {
    "collapsed": false
   },
   "outputs": [
    {
     "name": "stdout",
     "output_type": "stream",
     "text": [
      "Columns removed in 2015:\n",
      "['ROME_PROFESSION_CARD_CODE', 'ROME_PROFESSION_CARD_NAME']\n",
      "Columns added in 2015:\n",
      "['FAP_CODE', 'FAP_NAME']\n",
      "Columns removed in 2016:\n",
      "['ROME_PROFESSION_CARD_CODE', 'ROME_PROFESSION_CARD_NAME']\n",
      "Columns added in 2016:\n",
      "['FAP_CODE', 'FAP_NAME']\n"
     ]
    }
   ],
   "source": [
    "def assert_all_the_same(dataframes, select_data_func, name='Values'):\n",
    "    first = None\n",
    "    for key, df in sorted(dataframes.items(), key=lambda kv: kv[0]):\n",
    "        if first is None:\n",
    "            first = select_data_func(df)\n",
    "            continue\n",
    "        other = select_data_func(df)\n",
    "        if first - other:\n",
    "            print('%s removed in %s:\\n%s' % (name, key, sorted(first - other)))\n",
    "        if other - first:\n",
    "            print('%s added in %s:\\n%s' % (name, key, sorted(other - first)))\n",
    "\n",
    "assert_all_the_same(bmo_df_dict, lambda df: set(df.columns), name='Columns')"
   ]
  },
  {
   "cell_type": "markdown",
   "metadata": {},
   "source": [
    "Hmm, this is fishy, why would the BMO be by ROME? Let's check the values:"
   ]
  },
  {
   "cell_type": "code",
   "execution_count": 3,
   "metadata": {
    "collapsed": false
   },
   "outputs": [
    {
     "data": {
      "text/plain": [
       "array(['A0Z40', 'A0Z41', 'Q2Z90', 'V2Z91', 'R4Z93', 'D2Z41', 'A0Z42',\n",
       "       'A1Z40', 'U1Z81', 'A0Z43', 'V2Z90', 'B6Z70', 'A1Z41', 'D1Z40',\n",
       "       'L1Z60', 'A1Z42', 'A2Z90', 'A3Z40', 'B2Z40', 'A2Z70', 'A3Z41',\n",
       "       'A3Z90', 'B0Z20', 'B0Z21', 'B2Z43', 'B2Z44', 'D2Z42', 'B1Z40',\n",
       "       'V2Z93', 'E1Z42', 'W0Z80', 'Q2Z91', 'B2Z41', 'B2Z42', 'B4Z41',\n",
       "       'B3Z20', 'B6Z72', 'M2Z92', 'B4Z44', 'B6Z71', 'B4Z43', 'G1Z80',\n",
       "       'B7Z91', 'B4Z42', 'B5Z40', 'C0Z20', 'D0Z20', 'B6Z73', 'D4Z41',\n",
       "       'D6Z70', 'G0B40', 'U0Z80', 'D2Z40', 'B7Z90', 'C2Z70', 'D3Z20',\n",
       "       'C1Z40', 'H0Z91', 'J3Z43', 'D1Z41', 'C2Z71', 'C2Z80', 'E1Z41',\n",
       "       'E0Z20', 'D6Z80', 'E0Z22', 'E0Z23', 'E0Z24', 'E0Z21', 'E1Z43',\n",
       "       'G0A40', 'D6Z71', 'L2Z60', 'D4Z40', 'F3Z41', 'E1Z40', 'E2Z80',\n",
       "       'F0Z20', 'E1Z46', 'E1Z47', 'F4Z20', 'G0A41', 'E2Z70', 'F1Z41',\n",
       "       'F4Z41', 'F1Z40', 'F5Z70', 'F2Z20', 'E1Z44', 'G0A42', 'G0B41',\n",
       "       'H0Z92', 'G0A43', 'G1Z70', 'M0Z60', 'L2Z61', 'L5Z90', 'L3Z80',\n",
       "       'H0Z90', 'J0Z20', 'G1Z71', 'J1Z40', 'J3Z40', 'J3Z42', 'R2Z83',\n",
       "       'J3Z44', 'K0Z20', 'J3Z41', 'J4Z40', 'L0Z60', 'J1Z80', 'M2Z90',\n",
       "       'J5Z80', 'J5Z60', 'N0Z90', 'Q0Z60', 'J6Z90', 'J6Z91', 'J5Z62',\n",
       "       'J6Z92', 'M1Z80', 'J5Z61', 'R0Z61', 'J4Z60', 'L4Z80', 'J4Z80',\n",
       "       'K0Z40', 'R1Z60', 'L5Z92', 'M1Z81', 'L4Z81', 'L6Z90', 'Q1Z80',\n",
       "       'R0Z60', 'L5Z91', 'Q1Z81', 'R4Z90', 'S3Z90', 'T2B60', 'T3Z61',\n",
       "       'R1Z61', 'M2Z91', 'N0Z91', 'S2Z81', 'P3Z90', 'R4Z92', 'T0Z60',\n",
       "       'R1Z62', 'R1Z67', 'R4Z91', 'S0Z40', 'U0Z81', 'R3Z80', 'R2Z80',\n",
       "       'S0Z20', 'R1Z66', 'R1Z63', 'S1Z20', 'T4Z61', 'S0Z42', 'R3Z82',\n",
       "       'T2A60', 'T3Z60', 'S1Z40', 'S0Z41', 'U0Z90', 'V3Z70', 'U1Z80',\n",
       "       'S1Z80', 'S2Z60', 'S2Z61', 'S2Z80', 'T4Z60', 'T6Z61', 'T1Z60',\n",
       "       'U0Z91', 'T4Z62', 'U1Z91', 'V0Z60', 'V3Z71', 'V3Z90', 'U1Z82',\n",
       "       'V4Z80', 'U0Z92', 'U1Z92', 'U1Z93', 'V2Z92', 'V3Z80', 'V1Z80',\n",
       "       'V4Z83', 'V1Z81', 'W0Z92', 'V5Z81', 'V5Z82', 'V5Z84', 'V4Z85',\n",
       "       'W1Z80', 'W0Z90', 'W0Z91'], dtype=object)"
      ]
     },
     "execution_count": 3,
     "metadata": {},
     "output_type": "execute_result"
    }
   ],
   "source": [
    "bmo_df_dict[2014].ROME_PROFESSION_CARD_CODE.unique()"
   ]
  },
  {
   "cell_type": "markdown",
   "metadata": {},
   "source": [
    "OK, those are actually the FAP code, so we only need some columns renaming."
   ]
  },
  {
   "cell_type": "code",
   "execution_count": 4,
   "metadata": {
    "collapsed": false
   },
   "outputs": [],
   "source": [
    "for df in bmo_df_dict.values():\n",
    "    df.rename(columns={\n",
    "            'ROME_PROFESSION_CARD_CODE': 'FAP_CODE',\n",
    "            'ROME_PROFESSION_CARD_NAME': 'FAP_NAME',\n",
    "        }, inplace=True)\n",
    "assert_all_the_same(bmo_df_dict, lambda df: set(df.columns), name='Columns')"
   ]
  },
  {
   "cell_type": "markdown",
   "metadata": {},
   "source": [
    "Let's check the column types:"
   ]
  },
  {
   "cell_type": "code",
   "execution_count": 5,
   "metadata": {
    "collapsed": false
   },
   "outputs": [
    {
     "name": "stdout",
     "output_type": "stream",
     "text": [
      "Column Type for NB_DIFF_RECRUT_PROJECTS removed in 2015:\n",
      "[dtype('O')]\n",
      "Column Type for NB_DIFF_RECRUT_PROJECTS added in 2015:\n",
      "[dtype('float64')]\n",
      "Column Type for NB_DIFF_RECRUT_PROJECTS removed in 2016:\n",
      "[dtype('O')]\n",
      "Column Type for NB_DIFF_RECRUT_PROJECTS added in 2016:\n",
      "[dtype('float64')]\n",
      "Column Type for NB_RECRUT_PROJECTS removed in 2015:\n",
      "[dtype('O')]\n",
      "Column Type for NB_RECRUT_PROJECTS added in 2015:\n",
      "[dtype('float64')]\n",
      "Column Type for NB_RECRUT_PROJECTS removed in 2016:\n",
      "[dtype('O')]\n",
      "Column Type for NB_RECRUT_PROJECTS added in 2016:\n",
      "[dtype('float64')]\n",
      "Column Type for NB_SEASON_RECRUT_PROJECTS removed in 2015:\n",
      "[dtype('O')]\n",
      "Column Type for NB_SEASON_RECRUT_PROJECTS added in 2015:\n",
      "[dtype('float64')]\n",
      "Column Type for NB_SEASON_RECRUT_PROJECTS removed in 2016:\n",
      "[dtype('O')]\n",
      "Column Type for NB_SEASON_RECRUT_PROJECTS added in 2016:\n",
      "[dtype('float64')]\n"
     ]
    }
   ],
   "source": [
    "for column in bmo_df_dict[2016].columns:\n",
    "    assert_all_the_same(bmo_df_dict, lambda df: set([df.dtypes[column]]), name='Column Type for %s' % column)"
   ]
  },
  {
   "cell_type": "markdown",
   "metadata": {},
   "source": [
    "Ouch, those numbers should all be floats not objects. Let's check some values:"
   ]
  },
  {
   "cell_type": "code",
   "execution_count": 6,
   "metadata": {
    "collapsed": false
   },
   "outputs": [
    {
     "data": {
      "text/plain": [
       "0    39,27177888\n",
       "1    97,19287631\n",
       "2             85\n",
       "3    152,0641712\n",
       "4    170,6651188\n",
       "Name: NB_RECRUT_PROJECTS, dtype: object"
      ]
     },
     "execution_count": 6,
     "metadata": {},
     "output_type": "execute_result"
    }
   ],
   "source": [
    "bmo_df_dict[2014].NB_RECRUT_PROJECTS.head()"
   ]
  },
  {
   "cell_type": "code",
   "execution_count": 7,
   "metadata": {
    "collapsed": false
   },
   "outputs": [
    {
     "data": {
      "text/plain": [
       "0     39.271779\n",
       "1     97.192876\n",
       "2     85.000000\n",
       "3    152.064171\n",
       "4    170.665119\n",
       "Name: NB_RECRUT_PROJECTS, dtype: float64"
      ]
     },
     "execution_count": 7,
     "metadata": {},
     "output_type": "execute_result"
    }
   ],
   "source": [
    "for field in ('NB_RECRUT_PROJECTS', 'NB_DIFF_RECRUT_PROJECTS', 'NB_SEASON_RECRUT_PROJECTS'):\n",
    "    bmo_df_dict[2014][field] = bmo_df_dict[2014][field].str.replace(',', '.').astype(float)\n",
    "bmo_df_dict[2014].NB_RECRUT_PROJECTS.head()"
   ]
  },
  {
   "cell_type": "code",
   "execution_count": 8,
   "metadata": {
    "collapsed": false
   },
   "outputs": [],
   "source": [
    "for column in bmo_df_dict[2016].columns:\n",
    "    assert_all_the_same(bmo_df_dict, lambda df: set([df.dtypes[column]]), name='Column Type for %s' % column)"
   ]
  },
  {
   "cell_type": "markdown",
   "metadata": {},
   "source": [
    "Let's check if we have the same values in key fields, and do some point checks that were known to fail in previous versions:"
   ]
  },
  {
   "cell_type": "code",
   "execution_count": 9,
   "metadata": {
    "collapsed": false
   },
   "outputs": [
    {
     "name": "stdout",
     "output_type": "stream",
     "text": [
      "Departement Codes removed in 2015:\n",
      "['1', '2', '3', '4', '5', '6', '7', '8', '9']\n",
      "Departement Codes added in 2015:\n",
      "['01', '02', '03', '04', '05', '06', '07', '08', '09']\n",
      "Département 01 is missing.\n"
     ]
    }
   ],
   "source": [
    "assert_all_the_same(bmo_df_dict, lambda df: set(df.FAP_CODE.tolist()), name='FAP Codes')\n",
    "assert_all_the_same(bmo_df_dict, lambda df: set(df.DEPARTEMENT_CODE.tolist()), name='Departement Codes')\n",
    "\n",
    "fap_codes = set(bmo_df_dict[2016].FAP_CODE.tolist())\n",
    "if 'A0Z40' not in fap_codes:\n",
    "    print('FAP A0Z40 is missing.')\n",
    "\n",
    "departement_codes = set(bmo_df_dict[2016].DEPARTEMENT_CODE.tolist())\n",
    "if '2A' not in departement_codes:\n",
    "    print('Département 2A is missing.')\n",
    "if '01' not in departement_codes:\n",
    "    print('Département 01 is missing.')"
   ]
  },
  {
   "cell_type": "markdown",
   "metadata": {},
   "source": [
    "So it seems that some départements are not correctly set."
   ]
  },
  {
   "cell_type": "code",
   "execution_count": 10,
   "metadata": {
    "collapsed": false
   },
   "outputs": [],
   "source": [
    "for _, df in bmo_df_dict.items():\n",
    "    df['DEPARTEMENT_CODE'] = df.DEPARTEMENT_CODE.str.pad(2, fillchar='0')\n",
    "assert_all_the_same(bmo_df_dict, lambda df: set(df['DEPARTEMENT_CODE'].tolist()), name='Departement Codes')\n",
    "departement_codes = set(bmo_df_dict[2016].DEPARTEMENT_CODE.tolist())\n",
    "assert('2A' in departement_codes)\n",
    "assert('01' in departement_codes)"
   ]
  },
  {
   "cell_type": "markdown",
   "metadata": {
    "collapsed": true
   },
   "source": [
    "All seems good now: the Data Frame have the same columns, and the same set of values in the important columns.\n",
    "\n",
    "Let's compare global stats."
   ]
  },
  {
   "cell_type": "code",
   "execution_count": 11,
   "metadata": {
    "collapsed": false
   },
   "outputs": [],
   "source": [
    "bmo_df = pandas.concat(bmo_df_dict[year] for year in sorted(bmo_df_dict.keys()))"
   ]
  },
  {
   "cell_type": "code",
   "execution_count": 12,
   "metadata": {
    "collapsed": false
   },
   "outputs": [
    {
     "data": {
      "text/html": [
       "<div>\n",
       "<table border=\"1\" class=\"dataframe\">\n",
       "  <thead>\n",
       "    <tr style=\"text-align: right;\">\n",
       "      <th></th>\n",
       "      <th>CATCHMENT_AREA_CODE</th>\n",
       "      <th>CATCHMENT_AREA_NAME</th>\n",
       "      <th>DEPARTEMENT_CODE</th>\n",
       "      <th>DEPARTEMENT_NAME</th>\n",
       "      <th>FAP_CODE</th>\n",
       "      <th>FAP_NAME</th>\n",
       "      <th>NB_DIFF_RECRUT_PROJECTS</th>\n",
       "      <th>NB_RECRUT_PROJECTS</th>\n",
       "      <th>NB_SEASON_RECRUT_PROJECTS</th>\n",
       "      <th>PROFESSION_FAMILY_CODE</th>\n",
       "      <th>PROFESSION_FAMILY_NAME</th>\n",
       "      <th>REGION_CODE</th>\n",
       "      <th>REGION_LIB</th>\n",
       "    </tr>\n",
       "    <tr>\n",
       "      <th>year</th>\n",
       "      <th></th>\n",
       "      <th></th>\n",
       "      <th></th>\n",
       "      <th></th>\n",
       "      <th></th>\n",
       "      <th></th>\n",
       "      <th></th>\n",
       "      <th></th>\n",
       "      <th></th>\n",
       "      <th></th>\n",
       "      <th></th>\n",
       "      <th></th>\n",
       "      <th></th>\n",
       "    </tr>\n",
       "  </thead>\n",
       "  <tbody>\n",
       "    <tr>\n",
       "      <th>2014</th>\n",
       "      <td>39095</td>\n",
       "      <td>39095</td>\n",
       "      <td>39095</td>\n",
       "      <td>39095</td>\n",
       "      <td>39095</td>\n",
       "      <td>39095</td>\n",
       "      <td>39095</td>\n",
       "      <td>39095</td>\n",
       "      <td>39095</td>\n",
       "      <td>39095</td>\n",
       "      <td>39095</td>\n",
       "      <td>39095</td>\n",
       "      <td>39095</td>\n",
       "    </tr>\n",
       "    <tr>\n",
       "      <th>2015</th>\n",
       "      <td>38732</td>\n",
       "      <td>38732</td>\n",
       "      <td>38732</td>\n",
       "      <td>38732</td>\n",
       "      <td>38732</td>\n",
       "      <td>38732</td>\n",
       "      <td>38732</td>\n",
       "      <td>38732</td>\n",
       "      <td>38732</td>\n",
       "      <td>38732</td>\n",
       "      <td>38732</td>\n",
       "      <td>38732</td>\n",
       "      <td>38732</td>\n",
       "    </tr>\n",
       "    <tr>\n",
       "      <th>2016</th>\n",
       "      <td>39501</td>\n",
       "      <td>39501</td>\n",
       "      <td>39501</td>\n",
       "      <td>39500</td>\n",
       "      <td>39501</td>\n",
       "      <td>39501</td>\n",
       "      <td>39501</td>\n",
       "      <td>39501</td>\n",
       "      <td>39501</td>\n",
       "      <td>39501</td>\n",
       "      <td>39501</td>\n",
       "      <td>39501</td>\n",
       "      <td>39501</td>\n",
       "    </tr>\n",
       "  </tbody>\n",
       "</table>\n",
       "</div>"
      ],
      "text/plain": [
       "      CATCHMENT_AREA_CODE  CATCHMENT_AREA_NAME  DEPARTEMENT_CODE  \\\n",
       "year                                                               \n",
       "2014                39095                39095             39095   \n",
       "2015                38732                38732             38732   \n",
       "2016                39501                39501             39501   \n",
       "\n",
       "      DEPARTEMENT_NAME  FAP_CODE  FAP_NAME  NB_DIFF_RECRUT_PROJECTS  \\\n",
       "year                                                                  \n",
       "2014             39095     39095     39095                    39095   \n",
       "2015             38732     38732     38732                    38732   \n",
       "2016             39500     39501     39501                    39501   \n",
       "\n",
       "      NB_RECRUT_PROJECTS  NB_SEASON_RECRUT_PROJECTS  PROFESSION_FAMILY_CODE  \\\n",
       "year                                                                          \n",
       "2014               39095                      39095                   39095   \n",
       "2015               38732                      38732                   38732   \n",
       "2016               39501                      39501                   39501   \n",
       "\n",
       "      PROFESSION_FAMILY_NAME  REGION_CODE  REGION_LIB  \n",
       "year                                                   \n",
       "2014                   39095        39095       39095  \n",
       "2015                   38732        38732       38732  \n",
       "2016                   39501        39501       39501  "
      ]
     },
     "execution_count": 12,
     "metadata": {},
     "output_type": "execute_result"
    }
   ],
   "source": [
    "bmo_df.groupby(['year']).count()"
   ]
  },
  {
   "cell_type": "code",
   "execution_count": 13,
   "metadata": {
    "collapsed": false
   },
   "outputs": [
    {
     "data": {
      "text/html": [
       "<div>\n",
       "<table border=\"1\" class=\"dataframe\">\n",
       "  <thead>\n",
       "    <tr style=\"text-align: right;\">\n",
       "      <th></th>\n",
       "      <th>CATCHMENT_AREA_CODE</th>\n",
       "      <th>NB_DIFF_RECRUT_PROJECTS</th>\n",
       "      <th>NB_RECRUT_PROJECTS</th>\n",
       "      <th>NB_SEASON_RECRUT_PROJECTS</th>\n",
       "      <th>REGION_CODE</th>\n",
       "    </tr>\n",
       "    <tr>\n",
       "      <th>year</th>\n",
       "      <th></th>\n",
       "      <th></th>\n",
       "      <th></th>\n",
       "      <th></th>\n",
       "      <th></th>\n",
       "    </tr>\n",
       "  </thead>\n",
       "  <tbody>\n",
       "    <tr>\n",
       "      <th>2014</th>\n",
       "      <td>198679531</td>\n",
       "      <td>589953.269450</td>\n",
       "      <td>1.700541e+06</td>\n",
       "      <td>667037.379418</td>\n",
       "      <td>1981300</td>\n",
       "    </tr>\n",
       "    <tr>\n",
       "      <th>2015</th>\n",
       "      <td>194959082</td>\n",
       "      <td>563299.461139</td>\n",
       "      <td>1.739277e+06</td>\n",
       "      <td>683418.511234</td>\n",
       "      <td>1944091</td>\n",
       "    </tr>\n",
       "    <tr>\n",
       "      <th>2016</th>\n",
       "      <td>198859068</td>\n",
       "      <td>591507.400000</td>\n",
       "      <td>1.827271e+06</td>\n",
       "      <td>741914.580000</td>\n",
       "      <td>1982872</td>\n",
       "    </tr>\n",
       "  </tbody>\n",
       "</table>\n",
       "</div>"
      ],
      "text/plain": [
       "      CATCHMENT_AREA_CODE  NB_DIFF_RECRUT_PROJECTS  NB_RECRUT_PROJECTS  \\\n",
       "year                                                                     \n",
       "2014            198679531            589953.269450        1.700541e+06   \n",
       "2015            194959082            563299.461139        1.739277e+06   \n",
       "2016            198859068            591507.400000        1.827271e+06   \n",
       "\n",
       "      NB_SEASON_RECRUT_PROJECTS  REGION_CODE  \n",
       "year                                          \n",
       "2014              667037.379418      1981300  \n",
       "2015              683418.511234      1944091  \n",
       "2016              741914.580000      1982872  "
      ]
     },
     "execution_count": 13,
     "metadata": {},
     "output_type": "execute_result"
    }
   ],
   "source": [
    "bmo_df.groupby(['year']).sum()"
   ]
  },
  {
   "cell_type": "markdown",
   "metadata": {},
   "source": [
    "In June 2016 when BMO 2016 was released, it had the same values as BMO 2015. Obviously this has changed now, so we can now use the data.\n",
    "\n",
    "## Evolutions\n",
    "\n",
    "Let's get an idea on how the BMO is evolving locally. Here are some basic questions:\n",
    "* Which are the top 5 département with more hiring than last year (in %)?\n",
    "* Which are the top 5 job families with more hiring than last year (in %)?\n",
    "\n",
    "Let's merge the data per local market:"
   ]
  },
  {
   "cell_type": "code",
   "execution_count": 14,
   "metadata": {
    "collapsed": false
   },
   "outputs": [],
   "source": [
    "bmo_evolution = bmo_df_dict[2016].merge(\n",
    "    bmo_df_dict[2015], on=['CATCHMENT_AREA_CODE', 'FAP_CODE'], how='outer', suffixes=['_2016', '_2015']).merge(\n",
    "    bmo_df_dict[2014], on=['CATCHMENT_AREA_CODE', 'FAP_CODE'], how='outer', suffixes=['', '_2014'])"
   ]
  },
  {
   "cell_type": "markdown",
   "metadata": {},
   "source": [
    "### Evolution by Département\n",
    "\n",
    "Show the distribution of hiring growth and volumes for départements: we do not expect to see any specific patterns, but this is a good way to have a glance to all départements at once."
   ]
  },
  {
   "cell_type": "code",
   "execution_count": 15,
   "metadata": {
    "collapsed": false
   },
   "outputs": [
    {
     "data": {
      "image/png": "[encoded data removed]",
      "text/plain": [
       "<matplotlib.figure.Figure at 0x7f86dbc015f8>"
      ]
     },
     "metadata": {},
     "output_type": "display_data"
    }
   ],
   "source": [
    "bmo_per_departement = bmo_evolution.groupby(['DEPARTEMENT_CODE', 'DEPARTEMENT_NAME']).sum()\n",
    "bmo_per_departement['evolution_2016'] = bmo_per_departement.NB_RECRUT_PROJECTS_2016.div(bmo_per_departement.NB_RECRUT_PROJECTS_2015)\n",
    "bmo_per_departement['percent_evolution_2016'] = (bmo_per_departement.evolution_2016 - 1) * 100\n",
    "_ = bmo_per_departement.plot(kind='scatter', x='NB_RECRUT_PROJECTS_2016', y='percent_evolution_2016')"
   ]
  },
  {
   "cell_type": "markdown",
   "metadata": {},
   "source": [
    "There are few outliers. Let's first check the départements with the most hiring to understand all the outliers on the right:"
   ]
  },
  {
   "cell_type": "code",
   "execution_count": 16,
   "metadata": {
    "collapsed": false
   },
   "outputs": [
    {
     "data": {
      "text/html": [
       "<div>\n",
       "<table border=\"1\" class=\"dataframe\">\n",
       "  <thead>\n",
       "    <tr style=\"text-align: right;\">\n",
       "      <th></th>\n",
       "      <th></th>\n",
       "      <th>percent_evolution_2016</th>\n",
       "      <th>NB_RECRUT_PROJECTS_2016</th>\n",
       "    </tr>\n",
       "    <tr>\n",
       "      <th>DEPARTEMENT_CODE</th>\n",
       "      <th>DEPARTEMENT_NAME</th>\n",
       "      <th></th>\n",
       "      <th></th>\n",
       "    </tr>\n",
       "  </thead>\n",
       "  <tbody>\n",
       "    <tr>\n",
       "      <th>75</th>\n",
       "      <th>PARIS</th>\n",
       "      <td>11.811170</td>\n",
       "      <td>110924.24</td>\n",
       "    </tr>\n",
       "    <tr>\n",
       "      <th>69</th>\n",
       "      <th>RHÔNE</th>\n",
       "      <td>-0.191864</td>\n",
       "      <td>60407.02</td>\n",
       "    </tr>\n",
       "    <tr>\n",
       "      <th>92</th>\n",
       "      <th>HAUTS-DE-SEINE</th>\n",
       "      <td>16.536260</td>\n",
       "      <td>59366.22</td>\n",
       "    </tr>\n",
       "    <tr>\n",
       "      <th>59</th>\n",
       "      <th>NORD</th>\n",
       "      <td>2.125901</td>\n",
       "      <td>52975.66</td>\n",
       "    </tr>\n",
       "    <tr>\n",
       "      <th>33</th>\n",
       "      <th>GIRONDE</th>\n",
       "      <td>5.975745</td>\n",
       "      <td>52327.69</td>\n",
       "    </tr>\n",
       "    <tr>\n",
       "      <th>13</th>\n",
       "      <th>BOUCHES-DU-RHÔNE</th>\n",
       "      <td>-33.289078</td>\n",
       "      <td>40446.01</td>\n",
       "    </tr>\n",
       "    <tr>\n",
       "      <th>44</th>\n",
       "      <th>LOIRE-ATLANTIQUE</th>\n",
       "      <td>5.935342</td>\n",
       "      <td>39503.54</td>\n",
       "    </tr>\n",
       "    <tr>\n",
       "      <th>31</th>\n",
       "      <th>HAUTE-GARONNE</th>\n",
       "      <td>-2.988355</td>\n",
       "      <td>35531.97</td>\n",
       "    </tr>\n",
       "  </tbody>\n",
       "</table>\n",
       "</div>"
      ],
      "text/plain": [
       "                                   percent_evolution_2016  \\\n",
       "DEPARTEMENT_CODE DEPARTEMENT_NAME                           \n",
       "75               PARIS                          11.811170   \n",
       "69               RHÔNE                          -0.191864   \n",
       "92               HAUTS-DE-SEINE                 16.536260   \n",
       "59               NORD                            2.125901   \n",
       "33               GIRONDE                         5.975745   \n",
       "13               BOUCHES-DU-RHÔNE              -33.289078   \n",
       "44               LOIRE-ATLANTIQUE                5.935342   \n",
       "31               HAUTE-GARONNE                  -2.988355   \n",
       "\n",
       "                                   NB_RECRUT_PROJECTS_2016  \n",
       "DEPARTEMENT_CODE DEPARTEMENT_NAME                           \n",
       "75               PARIS                           110924.24  \n",
       "69               RHÔNE                            60407.02  \n",
       "92               HAUTS-DE-SEINE                   59366.22  \n",
       "59               NORD                             52975.66  \n",
       "33               GIRONDE                          52327.69  \n",
       "13               BOUCHES-DU-RHÔNE                 40446.01  \n",
       "44               LOIRE-ATLANTIQUE                 39503.54  \n",
       "31               HAUTE-GARONNE                    35531.97  "
      ]
     },
     "execution_count": 16,
     "metadata": {},
     "output_type": "execute_result"
    }
   ],
   "source": [
    "dimensions_2016 = ['percent_evolution_2016', 'NB_RECRUT_PROJECTS_2016']\n",
    "bmo_per_departement.sort_values('NB_RECRUT_PROJECTS_2016', ascending=False)[dimensions_2016].head(8)"
   ]
  },
  {
   "cell_type": "markdown",
   "metadata": {},
   "source": [
    "Obviously Paris is way bigger than the rest but still has a strong evolution (+11.8%). Then there is Hauts-de-Seine (just outside Paris, especially with \"La Défense\" district) which is big but really growing (+16.53%). And on the other side, Marseille is crashing (-33%).\n",
    "\n",
    "Now let's check the extreme changes:"
   ]
  },
  {
   "cell_type": "code",
   "execution_count": 17,
   "metadata": {
    "collapsed": false
   },
   "outputs": [
    {
     "data": {
      "text/html": [
       "<div>\n",
       "<table border=\"1\" class=\"dataframe\">\n",
       "  <thead>\n",
       "    <tr style=\"text-align: right;\">\n",
       "      <th></th>\n",
       "      <th></th>\n",
       "      <th>percent_evolution_2016</th>\n",
       "      <th>NB_RECRUT_PROJECTS_2016</th>\n",
       "    </tr>\n",
       "    <tr>\n",
       "      <th>DEPARTEMENT_CODE</th>\n",
       "      <th>DEPARTEMENT_NAME</th>\n",
       "      <th></th>\n",
       "      <th></th>\n",
       "    </tr>\n",
       "  </thead>\n",
       "  <tbody>\n",
       "    <tr>\n",
       "      <th>971</th>\n",
       "      <th>GUADELOUPE</th>\n",
       "      <td>44.366767</td>\n",
       "      <td>3486.52</td>\n",
       "    </tr>\n",
       "    <tr>\n",
       "      <th>13</th>\n",
       "      <th>BOUCHES-DU-RHÔNE</th>\n",
       "      <td>-33.289078</td>\n",
       "      <td>40446.01</td>\n",
       "    </tr>\n",
       "    <tr>\n",
       "      <th>976</th>\n",
       "      <th>MAYOTTE</th>\n",
       "      <td>20.997473</td>\n",
       "      <td>3567.82</td>\n",
       "    </tr>\n",
       "    <tr>\n",
       "      <th>973</th>\n",
       "      <th>GUYANE</th>\n",
       "      <td>-19.467290</td>\n",
       "      <td>4500.60</td>\n",
       "    </tr>\n",
       "    <tr>\n",
       "      <th>53</th>\n",
       "      <th>MAYENNE</th>\n",
       "      <td>18.307822</td>\n",
       "      <td>5251.54</td>\n",
       "    </tr>\n",
       "  </tbody>\n",
       "</table>\n",
       "</div>"
      ],
      "text/plain": [
       "                                   percent_evolution_2016  \\\n",
       "DEPARTEMENT_CODE DEPARTEMENT_NAME                           \n",
       "971              GUADELOUPE                     44.366767   \n",
       "13               BOUCHES-DU-RHÔNE              -33.289078   \n",
       "976              MAYOTTE                        20.997473   \n",
       "973              GUYANE                        -19.467290   \n",
       "53               MAYENNE                        18.307822   \n",
       "\n",
       "                                   NB_RECRUT_PROJECTS_2016  \n",
       "DEPARTEMENT_CODE DEPARTEMENT_NAME                           \n",
       "971              GUADELOUPE                        3486.52  \n",
       "13               BOUCHES-DU-RHÔNE                 40446.01  \n",
       "976              MAYOTTE                           3567.82  \n",
       "973              GUYANE                            4500.60  \n",
       "53               MAYENNE                           5251.54  "
      ]
     },
     "execution_count": 17,
     "metadata": {},
     "output_type": "execute_result"
    }
   ],
   "source": [
    "bmo_per_departement['absolute_percent_evolution_2016'] = bmo_per_departement.percent_evolution_2016.abs()\n",
    "bmo_per_departement.sort_values('absolute_percent_evolution_2016', ascending=False)[dimensions_2016].head()"
   ]
  },
  {
   "cell_type": "markdown",
   "metadata": {},
   "source": [
    "Weirdly Guadeloupe & Guyane (two oversee départements) have opposite but very strong changes. We could investigate a bit more if needed.\n",
    "\n",
    "### Evolution by Job Family\n",
    "\n",
    "Show the distribution of hiring growth and volumes for job families:"
   ]
  },
  {
   "cell_type": "code",
   "execution_count": 18,
   "metadata": {
    "collapsed": false
   },
   "outputs": [
    {
     "data": {
      "image/png": "[encoded data removed]",
      "text/plain": [
       "<matplotlib.figure.Figure at 0x7f86dbd51438>"
      ]
     },
     "metadata": {},
     "output_type": "display_data"
    }
   ],
   "source": [
    "bmo_per_fap = bmo_evolution.groupby(['FAP_CODE', 'FAP_NAME']).sum()\n",
    "bmo_per_fap['evolution_2016'] = bmo_per_fap.NB_RECRUT_PROJECTS_2016.div(bmo_per_fap.NB_RECRUT_PROJECTS_2015)\n",
    "bmo_per_fap['percent_evolution_2016'] = (bmo_per_fap.evolution_2016 - 1) * 100\n",
    "_ = bmo_per_fap.plot(kind='scatter', x='NB_RECRUT_PROJECTS_2016', y='percent_evolution_2016')"
   ]
  },
  {
   "cell_type": "markdown",
   "metadata": {},
   "source": [
    "A first conclusion is that only job families with few hiring have huge evolutions. However let's look at the job family that almost got -100%."
   ]
  },
  {
   "cell_type": "code",
   "execution_count": 19,
   "metadata": {
    "collapsed": false
   },
   "outputs": [
    {
     "data": {
      "text/html": [
       "<div>\n",
       "<table border=\"1\" class=\"dataframe\">\n",
       "  <thead>\n",
       "    <tr style=\"text-align: right;\">\n",
       "      <th></th>\n",
       "      <th></th>\n",
       "      <th>percent_evolution_2016</th>\n",
       "      <th>NB_RECRUT_PROJECTS_2016</th>\n",
       "    </tr>\n",
       "    <tr>\n",
       "      <th>FAP_CODE</th>\n",
       "      <th>FAP_NAME</th>\n",
       "      <th></th>\n",
       "      <th></th>\n",
       "    </tr>\n",
       "  </thead>\n",
       "  <tbody>\n",
       "    <tr>\n",
       "      <th>U1Z92</th>\n",
       "      <th>Écrivains</th>\n",
       "      <td>-94.889297</td>\n",
       "      <td>6.78</td>\n",
       "    </tr>\n",
       "    <tr>\n",
       "      <th>A3Z90</th>\n",
       "      <th>Cadres et maîtres d'équipage de la marine</th>\n",
       "      <td>-79.209320</td>\n",
       "      <td>27.45</td>\n",
       "    </tr>\n",
       "    <tr>\n",
       "      <th>U1Z93</th>\n",
       "      <th>Artistes plasticiens</th>\n",
       "      <td>-77.666653</td>\n",
       "      <td>61.28</td>\n",
       "    </tr>\n",
       "    <tr>\n",
       "      <th>E1Z43</th>\n",
       "      <th>Autres ouvriers qualifiés en verre, céramique, métallurgie, matériaux de construction et énergie</th>\n",
       "      <td>-67.490604</td>\n",
       "      <td>256.53</td>\n",
       "    </tr>\n",
       "    <tr>\n",
       "      <th>W0Z80</th>\n",
       "      <th>Professeurs des écoles</th>\n",
       "      <td>-66.401160</td>\n",
       "      <td>346.67</td>\n",
       "    </tr>\n",
       "  </tbody>\n",
       "</table>\n",
       "</div>"
      ],
      "text/plain": [
       "                                                             percent_evolution_2016  \\\n",
       "FAP_CODE FAP_NAME                                                                     \n",
       "U1Z92    Écrivains                                                       -94.889297   \n",
       "A3Z90    Cadres et maîtres d'équipage de la marine                       -79.209320   \n",
       "U1Z93    Artistes plasticiens                                            -77.666653   \n",
       "E1Z43    Autres ouvriers qualifiés en verre, céramique, ...              -67.490604   \n",
       "W0Z80    Professeurs des écoles                                          -66.401160   \n",
       "\n",
       "                                                             NB_RECRUT_PROJECTS_2016  \n",
       "FAP_CODE FAP_NAME                                                                     \n",
       "U1Z92    Écrivains                                                              6.78  \n",
       "A3Z90    Cadres et maîtres d'équipage de la marine                             27.45  \n",
       "U1Z93    Artistes plasticiens                                                  61.28  \n",
       "E1Z43    Autres ouvriers qualifiés en verre, céramique, ...                   256.53  \n",
       "W0Z80    Professeurs des écoles                                               346.67  "
      ]
     },
     "execution_count": 19,
     "metadata": {},
     "output_type": "execute_result"
    }
   ],
   "source": [
    "bmo_per_fap.sort_values('percent_evolution_2016')[dimensions_2016].head()"
   ]
  },
  {
   "cell_type": "markdown",
   "metadata": {},
   "source": [
    "So \"writers\" seems so 2015…\n",
    "\n",
    "Let's check the distribution again only focusing on job families with more than 20k hires in the year:"
   ]
  },
  {
   "cell_type": "code",
   "execution_count": 20,
   "metadata": {
    "collapsed": false
   },
   "outputs": [
    {
     "data": {
      "image/png": "[encoded data removed]",
      "text/plain": [
       "<matplotlib.figure.Figure at 0x7f86dbd01358>"
      ]
     },
     "metadata": {},
     "output_type": "display_data"
    }
   ],
   "source": [
    "bmo_per_large_fap = bmo_per_fap[bmo_per_fap.NB_RECRUT_PROJECTS_2016 >= 20000]\n",
    "_ = bmo_per_large_fap.plot(kind='scatter', x='NB_RECRUT_PROJECTS_2016', y='percent_evolution_2016')"
   ]
  },
  {
   "cell_type": "markdown",
   "metadata": {},
   "source": [
    "That looks reasonnable, let's check top growth:"
   ]
  },
  {
   "cell_type": "code",
   "execution_count": 21,
   "metadata": {
    "collapsed": false
   },
   "outputs": [
    {
     "data": {
      "text/html": [
       "<div>\n",
       "<table border=\"1\" class=\"dataframe\">\n",
       "  <thead>\n",
       "    <tr style=\"text-align: right;\">\n",
       "      <th></th>\n",
       "      <th></th>\n",
       "      <th>percent_evolution_2016</th>\n",
       "      <th>NB_RECRUT_PROJECTS_2016</th>\n",
       "    </tr>\n",
       "    <tr>\n",
       "      <th>FAP_CODE</th>\n",
       "      <th>FAP_NAME</th>\n",
       "      <th></th>\n",
       "      <th></th>\n",
       "    </tr>\n",
       "  </thead>\n",
       "  <tbody>\n",
       "    <tr>\n",
       "      <th>T3Z61</th>\n",
       "      <th>Agents de sécurité et de surveillance (dont enquêteurs privés, agents cynophiles, convoyeurs de fonds)</th>\n",
       "      <td>29.095705</td>\n",
       "      <td>26482.16</td>\n",
       "    </tr>\n",
       "    <tr>\n",
       "      <th>M2Z90</th>\n",
       "      <th>Ingénieurs et cadres d'études, R et D en informatique, chefs de projets informatiques</th>\n",
       "      <td>20.714902</td>\n",
       "      <td>30004.10</td>\n",
       "    </tr>\n",
       "    <tr>\n",
       "      <th>U1Z91</th>\n",
       "      <th>Artistes (en musique, danse, spectacles, dont professeurs d'art)</th>\n",
       "      <td>14.489904</td>\n",
       "      <td>38630.45</td>\n",
       "    </tr>\n",
       "    <tr>\n",
       "      <th>L2Z61</th>\n",
       "      <th>Agents administratifs divers (dont saisie, assistanat RH, enquêtes)</th>\n",
       "      <td>13.985598</td>\n",
       "      <td>24420.14</td>\n",
       "    </tr>\n",
       "    <tr>\n",
       "      <th>U1Z80</th>\n",
       "      <th>Professionnels des spectacles</th>\n",
       "      <td>12.868539</td>\n",
       "      <td>21935.26</td>\n",
       "    </tr>\n",
       "  </tbody>\n",
       "</table>\n",
       "</div>"
      ],
      "text/plain": [
       "                                                             percent_evolution_2016  \\\n",
       "FAP_CODE FAP_NAME                                                                     \n",
       "T3Z61    Agents de sécurité et de surveillance (dont enq...               29.095705   \n",
       "M2Z90    Ingénieurs et cadres d'études, R et D en inform...               20.714902   \n",
       "U1Z91    Artistes (en musique, danse, spectacles, dont p...               14.489904   \n",
       "L2Z61    Agents administratifs divers (dont saisie, assi...               13.985598   \n",
       "U1Z80    Professionnels des spectacles                                    12.868539   \n",
       "\n",
       "                                                             NB_RECRUT_PROJECTS_2016  \n",
       "FAP_CODE FAP_NAME                                                                     \n",
       "T3Z61    Agents de sécurité et de surveillance (dont enq...                 26482.16  \n",
       "M2Z90    Ingénieurs et cadres d'études, R et D en inform...                 30004.10  \n",
       "U1Z91    Artistes (en musique, danse, spectacles, dont p...                 38630.45  \n",
       "L2Z61    Agents administratifs divers (dont saisie, assi...                 24420.14  \n",
       "U1Z80    Professionnels des spectacles                                      21935.26  "
      ]
     },
     "execution_count": 21,
     "metadata": {},
     "output_type": "execute_result"
    }
   ],
   "source": [
    "bmo_per_large_fap.sort_values('percent_evolution_2016', ascending=False)[dimensions_2016].head()"
   ]
  },
  {
   "cell_type": "markdown",
   "metadata": {},
   "source": [
    "It looks like Software Engineers with a lot of muscles are pretty trendy…\n",
    "\n",
    "## Conclusion\n",
    "\n",
    "So BMO 2016 data looks pretty good and after a quick clean-up we were able to compare it with the previous years (2014 & 2015).\n",
    "\n",
    "Some high level insights can be deduced from comparing these datasets. For instance, hiring is crashing in Marseille whereas it's in really good shape in Paris, and in Paris' western suburbs. Also hiring is booming for Security Guards and Software Engineers.\n",
    "\n",
    "Possible next steps:\n",
    "* compare 2015 -> 2016 evolution with the evolution from 2014 -> 2015 (e.g. did Marseille had an exceptional year last year, or is it really declining?)\n",
    "* go more local and understand at the \"bassin d'emploi\" level the local dynamics. E.g. find where a local decrease is compensated by a local increase next door so that we could advise our users to commute a bit more.\n",
    "* compare flux and stock: the BMO is mixing new hires and replacements, but if we had a dataset with the number of currently employed persons we could distinguish local markets that are booming, and the ones that are becoming less stable (more hiring, but more firing as well)."
   ]
  }
 ],
 "metadata": {
  "kernelspec": {
   "display_name": "Python 3",
   "language": "python",
   "name": "python3"
  },
  "language_info": {
   "codemirror_mode": {
    "name": "ipython",
    "version": 3
   },
   "file_extension": ".py",
   "mimetype": "text/x-python",
   "name": "python",
   "nbconvert_exporter": "python",
   "pygments_lexer": "ipython3",
   "version": "3.5.2"
  }
 },
 "nbformat": 4,
 "nbformat_minor": 0
}
