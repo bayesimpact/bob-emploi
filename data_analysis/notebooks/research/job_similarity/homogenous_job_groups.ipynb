{
 "cells": [
  {
   "cell_type": "markdown",
   "metadata": {},
   "source": [
    "# Homogenous Job Groups\n",
    "\n",
    "Author: `guillaume@bayes.org`\n",
    "\n",
    "Date: `2017-01-04`\n",
    "\n",
    "Can people easily switch jobs between the jobs of a job group? To find out, we use several datasets to find clues that the job group might be non homogenous. We are going to use three datasets:\n",
    "\n",
    "## Mobility\n",
    "\n",
    "We look at the job mobility links and investigate if they are different than the group mobility links, both for inlinks (mobility links towards a given job in a group) or outlinks (mobility links from a given job in the job group). Notebook on job mobility [here](./ROME_mobility_similarity.ipynb).\n",
    "\n",
    "## FAP\n",
    "\n",
    "If one job group is split between several FAP groups, it is an indication it might not be similar.\n",
    "\n",
    "## Salary\n",
    "\n",
    "Are job groups that have very different salaries not homogenous?"
   ]
  },
  {
   "cell_type": "markdown",
   "metadata": {},
   "source": [
    "## Imports and renaming\n",
    "\n",
    "First, a few imports and renaming:"
   ]
  },
  {
   "cell_type": "code",
   "execution_count": 1,
   "metadata": {
    "collapsed": false
   },
   "outputs": [
    {
     "data": {
      "text/html": [
       "<div>\n",
       "<table border=\"1\" class=\"dataframe\">\n",
       "  <thead>\n",
       "    <tr style=\"text-align: right;\">\n",
       "      <th></th>\n",
       "      <th>code_rome</th>\n",
       "      <th>code_rome_cible</th>\n",
       "      <th>code_appellation_source</th>\n",
       "      <th>code_appellation_cible</th>\n",
       "      <th>code_type_mobilite</th>\n",
       "      <th>libelle_type_mobilite</th>\n",
       "    </tr>\n",
       "  </thead>\n",
       "  <tbody>\n",
       "    <tr>\n",
       "      <th>0</th>\n",
       "      <td>A1101</td>\n",
       "      <td>A1416</td>\n",
       "      <td>NaN</td>\n",
       "      <td>NaN</td>\n",
       "      <td>1</td>\n",
       "      <td>Proche</td>\n",
       "    </tr>\n",
       "    <tr>\n",
       "      <th>1</th>\n",
       "      <td>A1202</td>\n",
       "      <td>A1203</td>\n",
       "      <td>NaN</td>\n",
       "      <td>NaN</td>\n",
       "      <td>1</td>\n",
       "      <td>Proche</td>\n",
       "    </tr>\n",
       "    <tr>\n",
       "      <th>2</th>\n",
       "      <td>A1203</td>\n",
       "      <td>A1202</td>\n",
       "      <td>NaN</td>\n",
       "      <td>NaN</td>\n",
       "      <td>1</td>\n",
       "      <td>Proche</td>\n",
       "    </tr>\n",
       "    <tr>\n",
       "      <th>3</th>\n",
       "      <td>A1203</td>\n",
       "      <td>A1405</td>\n",
       "      <td>NaN</td>\n",
       "      <td>NaN</td>\n",
       "      <td>1</td>\n",
       "      <td>Proche</td>\n",
       "    </tr>\n",
       "    <tr>\n",
       "      <th>4</th>\n",
       "      <td>A1203</td>\n",
       "      <td>A1414</td>\n",
       "      <td>NaN</td>\n",
       "      <td>NaN</td>\n",
       "      <td>1</td>\n",
       "      <td>Proche</td>\n",
       "    </tr>\n",
       "  </tbody>\n",
       "</table>\n",
       "</div>"
      ],
      "text/plain": [
       "  code_rome code_rome_cible  code_appellation_source  code_appellation_cible  \\\n",
       "0     A1101           A1416                      NaN                     NaN   \n",
       "1     A1202           A1203                      NaN                     NaN   \n",
       "2     A1203           A1202                      NaN                     NaN   \n",
       "3     A1203           A1405                      NaN                     NaN   \n",
       "4     A1203           A1414                      NaN                     NaN   \n",
       "\n",
       "   code_type_mobilite libelle_type_mobilite  \n",
       "0                   1                Proche  \n",
       "1                   1                Proche  \n",
       "2                   1                Proche  \n",
       "3                   1                Proche  \n",
       "4                   1                Proche  "
      ]
     },
     "execution_count": 1,
     "metadata": {},
     "output_type": "execute_result"
    }
   ],
   "source": [
    "%matplotlib inline\n",
    "\n",
    "import codecs\n",
    "\n",
    "from os import path\n",
    "\n",
    "import pandas as pd\n",
    "import seaborn as _\n",
    "from bob_emploi.lib import cleaned_data\n",
    "from bob_emploi.lib import read_data\n",
    "\n",
    "rome_version = 'v329'\n",
    "data_folder = '../../../data'\n",
    "rome_folder = path.join(data_folder, 'rome/csv')\n",
    "mobility_csv = path.join(rome_folder, 'unix_rubrique_mobilite_%s_utf8.csv' % rome_version)\n",
    "salaries = pd.read_csv('../../../data/fhs_salaries.csv', dtype={'departement_id': str})\n",
    "fap_names = read_data.parse_intitule_fap('../../../data/intitule_fap2009.txt')\n",
    "with codecs.open('../../../data/crosswalks/passage_fap2009_romev3.txt', 'r', 'latin-1') as fap_file:\n",
    "    fap_romeq_mapping = read_data.parse_fap_rome_crosswalk(fap_file.readlines())\n",
    "\n",
    "jobs_names = cleaned_data.rome_jobs(data_folder=data_folder).name\n",
    "job_groups = cleaned_data.rome_job_groups(data_folder=data_folder).name\n",
    "mobility = pd.read_csv(mobility_csv)\n",
    "\n",
    "mobility.head()"
   ]
  },
  {
   "cell_type": "markdown",
   "metadata": {},
   "source": [
    "Let's add the rome names:"
   ]
  },
  {
   "cell_type": "code",
   "execution_count": 2,
   "metadata": {
    "collapsed": false
   },
   "outputs": [
    {
     "data": {
      "text/html": [
       "<div>\n",
       "<table border=\"1\" class=\"dataframe\">\n",
       "  <thead>\n",
       "    <tr style=\"text-align: right;\">\n",
       "      <th></th>\n",
       "      <th>group_source</th>\n",
       "      <th>group_source_name</th>\n",
       "      <th>job_source</th>\n",
       "      <th>job_source_name</th>\n",
       "      <th>group_target</th>\n",
       "      <th>group_target_name</th>\n",
       "      <th>job_target</th>\n",
       "      <th>job_target_name</th>\n",
       "      <th>code_type_mobilite</th>\n",
       "      <th>libelle_type_mobilite</th>\n",
       "    </tr>\n",
       "  </thead>\n",
       "  <tbody>\n",
       "    <tr>\n",
       "      <th>0</th>\n",
       "      <td>A1101</td>\n",
       "      <td>Conduite d'engins agricoles et forestiers</td>\n",
       "      <td>NaN</td>\n",
       "      <td>NaN</td>\n",
       "      <td>A1416</td>\n",
       "      <td>Polyculture, élevage</td>\n",
       "      <td>NaN</td>\n",
       "      <td>NaN</td>\n",
       "      <td>1</td>\n",
       "      <td>Proche</td>\n",
       "    </tr>\n",
       "    <tr>\n",
       "      <th>1</th>\n",
       "      <td>A1202</td>\n",
       "      <td>Entretien des espaces naturels</td>\n",
       "      <td>NaN</td>\n",
       "      <td>NaN</td>\n",
       "      <td>A1203</td>\n",
       "      <td>Entretien des espaces verts</td>\n",
       "      <td>NaN</td>\n",
       "      <td>NaN</td>\n",
       "      <td>1</td>\n",
       "      <td>Proche</td>\n",
       "    </tr>\n",
       "    <tr>\n",
       "      <th>2</th>\n",
       "      <td>A1203</td>\n",
       "      <td>Entretien des espaces verts</td>\n",
       "      <td>NaN</td>\n",
       "      <td>NaN</td>\n",
       "      <td>A1202</td>\n",
       "      <td>Entretien des espaces naturels</td>\n",
       "      <td>NaN</td>\n",
       "      <td>NaN</td>\n",
       "      <td>1</td>\n",
       "      <td>Proche</td>\n",
       "    </tr>\n",
       "    <tr>\n",
       "      <th>3</th>\n",
       "      <td>A1203</td>\n",
       "      <td>Entretien des espaces verts</td>\n",
       "      <td>NaN</td>\n",
       "      <td>NaN</td>\n",
       "      <td>A1405</td>\n",
       "      <td>Arboriculture et viticulture</td>\n",
       "      <td>NaN</td>\n",
       "      <td>NaN</td>\n",
       "      <td>1</td>\n",
       "      <td>Proche</td>\n",
       "    </tr>\n",
       "    <tr>\n",
       "      <th>4</th>\n",
       "      <td>A1203</td>\n",
       "      <td>Entretien des espaces verts</td>\n",
       "      <td>NaN</td>\n",
       "      <td>NaN</td>\n",
       "      <td>A1414</td>\n",
       "      <td>Horticulture et maraîchage</td>\n",
       "      <td>NaN</td>\n",
       "      <td>NaN</td>\n",
       "      <td>1</td>\n",
       "      <td>Proche</td>\n",
       "    </tr>\n",
       "  </tbody>\n",
       "</table>\n",
       "</div>"
      ],
      "text/plain": [
       "  group_source                          group_source_name  job_source  \\\n",
       "0        A1101  Conduite d'engins agricoles et forestiers         NaN   \n",
       "1        A1202             Entretien des espaces naturels         NaN   \n",
       "2        A1203                Entretien des espaces verts         NaN   \n",
       "3        A1203                Entretien des espaces verts         NaN   \n",
       "4        A1203                Entretien des espaces verts         NaN   \n",
       "\n",
       "  job_source_name group_target               group_target_name  job_target  \\\n",
       "0             NaN        A1416            Polyculture, élevage         NaN   \n",
       "1             NaN        A1203     Entretien des espaces verts         NaN   \n",
       "2             NaN        A1202  Entretien des espaces naturels         NaN   \n",
       "3             NaN        A1405    Arboriculture et viticulture         NaN   \n",
       "4             NaN        A1414      Horticulture et maraîchage         NaN   \n",
       "\n",
       "  job_target_name  code_type_mobilite libelle_type_mobilite  \n",
       "0             NaN                   1                Proche  \n",
       "1             NaN                   1                Proche  \n",
       "2             NaN                   1                Proche  \n",
       "3             NaN                   1                Proche  \n",
       "4             NaN                   1                Proche  "
      ]
     },
     "execution_count": 2,
     "metadata": {},
     "output_type": "execute_result"
    }
   ],
   "source": [
    "# Rename columns.\n",
    "mobility.rename(columns={\n",
    "        'code_rome': 'group_source',\n",
    "        'code_appellation_source': 'job_source',\n",
    "        'code_rome_cible': 'group_target',\n",
    "        'code_appellation_cible': 'job_target',\n",
    "    }, inplace=True)\n",
    "\n",
    "# Add names.\n",
    "mobility['group_source_name'] = mobility['group_source'].map(job_groups)\n",
    "mobility['group_target_name'] = mobility['group_target'].map(job_groups)\n",
    "mobility['job_source_name'] = mobility['job_source'].map(jobs_names)\n",
    "mobility['job_target_name'] = mobility['job_target'].map(jobs_names)\n",
    "mobility = mobility[[\n",
    "        'group_source', 'group_source_name', 'job_source', 'job_source_name',\n",
    "        'group_target', 'group_target_name', 'job_target', 'job_target_name',\n",
    "        'code_type_mobilite', 'libelle_type_mobilite'\n",
    "    ]]\n",
    "mobility.head()"
   ]
  },
  {
   "cell_type": "markdown",
   "metadata": {},
   "source": [
    "## Homogenous from mobility inlinks\n",
    "\n",
    "Let's compute all the jobs that have mobility links that points towards them. We assume that the corresponding job group is not homogenous, otherwise the mobility would have been towards the whole group."
   ]
  },
  {
   "cell_type": "code",
   "execution_count": 3,
   "metadata": {
    "collapsed": false
   },
   "outputs": [
    {
     "data": {
      "text/html": [
       "<div>\n",
       "<table border=\"1\" class=\"dataframe\">\n",
       "  <thead>\n",
       "    <tr style=\"text-align: right;\">\n",
       "      <th></th>\n",
       "      <th>job_source</th>\n",
       "      <th>group_source</th>\n",
       "      <th>job_target</th>\n",
       "      <th>group_target</th>\n",
       "    </tr>\n",
       "  </thead>\n",
       "  <tbody>\n",
       "    <tr>\n",
       "      <th>5</th>\n",
       "      <td>NaN</td>\n",
       "      <td>A1204</td>\n",
       "      <td>11059.0</td>\n",
       "      <td>G1202</td>\n",
       "    </tr>\n",
       "    <tr>\n",
       "      <th>6</th>\n",
       "      <td>NaN</td>\n",
       "      <td>A1204</td>\n",
       "      <td>15194.0</td>\n",
       "      <td>K1707</td>\n",
       "    </tr>\n",
       "    <tr>\n",
       "      <th>30</th>\n",
       "      <td>NaN</td>\n",
       "      <td>A1412</td>\n",
       "      <td>14761.0</td>\n",
       "      <td>A1413</td>\n",
       "    </tr>\n",
       "    <tr>\n",
       "      <th>31</th>\n",
       "      <td>NaN</td>\n",
       "      <td>A1412</td>\n",
       "      <td>17423.0</td>\n",
       "      <td>A1413</td>\n",
       "    </tr>\n",
       "    <tr>\n",
       "      <th>32</th>\n",
       "      <td>NaN</td>\n",
       "      <td>A1412</td>\n",
       "      <td>17425.0</td>\n",
       "      <td>A1413</td>\n",
       "    </tr>\n",
       "  </tbody>\n",
       "</table>\n",
       "</div>"
      ],
      "text/plain": [
       "    job_source group_source  job_target group_target\n",
       "5          NaN        A1204     11059.0        G1202\n",
       "6          NaN        A1204     15194.0        K1707\n",
       "30         NaN        A1412     14761.0        A1413\n",
       "31         NaN        A1412     17423.0        A1413\n",
       "32         NaN        A1412     17425.0        A1413"
      ]
     },
     "execution_count": 3,
     "metadata": {},
     "output_type": "execute_result"
    }
   ],
   "source": [
    "# Only keeps links pointing to a job inside.\n",
    "job_targets = mobility[mobility.job_target.notnull()][['job_source', 'group_source','job_target', 'group_target']]\n",
    "\n",
    "job_targets.head()"
   ]
  },
  {
   "cell_type": "markdown",
   "metadata": {},
   "source": [
    "Let's see which job groups are homogenous:"
   ]
  },
  {
   "cell_type": "code",
   "execution_count": 4,
   "metadata": {
    "collapsed": false
   },
   "outputs": [
    {
     "data": {
      "text/html": [
       "<div>\n",
       "<table border=\"1\" class=\"dataframe\">\n",
       "  <thead>\n",
       "    <tr style=\"text-align: right;\">\n",
       "      <th></th>\n",
       "      <th>homogenous</th>\n",
       "      <th>name</th>\n",
       "    </tr>\n",
       "    <tr>\n",
       "      <th>code_rome</th>\n",
       "      <th></th>\n",
       "      <th></th>\n",
       "    </tr>\n",
       "  </thead>\n",
       "  <tbody>\n",
       "    <tr>\n",
       "      <th>A1204</th>\n",
       "      <td>True</td>\n",
       "      <td>Protection du patrimoine naturel</td>\n",
       "    </tr>\n",
       "    <tr>\n",
       "      <th>D1301</th>\n",
       "      <td>True</td>\n",
       "      <td>Management de magasin de détail</td>\n",
       "    </tr>\n",
       "    <tr>\n",
       "      <th>A1205</th>\n",
       "      <td>True</td>\n",
       "      <td>Sylviculture</td>\n",
       "    </tr>\n",
       "    <tr>\n",
       "      <th>D1501</th>\n",
       "      <td>True</td>\n",
       "      <td>Animation de vente</td>\n",
       "    </tr>\n",
       "    <tr>\n",
       "      <th>D1504</th>\n",
       "      <td>True</td>\n",
       "      <td>Direction de magasin de grande distribution</td>\n",
       "    </tr>\n",
       "  </tbody>\n",
       "</table>\n",
       "</div>"
      ],
      "text/plain": [
       "          homogenous                                         name\n",
       "code_rome                                                        \n",
       "A1204           True             Protection du patrimoine naturel\n",
       "D1301           True              Management de magasin de détail\n",
       "A1205           True                                 Sylviculture\n",
       "D1501           True                           Animation de vente\n",
       "D1504           True  Direction de magasin de grande distribution"
      ]
     },
     "execution_count": 4,
     "metadata": {},
     "output_type": "execute_result"
    }
   ],
   "source": [
    "homogenous_according_to_inlink = job_targets.groupby('group_target').first().isnull()['group_source']\n",
    "homogenous_according_to_inlink.name = 'homogenous'\n",
    "\n",
    "# Setting a value for all job groups.\n",
    "homogenous_according_to_inlink = homogenous_according_to_inlink.reindex(job_groups.index).fillna(True)\n",
    "\n",
    "inlink = homogenous_according_to_inlink.to_frame().join(job_groups)\n",
    "inlink[inlink.homogenous].head()"
   ]
  },
  {
   "cell_type": "markdown",
   "metadata": {},
   "source": [
    "And not homogenous:"
   ]
  },
  {
   "cell_type": "code",
   "execution_count": 5,
   "metadata": {
    "collapsed": false
   },
   "outputs": [
    {
     "data": {
      "text/html": [
       "<div>\n",
       "<table border=\"1\" class=\"dataframe\">\n",
       "  <thead>\n",
       "    <tr style=\"text-align: right;\">\n",
       "      <th></th>\n",
       "      <th>homogenous</th>\n",
       "      <th>name</th>\n",
       "    </tr>\n",
       "    <tr>\n",
       "      <th>code_rome</th>\n",
       "      <th></th>\n",
       "      <th></th>\n",
       "    </tr>\n",
       "  </thead>\n",
       "  <tbody>\n",
       "    <tr>\n",
       "      <th>D1214</th>\n",
       "      <td>False</td>\n",
       "      <td>Vente en habillement et accessoires de la pers...</td>\n",
       "    </tr>\n",
       "    <tr>\n",
       "      <th>D1401</th>\n",
       "      <td>False</td>\n",
       "      <td>Assistanat commercial</td>\n",
       "    </tr>\n",
       "    <tr>\n",
       "      <th>D1402</th>\n",
       "      <td>False</td>\n",
       "      <td>Relation commerciale grands comptes et entrepr...</td>\n",
       "    </tr>\n",
       "    <tr>\n",
       "      <th>D1403</th>\n",
       "      <td>False</td>\n",
       "      <td>Relation commerciale auprès de particuliers</td>\n",
       "    </tr>\n",
       "    <tr>\n",
       "      <th>D1404</th>\n",
       "      <td>False</td>\n",
       "      <td>Relation commerciale en vente de véhicules</td>\n",
       "    </tr>\n",
       "  </tbody>\n",
       "</table>\n",
       "</div>"
      ],
      "text/plain": [
       "          homogenous                                               name\n",
       "code_rome                                                              \n",
       "D1214          False  Vente en habillement et accessoires de la pers...\n",
       "D1401          False                              Assistanat commercial\n",
       "D1402          False  Relation commerciale grands comptes et entrepr...\n",
       "D1403          False        Relation commerciale auprès de particuliers\n",
       "D1404          False         Relation commerciale en vente de véhicules"
      ]
     },
     "execution_count": 5,
     "metadata": {},
     "output_type": "execute_result"
    }
   ],
   "source": [
    "inlink[~inlink.homogenous].head()"
   ]
  },
  {
   "cell_type": "code",
   "execution_count": 6,
   "metadata": {
    "collapsed": false
   },
   "outputs": [
    {
     "name": "stdout",
     "output_type": "stream",
     "text": [
      "We have 319 homogenous groups according to inlinks.\n"
     ]
    }
   ],
   "source": [
    "print('We have ' + repr(homogenous_according_to_inlink.sum()) + ' homogenous groups according to inlinks.')"
   ]
  },
  {
   "cell_type": "markdown",
   "metadata": {},
   "source": [
    "## Homogenous from mobility outlinks\n",
    "\n",
    "Now let's check the exact opposite: job groups that links starting from a job inside of them."
   ]
  },
  {
   "cell_type": "code",
   "execution_count": 7,
   "metadata": {
    "collapsed": false
   },
   "outputs": [
    {
     "data": {
      "text/html": [
       "<div>\n",
       "<table border=\"1\" class=\"dataframe\">\n",
       "  <thead>\n",
       "    <tr style=\"text-align: right;\">\n",
       "      <th></th>\n",
       "      <th>job_source</th>\n",
       "      <th>group_source</th>\n",
       "      <th>job_target</th>\n",
       "      <th>group_target</th>\n",
       "    </tr>\n",
       "  </thead>\n",
       "  <tbody>\n",
       "    <tr>\n",
       "      <th>38</th>\n",
       "      <td>17010.0</td>\n",
       "      <td>A1413</td>\n",
       "      <td>NaN</td>\n",
       "      <td>D1501</td>\n",
       "    </tr>\n",
       "    <tr>\n",
       "      <th>80</th>\n",
       "      <td>15405.0</td>\n",
       "      <td>B1303</td>\n",
       "      <td>15415.0</td>\n",
       "      <td>B1603</td>\n",
       "    </tr>\n",
       "    <tr>\n",
       "      <th>184</th>\n",
       "      <td>10868.0</td>\n",
       "      <td>D1102</td>\n",
       "      <td>NaN</td>\n",
       "      <td>G1604</td>\n",
       "    </tr>\n",
       "    <tr>\n",
       "      <th>187</th>\n",
       "      <td>10868.0</td>\n",
       "      <td>D1102</td>\n",
       "      <td>NaN</td>\n",
       "      <td>H3303</td>\n",
       "    </tr>\n",
       "    <tr>\n",
       "      <th>214</th>\n",
       "      <td>10259.0</td>\n",
       "      <td>D1201</td>\n",
       "      <td>NaN</td>\n",
       "      <td>D1214</td>\n",
       "    </tr>\n",
       "  </tbody>\n",
       "</table>\n",
       "</div>"
      ],
      "text/plain": [
       "     job_source group_source  job_target group_target\n",
       "38      17010.0        A1413         NaN        D1501\n",
       "80      15405.0        B1303     15415.0        B1603\n",
       "184     10868.0        D1102         NaN        G1604\n",
       "187     10868.0        D1102         NaN        H3303\n",
       "214     10259.0        D1201         NaN        D1214"
      ]
     },
     "execution_count": 7,
     "metadata": {},
     "output_type": "execute_result"
    }
   ],
   "source": [
    "# Only keeps links pointing from a job inside.\n",
    "jobs_sources = mobility[mobility.job_source.notnull()][['job_source', 'group_source','job_target', 'group_target']]\n",
    "\n",
    "jobs_sources.head()"
   ]
  },
  {
   "cell_type": "markdown",
   "metadata": {},
   "source": [
    "Let's see which job groups are homogenous:"
   ]
  },
  {
   "cell_type": "code",
   "execution_count": 8,
   "metadata": {
    "collapsed": false
   },
   "outputs": [
    {
     "data": {
      "text/html": [
       "<div>\n",
       "<table border=\"1\" class=\"dataframe\">\n",
       "  <thead>\n",
       "    <tr style=\"text-align: right;\">\n",
       "      <th></th>\n",
       "      <th>homogenous</th>\n",
       "      <th>name</th>\n",
       "    </tr>\n",
       "    <tr>\n",
       "      <th>code_rome</th>\n",
       "      <th></th>\n",
       "      <th></th>\n",
       "    </tr>\n",
       "  </thead>\n",
       "  <tbody>\n",
       "    <tr>\n",
       "      <th>A1204</th>\n",
       "      <td>True</td>\n",
       "      <td>Protection du patrimoine naturel</td>\n",
       "    </tr>\n",
       "    <tr>\n",
       "      <th>D1301</th>\n",
       "      <td>True</td>\n",
       "      <td>Management de magasin de détail</td>\n",
       "    </tr>\n",
       "    <tr>\n",
       "      <th>D1401</th>\n",
       "      <td>True</td>\n",
       "      <td>Assistanat commercial</td>\n",
       "    </tr>\n",
       "    <tr>\n",
       "      <th>D1403</th>\n",
       "      <td>True</td>\n",
       "      <td>Relation commerciale auprès de particuliers</td>\n",
       "    </tr>\n",
       "    <tr>\n",
       "      <th>D1404</th>\n",
       "      <td>True</td>\n",
       "      <td>Relation commerciale en vente de véhicules</td>\n",
       "    </tr>\n",
       "  </tbody>\n",
       "</table>\n",
       "</div>"
      ],
      "text/plain": [
       "          homogenous                                         name\n",
       "code_rome                                                        \n",
       "A1204           True             Protection du patrimoine naturel\n",
       "D1301           True              Management de magasin de détail\n",
       "D1401           True                        Assistanat commercial\n",
       "D1403           True  Relation commerciale auprès de particuliers\n",
       "D1404           True   Relation commerciale en vente de véhicules"
      ]
     },
     "execution_count": 8,
     "metadata": {},
     "output_type": "execute_result"
    }
   ],
   "source": [
    "# Extract groups.\n",
    "homogenous_according_to_outlink = jobs_sources.groupby('group_source').first().isnull()['group_target']\n",
    "homogenous_according_to_outlink.name = 'homogenous'\n",
    "\n",
    "# Setting a value for all groups.\n",
    "homogenous_according_to_outlink = homogenous_according_to_outlink.reindex(job_groups.index).fillna(True)\n",
    "\n",
    "outlink = homogenous_according_to_outlink.to_frame().join(job_groups)\n",
    "outlink[outlink.homogenous].head()"
   ]
  },
  {
   "cell_type": "markdown",
   "metadata": {},
   "source": [
    "And not homogenous:"
   ]
  },
  {
   "cell_type": "code",
   "execution_count": 9,
   "metadata": {
    "collapsed": false
   },
   "outputs": [
    {
     "data": {
      "text/html": [
       "<div>\n",
       "<table border=\"1\" class=\"dataframe\">\n",
       "  <thead>\n",
       "    <tr style=\"text-align: right;\">\n",
       "      <th></th>\n",
       "      <th>homogenous</th>\n",
       "      <th>name</th>\n",
       "    </tr>\n",
       "    <tr>\n",
       "      <th>code_rome</th>\n",
       "      <th></th>\n",
       "      <th></th>\n",
       "    </tr>\n",
       "  </thead>\n",
       "  <tbody>\n",
       "    <tr>\n",
       "      <th>D1214</th>\n",
       "      <td>False</td>\n",
       "      <td>Vente en habillement et accessoires de la pers...</td>\n",
       "    </tr>\n",
       "    <tr>\n",
       "      <th>D1402</th>\n",
       "      <td>False</td>\n",
       "      <td>Relation commerciale grands comptes et entrepr...</td>\n",
       "    </tr>\n",
       "    <tr>\n",
       "      <th>D1408</th>\n",
       "      <td>False</td>\n",
       "      <td>Téléconseil et télévente</td>\n",
       "    </tr>\n",
       "    <tr>\n",
       "      <th>E1102</th>\n",
       "      <td>False</td>\n",
       "      <td>Ecriture d'ouvrages, de livres</td>\n",
       "    </tr>\n",
       "    <tr>\n",
       "      <th>E1104</th>\n",
       "      <td>False</td>\n",
       "      <td>Conception de contenus multimédias</td>\n",
       "    </tr>\n",
       "  </tbody>\n",
       "</table>\n",
       "</div>"
      ],
      "text/plain": [
       "          homogenous                                               name\n",
       "code_rome                                                              \n",
       "D1214          False  Vente en habillement et accessoires de la pers...\n",
       "D1402          False  Relation commerciale grands comptes et entrepr...\n",
       "D1408          False                           Téléconseil et télévente\n",
       "E1102          False                     Ecriture d'ouvrages, de livres\n",
       "E1104          False                 Conception de contenus multimédias"
      ]
     },
     "execution_count": 9,
     "metadata": {},
     "output_type": "execute_result"
    }
   ],
   "source": [
    "outlink[~outlink.homogenous].head()"
   ]
  },
  {
   "cell_type": "code",
   "execution_count": 10,
   "metadata": {
    "collapsed": false
   },
   "outputs": [
    {
     "name": "stdout",
     "output_type": "stream",
     "text": [
      "We have 451 homogenous groups according to outlinks.\n"
     ]
    }
   ],
   "source": [
    "print('We have ' + repr(homogenous_according_to_outlink.sum()) + ' homogenous groups according to outlinks.')"
   ]
  },
  {
   "cell_type": "markdown",
   "metadata": {},
   "source": [
    "## Homogenous according to FAP\n",
    "\n",
    "FAP is an other way to group jobs. There is mapping from FAP to rome, see [here](../../datasets/rome/ROME-FAP_Mapping.ipynb). If there is a ROME group that maps to several FAP, we assume that the ROME is not homogenous.\n",
    "\n",
    "First we extract the mapping rome to fap:"
   ]
  },
  {
   "cell_type": "code",
   "execution_count": 11,
   "metadata": {
    "collapsed": false
   },
   "outputs": [
    {
     "data": {
      "text/html": [
       "<div>\n",
       "<table border=\"1\" class=\"dataframe\">\n",
       "  <thead>\n",
       "    <tr style=\"text-align: right;\">\n",
       "      <th></th>\n",
       "      <th>rome</th>\n",
       "      <th>fap</th>\n",
       "      <th>homogenous</th>\n",
       "    </tr>\n",
       "  </thead>\n",
       "  <tbody>\n",
       "    <tr>\n",
       "      <th>0</th>\n",
       "      <td>A1101</td>\n",
       "      <td>[A0Z43]</td>\n",
       "      <td>True</td>\n",
       "    </tr>\n",
       "    <tr>\n",
       "      <th>1</th>\n",
       "      <td>A1201</td>\n",
       "      <td>[A0Z42]</td>\n",
       "      <td>True</td>\n",
       "    </tr>\n",
       "    <tr>\n",
       "      <th>2</th>\n",
       "      <td>A1202</td>\n",
       "      <td>[A1Z41]</td>\n",
       "      <td>True</td>\n",
       "    </tr>\n",
       "    <tr>\n",
       "      <th>3</th>\n",
       "      <td>A1203</td>\n",
       "      <td>[A1Z41]</td>\n",
       "      <td>True</td>\n",
       "    </tr>\n",
       "    <tr>\n",
       "      <th>4</th>\n",
       "      <td>A1204</td>\n",
       "      <td>[A0Z42, G1Z70, H0Z91]</td>\n",
       "      <td>False</td>\n",
       "    </tr>\n",
       "  </tbody>\n",
       "</table>\n",
       "</div>"
      ],
      "text/plain": [
       "    rome                    fap homogenous\n",
       "0  A1101                [A0Z43]       True\n",
       "1  A1201                [A0Z42]       True\n",
       "2  A1202                [A1Z41]       True\n",
       "3  A1203                [A1Z41]       True\n",
       "4  A1204  [A0Z42, G1Z70, H0Z91]      False"
      ]
     },
     "execution_count": 11,
     "metadata": {},
     "output_type": "execute_result"
    }
   ],
   "source": [
    "# parse_fap_rome_crosswalk gives actually qualified ROME codes.\n",
    "fap_romeq_mapping = fap_romeq_mapping.rename(columns={'rome': 'romeQ'})\n",
    "\n",
    "fap_romeq_mapping['rome'] = fap_romeq_mapping['romeQ'].apply(lambda s: s[:5])\n",
    "fap_mapping = fap_romeq_mapping.groupby(['rome','fap'], as_index=False).first()\n",
    "del(fap_mapping['romeQ'])\n",
    "\n",
    "flatten_mapping = fap_mapping.groupby('rome', as_index=False).agg({'fap': lambda x: sorted(x.tolist())})\n",
    "flatten_mapping['homogenous'] = flatten_mapping.fap.apply(lambda x: len(x) == 1)\n",
    "\n",
    "flatten_mapping.head()"
   ]
  },
  {
   "cell_type": "markdown",
   "metadata": {},
   "source": [
    "Now we check if a ROME group maps to several FAP groups, then it's not homogenous:"
   ]
  },
  {
   "cell_type": "code",
   "execution_count": 12,
   "metadata": {
    "collapsed": false
   },
   "outputs": [
    {
     "data": {
      "text/html": [
       "<div>\n",
       "<table border=\"1\" class=\"dataframe\">\n",
       "  <thead>\n",
       "    <tr style=\"text-align: right;\">\n",
       "      <th></th>\n",
       "      <th>homogenous</th>\n",
       "      <th>name</th>\n",
       "    </tr>\n",
       "    <tr>\n",
       "      <th>code_rome</th>\n",
       "      <th></th>\n",
       "      <th></th>\n",
       "    </tr>\n",
       "  </thead>\n",
       "  <tbody>\n",
       "    <tr>\n",
       "      <th>A1204</th>\n",
       "      <td>False</td>\n",
       "      <td>Protection du patrimoine naturel</td>\n",
       "    </tr>\n",
       "    <tr>\n",
       "      <th>D1401</th>\n",
       "      <td>False</td>\n",
       "      <td>Assistanat commercial</td>\n",
       "    </tr>\n",
       "    <tr>\n",
       "      <th>D1407</th>\n",
       "      <td>False</td>\n",
       "      <td>Relation technico-commerciale</td>\n",
       "    </tr>\n",
       "    <tr>\n",
       "      <th>D1501</th>\n",
       "      <td>False</td>\n",
       "      <td>Animation de vente</td>\n",
       "    </tr>\n",
       "    <tr>\n",
       "      <th>D1506</th>\n",
       "      <td>False</td>\n",
       "      <td>Marchandisage</td>\n",
       "    </tr>\n",
       "  </tbody>\n",
       "</table>\n",
       "</div>"
      ],
      "text/plain": [
       "          homogenous                              name\n",
       "code_rome                                             \n",
       "A1204          False  Protection du patrimoine naturel\n",
       "D1401          False             Assistanat commercial\n",
       "D1407          False     Relation technico-commerciale\n",
       "D1501          False                Animation de vente\n",
       "D1506          False                     Marchandisage"
      ]
     },
     "execution_count": 12,
     "metadata": {},
     "output_type": "execute_result"
    }
   ],
   "source": [
    "homogenous_according_to_fap = flatten_mapping[~flatten_mapping.homogenous]\n",
    "homogenous_according_to_fap.set_index('rome', inplace=True)\n",
    "homogenous_according_to_fap = homogenous_according_to_fap['homogenous']\n",
    "homogenous_according_to_fap.head()\n",
    "\n",
    "# Setting a value for all job groups.\n",
    "homogenous_according_to_fap = homogenous_according_to_fap.reindex(job_groups.index).fillna(True)\n",
    "\n",
    "fap = homogenous_according_to_fap.to_frame().join(job_groups)\n",
    "fap[~fap.homogenous].head()"
   ]
  },
  {
   "cell_type": "markdown",
   "metadata": {},
   "source": [
    "Let's see the not homogenous ones:"
   ]
  },
  {
   "cell_type": "code",
   "execution_count": 13,
   "metadata": {
    "collapsed": false
   },
   "outputs": [
    {
     "data": {
      "text/html": [
       "<div>\n",
       "<table border=\"1\" class=\"dataframe\">\n",
       "  <thead>\n",
       "    <tr style=\"text-align: right;\">\n",
       "      <th></th>\n",
       "      <th>homogenous</th>\n",
       "      <th>name</th>\n",
       "    </tr>\n",
       "    <tr>\n",
       "      <th>code_rome</th>\n",
       "      <th></th>\n",
       "      <th></th>\n",
       "    </tr>\n",
       "  </thead>\n",
       "  <tbody>\n",
       "    <tr>\n",
       "      <th>D1214</th>\n",
       "      <td>True</td>\n",
       "      <td>Vente en habillement et accessoires de la pers...</td>\n",
       "    </tr>\n",
       "    <tr>\n",
       "      <th>D1301</th>\n",
       "      <td>True</td>\n",
       "      <td>Management de magasin de détail</td>\n",
       "    </tr>\n",
       "    <tr>\n",
       "      <th>D1402</th>\n",
       "      <td>True</td>\n",
       "      <td>Relation commerciale grands comptes et entrepr...</td>\n",
       "    </tr>\n",
       "    <tr>\n",
       "      <th>D1403</th>\n",
       "      <td>True</td>\n",
       "      <td>Relation commerciale auprès de particuliers</td>\n",
       "    </tr>\n",
       "    <tr>\n",
       "      <th>D1404</th>\n",
       "      <td>True</td>\n",
       "      <td>Relation commerciale en vente de véhicules</td>\n",
       "    </tr>\n",
       "  </tbody>\n",
       "</table>\n",
       "</div>"
      ],
      "text/plain": [
       "          homogenous                                               name\n",
       "code_rome                                                              \n",
       "D1214           True  Vente en habillement et accessoires de la pers...\n",
       "D1301           True                    Management de magasin de détail\n",
       "D1402           True  Relation commerciale grands comptes et entrepr...\n",
       "D1403           True        Relation commerciale auprès de particuliers\n",
       "D1404           True         Relation commerciale en vente de véhicules"
      ]
     },
     "execution_count": 13,
     "metadata": {},
     "output_type": "execute_result"
    }
   ],
   "source": [
    "fap[fap.homogenous].head()"
   ]
  },
  {
   "cell_type": "code",
   "execution_count": 14,
   "metadata": {
    "collapsed": false
   },
   "outputs": [
    {
     "name": "stdout",
     "output_type": "stream",
     "text": [
      "We have 330 homogenous groups according to fap.\n"
     ]
    }
   ],
   "source": [
    "print('We have ' + repr(homogenous_according_to_fap.sum()) + ' homogenous groups according to fap.')"
   ]
  },
  {
   "cell_type": "markdown",
   "metadata": {},
   "source": [
    "## Homogenous according to FHS\n",
    "\n",
    "The FHS contains all salaries asked by jobseekers. We are going to see if we can determine similarity based on similarity of salaries inside a job group.\n",
    "\n",
    "Let's only keep salaries that are reasonable, and count the total number of jobseekers by department/rome:"
   ]
  },
  {
   "cell_type": "code",
   "execution_count": 15,
   "metadata": {
    "collapsed": false
   },
   "outputs": [
    {
     "data": {
      "text/html": [
       "<div>\n",
       "<table border=\"1\" class=\"dataframe\">\n",
       "  <thead>\n",
       "    <tr style=\"text-align: right;\">\n",
       "      <th></th>\n",
       "      <th>departement_id</th>\n",
       "      <th>code_rome</th>\n",
       "      <th>count</th>\n",
       "    </tr>\n",
       "  </thead>\n",
       "  <tbody>\n",
       "    <tr>\n",
       "      <th>0</th>\n",
       "      <td>02</td>\n",
       "      <td>A1101</td>\n",
       "      <td>18</td>\n",
       "    </tr>\n",
       "    <tr>\n",
       "      <th>1</th>\n",
       "      <td>02</td>\n",
       "      <td>A1201</td>\n",
       "      <td>9</td>\n",
       "    </tr>\n",
       "    <tr>\n",
       "      <th>2</th>\n",
       "      <td>02</td>\n",
       "      <td>A1202</td>\n",
       "      <td>45</td>\n",
       "    </tr>\n",
       "    <tr>\n",
       "      <th>3</th>\n",
       "      <td>02</td>\n",
       "      <td>A1203</td>\n",
       "      <td>165</td>\n",
       "    </tr>\n",
       "    <tr>\n",
       "      <th>4</th>\n",
       "      <td>02</td>\n",
       "      <td>A1204</td>\n",
       "      <td>1</td>\n",
       "    </tr>\n",
       "  </tbody>\n",
       "</table>\n",
       "</div>"
      ],
      "text/plain": [
       "  departement_id code_rome  count\n",
       "0             02     A1101     18\n",
       "1             02     A1201      9\n",
       "2             02     A1202     45\n",
       "3             02     A1203    165\n",
       "4             02     A1204      1"
      ]
     },
     "execution_count": 15,
     "metadata": {},
     "output_type": "execute_result"
    }
   ],
   "source": [
    "reasonable_salaries = salaries[(salaries.salary_high > 10000) & (salaries.salary_high < 5000000)]\n",
    "jobseekers = reasonable_salaries.groupby(['departement_id', 'code_rome']).sum()['count'].reset_index()\n",
    "\n",
    "# Going to country level.\n",
    "counts = jobseekers.groupby('code_rome').sum()\n",
    "counts['name'] = job_groups\n",
    "\n",
    "jobseekers.head()"
   ]
  },
  {
   "cell_type": "markdown",
   "metadata": {},
   "source": [
    "Let's define two homogeneity measures based on salaries:  \n",
    "\n",
    "* Homogeneity\n",
    "\n",
    "Defined as median / (max - min), this shows the variation between min and max.\n",
    "\n",
    "* Strangeness\n",
    "\n",
    "Defined as (max - median) / (1000 + median - min), this shows how much the max is away from the median compared to the min. We put 1000 to avoid infinite strangeness when min = median. That puts a upper bound of (max - median)/1000 to the strangeness."
   ]
  },
  {
   "cell_type": "code",
   "execution_count": 16,
   "metadata": {
    "collapsed": false
   },
   "outputs": [
    {
     "data": {
      "text/html": [
       "<div>\n",
       "<table border=\"1\" class=\"dataframe\">\n",
       "  <thead>\n",
       "    <tr style=\"text-align: right;\">\n",
       "      <th></th>\n",
       "      <th>job_group_name</th>\n",
       "      <th>min</th>\n",
       "      <th>median</th>\n",
       "      <th>max</th>\n",
       "      <th>homogeneity</th>\n",
       "      <th>strangeness</th>\n",
       "    </tr>\n",
       "    <tr>\n",
       "      <th>code_rome</th>\n",
       "      <th></th>\n",
       "      <th></th>\n",
       "      <th></th>\n",
       "      <th></th>\n",
       "      <th></th>\n",
       "      <th></th>\n",
       "    </tr>\n",
       "  </thead>\n",
       "  <tbody>\n",
       "    <tr>\n",
       "      <th>J1408</th>\n",
       "      <td>Ostéopathie et chiropraxie</td>\n",
       "      <td>13200.0</td>\n",
       "      <td>18000</td>\n",
       "      <td>75000</td>\n",
       "      <td>0.291262</td>\n",
       "      <td>10.754717</td>\n",
       "    </tr>\n",
       "    <tr>\n",
       "      <th>L1102</th>\n",
       "      <td>Mannequinat et pose artistique</td>\n",
       "      <td>17800.0</td>\n",
       "      <td>21600</td>\n",
       "      <td>62000</td>\n",
       "      <td>0.488688</td>\n",
       "      <td>9.395349</td>\n",
       "    </tr>\n",
       "    <tr>\n",
       "      <th>J1201</th>\n",
       "      <td>Biologie médicale</td>\n",
       "      <td>17500.0</td>\n",
       "      <td>25000</td>\n",
       "      <td>62000</td>\n",
       "      <td>0.561798</td>\n",
       "      <td>4.625000</td>\n",
       "    </tr>\n",
       "    <tr>\n",
       "      <th>C1105</th>\n",
       "      <td>Études actuarielles en assurances</td>\n",
       "      <td>21600.0</td>\n",
       "      <td>45000</td>\n",
       "      <td>95000</td>\n",
       "      <td>0.613079</td>\n",
       "      <td>2.092050</td>\n",
       "    </tr>\n",
       "    <tr>\n",
       "      <th>M1207</th>\n",
       "      <td>Trésorerie et financement</td>\n",
       "      <td>28500.0</td>\n",
       "      <td>40000</td>\n",
       "      <td>90000</td>\n",
       "      <td>0.650407</td>\n",
       "      <td>4.166667</td>\n",
       "    </tr>\n",
       "    <tr>\n",
       "      <th>J1102</th>\n",
       "      <td>Médecine généraliste et spécialisée</td>\n",
       "      <td>21600.0</td>\n",
       "      <td>42000</td>\n",
       "      <td>80000</td>\n",
       "      <td>0.719178</td>\n",
       "      <td>1.818182</td>\n",
       "    </tr>\n",
       "    <tr>\n",
       "      <th>J1103</th>\n",
       "      <td>Médecine dentaire</td>\n",
       "      <td>18000.0</td>\n",
       "      <td>32000</td>\n",
       "      <td>62000</td>\n",
       "      <td>0.727273</td>\n",
       "      <td>2.068966</td>\n",
       "    </tr>\n",
       "    <tr>\n",
       "      <th>F1203</th>\n",
       "      <td>Direction et ingénierie d'exploitation de gise...</td>\n",
       "      <td>24000.0</td>\n",
       "      <td>45000</td>\n",
       "      <td>85000</td>\n",
       "      <td>0.737705</td>\n",
       "      <td>1.860465</td>\n",
       "    </tr>\n",
       "    <tr>\n",
       "      <th>C1103</th>\n",
       "      <td>Courtage en assurances</td>\n",
       "      <td>20000.0</td>\n",
       "      <td>32000</td>\n",
       "      <td>62000</td>\n",
       "      <td>0.761905</td>\n",
       "      <td>2.400000</td>\n",
       "    </tr>\n",
       "    <tr>\n",
       "      <th>C1303</th>\n",
       "      <td>Gestion de portefeuilles sur les marchés finan...</td>\n",
       "      <td>36000.0</td>\n",
       "      <td>46000</td>\n",
       "      <td>95000</td>\n",
       "      <td>0.779661</td>\n",
       "      <td>4.666667</td>\n",
       "    </tr>\n",
       "  </tbody>\n",
       "</table>\n",
       "</div>"
      ],
      "text/plain": [
       "                                              job_group_name      min  median  \\\n",
       "code_rome                                                                       \n",
       "J1408                             Ostéopathie et chiropraxie  13200.0   18000   \n",
       "L1102                         Mannequinat et pose artistique  17800.0   21600   \n",
       "J1201                                      Biologie médicale  17500.0   25000   \n",
       "C1105                      Études actuarielles en assurances  21600.0   45000   \n",
       "M1207                              Trésorerie et financement  28500.0   40000   \n",
       "J1102                    Médecine généraliste et spécialisée  21600.0   42000   \n",
       "J1103                                      Médecine dentaire  18000.0   32000   \n",
       "F1203      Direction et ingénierie d'exploitation de gise...  24000.0   45000   \n",
       "C1103                                 Courtage en assurances  20000.0   32000   \n",
       "C1303      Gestion de portefeuilles sur les marchés finan...  36000.0   46000   \n",
       "\n",
       "             max  homogeneity  strangeness  \n",
       "code_rome                                   \n",
       "J1408      75000     0.291262    10.754717  \n",
       "L1102      62000     0.488688     9.395349  \n",
       "J1201      62000     0.561798     4.625000  \n",
       "C1105      95000     0.613079     2.092050  \n",
       "M1207      90000     0.650407     4.166667  \n",
       "J1102      80000     0.719178     1.818182  \n",
       "J1103      62000     0.727273     2.068966  \n",
       "F1203      85000     0.737705     1.860465  \n",
       "C1103      62000     0.761905     2.400000  \n",
       "C1303      95000     0.779661     4.666667  "
      ]
     },
     "execution_count": 16,
     "metadata": {},
     "output_type": "execute_result"
    }
   ],
   "source": [
    "def homogeneity(df):\n",
    "    total_count = df['count'].sum()\n",
    "    if total_count < 15:\n",
    "        return None\n",
    "    cumulative_count = df.sort_values('salary_high')['count'].cumsum()\n",
    "    return pd.DataFrame([{\n",
    "        'min': df[cumulative_count <= 0.2 * total_count].salary_low.max(),\n",
    "        'median': df[cumulative_count <= 0.5 * total_count].salary_low.max(),\n",
    "        'max': df[cumulative_count <= 0.8 * total_count].salary_high.max(),\n",
    "\n",
    "        # First metric we define: strangeness as:\n",
    "        # (max - median) / (1000 + median - min)\n",
    "        'strangeness': (df[cumulative_count <= 0.8 * total_count].salary_high.max()-df[cumulative_count <= 0.5 * total_count].salary_low.max()) / (500 + df[cumulative_count <= 0.5 * total_count].salary_low.max()-df[cumulative_count <= 0.2 * total_count].salary_low.max()),\n",
    "\n",
    "        # Second metric we define: homogeneity as:\n",
    "        # median / (max - min)\n",
    "        'homogeneity': df[cumulative_count <= 0.5 * total_count].salary_low.max() / (df[cumulative_count <= 0.8 * total_count].salary_high.max()-df[cumulative_count <= 0.2 * total_count].salary_low.max()) \n",
    "    }])\n",
    "    \n",
    "salarie_sum = reasonable_salaries.groupby(['code_rome', 'salary_low', 'salary_high']).sum().reset_index()\n",
    "salaries_stats = salarie_sum.groupby('code_rome').apply(homogeneity).reset_index().set_index('code_rome')\n",
    "salaries_stats['job_group_name'] = job_groups\n",
    "salaries_stats = salaries_stats[['job_group_name', 'min', 'median', 'max', 'homogeneity', 'strangeness']]\n",
    "salaries_stats.sort_values('homogeneity').head(10)"
   ]
  },
  {
   "cell_type": "markdown",
   "metadata": {},
   "source": [
    "Unfortunately, even for low homogeneity, it seems that we have groups where the job is the same but salaries vary a lot. Let's see with the other metric \"strangeness\":"
   ]
  },
  {
   "cell_type": "code",
   "execution_count": 17,
   "metadata": {
    "collapsed": false
   },
   "outputs": [
    {
     "data": {
      "text/html": [
       "<div>\n",
       "<table border=\"1\" class=\"dataframe\">\n",
       "  <thead>\n",
       "    <tr style=\"text-align: right;\">\n",
       "      <th></th>\n",
       "      <th>job_group_name</th>\n",
       "      <th>min</th>\n",
       "      <th>median</th>\n",
       "      <th>max</th>\n",
       "      <th>homogeneity</th>\n",
       "      <th>strangeness</th>\n",
       "    </tr>\n",
       "    <tr>\n",
       "      <th>code_rome</th>\n",
       "      <th></th>\n",
       "      <th></th>\n",
       "      <th></th>\n",
       "      <th></th>\n",
       "      <th></th>\n",
       "      <th></th>\n",
       "    </tr>\n",
       "  </thead>\n",
       "  <tbody>\n",
       "    <tr>\n",
       "      <th>G1605</th>\n",
       "      <td>Plonge en restauration</td>\n",
       "      <td>17000.0</td>\n",
       "      <td>17300</td>\n",
       "      <td>17500</td>\n",
       "      <td>34.600000</td>\n",
       "      <td>0.250000</td>\n",
       "    </tr>\n",
       "    <tr>\n",
       "      <th>D1505</th>\n",
       "      <td>Personnel de caisse</td>\n",
       "      <td>17000.0</td>\n",
       "      <td>17300</td>\n",
       "      <td>17500</td>\n",
       "      <td>34.600000</td>\n",
       "      <td>0.250000</td>\n",
       "    </tr>\n",
       "    <tr>\n",
       "      <th>A1409</th>\n",
       "      <td>Élevage de lapins et volailles</td>\n",
       "      <td>17100.0</td>\n",
       "      <td>17300</td>\n",
       "      <td>17600</td>\n",
       "      <td>34.600000</td>\n",
       "      <td>0.428571</td>\n",
       "    </tr>\n",
       "    <tr>\n",
       "      <th>K1303</th>\n",
       "      <td>Assistance auprès d'enfants</td>\n",
       "      <td>17000.0</td>\n",
       "      <td>17300</td>\n",
       "      <td>17500</td>\n",
       "      <td>34.600000</td>\n",
       "      <td>0.250000</td>\n",
       "    </tr>\n",
       "    <tr>\n",
       "      <th>K1304</th>\n",
       "      <td>Services domestiques</td>\n",
       "      <td>17000.0</td>\n",
       "      <td>17300</td>\n",
       "      <td>17400</td>\n",
       "      <td>43.250000</td>\n",
       "      <td>0.125000</td>\n",
       "    </tr>\n",
       "    <tr>\n",
       "      <th>J1301</th>\n",
       "      <td>Personnel polyvalent des services hospitaliers</td>\n",
       "      <td>17100.0</td>\n",
       "      <td>17300</td>\n",
       "      <td>17500</td>\n",
       "      <td>43.250000</td>\n",
       "      <td>0.285714</td>\n",
       "    </tr>\n",
       "    <tr>\n",
       "      <th>K2204</th>\n",
       "      <td>Nettoyage de locaux</td>\n",
       "      <td>17000.0</td>\n",
       "      <td>17300</td>\n",
       "      <td>17400</td>\n",
       "      <td>43.250000</td>\n",
       "      <td>0.125000</td>\n",
       "    </tr>\n",
       "    <tr>\n",
       "      <th>D1507</th>\n",
       "      <td>Mise en rayon libre-service</td>\n",
       "      <td>17200.0</td>\n",
       "      <td>17300</td>\n",
       "      <td>17500</td>\n",
       "      <td>57.666667</td>\n",
       "      <td>0.333333</td>\n",
       "    </tr>\n",
       "    <tr>\n",
       "      <th>A1402</th>\n",
       "      <td>Aide agricole de production légumière ou végétale</td>\n",
       "      <td>17200.0</td>\n",
       "      <td>17300</td>\n",
       "      <td>17400</td>\n",
       "      <td>86.500000</td>\n",
       "      <td>0.166667</td>\n",
       "    </tr>\n",
       "    <tr>\n",
       "      <th>H2413</th>\n",
       "      <td>Préparation de fils, montage de métiers textiles</td>\n",
       "      <td>NaN</td>\n",
       "      <td>18000</td>\n",
       "      <td>23200</td>\n",
       "      <td>NaN</td>\n",
       "      <td>NaN</td>\n",
       "    </tr>\n",
       "  </tbody>\n",
       "</table>\n",
       "</div>"
      ],
      "text/plain": [
       "                                              job_group_name      min  median  \\\n",
       "code_rome                                                                       \n",
       "G1605                                 Plonge en restauration  17000.0   17300   \n",
       "D1505                                    Personnel de caisse  17000.0   17300   \n",
       "A1409                         Élevage de lapins et volailles  17100.0   17300   \n",
       "K1303                            Assistance auprès d'enfants  17000.0   17300   \n",
       "K1304                                   Services domestiques  17000.0   17300   \n",
       "J1301         Personnel polyvalent des services hospitaliers  17100.0   17300   \n",
       "K2204                                    Nettoyage de locaux  17000.0   17300   \n",
       "D1507                            Mise en rayon libre-service  17200.0   17300   \n",
       "A1402      Aide agricole de production légumière ou végétale  17200.0   17300   \n",
       "H2413       Préparation de fils, montage de métiers textiles      NaN   18000   \n",
       "\n",
       "             max  homogeneity  strangeness  \n",
       "code_rome                                   \n",
       "G1605      17500    34.600000     0.250000  \n",
       "D1505      17500    34.600000     0.250000  \n",
       "A1409      17600    34.600000     0.428571  \n",
       "K1303      17500    34.600000     0.250000  \n",
       "K1304      17400    43.250000     0.125000  \n",
       "J1301      17500    43.250000     0.285714  \n",
       "K2204      17400    43.250000     0.125000  \n",
       "D1507      17500    57.666667     0.333333  \n",
       "A1402      17400    86.500000     0.166667  \n",
       "H2413      23200          NaN          NaN  "
      ]
     },
     "execution_count": 17,
     "metadata": {},
     "output_type": "execute_result"
    }
   ],
   "source": [
    "salaries_stats.sort_values('homogeneity').tail(10)"
   ]
  },
  {
   "cell_type": "markdown",
   "metadata": {},
   "source": [
    "Unfortunately, even for high strangeness, it seems that we have groups where the job is the same but salaries vary a lot. "
   ]
  },
  {
   "cell_type": "markdown",
   "metadata": {},
   "source": [
    "Each time the jobs with high strangeness and low homogeneity are the ones that just have very variable salaries, like CEO, Ostéopathie, Mannequinat et pose artistique, Trésorerie et financement, Études actuarielles en assurances.\n",
    "\n",
    "Those are the same jobs, but have very dissimilar salaries.\n",
    "\n",
    "So we can't use this metric for discovery non-homogenous group, and we'll drop it from the analysis.\n"
   ]
  },
  {
   "cell_type": "markdown",
   "metadata": {},
   "source": [
    "## Stats summary\n",
    "\n",
    "Let's see what the percentage of homogenous groups according to each metric:"
   ]
  },
  {
   "cell_type": "code",
   "execution_count": 18,
   "metadata": {
    "collapsed": false
   },
   "outputs": [
    {
     "name": "stdout",
     "output_type": "stream",
     "text": [
      "Percentage of homogenous according to inlinks = 60.08%\n",
      "Percentage of homogenous according to outlinks = 84.93%\n",
      "Percentage of homogenous according to the FAP = 62.15%\n"
     ]
    }
   ],
   "source": [
    "def pretty_percentage(number):\n",
    "    return '%.2f%%' % (number * 100)\n",
    "\n",
    "nb_groups = job_groups.count()\n",
    "\n",
    "print ('Percentage of homogenous according to inlinks = ' + pretty_percentage(homogenous_according_to_inlink.sum() / nb_groups))\n",
    "print ('Percentage of homogenous according to outlinks = ' + pretty_percentage(homogenous_according_to_outlink.sum() / nb_groups))\n",
    "print ('Percentage of homogenous according to the FAP = ' + pretty_percentage(homogenous_according_to_fap.sum() / nb_groups))"
   ]
  },
  {
   "cell_type": "markdown",
   "metadata": {},
   "source": [
    "We see that most groups are homogenous, let's now check the intersection."
   ]
  },
  {
   "cell_type": "markdown",
   "metadata": {},
   "source": [
    "## Intersection metrics\n",
    "\n",
    "In order to find an \"homogeneity\" metric that has a decent precision and recall, we propose to look at the intersection between the different metrics we defined above."
   ]
  },
  {
   "cell_type": "code",
   "execution_count": 19,
   "metadata": {
    "collapsed": false
   },
   "outputs": [
    {
     "name": "stdout",
     "output_type": "stream",
     "text": [
      "Number of homogenous groups using inlinks and outlinks = 55.74%\n",
      "Number of homogenous groups using inlinks and fap = 36.53%\n",
      "Number of homogenous groups using outlinks and fap = 53.48%\n",
      "Number of homogenous groups using in/outlinks + fap = 34.09%\n"
     ]
    }
   ],
   "source": [
    "# Combining all the homogenous metrics we obtained.\n",
    "homogenous_groups_inlink_outlink = homogenous_according_to_outlink & homogenous_according_to_inlink\n",
    "homogenous_groups_inlink_fap = homogenous_according_to_inlink & homogenous_according_to_fap\n",
    "homogenous_groups_outlink_fap = homogenous_according_to_outlink & homogenous_according_to_fap\n",
    "homogenous_groups_inlink_outlink_fap = homogenous_according_to_outlink & homogenous_according_to_fap & homogenous_groups_inlink_fap\n",
    "homogenous_groups_inlink_outlink_fap.name = 'homogenous'\n",
    "antigenous_groups_inlink_outlink_fap = ~homogenous_according_to_outlink & ~homogenous_according_to_fap & ~homogenous_groups_inlink_fap\n",
    "antigenous_groups_inlink_outlink_fap.name = 'antigenous'\n",
    "\n",
    "print('Number of homogenous groups using inlinks and outlinks = ' + pretty_percentage(homogenous_groups_inlink_outlink.sum() / nb_groups))\n",
    "print('Number of homogenous groups using inlinks and fap = ' + pretty_percentage(homogenous_groups_inlink_fap.sum() / nb_groups))\n",
    "print('Number of homogenous groups using outlinks and fap = ' + pretty_percentage(homogenous_groups_outlink_fap.sum() / nb_groups))\n",
    "print('Number of homogenous groups using in/outlinks + fap = ' + pretty_percentage(homogenous_groups_inlink_outlink_fap.sum() / nb_groups))"
   ]
  },
  {
   "cell_type": "markdown",
   "metadata": {},
   "source": [
    "Examples of homogenous groups:"
   ]
  },
  {
   "cell_type": "code",
   "execution_count": 20,
   "metadata": {
    "collapsed": false,
    "scrolled": true
   },
   "outputs": [
    {
     "data": {
      "text/html": [
       "<div>\n",
       "<table border=\"1\" class=\"dataframe\">\n",
       "  <thead>\n",
       "    <tr style=\"text-align: right;\">\n",
       "      <th></th>\n",
       "      <th>homogenous</th>\n",
       "      <th>name</th>\n",
       "    </tr>\n",
       "    <tr>\n",
       "      <th>code_rome</th>\n",
       "      <th></th>\n",
       "      <th></th>\n",
       "    </tr>\n",
       "  </thead>\n",
       "  <tbody>\n",
       "    <tr>\n",
       "      <th>D1301</th>\n",
       "      <td>True</td>\n",
       "      <td>Management de magasin de détail</td>\n",
       "    </tr>\n",
       "    <tr>\n",
       "      <th>A1205</th>\n",
       "      <td>True</td>\n",
       "      <td>Sylviculture</td>\n",
       "    </tr>\n",
       "    <tr>\n",
       "      <th>D1504</th>\n",
       "      <td>True</td>\n",
       "      <td>Direction de magasin de grande distribution</td>\n",
       "    </tr>\n",
       "    <tr>\n",
       "      <th>D1508</th>\n",
       "      <td>True</td>\n",
       "      <td>Encadrement du personnel de caisses</td>\n",
       "    </tr>\n",
       "    <tr>\n",
       "      <th>D1509</th>\n",
       "      <td>True</td>\n",
       "      <td>Management de département en grande distribution</td>\n",
       "    </tr>\n",
       "    <tr>\n",
       "      <th>E1105</th>\n",
       "      <td>True</td>\n",
       "      <td>Coordination d'édition</td>\n",
       "    </tr>\n",
       "    <tr>\n",
       "      <th>E1201</th>\n",
       "      <td>True</td>\n",
       "      <td>Photographie</td>\n",
       "    </tr>\n",
       "    <tr>\n",
       "      <th>E1204</th>\n",
       "      <td>True</td>\n",
       "      <td>Projection cinéma</td>\n",
       "    </tr>\n",
       "    <tr>\n",
       "      <th>E1303</th>\n",
       "      <td>True</td>\n",
       "      <td>Encadrement des industries graphiques</td>\n",
       "    </tr>\n",
       "    <tr>\n",
       "      <th>E1308</th>\n",
       "      <td>True</td>\n",
       "      <td>Intervention technique en industrie graphique</td>\n",
       "    </tr>\n",
       "  </tbody>\n",
       "</table>\n",
       "</div>"
      ],
      "text/plain": [
       "          homogenous                                              name\n",
       "code_rome                                                             \n",
       "D1301           True                   Management de magasin de détail\n",
       "A1205           True                                      Sylviculture\n",
       "D1504           True       Direction de magasin de grande distribution\n",
       "D1508           True               Encadrement du personnel de caisses\n",
       "D1509           True  Management de département en grande distribution\n",
       "E1105           True                            Coordination d'édition\n",
       "E1201           True                                      Photographie\n",
       "E1204           True                                 Projection cinéma\n",
       "E1303           True             Encadrement des industries graphiques\n",
       "E1308           True     Intervention technique en industrie graphique"
      ]
     },
     "execution_count": 20,
     "metadata": {},
     "output_type": "execute_result"
    }
   ],
   "source": [
    "homogenous = homogenous_groups_inlink_outlink_fap.to_frame().join(job_groups)\n",
    "homogenous[homogenous.homogenous].head(10)"
   ]
  },
  {
   "cell_type": "markdown",
   "metadata": {},
   "source": [
    "Example of the most non-homogenous groups:"
   ]
  },
  {
   "cell_type": "code",
   "execution_count": 21,
   "metadata": {
    "collapsed": false
   },
   "outputs": [
    {
     "data": {
      "text/html": [
       "<div>\n",
       "<table border=\"1\" class=\"dataframe\">\n",
       "  <thead>\n",
       "    <tr style=\"text-align: right;\">\n",
       "      <th></th>\n",
       "      <th>antigenous</th>\n",
       "      <th>name</th>\n",
       "    </tr>\n",
       "    <tr>\n",
       "      <th>code_rome</th>\n",
       "      <th></th>\n",
       "      <th></th>\n",
       "    </tr>\n",
       "  </thead>\n",
       "  <tbody>\n",
       "    <tr>\n",
       "      <th>F1102</th>\n",
       "      <td>True</td>\n",
       "      <td>Conception - aménagement d'espaces intérieurs</td>\n",
       "    </tr>\n",
       "    <tr>\n",
       "      <th>F1604</th>\n",
       "      <td>True</td>\n",
       "      <td>Montage d'agencements</td>\n",
       "    </tr>\n",
       "    <tr>\n",
       "      <th>F1606</th>\n",
       "      <td>True</td>\n",
       "      <td>Peinture en bâtiment</td>\n",
       "    </tr>\n",
       "    <tr>\n",
       "      <th>F1608</th>\n",
       "      <td>True</td>\n",
       "      <td>Pose de revêtements rigides</td>\n",
       "    </tr>\n",
       "    <tr>\n",
       "      <th>F1610</th>\n",
       "      <td>True</td>\n",
       "      <td>Pose et restauration de couvertures</td>\n",
       "    </tr>\n",
       "    <tr>\n",
       "      <th>F1702</th>\n",
       "      <td>True</td>\n",
       "      <td>Construction de routes et voies</td>\n",
       "    </tr>\n",
       "    <tr>\n",
       "      <th>F1705</th>\n",
       "      <td>True</td>\n",
       "      <td>Pose de canalisations</td>\n",
       "    </tr>\n",
       "    <tr>\n",
       "      <th>F1706</th>\n",
       "      <td>True</td>\n",
       "      <td>Préfabrication en béton industriel</td>\n",
       "    </tr>\n",
       "    <tr>\n",
       "      <th>H2102</th>\n",
       "      <td>True</td>\n",
       "      <td>Conduite d'équipement de production alimentaire</td>\n",
       "    </tr>\n",
       "    <tr>\n",
       "      <th>H2201</th>\n",
       "      <td>True</td>\n",
       "      <td>Assemblage d'ouvrages en bois</td>\n",
       "    </tr>\n",
       "  </tbody>\n",
       "</table>\n",
       "</div>"
      ],
      "text/plain": [
       "          antigenous                                             name\n",
       "code_rome                                                            \n",
       "F1102           True    Conception - aménagement d'espaces intérieurs\n",
       "F1604           True                            Montage d'agencements\n",
       "F1606           True                             Peinture en bâtiment\n",
       "F1608           True                      Pose de revêtements rigides\n",
       "F1610           True              Pose et restauration de couvertures\n",
       "F1702           True                  Construction de routes et voies\n",
       "F1705           True                            Pose de canalisations\n",
       "F1706           True               Préfabrication en béton industriel\n",
       "H2102           True  Conduite d'équipement de production alimentaire\n",
       "H2201           True                    Assemblage d'ouvrages en bois"
      ]
     },
     "execution_count": 21,
     "metadata": {},
     "output_type": "execute_result"
    }
   ],
   "source": [
    "antigenous = antigenous_groups_inlink_outlink_fap.to_frame().join(job_groups)\n",
    "antigenous[antigenous.antigenous].head(10)"
   ]
  },
  {
   "cell_type": "markdown",
   "metadata": {},
   "source": [
    "Using the intersection of inlinks, outlinks and FAP seems to be a good compromise between precision and recall.\n",
    "\n",
    "\n",
    "## Homogenous groups coverage\n",
    "\n",
    "We are going to look at the size of homogenous groups to see if they cover a lot of jobseekers or not."
   ]
  },
  {
   "cell_type": "code",
   "execution_count": 22,
   "metadata": {
    "collapsed": false
   },
   "outputs": [
    {
     "name": "stdout",
     "output_type": "stream",
     "text": [
      "Percentage of users in homogenous groups: 38.10%\n"
     ]
    }
   ],
   "source": [
    "job_seekers_count = salaries.groupby(['code_rome'])['count'].sum()\n",
    "job_seekers_count.name = 'job_seekers'\n",
    "job_seekers_count = job_seekers_count.to_frame().join(homogenous)\n",
    "\n",
    "nb_seekers = job_seekers_count['job_seekers'].sum()\n",
    "nb_homogenous_seekers = job_seekers_count[job_seekers_count.homogenous]['job_seekers'].sum()\n",
    "\n",
    "print(\"Percentage of users in homogenous groups: \" + pretty_percentage(nb_homogenous_seekers/nb_seekers))"
   ]
  },
  {
   "cell_type": "code",
   "execution_count": 23,
   "metadata": {
    "collapsed": false
   },
   "outputs": [
    {
     "name": "stdout",
     "output_type": "stream",
     "text": [
      "Average percentage of seekers per homogenous group: 0.21%\n"
     ]
    }
   ],
   "source": [
    "nb_homogenous_groups = len(job_seekers_count[job_seekers_count.homogenous]['job_seekers'])\n",
    "\n",
    "print(\"Average percentage of seekers per homogenous group: \" + pretty_percentage(nb_homogenous_seekers / (nb_homogenous_groups * nb_seekers)))"
   ]
  },
  {
   "cell_type": "code",
   "execution_count": 24,
   "metadata": {
    "collapsed": false
   },
   "outputs": [
    {
     "name": "stdout",
     "output_type": "stream",
     "text": [
      "Average percentage of seekers per homogenous group: 0.18%\n"
     ]
    }
   ],
   "source": [
    "nb_non_homogenous_seekers = nb_seekers - nb_homogenous_seekers\n",
    "nb_non_homogenous_groups = nb_groups - nb_homogenous_groups\n",
    "\n",
    "print(\"Average percentage of seekers per homogenous group: \" + pretty_percentage(nb_non_homogenous_seekers / (nb_non_homogenous_groups * nb_seekers)))"
   ]
  },
  {
   "cell_type": "code",
   "execution_count": 25,
   "metadata": {
    "collapsed": false
   },
   "outputs": [
    {
     "name": "stdout",
     "output_type": "stream",
     "text": [
      "Relative size of homogenous groups compared to non-homogenous groups: 112.39%\n"
     ]
    }
   ],
   "source": [
    "seekers_per_group = nb_seekers / float(nb_groups)\n",
    "seekers_per_homogenous_group = nb_homogenous_seekers / float(nb_homogenous_groups)\n",
    "size_ratio = seekers_per_homogenous_group / seekers_per_group\n",
    "\n",
    "print(\"Relative size of homogenous groups compared to non-homogenous groups: \" + pretty_percentage(size_ratio))"
   ]
  },
  {
   "cell_type": "markdown",
   "metadata": {},
   "source": [
    "There are more people in homogenous groups than non homogenous groups."
   ]
  },
  {
   "cell_type": "markdown",
   "metadata": {},
   "source": [
    "# Conclusions\n",
    "\n",
    "* Salary does not give a good information on the homogeneity of a job group. It could be used if we want super homogenous groups with high precision low recall.\n",
    "\n",
    "* There are relatively small overlaps between homogeneity metrics (around 25%)\n",
    "\n",
    "* Combining in/outlinks + FAP we find 34% of job groups that are homogenous, for instance \"Management de magasin de détail\", \"sylviculture\". Some of the most antigenous groups according to those metrics are \"Conception - aménagement d'espaces intérieurs\" and \"Montage d'agencements\"\n",
    "\n",
    "* Surprisingly, homogenous groups cover more people than the average group\n",
    "\n",
    "\n",
    "## Further work:\n",
    "\n",
    "- If we want more precision on homogeneity at the expense of recall, we can take into account salaries that are very homogenous.\n",
    "- Make the intersection of different heuristics a venn diagrams\n",
    "- upload the inlink/outlinks/FAP/salaries to the AirTable\n",
    "- do some manual evaluation of groups to see how homogenous they are"
   ]
  },
  {
   "cell_type": "code",
   "execution_count": null,
   "metadata": {
    "collapsed": true
   },
   "outputs": [],
   "source": []
  }
 ],
 "metadata": {
  "kernelspec": {
   "display_name": "Python 3",
   "language": "python",
   "name": "python3"
  },
  "language_info": {
   "codemirror_mode": {
    "name": "ipython",
    "version": 3
   },
   "file_extension": ".py",
   "mimetype": "text/x-python",
   "name": "python",
   "nbconvert_exporter": "python",
   "pygments_lexer": "ipython3",
   "version": "3.5.2"
  }
 },
 "nbformat": 4,
 "nbformat_minor": 0
}
