{
 "cells": [
  {
   "cell_type": "markdown",
   "metadata": {},
   "source": [
    "Author: Pascal, `pascal@bayesimpact.org`\n",
    "\n",
    "Date: 2016-04-26\n",
    "\n",
    "Skip the run test because the ROME version has to be updated to make it work in the exported repository. TODO: Update ROME and remove the `skiptest` flag.\n",
    "\n",
    "    \n",
    "# ROME mobility\n",
    "\n",
    "The ROME dataset contains links between ROME job groups, it is called \"mobilité\" (mobility in French) as this is used to tell job seekers to which other jobs they could move.\n",
    "\n",
    "This notebook does a sanity check on this table, before we use it in our product."
   ]
  },
  {
   "cell_type": "code",
   "execution_count": 1,
   "metadata": {
    "collapsed": false
   },
   "outputs": [],
   "source": [
    "from os import path\n",
    "import pandas\n",
    "import seaborn as _\n",
    "%matplotlib inline\n",
    "\n",
    "rome_version = 'v329'\n",
    "data_folder = '../../../data'\n",
    "rome_folder = path.join(data_folder, 'rome/csv')\n",
    "mobility_csv = path.join(rome_folder, 'unix_rubrique_mobilite_%s_utf8.csv' % rome_version)\n",
    "rome_csv = path.join(rome_folder, 'unix_referentiel_code_rome_%s_utf8.csv' % rome_version)\n",
    "appellation_csv = path.join(rome_folder, 'unix_referentiel_appellation_%s_utf8.csv' % rome_version)\n",
    "\n",
    "mobility = pandas.read_csv(mobility_csv)\n",
    "rome = pandas.read_csv(rome_csv)[['code_rome', 'libelle_rome']]\n",
    "rome_names = rome.groupby('code_rome').first()['libelle_rome']\n",
    "jobs = pandas.read_csv(appellation_csv)[['code_ogr', 'code_rome', 'libelle_appellation_court']]\n",
    "jobs_names = jobs.groupby('code_ogr').first()['libelle_appellation_court']"
   ]
  },
  {
   "cell_type": "markdown",
   "metadata": {},
   "source": [
    "## First Look\n",
    "Let's first check how it looks like:"
   ]
  },
  {
   "cell_type": "code",
   "execution_count": 2,
   "metadata": {
    "collapsed": false
   },
   "outputs": [
    {
     "data": {
      "text/html": [
       "<div>\n",
       "<table border=\"1\" class=\"dataframe\">\n",
       "  <thead>\n",
       "    <tr style=\"text-align: right;\">\n",
       "      <th></th>\n",
       "      <th>0</th>\n",
       "      <th>1</th>\n",
       "    </tr>\n",
       "  </thead>\n",
       "  <tbody>\n",
       "    <tr>\n",
       "      <th>code_rome</th>\n",
       "      <td>A1101</td>\n",
       "      <td>A1202</td>\n",
       "    </tr>\n",
       "    <tr>\n",
       "      <th>code_rome_cible</th>\n",
       "      <td>A1416</td>\n",
       "      <td>A1203</td>\n",
       "    </tr>\n",
       "    <tr>\n",
       "      <th>code_appellation_source</th>\n",
       "      <td>NaN</td>\n",
       "      <td>NaN</td>\n",
       "    </tr>\n",
       "    <tr>\n",
       "      <th>code_appellation_cible</th>\n",
       "      <td>NaN</td>\n",
       "      <td>NaN</td>\n",
       "    </tr>\n",
       "    <tr>\n",
       "      <th>code_type_mobilite</th>\n",
       "      <td>1</td>\n",
       "      <td>1</td>\n",
       "    </tr>\n",
       "    <tr>\n",
       "      <th>libelle_type_mobilite</th>\n",
       "      <td>Proche</td>\n",
       "      <td>Proche</td>\n",
       "    </tr>\n",
       "  </tbody>\n",
       "</table>\n",
       "</div>"
      ],
      "text/plain": [
       "                              0       1\n",
       "code_rome                 A1101   A1202\n",
       "code_rome_cible           A1416   A1203\n",
       "code_appellation_source     NaN     NaN\n",
       "code_appellation_cible      NaN     NaN\n",
       "code_type_mobilite            1       1\n",
       "libelle_type_mobilite    Proche  Proche"
      ]
     },
     "execution_count": 2,
     "metadata": {},
     "output_type": "execute_result"
    }
   ],
   "source": [
    "mobility.head(2).transpose()"
   ]
  },
  {
   "cell_type": "code",
   "execution_count": 3,
   "metadata": {
    "collapsed": false
   },
   "outputs": [
    {
     "data": {
      "text/plain": [
       "code_rome                  4210\n",
       "code_rome_cible            4210\n",
       "code_appellation_source     223\n",
       "code_appellation_cible      761\n",
       "code_type_mobilite         4210\n",
       "libelle_type_mobilite      4210\n",
       "dtype: int64"
      ]
     },
     "execution_count": 3,
     "metadata": {},
     "output_type": "execute_result"
    }
   ],
   "source": [
    "mobility.count()"
   ]
  },
  {
   "cell_type": "code",
   "execution_count": 4,
   "metadata": {
    "collapsed": false
   },
   "outputs": [
    {
     "data": {
      "text/html": [
       "<div>\n",
       "<table border=\"1\" class=\"dataframe\">\n",
       "  <thead>\n",
       "    <tr style=\"text-align: right;\">\n",
       "      <th></th>\n",
       "      <th>38</th>\n",
       "      <th>80</th>\n",
       "    </tr>\n",
       "  </thead>\n",
       "  <tbody>\n",
       "    <tr>\n",
       "      <th>code_rome</th>\n",
       "      <td>A1413</td>\n",
       "      <td>B1303</td>\n",
       "    </tr>\n",
       "    <tr>\n",
       "      <th>code_rome_cible</th>\n",
       "      <td>D1501</td>\n",
       "      <td>B1603</td>\n",
       "    </tr>\n",
       "    <tr>\n",
       "      <th>code_appellation_source</th>\n",
       "      <td>17010</td>\n",
       "      <td>15405</td>\n",
       "    </tr>\n",
       "    <tr>\n",
       "      <th>code_appellation_cible</th>\n",
       "      <td>NaN</td>\n",
       "      <td>15415</td>\n",
       "    </tr>\n",
       "    <tr>\n",
       "      <th>code_type_mobilite</th>\n",
       "      <td>1</td>\n",
       "      <td>1</td>\n",
       "    </tr>\n",
       "    <tr>\n",
       "      <th>libelle_type_mobilite</th>\n",
       "      <td>Proche</td>\n",
       "      <td>Proche</td>\n",
       "    </tr>\n",
       "  </tbody>\n",
       "</table>\n",
       "</div>"
      ],
      "text/plain": [
       "                             38      80\n",
       "code_rome                 A1413   B1303\n",
       "code_rome_cible           D1501   B1603\n",
       "code_appellation_source   17010   15405\n",
       "code_appellation_cible      NaN   15415\n",
       "code_type_mobilite            1       1\n",
       "libelle_type_mobilite    Proche  Proche"
      ]
     },
     "execution_count": 4,
     "metadata": {},
     "output_type": "execute_result"
    }
   ],
   "source": [
    "mobility[mobility.code_appellation_source.notnull()].head(2).transpose()"
   ]
  },
  {
   "cell_type": "markdown",
   "metadata": {},
   "source": [
    "It seems pretty straight forward: it's a list of links from a job group (or a specific job) to another (group or specific job). So let's clean up a bit and add names."
   ]
  },
  {
   "cell_type": "code",
   "execution_count": 5,
   "metadata": {
    "collapsed": false
   },
   "outputs": [
    {
     "data": {
      "text/html": [
       "<div>\n",
       "<table border=\"1\" class=\"dataframe\">\n",
       "  <thead>\n",
       "    <tr style=\"text-align: right;\">\n",
       "      <th></th>\n",
       "      <th>0</th>\n",
       "      <th>1</th>\n",
       "    </tr>\n",
       "  </thead>\n",
       "  <tbody>\n",
       "    <tr>\n",
       "      <th>group_source</th>\n",
       "      <td>A1101</td>\n",
       "      <td>A1202</td>\n",
       "    </tr>\n",
       "    <tr>\n",
       "      <th>group_source_name</th>\n",
       "      <td>Conduite d''engins agricoles et forestiers</td>\n",
       "      <td>Entretien des espaces naturels</td>\n",
       "    </tr>\n",
       "    <tr>\n",
       "      <th>job_source</th>\n",
       "      <td>NaN</td>\n",
       "      <td>NaN</td>\n",
       "    </tr>\n",
       "    <tr>\n",
       "      <th>job_source_name</th>\n",
       "      <td>NaN</td>\n",
       "      <td>NaN</td>\n",
       "    </tr>\n",
       "    <tr>\n",
       "      <th>group_target</th>\n",
       "      <td>A1416</td>\n",
       "      <td>A1203</td>\n",
       "    </tr>\n",
       "    <tr>\n",
       "      <th>group_target_name</th>\n",
       "      <td>Polyculture, élevage</td>\n",
       "      <td>Entretien des espaces verts</td>\n",
       "    </tr>\n",
       "    <tr>\n",
       "      <th>job_target</th>\n",
       "      <td>NaN</td>\n",
       "      <td>NaN</td>\n",
       "    </tr>\n",
       "    <tr>\n",
       "      <th>job_target_name</th>\n",
       "      <td>NaN</td>\n",
       "      <td>NaN</td>\n",
       "    </tr>\n",
       "    <tr>\n",
       "      <th>code_type_mobilite</th>\n",
       "      <td>1</td>\n",
       "      <td>1</td>\n",
       "    </tr>\n",
       "    <tr>\n",
       "      <th>libelle_type_mobilite</th>\n",
       "      <td>Proche</td>\n",
       "      <td>Proche</td>\n",
       "    </tr>\n",
       "  </tbody>\n",
       "</table>\n",
       "</div>"
      ],
      "text/plain": [
       "                                                                0  \\\n",
       "group_source                                                A1101   \n",
       "group_source_name      Conduite d''engins agricoles et forestiers   \n",
       "job_source                                                    NaN   \n",
       "job_source_name                                               NaN   \n",
       "group_target                                                A1416   \n",
       "group_target_name                            Polyculture, élevage   \n",
       "job_target                                                    NaN   \n",
       "job_target_name                                               NaN   \n",
       "code_type_mobilite                                              1   \n",
       "libelle_type_mobilite                                      Proche   \n",
       "\n",
       "                                                    1  \n",
       "group_source                                    A1202  \n",
       "group_source_name      Entretien des espaces naturels  \n",
       "job_source                                        NaN  \n",
       "job_source_name                                   NaN  \n",
       "group_target                                    A1203  \n",
       "group_target_name         Entretien des espaces verts  \n",
       "job_target                                        NaN  \n",
       "job_target_name                                   NaN  \n",
       "code_type_mobilite                                  1  \n",
       "libelle_type_mobilite                          Proche  "
      ]
     },
     "execution_count": 5,
     "metadata": {},
     "output_type": "execute_result"
    }
   ],
   "source": [
    "# Rename columns.\n",
    "mobility.rename(columns={\n",
    "        'code_rome': 'group_source',\n",
    "        'code_appellation_source': 'job_source',\n",
    "        'code_rome_cible': 'group_target',\n",
    "        'code_appellation_cible': 'job_target',\n",
    "    }, inplace=True)\n",
    "\n",
    "# Add names.\n",
    "mobility['group_source_name'] = mobility['group_source'].map(rome_names)\n",
    "mobility['group_target_name'] = mobility['group_target'].map(rome_names)\n",
    "mobility['job_source_name'] = mobility['job_source'].map(jobs_names)\n",
    "mobility['job_target_name'] = mobility['job_target'].map(jobs_names)\n",
    "\n",
    "# Sort columns.\n",
    "mobility = mobility[[\n",
    "        'group_source', 'group_source_name', 'job_source', 'job_source_name',\n",
    "        'group_target', 'group_target_name', 'job_target', 'job_target_name',\n",
    "        'code_type_mobilite', 'libelle_type_mobilite'\n",
    "    ]]\n",
    "\n",
    "mobility.head(2).transpose()"
   ]
  },
  {
   "cell_type": "markdown",
   "metadata": {},
   "source": [
    "## Sanity\n",
    "\n",
    "Let's do some sanity checks:\n",
    "- Is there links from a job group to itself?\n",
    "- Is there duplicate links?\n",
    "- If there is a link from A to B, is there one from B to A?\n",
    "- When using specific jobs, is there also links from or to the job group?"
   ]
  },
  {
   "cell_type": "code",
   "execution_count": 6,
   "metadata": {
    "collapsed": false
   },
   "outputs": [
    {
     "data": {
      "text/plain": [
       "0"
      ]
     },
     "execution_count": 6,
     "metadata": {},
     "output_type": "execute_result"
    }
   ],
   "source": [
    "# Links from one job group to the same one.\n",
    "len(mobility[mobility.group_source == mobility.group_target].index)"
   ]
  },
  {
   "cell_type": "code",
   "execution_count": 7,
   "metadata": {
    "collapsed": false
   },
   "outputs": [
    {
     "data": {
      "text/plain": [
       "0"
      ]
     },
     "execution_count": 7,
     "metadata": {},
     "output_type": "execute_result"
    }
   ],
   "source": [
    "# Number of duplicate links.\n",
    "len(mobility.index) - len(mobility.drop_duplicates())"
   ]
  },
  {
   "cell_type": "code",
   "execution_count": 8,
   "metadata": {
    "collapsed": false
   },
   "outputs": [
    {
     "data": {
      "text/plain": [
       "0"
      ]
     },
     "execution_count": 8,
     "metadata": {},
     "output_type": "execute_result"
    }
   ],
   "source": [
    "# Number of duplicate links when we ignore the link types.\n",
    "len(mobility.index) - len(mobility.drop_duplicates([\n",
    "    'group_source', 'job_source', 'group_target', 'job_target']))"
   ]
  },
  {
   "cell_type": "code",
   "execution_count": 9,
   "metadata": {
    "collapsed": false
   },
   "outputs": [
    {
     "data": {
      "text/plain": [
       "'33.4916864608076%'"
      ]
     },
     "execution_count": 9,
     "metadata": {},
     "output_type": "execute_result"
    }
   ],
   "source": [
    "# Reverse links.\n",
    "two_links = pandas.merge(\n",
    "    mobility.fillna(''), mobility.fillna(''),\n",
    "    left_on=['group_target', 'job_target'],\n",
    "    right_on=['group_source', 'job_source'])\n",
    "str(len(two_links[\n",
    "        (two_links.group_source_x == two_links.group_target_y) &\n",
    "        (two_links.job_source_x == two_links.job_target_y)].index) / len(mobility.index) * 100) + '%'"
   ]
  },
  {
   "cell_type": "code",
   "execution_count": 10,
   "metadata": {
    "collapsed": false
   },
   "outputs": [
    {
     "data": {
      "text/plain": [
       "79"
      ]
     },
     "execution_count": 10,
     "metadata": {},
     "output_type": "execute_result"
    }
   ],
   "source": [
    "rome_froms = pandas.merge(\n",
    "    mobility[mobility.job_source.notnull()].drop_duplicates(['group_source', 'group_source_name']),\n",
    "    mobility[mobility.job_source.isnull()].drop_duplicates(['group_source', 'group_source_name']),\n",
    "    on=['group_source', 'group_source_name'], how='outer', suffixes=['_specific', '_group'])\n",
    "\n",
    "# Number of ROME job groups that have links both for the group and for at least one specific job.\n",
    "len(rome_froms[rome_froms.group_target_specific.notnull() & rome_froms.group_target_group.notnull()])"
   ]
  },
  {
   "cell_type": "code",
   "execution_count": 11,
   "metadata": {
    "collapsed": false
   },
   "outputs": [
    {
     "data": {
      "text/plain": [
       "['Collaboration juridique']"
      ]
     },
     "execution_count": 11,
     "metadata": {},
     "output_type": "execute_result"
    }
   ],
   "source": [
    "# ROME job groups that have only links for specific jobs and not for the group.\n",
    "rome_froms[rome_froms.group_target_group.isnull()]['group_source_name'].tolist()"
   ]
  },
  {
   "cell_type": "code",
   "execution_count": 12,
   "metadata": {
    "collapsed": false
   },
   "outputs": [
    {
     "data": {
      "text/plain": [
       "88"
      ]
     },
     "execution_count": 12,
     "metadata": {},
     "output_type": "execute_result"
    }
   ],
   "source": [
    "rome_froms = pandas.merge(\n",
    "    mobility[mobility.job_source.notnull()].drop_duplicates(['group_target', 'group_target_name']),\n",
    "    mobility[mobility.job_source.isnull()].drop_duplicates(['group_target', 'group_target_name']),\n",
    "    on=['group_target', 'group_target_name'], how='outer', suffixes=['_specific', '_group'])\n",
    "\n",
    "# Number of ROME job groups that have links both to the group and to at least one specific job.\n",
    "len(rome_froms[rome_froms.group_source_specific.notnull() & rome_froms.group_source_group.notnull()])"
   ]
  },
  {
   "cell_type": "code",
   "execution_count": 13,
   "metadata": {
    "collapsed": false
   },
   "outputs": [
    {
     "data": {
      "text/plain": [
       "['Image cinématographique et télévisuelle',\n",
       " 'Personnel technique des jeux',\n",
       " 'Pharmacie',\n",
       " 'Santé animale',\n",
       " 'Médecine dentaire',\n",
       " 'Intervention technique en formulation et analyse sensorielle']"
      ]
     },
     "execution_count": 13,
     "metadata": {},
     "output_type": "execute_result"
    }
   ],
   "source": [
    "# ROME job groups that have only links to specific jobs and not to the whole group.\n",
    "rome_froms[rome_froms.group_source_group.isnull()]['group_target_name'].tolist()"
   ]
  },
  {
   "cell_type": "code",
   "execution_count": 14,
   "metadata": {
    "collapsed": false
   },
   "outputs": [
    {
     "data": {
      "text/plain": [
       "0"
      ]
     },
     "execution_count": 14,
     "metadata": {},
     "output_type": "execute_result"
    }
   ],
   "source": [
    "# Number of links specific to jobs (as opposed to groups) that are already specified by group links.\n",
    "mobility['has_job_source'] = ~mobility.job_source.isnull()\n",
    "mobility['has_job_target'] = ~mobility.job_target.isnull()\n",
    "any_job_mobility = mobility.drop_duplicates(['group_source', 'has_job_source', 'group_target', 'has_job_target'])\n",
    "len(any_job_mobility) - len(any_job_mobility.drop_duplicates(['group_source', 'group_target']))"
   ]
  },
  {
   "cell_type": "markdown",
   "metadata": {},
   "source": [
    "So to summarize:\n",
    "* There are **no self** links from a job group to itself, or within a group.\n",
    "* There are **no duplicate** links (even with a different type).\n",
    "* 33% of links go both way: so it means that **direction is meaningful**.\n",
    "* When using specific jobs, in most cases there's also links concerning the whole job group; but for some rare cases it happens that there's nothing for the group.\n",
    "* However when there's a link to or from a specific job, there's never an equivalent group link that would encompass it.\n",
    "\n",
    "## Coverage\n",
    "\n",
    "Let's check how much of the ROME code is covered by links, more specifically: for a given job, how many mobility jobs and job groups are linked from it (either directly or because of its group)?"
   ]
  },
  {
   "cell_type": "code",
   "execution_count": 15,
   "metadata": {
    "collapsed": false
   },
   "outputs": [],
   "source": [
    "# In this snippet, we count # of links to groups & to specific jobs for each job.\n",
    "\n",
    "mobility_from_group = mobility[mobility.job_source.isnull()][['group_source', 'group_target', 'job_target']]\n",
    "# Count # of groups that are linked from each group.\n",
    "mobility_from_group['target_groups'] = (\n",
    "    mobility_from_group[mobility_from_group.job_target.isnull()]\n",
    "        .groupby('group_source')['group_source'].transform('count'))\n",
    "mobility_from_group['target_groups'].fillna(0, inplace=True)\n",
    "# Count # of specific jobs that are linked from each group.\n",
    "mobility_from_group['target_jobs'] = (\n",
    "    mobility_from_group[mobility_from_group.job_target.notnull()]\n",
    "        .groupby('group_source')['group_source'].transform('count'))\n",
    "mobility_from_group['target_jobs'].fillna(0, inplace=True)\n",
    "\n",
    "mobility_from_group = mobility_from_group.groupby('group_source', as_index=False).max()[\n",
    "    ['group_source', 'target_groups', 'target_jobs']]\n",
    "\n",
    "\n",
    "mobility_from_job = mobility[mobility.job_source.notnull()][['job_source', 'group_target', 'job_target']]\n",
    "# Count # of groups that are linked from each job.\n",
    "mobility_from_job['target_groups'] = (\n",
    "    mobility_from_job[mobility_from_job.job_target.isnull()]\n",
    "        .groupby('job_source')['job_source'].transform('count'))\n",
    "mobility_from_job['target_groups'].fillna(0, inplace=True)\n",
    "# Count # of jobs that are linked from each job.\n",
    "mobility_from_job['target_jobs'] = (\n",
    "    mobility_from_job[mobility_from_job.job_target.notnull()]\n",
    "        .groupby('job_source')['job_source'].transform('count'))\n",
    "mobility_from_job['target_jobs'].fillna(0, inplace=True)\n",
    "\n",
    "mobility_from_job = mobility_from_job.groupby('job_source', as_index=False).max()[\n",
    "    ['job_source', 'target_groups', 'target_jobs']]\n",
    "\n",
    "jobs_with_counts = pandas.merge(\n",
    "    jobs, mobility_from_group, left_on='code_rome', right_on='group_source', how='left')\n",
    "jobs_with_counts = pandas.merge(\n",
    "    jobs_with_counts, mobility_from_job, left_on='code_ogr', right_on='job_source', how='left')\n",
    "\n",
    "jobs_with_counts.fillna(0, inplace=True)\n",
    "jobs_with_counts['target_groups'] = jobs_with_counts.target_groups_x + jobs_with_counts.target_groups_y\n",
    "jobs_with_counts['target_jobs'] = jobs_with_counts.target_jobs_x + jobs_with_counts.target_jobs_y\n",
    "jobs_with_counts['total'] = jobs_with_counts['target_groups'] + jobs_with_counts['target_jobs']\n",
    "\n",
    "jobs_with_counts = jobs_with_counts[['code_ogr', 'libelle_appellation_court', 'target_groups', 'target_jobs', 'total']]"
   ]
  },
  {
   "cell_type": "code",
   "execution_count": 16,
   "metadata": {
    "collapsed": false
   },
   "outputs": [
    {
     "data": {
      "text/plain": [
       "['Assistant / Assistante de service juridique',\n",
       " 'Assistant notarial / Assistante notariale',\n",
       " 'Auxiliaire juridique',\n",
       " 'Clerc',\n",
       " 'Clerc assermenté',\n",
       " 'Clerc aux formalités',\n",
       " 'Clerc aux formalités de notaire',\n",
       " \"Clerc d''avocat\",\n",
       " 'Clerc de commissaire-priseur',\n",
       " \"Clerc d''huissier\",\n",
       " 'Clerc formaliste',\n",
       " 'Clerc hors rang',\n",
       " 'Clerc hors rang de notaire',\n",
       " 'Clerc rédacteur',\n",
       " 'Clerc significateur',\n",
       " \"Clerc significateur assermenté d''huissier\",\n",
       " \"Collaborateur(trice) d''huissier chargé(e) de recouvrement\",\n",
       " 'Greffier / Greffière',\n",
       " 'Greffier / Greffière en chef',\n",
       " 'Premier clerc',\n",
       " 'Principal clerc',\n",
       " 'Principal clerc adjoint',\n",
       " 'Principal clerc adjoint de notaire',\n",
       " \"Principal clerc d''avocat\",\n",
       " 'Principal clerc de commissaire-priseur',\n",
       " 'Principal clerc de notaire',\n",
       " \"Principal clerc d''huissier\",\n",
       " \"Sous-principal clerc d''avocat\",\n",
       " 'Sous-principal clerc de notaire',\n",
       " 'Formaliste']"
      ]
     },
     "execution_count": 16,
     "metadata": {},
     "output_type": "execute_result"
    }
   ],
   "source": [
    "# Jobs that don't have any links from them or from their group.\n",
    "jobs_with_counts[jobs_with_counts.total == 0]['libelle_appellation_court'].tolist()"
   ]
  },
  {
   "cell_type": "code",
   "execution_count": 17,
   "metadata": {
    "collapsed": false
   },
   "outputs": [
    {
     "data": {
      "text/plain": [
       "'85.4558742919788%'"
      ]
     },
     "execution_count": 17,
     "metadata": {},
     "output_type": "execute_result"
    },
    {
     "data": {
      "image/png": "[encoded data removed]",
      "text/plain": [
       "<matplotlib.figure.Figure at 0x7f1e53013a20>"
      ]
     },
     "metadata": {},
     "output_type": "display_data"
    }
   ],
   "source": [
    "jobs_with_counts.total.hist()\n",
    "str(len(jobs_with_counts.total[jobs_with_counts.total >= 5].index) / len(jobs_with_counts.index)*100) + '%'"
   ]
  },
  {
   "cell_type": "markdown",
   "metadata": {},
   "source": [
    "For each job, except for the ~30 jobs above in the law business, there is at least one link, and in most of the cases (85%) there are 5 or more."
   ]
  }
 ],
 "metadata": {
  "kernelspec": {
   "display_name": "Python 3",
   "language": "python",
   "name": "python3"
  },
  "language_info": {
   "codemirror_mode": {
    "name": "ipython",
    "version": 3
   },
   "file_extension": ".py",
   "mimetype": "text/x-python",
   "name": "python",
   "nbconvert_exporter": "python",
   "pygments_lexer": "ipython3",
   "version": "3.5.2"
  }
 },
 "nbformat": 4,
 "nbformat_minor": 0
}
